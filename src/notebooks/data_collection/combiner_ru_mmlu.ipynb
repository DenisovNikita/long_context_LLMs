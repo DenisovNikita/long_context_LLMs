{
 "cells": [
  {
   "cell_type": "markdown",
   "metadata": {},
   "source": [
    "### Imports & Definitions"
   ]
  },
  {
   "cell_type": "code",
   "execution_count": 1,
   "metadata": {},
   "outputs": [],
   "source": [
    "import sys\n",
    "sys.path.append(\"..\")\n",
    "from definitions import *"
   ]
  },
  {
   "cell_type": "markdown",
   "metadata": {},
   "source": [
    "### Get ru mmlu from MERA"
   ]
  },
  {
   "cell_type": "code",
   "execution_count": 2,
   "metadata": {},
   "outputs": [
    {
     "data": {
      "application/vnd.jupyter.widget-view+json": {
       "model_id": "49910d46d9e9476dac59693d5761ac89",
       "version_major": 2,
       "version_minor": 0
      },
      "text/plain": [
       "Downloading readme:   0%|          | 0.00/137k [00:00<?, ?B/s]"
      ]
     },
     "metadata": {},
     "output_type": "display_data"
    },
    {
     "data": {
      "application/vnd.jupyter.widget-view+json": {
       "model_id": "754545aade7d4d4e82961ac59bc70e42",
       "version_major": 2,
       "version_minor": 0
      },
      "text/plain": [
       "Downloading data:   0%|          | 0.00/13.3M [00:00<?, ?B/s]"
      ]
     },
     "metadata": {},
     "output_type": "display_data"
    },
    {
     "data": {
      "application/vnd.jupyter.widget-view+json": {
       "model_id": "2734e11af2d748e28adb2c4ef793a98e",
       "version_major": 2,
       "version_minor": 0
      },
      "text/plain": [
       "Downloading data:   0%|          | 0.00/845k [00:00<?, ?B/s]"
      ]
     },
     "metadata": {},
     "output_type": "display_data"
    },
    {
     "data": {
      "application/vnd.jupyter.widget-view+json": {
       "model_id": "37e9c896252241cb92512e4e8bb9796d",
       "version_major": 2,
       "version_minor": 0
      },
      "text/plain": [
       "Generating public_test split:   0%|          | 0/10033 [00:00<?, ? examples/s]"
      ]
     },
     "metadata": {},
     "output_type": "display_data"
    },
    {
     "data": {
      "application/vnd.jupyter.widget-view+json": {
       "model_id": "360bd3cce8004829a31d68cf2b091c31",
       "version_major": 2,
       "version_minor": 0
      },
      "text/plain": [
       "Generating test split:   0%|          | 0/961 [00:00<?, ? examples/s]"
      ]
     },
     "metadata": {},
     "output_type": "display_data"
    }
   ],
   "source": [
    "from datasets import load_dataset\n",
    "\n",
    "dataset = load_dataset(\"ai-forever/MERA\", \"rummlu\", split=\"test\")"
   ]
  },
  {
   "cell_type": "code",
   "execution_count": 4,
   "metadata": {},
   "outputs": [],
   "source": [
    "mera_dataset = dataset"
   ]
  },
  {
   "cell_type": "code",
   "execution_count": 9,
   "metadata": {},
   "outputs": [],
   "source": [
    "DIR_PATH_MERA_DATASET = ARTIFACTS_DIR_PATH.joinpath(\"datasets/ru_mmlu/mera/\")"
   ]
  },
  {
   "cell_type": "code",
   "execution_count": 11,
   "metadata": {},
   "outputs": [
    {
     "data": {
      "application/vnd.jupyter.widget-view+json": {
       "model_id": "d806a5390644433293a5dd97d9f20d31",
       "version_major": 2,
       "version_minor": 0
      },
      "text/plain": [
       "Saving the dataset (0/1 shards):   0%|          | 0/961 [00:00<?, ? examples/s]"
      ]
     },
     "metadata": {},
     "output_type": "display_data"
    }
   ],
   "source": [
    "mera_dataset.save_to_disk(DIR_PATH_MERA_DATASET.as_posix())"
   ]
  },
  {
   "cell_type": "code",
   "execution_count": 14,
   "metadata": {},
   "outputs": [],
   "source": [
    "from datasets import load_from_disk\n",
    "\n",
    "mera_dataset_recovered = load_from_disk(DIR_PATH_MERA_DATASET.as_posix())"
   ]
  },
  {
   "cell_type": "code",
   "execution_count": 15,
   "metadata": {},
   "outputs": [
    {
     "data": {
      "text/plain": [
       "961"
      ]
     },
     "execution_count": 15,
     "metadata": {},
     "output_type": "execute_result"
    }
   ],
   "source": [
    "len(mera_dataset_recovered)"
   ]
  },
  {
   "cell_type": "code",
   "execution_count": 64,
   "metadata": {},
   "outputs": [
    {
     "name": "stdout",
     "output_type": "stream",
     "text": [
      "Цифровой записью числа восемь миллионов двести двадцать шесть тысяч двести девяносто один является число:\n",
      "Найди скорость машины, которая проехала 600 км за 8 часов?\n",
      "Саше дали 5 яблок, потом он забрал еще 4 яблока, а затем отдал другу 2 яблока. Сколько яблок у Саши?\n",
      "В фирме работает 1500 человек, из них 1200 - имеют высшее образование. Какой процент работников фирмы не имеет высшего образования?\n",
      "В какой строке записаны только единицы длины?\n",
      "Какое число меньше семи на 2?\n",
      "Какое число следует при счете за числом 16?\n",
      "В каком арифметическом действии есть уменьшаемое, вычитаемое и разность?\n",
      "Какое число больше остальных: 73; 52,5; -5; 75; 32,83?\n",
      "Вырази 5 км 17 м в метрах.\n",
      "Найди длину стороны треугольника, если его площадь равна 28 см квадратных, а высота — 14 см?\n",
      "Чему равен косинус нуля?\n",
      "Чему равен синус 30°?\n",
      "Чему равен sinα, если \"osα равен 1?\n",
      "Углом какой четверти является угол α, если \"osα < 0 и \"tgα > 0?\n",
      "Решите уравнение: log4 (x‒8) = 3.\n",
      "Чему равен корень из 144?\n",
      "Чему равен логарифм единицы по любому основанию?\n",
      "Как называется симметрия относительно плоскости в пространстве?\n",
      "Чему равна радиальная мера угла 900 градусов?\n",
      "Функция F(x) определенная на множестве А:\n",
      "При транспонировании матрицы определитель:\n",
      "Чтобы возвести в степень комплексное число в тригонометрической форме необходимо использовать:\n",
      "Последовательность называется сходящейся только если она:\n",
      "Определенный интеграл описывает площадь:\n",
      "Согласно теореме Остроградского — Гаусса\n",
      "Вещественный и комплексный ряд имеет абсолютную сходимость, если\n",
      "Чему равен предел отношения синуса бесконечно малой дуги к самой дуге, выраженной в радианах?\n",
      "Функция терпит разрыв второго рода если:\n",
      "Какая кривая НЕ относится к кривым второго порядка?\n"
     ]
    }
   ],
   "source": [
    "for x in range(30):\n",
    "    print(mera_dataset[x]['inputs']['text'])"
   ]
  },
  {
   "cell_type": "markdown",
   "metadata": {},
   "source": [
    "### Get ru mmlu from NLPCoreTeam"
   ]
  },
  {
   "cell_type": "code",
   "execution_count": 7,
   "metadata": {},
   "outputs": [
    {
     "name": "stderr",
     "output_type": "stream",
     "text": [
      "/opt/homebrew/lib/python3.11/site-packages/datasets/load.py:1483: FutureWarning: The repository for NLPCoreTeam/mmlu_ru contains custom code which must be executed to correctly load the dataset. You can inspect the repository content at https://hf.co/datasets/NLPCoreTeam/mmlu_ru\n",
      "You can avoid this message in future by passing the argument `trust_remote_code=True`.\n",
      "Passing `trust_remote_code=True` will be mandatory to load this dataset from the next major release of `datasets`.\n",
      "  warnings.warn(\n"
     ]
    },
    {
     "data": {
      "application/vnd.jupyter.widget-view+json": {
       "model_id": "848c291d631843e6a842baabc686f916",
       "version_major": 2,
       "version_minor": 0
      },
      "text/plain": [
       "Downloading builder script:   0%|          | 0.00/5.68k [00:00<?, ?B/s]"
      ]
     },
     "metadata": {},
     "output_type": "display_data"
    },
    {
     "data": {
      "application/vnd.jupyter.widget-view+json": {
       "model_id": "5ffeb7f246f34ad39278ad1bfb925f2a",
       "version_major": 2,
       "version_minor": 0
      },
      "text/plain": [
       "Downloading readme:   0%|          | 0.00/36.7k [00:00<?, ?B/s]"
      ]
     },
     "metadata": {},
     "output_type": "display_data"
    },
    {
     "data": {
      "application/vnd.jupyter.widget-view+json": {
       "model_id": "435c969470f84a57bb6bde9ee3db0d34",
       "version_major": 2,
       "version_minor": 0
      },
      "text/plain": [
       "Downloading data:   0%|          | 0.00/5.55M [00:00<?, ?B/s]"
      ]
     },
     "metadata": {},
     "output_type": "display_data"
    },
    {
     "data": {
      "application/vnd.jupyter.widget-view+json": {
       "model_id": "06177f5771c84ac3ab989c0bb227d23b",
       "version_major": 2,
       "version_minor": 0
      },
      "text/plain": [
       "Generating dev split:   0%|          | 0/5 [00:00<?, ? examples/s]"
      ]
     },
     "metadata": {},
     "output_type": "display_data"
    },
    {
     "data": {
      "application/vnd.jupyter.widget-view+json": {
       "model_id": "7878ad4b801443b89c98e81df1d3ce32",
       "version_major": 2,
       "version_minor": 0
      },
      "text/plain": [
       "Generating val split:   0%|          | 0/10 [00:00<?, ? examples/s]"
      ]
     },
     "metadata": {},
     "output_type": "display_data"
    },
    {
     "data": {
      "application/vnd.jupyter.widget-view+json": {
       "model_id": "edc7e15f9e014494a4a4a9eaed88aeea",
       "version_major": 2,
       "version_minor": 0
      },
      "text/plain": [
       "Generating test split:   0%|          | 0/100 [00:00<?, ? examples/s]"
      ]
     },
     "metadata": {},
     "output_type": "display_data"
    }
   ],
   "source": [
    "from collections import defaultdict\n",
    "\n",
    "import datasets\n",
    "import pandas as pd\n",
    "\n",
    "\n",
    "subjects = [\"abstract_algebra\", \"anatomy\", \"astronomy\", \"business_ethics\", \"clinical_knowledge\", \"college_biology\", \"college_chemistry\", \"college_computer_science\", \"college_mathematics\", \"college_medicine\", \"college_physics\", \"computer_security\", \"conceptual_physics\", \"econometrics\", \"electrical_engineering\", \"elementary_mathematics\", \"formal_logic\", \"global_facts\", \"high_school_biology\", \"high_school_chemistry\", \"high_school_computer_science\", \"high_school_european_history\", \"high_school_geography\", \"high_school_government_and_politics\", \"high_school_macroeconomics\", \"high_school_mathematics\", \"high_school_microeconomics\", \"high_school_physics\", \"high_school_psychology\", \"high_school_statistics\", \"high_school_us_history\", \"high_school_world_history\", \"human_aging\", \"human_sexuality\", \"international_law\", \"jurisprudence\", \"logical_fallacies\", \"machine_learning\", \"management\", \"marketing\", \"medical_genetics\", \"miscellaneous\", \"moral_disputes\", \"moral_scenarios\", \"nutrition\", \"philosophy\", \"prehistory\", \"professional_accounting\", \"professional_law\", \"professional_medicine\", \"professional_psychology\", \"public_relations\", \"security_studies\", \"sociology\", \"us_foreign_policy\", \"virology\", \"world_religions\"]\n",
    "\n",
    "splits = [\"dev\", \"val\", \"test\"]\n",
    "\n",
    "all_datasets = {x: datasets.load_dataset(\"NLPCoreTeam/mmlu_ru\", name=x) for x in subjects}\n",
    "\n",
    "res = defaultdict(list)\n",
    "for subject in subjects:\n",
    "    for split in splits:\n",
    "        dataset = all_datasets[subject][split]\n",
    "        df = dataset.to_pandas()\n",
    "        int2str = dataset.features['answer'].int2str\n",
    "        df['answer'] = df['answer'].map(int2str)\n",
    "        df.insert(loc=0, column='subject_en', value=subject)\n",
    "        res[split].append(df)\n",
    "\n",
    "res = {k: pd.concat(v) for k, v in res.items()}\n",
    "\n",
    "df_dev = res['dev']\n",
    "df_val = res['val']\n",
    "df_test = res['test']\n"
   ]
  },
  {
   "cell_type": "code",
   "execution_count": 16,
   "metadata": {},
   "outputs": [],
   "source": [
    "DIR_PATH_NLP_CORE_TEAM_DATASET = ARTIFACTS_DIR_PATH.joinpath(\"datasets/ru_mmlu/nlp_core_team/\")"
   ]
  },
  {
   "cell_type": "code",
   "execution_count": 31,
   "metadata": {},
   "outputs": [],
   "source": [
    "df = pd.concat((df_dev, df_val, df_test))"
   ]
  },
  {
   "cell_type": "code",
   "execution_count": 32,
   "metadata": {},
   "outputs": [
    {
     "data": {
      "text/plain": [
       "15858"
      ]
     },
     "execution_count": 32,
     "metadata": {},
     "output_type": "execute_result"
    }
   ],
   "source": [
    "len(df)"
   ]
  },
  {
   "cell_type": "code",
   "execution_count": 33,
   "metadata": {},
   "outputs": [],
   "source": [
    "df.to_csv(DIR_PATH_NLP_CORE_TEAM_DATASET.joinpath(\"full.csv\"), index=False)"
   ]
  },
  {
   "cell_type": "code",
   "execution_count": 34,
   "metadata": {},
   "outputs": [],
   "source": [
    "df_recovered = pd.read_csv(DIR_PATH_NLP_CORE_TEAM_DATASET.joinpath(\"full.csv\"))"
   ]
  },
  {
   "cell_type": "code",
   "execution_count": 36,
   "metadata": {},
   "outputs": [
    {
     "data": {
      "text/html": [
       "<div>\n",
       "<style scoped>\n",
       "    .dataframe tbody tr th:only-of-type {\n",
       "        vertical-align: middle;\n",
       "    }\n",
       "\n",
       "    .dataframe tbody tr th {\n",
       "        vertical-align: top;\n",
       "    }\n",
       "\n",
       "    .dataframe thead th {\n",
       "        text-align: right;\n",
       "    }\n",
       "</style>\n",
       "<table border=\"1\" class=\"dataframe\">\n",
       "  <thead>\n",
       "    <tr style=\"text-align: right;\">\n",
       "      <th></th>\n",
       "      <th>subject_en</th>\n",
       "      <th>question_en</th>\n",
       "      <th>choices_en</th>\n",
       "      <th>answer</th>\n",
       "      <th>question_ru</th>\n",
       "      <th>choices_ru</th>\n",
       "    </tr>\n",
       "  </thead>\n",
       "  <tbody>\n",
       "    <tr>\n",
       "      <th>0</th>\n",
       "      <td>abstract_algebra</td>\n",
       "      <td>Find all c in Z_3 such that Z_3[x]/(x^2 + c) i...</td>\n",
       "      <td>['0' '1' '2' '3']</td>\n",
       "      <td>B</td>\n",
       "      <td>Найдите все c в Z_3 таким образом, чтобы Z_3[x...</td>\n",
       "      <td>['0' '1' '2' '3']</td>\n",
       "    </tr>\n",
       "    <tr>\n",
       "      <th>1</th>\n",
       "      <td>abstract_algebra</td>\n",
       "      <td>Statement 1 | If aH is an element of a factor ...</td>\n",
       "      <td>['True, True' 'False, False' 'True, False' 'Fa...</td>\n",
       "      <td>B</td>\n",
       "      <td>Утверждение 1 | Если aH является элементом фак...</td>\n",
       "      <td>['Верно, верно' 'Ложь, ложь' 'Правда, ложь' 'Л...</td>\n",
       "    </tr>\n",
       "    <tr>\n",
       "      <th>2</th>\n",
       "      <td>abstract_algebra</td>\n",
       "      <td>Statement 1 | Every element of a group generat...</td>\n",
       "      <td>['True, True' 'False, False' 'True, False' 'Fa...</td>\n",
       "      <td>C</td>\n",
       "      <td>Утверждение 1 | Каждый элемент группы порождае...</td>\n",
       "      <td>['Верно, верно' 'Ложь, ложь' 'Правда, ложь' 'Л...</td>\n",
       "    </tr>\n",
       "    <tr>\n",
       "      <th>3</th>\n",
       "      <td>abstract_algebra</td>\n",
       "      <td>Statement 1| Every function from a finite set ...</td>\n",
       "      <td>['True, True' 'False, False' 'True, False' 'Fa...</td>\n",
       "      <td>A</td>\n",
       "      <td>Утверждение 1| Каждая функция из конечного мно...</td>\n",
       "      <td>['Верно, верно' 'Ложь, ложь' 'Правда, ложь' 'Л...</td>\n",
       "    </tr>\n",
       "    <tr>\n",
       "      <th>4</th>\n",
       "      <td>abstract_algebra</td>\n",
       "      <td>Find the characteristic of the ring 2Z.</td>\n",
       "      <td>['0' '3' '12' '30']</td>\n",
       "      <td>A</td>\n",
       "      <td>Найдите характеристику кольца 2Z.</td>\n",
       "      <td>['0' '3' '12' '30']</td>\n",
       "    </tr>\n",
       "  </tbody>\n",
       "</table>\n",
       "</div>"
      ],
      "text/plain": [
       "         subject_en                                        question_en  \\\n",
       "0  abstract_algebra  Find all c in Z_3 such that Z_3[x]/(x^2 + c) i...   \n",
       "1  abstract_algebra  Statement 1 | If aH is an element of a factor ...   \n",
       "2  abstract_algebra  Statement 1 | Every element of a group generat...   \n",
       "3  abstract_algebra  Statement 1| Every function from a finite set ...   \n",
       "4  abstract_algebra            Find the characteristic of the ring 2Z.   \n",
       "\n",
       "                                          choices_en answer  \\\n",
       "0                                  ['0' '1' '2' '3']      B   \n",
       "1  ['True, True' 'False, False' 'True, False' 'Fa...      B   \n",
       "2  ['True, True' 'False, False' 'True, False' 'Fa...      C   \n",
       "3  ['True, True' 'False, False' 'True, False' 'Fa...      A   \n",
       "4                                ['0' '3' '12' '30']      A   \n",
       "\n",
       "                                         question_ru  \\\n",
       "0  Найдите все c в Z_3 таким образом, чтобы Z_3[x...   \n",
       "1  Утверждение 1 | Если aH является элементом фак...   \n",
       "2  Утверждение 1 | Каждый элемент группы порождае...   \n",
       "3  Утверждение 1| Каждая функция из конечного мно...   \n",
       "4                  Найдите характеристику кольца 2Z.   \n",
       "\n",
       "                                          choices_ru  \n",
       "0                                  ['0' '1' '2' '3']  \n",
       "1  ['Верно, верно' 'Ложь, ложь' 'Правда, ложь' 'Л...  \n",
       "2  ['Верно, верно' 'Ложь, ложь' 'Правда, ложь' 'Л...  \n",
       "3  ['Верно, верно' 'Ложь, ложь' 'Правда, ложь' 'Л...  \n",
       "4                                ['0' '3' '12' '30']  "
      ]
     },
     "execution_count": 36,
     "metadata": {},
     "output_type": "execute_result"
    }
   ],
   "source": [
    "df_recovered.head()"
   ]
  },
  {
   "cell_type": "code",
   "execution_count": 56,
   "metadata": {},
   "outputs": [
    {
     "data": {
      "text/plain": [
       "15858"
      ]
     },
     "execution_count": 56,
     "metadata": {},
     "output_type": "execute_result"
    }
   ],
   "source": [
    "len(df)"
   ]
  },
  {
   "cell_type": "code",
   "execution_count": 65,
   "metadata": {},
   "outputs": [
    {
     "name": "stdout",
     "output_type": "stream",
     "text": [
      "Найдите все c в Z_3 таким образом, чтобы Z_3[x]/(x ^ 2 + c) было полем.\n",
      "Утверждение 1 | Если aH является элементом факторной группы, то |aH| делит |a|. Утверждение 2 | Если H и K являются подгруппами G, то HK является подгруппой G.\n",
      "Утверждение 1 | Каждый элемент группы порождает циклическую подгруппу группы. Утверждение 2 | Симметричная группа S_10 состоит из 10 элементов.\n",
      "Утверждение 1| Каждая функция из конечного множества на саму себя должна быть один к одному. Утверждение 2 | Каждая подгруппа абелевой группы является абелевой.\n",
      "Найдите характеристику кольца 2Z.\n",
      "Каково эмбриологическое происхождение подъязычной кости?\n",
      "Какие из этих ветвей тройничного нерва содержат соматические двигательные процессы?\n",
      "Плевра\n",
      "При окклюзии угла II класса Div 2 имеется\n",
      "Какая из перечисленных ниже полостей тела содержит гипофиз?\n",
      "Вы толкаете грузовик по дороге. Было бы легче разогнать этот грузовик на Марсе? Почему? (Предположим, что трения нет)\n",
      "Откуда берется большинство короткопериодических комет и как мы это знаем?\n",
      "Допустим, диаметр зрачка вашего глаза составляет 5 мм, и у вас есть телескоп с апертурой 50 см. Насколько больше света может собрать телескоп, чем ваш глаз?\n",
      "Почему нет планеты, на которой расположен пояс астероидов?\n",
      "Почему Марс красный?\n",
      "Дальше дело за участие в КСО есть ряд моральных доводов, касающихся: негативное _______, в _______в том, что корпорации обладают и ________ бизнесу и обществу.\n",
      "_______ - это прямая попытка формально или неформально урегулировать этические вопросы или проблемы с помощью конкретной политики, практики и программ.\n",
      "Чтобы обеспечить независимость неисполнительных членов совета директоров, можно предпринять ряд шагов, которые включают в себя привлечение неисполнительных директоров из _______ компании, назначение на _________ период времени, а также назначенный _________.\n",
      "Тремя противоположными тактиками, к которым могут прибегнуть ОГО для достижения своих целей, являются _______, которые обычно включают исследования и коммуникацию, ________, которые могут включать физическое нападение на операции компании или ________, часто с участием некоторых форма _______.\n",
      "В отличие от _______, _______ стремитесь поощрять благоприятное поведение компаний. Успех таких кампаний был повышен благодаря использованию ___________, которые позволяют кампаниям способствовать компании в достижении _________ .\n",
      "Энергия для всех форм мышечных сокращений обеспечивается:\n",
      "В чем разница между мужским и женским катетерами?\n",
      "При оценке функции руки что из следующего верно?\n",
      "Сколько попыток вы должны предпринять, чтобы ввести канюлю пациенту, прежде чем передать эту работу старшему коллеге, согласно медицинским знаниям 2020 года?\n",
      "Гликолиз - это название, данное пути, включающему превращение:\n",
      "Что из нижеприведенного представляет собой точное утверждение относительно членистоногих?\n",
      "В данной популяции у 1 из каждых 400 человек рак, вызванный полностью рецессивным аллелем b. Предполагая, что популяция находится в равновесии Харди-Вайнберга, какова из приведенных ниже ожидаемая доля лиц, которые являются носителями аллеля b, но, как ожидается, не заболеют раком?\n",
      "Наличие гомологичных структур у двух разных организмов, таких как плечевая кость в передней конечности человека и птицы, указывает на то, что\n",
      "Согласно модели перемещения содержимого флоэмы под давлением и потоком, перемещение фотосинтеза от источника к стоку обусловлено\n",
      "Какие из перечисленных ниже содержат последовательности ДНК, необходимые для разделения хромосом при митозе и мейозе?\n"
     ]
    }
   ],
   "source": [
    "for _, x in list(df.iterrows())[:30]:\n",
    "    print(x[\"question_ru\"])"
   ]
  },
  {
   "cell_type": "markdown",
   "metadata": {},
   "source": [
    "### Try to find intersections"
   ]
  },
  {
   "cell_type": "code",
   "execution_count": 48,
   "metadata": {},
   "outputs": [
    {
     "name": "stdout",
     "output_type": "stream",
     "text": [
      "subject_en                                      abstract_algebra\n",
      "question_en    Find all c in Z_3 such that Z_3[x]/(x^2 + c) i...\n",
      "choices_en                                          [0, 1, 2, 3]\n",
      "answer                                                         B\n",
      "question_ru    Найдите все c в Z_3 таким образом, чтобы Z_3[x...\n",
      "choices_ru                                          [0, 1, 2, 3]\n",
      "Name: 0, dtype: object\n"
     ]
    }
   ],
   "source": [
    "for i, x in df.iterrows():\n",
    "    print(x)\n",
    "    break"
   ]
  },
  {
   "cell_type": "code",
   "execution_count": 50,
   "metadata": {},
   "outputs": [
    {
     "name": "stderr",
     "output_type": "stream",
     "text": [
      "Iterating over mera:   3%|▎         | 32/961 [00:06<03:17,  4.71it/s]\n"
     ]
    },
    {
     "ename": "KeyboardInterrupt",
     "evalue": "",
     "output_type": "error",
     "traceback": [
      "\u001b[0;31m---------------------------------------------------------------------------\u001b[0m",
      "\u001b[0;31mKeyboardInterrupt\u001b[0m                         Traceback (most recent call last)",
      "Cell \u001b[0;32mIn[50], line 2\u001b[0m\n\u001b[1;32m      1\u001b[0m \u001b[38;5;28;01mfor\u001b[39;00m mera_x \u001b[38;5;129;01min\u001b[39;00m tqdm(mera_dataset, desc\u001b[38;5;241m=\u001b[39m\u001b[38;5;124m\"\u001b[39m\u001b[38;5;124mIterating over mera\u001b[39m\u001b[38;5;124m\"\u001b[39m):\n\u001b[0;32m----> 2\u001b[0m     \u001b[38;5;28;01mfor\u001b[39;00m _, nlp_core_team_row \u001b[38;5;129;01min\u001b[39;00m df\u001b[38;5;241m.\u001b[39miterrows():\n\u001b[1;32m      3\u001b[0m         \u001b[38;5;28;01mif\u001b[39;00m mera_x[\u001b[38;5;124m'\u001b[39m\u001b[38;5;124minputs\u001b[39m\u001b[38;5;124m'\u001b[39m][\u001b[38;5;124m'\u001b[39m\u001b[38;5;124mtext\u001b[39m\u001b[38;5;124m'\u001b[39m] \u001b[38;5;241m==\u001b[39m nlp_core_team_row[\u001b[38;5;124m'\u001b[39m\u001b[38;5;124mquestion_ru\u001b[39m\u001b[38;5;124m'\u001b[39m]:\n\u001b[1;32m      4\u001b[0m             \u001b[38;5;28mprint\u001b[39m(\u001b[38;5;124m\"\u001b[39m\u001b[38;5;124mWow\u001b[39m\u001b[38;5;124m\"\u001b[39m)\n",
      "File \u001b[0;32m/opt/homebrew/lib/python3.11/site-packages/pandas/core/frame.py:1400\u001b[0m, in \u001b[0;36mDataFrame.iterrows\u001b[0;34m(self)\u001b[0m\n\u001b[1;32m   1398\u001b[0m using_cow \u001b[38;5;241m=\u001b[39m using_copy_on_write()\n\u001b[1;32m   1399\u001b[0m \u001b[38;5;28;01mfor\u001b[39;00m k, v \u001b[38;5;129;01min\u001b[39;00m \u001b[38;5;28mzip\u001b[39m(\u001b[38;5;28mself\u001b[39m\u001b[38;5;241m.\u001b[39mindex, \u001b[38;5;28mself\u001b[39m\u001b[38;5;241m.\u001b[39mvalues):\n\u001b[0;32m-> 1400\u001b[0m     s \u001b[38;5;241m=\u001b[39m \u001b[43mklass\u001b[49m\u001b[43m(\u001b[49m\u001b[43mv\u001b[49m\u001b[43m,\u001b[49m\u001b[43m \u001b[49m\u001b[43mindex\u001b[49m\u001b[38;5;241;43m=\u001b[39;49m\u001b[43mcolumns\u001b[49m\u001b[43m,\u001b[49m\u001b[43m \u001b[49m\u001b[43mname\u001b[49m\u001b[38;5;241;43m=\u001b[39;49m\u001b[43mk\u001b[49m\u001b[43m)\u001b[49m\u001b[38;5;241m.\u001b[39m__finalize__(\u001b[38;5;28mself\u001b[39m)\n\u001b[1;32m   1401\u001b[0m     \u001b[38;5;28;01mif\u001b[39;00m using_cow \u001b[38;5;129;01mand\u001b[39;00m \u001b[38;5;28mself\u001b[39m\u001b[38;5;241m.\u001b[39m_mgr\u001b[38;5;241m.\u001b[39mis_single_block:\n\u001b[1;32m   1402\u001b[0m         s\u001b[38;5;241m.\u001b[39m_mgr\u001b[38;5;241m.\u001b[39madd_references(\u001b[38;5;28mself\u001b[39m\u001b[38;5;241m.\u001b[39m_mgr)  \u001b[38;5;66;03m# type: ignore[arg-type]\u001b[39;00m\n",
      "File \u001b[0;32m/opt/homebrew/lib/python3.11/site-packages/pandas/core/series.py:518\u001b[0m, in \u001b[0;36mSeries.__init__\u001b[0;34m(self, data, index, dtype, name, copy, fastpath)\u001b[0m\n\u001b[1;32m    515\u001b[0m         data \u001b[38;5;241m=\u001b[39m SingleArrayManager\u001b[38;5;241m.\u001b[39mfrom_array(data, index)\n\u001b[1;32m    517\u001b[0m NDFrame\u001b[38;5;241m.\u001b[39m\u001b[38;5;21m__init__\u001b[39m(\u001b[38;5;28mself\u001b[39m, data)\n\u001b[0;32m--> 518\u001b[0m \u001b[38;5;28;43mself\u001b[39;49m\u001b[38;5;241;43m.\u001b[39;49m\u001b[43mname\u001b[49m \u001b[38;5;241m=\u001b[39m name\n\u001b[1;32m    519\u001b[0m \u001b[38;5;28mself\u001b[39m\u001b[38;5;241m.\u001b[39m_set_axis(\u001b[38;5;241m0\u001b[39m, index)\n",
      "File \u001b[0;32m/opt/homebrew/lib/python3.11/site-packages/pandas/core/generic.py:6011\u001b[0m, in \u001b[0;36mNDFrame.__setattr__\u001b[0;34m(self, name, value)\u001b[0m\n\u001b[1;32m   6009\u001b[0m     \u001b[38;5;28mobject\u001b[39m\u001b[38;5;241m.\u001b[39m\u001b[38;5;21m__setattr__\u001b[39m(\u001b[38;5;28mself\u001b[39m, name, value)\n\u001b[1;32m   6010\u001b[0m \u001b[38;5;28;01melif\u001b[39;00m name \u001b[38;5;129;01min\u001b[39;00m \u001b[38;5;28mself\u001b[39m\u001b[38;5;241m.\u001b[39m_metadata:\n\u001b[0;32m-> 6011\u001b[0m     \u001b[38;5;28;43mobject\u001b[39;49m\u001b[38;5;241;43m.\u001b[39;49m\u001b[38;5;21;43m__setattr__\u001b[39;49m\u001b[43m(\u001b[49m\u001b[38;5;28;43mself\u001b[39;49m\u001b[43m,\u001b[49m\u001b[43m \u001b[49m\u001b[43mname\u001b[49m\u001b[43m,\u001b[49m\u001b[43m \u001b[49m\u001b[43mvalue\u001b[49m\u001b[43m)\u001b[49m\n\u001b[1;32m   6012\u001b[0m \u001b[38;5;28;01melse\u001b[39;00m:\n\u001b[1;32m   6013\u001b[0m     \u001b[38;5;28;01mtry\u001b[39;00m:\n",
      "File \u001b[0;32m/opt/homebrew/lib/python3.11/site-packages/pandas/core/series.py:673\u001b[0m, in \u001b[0;36mSeries.name\u001b[0;34m(self, value)\u001b[0m\n\u001b[1;32m    671\u001b[0m \u001b[38;5;129m@name\u001b[39m\u001b[38;5;241m.\u001b[39msetter\n\u001b[1;32m    672\u001b[0m \u001b[38;5;28;01mdef\u001b[39;00m \u001b[38;5;21mname\u001b[39m(\u001b[38;5;28mself\u001b[39m, value: Hashable) \u001b[38;5;241m-\u001b[39m\u001b[38;5;241m>\u001b[39m \u001b[38;5;28;01mNone\u001b[39;00m:\n\u001b[0;32m--> 673\u001b[0m     \u001b[43mvalidate_all_hashable\u001b[49m\u001b[43m(\u001b[49m\u001b[43mvalue\u001b[49m\u001b[43m,\u001b[49m\u001b[43m \u001b[49m\u001b[43merror_name\u001b[49m\u001b[38;5;241;43m=\u001b[39;49m\u001b[38;5;124;43mf\u001b[39;49m\u001b[38;5;124;43m\"\u001b[39;49m\u001b[38;5;132;43;01m{\u001b[39;49;00m\u001b[38;5;28;43mtype\u001b[39;49m\u001b[43m(\u001b[49m\u001b[38;5;28;43mself\u001b[39;49m\u001b[43m)\u001b[49m\u001b[38;5;241;43m.\u001b[39;49m\u001b[38;5;18;43m__name__\u001b[39;49m\u001b[38;5;132;43;01m}\u001b[39;49;00m\u001b[38;5;124;43m.name\u001b[39;49m\u001b[38;5;124;43m\"\u001b[39;49m\u001b[43m)\u001b[49m\n\u001b[1;32m    674\u001b[0m     \u001b[38;5;28mobject\u001b[39m\u001b[38;5;241m.\u001b[39m\u001b[38;5;21m__setattr__\u001b[39m(\u001b[38;5;28mself\u001b[39m, \u001b[38;5;124m\"\u001b[39m\u001b[38;5;124m_name\u001b[39m\u001b[38;5;124m\"\u001b[39m, value)\n",
      "File \u001b[0;32m/opt/homebrew/lib/python3.11/site-packages/pandas/core/dtypes/common.py:1650\u001b[0m, in \u001b[0;36mvalidate_all_hashable\u001b[0;34m(error_name, *args)\u001b[0m\n\u001b[1;32m   1631\u001b[0m \u001b[38;5;28;01mdef\u001b[39;00m \u001b[38;5;21mvalidate_all_hashable\u001b[39m(\u001b[38;5;241m*\u001b[39margs, error_name: \u001b[38;5;28mstr\u001b[39m \u001b[38;5;241m|\u001b[39m \u001b[38;5;28;01mNone\u001b[39;00m \u001b[38;5;241m=\u001b[39m \u001b[38;5;28;01mNone\u001b[39;00m) \u001b[38;5;241m-\u001b[39m\u001b[38;5;241m>\u001b[39m \u001b[38;5;28;01mNone\u001b[39;00m:\n\u001b[1;32m   1632\u001b[0m \u001b[38;5;250m    \u001b[39m\u001b[38;5;124;03m\"\"\"\u001b[39;00m\n\u001b[1;32m   1633\u001b[0m \u001b[38;5;124;03m    Return None if all args are hashable, else raise a TypeError.\u001b[39;00m\n\u001b[1;32m   1634\u001b[0m \n\u001b[0;32m   (...)\u001b[0m\n\u001b[1;32m   1648\u001b[0m \u001b[38;5;124;03m    None\u001b[39;00m\n\u001b[1;32m   1649\u001b[0m \u001b[38;5;124;03m    \"\"\"\u001b[39;00m\n\u001b[0;32m-> 1650\u001b[0m     \u001b[38;5;28;01mif\u001b[39;00m \u001b[38;5;129;01mnot\u001b[39;00m \u001b[38;5;28mall\u001b[39m(is_hashable(arg) \u001b[38;5;28;01mfor\u001b[39;00m arg \u001b[38;5;129;01min\u001b[39;00m args):\n\u001b[1;32m   1651\u001b[0m         \u001b[38;5;28;01mif\u001b[39;00m error_name:\n\u001b[1;32m   1652\u001b[0m             \u001b[38;5;28;01mraise\u001b[39;00m \u001b[38;5;167;01mTypeError\u001b[39;00m(\u001b[38;5;124mf\u001b[39m\u001b[38;5;124m\"\u001b[39m\u001b[38;5;132;01m{\u001b[39;00merror_name\u001b[38;5;132;01m}\u001b[39;00m\u001b[38;5;124m must be a hashable type\u001b[39m\u001b[38;5;124m\"\u001b[39m)\n",
      "File \u001b[0;32m/opt/homebrew/lib/python3.11/site-packages/pandas/core/dtypes/common.py:1650\u001b[0m, in \u001b[0;36m<genexpr>\u001b[0;34m(.0)\u001b[0m\n\u001b[1;32m   1631\u001b[0m \u001b[38;5;28;01mdef\u001b[39;00m \u001b[38;5;21mvalidate_all_hashable\u001b[39m(\u001b[38;5;241m*\u001b[39margs, error_name: \u001b[38;5;28mstr\u001b[39m \u001b[38;5;241m|\u001b[39m \u001b[38;5;28;01mNone\u001b[39;00m \u001b[38;5;241m=\u001b[39m \u001b[38;5;28;01mNone\u001b[39;00m) \u001b[38;5;241m-\u001b[39m\u001b[38;5;241m>\u001b[39m \u001b[38;5;28;01mNone\u001b[39;00m:\n\u001b[1;32m   1632\u001b[0m \u001b[38;5;250m    \u001b[39m\u001b[38;5;124;03m\"\"\"\u001b[39;00m\n\u001b[1;32m   1633\u001b[0m \u001b[38;5;124;03m    Return None if all args are hashable, else raise a TypeError.\u001b[39;00m\n\u001b[1;32m   1634\u001b[0m \n\u001b[0;32m   (...)\u001b[0m\n\u001b[1;32m   1648\u001b[0m \u001b[38;5;124;03m    None\u001b[39;00m\n\u001b[1;32m   1649\u001b[0m \u001b[38;5;124;03m    \"\"\"\u001b[39;00m\n\u001b[0;32m-> 1650\u001b[0m     \u001b[38;5;28;01mif\u001b[39;00m \u001b[38;5;129;01mnot\u001b[39;00m \u001b[38;5;28mall\u001b[39m(is_hashable(arg) \u001b[38;5;28;01mfor\u001b[39;00m arg \u001b[38;5;129;01min\u001b[39;00m args):\n\u001b[1;32m   1651\u001b[0m         \u001b[38;5;28;01mif\u001b[39;00m error_name:\n\u001b[1;32m   1652\u001b[0m             \u001b[38;5;28;01mraise\u001b[39;00m \u001b[38;5;167;01mTypeError\u001b[39;00m(\u001b[38;5;124mf\u001b[39m\u001b[38;5;124m\"\u001b[39m\u001b[38;5;132;01m{\u001b[39;00merror_name\u001b[38;5;132;01m}\u001b[39;00m\u001b[38;5;124m must be a hashable type\u001b[39m\u001b[38;5;124m\"\u001b[39m)\n",
      "\u001b[0;31mKeyboardInterrupt\u001b[0m: "
     ]
    }
   ],
   "source": [
    "for mera_x in tqdm(mera_dataset, desc=\"Iterating over mera\"):\n",
    "    for _, nlp_core_team_row in df.iterrows():\n",
    "        if mera_x['inputs']['text'] == nlp_core_team_row['question_ru']:\n",
    "            print(\"Wow\")"
   ]
  },
  {
   "cell_type": "code",
   "execution_count": null,
   "metadata": {},
   "outputs": [],
   "source": []
  }
 ],
 "metadata": {
  "kernelspec": {
   "display_name": "Python 3",
   "language": "python",
   "name": "python3"
  },
  "language_info": {
   "codemirror_mode": {
    "name": "ipython",
    "version": 3
   },
   "file_extension": ".py",
   "mimetype": "text/x-python",
   "name": "python",
   "nbconvert_exporter": "python",
   "pygments_lexer": "ipython3",
   "version": "3.11.5"
  }
 },
 "nbformat": 4,
 "nbformat_minor": 2
}
