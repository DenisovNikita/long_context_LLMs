{
 "cells": [
  {
   "cell_type": "markdown",
   "metadata": {},
   "source": [
    "### Imports & Definitions"
   ]
  },
  {
   "cell_type": "code",
   "execution_count": 1,
   "metadata": {},
   "outputs": [],
   "source": [
    "import sys\n",
    "sys.path.append(\"../../utils\")\n",
    "from definitions import *\n",
    "from parsing_helpers import get_num_diplomas"
   ]
  },
  {
   "cell_type": "code",
   "execution_count": 2,
   "metadata": {},
   "outputs": [],
   "source": [
    "years = [2023, 2022, 2021, 2020, 2019, 2018, 2017, 2016]"
   ]
  },
  {
   "cell_type": "markdown",
   "metadata": {},
   "source": [
    "### Convert .doc, .docx & .pdf into .txt"
   ]
  },
  {
   "cell_type": "code",
   "execution_count": 54,
   "metadata": {},
   "outputs": [],
   "source": [
    "def convert_works_to_txt(year):\n",
    "    base_spbu_dir_path = ARTIFACTS_DIR_PATH.joinpath(f\"parsing/diplomas/spbu/{year}/\")\n",
    "    base_diplomas_dir_path = base_spbu_dir_path.joinpath(\"work\") \n",
    "\n",
    "    processed_work_ext_doc_dir_path = base_spbu_dir_path.joinpath(\"work_txt/\")\n",
    "    processed_work_ext_doc_dir_path.mkdir(exist_ok=True, parents=True)\n",
    "\n",
    "    def convert_doc_to_txt(filename):\n",
    "        output_file = processed_work_ext_doc_dir_path.joinpath(f\"{filename.stem}.txt\")\n",
    "        if not output_file.is_file():\n",
    "            subprocess.run([\"textutil\", \"-convert\", \"txt\", \"-output\", output_file.as_posix(), filename.as_posix()])\n",
    "\n",
    "    def convert_pdf_to_txt(filename):\n",
    "        output_file = processed_work_ext_doc_dir_path.joinpath(f\"{filename.stem}.txt\")\n",
    "        if not output_file.is_file():\n",
    "            subprocess.run([\"pdftotext\", filename.as_posix(), output_file.as_posix()])\n",
    "\n",
    "    for ext in [\".doc\", \".docx\", \".DOCX\"]:\n",
    "        for file in tqdm(base_diplomas_dir_path.glob(f\"*{ext}\"), desc=\"Docs...\"):\n",
    "            convert_doc_to_txt(file)\n",
    "\n",
    "    \n",
    "    for file in tqdm(base_diplomas_dir_path.glob(f\"*.pdf\"), desc=\"Pdfs...\"):\n",
    "        convert_pdf_to_txt(file)"
   ]
  },
  {
   "cell_type": "code",
   "execution_count": 55,
   "metadata": {},
   "outputs": [
    {
     "name": "stderr",
     "output_type": "stream",
     "text": [
      "Docs...: 29it [00:00, 5552.58it/s]:00<?, ?it/s]\n",
      "Error reading /Users/nvdenisov2002/study/8-semester/diploma/long_context_LLMs/artifacts/parsing/diplomas/spbu/2023/work/44850_diploma.docx.  The file “44850_diploma.docx” couldn’t be opened.\n",
      "Error reading /Users/nvdenisov2002/study/8-semester/diploma/long_context_LLMs/artifacts/parsing/diplomas/spbu/2023/work/39877_diploma.docx.  The file isn’t in the correct format.\n",
      "Docs...: 722it [00:00, 2865.11it/s]\n",
      "Docs...: 1it [00:00, 329.40it/s]\n",
      "Syntax Error: Document stream is empty\n",
      "Syntax Error: Document stream is empty\n",
      "Syntax Error: Document stream is empty\n",
      "Syntax Error: Couldn't find trailer dictionary\n",
      "Syntax Error: Couldn't find trailer dictionary\n",
      "Syntax Error: Couldn't read xref table\n",
      "Syntax Error: Document stream is empty\n",
      "Syntax Error: Document stream is empty\n",
      "Syntax Error: Document stream is empty\n",
      "Pdfs...: 881it [00:00, 3019.44it/s]\n",
      "Docs...: 25it [00:00, 3663.53it/s]:00<00:03,  1.79it/s]\n",
      "Docs...: 708it [00:00, 51967.30it/s]\n",
      "Docs...: 1it [00:00, 368.31it/s]\n",
      "Pdfs...: 1036it [00:00, 60362.27it/s]\n",
      "Docs...: 47it [00:00, 11596.70it/s]\n",
      "Docs...: 867it [00:00, 53982.27it/s]\n",
      "Docs...: 2it [00:00, 700.51it/s]\n",
      "Pdfs...: 921it [00:00, 64176.13it/s]\n",
      "Docs...: 24it [00:00, 3656.23it/s]\n",
      "Error reading /Users/nvdenisov2002/study/8-semester/diploma/long_context_LLMs/artifacts/parsing/diplomas/spbu/2020/work/25544_diploma.docx.  The file isn’t in the correct format.\n",
      "Docs...: 441it [00:00, 2055.81it/s]\n",
      "Docs...: 1it [00:00, 531.33it/s]\n",
      "Pdfs...: 712it [00:00, 48198.72it/s]\n",
      "Docs...: 46it [00:00, 6208.78it/s]:00<00:00,  5.13it/s]\n",
      "Docs...: 580it [00:00, 84010.65it/s]\n",
      "Docs...: 2it [00:00, 805.82it/s]\n",
      "Pdfs...: 391it [00:00, 57492.48it/s]\n",
      "Docs...: 195it [00:06, 30.41it/s]\n",
      "Error reading /Users/nvdenisov2002/study/8-semester/diploma/long_context_LLMs/artifacts/parsing/diplomas/spbu/2018/work/16676_diploma.docx.  The file isn’t in the correct format.\n",
      "Error reading /Users/nvdenisov2002/study/8-semester/diploma/long_context_LLMs/artifacts/parsing/diplomas/spbu/2018/work/17960_diploma.docx.  The file “17960_diploma.docx” couldn’t be opened.\n",
      "Docs...: 1263it [00:54, 23.27it/s]\n",
      "Docs...: 1it [00:00, 278.30it/s]\n",
      "Syntax Error: Document stream is empty\n",
      "Syntax Error: Invalid XRef entry 3\n",
      "Internal Error: xref num 3 not found but needed, try to reconstruct<0a>\n",
      "Syntax Error: Invalid XRef entry 3\n",
      "Syntax Error: Invalid XRef entry 1\n",
      "Syntax Error: Top-level pages object is wrong type (null)\n",
      "Command Line Error: Wrong page range given: the first page (1) can not be after the last page (0).\n",
      "Syntax Warning: Invalid Font Weight\n",
      "Syntax Warning: Invalid least number of objects reading page offset hints table\n",
      "Syntax Warning: Invalid least number of objects reading page offset hints table\n",
      "Syntax Error: Document stream is empty\n",
      "Syntax Warning: Bad annotation destination\n",
      "Syntax Error: Unknown character collection 'PDFAUTOCAD-Indentity0'\n",
      "Syntax Error: Unknown character collection 'PDFAUTOCAD-Indentity0'\n",
      "Syntax Error: Unknown character collection 'PDFAUTOCAD-Indentity0'\n",
      "Internal Error: xref num 1928 not found but needed, try to reconstruct<0a>\n",
      "Syntax Error: Missing or invalid 'Bounds' entry in stitching function\n",
      "Syntax Error: Couldn't find trailer dictionary\n",
      "Syntax Error: Couldn't find trailer dictionary\n",
      "Syntax Error: Couldn't read xref table\n",
      "Syntax Warning: Bad annotation destination\n",
      "Pdfs...: 1195it [01:07, 17.61it/s]\n",
      "Docs...: 317it [00:00, 12147.07it/s]9<00:56, 28.12s/it]\n",
      "Docs...: 1645it [00:00, 62454.79it/s]\n",
      "Docs...: 0it [00:00, ?it/s]\n",
      "Syntax Error: Document stream is empty\n",
      "Syntax Error: Document stream is empty\n",
      "Syntax Error: Document stream is empty\n",
      "Syntax Error: Document stream is empty\n",
      "Syntax Error: Document stream is empty\n",
      "Syntax Error: Document stream is empty\n",
      "Syntax Error: Document stream is empty\n",
      "Syntax Error: Document stream is empty\n",
      "Syntax Error: Document stream is empty\n",
      "Syntax Error: Document stream is empty\n",
      "Syntax Error: Document stream is empty\n",
      "Syntax Error: Document stream is empty\n",
      "Syntax Error: Document stream is empty\n",
      "Syntax Error: Document stream is empty\n",
      "Syntax Error: Document stream is empty\n",
      "Syntax Error: Document stream is empty\n",
      "Syntax Error: Document stream is empty\n",
      "Syntax Error: Document stream is empty\n",
      "Syntax Error: Document stream is empty\n",
      "Syntax Error: Document stream is empty\n",
      "Syntax Error: Document stream is empty\n",
      "Syntax Error: Document stream is empty\n",
      "Syntax Error: Document stream is empty\n",
      "Syntax Error: Document stream is empty\n",
      "Syntax Error: Document stream is empty\n",
      "Syntax Error: Document stream is empty\n",
      "Syntax Error: Document stream is empty\n",
      "Syntax Error: Document stream is empty\n",
      "Syntax Error: Document stream is empty\n",
      "Syntax Error: Document stream is empty\n",
      "Syntax Error: Document stream is empty\n",
      "Syntax Error: Document stream is empty\n",
      "Syntax Error: Document stream is empty\n",
      "Syntax Error: Document stream is empty\n",
      "Syntax Error: Document stream is empty\n",
      "Syntax Error: Document stream is empty\n",
      "Syntax Error: Document stream is empty\n",
      "Syntax Error: Document stream is empty\n",
      "Syntax Error: Document stream is empty\n",
      "Syntax Error: Document stream is empty\n",
      "Syntax Error: Document stream is empty\n",
      "Syntax Error: Document stream is empty\n",
      "Syntax Error: Document stream is empty\n",
      "Syntax Error: Document stream is empty\n",
      "Syntax Error: Document stream is empty\n",
      "Syntax Error: Document stream is empty\n",
      "Syntax Error: Document stream is empty\n",
      "Syntax Error: Document stream is empty\n",
      "Syntax Error: Document stream is empty\n",
      "Syntax Error: Document stream is empty\n",
      "Syntax Error: Document stream is empty\n",
      "Syntax Error: Document stream is empty\n",
      "Syntax Error: Document stream is empty\n",
      "Syntax Error: Document stream is empty\n",
      "Syntax Error: Document stream is empty\n",
      "Syntax Error: Document stream is empty\n",
      "Syntax Error: Document stream is empty\n",
      "Syntax Error: Document stream is empty\n",
      "Syntax Error: Document stream is empty\n",
      "Syntax Error: Document stream is empty\n",
      "Syntax Error: Document stream is empty\n",
      "Syntax Error: Document stream is empty\n",
      "Syntax Error: Document stream is empty\n",
      "Syntax Error: Document stream is empty\n",
      "Syntax Error: Document stream is empty\n",
      "Syntax Error: Document stream is empty\n",
      "Syntax Error: Document stream is empty\n",
      "Syntax Error: Document stream is empty\n",
      "Syntax Error: Document stream is empty\n",
      "Syntax Error: Document stream is empty\n",
      "Syntax Error: Document stream is empty\n",
      "Syntax Error: Document stream is empty\n",
      "Syntax Error: Document stream is empty\n",
      "Syntax Error: Document stream is empty\n",
      "Syntax Error: Document stream is empty\n",
      "Syntax Error: Document stream is empty\n",
      "Syntax Error: Document stream is empty\n",
      "Syntax Error: Document stream is empty\n",
      "Syntax Error: Document stream is empty\n",
      "Syntax Error: Document stream is empty\n",
      "Syntax Error: Document stream is empty\n",
      "Syntax Error: Document stream is empty\n",
      "Syntax Error: Document stream is empty\n",
      "Syntax Error: Document stream is empty\n",
      "Syntax Error: Document stream is empty\n",
      "Syntax Error: Document stream is empty\n",
      "Syntax Error: Document stream is empty\n",
      "Syntax Error: Document stream is empty\n",
      "Syntax Error: Document stream is empty\n",
      "Syntax Error: Document stream is empty\n",
      "Syntax Error: Document stream is empty\n",
      "Syntax Error: Document stream is empty\n",
      "Syntax Error: Document stream is empty\n",
      "Syntax Error: Document stream is empty\n",
      "Syntax Error: Document stream is empty\n",
      "Syntax Error: Document stream is empty\n",
      "Syntax Error: Document stream is empty\n",
      "Syntax Error: Document stream is empty\n",
      "Syntax Error: Document stream is empty\n",
      "Syntax Error: Document stream is empty\n",
      "Syntax Error: Document stream is empty\n",
      "Syntax Error: Document stream is empty\n",
      "Syntax Error: Document stream is empty\n",
      "Syntax Error: Document stream is empty\n",
      "Syntax Error: Document stream is empty\n",
      "Syntax Error: Document stream is empty\n",
      "Syntax Error: Document stream is empty\n",
      "Syntax Error: Document stream is empty\n",
      "Syntax Error: Document stream is empty\n",
      "Syntax Error: Document stream is empty\n",
      "Syntax Error: Document stream is empty\n",
      "Syntax Error: Document stream is empty\n",
      "Syntax Error: Document stream is empty\n",
      "Syntax Error: Document stream is empty\n",
      "Syntax Error: Document stream is empty\n",
      "Syntax Error: Document stream is empty\n",
      "Syntax Error: Document stream is empty\n",
      "Syntax Error: Document stream is empty\n",
      "Syntax Error: Document stream is empty\n",
      "Syntax Error: Document stream is empty\n",
      "Syntax Error: Document stream is empty\n",
      "Syntax Error: Document stream is empty\n",
      "Syntax Error: Document stream is empty\n",
      "Syntax Error: Document stream is empty\n",
      "Syntax Error: Document stream is empty\n",
      "Syntax Error: Document stream is empty\n",
      "Syntax Error: Document stream is empty\n",
      "Syntax Error: Document stream is empty\n",
      "Syntax Error: Document stream is empty\n",
      "Syntax Error: Document stream is empty\n",
      "Syntax Error: Document stream is empty\n",
      "Syntax Error: Document stream is empty\n",
      "Syntax Error: Document stream is empty\n",
      "Syntax Error: Document stream is empty\n",
      "Syntax Error: Document stream is empty\n",
      "Syntax Error: Document stream is empty\n",
      "Syntax Error: Document stream is empty\n",
      "Syntax Error: Document stream is empty\n",
      "Syntax Error: Document stream is empty\n",
      "Syntax Error: Document stream is empty\n",
      "Syntax Error: Document stream is empty\n",
      "Syntax Error: Document stream is empty\n",
      "Syntax Error: Document stream is empty\n",
      "Syntax Error: Document stream is empty\n",
      "Syntax Error: Document stream is empty\n",
      "Syntax Error: Document stream is empty\n",
      "Syntax Error: Document stream is empty\n",
      "Syntax Error: Document stream is empty\n",
      "Syntax Error: Document stream is empty\n",
      "Syntax Error: Document stream is empty\n",
      "Syntax Error: Document stream is empty\n",
      "Syntax Error: Document stream is empty\n",
      "Syntax Error: Document stream is empty\n",
      "Syntax Error: Document stream is empty\n",
      "Syntax Error: Document stream is empty\n",
      "Syntax Error: Document stream is empty\n",
      "Syntax Error: Document stream is empty\n",
      "Syntax Error: Document stream is empty\n",
      "Syntax Error: Document stream is empty\n",
      "Syntax Error: Document stream is empty\n",
      "Syntax Error: Document stream is empty\n",
      "Syntax Error: Document stream is empty\n",
      "Syntax Error: Document stream is empty\n",
      "Syntax Error: Document stream is empty\n",
      "Syntax Error: Document stream is empty\n",
      "Syntax Error: Document stream is empty\n",
      "Syntax Error: Document stream is empty\n",
      "Syntax Error: Document stream is empty\n",
      "Syntax Error: Document stream is empty\n",
      "Syntax Error: Document stream is empty\n",
      "Syntax Error: Document stream is empty\n",
      "Syntax Error: Document stream is empty\n",
      "Syntax Error: Document stream is empty\n",
      "Syntax Error: Document stream is empty\n",
      "Syntax Error: Document stream is empty\n",
      "Syntax Error: Document stream is empty\n",
      "Syntax Error: Document stream is empty\n",
      "Syntax Error: Document stream is empty\n",
      "Syntax Error: Document stream is empty\n",
      "Syntax Error: Document stream is empty\n",
      "Syntax Error: Document stream is empty\n",
      "Syntax Error: Document stream is empty\n",
      "Syntax Error: Document stream is empty\n",
      "Syntax Error: Document stream is empty\n",
      "Syntax Error: Document stream is empty\n",
      "Syntax Error: Document stream is empty\n",
      "Syntax Error: Document stream is empty\n",
      "Syntax Error: Document stream is empty\n",
      "Syntax Error: Document stream is empty\n",
      "Syntax Error: Document stream is empty\n",
      "Syntax Error: Document stream is empty\n",
      "Syntax Error: Document stream is empty\n",
      "Syntax Error: Document stream is empty\n",
      "Syntax Error: Document stream is empty\n",
      "Syntax Error: Document stream is empty\n",
      "Syntax Error: Document stream is empty\n",
      "Syntax Error: Document stream is empty\n",
      "Syntax Error: Document stream is empty\n",
      "Syntax Error: Document stream is empty\n",
      "Syntax Error: Document stream is empty\n",
      "Syntax Error: Document stream is empty\n",
      "Syntax Error: Document stream is empty\n",
      "Syntax Error: Document stream is empty\n",
      "Syntax Error: Document stream is empty\n",
      "Syntax Error: Document stream is empty\n",
      "Syntax Error: Document stream is empty\n",
      "Syntax Error: Document stream is empty\n",
      "Syntax Error: Document stream is empty\n",
      "Syntax Error: Document stream is empty\n",
      "Syntax Error: Document stream is empty\n",
      "Syntax Error: Document stream is empty\n",
      "Syntax Error: Document stream is empty\n",
      "Syntax Error: Document stream is empty\n",
      "Syntax Error: Document stream is empty\n",
      "Syntax Error: Document stream is empty\n",
      "Syntax Error: Document stream is empty\n",
      "Syntax Error: Document stream is empty\n",
      "Syntax Error: Document stream is empty\n",
      "Syntax Error: Document stream is empty\n",
      "Syntax Error: Document stream is empty\n",
      "Syntax Error: Document stream is empty\n",
      "Syntax Error: Document stream is empty\n",
      "Syntax Error: Document stream is empty\n",
      "Syntax Error: Document stream is empty\n",
      "Syntax Error: Document stream is empty\n",
      "Syntax Error: Document stream is empty\n",
      "Syntax Error: Document stream is empty\n",
      "Syntax Error: Document stream is empty\n",
      "Syntax Error: Document stream is empty\n",
      "Syntax Error: Document stream is empty\n",
      "Syntax Error: Document stream is empty\n",
      "Syntax Error: Document stream is empty\n",
      "Syntax Error: Document stream is empty\n",
      "Syntax Error: Document stream is empty\n",
      "Syntax Error: Document stream is empty\n",
      "Syntax Error: Document stream is empty\n",
      "Syntax Error: Document stream is empty\n",
      "Syntax Error: Document stream is empty\n",
      "Syntax Error: Document stream is empty\n",
      "Syntax Error: Document stream is empty\n",
      "Syntax Error: Document stream is empty\n",
      "Syntax Error: Document stream is empty\n",
      "Syntax Error: Document stream is empty\n",
      "Syntax Error: Document stream is empty\n",
      "Syntax Error: Document stream is empty\n",
      "Syntax Error: Document stream is empty\n",
      "Syntax Error: Document stream is empty\n",
      "Syntax Error: Document stream is empty\n",
      "Syntax Error: Document stream is empty\n",
      "Syntax Error: Document stream is empty\n",
      "Syntax Error: Document stream is empty\n",
      "Syntax Error: Document stream is empty\n",
      "Syntax Error: Document stream is empty\n",
      "Syntax Error: Document stream is empty\n",
      "Syntax Error: Document stream is empty\n",
      "Pdfs...: 1239it [00:03, 318.81it/s]\n",
      "Docs...: 187it [00:00, 12824.10it/s]3<00:22, 22.38s/it]\n",
      "Error reading /Users/nvdenisov2002/study/8-semester/diploma/long_context_LLMs/artifacts/parsing/diplomas/spbu/2016/work/5931_diploma.docx.  The file isn’t in the correct format.\n",
      "Docs...: 609it [00:00, 15868.47it/s]\n",
      "Docs...: 0it [00:00, ?it/s]\n",
      "Pdfs...: 582it [00:00, 59464.69it/s]\n",
      "Years...: 100%|██████████| 8/8 [02:13<00:00, 16.68s/it]\n"
     ]
    }
   ],
   "source": [
    "for year in tqdm(years, desc=\"Years...\"):\n",
    "    convert_works_to_txt(year)"
   ]
  },
  {
   "cell_type": "markdown",
   "metadata": {},
   "source": [
    "### Making df"
   ]
  },
  {
   "cell_type": "code",
   "execution_count": 57,
   "metadata": {},
   "outputs": [
    {
     "name": "stderr",
     "output_type": "stream",
     "text": [
      "Years...: 100%|██████████| 8/8 [00:58<00:00,  7.29s/it]\n"
     ]
    },
    {
     "data": {
      "text/html": [
       "<div>\n",
       "<style scoped>\n",
       "    .dataframe tbody tr th:only-of-type {\n",
       "        vertical-align: middle;\n",
       "    }\n",
       "\n",
       "    .dataframe tbody tr th {\n",
       "        vertical-align: top;\n",
       "    }\n",
       "\n",
       "    .dataframe thead th {\n",
       "        text-align: right;\n",
       "    }\n",
       "</style>\n",
       "<table border=\"1\" class=\"dataframe\">\n",
       "  <thead>\n",
       "    <tr style=\"text-align: right;\">\n",
       "      <th></th>\n",
       "      <th>id</th>\n",
       "      <th>year</th>\n",
       "      <th>diploma</th>\n",
       "      <th>abstract</th>\n",
       "    </tr>\n",
       "  </thead>\n",
       "  <tbody>\n",
       "    <tr>\n",
       "      <th>0</th>\n",
       "      <td>40165</td>\n",
       "      <td>2023</td>\n",
       "      <td>St. Petersburg State University\\nGraduate Scho...</td>\n",
       "      <td>Данная работа исследует потенциал использовани...</td>\n",
       "    </tr>\n",
       "    <tr>\n",
       "      <th>1</th>\n",
       "      <td>41453</td>\n",
       "      <td>2023</td>\n",
       "      <td>Санкт-Петербургский государственный университе...</td>\n",
       "      <td>Абдуллаев Ш.У. тема диссертации: «Роль политик...</td>\n",
       "    </tr>\n",
       "    <tr>\n",
       "      <th>2</th>\n",
       "      <td>43790</td>\n",
       "      <td>2023</td>\n",
       "      <td>Санкт-Петербургский государственный университе...</td>\n",
       "      <td>Выпускная квалификационная работа посвящена из...</td>\n",
       "    </tr>\n",
       "    <tr>\n",
       "      <th>3</th>\n",
       "      <td>41165</td>\n",
       "      <td>2023</td>\n",
       "      <td>Санкт-Петербургский государственный университе...</td>\n",
       "      <td>В данной работе описывается реализация обобщен...</td>\n",
       "    </tr>\n",
       "    <tr>\n",
       "      <th>4</th>\n",
       "      <td>42349</td>\n",
       "      <td>2023</td>\n",
       "      <td>ПРАВИТЕЛЬСТВО РОССИЙСКОЙ ФЕДЕРАЦИИ \\nСАНКТ-ПЕТ...</td>\n",
       "      <td>В выпускной квалификационной работе раскрывает...</td>\n",
       "    </tr>\n",
       "  </tbody>\n",
       "</table>\n",
       "</div>"
      ],
      "text/plain": [
       "      id  year                                            diploma  \\\n",
       "0  40165  2023  St. Petersburg State University\\nGraduate Scho...   \n",
       "1  41453  2023  Санкт-Петербургский государственный университе...   \n",
       "2  43790  2023  Санкт-Петербургский государственный университе...   \n",
       "3  41165  2023  Санкт-Петербургский государственный университе...   \n",
       "4  42349  2023  ПРАВИТЕЛЬСТВО РОССИЙСКОЙ ФЕДЕРАЦИИ \\nСАНКТ-ПЕТ...   \n",
       "\n",
       "                                            abstract  \n",
       "0  Данная работа исследует потенциал использовани...  \n",
       "1  Абдуллаев Ш.У. тема диссертации: «Роль политик...  \n",
       "2  Выпускная квалификационная работа посвящена из...  \n",
       "3  В данной работе описывается реализация обобщен...  \n",
       "4  В выпускной квалификационной работе раскрывает...  "
      ]
     },
     "execution_count": 57,
     "metadata": {},
     "output_type": "execute_result"
    }
   ],
   "source": [
    "base_diplomas_spbu_dir_path = ARTIFACTS_DIR_PATH.joinpath(\"parsing/diplomas/spbu/\")\n",
    "new_rows = []\n",
    "for year in tqdm(years, desc=\"Years...\"):\n",
    "    ids_path = base_diplomas_spbu_dir_path.joinpath(f\"{year}/ids.json\")\n",
    "    skipped_ids_path = base_diplomas_spbu_dir_path.joinpath(f\"{year}/ids.json\")\n",
    "    with open(ids_path, \"r\") as f:\n",
    "        ids = json.load(f)\n",
    "    with open(skipped_ids_path, \"r\") as f:\n",
    "        skipped_ids = set(json.load(f))\n",
    "    new_rows_year = []\n",
    "    for id in ids:\n",
    "        diploma_path = base_diplomas_spbu_dir_path.joinpath(f\"{year}/work_txt/{id}_diploma.txt\")\n",
    "        abstract_path = base_diplomas_spbu_dir_path.joinpath(f\"{year}/work/{id}_abstract.txt\")\n",
    "        if not abstract_path.is_file() or not diploma_path.is_file():\n",
    "            assert not diploma_path.is_file(), f\"Strange for id = {id}\"\n",
    "            assert id in skipped_ids\n",
    "            continue\n",
    "        with open(diploma_path, \"r\") as f:\n",
    "            diploma = f.read()\n",
    "        with open(abstract_path, \"r\") as f:\n",
    "            abstract = f.read()\n",
    "        new_rows_year.append({\n",
    "            \"id\": id,\n",
    "            \"year\": year,\n",
    "            \"diploma\": diploma,\n",
    "            \"abstract\": abstract,\n",
    "        })\n",
    "    df = pd.DataFrame(new_rows_year)\n",
    "    df.to_csv(base_diplomas_spbu_dir_path.joinpath(f\"{year}/dataset.csv\"), index=False)\n",
    "    new_rows.extend(new_rows_year)\n",
    "df = pd.DataFrame(new_rows)\n",
    "df.to_csv(base_diplomas_spbu_dir_path.joinpath(f\"dataset.csv\"), index=False)\n",
    "df.head()"
   ]
  },
  {
   "cell_type": "markdown",
   "metadata": {},
   "source": [
    "### Filter df: empty diplomas"
   ]
  },
  {
   "cell_type": "code",
   "execution_count": 34,
   "metadata": {},
   "outputs": [
    {
     "data": {
      "text/html": [
       "<div>\n",
       "<style scoped>\n",
       "    .dataframe tbody tr th:only-of-type {\n",
       "        vertical-align: middle;\n",
       "    }\n",
       "\n",
       "    .dataframe tbody tr th {\n",
       "        vertical-align: top;\n",
       "    }\n",
       "\n",
       "    .dataframe thead th {\n",
       "        text-align: right;\n",
       "    }\n",
       "</style>\n",
       "<table border=\"1\" class=\"dataframe\">\n",
       "  <thead>\n",
       "    <tr style=\"text-align: right;\">\n",
       "      <th></th>\n",
       "      <th>a</th>\n",
       "    </tr>\n",
       "  </thead>\n",
       "  <tbody>\n",
       "    <tr>\n",
       "      <th>0</th>\n",
       "      <td>1.0</td>\n",
       "    </tr>\n",
       "    <tr>\n",
       "      <th>2</th>\n",
       "      <td>3.0</td>\n",
       "    </tr>\n",
       "  </tbody>\n",
       "</table>\n",
       "</div>"
      ],
      "text/plain": [
       "     a\n",
       "0  1.0\n",
       "2  3.0"
      ]
     },
     "execution_count": 34,
     "metadata": {},
     "output_type": "execute_result"
    }
   ],
   "source": [
    "df = pd.DataFrame([{\"a\": 1}, {\"a\": np.float64('nan')}, {\"a\": 3}])\n",
    "df[df[\"a\"].notnull()]"
   ]
  },
  {
   "cell_type": "code",
   "execution_count": 35,
   "metadata": {},
   "outputs": [],
   "source": [
    "DATASET_PATH = ARTIFACTS_DIR_PATH.joinpath(\"parsing/diplomas/spbu/dataset.csv\")\n",
    "df = pd.read_csv(DATASET_PATH)\n",
    "df = df[df[\"diploma\"].notnull()]\n",
    "df.to_csv(DATASET_PATH, index=False)\n"
   ]
  },
  {
   "cell_type": "code",
   "execution_count": 36,
   "metadata": {},
   "outputs": [
    {
     "data": {
      "text/plain": [
       "13933"
      ]
     },
     "execution_count": 36,
     "metadata": {},
     "output_type": "execute_result"
    }
   ],
   "source": [
    "len(df)"
   ]
  },
  {
   "cell_type": "markdown",
   "metadata": {},
   "source": [
    "### Extend df with study_field & degree"
   ]
  },
  {
   "cell_type": "code",
   "execution_count": 3,
   "metadata": {},
   "outputs": [
    {
     "data": {
      "text/html": [
       "<div>\n",
       "<style scoped>\n",
       "    .dataframe tbody tr th:only-of-type {\n",
       "        vertical-align: middle;\n",
       "    }\n",
       "\n",
       "    .dataframe tbody tr th {\n",
       "        vertical-align: top;\n",
       "    }\n",
       "\n",
       "    .dataframe thead th {\n",
       "        text-align: right;\n",
       "    }\n",
       "</style>\n",
       "<table border=\"1\" class=\"dataframe\">\n",
       "  <thead>\n",
       "    <tr style=\"text-align: right;\">\n",
       "      <th></th>\n",
       "      <th>id</th>\n",
       "      <th>year</th>\n",
       "      <th>diploma</th>\n",
       "      <th>abstract</th>\n",
       "    </tr>\n",
       "  </thead>\n",
       "  <tbody>\n",
       "    <tr>\n",
       "      <th>0</th>\n",
       "      <td>40165</td>\n",
       "      <td>2023</td>\n",
       "      <td>St. Petersburg State University\\nGraduate Scho...</td>\n",
       "      <td>Данная работа исследует потенциал использовани...</td>\n",
       "    </tr>\n",
       "    <tr>\n",
       "      <th>1</th>\n",
       "      <td>41453</td>\n",
       "      <td>2023</td>\n",
       "      <td>Санкт-Петербургский государственный университе...</td>\n",
       "      <td>Абдуллаев Ш.У. тема диссертации: «Роль политик...</td>\n",
       "    </tr>\n",
       "    <tr>\n",
       "      <th>2</th>\n",
       "      <td>43790</td>\n",
       "      <td>2023</td>\n",
       "      <td>Санкт-Петербургский государственный университе...</td>\n",
       "      <td>Выпускная квалификационная работа посвящена из...</td>\n",
       "    </tr>\n",
       "    <tr>\n",
       "      <th>3</th>\n",
       "      <td>41165</td>\n",
       "      <td>2023</td>\n",
       "      <td>Санкт-Петербургский государственный университе...</td>\n",
       "      <td>В данной работе описывается реализация обобщен...</td>\n",
       "    </tr>\n",
       "    <tr>\n",
       "      <th>4</th>\n",
       "      <td>42349</td>\n",
       "      <td>2023</td>\n",
       "      <td>ПРАВИТЕЛЬСТВО РОССИЙСКОЙ ФЕДЕРАЦИИ \\nСАНКТ-ПЕТ...</td>\n",
       "      <td>В выпускной квалификационной работе раскрывает...</td>\n",
       "    </tr>\n",
       "  </tbody>\n",
       "</table>\n",
       "</div>"
      ],
      "text/plain": [
       "      id  year                                            diploma  \\\n",
       "0  40165  2023  St. Petersburg State University\\nGraduate Scho...   \n",
       "1  41453  2023  Санкт-Петербургский государственный университе...   \n",
       "2  43790  2023  Санкт-Петербургский государственный университе...   \n",
       "3  41165  2023  Санкт-Петербургский государственный университе...   \n",
       "4  42349  2023  ПРАВИТЕЛЬСТВО РОССИЙСКОЙ ФЕДЕРАЦИИ \\nСАНКТ-ПЕТ...   \n",
       "\n",
       "                                            abstract  \n",
       "0  Данная работа исследует потенциал использовани...  \n",
       "1  Абдуллаев Ш.У. тема диссертации: «Роль политик...  \n",
       "2  Выпускная квалификационная работа посвящена из...  \n",
       "3  В данной работе описывается реализация обобщен...  \n",
       "4  В выпускной квалификационной работе раскрывает...  "
      ]
     },
     "execution_count": 3,
     "metadata": {},
     "output_type": "execute_result"
    }
   ],
   "source": [
    "df = pd.read_csv(ARTIFACTS_DIR_PATH.joinpath(\"parsing/diplomas/spbu/dataset.csv\"))\n",
    "df.head()"
   ]
  },
  {
   "cell_type": "code",
   "execution_count": 41,
   "metadata": {},
   "outputs": [
    {
     "data": {
      "application/vnd.jupyter.widget-view+json": {
       "model_id": "0f0ba5afa2d146a2a28be7c06ba4fc0b",
       "version_major": 2,
       "version_minor": 0
      },
      "text/plain": [
       "Rows...:   0%|          | 0/13933 [00:00<?, ?it/s]"
      ]
     },
     "metadata": {},
     "output_type": "display_data"
    }
   ],
   "source": [
    "new_rows = []\n",
    "for _, row in tqdm(df.iterrows(), total=len(df), desc=\"Rows...\"):\n",
    "    id = row[\"id\"]\n",
    "    year = row[\"year\"]\n",
    "    with open(ARTIFACTS_DIR_PATH.joinpath(f\"parsing/diplomas/spbu/{year}/view/{id}.html\"), \"r\") as f:\n",
    "        soup = BeautifulSoup(f.read())\n",
    "    dict_soup = convert(soup)\n",
    "    study_field = dict_soup[\"html\"][0][\"body\"][0][\"main\"][0][\"div\"][1][\"ol\"][0][\"li\"][2][\"#text\"]\n",
    "    degree = dict_soup[\"html\"][0][\"body\"][0][\"main\"][0][\"div\"][1][\"ol\"][0][\"li\"][3][\"#text\"]\n",
    "    new_row = copy.deepcopy(row)\n",
    "    new_row[\"study_field\"] = study_field\n",
    "    new_row[\"degree\"] = degree\n",
    "    new_rows.append(new_row)"
   ]
  },
  {
   "cell_type": "code",
   "execution_count": 42,
   "metadata": {},
   "outputs": [
    {
     "data": {
      "text/html": [
       "<div>\n",
       "<style scoped>\n",
       "    .dataframe tbody tr th:only-of-type {\n",
       "        vertical-align: middle;\n",
       "    }\n",
       "\n",
       "    .dataframe tbody tr th {\n",
       "        vertical-align: top;\n",
       "    }\n",
       "\n",
       "    .dataframe thead th {\n",
       "        text-align: right;\n",
       "    }\n",
       "</style>\n",
       "<table border=\"1\" class=\"dataframe\">\n",
       "  <thead>\n",
       "    <tr style=\"text-align: right;\">\n",
       "      <th></th>\n",
       "      <th>id</th>\n",
       "      <th>year</th>\n",
       "      <th>diploma</th>\n",
       "      <th>abstract</th>\n",
       "      <th>study_field</th>\n",
       "      <th>degree</th>\n",
       "    </tr>\n",
       "  </thead>\n",
       "  <tbody>\n",
       "    <tr>\n",
       "      <th>0</th>\n",
       "      <td>40165</td>\n",
       "      <td>2023</td>\n",
       "      <td>St. Petersburg State University\\nGraduate Scho...</td>\n",
       "      <td>Данная работа исследует потенциал использовани...</td>\n",
       "      <td>MANAGEMENT</td>\n",
       "      <td>MASTER'S STUDIES</td>\n",
       "    </tr>\n",
       "    <tr>\n",
       "      <th>1</th>\n",
       "      <td>41453</td>\n",
       "      <td>2023</td>\n",
       "      <td>Санкт-Петербургский государственный университе...</td>\n",
       "      <td>Абдуллаев Ш.У. тема диссертации: «Роль политик...</td>\n",
       "      <td>INTERNATIONAL RELATIONS</td>\n",
       "      <td>MASTER'S STUDIES</td>\n",
       "    </tr>\n",
       "    <tr>\n",
       "      <th>2</th>\n",
       "      <td>43790</td>\n",
       "      <td>2023</td>\n",
       "      <td>Санкт-Петербургский государственный университе...</td>\n",
       "      <td>Выпускная квалификационная работа посвящена из...</td>\n",
       "      <td>POLITICAL SCIENCE</td>\n",
       "      <td>BACHELOR STUDIES</td>\n",
       "    </tr>\n",
       "    <tr>\n",
       "      <th>3</th>\n",
       "      <td>41165</td>\n",
       "      <td>2023</td>\n",
       "      <td>Санкт-Петербургский государственный университе...</td>\n",
       "      <td>В данной работе описывается реализация обобщен...</td>\n",
       "      <td>MATHEMATICS AND MECHANICS</td>\n",
       "      <td>BACHELOR STUDIES</td>\n",
       "    </tr>\n",
       "    <tr>\n",
       "      <th>4</th>\n",
       "      <td>42349</td>\n",
       "      <td>2023</td>\n",
       "      <td>ПРАВИТЕЛЬСТВО РОССИЙСКОЙ ФЕДЕРАЦИИ \\nСАНКТ-ПЕТ...</td>\n",
       "      <td>В выпускной квалификационной работе раскрывает...</td>\n",
       "      <td>SOCIOLOGY</td>\n",
       "      <td>BACHELOR STUDIES</td>\n",
       "    </tr>\n",
       "  </tbody>\n",
       "</table>\n",
       "</div>"
      ],
      "text/plain": [
       "      id  year                                            diploma  \\\n",
       "0  40165  2023  St. Petersburg State University\\nGraduate Scho...   \n",
       "1  41453  2023  Санкт-Петербургский государственный университе...   \n",
       "2  43790  2023  Санкт-Петербургский государственный университе...   \n",
       "3  41165  2023  Санкт-Петербургский государственный университе...   \n",
       "4  42349  2023  ПРАВИТЕЛЬСТВО РОССИЙСКОЙ ФЕДЕРАЦИИ \\nСАНКТ-ПЕТ...   \n",
       "\n",
       "                                            abstract  \\\n",
       "0  Данная работа исследует потенциал использовани...   \n",
       "1  Абдуллаев Ш.У. тема диссертации: «Роль политик...   \n",
       "2  Выпускная квалификационная работа посвящена из...   \n",
       "3  В данной работе описывается реализация обобщен...   \n",
       "4  В выпускной квалификационной работе раскрывает...   \n",
       "\n",
       "                 study_field            degree  \n",
       "0                 MANAGEMENT  MASTER'S STUDIES  \n",
       "1    INTERNATIONAL RELATIONS  MASTER'S STUDIES  \n",
       "2          POLITICAL SCIENCE  BACHELOR STUDIES  \n",
       "3  MATHEMATICS AND MECHANICS  BACHELOR STUDIES  \n",
       "4                  SOCIOLOGY  BACHELOR STUDIES  "
      ]
     },
     "execution_count": 42,
     "metadata": {},
     "output_type": "execute_result"
    }
   ],
   "source": [
    "new_df = pd.DataFrame(new_rows)\n",
    "new_df.to_csv(DATASET_PATH, index=False)\n",
    "new_df.head()"
   ]
  },
  {
   "cell_type": "code",
   "execution_count": 43,
   "metadata": {},
   "outputs": [
    {
     "data": {
      "text/plain": [
       "13933"
      ]
     },
     "execution_count": 43,
     "metadata": {},
     "output_type": "execute_result"
    }
   ],
   "source": [
    "new_df.__len__()"
   ]
  },
  {
   "cell_type": "markdown",
   "metadata": {},
   "source": [
    "### Add info about original extension"
   ]
  },
  {
   "cell_type": "code",
   "execution_count": 60,
   "metadata": {},
   "outputs": [
    {
     "data": {
      "text/html": [
       "<div>\n",
       "<style scoped>\n",
       "    .dataframe tbody tr th:only-of-type {\n",
       "        vertical-align: middle;\n",
       "    }\n",
       "\n",
       "    .dataframe tbody tr th {\n",
       "        vertical-align: top;\n",
       "    }\n",
       "\n",
       "    .dataframe thead th {\n",
       "        text-align: right;\n",
       "    }\n",
       "</style>\n",
       "<table border=\"1\" class=\"dataframe\">\n",
       "  <thead>\n",
       "    <tr style=\"text-align: right;\">\n",
       "      <th></th>\n",
       "      <th>id</th>\n",
       "      <th>year</th>\n",
       "      <th>diploma</th>\n",
       "      <th>abstract</th>\n",
       "      <th>study_field</th>\n",
       "      <th>degree</th>\n",
       "    </tr>\n",
       "  </thead>\n",
       "  <tbody>\n",
       "    <tr>\n",
       "      <th>0</th>\n",
       "      <td>40165</td>\n",
       "      <td>2023</td>\n",
       "      <td>St. Petersburg State University\\nGraduate Scho...</td>\n",
       "      <td>Данная работа исследует потенциал использовани...</td>\n",
       "      <td>MANAGEMENT</td>\n",
       "      <td>MASTER'S STUDIES</td>\n",
       "    </tr>\n",
       "    <tr>\n",
       "      <th>1</th>\n",
       "      <td>41453</td>\n",
       "      <td>2023</td>\n",
       "      <td>Санкт-Петербургский государственный университе...</td>\n",
       "      <td>Абдуллаев Ш.У. тема диссертации: «Роль политик...</td>\n",
       "      <td>INTERNATIONAL RELATIONS</td>\n",
       "      <td>MASTER'S STUDIES</td>\n",
       "    </tr>\n",
       "    <tr>\n",
       "      <th>2</th>\n",
       "      <td>43790</td>\n",
       "      <td>2023</td>\n",
       "      <td>Санкт-Петербургский государственный университе...</td>\n",
       "      <td>Выпускная квалификационная работа посвящена из...</td>\n",
       "      <td>POLITICAL SCIENCE</td>\n",
       "      <td>BACHELOR STUDIES</td>\n",
       "    </tr>\n",
       "    <tr>\n",
       "      <th>3</th>\n",
       "      <td>41165</td>\n",
       "      <td>2023</td>\n",
       "      <td>Санкт-Петербургский государственный университе...</td>\n",
       "      <td>В данной работе описывается реализация обобщен...</td>\n",
       "      <td>MATHEMATICS AND MECHANICS</td>\n",
       "      <td>BACHELOR STUDIES</td>\n",
       "    </tr>\n",
       "    <tr>\n",
       "      <th>4</th>\n",
       "      <td>42349</td>\n",
       "      <td>2023</td>\n",
       "      <td>ПРАВИТЕЛЬСТВО РОССИЙСКОЙ ФЕДЕРАЦИИ \\nСАНКТ-ПЕТ...</td>\n",
       "      <td>В выпускной квалификационной работе раскрывает...</td>\n",
       "      <td>SOCIOLOGY</td>\n",
       "      <td>BACHELOR STUDIES</td>\n",
       "    </tr>\n",
       "  </tbody>\n",
       "</table>\n",
       "</div>"
      ],
      "text/plain": [
       "      id  year                                            diploma  \\\n",
       "0  40165  2023  St. Petersburg State University\\nGraduate Scho...   \n",
       "1  41453  2023  Санкт-Петербургский государственный университе...   \n",
       "2  43790  2023  Санкт-Петербургский государственный университе...   \n",
       "3  41165  2023  Санкт-Петербургский государственный университе...   \n",
       "4  42349  2023  ПРАВИТЕЛЬСТВО РОССИЙСКОЙ ФЕДЕРАЦИИ \\nСАНКТ-ПЕТ...   \n",
       "\n",
       "                                            abstract  \\\n",
       "0  Данная работа исследует потенциал использовани...   \n",
       "1  Абдуллаев Ш.У. тема диссертации: «Роль политик...   \n",
       "2  Выпускная квалификационная работа посвящена из...   \n",
       "3  В данной работе описывается реализация обобщен...   \n",
       "4  В выпускной квалификационной работе раскрывает...   \n",
       "\n",
       "                 study_field            degree  \n",
       "0                 MANAGEMENT  MASTER'S STUDIES  \n",
       "1    INTERNATIONAL RELATIONS  MASTER'S STUDIES  \n",
       "2          POLITICAL SCIENCE  BACHELOR STUDIES  \n",
       "3  MATHEMATICS AND MECHANICS  BACHELOR STUDIES  \n",
       "4                  SOCIOLOGY  BACHELOR STUDIES  "
      ]
     },
     "execution_count": 60,
     "metadata": {},
     "output_type": "execute_result"
    }
   ],
   "source": [
    "new_df.head()"
   ]
  },
  {
   "cell_type": "code",
   "execution_count": 74,
   "metadata": {},
   "outputs": [
    {
     "data": {
      "application/vnd.jupyter.widget-view+json": {
       "model_id": "5394aeb9313348ab9569cf7fab32dac1",
       "version_major": 2,
       "version_minor": 0
      },
      "text/plain": [
       "Rows...:   0%|          | 0/13933 [00:00<?, ?it/s]"
      ]
     },
     "metadata": {},
     "output_type": "display_data"
    }
   ],
   "source": [
    "super_new_rows = []\n",
    "for _, row in tqdm(new_df.iterrows(), total=len(new_df), desc=\"Rows...\"):\n",
    "    year, id = row[\"year\"], row[\"id\"]\n",
    "    dir_path = ARTIFACTS_DIR_PATH.joinpath(f\"parsing/diplomas/spbu/{year}/work/\")\n",
    "    ext = None\n",
    "    for path in dir_path.glob(f\"{id}*\"):\n",
    "        if path.suffix != \".txt\":\n",
    "            ext = path.suffix\n",
    "            break\n",
    "    super_new_row = copy.deepcopy(row)\n",
    "    super_new_row[\"original_diploma_extension\"] = ext\n",
    "    super_new_rows.append(super_new_row)"
   ]
  },
  {
   "cell_type": "code",
   "execution_count": 75,
   "metadata": {},
   "outputs": [
    {
     "data": {
      "text/html": [
       "<div>\n",
       "<style scoped>\n",
       "    .dataframe tbody tr th:only-of-type {\n",
       "        vertical-align: middle;\n",
       "    }\n",
       "\n",
       "    .dataframe tbody tr th {\n",
       "        vertical-align: top;\n",
       "    }\n",
       "\n",
       "    .dataframe thead th {\n",
       "        text-align: right;\n",
       "    }\n",
       "</style>\n",
       "<table border=\"1\" class=\"dataframe\">\n",
       "  <thead>\n",
       "    <tr style=\"text-align: right;\">\n",
       "      <th></th>\n",
       "      <th>id</th>\n",
       "      <th>year</th>\n",
       "      <th>diploma</th>\n",
       "      <th>abstract</th>\n",
       "      <th>study_field</th>\n",
       "      <th>degree</th>\n",
       "      <th>original_diploma_extension</th>\n",
       "    </tr>\n",
       "  </thead>\n",
       "  <tbody>\n",
       "    <tr>\n",
       "      <th>0</th>\n",
       "      <td>40165</td>\n",
       "      <td>2023</td>\n",
       "      <td>St. Petersburg State University\\nGraduate Scho...</td>\n",
       "      <td>Данная работа исследует потенциал использовани...</td>\n",
       "      <td>MANAGEMENT</td>\n",
       "      <td>MASTER'S STUDIES</td>\n",
       "      <td>.docx</td>\n",
       "    </tr>\n",
       "    <tr>\n",
       "      <th>1</th>\n",
       "      <td>41453</td>\n",
       "      <td>2023</td>\n",
       "      <td>Санкт-Петербургский государственный университе...</td>\n",
       "      <td>Абдуллаев Ш.У. тема диссертации: «Роль политик...</td>\n",
       "      <td>INTERNATIONAL RELATIONS</td>\n",
       "      <td>MASTER'S STUDIES</td>\n",
       "      <td>.doc</td>\n",
       "    </tr>\n",
       "    <tr>\n",
       "      <th>2</th>\n",
       "      <td>43790</td>\n",
       "      <td>2023</td>\n",
       "      <td>Санкт-Петербургский государственный университе...</td>\n",
       "      <td>Выпускная квалификационная работа посвящена из...</td>\n",
       "      <td>POLITICAL SCIENCE</td>\n",
       "      <td>BACHELOR STUDIES</td>\n",
       "      <td>.docx</td>\n",
       "    </tr>\n",
       "    <tr>\n",
       "      <th>3</th>\n",
       "      <td>41165</td>\n",
       "      <td>2023</td>\n",
       "      <td>Санкт-Петербургский государственный университе...</td>\n",
       "      <td>В данной работе описывается реализация обобщен...</td>\n",
       "      <td>MATHEMATICS AND MECHANICS</td>\n",
       "      <td>BACHELOR STUDIES</td>\n",
       "      <td>.pdf</td>\n",
       "    </tr>\n",
       "    <tr>\n",
       "      <th>4</th>\n",
       "      <td>42349</td>\n",
       "      <td>2023</td>\n",
       "      <td>ПРАВИТЕЛЬСТВО РОССИЙСКОЙ ФЕДЕРАЦИИ \\nСАНКТ-ПЕТ...</td>\n",
       "      <td>В выпускной квалификационной работе раскрывает...</td>\n",
       "      <td>SOCIOLOGY</td>\n",
       "      <td>BACHELOR STUDIES</td>\n",
       "      <td>.docx</td>\n",
       "    </tr>\n",
       "  </tbody>\n",
       "</table>\n",
       "</div>"
      ],
      "text/plain": [
       "      id  year                                            diploma  \\\n",
       "0  40165  2023  St. Petersburg State University\\nGraduate Scho...   \n",
       "1  41453  2023  Санкт-Петербургский государственный университе...   \n",
       "2  43790  2023  Санкт-Петербургский государственный университе...   \n",
       "3  41165  2023  Санкт-Петербургский государственный университе...   \n",
       "4  42349  2023  ПРАВИТЕЛЬСТВО РОССИЙСКОЙ ФЕДЕРАЦИИ \\nСАНКТ-ПЕТ...   \n",
       "\n",
       "                                            abstract  \\\n",
       "0  Данная работа исследует потенциал использовани...   \n",
       "1  Абдуллаев Ш.У. тема диссертации: «Роль политик...   \n",
       "2  Выпускная квалификационная работа посвящена из...   \n",
       "3  В данной работе описывается реализация обобщен...   \n",
       "4  В выпускной квалификационной работе раскрывает...   \n",
       "\n",
       "                 study_field            degree original_diploma_extension  \n",
       "0                 MANAGEMENT  MASTER'S STUDIES                      .docx  \n",
       "1    INTERNATIONAL RELATIONS  MASTER'S STUDIES                       .doc  \n",
       "2          POLITICAL SCIENCE  BACHELOR STUDIES                      .docx  \n",
       "3  MATHEMATICS AND MECHANICS  BACHELOR STUDIES                       .pdf  \n",
       "4                  SOCIOLOGY  BACHELOR STUDIES                      .docx  "
      ]
     },
     "execution_count": 75,
     "metadata": {},
     "output_type": "execute_result"
    }
   ],
   "source": [
    "super_new_df = pd.DataFrame(super_new_rows)\n",
    "super_new_df.head()"
   ]
  },
  {
   "cell_type": "code",
   "execution_count": 76,
   "metadata": {},
   "outputs": [],
   "source": [
    "super_new_df.to_csv(DATASET_PATH, index=False)"
   ]
  },
  {
   "cell_type": "markdown",
   "metadata": {},
   "source": [
    "### View if there is abstract in diploma text"
   ]
  },
  {
   "cell_type": "code",
   "execution_count": 90,
   "metadata": {},
   "outputs": [
    {
     "data": {
      "text/html": [
       "<div>\n",
       "<style scoped>\n",
       "    .dataframe tbody tr th:only-of-type {\n",
       "        vertical-align: middle;\n",
       "    }\n",
       "\n",
       "    .dataframe tbody tr th {\n",
       "        vertical-align: top;\n",
       "    }\n",
       "\n",
       "    .dataframe thead th {\n",
       "        text-align: right;\n",
       "    }\n",
       "</style>\n",
       "<table border=\"1\" class=\"dataframe\">\n",
       "  <thead>\n",
       "    <tr style=\"text-align: right;\">\n",
       "      <th></th>\n",
       "      <th>id</th>\n",
       "      <th>year</th>\n",
       "      <th>diploma</th>\n",
       "      <th>abstract</th>\n",
       "      <th>study_field</th>\n",
       "      <th>degree</th>\n",
       "      <th>original_diploma_extension</th>\n",
       "    </tr>\n",
       "  </thead>\n",
       "  <tbody>\n",
       "    <tr>\n",
       "      <th>0</th>\n",
       "      <td>40165</td>\n",
       "      <td>2023</td>\n",
       "      <td>St. Petersburg State University\\nGraduate Scho...</td>\n",
       "      <td>Данная работа исследует потенциал использовани...</td>\n",
       "      <td>MANAGEMENT</td>\n",
       "      <td>MASTER'S STUDIES</td>\n",
       "      <td>.docx</td>\n",
       "    </tr>\n",
       "    <tr>\n",
       "      <th>1</th>\n",
       "      <td>41453</td>\n",
       "      <td>2023</td>\n",
       "      <td>Санкт-Петербургский государственный университе...</td>\n",
       "      <td>Абдуллаев Ш.У. тема диссертации: «Роль политик...</td>\n",
       "      <td>INTERNATIONAL RELATIONS</td>\n",
       "      <td>MASTER'S STUDIES</td>\n",
       "      <td>.doc</td>\n",
       "    </tr>\n",
       "    <tr>\n",
       "      <th>2</th>\n",
       "      <td>43790</td>\n",
       "      <td>2023</td>\n",
       "      <td>Санкт-Петербургский государственный университе...</td>\n",
       "      <td>Выпускная квалификационная работа посвящена из...</td>\n",
       "      <td>POLITICAL SCIENCE</td>\n",
       "      <td>BACHELOR STUDIES</td>\n",
       "      <td>.docx</td>\n",
       "    </tr>\n",
       "    <tr>\n",
       "      <th>3</th>\n",
       "      <td>41165</td>\n",
       "      <td>2023</td>\n",
       "      <td>Санкт-Петербургский государственный университе...</td>\n",
       "      <td>В данной работе описывается реализация обобщен...</td>\n",
       "      <td>MATHEMATICS AND MECHANICS</td>\n",
       "      <td>BACHELOR STUDIES</td>\n",
       "      <td>.pdf</td>\n",
       "    </tr>\n",
       "    <tr>\n",
       "      <th>4</th>\n",
       "      <td>42349</td>\n",
       "      <td>2023</td>\n",
       "      <td>ПРАВИТЕЛЬСТВО РОССИЙСКОЙ ФЕДЕРАЦИИ \\nСАНКТ-ПЕТ...</td>\n",
       "      <td>В выпускной квалификационной работе раскрывает...</td>\n",
       "      <td>SOCIOLOGY</td>\n",
       "      <td>BACHELOR STUDIES</td>\n",
       "      <td>.docx</td>\n",
       "    </tr>\n",
       "  </tbody>\n",
       "</table>\n",
       "</div>"
      ],
      "text/plain": [
       "      id  year                                            diploma  \\\n",
       "0  40165  2023  St. Petersburg State University\\nGraduate Scho...   \n",
       "1  41453  2023  Санкт-Петербургский государственный университе...   \n",
       "2  43790  2023  Санкт-Петербургский государственный университе...   \n",
       "3  41165  2023  Санкт-Петербургский государственный университе...   \n",
       "4  42349  2023  ПРАВИТЕЛЬСТВО РОССИЙСКОЙ ФЕДЕРАЦИИ \\nСАНКТ-ПЕТ...   \n",
       "\n",
       "                                            abstract  \\\n",
       "0  Данная работа исследует потенциал использовани...   \n",
       "1  Абдуллаев Ш.У. тема диссертации: «Роль политик...   \n",
       "2  Выпускная квалификационная работа посвящена из...   \n",
       "3  В данной работе описывается реализация обобщен...   \n",
       "4  В выпускной квалификационной работе раскрывает...   \n",
       "\n",
       "                 study_field            degree original_diploma_extension  \n",
       "0                 MANAGEMENT  MASTER'S STUDIES                      .docx  \n",
       "1    INTERNATIONAL RELATIONS  MASTER'S STUDIES                       .doc  \n",
       "2          POLITICAL SCIENCE  BACHELOR STUDIES                      .docx  \n",
       "3  MATHEMATICS AND MECHANICS  BACHELOR STUDIES                       .pdf  \n",
       "4                  SOCIOLOGY  BACHELOR STUDIES                      .docx  "
      ]
     },
     "execution_count": 90,
     "metadata": {},
     "output_type": "execute_result"
    }
   ],
   "source": [
    "super_new_df.head()"
   ]
  },
  {
   "cell_type": "code",
   "execution_count": 94,
   "metadata": {},
   "outputs": [
    {
     "data": {
      "text/plain": [
       "'The fox jumped over the log.'"
      ]
     },
     "execution_count": 94,
     "metadata": {},
     "output_type": "execute_result"
    }
   ],
   "source": [
    "def normalize(s):\n",
    "    return \" \".join(s.split())\n",
    "normalize(\"The   fox jumped   over    the log.\")"
   ]
  },
  {
   "cell_type": "code",
   "execution_count": 96,
   "metadata": {},
   "outputs": [
    {
     "data": {
      "application/vnd.jupyter.widget-view+json": {
       "model_id": "4c9e093888b4468e91d0d28275fd90f2",
       "version_major": 2,
       "version_minor": 0
      },
      "text/plain": [
       "Rows...:   0%|          | 0/13933 [00:00<?, ?it/s]"
      ]
     },
     "metadata": {},
     "output_type": "display_data"
    },
    {
     "name": "stdout",
     "output_type": "stream",
     "text": [
      "426 562 13933\n"
     ]
    }
   ],
   "source": [
    "num_inside = 0\n",
    "num_inside_normalized = 0\n",
    "not_inside_mask = []\n",
    "for _, row in tqdm(super_new_df.iterrows(), total=len(super_new_df), desc=\"Rows...\"):\n",
    "    abstract, diploma = row[\"abstract\"], row[\"diploma\"]\n",
    "    abstract_normalized = normalize(abstract)\n",
    "    diploma_normalized = normalize(diploma)\n",
    "    if abstract in diploma:\n",
    "        num_inside += 1\n",
    "        not_inside_mask.append(0)\n",
    "    elif abstract_normalized in diploma_normalized:\n",
    "        num_inside_normalized += 1\n",
    "        not_inside_mask.append(0)\n",
    "    else:\n",
    "        not_inside_mask.append(1)\n",
    "print(num_inside, num_inside_normalized, len(super_new_df))"
   ]
  },
  {
   "cell_type": "code",
   "execution_count": 99,
   "metadata": {},
   "outputs": [
    {
     "data": {
      "text/plain": [
       "array([1, 1, 1, ..., 1, 0, 1])"
      ]
     },
     "execution_count": 99,
     "metadata": {},
     "output_type": "execute_result"
    }
   ],
   "source": [
    "not_inside_mask = np.array(not_inside_mask)\n",
    "not_inside_mask"
   ]
  },
  {
   "cell_type": "code",
   "execution_count": 104,
   "metadata": {},
   "outputs": [
    {
     "data": {
      "text/html": [
       "<div>\n",
       "<style scoped>\n",
       "    .dataframe tbody tr th:only-of-type {\n",
       "        vertical-align: middle;\n",
       "    }\n",
       "\n",
       "    .dataframe tbody tr th {\n",
       "        vertical-align: top;\n",
       "    }\n",
       "\n",
       "    .dataframe thead th {\n",
       "        text-align: right;\n",
       "    }\n",
       "</style>\n",
       "<table border=\"1\" class=\"dataframe\">\n",
       "  <thead>\n",
       "    <tr style=\"text-align: right;\">\n",
       "      <th></th>\n",
       "      <th>id</th>\n",
       "      <th>year</th>\n",
       "      <th>diploma</th>\n",
       "      <th>abstract</th>\n",
       "      <th>study_field</th>\n",
       "      <th>degree</th>\n",
       "      <th>original_diploma_extension</th>\n",
       "    </tr>\n",
       "  </thead>\n",
       "  <tbody>\n",
       "    <tr>\n",
       "      <th>0</th>\n",
       "      <td>40165</td>\n",
       "      <td>2023</td>\n",
       "      <td>St. Petersburg State University\\nGraduate Scho...</td>\n",
       "      <td>Данная работа исследует потенциал использовани...</td>\n",
       "      <td>MANAGEMENT</td>\n",
       "      <td>MASTER'S STUDIES</td>\n",
       "      <td>.docx</td>\n",
       "    </tr>\n",
       "    <tr>\n",
       "      <th>1</th>\n",
       "      <td>41453</td>\n",
       "      <td>2023</td>\n",
       "      <td>Санкт-Петербургский государственный университе...</td>\n",
       "      <td>Абдуллаев Ш.У. тема диссертации: «Роль политик...</td>\n",
       "      <td>INTERNATIONAL RELATIONS</td>\n",
       "      <td>MASTER'S STUDIES</td>\n",
       "      <td>.doc</td>\n",
       "    </tr>\n",
       "    <tr>\n",
       "      <th>2</th>\n",
       "      <td>43790</td>\n",
       "      <td>2023</td>\n",
       "      <td>Санкт-Петербургский государственный университе...</td>\n",
       "      <td>Выпускная квалификационная работа посвящена из...</td>\n",
       "      <td>POLITICAL SCIENCE</td>\n",
       "      <td>BACHELOR STUDIES</td>\n",
       "      <td>.docx</td>\n",
       "    </tr>\n",
       "    <tr>\n",
       "      <th>3</th>\n",
       "      <td>41165</td>\n",
       "      <td>2023</td>\n",
       "      <td>Санкт-Петербургский государственный университе...</td>\n",
       "      <td>В данной работе описывается реализация обобщен...</td>\n",
       "      <td>MATHEMATICS AND MECHANICS</td>\n",
       "      <td>BACHELOR STUDIES</td>\n",
       "      <td>.pdf</td>\n",
       "    </tr>\n",
       "    <tr>\n",
       "      <th>4</th>\n",
       "      <td>42349</td>\n",
       "      <td>2023</td>\n",
       "      <td>ПРАВИТЕЛЬСТВО РОССИЙСКОЙ ФЕДЕРАЦИИ \\nСАНКТ-ПЕТ...</td>\n",
       "      <td>В выпускной квалификационной работе раскрывает...</td>\n",
       "      <td>SOCIOLOGY</td>\n",
       "      <td>BACHELOR STUDIES</td>\n",
       "      <td>.docx</td>\n",
       "    </tr>\n",
       "  </tbody>\n",
       "</table>\n",
       "</div>"
      ],
      "text/plain": [
       "      id  year                                            diploma  \\\n",
       "0  40165  2023  St. Petersburg State University\\nGraduate Scho...   \n",
       "1  41453  2023  Санкт-Петербургский государственный университе...   \n",
       "2  43790  2023  Санкт-Петербургский государственный университе...   \n",
       "3  41165  2023  Санкт-Петербургский государственный университе...   \n",
       "4  42349  2023  ПРАВИТЕЛЬСТВО РОССИЙСКОЙ ФЕДЕРАЦИИ \\nСАНКТ-ПЕТ...   \n",
       "\n",
       "                                            abstract  \\\n",
       "0  Данная работа исследует потенциал использовани...   \n",
       "1  Абдуллаев Ш.У. тема диссертации: «Роль политик...   \n",
       "2  Выпускная квалификационная работа посвящена из...   \n",
       "3  В данной работе описывается реализация обобщен...   \n",
       "4  В выпускной квалификационной работе раскрывает...   \n",
       "\n",
       "                 study_field            degree original_diploma_extension  \n",
       "0                 MANAGEMENT  MASTER'S STUDIES                      .docx  \n",
       "1    INTERNATIONAL RELATIONS  MASTER'S STUDIES                       .doc  \n",
       "2          POLITICAL SCIENCE  BACHELOR STUDIES                      .docx  \n",
       "3  MATHEMATICS AND MECHANICS  BACHELOR STUDIES                       .pdf  \n",
       "4                  SOCIOLOGY  BACHELOR STUDIES                      .docx  "
      ]
     },
     "execution_count": 104,
     "metadata": {},
     "output_type": "execute_result"
    }
   ],
   "source": [
    "super_puper_new_df = super_new_df.iloc[np.where(not_inside_mask)[0]]\n",
    "super_puper_new_df.to_csv(DATASET_PATH, index=False)\n",
    "super_puper_new_df.head()"
   ]
  },
  {
   "cell_type": "markdown",
   "metadata": {},
   "source": [
    "### View russian diplomas"
   ]
  },
  {
   "cell_type": "code",
   "execution_count": 6,
   "metadata": {},
   "outputs": [],
   "source": [
    "df_2023 = pd.read_csv(ARTIFACTS_DIR_PATH.joinpath(\"parsing/diplomas/spbu/russian_stupid_filter_dataset.csv\"))"
   ]
  },
  {
   "cell_type": "code",
   "execution_count": 7,
   "metadata": {},
   "outputs": [
    {
     "name": "stdout",
     "output_type": "stream",
     "text": [
      "10924\n"
     ]
    },
    {
     "data": {
      "text/plain": [
       "1387"
      ]
     },
     "execution_count": 7,
     "metadata": {},
     "output_type": "execute_result"
    }
   ],
   "source": [
    "print(len(df_2023))\n",
    "df_2023 = df_2023[df_2023[\"year\"] == 2023]\n",
    "len(df_2023)"
   ]
  },
  {
   "cell_type": "markdown",
   "metadata": {},
   "source": [
    "### Calculating total capacity of diplomas"
   ]
  },
  {
   "cell_type": "code",
   "execution_count": 4,
   "metadata": {},
   "outputs": [
    {
     "data": {
      "text/plain": [
       "17137"
      ]
     },
     "execution_count": 4,
     "metadata": {},
     "output_type": "execute_result"
    }
   ],
   "source": [
    "total = 0\n",
    "for year in years:\n",
    "    total += get_num_diplomas(year)\n",
    "total"
   ]
  },
  {
   "cell_type": "markdown",
   "metadata": {},
   "source": [
    "### Filter df: remain russian (stupid)"
   ]
  },
  {
   "cell_type": "code",
   "execution_count": 111,
   "metadata": {},
   "outputs": [
    {
     "data": {
      "text/plain": [
       "1271"
      ]
     },
     "execution_count": 111,
     "metadata": {},
     "output_type": "execute_result"
    }
   ],
   "source": [
    "(russian_stupid_filter_df[\"year\"] == 2023).sum()"
   ]
  },
  {
   "cell_type": "code",
   "execution_count": 105,
   "metadata": {},
   "outputs": [],
   "source": [
    "pattern = \"выпускная квалификационная работа\"\n",
    "lower_texts = list(map(lambda x: x.lower(), super_puper_new_df[\"diploma\"]))\n",
    "mask = []\n",
    "for lower_text in lower_texts:\n",
    "    mask.append(pattern in lower_text)"
   ]
  },
  {
   "cell_type": "code",
   "execution_count": 48,
   "metadata": {},
   "outputs": [
    {
     "data": {
      "text/plain": [
       "(10924, 13933, 78.40378956434364)"
      ]
     },
     "execution_count": 48,
     "metadata": {},
     "output_type": "execute_result"
    }
   ],
   "source": [
    "sum(mask), len(mask), sum(mask) / len(mask) * 100"
   ]
  },
  {
   "cell_type": "code",
   "execution_count": 49,
   "metadata": {},
   "outputs": [
    {
     "data": {
      "text/plain": [
       "array([    1,     2,     3, ..., 13927, 13929, 13930])"
      ]
     },
     "execution_count": 49,
     "metadata": {},
     "output_type": "execute_result"
    }
   ],
   "source": [
    "np.where(mask)[0]"
   ]
  },
  {
   "cell_type": "code",
   "execution_count": 106,
   "metadata": {},
   "outputs": [],
   "source": [
    "russian_stupid_filter_df = super_puper_new_df.iloc[np.where(mask)[0]]"
   ]
  },
  {
   "cell_type": "code",
   "execution_count": 110,
   "metadata": {},
   "outputs": [
    {
     "data": {
      "text/html": [
       "<div>\n",
       "<style scoped>\n",
       "    .dataframe tbody tr th:only-of-type {\n",
       "        vertical-align: middle;\n",
       "    }\n",
       "\n",
       "    .dataframe tbody tr th {\n",
       "        vertical-align: top;\n",
       "    }\n",
       "\n",
       "    .dataframe thead th {\n",
       "        text-align: right;\n",
       "    }\n",
       "</style>\n",
       "<table border=\"1\" class=\"dataframe\">\n",
       "  <thead>\n",
       "    <tr style=\"text-align: right;\">\n",
       "      <th></th>\n",
       "      <th>id</th>\n",
       "      <th>year</th>\n",
       "      <th>diploma</th>\n",
       "      <th>abstract</th>\n",
       "      <th>study_field</th>\n",
       "      <th>degree</th>\n",
       "      <th>original_diploma_extension</th>\n",
       "    </tr>\n",
       "  </thead>\n",
       "  <tbody>\n",
       "    <tr>\n",
       "      <th>1</th>\n",
       "      <td>41453</td>\n",
       "      <td>2023</td>\n",
       "      <td>Санкт-Петербургский государственный университе...</td>\n",
       "      <td>Абдуллаев Ш.У. тема диссертации: «Роль политик...</td>\n",
       "      <td>INTERNATIONAL RELATIONS</td>\n",
       "      <td>MASTER'S STUDIES</td>\n",
       "      <td>.doc</td>\n",
       "    </tr>\n",
       "    <tr>\n",
       "      <th>2</th>\n",
       "      <td>43790</td>\n",
       "      <td>2023</td>\n",
       "      <td>Санкт-Петербургский государственный университе...</td>\n",
       "      <td>Выпускная квалификационная работа посвящена из...</td>\n",
       "      <td>POLITICAL SCIENCE</td>\n",
       "      <td>BACHELOR STUDIES</td>\n",
       "      <td>.docx</td>\n",
       "    </tr>\n",
       "    <tr>\n",
       "      <th>3</th>\n",
       "      <td>41165</td>\n",
       "      <td>2023</td>\n",
       "      <td>Санкт-Петербургский государственный университе...</td>\n",
       "      <td>В данной работе описывается реализация обобщен...</td>\n",
       "      <td>MATHEMATICS AND MECHANICS</td>\n",
       "      <td>BACHELOR STUDIES</td>\n",
       "      <td>.pdf</td>\n",
       "    </tr>\n",
       "    <tr>\n",
       "      <th>4</th>\n",
       "      <td>42349</td>\n",
       "      <td>2023</td>\n",
       "      <td>ПРАВИТЕЛЬСТВО РОССИЙСКОЙ ФЕДЕРАЦИИ \\nСАНКТ-ПЕТ...</td>\n",
       "      <td>В выпускной квалификационной работе раскрывает...</td>\n",
       "      <td>SOCIOLOGY</td>\n",
       "      <td>BACHELOR STUDIES</td>\n",
       "      <td>.docx</td>\n",
       "    </tr>\n",
       "    <tr>\n",
       "      <th>6</th>\n",
       "      <td>40166</td>\n",
       "      <td>2023</td>\n",
       "      <td>Федеральное государственное бюджетное образова...</td>\n",
       "      <td>На сегодняшний день наблюдается высокий спрос ...</td>\n",
       "      <td>MANAGEMENT</td>\n",
       "      <td>BACHELOR STUDIES</td>\n",
       "      <td>.docx</td>\n",
       "    </tr>\n",
       "  </tbody>\n",
       "</table>\n",
       "</div>"
      ],
      "text/plain": [
       "      id  year                                            diploma  \\\n",
       "1  41453  2023  Санкт-Петербургский государственный университе...   \n",
       "2  43790  2023  Санкт-Петербургский государственный университе...   \n",
       "3  41165  2023  Санкт-Петербургский государственный университе...   \n",
       "4  42349  2023  ПРАВИТЕЛЬСТВО РОССИЙСКОЙ ФЕДЕРАЦИИ \\nСАНКТ-ПЕТ...   \n",
       "6  40166  2023  Федеральное государственное бюджетное образова...   \n",
       "\n",
       "                                            abstract  \\\n",
       "1  Абдуллаев Ш.У. тема диссертации: «Роль политик...   \n",
       "2  Выпускная квалификационная работа посвящена из...   \n",
       "3  В данной работе описывается реализация обобщен...   \n",
       "4  В выпускной квалификационной работе раскрывает...   \n",
       "6  На сегодняшний день наблюдается высокий спрос ...   \n",
       "\n",
       "                 study_field            degree original_diploma_extension  \n",
       "1    INTERNATIONAL RELATIONS  MASTER'S STUDIES                       .doc  \n",
       "2          POLITICAL SCIENCE  BACHELOR STUDIES                      .docx  \n",
       "3  MATHEMATICS AND MECHANICS  BACHELOR STUDIES                       .pdf  \n",
       "4                  SOCIOLOGY  BACHELOR STUDIES                      .docx  \n",
       "6                 MANAGEMENT  BACHELOR STUDIES                      .docx  "
      ]
     },
     "execution_count": 110,
     "metadata": {},
     "output_type": "execute_result"
    }
   ],
   "source": [
    "russian_stupid_filter_df.head()"
   ]
  },
  {
   "cell_type": "code",
   "execution_count": 108,
   "metadata": {},
   "outputs": [
    {
     "data": {
      "text/plain": [
       "10291"
      ]
     },
     "execution_count": 108,
     "metadata": {},
     "output_type": "execute_result"
    }
   ],
   "source": [
    "russian_stupid_filter_df.__len__()"
   ]
  },
  {
   "cell_type": "code",
   "execution_count": 109,
   "metadata": {},
   "outputs": [],
   "source": [
    "russian_stupid_filter_df.to_csv(ARTIFACTS_DIR_PATH.joinpath(f\"parsing/diplomas/spbu/russian_dataset.csv\"), index=False)"
   ]
  },
  {
   "cell_type": "markdown",
   "metadata": {},
   "source": [
    "### [old] Convert .doc to .txt"
   ]
  },
  {
   "cell_type": "code",
   "execution_count": 4,
   "metadata": {},
   "outputs": [
    {
     "name": "stdout",
     "output_type": "stream",
     "text": [
      "defaultdict(<class 'int'>, {'.txt': 1654, '.pdf': 881, '.docx': 722, '.doc': 29, '.jpg': 4, '.spv': 1, '.jpeg': 7, '.pages': 1, '.mp4': 1, '.DOCX': 1, '.xlsx': 2, '.rtf': 1, '.odt': 1, '.docm': 1, '.JPG': 1, '.PDF': 1})\n"
     ]
    }
   ],
   "source": [
    "base_spbu_dir_path = ARTIFACTS_DIR_PATH.joinpath(f\"parsing/diplomas/spbu/{year}/\")\n",
    "base_diplomas_dir_path = base_spbu_dir_path.joinpath(\"work\") \n",
    "\n",
    "exts = defaultdict(int)\n",
    "for file in base_diplomas_dir_path.glob(\"*\"):\n",
    "    exts[file.suffix] += 1\n",
    "print(exts)\n",
    "\n",
    "for ext in exts:\n",
    "    for file in base_diplomas_dir_path.glob(f\"*{ext}\"):\n",
    "        if ext != \".pages\":\n",
    "            break\n",
    "\n",
    "processed_work_ext_doc_dir_path = base_spbu_dir_path.joinpath(\"work_txt/\")\n",
    "processed_work_ext_doc_dir_path.mkdir(exist_ok=True, parents=True)\n",
    "def convert_doc_to_txt(filename):\n",
    "    subprocess.run([\"textutil\", \"-convert\", \"txt\", \"-output\", processed_work_ext_doc_dir_path.joinpath(f\"{filename.stem}.txt\").as_posix(), filename])\n",
    "\n",
    "# for ext in [\".doc\", \".docx\", \".DOCX\"]:\n",
    "#     for file in base_diplomas_dir_path.glob(f\"*{ext}\"):\n",
    "#         convert_doc_to_txt(file)"
   ]
  },
  {
   "cell_type": "code",
   "execution_count": 8,
   "metadata": {},
   "outputs": [
    {
     "name": "stderr",
     "output_type": "stream",
     "text": [
      "Syntax Warning: Mismatch between font type and embedded font file\n",
      "Syntax Warning: Mismatch between font type and embedded font file\n",
      "Syntax Warning: Mismatch between font type and embedded font file\n",
      "Syntax Warning: Mismatch between font type and embedded font file\n",
      "Syntax Warning: Mismatch between font type and embedded font file\n",
      "Syntax Warning: Mismatch between font type and embedded font file\n",
      "Syntax Error: Document stream is empty\n",
      "Syntax Warning: Invalid Font Weight\n",
      "Syntax Warning: Bad annotation destination\n",
      "Syntax Warning: Bad annotation destination\n",
      "Syntax Warning: Bad annotation destination\n",
      "Syntax Warning: Bad annotation destination\n",
      "Syntax Warning: Bad annotation destination\n",
      "Syntax Warning: Bad annotation destination\n",
      "Syntax Warning: Bad annotation destination\n",
      "Syntax Warning: Bad annotation destination\n",
      "Syntax Warning: Bad annotation destination\n",
      "Syntax Warning: Bad annotation destination\n",
      "Syntax Warning: Bad annotation destination\n",
      "Syntax Warning: Bad annotation destination\n",
      "Syntax Warning: Bad annotation destination\n",
      "Syntax Warning: Bad annotation destination\n",
      "Syntax Warning: Bad annotation destination\n",
      "Internal Error: xref num 1096 not found but needed, try to reconstruct<0a>\n",
      "Syntax Error: Document stream is empty\n",
      "Syntax Error (1218): Unknown operator 'rgb'\n",
      "Syntax Error (1260): Unknown operator 'rgb'\n",
      "Syntax Error (1342): Unknown operator 'rgb'\n",
      "Syntax Error (1404): Unknown operator 'rgb'\n",
      "Syntax Error (1471): Unknown operator 'rgb'\n",
      "Syntax Error (1524): Unknown operator 'rgb'\n",
      "Syntax Error (1565): Unknown operator 'rgb'\n",
      "Syntax Error (3311): Unknown operator 'rgb'\n",
      "Syntax Error (5906): Unknown operator 'rgb'\n",
      "Syntax Error (6091): Unknown operator 'rgb'\n",
      "Syntax Error (6791): Unknown operator 'rgb'\n",
      "Syntax Error (7116): Unknown operator 'rgb'\n",
      "Syntax Error (7119): Unknown operator 'rgb'\n",
      "Syntax Error (7314): Unknown operator 'rgb'\n",
      "Syntax Error (7389): Unknown operator 'rgb'\n",
      "Syntax Error (7396): Unknown operator 'rgb'\n",
      "Syntax Error (7414): Unknown operator 'rgb'\n",
      "Syntax Error (7797): Unknown operator 'rgb'\n",
      "Syntax Error (9417): Unknown operator 'rgb'\n",
      "Syntax Error (9550): Unknown operator 'rgb'\n",
      "Syntax Error (10410): Unknown operator 'rgb'\n",
      "Syntax Error (10622): Unknown operator 'rgb'\n",
      "Syntax Error (10703): Unknown operator 'rgb'\n",
      "Syntax Error (10934): Unknown operator 'rgb'\n",
      "Syntax Error (11018): Unknown operator 'rgb'\n",
      "Syntax Error (11129): Unknown operator 'rgb'\n",
      "Syntax Error (11352): Unknown operator 'rgb'\n",
      "Syntax Error (11916): Unknown operator 'rgb'\n",
      "Syntax Error (12584): Unknown operator 'rgb'\n",
      "Syntax Error (181341): Unknown operator 'rgb'\n",
      "Syntax Error (181360): Unknown operator 'rgb'\n",
      "Syntax Error (182448): Unknown operator 'rgb'\n",
      "Syntax Error (182689): Unknown operator 'rgb'\n",
      "Syntax Error (183527): Unknown operator 'rgb'\n",
      "Syntax Error (185298): Unknown operator 'rgb'\n",
      "Syntax Error (185314): Unknown operator 'rgb'\n",
      "Syntax Error (185942): Unknown operator 'rgb'\n",
      "Syntax Error (187101): Unknown operator 'rgb'\n",
      "Syntax Error (187723): Unknown operator 'rgb'\n",
      "Syntax Error (187820): Unknown operator 'rgb'\n",
      "Syntax Error (187830): Unknown operator 'rgb'\n",
      "Syntax Error (187863): Unknown operator 'rgb'\n",
      "Syntax Error (187978): Unknown operator 'rgb'\n",
      "Syntax Error (188133): Unknown operator 'rgb'\n",
      "Syntax Error (191960): Unknown operator 'rgb'\n",
      "Syntax Error (192684): Unknown operator 'rgb'\n",
      "Syntax Error (192966): Unknown operator 'rgb'\n",
      "Syntax Error (193195): Unknown operator 'rgb'\n",
      "Syntax Error (193647): Unknown operator 'rgb'\n",
      "Syntax Error (193675): Unknown operator 'rgb'\n",
      "Syntax Error (194483): Unknown operator 'rgb'\n",
      "Syntax Error (194855): Unknown operator 'rgb'\n",
      "Syntax Error (196133): Unknown operator 'rgb'\n",
      "Syntax Error (196446): Unknown operator 'rgb'\n",
      "Syntax Error (196520): Unknown operator 'rgb'\n",
      "Syntax Error (196714): Unknown operator 'rgb'\n",
      "Syntax Error (198366): Unknown operator 'rgb'\n",
      "Syntax Error (198567): Unknown operator 'rgb'\n",
      "Syntax Error (198639): Unknown operator 'rgb'\n",
      "Syntax Error (198897): Unknown operator 'rgb'\n",
      "Syntax Error (199227): Unknown operator 'rgb'\n",
      "Syntax Error (199557): Unknown operator 'rgb'\n",
      "Syntax Error (199615): Unknown operator 'rgb'\n",
      "Syntax Error (202754): Unknown operator 'rgb'\n",
      "Syntax Error (202993): Unknown operator 'rgb'\n",
      "Syntax Error (205961): Unknown operator 'rgb'\n",
      "Syntax Error (206028): Unknown operator 'rgb'\n",
      "Syntax Error (207864): Unknown operator 'rgb'\n",
      "Syntax Error (208295): Unknown operator 'rgb'\n",
      "Syntax Error (209334): Unknown operator 'rgb'\n",
      "Syntax Error (209347): Unknown operator 'rgb'\n",
      "Syntax Error (1421850): Unknown operator 'rgb'\n",
      "Syntax Error (1421883): Unknown operator 'rgb'\n",
      "Syntax Error (1423091): Unknown operator 'rgb'\n",
      "Syntax Error (1423460): Unknown operator 'rgb'\n",
      "Syntax Error (1423854): Unknown operator 'rgb'\n",
      "Syntax Error (1424442): Unknown operator 'rgb'\n",
      "Syntax Error (1425081): Unknown operator 'rgb'\n",
      "Syntax Error (1425102): Unknown operator 'rgb'\n",
      "Syntax Error (1425261): Unknown operator 'rgb'\n",
      "Syntax Error (1425465): Unknown operator 'rgb'\n",
      "Syntax Error (1425471): Unknown operator 'rgb'\n",
      "Syntax Error (2464341): Unknown operator 'rgb'\n",
      "Syntax Error (2465683): Unknown operator 'rgb'\n",
      "Syntax Error (2584078): Unknown operator 'rgb'\n",
      "Syntax Error (2584586): Unknown operator 'rgb'\n",
      "Syntax Error (2584746): Unknown operator 'rgb'\n",
      "Syntax Error (2585159): Unknown operator 'rgb'\n",
      "Syntax Error (2585534): Unknown operator 'rgb'\n",
      "Syntax Error (2585699): Unknown operator 'rgb'\n",
      "Syntax Error (2585708): Unknown operator 'rgb'\n",
      "Syntax Error: Document stream is empty\n",
      "Internal Error: xref num 920 not found but needed, try to reconstruct<0a>\n",
      "Syntax Error: Couldn't find trailer dictionary\n",
      "Syntax Error: Couldn't find trailer dictionary\n",
      "Syntax Error: Couldn't read xref table\n",
      "Syntax Error: Document stream is empty\n",
      "Syntax Error: Document stream is empty\n",
      "Syntax Error: Document stream is empty\n"
     ]
    }
   ],
   "source": [
    "def convert_pdf_to_txt(filename):\n",
    "    subprocess.run([\"pdftotext\", filename.as_posix(), processed_work_ext_doc_dir_path.joinpath(f\"{filename.stem}.txt\").as_posix()])\n",
    "\n",
    "for file in base_diplomas_dir_path.glob(f\"*.pdf\"):\n",
    "    convert_pdf_to_txt(file)"
   ]
  },
  {
   "cell_type": "markdown",
   "metadata": {},
   "source": [
    "### Filter diplomas: only russian"
   ]
  },
  {
   "cell_type": "code",
   "execution_count": 3,
   "metadata": {},
   "outputs": [],
   "source": [
    "RAW_DIPLOMAS_DIR_PATH = ARTIFACTS_DIR_PATH.joinpath(f\"parsing/diplomas/spbu/{year}/work/\")\n",
    "PROCESSED_DIPLOMAS_DIR_PATH = ARTIFACTS_DIR_PATH.joinpath(f\"parsing/diplomas/spbu/{year}/stupid_filtered_work\")\n",
    "PROCESSED_DIPLOMAS_DIR_PATH.mkdir(exist_ok=True, parents=True)"
   ]
  },
  {
   "cell_type": "code",
   "execution_count": 3,
   "metadata": {},
   "outputs": [
    {
     "name": "stdout",
     "output_type": "stream",
     "text": [
      "Санкт-Пете\n",
      "          \n",
      "Санкт-Пете\n",
      "Санкт-Пете\n",
      "Санкт-Пете\n",
      "Санкт-Пете\n",
      "Санкт-Пете\n",
      "Санкт-Пете\n",
      "ФГОУ ВО «С\n",
      "Санкт-Пете\n",
      "Санкт-Пете\n",
      "Санкт-Пете\n",
      "САНКТ-ПЕТЕ\n",
      "Санкт-Пете\n",
      "Санкт-Пете\n",
      "Санкт-Пете\n",
      "Санкт-Пете\n",
      "Санкт-Пете\n",
      "Санкт-Пете\n",
      "Санкт-Пете\n",
      "\n",
      "САНКТ-ПЕТ\n",
      "Санкт-Пете\n",
      "Санкт-Пете\n",
      "23 143\n"
     ]
    }
   ],
   "source": [
    "num_ok, num_all = 0, 0\n",
    "for file in RAW_DIPLOMAS_DIR_PATH.glob(\"*.txt\"):\n",
    "    with open(file, \"r\") as f:\n",
    "        text = f.read()\n",
    "    if \"выпускная квалификационная работа\" in text.lower() and \"отзыв\" not in text.lower():\n",
    "        with open(PROCESSED_DIPLOMAS_DIR_PATH.joinpath(f\"{file.stem}.txt\"), \"w\") as f:\n",
    "            f.write(text)\n",
    "        print(text[:10])\n",
    "        num_ok += 1\n",
    "    num_all += 1\n",
    "print(num_ok, num_all)"
   ]
  }
 ],
 "metadata": {
  "kernelspec": {
   "display_name": "Python 3",
   "language": "python",
   "name": "python3"
  },
  "language_info": {
   "codemirror_mode": {
    "name": "ipython",
    "version": 3
   },
   "file_extension": ".py",
   "mimetype": "text/x-python",
   "name": "python",
   "nbconvert_exporter": "python",
   "pygments_lexer": "ipython3",
   "version": "3.11.9"
  }
 },
 "nbformat": 4,
 "nbformat_minor": 2
}
