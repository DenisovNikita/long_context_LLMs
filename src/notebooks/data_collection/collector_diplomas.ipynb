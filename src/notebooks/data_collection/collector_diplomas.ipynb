{
 "cells": [
  {
   "cell_type": "markdown",
   "metadata": {},
   "source": [
    "### Imports"
   ]
  },
  {
   "cell_type": "code",
   "execution_count": 1,
   "metadata": {},
   "outputs": [
    {
     "name": "stdout",
     "output_type": "stream",
     "text": [
      "Collecting beautifulsoup4==4.12.3 (from -r ../../../requirements.txt (line 1))\n",
      "  Using cached beautifulsoup4-4.12.3-py3-none-any.whl.metadata (3.8 kB)\n",
      "Requirement already satisfied: ipython in /Users/nvdenisov2002/study/8-semester/diploma/.conda/lib/python3.11/site-packages (from -r ../../../requirements.txt (line 2)) (8.22.2)\n",
      "Collecting matplotlib==3.7.2 (from -r ../../../requirements.txt (line 3))\n",
      "  Using cached matplotlib-3.7.2-cp311-cp311-macosx_11_0_arm64.whl.metadata (5.6 kB)\n",
      "Collecting numpy==1.25.1 (from -r ../../../requirements.txt (line 4))\n",
      "  Using cached numpy-1.25.1-cp311-cp311-macosx_11_0_arm64.whl.metadata (5.6 kB)\n",
      "Collecting pandas==2.0.3 (from -r ../../../requirements.txt (line 5))\n",
      "  Using cached pandas-2.0.3-cp311-cp311-macosx_11_0_arm64.whl.metadata (18 kB)\n",
      "Collecting peft==0.10.0 (from -r ../../../requirements.txt (line 6))\n",
      "  Using cached peft-0.10.0-py3-none-any.whl.metadata (13 kB)\n",
      "Collecting Requests==2.31.0 (from -r ../../../requirements.txt (line 7))\n",
      "  Using cached requests-2.31.0-py3-none-any.whl.metadata (4.6 kB)\n",
      "Collecting soup2dict==2.1.0 (from -r ../../../requirements.txt (line 8))\n",
      "  Using cached soup2dict-2.1.0-py3-none-any.whl.metadata (6.0 kB)\n",
      "Collecting tokenizer==3.4.3 (from -r ../../../requirements.txt (line 9))\n",
      "  Using cached tokenizer-3.4.3-py2.py3-none-any.whl.metadata (42 kB)\n",
      "Collecting torch==2.3.0 (from -r ../../../requirements.txt (line 10))\n",
      "  Using cached torch-2.3.0-cp311-none-macosx_11_0_arm64.whl.metadata (26 kB)\n",
      "Collecting tqdm==4.65.0 (from -r ../../../requirements.txt (line 11))\n",
      "  Using cached tqdm-4.65.0-py3-none-any.whl.metadata (56 kB)\n",
      "Collecting transformers==4.39.3 (from -r ../../../requirements.txt (line 12))\n",
      "  Using cached transformers-4.39.3-py3-none-any.whl.metadata (134 kB)\n",
      "Collecting soupsieve>1.2 (from beautifulsoup4==4.12.3->-r ../../../requirements.txt (line 1))\n",
      "  Using cached soupsieve-2.5-py3-none-any.whl.metadata (4.7 kB)\n",
      "Collecting contourpy>=1.0.1 (from matplotlib==3.7.2->-r ../../../requirements.txt (line 3))\n",
      "  Using cached contourpy-1.2.1-cp311-cp311-macosx_11_0_arm64.whl.metadata (5.8 kB)\n",
      "Collecting cycler>=0.10 (from matplotlib==3.7.2->-r ../../../requirements.txt (line 3))\n",
      "  Using cached cycler-0.12.1-py3-none-any.whl.metadata (3.8 kB)\n",
      "Collecting fonttools>=4.22.0 (from matplotlib==3.7.2->-r ../../../requirements.txt (line 3))\n",
      "  Using cached fonttools-4.51.0-cp311-cp311-macosx_10_9_universal2.whl.metadata (159 kB)\n",
      "Collecting kiwisolver>=1.0.1 (from matplotlib==3.7.2->-r ../../../requirements.txt (line 3))\n",
      "  Using cached kiwisolver-1.4.5-cp311-cp311-macosx_11_0_arm64.whl.metadata (6.4 kB)\n",
      "Requirement already satisfied: packaging>=20.0 in /Users/nvdenisov2002/study/8-semester/diploma/.conda/lib/python3.11/site-packages (from matplotlib==3.7.2->-r ../../../requirements.txt (line 3)) (24.0)\n",
      "Collecting pillow>=6.2.0 (from matplotlib==3.7.2->-r ../../../requirements.txt (line 3))\n",
      "  Using cached pillow-10.3.0-cp311-cp311-macosx_11_0_arm64.whl.metadata (9.2 kB)\n",
      "Collecting pyparsing<3.1,>=2.3.1 (from matplotlib==3.7.2->-r ../../../requirements.txt (line 3))\n",
      "  Using cached pyparsing-3.0.9-py3-none-any.whl.metadata (4.2 kB)\n",
      "Requirement already satisfied: python-dateutil>=2.7 in /Users/nvdenisov2002/study/8-semester/diploma/.conda/lib/python3.11/site-packages (from matplotlib==3.7.2->-r ../../../requirements.txt (line 3)) (2.9.0)\n",
      "Collecting pytz>=2020.1 (from pandas==2.0.3->-r ../../../requirements.txt (line 5))\n",
      "  Using cached pytz-2024.1-py2.py3-none-any.whl.metadata (22 kB)\n",
      "Collecting tzdata>=2022.1 (from pandas==2.0.3->-r ../../../requirements.txt (line 5))\n",
      "  Using cached tzdata-2024.1-py2.py3-none-any.whl.metadata (1.4 kB)\n",
      "Requirement already satisfied: psutil in /Users/nvdenisov2002/study/8-semester/diploma/.conda/lib/python3.11/site-packages (from peft==0.10.0->-r ../../../requirements.txt (line 6)) (5.9.0)\n",
      "Collecting pyyaml (from peft==0.10.0->-r ../../../requirements.txt (line 6))\n",
      "  Using cached PyYAML-6.0.1-cp311-cp311-macosx_11_0_arm64.whl.metadata (2.1 kB)\n",
      "Collecting accelerate>=0.21.0 (from peft==0.10.0->-r ../../../requirements.txt (line 6))\n",
      "  Using cached accelerate-0.29.3-py3-none-any.whl.metadata (18 kB)\n",
      "Collecting safetensors (from peft==0.10.0->-r ../../../requirements.txt (line 6))\n",
      "  Using cached safetensors-0.4.3-cp311-cp311-macosx_11_0_arm64.whl.metadata (3.8 kB)\n",
      "Collecting huggingface-hub>=0.17.0 (from peft==0.10.0->-r ../../../requirements.txt (line 6))\n",
      "  Using cached huggingface_hub-0.23.0-py3-none-any.whl.metadata (12 kB)\n",
      "Collecting charset-normalizer<4,>=2 (from Requests==2.31.0->-r ../../../requirements.txt (line 7))\n",
      "  Using cached charset_normalizer-3.3.2-cp311-cp311-macosx_11_0_arm64.whl.metadata (33 kB)\n",
      "Collecting idna<4,>=2.5 (from Requests==2.31.0->-r ../../../requirements.txt (line 7))\n",
      "  Using cached idna-3.7-py3-none-any.whl.metadata (9.9 kB)\n",
      "Collecting urllib3<3,>=1.21.1 (from Requests==2.31.0->-r ../../../requirements.txt (line 7))\n",
      "  Using cached urllib3-2.2.1-py3-none-any.whl.metadata (6.4 kB)\n",
      "Collecting certifi>=2017.4.17 (from Requests==2.31.0->-r ../../../requirements.txt (line 7))\n",
      "  Using cached certifi-2024.2.2-py3-none-any.whl.metadata (2.2 kB)\n",
      "Collecting classes<0.5.0,>=0.4.0 (from soup2dict==2.1.0->-r ../../../requirements.txt (line 8))\n",
      "  Using cached classes-0.4.1-py3-none-any.whl.metadata (6.1 kB)\n",
      "Requirement already satisfied: filelock in /Users/nvdenisov2002/.local/lib/python3.11/site-packages (from torch==2.3.0->-r ../../../requirements.txt (line 10)) (3.14.0)\n",
      "Requirement already satisfied: typing-extensions>=4.8.0 in /Users/nvdenisov2002/study/8-semester/diploma/.conda/lib/python3.11/site-packages (from torch==2.3.0->-r ../../../requirements.txt (line 10)) (4.11.0)\n",
      "Collecting sympy (from torch==2.3.0->-r ../../../requirements.txt (line 10))\n",
      "  Using cached sympy-1.12-py3-none-any.whl.metadata (12 kB)\n",
      "Collecting networkx (from torch==2.3.0->-r ../../../requirements.txt (line 10))\n",
      "  Using cached networkx-3.3-py3-none-any.whl.metadata (5.1 kB)\n",
      "Collecting jinja2 (from torch==2.3.0->-r ../../../requirements.txt (line 10))\n",
      "  Using cached Jinja2-3.1.3-py3-none-any.whl.metadata (3.3 kB)\n",
      "Collecting fsspec (from torch==2.3.0->-r ../../../requirements.txt (line 10))\n",
      "  Using cached fsspec-2024.3.1-py3-none-any.whl.metadata (6.8 kB)\n",
      "Collecting regex!=2019.12.17 (from transformers==4.39.3->-r ../../../requirements.txt (line 12))\n",
      "  Using cached regex-2024.4.28-cp311-cp311-macosx_11_0_arm64.whl.metadata (40 kB)\n",
      "Collecting tokenizers<0.19,>=0.14 (from transformers==4.39.3->-r ../../../requirements.txt (line 12))\n",
      "  Using cached tokenizers-0.15.2-cp311-cp311-macosx_11_0_arm64.whl.metadata (6.7 kB)\n",
      "Requirement already satisfied: decorator in /Users/nvdenisov2002/study/8-semester/diploma/.conda/lib/python3.11/site-packages (from ipython->-r ../../../requirements.txt (line 2)) (5.1.1)\n",
      "Requirement already satisfied: jedi>=0.16 in /Users/nvdenisov2002/study/8-semester/diploma/.conda/lib/python3.11/site-packages (from ipython->-r ../../../requirements.txt (line 2)) (0.19.1)\n",
      "Requirement already satisfied: matplotlib-inline in /Users/nvdenisov2002/study/8-semester/diploma/.conda/lib/python3.11/site-packages (from ipython->-r ../../../requirements.txt (line 2)) (0.1.7)\n",
      "Requirement already satisfied: prompt-toolkit<3.1.0,>=3.0.41 in /Users/nvdenisov2002/study/8-semester/diploma/.conda/lib/python3.11/site-packages (from ipython->-r ../../../requirements.txt (line 2)) (3.0.42)\n",
      "Requirement already satisfied: pygments>=2.4.0 in /Users/nvdenisov2002/study/8-semester/diploma/.conda/lib/python3.11/site-packages (from ipython->-r ../../../requirements.txt (line 2)) (2.17.2)\n",
      "Requirement already satisfied: stack-data in /Users/nvdenisov2002/study/8-semester/diploma/.conda/lib/python3.11/site-packages (from ipython->-r ../../../requirements.txt (line 2)) (0.6.2)\n",
      "Requirement already satisfied: traitlets>=5.13.0 in /Users/nvdenisov2002/study/8-semester/diploma/.conda/lib/python3.11/site-packages (from ipython->-r ../../../requirements.txt (line 2)) (5.14.3)\n",
      "Requirement already satisfied: pexpect>4.3 in /Users/nvdenisov2002/study/8-semester/diploma/.conda/lib/python3.11/site-packages (from ipython->-r ../../../requirements.txt (line 2)) (4.9.0)\n",
      "Requirement already satisfied: parso<0.9.0,>=0.8.3 in /Users/nvdenisov2002/study/8-semester/diploma/.conda/lib/python3.11/site-packages (from jedi>=0.16->ipython->-r ../../../requirements.txt (line 2)) (0.8.4)\n",
      "Requirement already satisfied: ptyprocess>=0.5 in /Users/nvdenisov2002/study/8-semester/diploma/.conda/lib/python3.11/site-packages (from pexpect>4.3->ipython->-r ../../../requirements.txt (line 2)) (0.7.0)\n",
      "Requirement already satisfied: wcwidth in /Users/nvdenisov2002/study/8-semester/diploma/.conda/lib/python3.11/site-packages (from prompt-toolkit<3.1.0,>=3.0.41->ipython->-r ../../../requirements.txt (line 2)) (0.2.13)\n",
      "Requirement already satisfied: six>=1.5 in /Users/nvdenisov2002/study/8-semester/diploma/.conda/lib/python3.11/site-packages (from python-dateutil>=2.7->matplotlib==3.7.2->-r ../../../requirements.txt (line 3)) (1.16.0)\n",
      "Collecting MarkupSafe>=2.0 (from jinja2->torch==2.3.0->-r ../../../requirements.txt (line 10))\n",
      "  Using cached MarkupSafe-2.1.5-cp311-cp311-macosx_10_9_universal2.whl.metadata (3.0 kB)\n",
      "Requirement already satisfied: executing>=1.2.0 in /Users/nvdenisov2002/study/8-semester/diploma/.conda/lib/python3.11/site-packages (from stack-data->ipython->-r ../../../requirements.txt (line 2)) (2.0.1)\n",
      "Requirement already satisfied: asttokens>=2.1.0 in /Users/nvdenisov2002/study/8-semester/diploma/.conda/lib/python3.11/site-packages (from stack-data->ipython->-r ../../../requirements.txt (line 2)) (2.4.1)\n",
      "Requirement already satisfied: pure-eval in /Users/nvdenisov2002/study/8-semester/diploma/.conda/lib/python3.11/site-packages (from stack-data->ipython->-r ../../../requirements.txt (line 2)) (0.2.2)\n",
      "Collecting mpmath>=0.19 (from sympy->torch==2.3.0->-r ../../../requirements.txt (line 10))\n",
      "  Using cached mpmath-1.3.0-py3-none-any.whl.metadata (8.6 kB)\n",
      "Using cached beautifulsoup4-4.12.3-py3-none-any.whl (147 kB)\n",
      "Using cached matplotlib-3.7.2-cp311-cp311-macosx_11_0_arm64.whl (7.3 MB)\n",
      "Using cached numpy-1.25.1-cp311-cp311-macosx_11_0_arm64.whl (14.0 MB)\n",
      "Using cached pandas-2.0.3-cp311-cp311-macosx_11_0_arm64.whl (10.7 MB)\n",
      "Using cached peft-0.10.0-py3-none-any.whl (199 kB)\n",
      "Using cached requests-2.31.0-py3-none-any.whl (62 kB)\n",
      "Using cached soup2dict-2.1.0-py3-none-any.whl (4.5 kB)\n",
      "Using cached tokenizer-3.4.3-py2.py3-none-any.whl (112 kB)\n",
      "Using cached torch-2.3.0-cp311-none-macosx_11_0_arm64.whl (61.0 MB)\n",
      "Using cached tqdm-4.65.0-py3-none-any.whl (77 kB)\n",
      "Using cached transformers-4.39.3-py3-none-any.whl (8.8 MB)\n",
      "Using cached accelerate-0.29.3-py3-none-any.whl (297 kB)\n",
      "Using cached certifi-2024.2.2-py3-none-any.whl (163 kB)\n",
      "Using cached charset_normalizer-3.3.2-cp311-cp311-macosx_11_0_arm64.whl (118 kB)\n",
      "Using cached classes-0.4.1-py3-none-any.whl (36 kB)\n",
      "Using cached contourpy-1.2.1-cp311-cp311-macosx_11_0_arm64.whl (245 kB)\n",
      "Using cached cycler-0.12.1-py3-none-any.whl (8.3 kB)\n",
      "Using cached fonttools-4.51.0-cp311-cp311-macosx_10_9_universal2.whl (2.8 MB)\n",
      "Using cached huggingface_hub-0.23.0-py3-none-any.whl (401 kB)\n",
      "Using cached fsspec-2024.3.1-py3-none-any.whl (171 kB)\n",
      "Using cached idna-3.7-py3-none-any.whl (66 kB)\n",
      "Using cached kiwisolver-1.4.5-cp311-cp311-macosx_11_0_arm64.whl (66 kB)\n",
      "Using cached pillow-10.3.0-cp311-cp311-macosx_11_0_arm64.whl (3.4 MB)\n",
      "Using cached pyparsing-3.0.9-py3-none-any.whl (98 kB)\n",
      "Using cached pytz-2024.1-py2.py3-none-any.whl (505 kB)\n",
      "Using cached PyYAML-6.0.1-cp311-cp311-macosx_11_0_arm64.whl (167 kB)\n",
      "Using cached regex-2024.4.28-cp311-cp311-macosx_11_0_arm64.whl (278 kB)\n",
      "Using cached safetensors-0.4.3-cp311-cp311-macosx_11_0_arm64.whl (410 kB)\n",
      "Using cached soupsieve-2.5-py3-none-any.whl (36 kB)\n",
      "Using cached tokenizers-0.15.2-cp311-cp311-macosx_11_0_arm64.whl (2.4 MB)\n",
      "Using cached tzdata-2024.1-py2.py3-none-any.whl (345 kB)\n",
      "Using cached urllib3-2.2.1-py3-none-any.whl (121 kB)\n",
      "Using cached Jinja2-3.1.3-py3-none-any.whl (133 kB)\n",
      "Using cached networkx-3.3-py3-none-any.whl (1.7 MB)\n",
      "Using cached sympy-1.12-py3-none-any.whl (5.7 MB)\n",
      "Using cached MarkupSafe-2.1.5-cp311-cp311-macosx_10_9_universal2.whl (18 kB)\n",
      "Using cached mpmath-1.3.0-py3-none-any.whl (536 kB)\n",
      "Installing collected packages: tokenizer, pytz, mpmath, urllib3, tzdata, tqdm, sympy, soupsieve, safetensors, regex, pyyaml, pyparsing, pillow, numpy, networkx, MarkupSafe, kiwisolver, idna, fsspec, fonttools, cycler, classes, charset-normalizer, certifi, Requests, pandas, jinja2, contourpy, beautifulsoup4, torch, soup2dict, matplotlib, huggingface-hub, tokenizers, accelerate, transformers, peft\n",
      "Successfully installed MarkupSafe-2.1.5 Requests-2.31.0 accelerate-0.29.3 beautifulsoup4-4.12.3 certifi-2024.2.2 charset-normalizer-3.3.2 classes-0.4.1 contourpy-1.2.1 cycler-0.12.1 fonttools-4.51.0 fsspec-2024.3.1 huggingface-hub-0.23.0 idna-3.7 jinja2-3.1.3 kiwisolver-1.4.5 matplotlib-3.7.2 mpmath-1.3.0 networkx-3.3 numpy-1.25.1 pandas-2.0.3 peft-0.10.0 pillow-10.3.0 pyparsing-3.0.9 pytz-2024.1 pyyaml-6.0.1 regex-2024.4.28 safetensors-0.4.3 soup2dict-2.1.0 soupsieve-2.5 sympy-1.12 tokenizer-3.4.3 tokenizers-0.15.2 torch-2.3.0 tqdm-4.65.0 transformers-4.39.3 tzdata-2024.1 urllib3-2.2.1\n",
      "Note: you may need to restart the kernel to use updated packages.\n"
     ]
    }
   ],
   "source": [
    "pip install -r ../../../requirements.txt"
   ]
  },
  {
   "cell_type": "code",
   "execution_count": 3,
   "metadata": {},
   "outputs": [
    {
     "name": "stdout",
     "output_type": "stream",
     "text": [
      "Collecting datasets\n",
      "  Using cached datasets-2.19.0-py3-none-any.whl.metadata (19 kB)\n",
      "Requirement already satisfied: filelock in /Users/nvdenisov2002/.local/lib/python3.11/site-packages (from datasets) (3.14.0)\n",
      "Requirement already satisfied: numpy>=1.17 in /Users/nvdenisov2002/study/8-semester/diploma/.conda/lib/python3.11/site-packages (from datasets) (1.25.1)\n",
      "Collecting pyarrow>=12.0.0 (from datasets)\n",
      "  Using cached pyarrow-16.0.0-cp311-cp311-macosx_11_0_arm64.whl.metadata (3.0 kB)\n",
      "Collecting pyarrow-hotfix (from datasets)\n",
      "  Using cached pyarrow_hotfix-0.6-py3-none-any.whl.metadata (3.6 kB)\n",
      "Collecting dill<0.3.9,>=0.3.0 (from datasets)\n",
      "  Using cached dill-0.3.8-py3-none-any.whl.metadata (10 kB)\n",
      "Requirement already satisfied: pandas in /Users/nvdenisov2002/study/8-semester/diploma/.conda/lib/python3.11/site-packages (from datasets) (2.0.3)\n",
      "Requirement already satisfied: requests>=2.19.0 in /Users/nvdenisov2002/study/8-semester/diploma/.conda/lib/python3.11/site-packages (from datasets) (2.31.0)\n",
      "Requirement already satisfied: tqdm>=4.62.1 in /Users/nvdenisov2002/study/8-semester/diploma/.conda/lib/python3.11/site-packages (from datasets) (4.65.0)\n",
      "Collecting xxhash (from datasets)\n",
      "  Using cached xxhash-3.4.1-cp311-cp311-macosx_11_0_arm64.whl.metadata (12 kB)\n",
      "Collecting multiprocess (from datasets)\n",
      "  Using cached multiprocess-0.70.16-py311-none-any.whl.metadata (7.2 kB)\n",
      "Requirement already satisfied: fsspec<=2024.3.1,>=2023.1.0 in /Users/nvdenisov2002/study/8-semester/diploma/.conda/lib/python3.11/site-packages (from fsspec[http]<=2024.3.1,>=2023.1.0->datasets) (2024.3.1)\n",
      "Collecting aiohttp (from datasets)\n",
      "  Downloading aiohttp-3.9.5-cp311-cp311-macosx_11_0_arm64.whl.metadata (7.5 kB)\n",
      "Requirement already satisfied: huggingface-hub>=0.21.2 in /Users/nvdenisov2002/study/8-semester/diploma/.conda/lib/python3.11/site-packages (from datasets) (0.23.0)\n",
      "Requirement already satisfied: packaging in /Users/nvdenisov2002/study/8-semester/diploma/.conda/lib/python3.11/site-packages (from datasets) (24.0)\n",
      "Requirement already satisfied: pyyaml>=5.1 in /Users/nvdenisov2002/study/8-semester/diploma/.conda/lib/python3.11/site-packages (from datasets) (6.0.1)\n",
      "Collecting aiosignal>=1.1.2 (from aiohttp->datasets)\n",
      "  Downloading aiosignal-1.3.1-py3-none-any.whl.metadata (4.0 kB)\n",
      "Collecting attrs>=17.3.0 (from aiohttp->datasets)\n",
      "  Downloading attrs-23.2.0-py3-none-any.whl.metadata (9.5 kB)\n",
      "Collecting frozenlist>=1.1.1 (from aiohttp->datasets)\n",
      "  Downloading frozenlist-1.4.1-cp311-cp311-macosx_11_0_arm64.whl.metadata (12 kB)\n",
      "Collecting multidict<7.0,>=4.5 (from aiohttp->datasets)\n",
      "  Downloading multidict-6.0.5-cp311-cp311-macosx_11_0_arm64.whl.metadata (4.2 kB)\n",
      "Collecting yarl<2.0,>=1.0 (from aiohttp->datasets)\n",
      "  Downloading yarl-1.9.4-cp311-cp311-macosx_11_0_arm64.whl.metadata (31 kB)\n",
      "Requirement already satisfied: typing-extensions>=3.7.4.3 in /Users/nvdenisov2002/study/8-semester/diploma/.conda/lib/python3.11/site-packages (from huggingface-hub>=0.21.2->datasets) (4.11.0)\n",
      "Requirement already satisfied: charset-normalizer<4,>=2 in /Users/nvdenisov2002/study/8-semester/diploma/.conda/lib/python3.11/site-packages (from requests>=2.19.0->datasets) (3.3.2)\n",
      "Requirement already satisfied: idna<4,>=2.5 in /Users/nvdenisov2002/study/8-semester/diploma/.conda/lib/python3.11/site-packages (from requests>=2.19.0->datasets) (3.7)\n",
      "Requirement already satisfied: urllib3<3,>=1.21.1 in /Users/nvdenisov2002/study/8-semester/diploma/.conda/lib/python3.11/site-packages (from requests>=2.19.0->datasets) (2.2.1)\n",
      "Requirement already satisfied: certifi>=2017.4.17 in /Users/nvdenisov2002/study/8-semester/diploma/.conda/lib/python3.11/site-packages (from requests>=2.19.0->datasets) (2024.2.2)\n",
      "Requirement already satisfied: python-dateutil>=2.8.2 in /Users/nvdenisov2002/study/8-semester/diploma/.conda/lib/python3.11/site-packages (from pandas->datasets) (2.9.0)\n",
      "Requirement already satisfied: pytz>=2020.1 in /Users/nvdenisov2002/study/8-semester/diploma/.conda/lib/python3.11/site-packages (from pandas->datasets) (2024.1)\n",
      "Requirement already satisfied: tzdata>=2022.1 in /Users/nvdenisov2002/study/8-semester/diploma/.conda/lib/python3.11/site-packages (from pandas->datasets) (2024.1)\n",
      "Requirement already satisfied: six>=1.5 in /Users/nvdenisov2002/study/8-semester/diploma/.conda/lib/python3.11/site-packages (from python-dateutil>=2.8.2->pandas->datasets) (1.16.0)\n",
      "Using cached datasets-2.19.0-py3-none-any.whl (542 kB)\n",
      "Using cached dill-0.3.8-py3-none-any.whl (116 kB)\n",
      "Downloading aiohttp-3.9.5-cp311-cp311-macosx_11_0_arm64.whl (390 kB)\n",
      "\u001b[2K   \u001b[90m━━━━━━━━━━━━━━━━━━━━━━━━━━━━━━━━━━━━━━━━\u001b[0m \u001b[32m390.2/390.2 kB\u001b[0m \u001b[31m1.4 MB/s\u001b[0m eta \u001b[36m0:00:00\u001b[0ma \u001b[36m0:00:01\u001b[0m\n",
      "\u001b[?25hUsing cached pyarrow-16.0.0-cp311-cp311-macosx_11_0_arm64.whl (26.0 MB)\n",
      "Using cached multiprocess-0.70.16-py311-none-any.whl (143 kB)\n",
      "Using cached pyarrow_hotfix-0.6-py3-none-any.whl (7.9 kB)\n",
      "Using cached xxhash-3.4.1-cp311-cp311-macosx_11_0_arm64.whl (30 kB)\n",
      "Downloading aiosignal-1.3.1-py3-none-any.whl (7.6 kB)\n",
      "Downloading attrs-23.2.0-py3-none-any.whl (60 kB)\n",
      "\u001b[2K   \u001b[90m━━━━━━━━━━━━━━━━━━━━━━━━━━━━━━━━━━━━━━━━\u001b[0m \u001b[32m60.8/60.8 kB\u001b[0m \u001b[31m5.7 MB/s\u001b[0m eta \u001b[36m0:00:00\u001b[0m\n",
      "\u001b[?25hDownloading frozenlist-1.4.1-cp311-cp311-macosx_11_0_arm64.whl (53 kB)\n",
      "\u001b[2K   \u001b[90m━━━━━━━━━━━━━━━━━━━━━━━━━━━━━━━━━━━━━━━━\u001b[0m \u001b[32m53.4/53.4 kB\u001b[0m \u001b[31m2.8 MB/s\u001b[0m eta \u001b[36m0:00:00\u001b[0m\n",
      "\u001b[?25hDownloading multidict-6.0.5-cp311-cp311-macosx_11_0_arm64.whl (30 kB)\n",
      "Downloading yarl-1.9.4-cp311-cp311-macosx_11_0_arm64.whl (81 kB)\n",
      "\u001b[2K   \u001b[90m━━━━━━━━━━━━━━━━━━━━━━━━━━━━━━━━━━━━━━━━\u001b[0m \u001b[32m81.2/81.2 kB\u001b[0m \u001b[31m3.5 MB/s\u001b[0m eta \u001b[36m0:00:00\u001b[0m\n",
      "\u001b[?25hInstalling collected packages: xxhash, pyarrow-hotfix, pyarrow, multidict, frozenlist, dill, attrs, yarl, multiprocess, aiosignal, aiohttp, datasets\n",
      "Successfully installed aiohttp-3.9.5 aiosignal-1.3.1 attrs-23.2.0 datasets-2.19.0 dill-0.3.8 frozenlist-1.4.1 multidict-6.0.5 multiprocess-0.70.16 pyarrow-16.0.0 pyarrow-hotfix-0.6 xxhash-3.4.1 yarl-1.9.4\n",
      "Note: you may need to restart the kernel to use updated packages.\n"
     ]
    }
   ],
   "source": [
    "pip install datasets"
   ]
  },
  {
   "cell_type": "code",
   "execution_count": 7,
   "metadata": {},
   "outputs": [
    {
     "name": "stdout",
     "output_type": "stream",
     "text": [
      "Requirement already satisfied: numpy in /Users/nvdenisov2002/study/8-semester/diploma/.conda/lib/python3.11/site-packages (1.25.1)\n",
      "Collecting scipy\n",
      "  Using cached scipy-1.13.0-cp311-cp311-macosx_12_0_arm64.whl.metadata (60 kB)\n",
      "Collecting scikit-learn\n",
      "  Using cached scikit_learn-1.4.2-cp311-cp311-macosx_12_0_arm64.whl.metadata (11 kB)\n",
      "Collecting joblib>=1.2.0 (from scikit-learn)\n",
      "  Downloading joblib-1.4.2-py3-none-any.whl.metadata (5.4 kB)\n",
      "Collecting threadpoolctl>=2.0.0 (from scikit-learn)\n",
      "  Downloading threadpoolctl-3.5.0-py3-none-any.whl.metadata (13 kB)\n",
      "Downloading scipy-1.13.0-cp311-cp311-macosx_12_0_arm64.whl (30.3 MB)\n",
      "\u001b[2K   \u001b[90m━━━━━━━━━━━━━━━━━━━━━━━━━━━━━━━━━━━━━━━━\u001b[0m \u001b[32m30.3/30.3 MB\u001b[0m \u001b[31m9.0 MB/s\u001b[0m eta \u001b[36m0:00:00\u001b[0m00:01\u001b[0m00:01\u001b[0m\n",
      "\u001b[?25hUsing cached scikit_learn-1.4.2-cp311-cp311-macosx_12_0_arm64.whl (10.5 MB)\n",
      "Downloading joblib-1.4.2-py3-none-any.whl (301 kB)\n",
      "\u001b[2K   \u001b[90m━━━━━━━━━━━━━━━━━━━━━━━━━━━━━━━━━━━━━━━━\u001b[0m \u001b[32m301.8/301.8 kB\u001b[0m \u001b[31m11.1 MB/s\u001b[0m eta \u001b[36m0:00:00\u001b[0m\n",
      "\u001b[?25hDownloading threadpoolctl-3.5.0-py3-none-any.whl (18 kB)\n",
      "Installing collected packages: threadpoolctl, scipy, joblib, scikit-learn\n",
      "Successfully installed joblib-1.4.2 scikit-learn-1.4.2 scipy-1.13.0 threadpoolctl-3.5.0\n",
      "Note: you may need to restart the kernel to use updated packages.\n"
     ]
    }
   ],
   "source": [
    "pip install numpy scipy scikit-learn"
   ]
  },
  {
   "cell_type": "code",
   "execution_count": 8,
   "metadata": {},
   "outputs": [],
   "source": [
    "import sys\n",
    "sys.path.append(\"../../utils\")\n",
    "from definitions import *\n",
    "from parsing_helpers import parse_spbu_with_year_safe"
   ]
  },
  {
   "cell_type": "markdown",
   "metadata": {},
   "source": [
    "### Try to use helper function"
   ]
  },
  {
   "cell_type": "code",
   "execution_count": 9,
   "metadata": {},
   "outputs": [],
   "source": [
    "years = [2023, 2022, 2021, 2020, 2019, 2018, 2017, 2016]"
   ]
  },
  {
   "cell_type": "code",
   "execution_count": 10,
   "metadata": {},
   "outputs": [
    {
     "name": "stderr",
     "output_type": "stream",
     "text": [
      "Years...:   0%|          | 0/8 [00:00<?, ?it/s]"
     ]
    },
    {
     "name": "stdout",
     "output_type": "stream",
     "text": [
      "Requesting search_pages...\n"
     ]
    },
    {
     "name": "stderr",
     "output_type": "stream",
     "text": [
      "Search pages...: 100%|██████████| 117/117 [00:00<00:00, 18139.71it/s]\n"
     ]
    },
    {
     "name": "stdout",
     "output_type": "stream",
     "text": [
      "Collecting ids from search_pages...\n",
      "Requesting preview by ids...\n"
     ]
    },
    {
     "name": "stderr",
     "output_type": "stream",
     "text": [
      "Ids...: 100%|██████████| 2128/2128 [00:00<00:00, 42317.90it/s]\n"
     ]
    },
    {
     "name": "stdout",
     "output_type": "stream",
     "text": [
      "Requesting view by preview...\n"
     ]
    },
    {
     "name": "stderr",
     "output_type": "stream",
     "text": [
      "Ids...: 100%|██████████| 2128/2128 [00:03<00:00, 688.58it/s]\n"
     ]
    },
    {
     "name": "stdout",
     "output_type": "stream",
     "text": [
      "Requesting doc by view...\n"
     ]
    },
    {
     "name": "stderr",
     "output_type": "stream",
     "text": [
      "Ids...: 100%|██████████| 2128/2128 [00:08<00:00, 254.44it/s]\n",
      "Years...:  12%|█▎        | 1/8 [00:12<01:30, 12.99s/it]"
     ]
    },
    {
     "name": "stdout",
     "output_type": "stream",
     "text": [
      "Requesting search_pages...\n"
     ]
    },
    {
     "name": "stderr",
     "output_type": "stream",
     "text": [
      "Search pages...: 100%|██████████| 107/107 [00:00<00:00, 16568.48it/s]\n"
     ]
    },
    {
     "name": "stdout",
     "output_type": "stream",
     "text": [
      "Collecting ids from search_pages...\n",
      "Requesting preview by ids...\n"
     ]
    },
    {
     "name": "stderr",
     "output_type": "stream",
     "text": [
      "Ids...: 100%|██████████| 2139/2139 [00:00<00:00, 32528.84it/s]\n"
     ]
    },
    {
     "name": "stdout",
     "output_type": "stream",
     "text": [
      "Requesting view by preview...\n"
     ]
    },
    {
     "name": "stderr",
     "output_type": "stream",
     "text": [
      "Ids...: 100%|██████████| 2139/2139 [00:03<00:00, 684.14it/s]\n"
     ]
    },
    {
     "name": "stdout",
     "output_type": "stream",
     "text": [
      "Requesting doc by view...\n"
     ]
    },
    {
     "name": "stderr",
     "output_type": "stream",
     "text": [
      "/Users/nvdenisov2002/study/8-semester/diploma/long_context_LLMs/artifacts/parsing/diplomas/spbu/2022/work/37714_diploma.ru/bitstream/11701/40399/2/94475: No such file or directory\n",
      "Ids...: 100%|██████████| 2139/2139 [00:09<00:00, 222.87it/s]\n",
      "Years...:  25%|██▌       | 2/8 [00:26<01:20, 13.38s/it]"
     ]
    },
    {
     "name": "stdout",
     "output_type": "stream",
     "text": [
      "Requesting search_pages...\n"
     ]
    },
    {
     "name": "stderr",
     "output_type": "stream",
     "text": [
      "Search pages...: 100%|██████████| 93/93 [00:00<00:00, 15954.45it/s]\n"
     ]
    },
    {
     "name": "stdout",
     "output_type": "stream",
     "text": [
      "Collecting ids from search_pages...\n",
      "Requesting preview by ids...\n"
     ]
    },
    {
     "name": "stderr",
     "output_type": "stream",
     "text": [
      "Ids...: 100%|██████████| 1857/1857 [18:22<00:00,  1.68it/s]\n"
     ]
    },
    {
     "name": "stdout",
     "output_type": "stream",
     "text": [
      "Requesting view by preview...\n"
     ]
    },
    {
     "name": "stderr",
     "output_type": "stream",
     "text": [
      "Ids...: 100%|██████████| 1857/1857 [23:39<00:00,  1.31it/s]\n"
     ]
    },
    {
     "name": "stdout",
     "output_type": "stream",
     "text": [
      "Requesting doc by view...\n"
     ]
    },
    {
     "name": "stderr",
     "output_type": "stream",
     "text": [
      "Ids...: 100%|██████████| 1857/1857 [35:05<00:00,  1.13s/it]\n",
      "Years...:  38%|███▊      | 3/8 [1:17:34<2:56:43, 2120.60s/it]"
     ]
    },
    {
     "name": "stdout",
     "output_type": "stream",
     "text": [
      "Requesting search_pages...\n"
     ]
    },
    {
     "name": "stderr",
     "output_type": "stream",
     "text": [
      "Search pages...: 100%|██████████| 60/60 [00:00<00:00, 11494.92it/s]\n"
     ]
    },
    {
     "name": "stdout",
     "output_type": "stream",
     "text": [
      "Collecting ids from search_pages...\n",
      "Requesting preview by ids...\n"
     ]
    },
    {
     "name": "stderr",
     "output_type": "stream",
     "text": [
      "Ids...: 100%|██████████| 1185/1185 [09:32<00:00,  2.07it/s]\n"
     ]
    },
    {
     "name": "stdout",
     "output_type": "stream",
     "text": [
      "Requesting view by preview...\n"
     ]
    },
    {
     "name": "stderr",
     "output_type": "stream",
     "text": [
      "Ids...: 100%|██████████| 1185/1185 [14:03<00:00,  1.41it/s]\n"
     ]
    },
    {
     "name": "stdout",
     "output_type": "stream",
     "text": [
      "Requesting doc by view...\n"
     ]
    },
    {
     "name": "stderr",
     "output_type": "stream",
     "text": [
      "/Users/nvdenisov2002/study/8-semester/diploma/long_context_LLMs/artifacts/parsing/diplomas/spbu/2020/work/25955_diploma.ru/bitstream/11701/31799/1/Sotrudnicestvo_Rossii_i_Evropejskogo_souza_v_ramkah_Organizacii_po_bezopasnosti_i_sotrudnicestvu_v_Evrope: No such file or directory\n",
      "/Users/nvdenisov2002/study/8-semester/diploma/long_context_LLMs/artifacts/parsing/diplomas/spbu/2020/work/25974_diploma.ru/bitstream/11701/31678/1/Musulmanskoe_obsestvo_vo_Francii_problemy_adaptacii: No such file or directory\n",
      "Ids...: 100%|██████████| 1185/1185 [22:26<00:00,  1.14s/it]\n",
      "Years...:  50%|█████     | 4/8 [2:03:38<2:38:18, 2374.67s/it]"
     ]
    },
    {
     "name": "stdout",
     "output_type": "stream",
     "text": [
      "Requesting search_pages...\n"
     ]
    },
    {
     "name": "stderr",
     "output_type": "stream",
     "text": [
      "Search pages...: 100%|██████████| 52/52 [00:46<00:00,  1.13it/s]\n"
     ]
    },
    {
     "name": "stdout",
     "output_type": "stream",
     "text": [
      "Collecting ids from search_pages...\n"
     ]
    },
    {
     "name": "stderr",
     "output_type": "stream",
     "text": [
      "Search pages...: 100%|██████████| 52/52 [00:00<00:00, 120.30it/s]\n"
     ]
    },
    {
     "name": "stdout",
     "output_type": "stream",
     "text": [
      "Requesting preview by ids...\n"
     ]
    },
    {
     "name": "stderr",
     "output_type": "stream",
     "text": []
    }
   ],
   "source": [
    "for year in tqdm(years, desc=\"Years...\"):\n",
    "    parse_spbu_with_year_safe(year)"
   ]
  },
  {
   "cell_type": "markdown",
   "metadata": {},
   "source": [
    "### Parse SPbU (view site structure)"
   ]
  },
  {
   "cell_type": "code",
   "execution_count": null,
   "metadata": {},
   "outputs": [],
   "source": [
    "year = 2023\n",
    "url = f\"https://diploma.spbu.ru/gp/index?GpSearch%5Bname_ru%5D=&GpSearch%5Btitle_ru%5D=&GpSearch%5Beditor_ru%5D=&GpSearch%5Bdp_id%5D=&GpSearch%5Bstatus%5D=1&GpSearch%5Byear%5D=2023&page=34\" # \"https://diploma.spbu.ru/gp/index?GpSearch%5Bname_ru%5D=&GpSearch%5Btitle_ru%5D=&GpSearch%5Beditor_ru%5D=&GpSearch%5Bdp_id%5D=&GpSearch%5Bstatus%5D=1&GpSearch%5Byear%5D={year}\"\n",
    "filename = \"wget_spbsu_search.html\""
   ]
  },
  {
   "cell_type": "code",
   "execution_count": null,
   "metadata": {},
   "outputs": [
    {
     "name": "stdout",
     "output_type": "stream",
     "text": [
      "--2024-05-01 21:52:24--  https://diploma.spbu.ru/gp/index?GpSearch%5Bname_ru%5D=&GpSearch%5Btitle_ru%5D=&GpSearch%5Beditor_ru%5D=&GpSearch%5Bdp_id%5D=&GpSearch%5Bstatus%5D=1&GpSearch%5Byear%5D=2023&page=34\n",
      "Resolving diploma.spbu.ru (diploma.spbu.ru)... 81.89.183.226\n",
      "Connecting to diploma.spbu.ru (diploma.spbu.ru)|81.89.183.226|:443... connected.\n",
      "HTTP request sent, awaiting response... 200 OK\n",
      "Length: unspecified [text/html]\n",
      "Saving to: ‘wget_spbsu_search.html’\n",
      "\n",
      "wget_spbsu_search.h     [ <=>                ]  27.93K  --.-KB/s    in 0.02s   \n",
      "\n",
      "2024-05-01 21:52:24 (1.30 MB/s) - ‘wget_spbsu_search.html’ saved [28599]\n",
      "\n"
     ]
    }
   ],
   "source": [
    "! wget -O {filename} \"{url}\""
   ]
  },
  {
   "cell_type": "code",
   "execution_count": null,
   "metadata": {},
   "outputs": [],
   "source": [
    "with open(filename, \"r\") as f:\n",
    "    soup = BeautifulSoup(f.read(), \"html.parser\")"
   ]
  },
  {
   "cell_type": "code",
   "execution_count": null,
   "metadata": {},
   "outputs": [
    {
     "data": {
      "text/plain": [
       "[<a class=\"fa-icon-button fa-icon-vk\" href=\"https://vk.com/spb1724\" rel=\"noopener noreferrer\" target=\"_blank\"></a>,\n",
       " <a class=\"fa-icon-button fa-telegram\" href=\"https://t.me/spbuniversity\" rel=\"noopener noreferrer\" target=\"_blank\"></a>,\n",
       " <a class=\"visible-xs navbar-brand\" href=\"/\"><img alt=\"Диплом СПбГУ\" onerror=\"this.onerror=null; this.src='/images/logo/logoru.png'\" src=\"/images/logo/logo_ru.svgz\"/></a>,\n",
       " <a href=\"/\">Главная</a>,\n",
       " <a href=\"/gp\">Выпускные квалификационные работы</a>,\n",
       " <a href=\"/en/gp/index?GpSearch%5Bname_ru%5D=&amp;GpSearch%5Btitle_ru%5D=&amp;GpSearch%5Beditor_ru%5D=&amp;GpSearch%5Bdp_id%5D=&amp;GpSearch%5Bstatus%5D=1&amp;GpSearch%5Byear%5D=2023&amp;page=34\"><i class=\"flag-icon flag-icon-gb\"></i></a>,\n",
       " <a class=\"btn btn-default\" href=\"/gp/index\">Сбросить</a>,\n",
       " <a class=\"asc\" data-sort=\"-name_ru\" href=\"/gp/index?GpSearch%5Bname_ru%5D=&amp;GpSearch%5Btitle_ru%5D=&amp;GpSearch%5Beditor_ru%5D=&amp;GpSearch%5Bdp_id%5D=&amp;GpSearch%5Bstatus%5D=1&amp;GpSearch%5Byear%5D=2023&amp;page=34&amp;sort=-name_ru\">ФИО выпускника</a>,\n",
       " <a data-sort=\"dp_id\" href=\"/gp/index?GpSearch%5Bname_ru%5D=&amp;GpSearch%5Btitle_ru%5D=&amp;GpSearch%5Beditor_ru%5D=&amp;GpSearch%5Bdp_id%5D=&amp;GpSearch%5Bstatus%5D=1&amp;GpSearch%5Byear%5D=2023&amp;page=34&amp;sort=dp_id\">Направление</a>,\n",
       " <a data-sort=\"title_ru\" href=\"/gp/index?GpSearch%5Bname_ru%5D=&amp;GpSearch%5Btitle_ru%5D=&amp;GpSearch%5Beditor_ru%5D=&amp;GpSearch%5Bdp_id%5D=&amp;GpSearch%5Bstatus%5D=1&amp;GpSearch%5Byear%5D=2023&amp;page=34&amp;sort=title_ru\">Наименование ВКР</a>,\n",
       " <a data-sort=\"editor_ru\" href=\"/gp/index?GpSearch%5Bname_ru%5D=&amp;GpSearch%5Btitle_ru%5D=&amp;GpSearch%5Beditor_ru%5D=&amp;GpSearch%5Bdp_id%5D=&amp;GpSearch%5Bstatus%5D=1&amp;GpSearch%5Byear%5D=2023&amp;page=34&amp;sort=editor_ru\">ФИО научного руководителя</a>,\n",
       " <a data-sort=\"status\" href=\"/gp/index?GpSearch%5Bname_ru%5D=&amp;GpSearch%5Btitle_ru%5D=&amp;GpSearch%5Beditor_ru%5D=&amp;GpSearch%5Bdp_id%5D=&amp;GpSearch%5Bstatus%5D=1&amp;GpSearch%5Byear%5D=2023&amp;page=34&amp;sort=status\">Статус</a>,\n",
       " <a data-sort=\"year\" href=\"/gp/index?GpSearch%5Bname_ru%5D=&amp;GpSearch%5Btitle_ru%5D=&amp;GpSearch%5Beditor_ru%5D=&amp;GpSearch%5Bdp_id%5D=&amp;GpSearch%5Bstatus%5D=1&amp;GpSearch%5Byear%5D=2023&amp;page=34&amp;sort=year\">Год</a>,\n",
       " <a class=\"btn btn-default btn-sm\" data-pjax=\"0\" href=\"/gp/view?id=45064\"><span class=\"glyphicon glyphicon-search\"></span></a>,\n",
       " <a class=\"btn btn-default btn-sm\" data-pjax=\"0\" href=\"/gp/view?id=40598\"><span class=\"glyphicon glyphicon-search\"></span></a>,\n",
       " <a class=\"btn btn-default btn-sm\" data-pjax=\"0\" href=\"/gp/view?id=40257\"><span class=\"glyphicon glyphicon-search\"></span></a>,\n",
       " <a class=\"btn btn-default btn-sm\" data-pjax=\"0\" href=\"/gp/view?id=40258\"><span class=\"glyphicon glyphicon-search\"></span></a>,\n",
       " <a class=\"btn btn-default btn-sm\" data-pjax=\"0\" href=\"/gp/view?id=45065\"><span class=\"glyphicon glyphicon-search\"></span></a>,\n",
       " <a class=\"btn btn-default btn-sm\" data-pjax=\"0\" href=\"/gp/view?id=43834\"><span class=\"glyphicon glyphicon-search\"></span></a>,\n",
       " <a class=\"btn btn-default btn-sm\" data-pjax=\"0\" href=\"/gp/view?id=40259\"><span class=\"glyphicon glyphicon-search\"></span></a>,\n",
       " <a class=\"btn btn-default btn-sm\" data-pjax=\"0\" href=\"/gp/view?id=41229\"><span class=\"glyphicon glyphicon-search\"></span></a>,\n",
       " <a class=\"btn btn-default btn-sm\" data-pjax=\"0\" href=\"/gp/view?id=45066\"><span class=\"glyphicon glyphicon-search\"></span></a>,\n",
       " <a class=\"btn btn-default btn-sm\" data-pjax=\"0\" href=\"/gp/view?id=42405\"><span class=\"glyphicon glyphicon-search\"></span></a>,\n",
       " <a class=\"btn btn-default btn-sm\" data-pjax=\"0\" href=\"/gp/view?id=40599\"><span class=\"glyphicon glyphicon-search\"></span></a>,\n",
       " <a class=\"btn btn-default btn-sm\" data-pjax=\"0\" href=\"/gp/view?id=44211\"><span class=\"glyphicon glyphicon-search\"></span></a>,\n",
       " <a class=\"btn btn-default btn-sm\" data-pjax=\"0\" href=\"/gp/view?id=44832\"><span class=\"glyphicon glyphicon-search\"></span></a>,\n",
       " <a class=\"btn btn-default btn-sm\" data-pjax=\"0\" href=\"/gp/view?id=43951\"><span class=\"glyphicon glyphicon-search\"></span></a>,\n",
       " <a class=\"btn btn-default btn-sm\" data-pjax=\"0\" href=\"/gp/view?id=40600\"><span class=\"glyphicon glyphicon-search\"></span></a>,\n",
       " <a class=\"btn btn-default btn-sm\" data-pjax=\"0\" href=\"/gp/view?id=40082\"><span class=\"glyphicon glyphicon-search\"></span></a>,\n",
       " <a class=\"btn btn-default btn-sm\" data-pjax=\"0\" href=\"/gp/view?id=40260\"><span class=\"glyphicon glyphicon-search\"></span></a>,\n",
       " <a class=\"btn btn-default btn-sm\" data-pjax=\"0\" href=\"/gp/view?id=40601\"><span class=\"glyphicon glyphicon-search\"></span></a>,\n",
       " <a class=\"btn btn-default btn-sm\" data-pjax=\"0\" href=\"/gp/view?id=43471\"><span class=\"glyphicon glyphicon-search\"></span></a>,\n",
       " <a class=\"btn btn-default btn-sm\" data-pjax=\"0\" href=\"/gp/view?id=44213\"><span class=\"glyphicon glyphicon-search\"></span></a>,\n",
       " <a data-page=\"32\" href=\"/gp/index?GpSearch%5Bname_ru%5D=&amp;GpSearch%5Btitle_ru%5D=&amp;GpSearch%5Beditor_ru%5D=&amp;GpSearch%5Bdp_id%5D=&amp;GpSearch%5Bstatus%5D=1&amp;GpSearch%5Byear%5D=2023&amp;page=33\">«</a>,\n",
       " <a data-page=\"28\" href=\"/gp/index?GpSearch%5Bname_ru%5D=&amp;GpSearch%5Btitle_ru%5D=&amp;GpSearch%5Beditor_ru%5D=&amp;GpSearch%5Bdp_id%5D=&amp;GpSearch%5Bstatus%5D=1&amp;GpSearch%5Byear%5D=2023&amp;page=29\">29</a>,\n",
       " <a data-page=\"29\" href=\"/gp/index?GpSearch%5Bname_ru%5D=&amp;GpSearch%5Btitle_ru%5D=&amp;GpSearch%5Beditor_ru%5D=&amp;GpSearch%5Bdp_id%5D=&amp;GpSearch%5Bstatus%5D=1&amp;GpSearch%5Byear%5D=2023&amp;page=30\">30</a>,\n",
       " <a data-page=\"30\" href=\"/gp/index?GpSearch%5Bname_ru%5D=&amp;GpSearch%5Btitle_ru%5D=&amp;GpSearch%5Beditor_ru%5D=&amp;GpSearch%5Bdp_id%5D=&amp;GpSearch%5Bstatus%5D=1&amp;GpSearch%5Byear%5D=2023&amp;page=31\">31</a>,\n",
       " <a data-page=\"31\" href=\"/gp/index?GpSearch%5Bname_ru%5D=&amp;GpSearch%5Btitle_ru%5D=&amp;GpSearch%5Beditor_ru%5D=&amp;GpSearch%5Bdp_id%5D=&amp;GpSearch%5Bstatus%5D=1&amp;GpSearch%5Byear%5D=2023&amp;page=32\">32</a>,\n",
       " <a data-page=\"32\" href=\"/gp/index?GpSearch%5Bname_ru%5D=&amp;GpSearch%5Btitle_ru%5D=&amp;GpSearch%5Beditor_ru%5D=&amp;GpSearch%5Bdp_id%5D=&amp;GpSearch%5Bstatus%5D=1&amp;GpSearch%5Byear%5D=2023&amp;page=33\">33</a>,\n",
       " <a data-page=\"33\" href=\"/gp/index?GpSearch%5Bname_ru%5D=&amp;GpSearch%5Btitle_ru%5D=&amp;GpSearch%5Beditor_ru%5D=&amp;GpSearch%5Bdp_id%5D=&amp;GpSearch%5Bstatus%5D=1&amp;GpSearch%5Byear%5D=2023&amp;page=34\">34</a>,\n",
       " <a data-page=\"34\" href=\"/gp/index?GpSearch%5Bname_ru%5D=&amp;GpSearch%5Btitle_ru%5D=&amp;GpSearch%5Beditor_ru%5D=&amp;GpSearch%5Bdp_id%5D=&amp;GpSearch%5Bstatus%5D=1&amp;GpSearch%5Byear%5D=2023&amp;page=35\">35</a>,\n",
       " <a data-page=\"35\" href=\"/gp/index?GpSearch%5Bname_ru%5D=&amp;GpSearch%5Btitle_ru%5D=&amp;GpSearch%5Beditor_ru%5D=&amp;GpSearch%5Bdp_id%5D=&amp;GpSearch%5Bstatus%5D=1&amp;GpSearch%5Byear%5D=2023&amp;page=36\">36</a>,\n",
       " <a data-page=\"36\" href=\"/gp/index?GpSearch%5Bname_ru%5D=&amp;GpSearch%5Btitle_ru%5D=&amp;GpSearch%5Beditor_ru%5D=&amp;GpSearch%5Bdp_id%5D=&amp;GpSearch%5Bstatus%5D=1&amp;GpSearch%5Byear%5D=2023&amp;page=37\">37</a>,\n",
       " <a data-page=\"37\" href=\"/gp/index?GpSearch%5Bname_ru%5D=&amp;GpSearch%5Btitle_ru%5D=&amp;GpSearch%5Beditor_ru%5D=&amp;GpSearch%5Bdp_id%5D=&amp;GpSearch%5Bstatus%5D=1&amp;GpSearch%5Byear%5D=2023&amp;page=38\">38</a>,\n",
       " <a data-page=\"34\" href=\"/gp/index?GpSearch%5Bname_ru%5D=&amp;GpSearch%5Btitle_ru%5D=&amp;GpSearch%5Beditor_ru%5D=&amp;GpSearch%5Bdp_id%5D=&amp;GpSearch%5Bstatus%5D=1&amp;GpSearch%5Byear%5D=2023&amp;page=35\">»</a>,\n",
       " <a href=\"http://spbu.ru/\" target=\"blank\" title=\"Санкт-Петербургский государственный университет\">Санкт-Петербургский государственный университет</a>]"
      ]
     },
     "execution_count": 67,
     "metadata": {},
     "output_type": "execute_result"
    }
   ],
   "source": [
    "soup.find_all(\"a\", href=True)"
   ]
  },
  {
   "cell_type": "code",
   "execution_count": null,
   "metadata": {},
   "outputs": [],
   "source": [
    "url = \"https://diploma.spbu.ru/gp/view?id=40165\"\n",
    "filename = \"wget_spbsu_entry.html\""
   ]
  },
  {
   "cell_type": "code",
   "execution_count": null,
   "metadata": {},
   "outputs": [
    {
     "name": "stdout",
     "output_type": "stream",
     "text": [
      "--2024-05-01 21:56:58--  https://diploma.spbu.ru/gp/view?id=40165\n",
      "Resolving diploma.spbu.ru (diploma.spbu.ru)... 81.89.183.226\n",
      "Connecting to diploma.spbu.ru (diploma.spbu.ru)|81.89.183.226|:443... connected.\n",
      "HTTP request sent, awaiting response... 200 OK\n",
      "Length: unspecified [text/html]\n",
      "Saving to: ‘wget_spbsu_entry.html’\n",
      "\n",
      "wget_spbsu_entry.ht     [ <=>                ]   5.70K  --.-KB/s    in 0s      \n",
      "\n",
      "2024-05-01 21:56:58 (1.81 GB/s) - ‘wget_spbsu_entry.html’ saved [5840]\n",
      "\n"
     ]
    }
   ],
   "source": [
    "! wget -O {filename} \"{url}\""
   ]
  },
  {
   "cell_type": "code",
   "execution_count": null,
   "metadata": {},
   "outputs": [],
   "source": [
    "with open(filename, \"r\") as f:\n",
    "    soup = BeautifulSoup(f.read(), \"html.parser\")"
   ]
  },
  {
   "cell_type": "code",
   "execution_count": null,
   "metadata": {},
   "outputs": [
    {
     "name": "stdout",
     "output_type": "stream",
     "text": [
      "https://vk.com/spb1724\n",
      "https://t.me/spbuniversity\n",
      "/\n",
      "/\n",
      "/gp\n",
      "/en/gp/view?id=40165\n",
      "/\n",
      "/gp/index\n",
      "http://hdl.handle.net/11701/43547\n",
      "http://spbu.ru/\n"
     ]
    }
   ],
   "source": [
    "for x in soup.find_all(\"a\", href=True):\n",
    "    print(x[\"href\"])"
   ]
  },
  {
   "cell_type": "code",
   "execution_count": null,
   "metadata": {},
   "outputs": [],
   "source": [
    "url = \"https://dspace.spbu.ru/handle/11701/41165?mode=full\""
   ]
  },
  {
   "cell_type": "code",
   "execution_count": null,
   "metadata": {},
   "outputs": [
    {
     "name": "stdout",
     "output_type": "stream",
     "text": [
      "https://dspace.spbu.ru/handle/11701/41165?mode=full\n"
     ]
    }
   ],
   "source": [
    "! echo \"{url}\""
   ]
  },
  {
   "cell_type": "code",
   "execution_count": null,
   "metadata": {},
   "outputs": [],
   "source": [
    "filename = \"wget_spbsu.html\""
   ]
  },
  {
   "cell_type": "code",
   "execution_count": null,
   "metadata": {},
   "outputs": [
    {
     "name": "stdout",
     "output_type": "stream",
     "text": [
      "--2024-05-01 23:06:01--  https://dspace.spbu.ru/handle/11701/41165?mode=full\n",
      "Resolving dspace.spbu.ru (dspace.spbu.ru)... 81.89.183.226\n",
      "Connecting to dspace.spbu.ru (dspace.spbu.ru)|81.89.183.226|:443... connected.\n",
      "HTTP request sent, awaiting response... 200 OK\n",
      "Length: unspecified [text/html]\n",
      "Saving to: ‘wget_spbsu.html’\n",
      "\n",
      "wget_spbsu.html         [ <=>                ]  35.92K  --.-KB/s    in 0.01s   \n",
      "\n",
      "2024-05-01 23:06:01 (2.34 MB/s) - ‘wget_spbsu.html’ saved [36787]\n",
      "\n"
     ]
    }
   ],
   "source": [
    "! wget -O {filename} \"{url}\""
   ]
  },
  {
   "cell_type": "code",
   "execution_count": null,
   "metadata": {},
   "outputs": [],
   "source": [
    "filename = \"wget_spbsu_view_page_numbers.html\""
   ]
  },
  {
   "cell_type": "code",
   "execution_count": null,
   "metadata": {},
   "outputs": [],
   "source": [
    "! wget -q -O {filename} \"https://diploma.spbu.ru/gp/index?GpSearch%5Bname_ru%5D=&GpSearch%5Btitle_ru%5D=&GpSearch%5Beditor_ru%5D=&GpSearch%5Bdp_id%5D=&GpSearch%5Bstatus%5D=1&GpSearch%5Byear%5D=2020\""
   ]
  },
  {
   "cell_type": "code",
   "execution_count": null,
   "metadata": {},
   "outputs": [],
   "source": [
    "with open(filename, \"r\") as f:\n",
    "    soup = BeautifulSoup(f.read(), \"html.parser\")\n",
    "dict_soup = convert(soup)\n",
    "with open(\"kek.json\", \"w\") as f:\n",
    "    json.dump(dict_soup, f, ensure_ascii=False, indent=2)"
   ]
  },
  {
   "cell_type": "code",
   "execution_count": null,
   "metadata": {},
   "outputs": [
    {
     "data": {
      "text/plain": [
       "'1185'"
      ]
     },
     "execution_count": 9,
     "metadata": {},
     "output_type": "execute_result"
    }
   ],
   "source": [
    "dict_soup[\"html\"][0][\"body\"][0][\"div\"][0][\"div\"][1][\"div\"][0][\"div\"][0][\"div\"][1][\"div\"][0][\"div\"][1][\"div\"][0][\"b\"][1][\"#text\"].replace(u'\\xa0', '')"
   ]
  },
  {
   "cell_type": "code",
   "execution_count": null,
   "metadata": {},
   "outputs": [],
   "source": [
    "with open(filename, \"r\") as f:\n",
    "    data = f.read()"
   ]
  },
  {
   "cell_type": "code",
   "execution_count": null,
   "metadata": {},
   "outputs": [],
   "source": [
    "soup = BeautifulSoup(data, \"html.parser\")"
   ]
  },
  {
   "cell_type": "code",
   "execution_count": null,
   "metadata": {},
   "outputs": [],
   "source": [
    "soup_dict = convert(soup)"
   ]
  },
  {
   "cell_type": "code",
   "execution_count": null,
   "metadata": {},
   "outputs": [
    {
     "ename": "FileNotFoundError",
     "evalue": "[Errno 2] No such file or directory: '/Users/nvdenisov2002/study/8-semester/diploma/long_context_LLMs/artifacts/parsing/diplomas/spbu/2023/view/40459.html'",
     "output_type": "error",
     "traceback": [
      "\u001b[0;31m---------------------------------------------------------------------------\u001b[0m",
      "\u001b[0;31mFileNotFoundError\u001b[0m                         Traceback (most recent call last)",
      "Cell \u001b[0;32mIn[111], line 1\u001b[0m\n\u001b[0;32m----> 1\u001b[0m \u001b[38;5;28;01mwith\u001b[39;00m \u001b[38;5;28;43mopen\u001b[39;49m\u001b[43m(\u001b[49m\u001b[43mARTIFACTS_DIR_PATH\u001b[49m\u001b[38;5;241;43m.\u001b[39;49m\u001b[43mjoinpath\u001b[49m\u001b[43m(\u001b[49m\u001b[38;5;124;43m\"\u001b[39;49m\u001b[38;5;124;43mparsing/diplomas/spbu/2023/view/40459.html\u001b[39;49m\u001b[38;5;124;43m\"\u001b[39;49m\u001b[43m)\u001b[49m\u001b[43m,\u001b[49m\u001b[43m \u001b[49m\u001b[38;5;124;43m\"\u001b[39;49m\u001b[38;5;124;43mr\u001b[39;49m\u001b[38;5;124;43m\"\u001b[39;49m\u001b[43m)\u001b[49m \u001b[38;5;28;01mas\u001b[39;00m f:\n\u001b[1;32m      2\u001b[0m     data \u001b[38;5;241m=\u001b[39m f\u001b[38;5;241m.\u001b[39mread()\n\u001b[1;32m      3\u001b[0m soup \u001b[38;5;241m=\u001b[39m BeautifulSoup(data, \u001b[38;5;124m\"\u001b[39m\u001b[38;5;124mhtml.parser\u001b[39m\u001b[38;5;124m\"\u001b[39m)\n",
      "File \u001b[0;32m/opt/homebrew/lib/python3.11/site-packages/IPython/core/interactiveshell.py:284\u001b[0m, in \u001b[0;36m_modified_open\u001b[0;34m(file, *args, **kwargs)\u001b[0m\n\u001b[1;32m    277\u001b[0m \u001b[38;5;28;01mif\u001b[39;00m file \u001b[38;5;129;01min\u001b[39;00m {\u001b[38;5;241m0\u001b[39m, \u001b[38;5;241m1\u001b[39m, \u001b[38;5;241m2\u001b[39m}:\n\u001b[1;32m    278\u001b[0m     \u001b[38;5;28;01mraise\u001b[39;00m \u001b[38;5;167;01mValueError\u001b[39;00m(\n\u001b[1;32m    279\u001b[0m         \u001b[38;5;124mf\u001b[39m\u001b[38;5;124m\"\u001b[39m\u001b[38;5;124mIPython won\u001b[39m\u001b[38;5;124m'\u001b[39m\u001b[38;5;124mt let you open fd=\u001b[39m\u001b[38;5;132;01m{\u001b[39;00mfile\u001b[38;5;132;01m}\u001b[39;00m\u001b[38;5;124m by default \u001b[39m\u001b[38;5;124m\"\u001b[39m\n\u001b[1;32m    280\u001b[0m         \u001b[38;5;124m\"\u001b[39m\u001b[38;5;124mas it is likely to crash IPython. If you know what you are doing, \u001b[39m\u001b[38;5;124m\"\u001b[39m\n\u001b[1;32m    281\u001b[0m         \u001b[38;5;124m\"\u001b[39m\u001b[38;5;124myou can use builtins\u001b[39m\u001b[38;5;124m'\u001b[39m\u001b[38;5;124m open.\u001b[39m\u001b[38;5;124m\"\u001b[39m\n\u001b[1;32m    282\u001b[0m     )\n\u001b[0;32m--> 284\u001b[0m \u001b[38;5;28;01mreturn\u001b[39;00m \u001b[43mio_open\u001b[49m\u001b[43m(\u001b[49m\u001b[43mfile\u001b[49m\u001b[43m,\u001b[49m\u001b[43m \u001b[49m\u001b[38;5;241;43m*\u001b[39;49m\u001b[43margs\u001b[49m\u001b[43m,\u001b[49m\u001b[43m \u001b[49m\u001b[38;5;241;43m*\u001b[39;49m\u001b[38;5;241;43m*\u001b[39;49m\u001b[43mkwargs\u001b[49m\u001b[43m)\u001b[49m\n",
      "\u001b[0;31mFileNotFoundError\u001b[0m: [Errno 2] No such file or directory: '/Users/nvdenisov2002/study/8-semester/diploma/long_context_LLMs/artifacts/parsing/diplomas/spbu/2023/view/40459.html'"
     ]
    }
   ],
   "source": [
    "with open(ARTIFACTS_DIR_PATH.joinpath(\"parsing/diplomas/spbu/2023/view/40459.html\"), \"r\") as f:\n",
    "    data = f.read()\n",
    "soup = BeautifulSoup(data, \"html.parser\")\n",
    "soup_dict = convert(soup)"
   ]
  },
  {
   "cell_type": "code",
   "execution_count": null,
   "metadata": {},
   "outputs": [],
   "source": [
    "with open(\"soup_dict_40165.json\", \"w\") as f:\n",
    "    json.dump(soup_dict, f, ensure_ascii=False, indent=2)"
   ]
  },
  {
   "cell_type": "code",
   "execution_count": null,
   "metadata": {},
   "outputs": [
    {
     "data": {
      "text/plain": [
       "'/bitstream/11701/43547/2/Master_Thesis_Abalakova_Pendriak.docx'"
      ]
     },
     "execution_count": 103,
     "metadata": {},
     "output_type": "execute_result"
    }
   ],
   "source": [
    "soup_dict['html'][0]['body'][0]['main'][0]['div'][2]['div'][1]['table'][0]['tr'][1]['td'][0]['a'][0][\"@href\"]"
   ]
  },
  {
   "cell_type": "code",
   "execution_count": null,
   "metadata": {},
   "outputs": [
    {
     "ename": "KeyError",
     "evalue": "'table'",
     "output_type": "error",
     "traceback": [
      "\u001b[0;31m---------------------------------------------------------------------------\u001b[0m",
      "\u001b[0;31mKeyError\u001b[0m                                  Traceback (most recent call last)",
      "Cell \u001b[0;32mIn[102], line 1\u001b[0m\n\u001b[0;32m----> 1\u001b[0m \u001b[43msoup_dict\u001b[49m\u001b[43m[\u001b[49m\u001b[38;5;124;43m'\u001b[39;49m\u001b[38;5;124;43mhtml\u001b[39;49m\u001b[38;5;124;43m'\u001b[39;49m\u001b[43m]\u001b[49m\u001b[43m[\u001b[49m\u001b[38;5;241;43m0\u001b[39;49m\u001b[43m]\u001b[49m\u001b[43m[\u001b[49m\u001b[38;5;124;43m'\u001b[39;49m\u001b[38;5;124;43mbody\u001b[39;49m\u001b[38;5;124;43m'\u001b[39;49m\u001b[43m]\u001b[49m\u001b[43m[\u001b[49m\u001b[38;5;241;43m0\u001b[39;49m\u001b[43m]\u001b[49m\u001b[43m[\u001b[49m\u001b[38;5;124;43m'\u001b[39;49m\u001b[38;5;124;43mmain\u001b[39;49m\u001b[38;5;124;43m'\u001b[39;49m\u001b[43m]\u001b[49m\u001b[43m[\u001b[49m\u001b[38;5;241;43m0\u001b[39;49m\u001b[43m]\u001b[49m\u001b[43m[\u001b[49m\u001b[38;5;124;43m'\u001b[39;49m\u001b[38;5;124;43mdiv\u001b[39;49m\u001b[38;5;124;43m'\u001b[39;49m\u001b[43m]\u001b[49m\u001b[43m[\u001b[49m\u001b[38;5;241;43m2\u001b[39;49m\u001b[43m]\u001b[49m\u001b[43m[\u001b[49m\u001b[38;5;124;43m'\u001b[39;49m\u001b[38;5;124;43mdiv\u001b[39;49m\u001b[38;5;124;43m'\u001b[39;49m\u001b[43m]\u001b[49m\u001b[43m[\u001b[49m\u001b[38;5;241;43m2\u001b[39;49m\u001b[43m]\u001b[49m\u001b[43m[\u001b[49m\u001b[38;5;124;43m'\u001b[39;49m\u001b[38;5;124;43mtable\u001b[39;49m\u001b[38;5;124;43m'\u001b[39;49m\u001b[43m]\u001b[49m[\u001b[38;5;241m0\u001b[39m][\u001b[38;5;124m'\u001b[39m\u001b[38;5;124mtr\u001b[39m\u001b[38;5;124m'\u001b[39m][\u001b[38;5;241m1\u001b[39m][\u001b[38;5;124m'\u001b[39m\u001b[38;5;124mtd\u001b[39m\u001b[38;5;124m'\u001b[39m][\u001b[38;5;241m0\u001b[39m][\u001b[38;5;124m'\u001b[39m\u001b[38;5;124ma\u001b[39m\u001b[38;5;124m'\u001b[39m][\u001b[38;5;241m0\u001b[39m][\u001b[38;5;124m\"\u001b[39m\u001b[38;5;124m@href\u001b[39m\u001b[38;5;124m\"\u001b[39m]\n",
      "\u001b[0;31mKeyError\u001b[0m: 'table'"
     ]
    }
   ],
   "source": [
    "soup_dict['html'][0]['body'][0]['main'][0]['div'][2]['div'][2]['table'][0]['tr'][1]['td'][0]['a'][0][\"@href\"]"
   ]
  },
  {
   "cell_type": "code",
   "execution_count": null,
   "metadata": {},
   "outputs": [],
   "source": [
    "with open(\"soup_dict.json\", \"w\") as f:\n",
    "    json.dump(soup_dict, f, ensure_ascii=False, indent=2)"
   ]
  },
  {
   "cell_type": "code",
   "execution_count": null,
   "metadata": {},
   "outputs": [
    {
     "data": {
      "text/plain": [
       "'/bitstream/11701/41165/2/Master_Thesis.Eleonora_Giudici.pdf'"
      ]
     },
     "execution_count": 90,
     "metadata": {},
     "output_type": "execute_result"
    }
   ],
   "source": [
    "soup_dict['html'][0]['body'][0]['main'][0]['div'][2]['div'][2]['table'][0]['tr'][1]['td'][0]['a'][0][\"@href\"]"
   ]
  },
  {
   "cell_type": "code",
   "execution_count": null,
   "metadata": {},
   "outputs": [
    {
     "data": {
      "text/plain": [
       "'Данная работа исследует потенциал использования геоаналитических методов для улучшения показателей продаж Велодрайва, велосипедной компании, работающей на российском рынке. Анализируя финансовые и географические данные, исследование направлено на выявление ключевых географических факторов, влияющих на показатели продаж, и предоставление ценной информации и рекомендаций по увеличению выручки компании. Для выявления влияющих факторов и прогнозирования потенциальных месторасположений новых магазинов построена модель множественной регрессии. Модель используется для прогнозирования объемов продаж в потенциальных местах расположения магазинов. С учетом различных факторов затрат и динамики роста был рассчитан потенциальный бизнес-эффект, прибыль и рентабельность по пяти точкам. Результаты представлены с помощью визуализации данных и карт, выделяющих географические закономерности в показателях продаж. Это исследование дает представление о значении геоаналитических методов для повышения эффективности продаж и предоставляет ценные возможности компании, стремящейся эффективно использовать географические данные.'"
      ]
     },
     "execution_count": 108,
     "metadata": {},
     "output_type": "execute_result"
    }
   ],
   "source": [
    "soup_dict['html'][0]['head'][0]['meta'][3]['meta'][10][\"@content\"]"
   ]
  },
  {
   "cell_type": "code",
   "execution_count": null,
   "metadata": {},
   "outputs": [
    {
     "data": {
      "text/plain": [
       "'museum brand identity'"
      ]
     },
     "execution_count": 86,
     "metadata": {},
     "output_type": "execute_result"
    }
   ],
   "source": [
    "soup_dict['html'][0]['head'][0]['meta'][3]['meta'][32][\"@content\"]"
   ]
  },
  {
   "cell_type": "code",
   "execution_count": null,
   "metadata": {},
   "outputs": [],
   "source": [
    "url = \"https://dspace.spbu.ru/bitstream/11701/43547/2/Master_Thesis_Abalakova_Pendriak.docx\"\n",
    "ext = url.split('.')[-1]\n",
    "id = 0\n",
    "filename = f\"{id}.{ext}\""
   ]
  },
  {
   "cell_type": "code",
   "execution_count": null,
   "metadata": {},
   "outputs": [
    {
     "name": "stdout",
     "output_type": "stream",
     "text": [
      "--2024-05-01 22:10:25--  https://dspace.spbu.ru/bitstream/11701/43547/2/Master_Thesis_Abalakova_Pendriak.docx\n",
      "Resolving dspace.spbu.ru (dspace.spbu.ru)... 81.89.183.226\n",
      "Connecting to dspace.spbu.ru (dspace.spbu.ru)|81.89.183.226|:443... connected.\n"
     ]
    },
    {
     "name": "stdout",
     "output_type": "stream",
     "text": [
      "HTTP request sent, awaiting response... 200 OK\n",
      "Length: 2669756 (2.5M) [application/vnd.openxmlformats-officedocument.wordprocessingml.document]\n",
      "Saving to: ‘0.docx’\n",
      "\n",
      "0.docx              100%[===================>]   2.55M  4.65MB/s    in 0.5s    \n",
      "\n",
      "2024-05-01 22:10:26 (4.65 MB/s) - ‘0.docx’ saved [2669756/2669756]\n",
      "\n"
     ]
    }
   ],
   "source": [
    "! wget -O {filename} {url}"
   ]
  },
  {
   "cell_type": "code",
   "execution_count": null,
   "metadata": {},
   "outputs": [
    {
     "name": "stdout",
     "output_type": "stream",
     "text": [
      "Санкт-Петербургский государственный университет\n",
      "\n",
      "\n",
      "\n",
      "\n",
      "\n",
      "\n",
      "\n",
      "\n",
      "АБДУЛЛАЕВ Шохжахон Улугбек угли\n",
      "\n",
      "Выпускная квалификационная работа\n",
      "Роль политики в области гендерного равенства в продвижении имиджа Узбекистана на международной арене \n",
      "\n",
      "\n",
      "Уровень образования: Магистратура\n",
      "Направление 41.04.05 «Международные отношения»\n",
      "Основная образовательная программа\n",
      "ВМ.5568.2021 \n",
      "«Связи с общественностью в сфере международных отношений»\n"
     ]
    }
   ],
   "source": [
    "! textutil -stdout -cat txt {filename} | head -n 20"
   ]
  },
  {
   "cell_type": "markdown",
   "metadata": {},
   "source": [
    "### Parse SPbU (real parse)"
   ]
  },
  {
   "cell_type": "code",
   "execution_count": null,
   "metadata": {},
   "outputs": [],
   "source": [
    "def parse_spbu_with_year(year, pages):\n",
    "    def make_delay():\n",
    "        time.sleep(0.5)\n",
    "\n",
    "    def make_request_and_save_result(url, path):\n",
    "        subprocess.run([\"wget\", \"-q\", \"-O\", path, url])\n",
    "\n",
    "    print(\"Requesting search_pages...\")\n",
    "    base_search_url = \"https://diploma.spbu.ru/gp/index?GpSearch%5Bname_ru%5D=&GpSearch%5Btitle_ru%5D=&GpSearch%5Beditor_ru%5D=&GpSearch%5Bdp_id%5D=&GpSearch%5Bstatus%5D=1&GpSearch%5Byear%5D={year}&page={page}\"\n",
    "    base_artifacts_path = ARTIFACTS_DIR_PATH.joinpath(f\"parsing/diplomas/spbu/{year}/\")\n",
    "    base_artifacts_path.mkdir(exist_ok=True, parents=True)\n",
    "    for page in trange(1, pages + 1, desc=\"Search pages...\"):\n",
    "        make_delay()\n",
    "        url = base_search_url.format(year=year, page=page)\n",
    "        search_pages_dir = base_artifacts_path.joinpath(\"search_pages/\")\n",
    "        search_pages_dir.mkdir(exist_ok=True, parents=True)\n",
    "        path = search_pages_dir.joinpath(f\"{page}.html\")\n",
    "        make_request_and_save_result(url, path)\n",
    "\n",
    "    print(\"Collecting ids from search_pages...\")\n",
    "    ids = []\n",
    "    for page in trange(1, pages + 1, desc=\"Search pages...\"):\n",
    "        path = base_artifacts_path.joinpath(f\"search_pages/{page}.html\")\n",
    "        with open(path, \"r\") as f:\n",
    "            soup = BeautifulSoup(f.read(), \"html.parser\")\n",
    "        for x in soup.find_all(\"a\", href=True):\n",
    "            if \"id=\" in x[\"href\"]:\n",
    "                ids.append(x[\"href\"].split('=')[-1])\n",
    "    with open(base_artifacts_path.joinpath(\"ids.json\"), \"w\") as f:\n",
    "        json.dump(ids, f)\n",
    "\n",
    "    print(\"Requesting preview by ids...\")\n",
    "    base_view_id_url = \"https://diploma.spbu.ru/gp/view?id={}\"\n",
    "    dir_path = base_artifacts_path.joinpath(\"preview/\")\n",
    "    dir_path.mkdir(exist_ok=True, parents=True)\n",
    "    for id in tqdm(ids, desc=\"Ids...\"):\n",
    "        make_delay()\n",
    "        url = base_view_id_url.format(id)\n",
    "        path = dir_path.joinpath(f\"{id}.html\")\n",
    "        make_request_and_save_result(url, path)\n",
    "\n",
    "    print(\"Requesting view by preview...\")\n",
    "    base_view_work_url = \"https://dspace.spbu.ru/handle\"\n",
    "    new_dir_path = base_artifacts_path.joinpath(\"view/\")\n",
    "    new_dir_path.mkdir(exist_ok=True, parents=True)\n",
    "    for id in tqdm(ids, desc=\"Ids...\"):\n",
    "        make_delay()\n",
    "        path = base_artifacts_path.joinpath(f\"preview/{id}.html\")\n",
    "        with open(path, \"r\") as f:\n",
    "            soup = BeautifulSoup(f.read(), \"html.parser\")\n",
    "        new_path = f\"{new_dir_path}/{id}.html\"\n",
    "        for x in soup.find_all(\"a\", href=True):\n",
    "            if \"hdl\" in x[\"href\"]:\n",
    "                id1 = x[\"href\"].split('/')[-2]\n",
    "                id2 = x[\"href\"].split('/')[-1]\n",
    "                new_url = f\"{base_view_work_url}/{id1}/{id2}\"\n",
    "                make_request_and_save_result(new_url, new_path)\n",
    "\n",
    "    print(\"Requesting doc by view...\")\n",
    "    base_work_doc_url = \"https://dspace.spbu.ru/{}\"\n",
    "    new_dir_path = base_artifacts_path.joinpath(\"work/\")\n",
    "    new_dir_path.mkdir(exist_ok=True, parents=True)\n",
    "    skipped_ids = []\n",
    "    for id in tqdm(ids, desc=\"Ids...\"):\n",
    "        make_delay()\n",
    "        path = base_artifacts_path.joinpath(f\"view/{id}.html\")\n",
    "        try:\n",
    "            with open(path, \"r\") as f:\n",
    "                soup = BeautifulSoup(f.read(), \"html.parser\")\n",
    "        except Exception:\n",
    "            skipped_ids.append({\n",
    "                \"id\": id,\n",
    "                \"reason\": \"no work\",\n",
    "            })\n",
    "            continue\n",
    "        soup_dict = convert(soup)\n",
    "        summary = None\n",
    "        table_meta = soup_dict['html'][0]['head'][0]['meta'][3]['meta']\n",
    "        for row in table_meta:\n",
    "            if row[\"@name\"] == \"DCTERMS.abstract\" and row[\"@xml:lang\"] == \"ru_RU\":\n",
    "                summary = row[\"@content\"]\n",
    "                break\n",
    "        if summary is None:\n",
    "            skipped_ids.append({\n",
    "                \"id\": id,\n",
    "                \"reason\": \"summary\",\n",
    "            })\n",
    "            continue\n",
    "        divs = soup_dict['html'][0]['body'][0]['main'][0]['div'][2]['div']\n",
    "        bitstream = None\n",
    "        for div in divs:\n",
    "            if div.get('table', [{}])[0].get('tr', [{}, {}])[1].get('td', [{}])[0].get('a', [{}])[0].get(\"@href\"):\n",
    "                bitstream = div['table'][0]['tr'][1]['td'][0]['a'][0][\"@href\"]\n",
    "                break\n",
    "        if bitstream is None:\n",
    "            skipped_ids.append({\n",
    "                \"id\": id,\n",
    "                \"reason\": \"bitstream\",\n",
    "            })\n",
    "            continue\n",
    "\n",
    "        with open(new_dir_path.joinpath(f\"{id}_abstract.txt\"), \"w\") as f:\n",
    "            f.write(summary)\n",
    "            \n",
    "        content_url = base_work_doc_url.format(bitstream)\n",
    "        ext = content_url.split(\".\")[-1]\n",
    "        make_request_and_save_result(content_url, new_dir_path.joinpath(f\"{id}_diploma.{ext}\"))\n",
    "    print(f\"{len(skipped_ids)} ids was skipped\")\n",
    "    \n",
    "    with open(base_artifacts_path.joinpath(\"skipped_ids.json\"), \"w\") as f:\n",
    "        json.dump(skipped_ids, f)"
   ]
  },
  {
   "cell_type": "code",
   "execution_count": null,
   "metadata": {},
   "outputs": [
    {
     "name": "stdout",
     "output_type": "stream",
     "text": [
      "Requesting search_pages...\n"
     ]
    },
    {
     "name": "stderr",
     "output_type": "stream",
     "text": [
      "Search pages...: 100%|██████████| 1/1 [00:00<00:00,  1.05it/s]\n"
     ]
    },
    {
     "name": "stdout",
     "output_type": "stream",
     "text": [
      "Collecting ids from search_pages...\n"
     ]
    },
    {
     "name": "stderr",
     "output_type": "stream",
     "text": [
      "Search pages...: 100%|██████████| 1/1 [00:00<00:00, 93.53it/s]\n"
     ]
    },
    {
     "name": "stdout",
     "output_type": "stream",
     "text": [
      "Requesting preview by ids...\n"
     ]
    },
    {
     "name": "stderr",
     "output_type": "stream",
     "text": [
      "Ids...: 100%|██████████| 20/20 [00:14<00:00,  1.35it/s]\n"
     ]
    },
    {
     "name": "stdout",
     "output_type": "stream",
     "text": [
      "Requesting view by preview...\n"
     ]
    },
    {
     "name": "stderr",
     "output_type": "stream",
     "text": [
      "Ids...: 100%|██████████| 20/20 [00:12<00:00,  1.64it/s]\n"
     ]
    },
    {
     "name": "stdout",
     "output_type": "stream",
     "text": [
      "Requesting doc by view...\n"
     ]
    },
    {
     "name": "stderr",
     "output_type": "stream",
     "text": [
      "Ids...: 100%|██████████| 20/20 [00:15<00:00,  1.30it/s]"
     ]
    },
    {
     "name": "stdout",
     "output_type": "stream",
     "text": [
      "7 ids was skipped\n"
     ]
    },
    {
     "name": "stderr",
     "output_type": "stream",
     "text": [
      "\n"
     ]
    }
   ],
   "source": [
    "parse_spbu_with_year(2023, 1)"
   ]
  },
  {
   "cell_type": "code",
   "execution_count": null,
   "metadata": {},
   "outputs": [],
   "source": [
    "exts = set()\n",
    "for file in base_artifacts_path.joinpath(\"work/\").glob(\"*\"):\n",
    "    exts.add(file.suffix)"
   ]
  },
  {
   "cell_type": "code",
   "execution_count": null,
   "metadata": {},
   "outputs": [
    {
     "data": {
      "text/plain": [
       "{'.DOCX',\n",
       " '.JPG',\n",
       " '.PDF',\n",
       " '.csv',\n",
       " '.doc',\n",
       " '.docm',\n",
       " '.docx',\n",
       " '.docx_1',\n",
       " '.ipynb',\n",
       " '.jpeg',\n",
       " '.jpg',\n",
       " '.json',\n",
       " '.mp4',\n",
       " '.odt',\n",
       " '.pages',\n",
       " '.pdf',\n",
       " '.pptx',\n",
       " '.rtf',\n",
       " '.sav',\n",
       " '.spv',\n",
       " '.txt',\n",
       " '.xlsx'}"
      ]
     },
     "execution_count": 55,
     "metadata": {},
     "output_type": "execute_result"
    }
   ],
   "source": [
    "exts"
   ]
  },
  {
   "cell_type": "markdown",
   "metadata": {},
   "source": [
    "### Process downloaded diplomas"
   ]
  },
  {
   "cell_type": "code",
   "execution_count": null,
   "metadata": {},
   "outputs": [],
   "source": [
    "base_spbu_dir_path = Path(\"../artifacts/parsing/spbu/\")\n",
    "base_diplomas_dir_path = Path(f\"{base_spbu_dir_path}/work_doc/\") \n",
    "ext = \"doc\"\n",
    "with open(f\"{base_spbu_dir_path}/ids.json\") as f:\n",
    "    ids = json.load(f)"
   ]
  },
  {
   "cell_type": "code",
   "execution_count": null,
   "metadata": {},
   "outputs": [
    {
     "name": "stdout",
     "output_type": "stream",
     "text": [
      "../artifacts/parsing/spbu/work_doc/42334.doc\n",
      "../artifacts/parsing/spbu/work_doc/44989.doc\n",
      "../artifacts/parsing/spbu/work_doc/44779.doc\n",
      "../artifacts/parsing/spbu/work_doc/42644.doc\n",
      "../artifacts/parsing/spbu/work_doc/44180.doc\n",
      "../artifacts/parsing/spbu/work_doc/40456.doc\n",
      "../artifacts/parsing/spbu/work_doc/43956.doc\n",
      "../artifacts/parsing/spbu/work_doc/39977.doc\n",
      "../artifacts/parsing/spbu/work_doc/43981.doc\n",
      "../artifacts/parsing/spbu/work_doc/43995.doc\n",
      "../artifacts/parsing/spbu/work_doc/42479.doc\n",
      "../artifacts/parsing/spbu/work_doc/44418.doc\n",
      "../artifacts/parsing/spbu/work_doc/44381.doc\n",
      "../artifacts/parsing/spbu/work_doc/41776.doc\n",
      "../artifacts/parsing/spbu/work_doc/44168.doc\n",
      "../artifacts/parsing/spbu/work_doc/40327.doc\n",
      "../artifacts/parsing/spbu/work_doc/44586.doc\n",
      "../artifacts/parsing/spbu/work_doc/44960.doc\n",
      "../artifacts/parsing/spbu/work_doc/44784.doc\n",
      "../artifacts/parsing/spbu/work_doc/44757.doc\n",
      "../artifacts/parsing/spbu/work_doc/43992.doc\n",
      "../artifacts/parsing/spbu/work_doc/44435.doc\n",
      "../artifacts/parsing/spbu/work_doc/44192.doc\n",
      "../artifacts/parsing/spbu/work_doc/44811.doc\n",
      "../artifacts/parsing/spbu/work_doc/44391.doc\n",
      "../artifacts/parsing/spbu/work_doc/41558.doc\n",
      "../artifacts/parsing/spbu/work_doc/40295.doc\n",
      "../artifacts/parsing/spbu/work_doc/44024.doc\n",
      "../artifacts/parsing/spbu/work_doc/43005.doc\n",
      "../artifacts/parsing/spbu/work_doc/41612.doc\n",
      "../artifacts/parsing/spbu/work_doc/43952.doc\n",
      "../artifacts/parsing/spbu/work_doc/43211.doc\n",
      "../artifacts/parsing/spbu/work_doc/40136.doc\n",
      "../artifacts/parsing/spbu/work_doc/44146.doc\n",
      "../artifacts/parsing/spbu/work_doc/40447.doc\n",
      "../artifacts/parsing/spbu/work_doc/40453.doc\n",
      "../artifacts/parsing/spbu/work_doc/44379.doc\n",
      "../artifacts/parsing/spbu/work_doc/41836.doc\n",
      "../artifacts/parsing/spbu/work_doc/44972.doc\n",
      "../artifacts/parsing/spbu/work_doc/42442.doc\n",
      "../artifacts/parsing/spbu/work_doc/44769.doc\n",
      "../artifacts/parsing/spbu/work_doc/44530.doc\n",
      "../artifacts/parsing/spbu/work_doc/44450.doc\n",
      "../artifacts/parsing/spbu/work_doc/44861.doc\n",
      "../artifacts/parsing/spbu/work_doc/44109.doc\n",
      "../artifacts/parsing/spbu/work_doc/40421.doc\n",
      "../artifacts/parsing/spbu/work_doc/40435.doc\n",
      "../artifacts/parsing/spbu/work_doc/44519.doc\n",
      "../artifacts/parsing/spbu/work_doc/41688.doc\n",
      "../artifacts/parsing/spbu/work_doc/42368.doc\n",
      "../artifacts/parsing/spbu/work_doc/43089.doc\n",
      "../artifacts/parsing/spbu/work_doc/44916.doc\n",
      "../artifacts/parsing/spbu/work_doc/43260.doc\n",
      "../artifacts/parsing/spbu/work_doc/44321.doc\n",
      "../artifacts/parsing/spbu/work_doc/40190.doc\n",
      "../artifacts/parsing/spbu/work_doc/41714.doc\n",
      "../artifacts/parsing/spbu/work_doc/44485.doc\n",
      "../artifacts/parsing/spbu/work_doc/43705.doc\n",
      "../artifacts/parsing/spbu/work_doc/42427.doc\n",
      "../artifacts/parsing/spbu/work_doc/44708.doc\n",
      "../artifacts/parsing/spbu/work_doc/40220.doc\n",
      "../artifacts/parsing/spbu/work_doc/40963.doc\n",
      "../artifacts/parsing/spbu/work_doc/40156.doc\n",
      "../artifacts/parsing/spbu/work_doc/44655.doc\n",
      "../artifacts/parsing/spbu/work_doc/41513.doc\n",
      "../artifacts/parsing/spbu/work_doc/41507.doc\n",
      "../artifacts/parsing/spbu/work_doc/43933.doc\n",
      "../artifacts/parsing/spbu/work_doc/41856.doc\n",
      "../artifacts/parsing/spbu/work_doc/41659.doc\n",
      "../artifacts/parsing/spbu/work_doc/42436.doc\n",
      "../artifacts/parsing/spbu/work_doc/40235.doc\n",
      "../artifacts/parsing/spbu/work_doc/43070.doc\n",
      "../artifacts/parsing/spbu/work_doc/43266.doc\n",
      "../artifacts/parsing/spbu/work_doc/40155.doc\n",
      "../artifacts/parsing/spbu/work_doc/43689.doc\n",
      "../artifacts/parsing/spbu/work_doc/44859.doc\n",
      "../artifacts/parsing/spbu/work_doc/43688.doc\n",
      "../artifacts/parsing/spbu/work_doc/40381.doc\n",
      "../artifacts/parsing/spbu/work_doc/44508.doc\n",
      "../artifacts/parsing/spbu/work_doc/42410.doc\n",
      "../artifacts/parsing/spbu/work_doc/40213.doc\n",
      "../artifacts/parsing/spbu/work_doc/41657.doc\n",
      "../artifacts/parsing/spbu/work_doc/44511.doc\n",
      "../artifacts/parsing/spbu/work_doc/40429.doc\n",
      "../artifacts/parsing/spbu/work_doc/40400.doc\n",
      "../artifacts/parsing/spbu/work_doc/44504.doc\n",
      "../artifacts/parsing/spbu/work_doc/43928.doc\n",
      "../artifacts/parsing/spbu/work_doc/42405.doc\n",
      "../artifacts/parsing/spbu/work_doc/44060.doc\n",
      "../artifacts/parsing/spbu/work_doc/43719.doc\n",
      "../artifacts/parsing/spbu/work_doc/44089.doc\n",
      "../artifacts/parsing/spbu/work_doc/43269.doc\n",
      "../artifacts/parsing/spbu/work_doc/44248.doc\n",
      "../artifacts/parsing/spbu/work_doc/45022.doc\n",
      "../artifacts/parsing/spbu/work_doc/44894.doc\n",
      "../artifacts/parsing/spbu/work_doc/41286.doc\n",
      "../artifacts/parsing/spbu/work_doc/44249.doc\n",
      "../artifacts/parsing/spbu/work_doc/41453.doc\n",
      "../artifacts/parsing/spbu/work_doc/42628.doc\n",
      "../artifacts/parsing/spbu/work_doc/44265.doc\n",
      "../artifacts/parsing/spbu/work_doc/41731.doc\n",
      "../artifacts/parsing/spbu/work_doc/41719.doc\n",
      "../artifacts/parsing/spbu/work_doc/40375.doc\n",
      "../artifacts/parsing/spbu/work_doc/44489.doc\n",
      "../artifacts/parsing/spbu/work_doc/44462.doc\n",
      "../artifacts/parsing/spbu/work_doc/43457.doc\n",
      "../artifacts/parsing/spbu/work_doc/44714.doc\n",
      "../artifacts/parsing/spbu/work_doc/44931.doc\n",
      "../artifacts/parsing/spbu/work_doc/44528.doc\n",
      "../artifacts/parsing/spbu/work_doc/41530.doc\n",
      "../artifacts/parsing/spbu/work_doc/44110.doc\n",
      "../artifacts/parsing/spbu/work_doc/40404.doc\n",
      "../artifacts/parsing/spbu/work_doc/44851.doc\n",
      "../artifacts/parsing/spbu/work_doc/40411.doc\n",
      "../artifacts/parsing/spbu/work_doc/44475.doc\n",
      "../artifacts/parsing/spbu/work_doc/42825.doc\n",
      "../artifacts/parsing/spbu/work_doc/41684.doc\n",
      "../artifacts/parsing/spbu/work_doc/40258.doc\n",
      "../artifacts/parsing/spbu/work_doc/44200.doc\n",
      "../artifacts/parsing/spbu/work_doc/41422.doc\n",
      "../artifacts/parsing/spbu/work_doc/40112.doc\n",
      "../artifacts/parsing/spbu/work_doc/40106.doc\n",
      "../artifacts/parsing/spbu/work_doc/41797.doc\n",
      "../artifacts/parsing/spbu/work_doc/41741.doc\n",
      "../artifacts/parsing/spbu/work_doc/44163.doc\n",
      "../artifacts/parsing/spbu/work_doc/44177.doc\n",
      "../artifacts/parsing/spbu/work_doc/41812.doc\n",
      "../artifacts/parsing/spbu/work_doc/41635.doc\n",
      "../artifacts/parsing/spbu/work_doc/41623.doc\n",
      "../artifacts/parsing/spbu/work_doc/43544.doc\n",
      "../artifacts/parsing/spbu/work_doc/40307.doc\n",
      "../artifacts/parsing/spbu/work_doc/41794.doc\n",
      "../artifacts/parsing/spbu/work_doc/44404.doc\n",
      "../artifacts/parsing/spbu/work_doc/41636.doc\n",
      "../artifacts/parsing/spbu/work_doc/44772.doc\n",
      "../artifacts/parsing/spbu/work_doc/43409.doc\n",
      "../artifacts/parsing/spbu/work_doc/44414.doc\n",
      "../artifacts/parsing/spbu/work_doc/41587.doc\n",
      "../artifacts/parsing/spbu/work_doc/44213.doc\n",
      "../artifacts/parsing/spbu/work_doc/44039.doc\n",
      "../artifacts/parsing/spbu/work_doc/44417.doc\n",
      "../artifacts/parsing/spbu/work_doc/42502.doc\n",
      "../artifacts/parsing/spbu/work_doc/42463.doc\n"
     ]
    }
   ],
   "source": [
    "for file in base_diplomas_dir_path.glob(f\"*.{ext}\"):\n",
    "    print(file)"
   ]
  },
  {
   "cell_type": "code",
   "execution_count": null,
   "metadata": {},
   "outputs": [],
   "source": [
    "processed_work_ext_doc_dir_path = Path(f\"{base_spbu_dir_path}/processed_ext_doc/\")\n",
    "processed_work_ext_doc_dir_path.mkdir(exist_ok=True, parents=True)\n",
    "def convert_doc_to_txt(filename):\n",
    "    subprocess.run([\"textutil\", \"-convert\", \"txt\", \"-output\", f\"{processed_work_ext_doc_dir_path}/{filename.stem}.txt\", filename])\n",
    "\n",
    "for file in base_diplomas_dir_path.glob(f\"*.{ext}\"):\n",
    "    convert_doc_to_txt(file)"
   ]
  },
  {
   "cell_type": "code",
   "execution_count": null,
   "metadata": {},
   "outputs": [],
   "source": []
  }
 ],
 "metadata": {
  "kernelspec": {
   "display_name": "Python 3",
   "language": "python",
   "name": "python3"
  },
  "language_info": {
   "codemirror_mode": {
    "name": "ipython",
    "version": 3
   },
   "file_extension": ".py",
   "mimetype": "text/x-python",
   "name": "python",
   "nbconvert_exporter": "python",
   "pygments_lexer": "ipython3",
   "version": "3.11.9"
  }
 },
 "nbformat": 4,
 "nbformat_minor": 2
}
