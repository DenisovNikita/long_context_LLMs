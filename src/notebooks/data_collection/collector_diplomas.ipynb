{
 "cells": [
  {
   "cell_type": "markdown",
   "metadata": {},
   "source": [
    "### Imports"
   ]
  },
  {
   "cell_type": "code",
   "execution_count": 1,
   "metadata": {},
   "outputs": [],
   "source": [
    "import sys\n",
    "sys.path.append(\"../../utils\")\n",
    "from definitions import *\n",
    "from parsing_helpers import parse_spbu_with_year_safe"
   ]
  },
  {
   "cell_type": "markdown",
   "metadata": {},
   "source": [
    "### Try to use helper function"
   ]
  },
  {
   "cell_type": "code",
   "execution_count": 3,
   "metadata": {},
   "outputs": [],
   "source": [
    "years = [2023, 2022, 2021, 2020, 2019, 2018, 2017, 2016]\n",
    "remain_years = []"
   ]
  },
  {
   "cell_type": "code",
   "execution_count": 4,
   "metadata": {},
   "outputs": [
    {
     "name": "stderr",
     "output_type": "stream",
     "text": [
      "Years...:   0%|          | 0/1 [00:00<?, ?it/s]"
     ]
    },
    {
     "name": "stdout",
     "output_type": "stream",
     "text": [
      "Requesting search_pages...\n"
     ]
    },
    {
     "name": "stderr",
     "output_type": "stream",
     "text": [
      "Search pages...: 100%|██████████| 125/125 [00:00<00:00, 34760.19it/s]\n"
     ]
    },
    {
     "name": "stdout",
     "output_type": "stream",
     "text": [
      "Collecting ids from search_pages...\n",
      "Requesting preview by ids...\n"
     ]
    },
    {
     "name": "stderr",
     "output_type": "stream",
     "text": [
      "Ids...: 100%|██████████| 1594/1594 [00:00<00:00, 62224.01it/s]\n"
     ]
    },
    {
     "name": "stdout",
     "output_type": "stream",
     "text": [
      "Requesting view by preview...\n"
     ]
    },
    {
     "name": "stderr",
     "output_type": "stream",
     "text": [
      "Ids...: 100%|██████████| 1594/1594 [00:02<00:00, 728.56it/s]\n"
     ]
    },
    {
     "name": "stdout",
     "output_type": "stream",
     "text": [
      "Requesting doc by view...\n"
     ]
    },
    {
     "name": "stderr",
     "output_type": "stream",
     "text": [
      "/Users/nvdenisov2002/study/8-semester/diploma/long_context_LLMs/artifacts/parsing/diplomas/spbu/2016/work/6019_diploma.ru/bitstream/11701/3817/1/Bez_imeni178: No such file or directory\n",
      "Ids...: 100%|██████████| 1594/1594 [00:07<00:00, 203.78it/s]\n",
      "Years...: 100%|██████████| 1/1 [00:10<00:00, 10.88s/it]\n"
     ]
    }
   ],
   "source": [
    "for year in tqdm([2016], desc=\"Years...\"):\n",
    "    parse_spbu_with_year_safe(year)"
   ]
  },
  {
   "cell_type": "markdown",
   "metadata": {},
   "source": [
    "### Parse SPbU (view site structure)"
   ]
  },
  {
   "cell_type": "code",
   "execution_count": null,
   "metadata": {},
   "outputs": [],
   "source": [
    "year = 2023\n",
    "url = f\"https://diploma.spbu.ru/gp/index?GpSearch%5Bname_ru%5D=&GpSearch%5Btitle_ru%5D=&GpSearch%5Beditor_ru%5D=&GpSearch%5Bdp_id%5D=&GpSearch%5Bstatus%5D=1&GpSearch%5Byear%5D=2023&page=34\" # \"https://diploma.spbu.ru/gp/index?GpSearch%5Bname_ru%5D=&GpSearch%5Btitle_ru%5D=&GpSearch%5Beditor_ru%5D=&GpSearch%5Bdp_id%5D=&GpSearch%5Bstatus%5D=1&GpSearch%5Byear%5D={year}\"\n",
    "filename = \"wget_spbsu_search.html\""
   ]
  },
  {
   "cell_type": "code",
   "execution_count": null,
   "metadata": {},
   "outputs": [
    {
     "name": "stdout",
     "output_type": "stream",
     "text": [
      "--2024-05-01 21:52:24--  https://diploma.spbu.ru/gp/index?GpSearch%5Bname_ru%5D=&GpSearch%5Btitle_ru%5D=&GpSearch%5Beditor_ru%5D=&GpSearch%5Bdp_id%5D=&GpSearch%5Bstatus%5D=1&GpSearch%5Byear%5D=2023&page=34\n",
      "Resolving diploma.spbu.ru (diploma.spbu.ru)... 81.89.183.226\n",
      "Connecting to diploma.spbu.ru (diploma.spbu.ru)|81.89.183.226|:443... connected.\n",
      "HTTP request sent, awaiting response... 200 OK\n",
      "Length: unspecified [text/html]\n",
      "Saving to: ‘wget_spbsu_search.html’\n",
      "\n",
      "wget_spbsu_search.h     [ <=>                ]  27.93K  --.-KB/s    in 0.02s   \n",
      "\n",
      "2024-05-01 21:52:24 (1.30 MB/s) - ‘wget_spbsu_search.html’ saved [28599]\n",
      "\n"
     ]
    }
   ],
   "source": [
    "! wget -O {filename} \"{url}\""
   ]
  },
  {
   "cell_type": "code",
   "execution_count": null,
   "metadata": {},
   "outputs": [],
   "source": [
    "with open(filename, \"r\") as f:\n",
    "    soup = BeautifulSoup(f.read(), \"html.parser\")"
   ]
  },
  {
   "cell_type": "code",
   "execution_count": null,
   "metadata": {},
   "outputs": [
    {
     "data": {
      "text/plain": [
       "[<a class=\"fa-icon-button fa-icon-vk\" href=\"https://vk.com/spb1724\" rel=\"noopener noreferrer\" target=\"_blank\"></a>,\n",
       " <a class=\"fa-icon-button fa-telegram\" href=\"https://t.me/spbuniversity\" rel=\"noopener noreferrer\" target=\"_blank\"></a>,\n",
       " <a class=\"visible-xs navbar-brand\" href=\"/\"><img alt=\"Диплом СПбГУ\" onerror=\"this.onerror=null; this.src='/images/logo/logoru.png'\" src=\"/images/logo/logo_ru.svgz\"/></a>,\n",
       " <a href=\"/\">Главная</a>,\n",
       " <a href=\"/gp\">Выпускные квалификационные работы</a>,\n",
       " <a href=\"/en/gp/index?GpSearch%5Bname_ru%5D=&amp;GpSearch%5Btitle_ru%5D=&amp;GpSearch%5Beditor_ru%5D=&amp;GpSearch%5Bdp_id%5D=&amp;GpSearch%5Bstatus%5D=1&amp;GpSearch%5Byear%5D=2023&amp;page=34\"><i class=\"flag-icon flag-icon-gb\"></i></a>,\n",
       " <a class=\"btn btn-default\" href=\"/gp/index\">Сбросить</a>,\n",
       " <a class=\"asc\" data-sort=\"-name_ru\" href=\"/gp/index?GpSearch%5Bname_ru%5D=&amp;GpSearch%5Btitle_ru%5D=&amp;GpSearch%5Beditor_ru%5D=&amp;GpSearch%5Bdp_id%5D=&amp;GpSearch%5Bstatus%5D=1&amp;GpSearch%5Byear%5D=2023&amp;page=34&amp;sort=-name_ru\">ФИО выпускника</a>,\n",
       " <a data-sort=\"dp_id\" href=\"/gp/index?GpSearch%5Bname_ru%5D=&amp;GpSearch%5Btitle_ru%5D=&amp;GpSearch%5Beditor_ru%5D=&amp;GpSearch%5Bdp_id%5D=&amp;GpSearch%5Bstatus%5D=1&amp;GpSearch%5Byear%5D=2023&amp;page=34&amp;sort=dp_id\">Направление</a>,\n",
       " <a data-sort=\"title_ru\" href=\"/gp/index?GpSearch%5Bname_ru%5D=&amp;GpSearch%5Btitle_ru%5D=&amp;GpSearch%5Beditor_ru%5D=&amp;GpSearch%5Bdp_id%5D=&amp;GpSearch%5Bstatus%5D=1&amp;GpSearch%5Byear%5D=2023&amp;page=34&amp;sort=title_ru\">Наименование ВКР</a>,\n",
       " <a data-sort=\"editor_ru\" href=\"/gp/index?GpSearch%5Bname_ru%5D=&amp;GpSearch%5Btitle_ru%5D=&amp;GpSearch%5Beditor_ru%5D=&amp;GpSearch%5Bdp_id%5D=&amp;GpSearch%5Bstatus%5D=1&amp;GpSearch%5Byear%5D=2023&amp;page=34&amp;sort=editor_ru\">ФИО научного руководителя</a>,\n",
       " <a data-sort=\"status\" href=\"/gp/index?GpSearch%5Bname_ru%5D=&amp;GpSearch%5Btitle_ru%5D=&amp;GpSearch%5Beditor_ru%5D=&amp;GpSearch%5Bdp_id%5D=&amp;GpSearch%5Bstatus%5D=1&amp;GpSearch%5Byear%5D=2023&amp;page=34&amp;sort=status\">Статус</a>,\n",
       " <a data-sort=\"year\" href=\"/gp/index?GpSearch%5Bname_ru%5D=&amp;GpSearch%5Btitle_ru%5D=&amp;GpSearch%5Beditor_ru%5D=&amp;GpSearch%5Bdp_id%5D=&amp;GpSearch%5Bstatus%5D=1&amp;GpSearch%5Byear%5D=2023&amp;page=34&amp;sort=year\">Год</a>,\n",
       " <a class=\"btn btn-default btn-sm\" data-pjax=\"0\" href=\"/gp/view?id=45064\"><span class=\"glyphicon glyphicon-search\"></span></a>,\n",
       " <a class=\"btn btn-default btn-sm\" data-pjax=\"0\" href=\"/gp/view?id=40598\"><span class=\"glyphicon glyphicon-search\"></span></a>,\n",
       " <a class=\"btn btn-default btn-sm\" data-pjax=\"0\" href=\"/gp/view?id=40257\"><span class=\"glyphicon glyphicon-search\"></span></a>,\n",
       " <a class=\"btn btn-default btn-sm\" data-pjax=\"0\" href=\"/gp/view?id=40258\"><span class=\"glyphicon glyphicon-search\"></span></a>,\n",
       " <a class=\"btn btn-default btn-sm\" data-pjax=\"0\" href=\"/gp/view?id=45065\"><span class=\"glyphicon glyphicon-search\"></span></a>,\n",
       " <a class=\"btn btn-default btn-sm\" data-pjax=\"0\" href=\"/gp/view?id=43834\"><span class=\"glyphicon glyphicon-search\"></span></a>,\n",
       " <a class=\"btn btn-default btn-sm\" data-pjax=\"0\" href=\"/gp/view?id=40259\"><span class=\"glyphicon glyphicon-search\"></span></a>,\n",
       " <a class=\"btn btn-default btn-sm\" data-pjax=\"0\" href=\"/gp/view?id=41229\"><span class=\"glyphicon glyphicon-search\"></span></a>,\n",
       " <a class=\"btn btn-default btn-sm\" data-pjax=\"0\" href=\"/gp/view?id=45066\"><span class=\"glyphicon glyphicon-search\"></span></a>,\n",
       " <a class=\"btn btn-default btn-sm\" data-pjax=\"0\" href=\"/gp/view?id=42405\"><span class=\"glyphicon glyphicon-search\"></span></a>,\n",
       " <a class=\"btn btn-default btn-sm\" data-pjax=\"0\" href=\"/gp/view?id=40599\"><span class=\"glyphicon glyphicon-search\"></span></a>,\n",
       " <a class=\"btn btn-default btn-sm\" data-pjax=\"0\" href=\"/gp/view?id=44211\"><span class=\"glyphicon glyphicon-search\"></span></a>,\n",
       " <a class=\"btn btn-default btn-sm\" data-pjax=\"0\" href=\"/gp/view?id=44832\"><span class=\"glyphicon glyphicon-search\"></span></a>,\n",
       " <a class=\"btn btn-default btn-sm\" data-pjax=\"0\" href=\"/gp/view?id=43951\"><span class=\"glyphicon glyphicon-search\"></span></a>,\n",
       " <a class=\"btn btn-default btn-sm\" data-pjax=\"0\" href=\"/gp/view?id=40600\"><span class=\"glyphicon glyphicon-search\"></span></a>,\n",
       " <a class=\"btn btn-default btn-sm\" data-pjax=\"0\" href=\"/gp/view?id=40082\"><span class=\"glyphicon glyphicon-search\"></span></a>,\n",
       " <a class=\"btn btn-default btn-sm\" data-pjax=\"0\" href=\"/gp/view?id=40260\"><span class=\"glyphicon glyphicon-search\"></span></a>,\n",
       " <a class=\"btn btn-default btn-sm\" data-pjax=\"0\" href=\"/gp/view?id=40601\"><span class=\"glyphicon glyphicon-search\"></span></a>,\n",
       " <a class=\"btn btn-default btn-sm\" data-pjax=\"0\" href=\"/gp/view?id=43471\"><span class=\"glyphicon glyphicon-search\"></span></a>,\n",
       " <a class=\"btn btn-default btn-sm\" data-pjax=\"0\" href=\"/gp/view?id=44213\"><span class=\"glyphicon glyphicon-search\"></span></a>,\n",
       " <a data-page=\"32\" href=\"/gp/index?GpSearch%5Bname_ru%5D=&amp;GpSearch%5Btitle_ru%5D=&amp;GpSearch%5Beditor_ru%5D=&amp;GpSearch%5Bdp_id%5D=&amp;GpSearch%5Bstatus%5D=1&amp;GpSearch%5Byear%5D=2023&amp;page=33\">«</a>,\n",
       " <a data-page=\"28\" href=\"/gp/index?GpSearch%5Bname_ru%5D=&amp;GpSearch%5Btitle_ru%5D=&amp;GpSearch%5Beditor_ru%5D=&amp;GpSearch%5Bdp_id%5D=&amp;GpSearch%5Bstatus%5D=1&amp;GpSearch%5Byear%5D=2023&amp;page=29\">29</a>,\n",
       " <a data-page=\"29\" href=\"/gp/index?GpSearch%5Bname_ru%5D=&amp;GpSearch%5Btitle_ru%5D=&amp;GpSearch%5Beditor_ru%5D=&amp;GpSearch%5Bdp_id%5D=&amp;GpSearch%5Bstatus%5D=1&amp;GpSearch%5Byear%5D=2023&amp;page=30\">30</a>,\n",
       " <a data-page=\"30\" href=\"/gp/index?GpSearch%5Bname_ru%5D=&amp;GpSearch%5Btitle_ru%5D=&amp;GpSearch%5Beditor_ru%5D=&amp;GpSearch%5Bdp_id%5D=&amp;GpSearch%5Bstatus%5D=1&amp;GpSearch%5Byear%5D=2023&amp;page=31\">31</a>,\n",
       " <a data-page=\"31\" href=\"/gp/index?GpSearch%5Bname_ru%5D=&amp;GpSearch%5Btitle_ru%5D=&amp;GpSearch%5Beditor_ru%5D=&amp;GpSearch%5Bdp_id%5D=&amp;GpSearch%5Bstatus%5D=1&amp;GpSearch%5Byear%5D=2023&amp;page=32\">32</a>,\n",
       " <a data-page=\"32\" href=\"/gp/index?GpSearch%5Bname_ru%5D=&amp;GpSearch%5Btitle_ru%5D=&amp;GpSearch%5Beditor_ru%5D=&amp;GpSearch%5Bdp_id%5D=&amp;GpSearch%5Bstatus%5D=1&amp;GpSearch%5Byear%5D=2023&amp;page=33\">33</a>,\n",
       " <a data-page=\"33\" href=\"/gp/index?GpSearch%5Bname_ru%5D=&amp;GpSearch%5Btitle_ru%5D=&amp;GpSearch%5Beditor_ru%5D=&amp;GpSearch%5Bdp_id%5D=&amp;GpSearch%5Bstatus%5D=1&amp;GpSearch%5Byear%5D=2023&amp;page=34\">34</a>,\n",
       " <a data-page=\"34\" href=\"/gp/index?GpSearch%5Bname_ru%5D=&amp;GpSearch%5Btitle_ru%5D=&amp;GpSearch%5Beditor_ru%5D=&amp;GpSearch%5Bdp_id%5D=&amp;GpSearch%5Bstatus%5D=1&amp;GpSearch%5Byear%5D=2023&amp;page=35\">35</a>,\n",
       " <a data-page=\"35\" href=\"/gp/index?GpSearch%5Bname_ru%5D=&amp;GpSearch%5Btitle_ru%5D=&amp;GpSearch%5Beditor_ru%5D=&amp;GpSearch%5Bdp_id%5D=&amp;GpSearch%5Bstatus%5D=1&amp;GpSearch%5Byear%5D=2023&amp;page=36\">36</a>,\n",
       " <a data-page=\"36\" href=\"/gp/index?GpSearch%5Bname_ru%5D=&amp;GpSearch%5Btitle_ru%5D=&amp;GpSearch%5Beditor_ru%5D=&amp;GpSearch%5Bdp_id%5D=&amp;GpSearch%5Bstatus%5D=1&amp;GpSearch%5Byear%5D=2023&amp;page=37\">37</a>,\n",
       " <a data-page=\"37\" href=\"/gp/index?GpSearch%5Bname_ru%5D=&amp;GpSearch%5Btitle_ru%5D=&amp;GpSearch%5Beditor_ru%5D=&amp;GpSearch%5Bdp_id%5D=&amp;GpSearch%5Bstatus%5D=1&amp;GpSearch%5Byear%5D=2023&amp;page=38\">38</a>,\n",
       " <a data-page=\"34\" href=\"/gp/index?GpSearch%5Bname_ru%5D=&amp;GpSearch%5Btitle_ru%5D=&amp;GpSearch%5Beditor_ru%5D=&amp;GpSearch%5Bdp_id%5D=&amp;GpSearch%5Bstatus%5D=1&amp;GpSearch%5Byear%5D=2023&amp;page=35\">»</a>,\n",
       " <a href=\"http://spbu.ru/\" target=\"blank\" title=\"Санкт-Петербургский государственный университет\">Санкт-Петербургский государственный университет</a>]"
      ]
     },
     "execution_count": 67,
     "metadata": {},
     "output_type": "execute_result"
    }
   ],
   "source": [
    "soup.find_all(\"a\", href=True)"
   ]
  },
  {
   "cell_type": "code",
   "execution_count": null,
   "metadata": {},
   "outputs": [],
   "source": [
    "url = \"https://diploma.spbu.ru/gp/view?id=40165\"\n",
    "filename = \"wget_spbsu_entry.html\""
   ]
  },
  {
   "cell_type": "code",
   "execution_count": null,
   "metadata": {},
   "outputs": [
    {
     "name": "stdout",
     "output_type": "stream",
     "text": [
      "--2024-05-01 21:56:58--  https://diploma.spbu.ru/gp/view?id=40165\n",
      "Resolving diploma.spbu.ru (diploma.spbu.ru)... 81.89.183.226\n",
      "Connecting to diploma.spbu.ru (diploma.spbu.ru)|81.89.183.226|:443... connected.\n",
      "HTTP request sent, awaiting response... 200 OK\n",
      "Length: unspecified [text/html]\n",
      "Saving to: ‘wget_spbsu_entry.html’\n",
      "\n",
      "wget_spbsu_entry.ht     [ <=>                ]   5.70K  --.-KB/s    in 0s      \n",
      "\n",
      "2024-05-01 21:56:58 (1.81 GB/s) - ‘wget_spbsu_entry.html’ saved [5840]\n",
      "\n"
     ]
    }
   ],
   "source": [
    "! wget -O {filename} \"{url}\""
   ]
  },
  {
   "cell_type": "code",
   "execution_count": null,
   "metadata": {},
   "outputs": [],
   "source": [
    "with open(filename, \"r\") as f:\n",
    "    soup = BeautifulSoup(f.read(), \"html.parser\")"
   ]
  },
  {
   "cell_type": "code",
   "execution_count": null,
   "metadata": {},
   "outputs": [
    {
     "name": "stdout",
     "output_type": "stream",
     "text": [
      "https://vk.com/spb1724\n",
      "https://t.me/spbuniversity\n",
      "/\n",
      "/\n",
      "/gp\n",
      "/en/gp/view?id=40165\n",
      "/\n",
      "/gp/index\n",
      "http://hdl.handle.net/11701/43547\n",
      "http://spbu.ru/\n"
     ]
    }
   ],
   "source": [
    "for x in soup.find_all(\"a\", href=True):\n",
    "    print(x[\"href\"])"
   ]
  },
  {
   "cell_type": "code",
   "execution_count": null,
   "metadata": {},
   "outputs": [],
   "source": [
    "url = \"https://dspace.spbu.ru/handle/11701/41165?mode=full\""
   ]
  },
  {
   "cell_type": "code",
   "execution_count": null,
   "metadata": {},
   "outputs": [
    {
     "name": "stdout",
     "output_type": "stream",
     "text": [
      "https://dspace.spbu.ru/handle/11701/41165?mode=full\n"
     ]
    }
   ],
   "source": [
    "! echo \"{url}\""
   ]
  },
  {
   "cell_type": "code",
   "execution_count": null,
   "metadata": {},
   "outputs": [],
   "source": [
    "filename = \"wget_spbsu.html\""
   ]
  },
  {
   "cell_type": "code",
   "execution_count": null,
   "metadata": {},
   "outputs": [
    {
     "name": "stdout",
     "output_type": "stream",
     "text": [
      "--2024-05-01 23:06:01--  https://dspace.spbu.ru/handle/11701/41165?mode=full\n",
      "Resolving dspace.spbu.ru (dspace.spbu.ru)... 81.89.183.226\n",
      "Connecting to dspace.spbu.ru (dspace.spbu.ru)|81.89.183.226|:443... connected.\n",
      "HTTP request sent, awaiting response... 200 OK\n",
      "Length: unspecified [text/html]\n",
      "Saving to: ‘wget_spbsu.html’\n",
      "\n",
      "wget_spbsu.html         [ <=>                ]  35.92K  --.-KB/s    in 0.01s   \n",
      "\n",
      "2024-05-01 23:06:01 (2.34 MB/s) - ‘wget_spbsu.html’ saved [36787]\n",
      "\n"
     ]
    }
   ],
   "source": [
    "! wget -O {filename} \"{url}\""
   ]
  },
  {
   "cell_type": "code",
   "execution_count": null,
   "metadata": {},
   "outputs": [],
   "source": [
    "filename = \"wget_spbsu_view_page_numbers.html\""
   ]
  },
  {
   "cell_type": "code",
   "execution_count": null,
   "metadata": {},
   "outputs": [],
   "source": [
    "! wget -q -O {filename} \"https://diploma.spbu.ru/gp/index?GpSearch%5Bname_ru%5D=&GpSearch%5Btitle_ru%5D=&GpSearch%5Beditor_ru%5D=&GpSearch%5Bdp_id%5D=&GpSearch%5Bstatus%5D=1&GpSearch%5Byear%5D=2020\""
   ]
  },
  {
   "cell_type": "code",
   "execution_count": null,
   "metadata": {},
   "outputs": [],
   "source": [
    "with open(filename, \"r\") as f:\n",
    "    soup = BeautifulSoup(f.read(), \"html.parser\")\n",
    "dict_soup = convert(soup)\n",
    "with open(\"kek.json\", \"w\") as f:\n",
    "    json.dump(dict_soup, f, ensure_ascii=False, indent=2)"
   ]
  },
  {
   "cell_type": "code",
   "execution_count": null,
   "metadata": {},
   "outputs": [
    {
     "data": {
      "text/plain": [
       "'1185'"
      ]
     },
     "execution_count": 9,
     "metadata": {},
     "output_type": "execute_result"
    }
   ],
   "source": [
    "dict_soup[\"html\"][0][\"body\"][0][\"div\"][0][\"div\"][1][\"div\"][0][\"div\"][0][\"div\"][1][\"div\"][0][\"div\"][1][\"div\"][0][\"b\"][1][\"#text\"].replace(u'\\xa0', '')"
   ]
  },
  {
   "cell_type": "code",
   "execution_count": null,
   "metadata": {},
   "outputs": [],
   "source": [
    "with open(filename, \"r\") as f:\n",
    "    data = f.read()"
   ]
  },
  {
   "cell_type": "code",
   "execution_count": null,
   "metadata": {},
   "outputs": [],
   "source": [
    "soup = BeautifulSoup(data, \"html.parser\")"
   ]
  },
  {
   "cell_type": "code",
   "execution_count": null,
   "metadata": {},
   "outputs": [],
   "source": [
    "soup_dict = convert(soup)"
   ]
  },
  {
   "cell_type": "code",
   "execution_count": null,
   "metadata": {},
   "outputs": [
    {
     "ename": "FileNotFoundError",
     "evalue": "[Errno 2] No such file or directory: '/Users/nvdenisov2002/study/8-semester/diploma/long_context_LLMs/artifacts/parsing/diplomas/spbu/2023/view/40459.html'",
     "output_type": "error",
     "traceback": [
      "\u001b[0;31m---------------------------------------------------------------------------\u001b[0m",
      "\u001b[0;31mFileNotFoundError\u001b[0m                         Traceback (most recent call last)",
      "Cell \u001b[0;32mIn[111], line 1\u001b[0m\n\u001b[0;32m----> 1\u001b[0m \u001b[38;5;28;01mwith\u001b[39;00m \u001b[38;5;28;43mopen\u001b[39;49m\u001b[43m(\u001b[49m\u001b[43mARTIFACTS_DIR_PATH\u001b[49m\u001b[38;5;241;43m.\u001b[39;49m\u001b[43mjoinpath\u001b[49m\u001b[43m(\u001b[49m\u001b[38;5;124;43m\"\u001b[39;49m\u001b[38;5;124;43mparsing/diplomas/spbu/2023/view/40459.html\u001b[39;49m\u001b[38;5;124;43m\"\u001b[39;49m\u001b[43m)\u001b[49m\u001b[43m,\u001b[49m\u001b[43m \u001b[49m\u001b[38;5;124;43m\"\u001b[39;49m\u001b[38;5;124;43mr\u001b[39;49m\u001b[38;5;124;43m\"\u001b[39;49m\u001b[43m)\u001b[49m \u001b[38;5;28;01mas\u001b[39;00m f:\n\u001b[1;32m      2\u001b[0m     data \u001b[38;5;241m=\u001b[39m f\u001b[38;5;241m.\u001b[39mread()\n\u001b[1;32m      3\u001b[0m soup \u001b[38;5;241m=\u001b[39m BeautifulSoup(data, \u001b[38;5;124m\"\u001b[39m\u001b[38;5;124mhtml.parser\u001b[39m\u001b[38;5;124m\"\u001b[39m)\n",
      "File \u001b[0;32m/opt/homebrew/lib/python3.11/site-packages/IPython/core/interactiveshell.py:284\u001b[0m, in \u001b[0;36m_modified_open\u001b[0;34m(file, *args, **kwargs)\u001b[0m\n\u001b[1;32m    277\u001b[0m \u001b[38;5;28;01mif\u001b[39;00m file \u001b[38;5;129;01min\u001b[39;00m {\u001b[38;5;241m0\u001b[39m, \u001b[38;5;241m1\u001b[39m, \u001b[38;5;241m2\u001b[39m}:\n\u001b[1;32m    278\u001b[0m     \u001b[38;5;28;01mraise\u001b[39;00m \u001b[38;5;167;01mValueError\u001b[39;00m(\n\u001b[1;32m    279\u001b[0m         \u001b[38;5;124mf\u001b[39m\u001b[38;5;124m\"\u001b[39m\u001b[38;5;124mIPython won\u001b[39m\u001b[38;5;124m'\u001b[39m\u001b[38;5;124mt let you open fd=\u001b[39m\u001b[38;5;132;01m{\u001b[39;00mfile\u001b[38;5;132;01m}\u001b[39;00m\u001b[38;5;124m by default \u001b[39m\u001b[38;5;124m\"\u001b[39m\n\u001b[1;32m    280\u001b[0m         \u001b[38;5;124m\"\u001b[39m\u001b[38;5;124mas it is likely to crash IPython. If you know what you are doing, \u001b[39m\u001b[38;5;124m\"\u001b[39m\n\u001b[1;32m    281\u001b[0m         \u001b[38;5;124m\"\u001b[39m\u001b[38;5;124myou can use builtins\u001b[39m\u001b[38;5;124m'\u001b[39m\u001b[38;5;124m open.\u001b[39m\u001b[38;5;124m\"\u001b[39m\n\u001b[1;32m    282\u001b[0m     )\n\u001b[0;32m--> 284\u001b[0m \u001b[38;5;28;01mreturn\u001b[39;00m \u001b[43mio_open\u001b[49m\u001b[43m(\u001b[49m\u001b[43mfile\u001b[49m\u001b[43m,\u001b[49m\u001b[43m \u001b[49m\u001b[38;5;241;43m*\u001b[39;49m\u001b[43margs\u001b[49m\u001b[43m,\u001b[49m\u001b[43m \u001b[49m\u001b[38;5;241;43m*\u001b[39;49m\u001b[38;5;241;43m*\u001b[39;49m\u001b[43mkwargs\u001b[49m\u001b[43m)\u001b[49m\n",
      "\u001b[0;31mFileNotFoundError\u001b[0m: [Errno 2] No such file or directory: '/Users/nvdenisov2002/study/8-semester/diploma/long_context_LLMs/artifacts/parsing/diplomas/spbu/2023/view/40459.html'"
     ]
    }
   ],
   "source": [
    "with open(ARTIFACTS_DIR_PATH.joinpath(\"parsing/diplomas/spbu/2023/view/40459.html\"), \"r\") as f:\n",
    "    data = f.read()\n",
    "soup = BeautifulSoup(data, \"html.parser\")\n",
    "soup_dict = convert(soup)"
   ]
  },
  {
   "cell_type": "code",
   "execution_count": null,
   "metadata": {},
   "outputs": [],
   "source": [
    "with open(\"soup_dict_40165.json\", \"w\") as f:\n",
    "    json.dump(soup_dict, f, ensure_ascii=False, indent=2)"
   ]
  },
  {
   "cell_type": "code",
   "execution_count": null,
   "metadata": {},
   "outputs": [
    {
     "data": {
      "text/plain": [
       "'/bitstream/11701/43547/2/Master_Thesis_Abalakova_Pendriak.docx'"
      ]
     },
     "execution_count": 103,
     "metadata": {},
     "output_type": "execute_result"
    }
   ],
   "source": [
    "soup_dict['html'][0]['body'][0]['main'][0]['div'][2]['div'][1]['table'][0]['tr'][1]['td'][0]['a'][0][\"@href\"]"
   ]
  },
  {
   "cell_type": "code",
   "execution_count": null,
   "metadata": {},
   "outputs": [
    {
     "ename": "KeyError",
     "evalue": "'table'",
     "output_type": "error",
     "traceback": [
      "\u001b[0;31m---------------------------------------------------------------------------\u001b[0m",
      "\u001b[0;31mKeyError\u001b[0m                                  Traceback (most recent call last)",
      "Cell \u001b[0;32mIn[102], line 1\u001b[0m\n\u001b[0;32m----> 1\u001b[0m \u001b[43msoup_dict\u001b[49m\u001b[43m[\u001b[49m\u001b[38;5;124;43m'\u001b[39;49m\u001b[38;5;124;43mhtml\u001b[39;49m\u001b[38;5;124;43m'\u001b[39;49m\u001b[43m]\u001b[49m\u001b[43m[\u001b[49m\u001b[38;5;241;43m0\u001b[39;49m\u001b[43m]\u001b[49m\u001b[43m[\u001b[49m\u001b[38;5;124;43m'\u001b[39;49m\u001b[38;5;124;43mbody\u001b[39;49m\u001b[38;5;124;43m'\u001b[39;49m\u001b[43m]\u001b[49m\u001b[43m[\u001b[49m\u001b[38;5;241;43m0\u001b[39;49m\u001b[43m]\u001b[49m\u001b[43m[\u001b[49m\u001b[38;5;124;43m'\u001b[39;49m\u001b[38;5;124;43mmain\u001b[39;49m\u001b[38;5;124;43m'\u001b[39;49m\u001b[43m]\u001b[49m\u001b[43m[\u001b[49m\u001b[38;5;241;43m0\u001b[39;49m\u001b[43m]\u001b[49m\u001b[43m[\u001b[49m\u001b[38;5;124;43m'\u001b[39;49m\u001b[38;5;124;43mdiv\u001b[39;49m\u001b[38;5;124;43m'\u001b[39;49m\u001b[43m]\u001b[49m\u001b[43m[\u001b[49m\u001b[38;5;241;43m2\u001b[39;49m\u001b[43m]\u001b[49m\u001b[43m[\u001b[49m\u001b[38;5;124;43m'\u001b[39;49m\u001b[38;5;124;43mdiv\u001b[39;49m\u001b[38;5;124;43m'\u001b[39;49m\u001b[43m]\u001b[49m\u001b[43m[\u001b[49m\u001b[38;5;241;43m2\u001b[39;49m\u001b[43m]\u001b[49m\u001b[43m[\u001b[49m\u001b[38;5;124;43m'\u001b[39;49m\u001b[38;5;124;43mtable\u001b[39;49m\u001b[38;5;124;43m'\u001b[39;49m\u001b[43m]\u001b[49m[\u001b[38;5;241m0\u001b[39m][\u001b[38;5;124m'\u001b[39m\u001b[38;5;124mtr\u001b[39m\u001b[38;5;124m'\u001b[39m][\u001b[38;5;241m1\u001b[39m][\u001b[38;5;124m'\u001b[39m\u001b[38;5;124mtd\u001b[39m\u001b[38;5;124m'\u001b[39m][\u001b[38;5;241m0\u001b[39m][\u001b[38;5;124m'\u001b[39m\u001b[38;5;124ma\u001b[39m\u001b[38;5;124m'\u001b[39m][\u001b[38;5;241m0\u001b[39m][\u001b[38;5;124m\"\u001b[39m\u001b[38;5;124m@href\u001b[39m\u001b[38;5;124m\"\u001b[39m]\n",
      "\u001b[0;31mKeyError\u001b[0m: 'table'"
     ]
    }
   ],
   "source": [
    "soup_dict['html'][0]['body'][0]['main'][0]['div'][2]['div'][2]['table'][0]['tr'][1]['td'][0]['a'][0][\"@href\"]"
   ]
  },
  {
   "cell_type": "code",
   "execution_count": null,
   "metadata": {},
   "outputs": [],
   "source": [
    "with open(\"soup_dict.json\", \"w\") as f:\n",
    "    json.dump(soup_dict, f, ensure_ascii=False, indent=2)"
   ]
  },
  {
   "cell_type": "code",
   "execution_count": null,
   "metadata": {},
   "outputs": [
    {
     "data": {
      "text/plain": [
       "'/bitstream/11701/41165/2/Master_Thesis.Eleonora_Giudici.pdf'"
      ]
     },
     "execution_count": 90,
     "metadata": {},
     "output_type": "execute_result"
    }
   ],
   "source": [
    "soup_dict['html'][0]['body'][0]['main'][0]['div'][2]['div'][2]['table'][0]['tr'][1]['td'][0]['a'][0][\"@href\"]"
   ]
  },
  {
   "cell_type": "code",
   "execution_count": null,
   "metadata": {},
   "outputs": [
    {
     "data": {
      "text/plain": [
       "'Данная работа исследует потенциал использования геоаналитических методов для улучшения показателей продаж Велодрайва, велосипедной компании, работающей на российском рынке. Анализируя финансовые и географические данные, исследование направлено на выявление ключевых географических факторов, влияющих на показатели продаж, и предоставление ценной информации и рекомендаций по увеличению выручки компании. Для выявления влияющих факторов и прогнозирования потенциальных месторасположений новых магазинов построена модель множественной регрессии. Модель используется для прогнозирования объемов продаж в потенциальных местах расположения магазинов. С учетом различных факторов затрат и динамики роста был рассчитан потенциальный бизнес-эффект, прибыль и рентабельность по пяти точкам. Результаты представлены с помощью визуализации данных и карт, выделяющих географические закономерности в показателях продаж. Это исследование дает представление о значении геоаналитических методов для повышения эффективности продаж и предоставляет ценные возможности компании, стремящейся эффективно использовать географические данные.'"
      ]
     },
     "execution_count": 108,
     "metadata": {},
     "output_type": "execute_result"
    }
   ],
   "source": [
    "soup_dict['html'][0]['head'][0]['meta'][3]['meta'][10][\"@content\"]"
   ]
  },
  {
   "cell_type": "code",
   "execution_count": null,
   "metadata": {},
   "outputs": [
    {
     "data": {
      "text/plain": [
       "'museum brand identity'"
      ]
     },
     "execution_count": 86,
     "metadata": {},
     "output_type": "execute_result"
    }
   ],
   "source": [
    "soup_dict['html'][0]['head'][0]['meta'][3]['meta'][32][\"@content\"]"
   ]
  },
  {
   "cell_type": "code",
   "execution_count": null,
   "metadata": {},
   "outputs": [],
   "source": [
    "url = \"https://dspace.spbu.ru/bitstream/11701/43547/2/Master_Thesis_Abalakova_Pendriak.docx\"\n",
    "ext = url.split('.')[-1]\n",
    "id = 0\n",
    "filename = f\"{id}.{ext}\""
   ]
  },
  {
   "cell_type": "code",
   "execution_count": null,
   "metadata": {},
   "outputs": [
    {
     "name": "stdout",
     "output_type": "stream",
     "text": [
      "--2024-05-01 22:10:25--  https://dspace.spbu.ru/bitstream/11701/43547/2/Master_Thesis_Abalakova_Pendriak.docx\n",
      "Resolving dspace.spbu.ru (dspace.spbu.ru)... 81.89.183.226\n",
      "Connecting to dspace.spbu.ru (dspace.spbu.ru)|81.89.183.226|:443... connected.\n"
     ]
    },
    {
     "name": "stdout",
     "output_type": "stream",
     "text": [
      "HTTP request sent, awaiting response... 200 OK\n",
      "Length: 2669756 (2.5M) [application/vnd.openxmlformats-officedocument.wordprocessingml.document]\n",
      "Saving to: ‘0.docx’\n",
      "\n",
      "0.docx              100%[===================>]   2.55M  4.65MB/s    in 0.5s    \n",
      "\n",
      "2024-05-01 22:10:26 (4.65 MB/s) - ‘0.docx’ saved [2669756/2669756]\n",
      "\n"
     ]
    }
   ],
   "source": [
    "! wget -O {filename} {url}"
   ]
  },
  {
   "cell_type": "code",
   "execution_count": null,
   "metadata": {},
   "outputs": [
    {
     "name": "stdout",
     "output_type": "stream",
     "text": [
      "Санкт-Петербургский государственный университет\n",
      "\n",
      "\n",
      "\n",
      "\n",
      "\n",
      "\n",
      "\n",
      "\n",
      "АБДУЛЛАЕВ Шохжахон Улугбек угли\n",
      "\n",
      "Выпускная квалификационная работа\n",
      "Роль политики в области гендерного равенства в продвижении имиджа Узбекистана на международной арене \n",
      "\n",
      "\n",
      "Уровень образования: Магистратура\n",
      "Направление 41.04.05 «Международные отношения»\n",
      "Основная образовательная программа\n",
      "ВМ.5568.2021 \n",
      "«Связи с общественностью в сфере международных отношений»\n"
     ]
    }
   ],
   "source": [
    "! textutil -stdout -cat txt {filename} | head -n 20"
   ]
  },
  {
   "cell_type": "markdown",
   "metadata": {},
   "source": [
    "### View program & degrees"
   ]
  },
  {
   "cell_type": "code",
   "execution_count": 9,
   "metadata": {},
   "outputs": [],
   "source": [
    "with open(ARTIFACTS_DIR_PATH.joinpath(\"parsing/diplomas/spbu/2016/view/1891.html\"), \"r\") as f:\n",
    "    soup = BeautifulSoup(f.read())"
   ]
  },
  {
   "cell_type": "code",
   "execution_count": 10,
   "metadata": {},
   "outputs": [],
   "source": [
    "dict_soup = convert(soup)\n",
    "with open(ARTIFACTS_DIR_PATH.joinpath(\"junk/view_dict_soup.json\"), \"w\") as f:\n",
    "    json.dump(dict_soup, f, ensure_ascii=False, indent=2)"
   ]
  },
  {
   "cell_type": "code",
   "execution_count": 11,
   "metadata": {},
   "outputs": [
    {
     "data": {
      "text/plain": [
       "'BIOLOGY'"
      ]
     },
     "execution_count": 11,
     "metadata": {},
     "output_type": "execute_result"
    }
   ],
   "source": [
    "study_field = dict_soup[\"html\"][0][\"body\"][0][\"main\"][0][\"div\"][1][\"ol\"][0][\"li\"][2][\"#text\"]\n",
    "study_field"
   ]
  },
  {
   "cell_type": "code",
   "execution_count": 12,
   "metadata": {},
   "outputs": [
    {
     "data": {
      "text/plain": [
       "\"MASTER'S STUDIES\""
      ]
     },
     "execution_count": 12,
     "metadata": {},
     "output_type": "execute_result"
    }
   ],
   "source": [
    "degree = dict_soup[\"html\"][0][\"body\"][0][\"main\"][0][\"div\"][1][\"ol\"][0][\"li\"][3][\"#text\"]\n",
    "degree"
   ]
  },
  {
   "cell_type": "markdown",
   "metadata": {},
   "source": [
    "### Parse SPbU (real parse)"
   ]
  },
  {
   "cell_type": "code",
   "execution_count": null,
   "metadata": {},
   "outputs": [],
   "source": [
    "def parse_spbu_with_year(year, pages):\n",
    "    def make_delay():\n",
    "        time.sleep(0.5)\n",
    "\n",
    "    def make_request_and_save_result(url, path):\n",
    "        subprocess.run([\"wget\", \"-q\", \"-O\", path, url])\n",
    "\n",
    "    print(\"Requesting search_pages...\")\n",
    "    base_search_url = \"https://diploma.spbu.ru/gp/index?GpSearch%5Bname_ru%5D=&GpSearch%5Btitle_ru%5D=&GpSearch%5Beditor_ru%5D=&GpSearch%5Bdp_id%5D=&GpSearch%5Bstatus%5D=1&GpSearch%5Byear%5D={year}&page={page}\"\n",
    "    base_artifacts_path = ARTIFACTS_DIR_PATH.joinpath(f\"parsing/diplomas/spbu/{year}/\")\n",
    "    base_artifacts_path.mkdir(exist_ok=True, parents=True)\n",
    "    for page in trange(1, pages + 1, desc=\"Search pages...\"):\n",
    "        make_delay()\n",
    "        url = base_search_url.format(year=year, page=page)\n",
    "        search_pages_dir = base_artifacts_path.joinpath(\"search_pages/\")\n",
    "        search_pages_dir.mkdir(exist_ok=True, parents=True)\n",
    "        path = search_pages_dir.joinpath(f\"{page}.html\")\n",
    "        make_request_and_save_result(url, path)\n",
    "\n",
    "    print(\"Collecting ids from search_pages...\")\n",
    "    ids = []\n",
    "    for page in trange(1, pages + 1, desc=\"Search pages...\"):\n",
    "        path = base_artifacts_path.joinpath(f\"search_pages/{page}.html\")\n",
    "        with open(path, \"r\") as f:\n",
    "            soup = BeautifulSoup(f.read(), \"html.parser\")\n",
    "        for x in soup.find_all(\"a\", href=True):\n",
    "            if \"id=\" in x[\"href\"]:\n",
    "                ids.append(x[\"href\"].split('=')[-1])\n",
    "    with open(base_artifacts_path.joinpath(\"ids.json\"), \"w\") as f:\n",
    "        json.dump(ids, f)\n",
    "\n",
    "    print(\"Requesting preview by ids...\")\n",
    "    base_view_id_url = \"https://diploma.spbu.ru/gp/view?id={}\"\n",
    "    dir_path = base_artifacts_path.joinpath(\"preview/\")\n",
    "    dir_path.mkdir(exist_ok=True, parents=True)\n",
    "    for id in tqdm(ids, desc=\"Ids...\"):\n",
    "        make_delay()\n",
    "        url = base_view_id_url.format(id)\n",
    "        path = dir_path.joinpath(f\"{id}.html\")\n",
    "        make_request_and_save_result(url, path)\n",
    "\n",
    "    print(\"Requesting view by preview...\")\n",
    "    base_view_work_url = \"https://dspace.spbu.ru/handle\"\n",
    "    new_dir_path = base_artifacts_path.joinpath(\"view/\")\n",
    "    new_dir_path.mkdir(exist_ok=True, parents=True)\n",
    "    for id in tqdm(ids, desc=\"Ids...\"):\n",
    "        make_delay()\n",
    "        path = base_artifacts_path.joinpath(f\"preview/{id}.html\")\n",
    "        with open(path, \"r\") as f:\n",
    "            soup = BeautifulSoup(f.read(), \"html.parser\")\n",
    "        new_path = f\"{new_dir_path}/{id}.html\"\n",
    "        for x in soup.find_all(\"a\", href=True):\n",
    "            if \"hdl\" in x[\"href\"]:\n",
    "                id1 = x[\"href\"].split('/')[-2]\n",
    "                id2 = x[\"href\"].split('/')[-1]\n",
    "                new_url = f\"{base_view_work_url}/{id1}/{id2}\"\n",
    "                make_request_and_save_result(new_url, new_path)\n",
    "\n",
    "    print(\"Requesting doc by view...\")\n",
    "    base_work_doc_url = \"https://dspace.spbu.ru/{}\"\n",
    "    new_dir_path = base_artifacts_path.joinpath(\"work/\")\n",
    "    new_dir_path.mkdir(exist_ok=True, parents=True)\n",
    "    skipped_ids = []\n",
    "    for id in tqdm(ids, desc=\"Ids...\"):\n",
    "        make_delay()\n",
    "        path = base_artifacts_path.joinpath(f\"view/{id}.html\")\n",
    "        try:\n",
    "            with open(path, \"r\") as f:\n",
    "                soup = BeautifulSoup(f.read(), \"html.parser\")\n",
    "        except Exception:\n",
    "            skipped_ids.append({\n",
    "                \"id\": id,\n",
    "                \"reason\": \"no work\",\n",
    "            })\n",
    "            continue\n",
    "        soup_dict = convert(soup)\n",
    "        summary = None\n",
    "        table_meta = soup_dict['html'][0]['head'][0]['meta'][3]['meta']\n",
    "        for row in table_meta:\n",
    "            if row[\"@name\"] == \"DCTERMS.abstract\" and row[\"@xml:lang\"] == \"ru_RU\":\n",
    "                summary = row[\"@content\"]\n",
    "                break\n",
    "        if summary is None:\n",
    "            skipped_ids.append({\n",
    "                \"id\": id,\n",
    "                \"reason\": \"summary\",\n",
    "            })\n",
    "            continue\n",
    "        divs = soup_dict['html'][0]['body'][0]['main'][0]['div'][2]['div']\n",
    "        bitstream = None\n",
    "        for div in divs:\n",
    "            if div.get('table', [{}])[0].get('tr', [{}, {}])[1].get('td', [{}])[0].get('a', [{}])[0].get(\"@href\"):\n",
    "                bitstream = div['table'][0]['tr'][1]['td'][0]['a'][0][\"@href\"]\n",
    "                break\n",
    "        if bitstream is None:\n",
    "            skipped_ids.append({\n",
    "                \"id\": id,\n",
    "                \"reason\": \"bitstream\",\n",
    "            })\n",
    "            continue\n",
    "\n",
    "        with open(new_dir_path.joinpath(f\"{id}_abstract.txt\"), \"w\") as f:\n",
    "            f.write(summary)\n",
    "            \n",
    "        content_url = base_work_doc_url.format(bitstream)\n",
    "        ext = content_url.split(\".\")[-1]\n",
    "        make_request_and_save_result(content_url, new_dir_path.joinpath(f\"{id}_diploma.{ext}\"))\n",
    "    print(f\"{len(skipped_ids)} ids was skipped\")\n",
    "    \n",
    "    with open(base_artifacts_path.joinpath(\"skipped_ids.json\"), \"w\") as f:\n",
    "        json.dump(skipped_ids, f)"
   ]
  },
  {
   "cell_type": "code",
   "execution_count": null,
   "metadata": {},
   "outputs": [
    {
     "name": "stdout",
     "output_type": "stream",
     "text": [
      "Requesting search_pages...\n"
     ]
    },
    {
     "name": "stderr",
     "output_type": "stream",
     "text": [
      "Search pages...: 100%|██████████| 1/1 [00:00<00:00,  1.05it/s]\n"
     ]
    },
    {
     "name": "stdout",
     "output_type": "stream",
     "text": [
      "Collecting ids from search_pages...\n"
     ]
    },
    {
     "name": "stderr",
     "output_type": "stream",
     "text": [
      "Search pages...: 100%|██████████| 1/1 [00:00<00:00, 93.53it/s]\n"
     ]
    },
    {
     "name": "stdout",
     "output_type": "stream",
     "text": [
      "Requesting preview by ids...\n"
     ]
    },
    {
     "name": "stderr",
     "output_type": "stream",
     "text": [
      "Ids...: 100%|██████████| 20/20 [00:14<00:00,  1.35it/s]\n"
     ]
    },
    {
     "name": "stdout",
     "output_type": "stream",
     "text": [
      "Requesting view by preview...\n"
     ]
    },
    {
     "name": "stderr",
     "output_type": "stream",
     "text": [
      "Ids...: 100%|██████████| 20/20 [00:12<00:00,  1.64it/s]\n"
     ]
    },
    {
     "name": "stdout",
     "output_type": "stream",
     "text": [
      "Requesting doc by view...\n"
     ]
    },
    {
     "name": "stderr",
     "output_type": "stream",
     "text": [
      "Ids...: 100%|██████████| 20/20 [00:15<00:00,  1.30it/s]"
     ]
    },
    {
     "name": "stdout",
     "output_type": "stream",
     "text": [
      "7 ids was skipped\n"
     ]
    },
    {
     "name": "stderr",
     "output_type": "stream",
     "text": [
      "\n"
     ]
    }
   ],
   "source": [
    "parse_spbu_with_year(2023, 1)"
   ]
  },
  {
   "cell_type": "code",
   "execution_count": null,
   "metadata": {},
   "outputs": [],
   "source": [
    "exts = set()\n",
    "for file in base_artifacts_path.joinpath(\"work/\").glob(\"*\"):\n",
    "    exts.add(file.suffix)"
   ]
  },
  {
   "cell_type": "code",
   "execution_count": null,
   "metadata": {},
   "outputs": [
    {
     "data": {
      "text/plain": [
       "{'.DOCX',\n",
       " '.JPG',\n",
       " '.PDF',\n",
       " '.csv',\n",
       " '.doc',\n",
       " '.docm',\n",
       " '.docx',\n",
       " '.docx_1',\n",
       " '.ipynb',\n",
       " '.jpeg',\n",
       " '.jpg',\n",
       " '.json',\n",
       " '.mp4',\n",
       " '.odt',\n",
       " '.pages',\n",
       " '.pdf',\n",
       " '.pptx',\n",
       " '.rtf',\n",
       " '.sav',\n",
       " '.spv',\n",
       " '.txt',\n",
       " '.xlsx'}"
      ]
     },
     "execution_count": 55,
     "metadata": {},
     "output_type": "execute_result"
    }
   ],
   "source": [
    "exts"
   ]
  },
  {
   "cell_type": "markdown",
   "metadata": {},
   "source": [
    "### Process downloaded diplomas"
   ]
  },
  {
   "cell_type": "code",
   "execution_count": null,
   "metadata": {},
   "outputs": [],
   "source": [
    "base_spbu_dir_path = Path(\"../artifacts/parsing/spbu/\")\n",
    "base_diplomas_dir_path = Path(f\"{base_spbu_dir_path}/work_doc/\") \n",
    "ext = \"doc\"\n",
    "with open(f\"{base_spbu_dir_path}/ids.json\") as f:\n",
    "    ids = json.load(f)"
   ]
  },
  {
   "cell_type": "code",
   "execution_count": null,
   "metadata": {},
   "outputs": [
    {
     "name": "stdout",
     "output_type": "stream",
     "text": [
      "../artifacts/parsing/spbu/work_doc/42334.doc\n",
      "../artifacts/parsing/spbu/work_doc/44989.doc\n",
      "../artifacts/parsing/spbu/work_doc/44779.doc\n",
      "../artifacts/parsing/spbu/work_doc/42644.doc\n",
      "../artifacts/parsing/spbu/work_doc/44180.doc\n",
      "../artifacts/parsing/spbu/work_doc/40456.doc\n",
      "../artifacts/parsing/spbu/work_doc/43956.doc\n",
      "../artifacts/parsing/spbu/work_doc/39977.doc\n",
      "../artifacts/parsing/spbu/work_doc/43981.doc\n",
      "../artifacts/parsing/spbu/work_doc/43995.doc\n",
      "../artifacts/parsing/spbu/work_doc/42479.doc\n",
      "../artifacts/parsing/spbu/work_doc/44418.doc\n",
      "../artifacts/parsing/spbu/work_doc/44381.doc\n",
      "../artifacts/parsing/spbu/work_doc/41776.doc\n",
      "../artifacts/parsing/spbu/work_doc/44168.doc\n",
      "../artifacts/parsing/spbu/work_doc/40327.doc\n",
      "../artifacts/parsing/spbu/work_doc/44586.doc\n",
      "../artifacts/parsing/spbu/work_doc/44960.doc\n",
      "../artifacts/parsing/spbu/work_doc/44784.doc\n",
      "../artifacts/parsing/spbu/work_doc/44757.doc\n",
      "../artifacts/parsing/spbu/work_doc/43992.doc\n",
      "../artifacts/parsing/spbu/work_doc/44435.doc\n",
      "../artifacts/parsing/spbu/work_doc/44192.doc\n",
      "../artifacts/parsing/spbu/work_doc/44811.doc\n",
      "../artifacts/parsing/spbu/work_doc/44391.doc\n",
      "../artifacts/parsing/spbu/work_doc/41558.doc\n",
      "../artifacts/parsing/spbu/work_doc/40295.doc\n",
      "../artifacts/parsing/spbu/work_doc/44024.doc\n",
      "../artifacts/parsing/spbu/work_doc/43005.doc\n",
      "../artifacts/parsing/spbu/work_doc/41612.doc\n",
      "../artifacts/parsing/spbu/work_doc/43952.doc\n",
      "../artifacts/parsing/spbu/work_doc/43211.doc\n",
      "../artifacts/parsing/spbu/work_doc/40136.doc\n",
      "../artifacts/parsing/spbu/work_doc/44146.doc\n",
      "../artifacts/parsing/spbu/work_doc/40447.doc\n",
      "../artifacts/parsing/spbu/work_doc/40453.doc\n",
      "../artifacts/parsing/spbu/work_doc/44379.doc\n",
      "../artifacts/parsing/spbu/work_doc/41836.doc\n",
      "../artifacts/parsing/spbu/work_doc/44972.doc\n",
      "../artifacts/parsing/spbu/work_doc/42442.doc\n",
      "../artifacts/parsing/spbu/work_doc/44769.doc\n",
      "../artifacts/parsing/spbu/work_doc/44530.doc\n",
      "../artifacts/parsing/spbu/work_doc/44450.doc\n",
      "../artifacts/parsing/spbu/work_doc/44861.doc\n",
      "../artifacts/parsing/spbu/work_doc/44109.doc\n",
      "../artifacts/parsing/spbu/work_doc/40421.doc\n",
      "../artifacts/parsing/spbu/work_doc/40435.doc\n",
      "../artifacts/parsing/spbu/work_doc/44519.doc\n",
      "../artifacts/parsing/spbu/work_doc/41688.doc\n",
      "../artifacts/parsing/spbu/work_doc/42368.doc\n",
      "../artifacts/parsing/spbu/work_doc/43089.doc\n",
      "../artifacts/parsing/spbu/work_doc/44916.doc\n",
      "../artifacts/parsing/spbu/work_doc/43260.doc\n",
      "../artifacts/parsing/spbu/work_doc/44321.doc\n",
      "../artifacts/parsing/spbu/work_doc/40190.doc\n",
      "../artifacts/parsing/spbu/work_doc/41714.doc\n",
      "../artifacts/parsing/spbu/work_doc/44485.doc\n",
      "../artifacts/parsing/spbu/work_doc/43705.doc\n",
      "../artifacts/parsing/spbu/work_doc/42427.doc\n",
      "../artifacts/parsing/spbu/work_doc/44708.doc\n",
      "../artifacts/parsing/spbu/work_doc/40220.doc\n",
      "../artifacts/parsing/spbu/work_doc/40963.doc\n",
      "../artifacts/parsing/spbu/work_doc/40156.doc\n",
      "../artifacts/parsing/spbu/work_doc/44655.doc\n",
      "../artifacts/parsing/spbu/work_doc/41513.doc\n",
      "../artifacts/parsing/spbu/work_doc/41507.doc\n",
      "../artifacts/parsing/spbu/work_doc/43933.doc\n",
      "../artifacts/parsing/spbu/work_doc/41856.doc\n",
      "../artifacts/parsing/spbu/work_doc/41659.doc\n",
      "../artifacts/parsing/spbu/work_doc/42436.doc\n",
      "../artifacts/parsing/spbu/work_doc/40235.doc\n",
      "../artifacts/parsing/spbu/work_doc/43070.doc\n",
      "../artifacts/parsing/spbu/work_doc/43266.doc\n",
      "../artifacts/parsing/spbu/work_doc/40155.doc\n",
      "../artifacts/parsing/spbu/work_doc/43689.doc\n",
      "../artifacts/parsing/spbu/work_doc/44859.doc\n",
      "../artifacts/parsing/spbu/work_doc/43688.doc\n",
      "../artifacts/parsing/spbu/work_doc/40381.doc\n",
      "../artifacts/parsing/spbu/work_doc/44508.doc\n",
      "../artifacts/parsing/spbu/work_doc/42410.doc\n",
      "../artifacts/parsing/spbu/work_doc/40213.doc\n",
      "../artifacts/parsing/spbu/work_doc/41657.doc\n",
      "../artifacts/parsing/spbu/work_doc/44511.doc\n",
      "../artifacts/parsing/spbu/work_doc/40429.doc\n",
      "../artifacts/parsing/spbu/work_doc/40400.doc\n",
      "../artifacts/parsing/spbu/work_doc/44504.doc\n",
      "../artifacts/parsing/spbu/work_doc/43928.doc\n",
      "../artifacts/parsing/spbu/work_doc/42405.doc\n",
      "../artifacts/parsing/spbu/work_doc/44060.doc\n",
      "../artifacts/parsing/spbu/work_doc/43719.doc\n",
      "../artifacts/parsing/spbu/work_doc/44089.doc\n",
      "../artifacts/parsing/spbu/work_doc/43269.doc\n",
      "../artifacts/parsing/spbu/work_doc/44248.doc\n",
      "../artifacts/parsing/spbu/work_doc/45022.doc\n",
      "../artifacts/parsing/spbu/work_doc/44894.doc\n",
      "../artifacts/parsing/spbu/work_doc/41286.doc\n",
      "../artifacts/parsing/spbu/work_doc/44249.doc\n",
      "../artifacts/parsing/spbu/work_doc/41453.doc\n",
      "../artifacts/parsing/spbu/work_doc/42628.doc\n",
      "../artifacts/parsing/spbu/work_doc/44265.doc\n",
      "../artifacts/parsing/spbu/work_doc/41731.doc\n",
      "../artifacts/parsing/spbu/work_doc/41719.doc\n",
      "../artifacts/parsing/spbu/work_doc/40375.doc\n",
      "../artifacts/parsing/spbu/work_doc/44489.doc\n",
      "../artifacts/parsing/spbu/work_doc/44462.doc\n",
      "../artifacts/parsing/spbu/work_doc/43457.doc\n",
      "../artifacts/parsing/spbu/work_doc/44714.doc\n",
      "../artifacts/parsing/spbu/work_doc/44931.doc\n",
      "../artifacts/parsing/spbu/work_doc/44528.doc\n",
      "../artifacts/parsing/spbu/work_doc/41530.doc\n",
      "../artifacts/parsing/spbu/work_doc/44110.doc\n",
      "../artifacts/parsing/spbu/work_doc/40404.doc\n",
      "../artifacts/parsing/spbu/work_doc/44851.doc\n",
      "../artifacts/parsing/spbu/work_doc/40411.doc\n",
      "../artifacts/parsing/spbu/work_doc/44475.doc\n",
      "../artifacts/parsing/spbu/work_doc/42825.doc\n",
      "../artifacts/parsing/spbu/work_doc/41684.doc\n",
      "../artifacts/parsing/spbu/work_doc/40258.doc\n",
      "../artifacts/parsing/spbu/work_doc/44200.doc\n",
      "../artifacts/parsing/spbu/work_doc/41422.doc\n",
      "../artifacts/parsing/spbu/work_doc/40112.doc\n",
      "../artifacts/parsing/spbu/work_doc/40106.doc\n",
      "../artifacts/parsing/spbu/work_doc/41797.doc\n",
      "../artifacts/parsing/spbu/work_doc/41741.doc\n",
      "../artifacts/parsing/spbu/work_doc/44163.doc\n",
      "../artifacts/parsing/spbu/work_doc/44177.doc\n",
      "../artifacts/parsing/spbu/work_doc/41812.doc\n",
      "../artifacts/parsing/spbu/work_doc/41635.doc\n",
      "../artifacts/parsing/spbu/work_doc/41623.doc\n",
      "../artifacts/parsing/spbu/work_doc/43544.doc\n",
      "../artifacts/parsing/spbu/work_doc/40307.doc\n",
      "../artifacts/parsing/spbu/work_doc/41794.doc\n",
      "../artifacts/parsing/spbu/work_doc/44404.doc\n",
      "../artifacts/parsing/spbu/work_doc/41636.doc\n",
      "../artifacts/parsing/spbu/work_doc/44772.doc\n",
      "../artifacts/parsing/spbu/work_doc/43409.doc\n",
      "../artifacts/parsing/spbu/work_doc/44414.doc\n",
      "../artifacts/parsing/spbu/work_doc/41587.doc\n",
      "../artifacts/parsing/spbu/work_doc/44213.doc\n",
      "../artifacts/parsing/spbu/work_doc/44039.doc\n",
      "../artifacts/parsing/spbu/work_doc/44417.doc\n",
      "../artifacts/parsing/spbu/work_doc/42502.doc\n",
      "../artifacts/parsing/spbu/work_doc/42463.doc\n"
     ]
    }
   ],
   "source": [
    "for file in base_diplomas_dir_path.glob(f\"*.{ext}\"):\n",
    "    print(file)"
   ]
  },
  {
   "cell_type": "code",
   "execution_count": null,
   "metadata": {},
   "outputs": [],
   "source": [
    "processed_work_ext_doc_dir_path = Path(f\"{base_spbu_dir_path}/processed_ext_doc/\")\n",
    "processed_work_ext_doc_dir_path.mkdir(exist_ok=True, parents=True)\n",
    "def convert_doc_to_txt(filename):\n",
    "    subprocess.run([\"textutil\", \"-convert\", \"txt\", \"-output\", f\"{processed_work_ext_doc_dir_path}/{filename.stem}.txt\", filename])\n",
    "\n",
    "for file in base_diplomas_dir_path.glob(f\"*.{ext}\"):\n",
    "    convert_doc_to_txt(file)"
   ]
  },
  {
   "cell_type": "code",
   "execution_count": null,
   "metadata": {},
   "outputs": [],
   "source": []
  }
 ],
 "metadata": {
  "kernelspec": {
   "display_name": "Python 3",
   "language": "python",
   "name": "python3"
  },
  "language_info": {
   "codemirror_mode": {
    "name": "ipython",
    "version": 3
   },
   "file_extension": ".py",
   "mimetype": "text/x-python",
   "name": "python",
   "nbconvert_exporter": "python",
   "pygments_lexer": "ipython3",
   "version": "3.11.9"
  }
 },
 "nbformat": 4,
 "nbformat_minor": 2
}
