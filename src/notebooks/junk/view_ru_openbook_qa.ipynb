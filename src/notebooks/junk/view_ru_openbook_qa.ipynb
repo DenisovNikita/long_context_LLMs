{
 "cells": [
  {
   "cell_type": "markdown",
   "metadata": {},
   "source": [
    "### Imports & Definitions"
   ]
  },
  {
   "cell_type": "code",
   "execution_count": 3,
   "metadata": {},
   "outputs": [],
   "source": [
    "import sys\n",
    "sys.path.append(\"../../utils\")\n",
    "from definitions import *\n",
    "from path_helpers import get_dataset_path, get_metric_dir_path\n",
    "from mera_helpers import construct_prompt\n",
    "from huggingface_helpers import get_tokenizer, get_model\n",
    "from llm_helpers import calculate_token_interest_probs, get_answer"
   ]
  },
  {
   "cell_type": "markdown",
   "metadata": {},
   "source": [
    "### View data"
   ]
  },
  {
   "cell_type": "code",
   "execution_count": 8,
   "metadata": {},
   "outputs": [
    {
     "name": "stdout",
     "output_type": "stream",
     "text": [
      "ruopenbookqa {'question': Value(dtype='string', id=None), 'option_a': Value(dtype='string', id=None), 'option_b': Value(dtype='string', id=None), 'option_c': Value(dtype='string', id=None), 'option_d': Value(dtype='string', id=None)}\n"
     ]
    }
   ],
   "source": [
    "for name, dataset_meta in HUGGINGFACE_NAME_TO_DATASET.items():\n",
    "    for subset, split in zip(dataset_meta[\"subsets\"], dataset_meta[\"splits\"]):\n",
    "        if subset != \"ruopenbookqa\":\n",
    "            continue\n",
    "        path = get_dataset_path(subset, name, split)\n",
    "        dataset = load_from_disk(path)\n",
    "        print(subset, dataset.features[\"inputs\"])"
   ]
  },
  {
   "cell_type": "code",
   "execution_count": null,
   "metadata": {},
   "outputs": [],
   "source": []
  }
 ],
 "metadata": {
  "kernelspec": {
   "display_name": "Python 3",
   "language": "python",
   "name": "python3"
  },
  "language_info": {
   "codemirror_mode": {
    "name": "ipython",
    "version": 3
   },
   "file_extension": ".py",
   "mimetype": "text/x-python",
   "name": "python",
   "nbconvert_exporter": "python",
   "pygments_lexer": "ipython3",
   "version": "3.11.5"
  }
 },
 "nbformat": 4,
 "nbformat_minor": 2
}
