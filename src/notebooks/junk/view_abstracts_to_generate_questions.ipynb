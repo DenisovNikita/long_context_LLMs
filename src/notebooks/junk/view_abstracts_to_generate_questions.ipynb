{
 "cells": [
  {
   "cell_type": "markdown",
   "metadata": {},
   "source": [
    "### Imports & Definitions"
   ]
  },
  {
   "cell_type": "code",
   "execution_count": 1,
   "metadata": {},
   "outputs": [],
   "source": [
    "import sys\n",
    "sys.path.append(\"../../utils\")\n",
    "from definitions import *"
   ]
  },
  {
   "cell_type": "markdown",
   "metadata": {},
   "source": [
    "### View russian math & cs diplomas"
   ]
  },
  {
   "cell_type": "code",
   "execution_count": 2,
   "metadata": {},
   "outputs": [
    {
     "data": {
      "text/html": [
       "<div>\n",
       "<style scoped>\n",
       "    .dataframe tbody tr th:only-of-type {\n",
       "        vertical-align: middle;\n",
       "    }\n",
       "\n",
       "    .dataframe tbody tr th {\n",
       "        vertical-align: top;\n",
       "    }\n",
       "\n",
       "    .dataframe thead th {\n",
       "        text-align: right;\n",
       "    }\n",
       "</style>\n",
       "<table border=\"1\" class=\"dataframe\">\n",
       "  <thead>\n",
       "    <tr style=\"text-align: right;\">\n",
       "      <th></th>\n",
       "      <th>id</th>\n",
       "      <th>year</th>\n",
       "      <th>diploma</th>\n",
       "      <th>abstract</th>\n",
       "      <th>study_field</th>\n",
       "      <th>degree</th>\n",
       "      <th>original_diploma_extension</th>\n",
       "    </tr>\n",
       "  </thead>\n",
       "  <tbody>\n",
       "    <tr>\n",
       "      <th>0</th>\n",
       "      <td>41453</td>\n",
       "      <td>2023</td>\n",
       "      <td>Санкт-Петербургский государственный университе...</td>\n",
       "      <td>Абдуллаев Ш.У. тема диссертации: «Роль политик...</td>\n",
       "      <td>INTERNATIONAL RELATIONS</td>\n",
       "      <td>MASTER'S STUDIES</td>\n",
       "      <td>.doc</td>\n",
       "    </tr>\n",
       "    <tr>\n",
       "      <th>1</th>\n",
       "      <td>43790</td>\n",
       "      <td>2023</td>\n",
       "      <td>Санкт-Петербургский государственный университе...</td>\n",
       "      <td>Выпускная квалификационная работа посвящена из...</td>\n",
       "      <td>POLITICAL SCIENCE</td>\n",
       "      <td>BACHELOR STUDIES</td>\n",
       "      <td>.docx</td>\n",
       "    </tr>\n",
       "    <tr>\n",
       "      <th>2</th>\n",
       "      <td>41165</td>\n",
       "      <td>2023</td>\n",
       "      <td>Санкт-Петербургский государственный университе...</td>\n",
       "      <td>В данной работе описывается реализация обобщен...</td>\n",
       "      <td>MATHEMATICS AND MECHANICS</td>\n",
       "      <td>BACHELOR STUDIES</td>\n",
       "      <td>.pdf</td>\n",
       "    </tr>\n",
       "    <tr>\n",
       "      <th>3</th>\n",
       "      <td>42349</td>\n",
       "      <td>2023</td>\n",
       "      <td>ПРАВИТЕЛЬСТВО РОССИЙСКОЙ ФЕДЕРАЦИИ \\nСАНКТ-ПЕТ...</td>\n",
       "      <td>В выпускной квалификационной работе раскрывает...</td>\n",
       "      <td>SOCIOLOGY</td>\n",
       "      <td>BACHELOR STUDIES</td>\n",
       "      <td>.docx</td>\n",
       "    </tr>\n",
       "    <tr>\n",
       "      <th>4</th>\n",
       "      <td>40166</td>\n",
       "      <td>2023</td>\n",
       "      <td>Федеральное государственное бюджетное образова...</td>\n",
       "      <td>На сегодняшний день наблюдается высокий спрос ...</td>\n",
       "      <td>MANAGEMENT</td>\n",
       "      <td>BACHELOR STUDIES</td>\n",
       "      <td>.docx</td>\n",
       "    </tr>\n",
       "  </tbody>\n",
       "</table>\n",
       "</div>"
      ],
      "text/plain": [
       "      id  year                                            diploma  \\\n",
       "0  41453  2023  Санкт-Петербургский государственный университе...   \n",
       "1  43790  2023  Санкт-Петербургский государственный университе...   \n",
       "2  41165  2023  Санкт-Петербургский государственный университе...   \n",
       "3  42349  2023  ПРАВИТЕЛЬСТВО РОССИЙСКОЙ ФЕДЕРАЦИИ \\nСАНКТ-ПЕТ...   \n",
       "4  40166  2023  Федеральное государственное бюджетное образова...   \n",
       "\n",
       "                                            abstract  \\\n",
       "0  Абдуллаев Ш.У. тема диссертации: «Роль политик...   \n",
       "1  Выпускная квалификационная работа посвящена из...   \n",
       "2  В данной работе описывается реализация обобщен...   \n",
       "3  В выпускной квалификационной работе раскрывает...   \n",
       "4  На сегодняшний день наблюдается высокий спрос ...   \n",
       "\n",
       "                 study_field            degree original_diploma_extension  \n",
       "0    INTERNATIONAL RELATIONS  MASTER'S STUDIES                       .doc  \n",
       "1          POLITICAL SCIENCE  BACHELOR STUDIES                      .docx  \n",
       "2  MATHEMATICS AND MECHANICS  BACHELOR STUDIES                       .pdf  \n",
       "3                  SOCIOLOGY  BACHELOR STUDIES                      .docx  \n",
       "4                 MANAGEMENT  BACHELOR STUDIES                      .docx  "
      ]
     },
     "execution_count": 2,
     "metadata": {},
     "output_type": "execute_result"
    }
   ],
   "source": [
    "df = pd.read_csv(ARTIFACTS_DIR_PATH.joinpath(\"parsing/diplomas/spbu/russian_dataset_test.csv\"))\n",
    "df.head()"
   ]
  },
  {
   "cell_type": "code",
   "execution_count": 3,
   "metadata": {},
   "outputs": [
    {
     "data": {
      "text/plain": [
       "{'ARTS',\n",
       " 'ASIAN AND AFRICAN STUDIES',\n",
       " 'BIOLOGY',\n",
       " 'CHEMISTRY',\n",
       " 'CONTROL PROCESSES',\n",
       " 'DENTAL MEDICINE AND MEDICAL TECHNOLOGIES',\n",
       " 'EARTH SCIENCES',\n",
       " 'ECONOMICS',\n",
       " 'HISTORY',\n",
       " 'INTERNATIONAL RELATIONS',\n",
       " 'LAW',\n",
       " 'LIBERAL ARTS AND SCIENCES',\n",
       " 'MANAGEMENT',\n",
       " 'MATHEMATICS AND COMPUTER SCIENCE',\n",
       " 'MATHEMATICS AND MECHANICS',\n",
       " 'MEDICINE',\n",
       " 'PHILOLOGY',\n",
       " 'PHILOSOPHY',\n",
       " 'PHYSICS',\n",
       " 'POLITICAL SCIENCE',\n",
       " 'PSYCHOLOGY',\n",
       " 'SOCIOLOGY'}"
      ]
     },
     "execution_count": 3,
     "metadata": {},
     "output_type": "execute_result"
    }
   ],
   "source": [
    "set(df[\"study_field\"])"
   ]
  },
  {
   "cell_type": "code",
   "execution_count": 4,
   "metadata": {},
   "outputs": [],
   "source": [
    "mcs = 'MATHEMATICS AND COMPUTER SCIENCE'"
   ]
  },
  {
   "cell_type": "code",
   "execution_count": 5,
   "metadata": {},
   "outputs": [
    {
     "data": {
      "text/html": [
       "<div>\n",
       "<style scoped>\n",
       "    .dataframe tbody tr th:only-of-type {\n",
       "        vertical-align: middle;\n",
       "    }\n",
       "\n",
       "    .dataframe tbody tr th {\n",
       "        vertical-align: top;\n",
       "    }\n",
       "\n",
       "    .dataframe thead th {\n",
       "        text-align: right;\n",
       "    }\n",
       "</style>\n",
       "<table border=\"1\" class=\"dataframe\">\n",
       "  <thead>\n",
       "    <tr style=\"text-align: right;\">\n",
       "      <th></th>\n",
       "      <th>id</th>\n",
       "      <th>year</th>\n",
       "      <th>diploma</th>\n",
       "      <th>abstract</th>\n",
       "      <th>study_field</th>\n",
       "      <th>degree</th>\n",
       "      <th>original_diploma_extension</th>\n",
       "    </tr>\n",
       "  </thead>\n",
       "  <tbody>\n",
       "    <tr>\n",
       "      <th>12</th>\n",
       "      <td>45042</td>\n",
       "      <td>2023</td>\n",
       "      <td>АЙВАЗЬЯН Аршак Владимирович\\nВыпускная квалифи...</td>\n",
       "      <td>В этой работе мы строим правую трансферную мод...</td>\n",
       "      <td>MATHEMATICS AND COMPUTER SCIENCE</td>\n",
       "      <td>BACHELOR STUDIES</td>\n",
       "      <td>.pdf</td>\n",
       "    </tr>\n",
       "    <tr>\n",
       "      <th>25</th>\n",
       "      <td>45043</td>\n",
       "      <td>2023</td>\n",
       "      <td>Санкт-Петербургский государственный университе...</td>\n",
       "      <td>Пусть 𝐾 выпуклое тело в ℝ^𝑛. Определим 𝑑𝑛,𝑛−1(...</td>\n",
       "      <td>MATHEMATICS AND COMPUTER SCIENCE</td>\n",
       "      <td>BACHELOR STUDIES</td>\n",
       "      <td>.pdf</td>\n",
       "    </tr>\n",
       "    <tr>\n",
       "      <th>37</th>\n",
       "      <td>45044</td>\n",
       "      <td>2023</td>\n",
       "      <td>Санкт-Петербургский государственный университе...</td>\n",
       "      <td>Работа посвящена повышению производительности ...</td>\n",
       "      <td>MATHEMATICS AND COMPUTER SCIENCE</td>\n",
       "      <td>BACHELOR STUDIES</td>\n",
       "      <td>.pdf</td>\n",
       "    </tr>\n",
       "    <tr>\n",
       "      <th>101</th>\n",
       "      <td>45046</td>\n",
       "      <td>2023</td>\n",
       "      <td>Санкт-Петербургский государственный университе...</td>\n",
       "      <td>В работе мы обобщаем результаты об энергии нат...</td>\n",
       "      <td>MATHEMATICS AND COMPUTER SCIENCE</td>\n",
       "      <td>BACHELOR STUDIES</td>\n",
       "      <td>.pdf</td>\n",
       "    </tr>\n",
       "    <tr>\n",
       "      <th>152</th>\n",
       "      <td>45047</td>\n",
       "      <td>2023</td>\n",
       "      <td>Санкт–Петербургский государственный университе...</td>\n",
       "      <td>В рамках данной работы рассматривается подход ...</td>\n",
       "      <td>MATHEMATICS AND COMPUTER SCIENCE</td>\n",
       "      <td>BACHELOR STUDIES</td>\n",
       "      <td>.pdf</td>\n",
       "    </tr>\n",
       "  </tbody>\n",
       "</table>\n",
       "</div>"
      ],
      "text/plain": [
       "        id  year                                            diploma  \\\n",
       "12   45042  2023  АЙВАЗЬЯН Аршак Владимирович\\nВыпускная квалифи...   \n",
       "25   45043  2023  Санкт-Петербургский государственный университе...   \n",
       "37   45044  2023  Санкт-Петербургский государственный университе...   \n",
       "101  45046  2023  Санкт-Петербургский государственный университе...   \n",
       "152  45047  2023  Санкт–Петербургский государственный университе...   \n",
       "\n",
       "                                              abstract  \\\n",
       "12   В этой работе мы строим правую трансферную мод...   \n",
       "25   Пусть 𝐾 выпуклое тело в ℝ^𝑛. Определим 𝑑𝑛,𝑛−1(...   \n",
       "37   Работа посвящена повышению производительности ...   \n",
       "101  В работе мы обобщаем результаты об энергии нат...   \n",
       "152  В рамках данной работы рассматривается подход ...   \n",
       "\n",
       "                          study_field            degree  \\\n",
       "12   MATHEMATICS AND COMPUTER SCIENCE  BACHELOR STUDIES   \n",
       "25   MATHEMATICS AND COMPUTER SCIENCE  BACHELOR STUDIES   \n",
       "37   MATHEMATICS AND COMPUTER SCIENCE  BACHELOR STUDIES   \n",
       "101  MATHEMATICS AND COMPUTER SCIENCE  BACHELOR STUDIES   \n",
       "152  MATHEMATICS AND COMPUTER SCIENCE  BACHELOR STUDIES   \n",
       "\n",
       "    original_diploma_extension  \n",
       "12                        .pdf  \n",
       "25                        .pdf  \n",
       "37                        .pdf  \n",
       "101                       .pdf  \n",
       "152                       .pdf  "
      ]
     },
     "execution_count": 5,
     "metadata": {},
     "output_type": "execute_result"
    }
   ],
   "source": [
    "mcs_df = df[df[\"study_field\"] == mcs]\n",
    "mcs_df.head()"
   ]
  },
  {
   "cell_type": "code",
   "execution_count": 6,
   "metadata": {},
   "outputs": [
    {
     "data": {
      "text/plain": [
       "70"
      ]
     },
     "execution_count": 6,
     "metadata": {},
     "output_type": "execute_result"
    }
   ],
   "source": [
    "len(mcs_df)"
   ]
  },
  {
   "cell_type": "code",
   "execution_count": 7,
   "metadata": {},
   "outputs": [],
   "source": [
    "def split_every_nth(s, n):\n",
    "    return '\\n'.join([s[i:i + n] for i in range(0, len(s), n)])"
   ]
  },
  {
   "cell_type": "code",
   "execution_count": 24,
   "metadata": {},
   "outputs": [],
   "source": [
    "question_pattern = {\n",
    "  \"instruction\": \"Задание содержит вопрос по теме {subject} и 4 варианта ответа A, B, C, D, из которых только один правильный.\\n{text}\\nA {option_a}\\nB {option_b}\\nC {option_c}\\nD {option_d}\\nЗапишите букву правильного ответа\\nОтвет:\",\n",
    "  \"inputs\": {\n",
    "    \"text\": \"\",\n",
    "    \"option_a\": \"\",\n",
    "    \"option_b\": \"\",\n",
    "    \"option_c\": \"\",\n",
    "    \"option_d\": \"\",\n",
    "    \"subject\": \"математика и компьютерные науки\"\n",
    "  },\n",
    "  \"outputs\": \"\",\n",
    "  \"meta\": {\n",
    "    \"abstract\": \"{abstract}\",\n",
    "    \"id\": \"{id}\",\n",
    "  }\n",
    "}"
   ]
  },
  {
   "cell_type": "code",
   "execution_count": 25,
   "metadata": {},
   "outputs": [],
   "source": [
    "new_rows = []\n",
    "for i, row in mcs_df.iterrows():\n",
    "    abstract = row[\"abstract\"] # split_every_nth(row[\"abstract\"], 175)\n",
    "    question = copy.deepcopy(question_pattern)\n",
    "    question[\"meta\"][\"abstract\"] = question[\"meta\"][\"abstract\"].format(abstract=abstract)\n",
    "    question[\"meta\"][\"id\"] = question[\"meta\"][\"id\"].format(id=i)\n",
    "    new_rows.append(question)\n",
    "with open(\"mcs_df.json\", \"w\") as f:\n",
    "    json.dump(new_rows, f, ensure_ascii=False, indent=2)"
   ]
  },
  {
   "cell_type": "markdown",
   "metadata": {},
   "source": [
    "### View datasets"
   ]
  },
  {
   "cell_type": "code",
   "execution_count": 11,
   "metadata": {},
   "outputs": [],
   "source": [
    "rummlu = load_from_disk(ARTIFACTS_DIR_PATH.joinpath(\"datasets/rummlu/mera/public_test\").as_posix())"
   ]
  },
  {
   "cell_type": "code",
   "execution_count": 17,
   "metadata": {},
   "outputs": [
    {
     "name": "stdout",
     "output_type": "stream",
     "text": [
      "{\n",
      "  \"instruction\": \"Задание содержит вопрос по теме {subject} и 4 варианта ответа A, B, C, D, из которых только один правильный.\\n{text}\\nA {option_a}\\nB {option_b}\\nC {option_c}\\nD {option_d}\\nЗапишите букву правильного ответа\\nОтвет:\",\n",
      "  \"inputs\": {\n",
      "    \"text\": \"В какой из этих двух ситуаций действующее лицо, использующее местоимения \\\"я\\\"/\\\"меня\\\"/\\\"мой\\\", нарушает нормы морали, общепринятые в США по состоянию на 2020 год? Ситуация 1 | Я оторвал голову детской игрушке. Ситуация 2 | Я узнал, что моей сестре нравится один мальчик, она не хотела, чтобы он знал, и я сохранил это в тайне.\",\n",
      "    \"option_a\": \"Нарушает, Нарушает\",\n",
      "    \"option_b\": \"Нарушает, Не нарушает\",\n",
      "    \"option_c\": \"Не нарушает, Нарушает\",\n",
      "    \"option_d\": \"Не нарушает, Не нарушает\",\n",
      "    \"subject\": \"Философия\"\n",
      "  },\n",
      "  \"outputs\": \"B\",\n",
      "  \"meta\": {\n",
      "    \"domain\": \"moral_scenarios\",\n",
      "    \"id\": 0\n",
      "  }\n",
      "}\n"
     ]
    }
   ],
   "source": [
    "print(json.dumps(rummlu[0], ensure_ascii=False, indent=2))"
   ]
  },
  {
   "cell_type": "code",
   "execution_count": 27,
   "metadata": {},
   "outputs": [
    {
     "data": {
      "text/plain": [
       "id                                                                        45130\n",
       "year                                                                       2023\n",
       "diploma                       Санкт-Петербургский государственный университе...\n",
       "abstract                      Дипломная работа посвящена применению глубоког...\n",
       "study_field                                    MATHEMATICS AND COMPUTER SCIENCE\n",
       "degree                                                         BACHELOR STUDIES\n",
       "original_diploma_extension                                                 .pdf\n",
       "Name: 1046, dtype: object"
      ]
     },
     "execution_count": 27,
     "metadata": {},
     "output_type": "execute_result"
    }
   ],
   "source": [
    "df.iloc[1046]"
   ]
  },
  {
   "cell_type": "code",
   "execution_count": null,
   "metadata": {},
   "outputs": [],
   "source": []
  }
 ],
 "metadata": {
  "kernelspec": {
   "display_name": "Python 3",
   "language": "python",
   "name": "python3"
  },
  "language_info": {
   "codemirror_mode": {
    "name": "ipython",
    "version": 3
   },
   "file_extension": ".py",
   "mimetype": "text/x-python",
   "name": "python",
   "nbconvert_exporter": "python",
   "pygments_lexer": "ipython3",
   "version": "3.11.9"
  }
 },
 "nbformat": 4,
 "nbformat_minor": 2
}
