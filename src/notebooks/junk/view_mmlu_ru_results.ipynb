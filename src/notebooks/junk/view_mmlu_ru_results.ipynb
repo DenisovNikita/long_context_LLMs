{
 "cells": [
  {
   "cell_type": "markdown",
   "metadata": {},
   "source": [
    "### Imports & Definitions"
   ]
  },
  {
   "cell_type": "code",
   "execution_count": 1,
   "metadata": {},
   "outputs": [],
   "source": [
    "import sys\n",
    "sys.path.append(\"..\")\n",
    "from definitions import *"
   ]
  },
  {
   "cell_type": "markdown",
   "metadata": {},
   "source": [
    "### View mmlu ru results"
   ]
  },
  {
   "cell_type": "code",
   "execution_count": null,
   "metadata": {},
   "outputs": [],
   "source": [
    "def get_answer(probs):\n",
    "    answer, max_prob = 0, 0\n",
    "    for k, v in probs.items():\n",
    "        if v > max_prob:\n",
    "            max_prob = v\n",
    "            answer = k\n",
    "    return answer"
   ]
  },
  {
   "cell_type": "code",
   "execution_count": 21,
   "metadata": {},
   "outputs": [
    {
     "name": "stdout",
     "output_type": "stream",
     "text": [
      "anatomy: num_ok = 39, num_all = 135, percent = 28.89\n",
      "business_ethics: num_ok = 31, num_all = 100, percent = 31.00\n",
      "abstract_algebra: num_ok = 30, num_all = 100, percent = 30.00\n",
      "clinical_knowledge: num_ok = 8, num_all = 14, percent = 57.14\n",
      "astronomy: num_ok = 46, num_all = 152, percent = 30.26\n"
     ]
    }
   ],
   "source": [
    "for file in DIPLOMA_DIR_PATH.joinpath(\"mmlu_ru/results/\").glob(\"*\"):\n",
    "    with open(file, \"r\") as f:\n",
    "        quiz = [json.loads(x) for x in f.readlines()]\n",
    "\n",
    "    num_ok = 0\n",
    "    num_all = len(quiz)\n",
    "    for quiz_part in quiz:\n",
    "        q, a, probs = quiz_part\n",
    "        model_a = get_answer(probs)\n",
    "        if a == model_a:\n",
    "            num_ok += 1\n",
    "    print(f\"{file.stem}: num_ok = {num_ok}, num_all = {num_all}, percent = {num_ok / num_all * 100:.2f}\")"
   ]
  },
  {
   "cell_type": "code",
   "execution_count": null,
   "metadata": {},
   "outputs": [],
   "source": []
  }
 ],
 "metadata": {
  "kernelspec": {
   "display_name": "Python 3",
   "language": "python",
   "name": "python3"
  },
  "language_info": {
   "codemirror_mode": {
    "name": "ipython",
    "version": 3
   },
   "file_extension": ".py",
   "mimetype": "text/x-python",
   "name": "python",
   "nbconvert_exporter": "python",
   "pygments_lexer": "ipython3",
   "version": "3.11.5"
  }
 },
 "nbformat": 4,
 "nbformat_minor": 2
}
