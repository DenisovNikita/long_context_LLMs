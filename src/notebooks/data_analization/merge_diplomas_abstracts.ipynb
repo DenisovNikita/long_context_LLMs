{
 "cells": [
  {
   "cell_type": "markdown",
   "metadata": {},
   "source": [
    "### Imports & Definitions"
   ]
  },
  {
   "cell_type": "code",
   "execution_count": 1,
   "metadata": {},
   "outputs": [],
   "source": [
    "import sys\n",
    "sys.path.append(\"../../utils\")\n",
    "from definitions import *"
   ]
  },
  {
   "cell_type": "markdown",
   "metadata": {},
   "source": [
    "### Merge diplomas abstracts"
   ]
  },
  {
   "cell_type": "code",
   "execution_count": 2,
   "metadata": {},
   "outputs": [
    {
     "data": {
      "text/plain": [
       "0     \\n\\n### Instruction:\\nBelow is a diploma text....\n",
       "1     \\nThe following is a diploma text. Your task i...\n",
       "2     \\n\\n### Instruction:\\nBelow is a diploma text....\n",
       "3     \\n\\nThe text that you have written is about th...\n",
       "4     \\nСанкт–Петербургский государственный универси...\n",
       "                            ...                        \n",
       "65    \\n\\n### Explanation:\\n\\n### Hints:\\n\\n### Corr...\n",
       "66    \\n\\n### Instruction:\\nBelow is a diploma text....\n",
       "67    \\nThe text of the diploma is as follows:\\n\\nСа...\n",
       "68    \\nСанкт–Петербургский государственный универси...\n",
       "69    \\n### Instruction:\\nBelow is a diploma text. Y...\n",
       "Name: raw_model_v2, Length: 70, dtype: object"
      ]
     },
     "execution_count": 2,
     "metadata": {},
     "output_type": "execute_result"
    }
   ],
   "source": [
    "raw_v2 = pd.read_csv(ARTIFACTS_DIR_PATH.joinpath(\"diplomas_abstracts/mcs_raw_v2_learnt_abstract.csv\"))[\"raw_model_v2\"]\n",
    "raw_v2"
   ]
  },
  {
   "cell_type": "code",
   "execution_count": 3,
   "metadata": {},
   "outputs": [
    {
     "data": {
      "text/plain": [
       "0     В данной работе рассматривается модельная стру...\n",
       "1     В работе рассматриваются плотности решеток тра...\n",
       "2     В работе рассматривается задача булевой выполн...\n",
       "3     В данной работе рассматривается энергетически-...\n",
       "4     В данной работе рассматривается задача добавле...\n",
       "                            ...                        \n",
       "65    В работе рассматриваются некоторые гипотезы о ...\n",
       "66    Данная работа посвящена поиску и классификации...\n",
       "67    Автор производит подсчёт асимптотики числа три...\n",
       "68    Работа посвящена разработке программного средс...\n",
       "69    Работа посвящена разработке архитектуры и созд...\n",
       "Name: learnt, Length: 70, dtype: object"
      ]
     },
     "execution_count": 3,
     "metadata": {},
     "output_type": "execute_result"
    }
   ],
   "source": [
    "learnt = pd.read_csv(ARTIFACTS_DIR_PATH.joinpath(\"diplomas_abstracts/mcs_raw_learnt_abstract.csv\"))[\"learnt\"]\n",
    "learnt"
   ]
  },
  {
   "cell_type": "code",
   "execution_count": null,
   "metadata": {},
   "outputs": [],
   "source": []
  }
 ],
 "metadata": {
  "kernelspec": {
   "display_name": "Python 3",
   "language": "python",
   "name": "python3"
  },
  "language_info": {
   "codemirror_mode": {
    "name": "ipython",
    "version": 3
   },
   "file_extension": ".py",
   "mimetype": "text/x-python",
   "name": "python",
   "nbconvert_exporter": "python",
   "pygments_lexer": "ipython3",
   "version": "3.11.9"
  }
 },
 "nbformat": 4,
 "nbformat_minor": 2
}
