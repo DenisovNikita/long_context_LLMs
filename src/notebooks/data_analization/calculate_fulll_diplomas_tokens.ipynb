{
 "cells": [
  {
   "cell_type": "markdown",
   "metadata": {},
   "source": [
    "### Imports & Definitions"
   ]
  },
  {
   "cell_type": "code",
   "execution_count": 1,
   "metadata": {},
   "outputs": [],
   "source": [
    "import sys\n",
    "sys.path.append(\"../../utils\")\n",
    "from definitions import *\n",
    "from parsing_helpers import get_num_diplomas\n",
    "from huggingface_helpers import get_tokenizer, get_model, get_num_tokens"
   ]
  },
  {
   "cell_type": "code",
   "execution_count": 2,
   "metadata": {},
   "outputs": [],
   "source": [
    "years = [2023, 2022, 2021, 2020, 2019, 2018, 2017, 2016]"
   ]
  },
  {
   "cell_type": "markdown",
   "metadata": {},
   "source": [
    "### Read data"
   ]
  },
  {
   "cell_type": "code",
   "execution_count": 14,
   "metadata": {},
   "outputs": [
    {
     "data": {
      "text/html": [
       "<div>\n",
       "<style scoped>\n",
       "    .dataframe tbody tr th:only-of-type {\n",
       "        vertical-align: middle;\n",
       "    }\n",
       "\n",
       "    .dataframe tbody tr th {\n",
       "        vertical-align: top;\n",
       "    }\n",
       "\n",
       "    .dataframe thead th {\n",
       "        text-align: right;\n",
       "    }\n",
       "</style>\n",
       "<table border=\"1\" class=\"dataframe\">\n",
       "  <thead>\n",
       "    <tr style=\"text-align: right;\">\n",
       "      <th></th>\n",
       "      <th>id</th>\n",
       "      <th>year</th>\n",
       "      <th>diploma</th>\n",
       "      <th>abstract</th>\n",
       "    </tr>\n",
       "  </thead>\n",
       "  <tbody>\n",
       "    <tr>\n",
       "      <th>0</th>\n",
       "      <td>40165</td>\n",
       "      <td>2023</td>\n",
       "      <td>St. Petersburg State University\\nGraduate Scho...</td>\n",
       "      <td>Данная работа исследует потенциал использовани...</td>\n",
       "    </tr>\n",
       "    <tr>\n",
       "      <th>1</th>\n",
       "      <td>41453</td>\n",
       "      <td>2023</td>\n",
       "      <td>Санкт-Петербургский государственный университе...</td>\n",
       "      <td>Абдуллаев Ш.У. тема диссертации: «Роль политик...</td>\n",
       "    </tr>\n",
       "    <tr>\n",
       "      <th>2</th>\n",
       "      <td>43790</td>\n",
       "      <td>2023</td>\n",
       "      <td>Санкт-Петербургский государственный университе...</td>\n",
       "      <td>Выпускная квалификационная работа посвящена из...</td>\n",
       "    </tr>\n",
       "    <tr>\n",
       "      <th>3</th>\n",
       "      <td>41165</td>\n",
       "      <td>2023</td>\n",
       "      <td>Санкт-Петербургский государственный университе...</td>\n",
       "      <td>В данной работе описывается реализация обобщен...</td>\n",
       "    </tr>\n",
       "    <tr>\n",
       "      <th>4</th>\n",
       "      <td>42349</td>\n",
       "      <td>2023</td>\n",
       "      <td>ПРАВИТЕЛЬСТВО РОССИЙСКОЙ ФЕДЕРАЦИИ \\nСАНКТ-ПЕТ...</td>\n",
       "      <td>В выпускной квалификационной работе раскрывает...</td>\n",
       "    </tr>\n",
       "  </tbody>\n",
       "</table>\n",
       "</div>"
      ],
      "text/plain": [
       "      id  year                                            diploma  \\\n",
       "0  40165  2023  St. Petersburg State University\\nGraduate Scho...   \n",
       "1  41453  2023  Санкт-Петербургский государственный университе...   \n",
       "2  43790  2023  Санкт-Петербургский государственный университе...   \n",
       "3  41165  2023  Санкт-Петербургский государственный университе...   \n",
       "4  42349  2023  ПРАВИТЕЛЬСТВО РОССИЙСКОЙ ФЕДЕРАЦИИ \\nСАНКТ-ПЕТ...   \n",
       "\n",
       "                                            abstract  \n",
       "0  Данная работа исследует потенциал использовани...  \n",
       "1  Абдуллаев Ш.У. тема диссертации: «Роль политик...  \n",
       "2  Выпускная квалификационная работа посвящена из...  \n",
       "3  В данной работе описывается реализация обобщен...  \n",
       "4  В выпускной квалификационной работе раскрывает...  "
      ]
     },
     "execution_count": 14,
     "metadata": {},
     "output_type": "execute_result"
    }
   ],
   "source": [
    "spbu_diplomas_dataset_path = ARTIFACTS_DIR_PATH.joinpath(\"parsing/diplomas/spbu/dataset.csv\")\n",
    "df = pd.read_csv(spbu_diplomas_dataset_path)\n",
    "df.head()"
   ]
  },
  {
   "cell_type": "code",
   "execution_count": 62,
   "metadata": {},
   "outputs": [
    {
     "data": {
      "text/plain": [
       "14398"
      ]
     },
     "execution_count": 62,
     "metadata": {},
     "output_type": "execute_result"
    }
   ],
   "source": [
    "len(df)"
   ]
  },
  {
   "cell_type": "code",
   "execution_count": 3,
   "metadata": {},
   "outputs": [
    {
     "data": {
      "text/html": [
       "<div>\n",
       "<style scoped>\n",
       "    .dataframe tbody tr th:only-of-type {\n",
       "        vertical-align: middle;\n",
       "    }\n",
       "\n",
       "    .dataframe tbody tr th {\n",
       "        vertical-align: top;\n",
       "    }\n",
       "\n",
       "    .dataframe thead th {\n",
       "        text-align: right;\n",
       "    }\n",
       "</style>\n",
       "<table border=\"1\" class=\"dataframe\">\n",
       "  <thead>\n",
       "    <tr style=\"text-align: right;\">\n",
       "      <th></th>\n",
       "      <th>id</th>\n",
       "      <th>year</th>\n",
       "      <th>diploma</th>\n",
       "      <th>abstract</th>\n",
       "    </tr>\n",
       "  </thead>\n",
       "  <tbody>\n",
       "    <tr>\n",
       "      <th>0</th>\n",
       "      <td>41453</td>\n",
       "      <td>2023</td>\n",
       "      <td>Санкт-Петербургский государственный университе...</td>\n",
       "      <td>Абдуллаев Ш.У. тема диссертации: «Роль политик...</td>\n",
       "    </tr>\n",
       "    <tr>\n",
       "      <th>1</th>\n",
       "      <td>43790</td>\n",
       "      <td>2023</td>\n",
       "      <td>Санкт-Петербургский государственный университе...</td>\n",
       "      <td>Выпускная квалификационная работа посвящена из...</td>\n",
       "    </tr>\n",
       "    <tr>\n",
       "      <th>2</th>\n",
       "      <td>41165</td>\n",
       "      <td>2023</td>\n",
       "      <td>Санкт-Петербургский государственный университе...</td>\n",
       "      <td>В данной работе описывается реализация обобщен...</td>\n",
       "    </tr>\n",
       "    <tr>\n",
       "      <th>3</th>\n",
       "      <td>42349</td>\n",
       "      <td>2023</td>\n",
       "      <td>ПРАВИТЕЛЬСТВО РОССИЙСКОЙ ФЕДЕРАЦИИ \\nСАНКТ-ПЕТ...</td>\n",
       "      <td>В выпускной квалификационной работе раскрывает...</td>\n",
       "    </tr>\n",
       "    <tr>\n",
       "      <th>4</th>\n",
       "      <td>40166</td>\n",
       "      <td>2023</td>\n",
       "      <td>Федеральное государственное бюджетное образова...</td>\n",
       "      <td>На сегодняшний день наблюдается высокий спрос ...</td>\n",
       "    </tr>\n",
       "  </tbody>\n",
       "</table>\n",
       "</div>"
      ],
      "text/plain": [
       "      id  year                                            diploma  \\\n",
       "0  41453  2023  Санкт-Петербургский государственный университе...   \n",
       "1  43790  2023  Санкт-Петербургский государственный университе...   \n",
       "2  41165  2023  Санкт-Петербургский государственный университе...   \n",
       "3  42349  2023  ПРАВИТЕЛЬСТВО РОССИЙСКОЙ ФЕДЕРАЦИИ \\nСАНКТ-ПЕТ...   \n",
       "4  40166  2023  Федеральное государственное бюджетное образова...   \n",
       "\n",
       "                                            abstract  \n",
       "0  Абдуллаев Ш.У. тема диссертации: «Роль политик...  \n",
       "1  Выпускная квалификационная работа посвящена из...  \n",
       "2  В данной работе описывается реализация обобщен...  \n",
       "3  В выпускной квалификационной работе раскрывает...  \n",
       "4  На сегодняшний день наблюдается высокий спрос ...  "
      ]
     },
     "execution_count": 3,
     "metadata": {},
     "output_type": "execute_result"
    }
   ],
   "source": [
    "spbu_russian_diplomas_dataset_path = ARTIFACTS_DIR_PATH.joinpath(\"parsing/diplomas/spbu/russian_stupid_filter_dataset.csv\")\n",
    "russian_df = pd.read_csv(spbu_russian_diplomas_dataset_path)\n",
    "russian_df.head()"
   ]
  },
  {
   "cell_type": "code",
   "execution_count": 4,
   "metadata": {},
   "outputs": [
    {
     "data": {
      "text/plain": [
       "10924"
      ]
     },
     "execution_count": 4,
     "metadata": {},
     "output_type": "execute_result"
    }
   ],
   "source": [
    "len(russian_df)"
   ]
  },
  {
   "cell_type": "markdown",
   "metadata": {},
   "source": [
    "### View some statistics"
   ]
  },
  {
   "cell_type": "code",
   "execution_count": 20,
   "metadata": {},
   "outputs": [
    {
     "name": "stderr",
     "output_type": "stream",
     "text": [
      "Years...: 100%|██████████| 8/8 [00:06<00:00,  1.21it/s]\n"
     ]
    }
   ],
   "source": [
    "base_diplomas_spbu_dir_path = ARTIFACTS_DIR_PATH.joinpath(\"parsing/diplomas/spbu/\")\n",
    "new_rows = []\n",
    "num_diplomas = dict()\n",
    "len_ids = dict()\n",
    "len_skipped_ids = dict()\n",
    "for year in tqdm(years, desc=\"Years...\"):\n",
    "    ids_path = base_diplomas_spbu_dir_path.joinpath(f\"{year}/ids.json\")\n",
    "    skipped_ids_path = base_diplomas_spbu_dir_path.joinpath(f\"{year}/skipped_ids.jsons\")\n",
    "    with open(ids_path, \"r\") as f:\n",
    "        ids = json.load(f)\n",
    "    with open(skipped_ids_path, \"r\") as f:\n",
    "        skipped_ids = [json.loads(x)[\"id\"] for x in f.readlines()] \n",
    "    len_ids[year] = len(ids)\n",
    "    len_skipped_ids[year] = len(skipped_ids)\n",
    "    num_diplomas[year] = get_num_diplomas(year)"
   ]
  },
  {
   "cell_type": "code",
   "execution_count": 55,
   "metadata": {},
   "outputs": [
    {
     "name": "stderr",
     "output_type": "stream",
     "text": [
      "Years...: 100%|██████████| 8/8 [00:00<00:00, 1912.15it/s]\n"
     ]
    }
   ],
   "source": [
    "len_skipped_only_no_view_ids = dict()\n",
    "for year in tqdm(years, desc=\"Years...\"):\n",
    "    ids_path = base_diplomas_spbu_dir_path.joinpath(f\"{year}/ids.json\")\n",
    "    skipped_ids_path = base_diplomas_spbu_dir_path.joinpath(f\"{year}/skipped_ids.jsons\")\n",
    "    skipped_only_no_veiw_ids = []\n",
    "    with open(skipped_ids_path, \"r\") as f:\n",
    "        for x in f.readlines():\n",
    "            entry = json.loads(x)\n",
    "            if entry[\"reason\"] == \"no work view\":\n",
    "                skipped_only_no_veiw_ids.append(entry[\"id\"])\n",
    "    len_skipped_only_no_view_ids[year] = len(skipped_only_no_veiw_ids)"
   ]
  },
  {
   "cell_type": "code",
   "execution_count": 64,
   "metadata": {},
   "outputs": [
    {
     "name": "stderr",
     "output_type": "stream",
     "text": [
      "Years...: 100%|██████████| 8/8 [00:00<00:00, 101.71it/s]"
     ]
    },
    {
     "name": "stdout",
     "output_type": "stream",
     "text": [
      "2023 2328 2128 1660 1654 1624 1387\n",
      "2022 2139 2139 1783 1783 1770 1533\n",
      "2021 1857 1857 1857 1853 1837 1535\n",
      "2020 1185 1185 1185 1183 1177 983\n",
      "2019 1035 1035 1035 1033 1019 836\n",
      "2018 2730 2730 2697 2689 2648 2102\n",
      "2017 3369 3369 3268 3248 2946 1655\n",
      "2016 2494 1594 1416 1416 1377 893\n"
     ]
    },
    {
     "name": "stderr",
     "output_type": "stream",
     "text": [
      "\n"
     ]
    }
   ],
   "source": [
    "df_rows = dict()\n",
    "russian_df_rows = dict()\n",
    "for year in tqdm(years, desc=\"Years...\"):\n",
    "    df_rows[year] = len(df[df[\"year\"] == year])\n",
    "    russian_df_rows[year] = len(russian_df[russian_df[\"year\"] == year])\n",
    "    not_skipped_only_no_view = len_ids[year] - len_skipped_only_no_view_ids[year]\n",
    "    not_skipped_docs = len_ids[year] - len_skipped_ids[year]\n",
    "    print(year, num_diplomas[year], len_ids[year], not_skipped_only_no_view, not_skipped_docs, df_rows[year], russian_df_rows[year])"
   ]
  },
  {
   "cell_type": "code",
   "execution_count": 67,
   "metadata": {},
   "outputs": [
    {
     "name": "stderr",
     "output_type": "stream",
     "text": [
      "Years...: 8it [00:00, 87154.37it/s]\n"
     ]
    },
    {
     "data": {
      "image/png": "[encoded data removed]",
      "text/plain": [
       "<Figure size 2000x1500 with 1 Axes>"
      ]
     },
     "metadata": {},
     "output_type": "display_data"
    }
   ],
   "source": [
    "x_all = []\n",
    "h_all = []\n",
    "colors_all = []\n",
    "for year in tqdm(reversed(years), desc=\"Years...\"):\n",
    "    h = np.array([num_diplomas[year], len_ids[year], len_ids[year] - len_skipped_only_no_view_ids[year], len_ids[year] - len_skipped_ids[year], df_rows[year], russian_df_rows[year], 0])\n",
    "    x = [f\"total_{year}\", f\"preview_{year}\", f\"view_{year}\", f\"doc_{year}\", f\"converted_doc_{year}\", f\"filtered_doc_{year}\", \" \" * (year % 10)]\n",
    "    colors = [\"green\", \"blue\", \"orange\", \"gray\", \"violet\", \"purple\", \"red\"]\n",
    "    h_all.extend(reversed(h))\n",
    "    x_all.extend(reversed(x))\n",
    "    colors_all.extend(reversed(colors))\n",
    "plt.figure(figsize=(20, 15))\n",
    "plt.barh(x_all, h_all, height=0.8, color=colors_all)\n",
    "plt.show()"
   ]
  },
  {
   "cell_type": "code",
   "execution_count": 54,
   "metadata": {},
   "outputs": [
    {
     "data": {
      "text/plain": [
       "14398"
      ]
     },
     "execution_count": 54,
     "metadata": {},
     "output_type": "execute_result"
    }
   ],
   "source": [
    "len(df)"
   ]
  },
  {
   "cell_type": "markdown",
   "metadata": {},
   "source": [
    "### Apply tokenizers"
   ]
  },
  {
   "cell_type": "code",
   "execution_count": 4,
   "metadata": {},
   "outputs": [
    {
     "data": {
      "text/plain": [
       "{'llama-2-7b': 'meta-llama/Llama-2-7b-hf',\n",
       " 'falcon-7b': 'tiiuae/falcon-7b',\n",
       " 'bloom': 'bigscience/bloom',\n",
       " 'flan-t5-xxl': 'google/flan-t5-xxl',\n",
       " 'fred-t5-1.7b': 'ai-forever/FRED-T5-1.7B',\n",
       " 'phi': 'microsoft/phi-2',\n",
       " 'dolly-v2-7b': 'databricks/dolly-v2-7b',\n",
       " 'DeciLM-7b': 'Deci/DeciLM-7B',\n",
       " 'saiga_mistral_7b_lora': 'IlyaGusev/saiga_mistral_7b_lora',\n",
       " 'vicuna-7b': 'lmsys/vicuna-7b-v1.5',\n",
       " 'vikhr-7b': 'Vikhrmodels/Vikhr-7b-0.1',\n",
       " 'ru-longformer-large-4096': 'kazzand/ru-longformer-large-4096',\n",
       " 'mistral-7b': 'mistralai/Mistral-7B-v0.1',\n",
       " 'mixtral-8x7b': 'mistralai/Mixtral-8x7B-v0.1',\n",
       " 'gemma-7b': 'google/gemma-7b',\n",
       " 'ruT5-large': 'ai-forever/ruT5-large',\n",
       " 'ruBert-large': 'ai-forever/ruBert-large',\n",
       " 'ruRoberta-large': 'ai-forever/ruRoberta-large',\n",
       " 'ruElectra-large': 'ai-forever/ruElectra-large',\n",
       " 'mt5-xxl': 'google/mt5-xxl',\n",
       " 'ru-e5-base': 'hivaze/ru-e5-base'}"
      ]
     },
     "execution_count": 4,
     "metadata": {},
     "output_type": "execute_result"
    }
   ],
   "source": [
    "model_to_repo = copy.deepcopy(HUGGINGFACE_MODEL_TO_REPO)\n",
    "model_to_repo.pop(YALM_100B)\n",
    "model_to_repo.pop(RUGPT3_XL)\n",
    "model_to_repo"
   ]
  },
  {
   "cell_type": "code",
   "execution_count": 5,
   "metadata": {},
   "outputs": [
    {
     "data": {
      "application/vnd.jupyter.widget-view+json": {
       "model_id": "a0b81586f34d44049a109896e070ac07",
       "version_major": 2,
       "version_minor": 0
      },
      "text/plain": [
       "Iterating through models:   0%|          | 0/21 [00:00<?, ?it/s]"
      ]
     },
     "metadata": {},
     "output_type": "display_data"
    },
    {
     "name": "stderr",
     "output_type": "stream",
     "text": [
      "/Users/nvdenisov2002/study/8-semester/diploma/.conda/lib/python3.11/site-packages/huggingface_hub/file_download.py:1132: FutureWarning: `resume_download` is deprecated and will be removed in version 1.0.0. Downloads always resume when possible. If you want to force a new download, use `force_download=True`.\n",
      "  warnings.warn(\n"
     ]
    },
    {
     "data": {
      "application/vnd.jupyter.widget-view+json": {
       "model_id": "1442424772d34a38964cfb29bb8393d5",
       "version_major": 2,
       "version_minor": 0
      },
      "text/plain": [
       "rows...:   0%|          | 0/10924 [00:00<?, ?it/s]"
      ]
     },
     "metadata": {},
     "output_type": "display_data"
    },
    {
     "data": {
      "application/vnd.jupyter.widget-view+json": {
       "model_id": "52ba0d9b81744c95905081a890d3c618",
       "version_major": 2,
       "version_minor": 0
      },
      "text/plain": [
       "rows...:   0%|          | 0/10924 [00:00<?, ?it/s]"
      ]
     },
     "metadata": {},
     "output_type": "display_data"
    },
    {
     "name": "stderr",
     "output_type": "stream",
     "text": [
      "Token indices sequence length is longer than the specified maximum sequence length for this model (171428 > 2048). Running this sequence through the model will result in indexing errors\n"
     ]
    },
    {
     "data": {
      "application/vnd.jupyter.widget-view+json": {
       "model_id": "f8627ddad8c74a74a270318010be7d6f",
       "version_major": 2,
       "version_minor": 0
      },
      "text/plain": [
       "rows...:   0%|          | 0/10924 [00:00<?, ?it/s]"
      ]
     },
     "metadata": {},
     "output_type": "display_data"
    },
    {
     "data": {
      "application/vnd.jupyter.widget-view+json": {
       "model_id": "c6fe3bb7d824488584b97df533e9da25",
       "version_major": 2,
       "version_minor": 0
      },
      "text/plain": [
       "rows...:   0%|          | 0/10924 [00:00<?, ?it/s]"
      ]
     },
     "metadata": {},
     "output_type": "display_data"
    },
    {
     "name": "stderr",
     "output_type": "stream",
     "text": [
      "Token indices sequence length is longer than the specified maximum sequence length for this model (146942 > 512). Running this sequence through the model will result in indexing errors\n",
      "Special tokens have been added in the vocabulary, make sure the associated word embeddings are fine-tuned or trained.\n",
      "Special tokens have been added in the vocabulary, make sure the associated word embeddings are fine-tuned or trained.\n"
     ]
    },
    {
     "data": {
      "application/vnd.jupyter.widget-view+json": {
       "model_id": "94bd471fcb984a5b97ba60ca5271ea77",
       "version_major": 2,
       "version_minor": 0
      },
      "text/plain": [
       "rows...:   0%|          | 0/10924 [00:00<?, ?it/s]"
      ]
     },
     "metadata": {},
     "output_type": "display_data"
    },
    {
     "name": "stderr",
     "output_type": "stream",
     "text": [
      "Special tokens have been added in the vocabulary, make sure the associated word embeddings are fine-tuned or trained.\n"
     ]
    },
    {
     "data": {
      "application/vnd.jupyter.widget-view+json": {
       "model_id": "2df6a07c71cb4073ba467eccf124237d",
       "version_major": 2,
       "version_minor": 0
      },
      "text/plain": [
       "rows...:   0%|          | 0/10924 [00:00<?, ?it/s]"
      ]
     },
     "metadata": {},
     "output_type": "display_data"
    },
    {
     "name": "stderr",
     "output_type": "stream",
     "text": [
      "Token indices sequence length is longer than the specified maximum sequence length for this model (186741 > 2048). Running this sequence through the model will result in indexing errors\n",
      "Special tokens have been added in the vocabulary, make sure the associated word embeddings are fine-tuned or trained.\n"
     ]
    },
    {
     "data": {
      "application/vnd.jupyter.widget-view+json": {
       "model_id": "6bd5537cf20d43308a136ad27c2371cc",
       "version_major": 2,
       "version_minor": 0
      },
      "text/plain": [
       "rows...:   0%|          | 0/10924 [00:00<?, ?it/s]"
      ]
     },
     "metadata": {},
     "output_type": "display_data"
    },
    {
     "data": {
      "application/vnd.jupyter.widget-view+json": {
       "model_id": "94f558a46adf4f469940b4481d108e45",
       "version_major": 2,
       "version_minor": 0
      },
      "text/plain": [
       "rows...:   0%|          | 0/10924 [00:00<?, ?it/s]"
      ]
     },
     "metadata": {},
     "output_type": "display_data"
    },
    {
     "name": "stderr",
     "output_type": "stream",
     "text": [
      "Special tokens have been added in the vocabulary, make sure the associated word embeddings are fine-tuned or trained.\n",
      "Special tokens have been added in the vocabulary, make sure the associated word embeddings are fine-tuned or trained.\n"
     ]
    },
    {
     "data": {
      "application/vnd.jupyter.widget-view+json": {
       "model_id": "a5fba6af2ce8465793e6f1e8638f5edb",
       "version_major": 2,
       "version_minor": 0
      },
      "text/plain": [
       "rows...:   0%|          | 0/10924 [00:00<?, ?it/s]"
      ]
     },
     "metadata": {},
     "output_type": "display_data"
    },
    {
     "name": "stderr",
     "output_type": "stream",
     "text": [
      "Token indices sequence length is longer than the specified maximum sequence length for this model (81428 > 32768). Running this sequence through the model will result in indexing errors\n"
     ]
    },
    {
     "data": {
      "application/vnd.jupyter.widget-view+json": {
       "model_id": "efcafde7c57e40588ab79d1144b107fe",
       "version_major": 2,
       "version_minor": 0
      },
      "text/plain": [
       "rows...:   0%|          | 0/10924 [00:00<?, ?it/s]"
      ]
     },
     "metadata": {},
     "output_type": "display_data"
    },
    {
     "name": "stderr",
     "output_type": "stream",
     "text": [
      "Token indices sequence length is longer than the specified maximum sequence length for this model (75472 > 4096). Running this sequence through the model will result in indexing errors\n"
     ]
    },
    {
     "data": {
      "application/vnd.jupyter.widget-view+json": {
       "model_id": "20660892fd8f47dc81718e04f639e90b",
       "version_major": 2,
       "version_minor": 0
      },
      "text/plain": [
       "rows...:   0%|          | 0/10924 [00:00<?, ?it/s]"
      ]
     },
     "metadata": {},
     "output_type": "display_data"
    },
    {
     "data": {
      "application/vnd.jupyter.widget-view+json": {
       "model_id": "680ab01f74aa4175b6a3d26cded4a42e",
       "version_major": 2,
       "version_minor": 0
      },
      "text/plain": [
       "rows...:   0%|          | 0/10924 [00:00<?, ?it/s]"
      ]
     },
     "metadata": {},
     "output_type": "display_data"
    },
    {
     "name": "stderr",
     "output_type": "stream",
     "text": [
      "Token indices sequence length is longer than the specified maximum sequence length for this model (64166 > 4096). Running this sequence through the model will result in indexing errors\n"
     ]
    },
    {
     "data": {
      "application/vnd.jupyter.widget-view+json": {
       "model_id": "dadf9997069f4707b387b342a4c19f3d",
       "version_major": 2,
       "version_minor": 0
      },
      "text/plain": [
       "rows...:   0%|          | 0/10924 [00:00<?, ?it/s]"
      ]
     },
     "metadata": {},
     "output_type": "display_data"
    },
    {
     "data": {
      "application/vnd.jupyter.widget-view+json": {
       "model_id": "6ac1ae9d85b3432cb4bfa990387a7960",
       "version_major": 2,
       "version_minor": 0
      },
      "text/plain": [
       "rows...:   0%|          | 0/10924 [00:00<?, ?it/s]"
      ]
     },
     "metadata": {},
     "output_type": "display_data"
    },
    {
     "data": {
      "application/vnd.jupyter.widget-view+json": {
       "model_id": "59cd7fec44504f4cb5686024ab0f64a7",
       "version_major": 2,
       "version_minor": 0
      },
      "text/plain": [
       "rows...:   0%|          | 0/10924 [00:00<?, ?it/s]"
      ]
     },
     "metadata": {},
     "output_type": "display_data"
    },
    {
     "name": "stderr",
     "output_type": "stream",
     "text": [
      "You are using the default legacy behaviour of the <class 'transformers.models.t5.tokenization_t5.T5Tokenizer'>. This is expected, and simply means that the `legacy` (previous) behavior will be used so nothing changes for you. If you want to use the new behaviour, set `legacy=False`. This should only be set if you understand what it means, and thoroughly read the reason why this was added as explained in https://github.com/huggingface/transformers/pull/24565\n",
      "Special tokens have been added in the vocabulary, make sure the associated word embeddings are fine-tuned or trained.\n"
     ]
    },
    {
     "data": {
      "application/vnd.jupyter.widget-view+json": {
       "model_id": "72bb8d8f6df245cc90cb805454ab1322",
       "version_major": 2,
       "version_minor": 0
      },
      "text/plain": [
       "rows...:   0%|          | 0/10924 [00:00<?, ?it/s]"
      ]
     },
     "metadata": {},
     "output_type": "display_data"
    },
    {
     "data": {
      "application/vnd.jupyter.widget-view+json": {
       "model_id": "7dd196fb29b349bc99a6914b5fd21186",
       "version_major": 2,
       "version_minor": 0
      },
      "text/plain": [
       "rows...:   0%|          | 0/10924 [00:00<?, ?it/s]"
      ]
     },
     "metadata": {},
     "output_type": "display_data"
    },
    {
     "data": {
      "application/vnd.jupyter.widget-view+json": {
       "model_id": "f7ed37ce83034c01a79fb3a4864e8a44",
       "version_major": 2,
       "version_minor": 0
      },
      "text/plain": [
       "rows...:   0%|          | 0/10924 [00:00<?, ?it/s]"
      ]
     },
     "metadata": {},
     "output_type": "display_data"
    },
    {
     "data": {
      "application/vnd.jupyter.widget-view+json": {
       "model_id": "c0dda6969bea4efd9573ec0c22c3a54d",
       "version_major": 2,
       "version_minor": 0
      },
      "text/plain": [
       "rows...:   0%|          | 0/10924 [00:00<?, ?it/s]"
      ]
     },
     "metadata": {},
     "output_type": "display_data"
    },
    {
     "name": "stderr",
     "output_type": "stream",
     "text": [
      "Token indices sequence length is longer than the specified maximum sequence length for this model (55125 > 512). Running this sequence through the model will result in indexing errors\n",
      "/Users/nvdenisov2002/study/8-semester/diploma/.conda/lib/python3.11/site-packages/transformers/convert_slow_tokenizer.py:550: UserWarning: The sentencepiece tokenizer that you are converting to a fast tokenizer uses the byte fallback option which is not implemented in the fast tokenizers. In practice this means that the fast version of the tokenizer can produce unknown tokens whereas the sentencepiece version would have converted these unknown tokens into a sequence of byte tokens matching the original piece of text.\n",
      "  warnings.warn(\n"
     ]
    },
    {
     "data": {
      "application/vnd.jupyter.widget-view+json": {
       "model_id": "8cc9ab727d9144afb3f8a0840df1af51",
       "version_major": 2,
       "version_minor": 0
      },
      "text/plain": [
       "rows...:   0%|          | 0/10924 [00:00<?, ?it/s]"
      ]
     },
     "metadata": {},
     "output_type": "display_data"
    }
   ],
   "source": [
    "debug=True\n",
    "output_dir_path = ARTIFACTS_DIR_PATH.joinpath(\"tokens/full_russian_diplomas_stupid_filter/\")\n",
    "output_dir_path.mkdir(exist_ok=True, parents=True)\n",
    "output_dir_path_abstract = ARTIFACTS_DIR_PATH.joinpath(\"tokens/full_russian_diplomas_stupid_filter_abstract/\")\n",
    "output_dir_path_abstract.mkdir(exist_ok=True, parents=True)\n",
    "failed = []\n",
    "for model, repo in tqdm(model_to_repo.items(), desc=\"Iterating through models\"):\n",
    "    try:\n",
    "        tokenizer = get_tokenizer(model, repo)\n",
    "        id_to_tokens = dict()\n",
    "        id_to_tokens_abstract = dict()\n",
    "        for _, row in tqdm(russian_df.iterrows(), total=len(russian_df), desc=\"rows...\"):\n",
    "            id_to_tokens[row[\"id\"]] = get_num_tokens(tokenizer, row[\"diploma\"])\n",
    "            id_to_tokens_abstract[row[\"id\"]] = get_num_tokens(tokenizer, row[\"abstract\"])\n",
    "        with open(output_dir_path.joinpath(f\"{model}.json\"), \"w\") as f:\n",
    "            json.dump(id_to_tokens, f, indent=2, ensure_ascii=False)\n",
    "        with open(output_dir_path_abstract.joinpath(f\"{model}.json\"), \"w\") as f:\n",
    "            json.dump(id_to_tokens_abstract, f, indent=2, ensure_ascii=False)\n",
    "    except Exception as e:\n",
    "        if debug:\n",
    "            print(f\"failed {model} with exception {e}\")\n",
    "        failed.append(model)\n",
    "if failed:\n",
    "    print(f\"Failed: {failed}.\\nCheck that you logged in to hugginface and have permissions for those models.\")\n",
    "else:\n",
    "    print(\"All ok\")"
   ]
  },
  {
   "cell_type": "code",
   "execution_count": null,
   "metadata": {},
   "outputs": [],
   "source": [
    "plot_tokens_distributions(output_dir_path, vlines_blue=[])"
   ]
  },
  {
   "cell_type": "code",
   "execution_count": null,
   "metadata": {},
   "outputs": [],
   "source": [
    "plot_tokens_distributions(output_dir_path_abstract, vlines_blue=[], vlines_red=[])"
   ]
  },
  {
   "cell_type": "code",
   "execution_count": null,
   "metadata": {},
   "outputs": [],
   "source": []
  }
 ],
 "metadata": {
  "kernelspec": {
   "display_name": "Python 3",
   "language": "python",
   "name": "python3"
  },
  "language_info": {
   "codemirror_mode": {
    "name": "ipython",
    "version": 3
   },
   "file_extension": ".py",
   "mimetype": "text/x-python",
   "name": "python",
   "nbconvert_exporter": "python",
   "pygments_lexer": "ipython3",
   "version": "3.11.9"
  }
 },
 "nbformat": 4,
 "nbformat_minor": 2
}
