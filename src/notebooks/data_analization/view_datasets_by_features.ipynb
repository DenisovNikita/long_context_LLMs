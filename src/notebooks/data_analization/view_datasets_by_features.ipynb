{
 "cells": [
  {
   "cell_type": "markdown",
   "metadata": {},
   "source": [
    "### Imports & Definitions"
   ]
  },
  {
   "cell_type": "code",
   "execution_count": 2,
   "metadata": {},
   "outputs": [],
   "source": [
    "import sys\n",
    "sys.path.append(\"../../utils\")\n",
    "from definitions import *"
   ]
  },
  {
   "cell_type": "code",
   "execution_count": 10,
   "metadata": {},
   "outputs": [],
   "source": [
    "DATASETS_DIR_PATH = ARTIFACTS_DIR_PATH.joinpath(\"parsing/diplomas/spbu/\")\n",
    "RUSSIAN_DATASET_PATH = DATASETS_DIR_PATH.joinpath(\"russian_dataset.csv\")\n",
    "MCS = 'MATHEMATICS AND COMPUTER SCIENCE'"
   ]
  },
  {
   "cell_type": "markdown",
   "metadata": {},
   "source": [
    "### View russian dataset by study_field"
   ]
  },
  {
   "cell_type": "code",
   "execution_count": 4,
   "metadata": {},
   "outputs": [],
   "source": [
    "russian_df = pd.read_csv(RUSSIAN_DATASET_PATH)"
   ]
  },
  {
   "cell_type": "code",
   "execution_count": 5,
   "metadata": {},
   "outputs": [
    {
     "data": {
      "text/plain": [
       "{'ARTS',\n",
       " 'ASIAN AND AFRICAN STUDIES',\n",
       " 'BIOLOGY',\n",
       " 'CHEMISTRY',\n",
       " 'CONTROL PROCESSES',\n",
       " 'DENTAL MEDICINE AND MEDICAL TECHNOLOGIES',\n",
       " 'EARTH SCIENCES',\n",
       " 'ECONOMICS',\n",
       " 'GEOGRAPHY AND GEOECOLOGY',\n",
       " 'GEOLOGY',\n",
       " 'HISTORY',\n",
       " 'INTERNATIONAL RELATIONS',\n",
       " 'JOURNALISM AND MASS COMMUNICATIONS',\n",
       " 'LAW',\n",
       " 'LIBERAL ARTS AND SCIENCES',\n",
       " 'MANAGEMENT',\n",
       " 'MATHEMATICS AND COMPUTER SCIENCE',\n",
       " 'MATHEMATICS AND MECHANICS',\n",
       " 'MEDICINE',\n",
       " 'PHILOLOGY',\n",
       " 'PHILOSOPHY',\n",
       " 'PHYSICS',\n",
       " 'POLITICAL SCIENCE',\n",
       " 'PSYCHOLOGY',\n",
       " 'SOCIOLOGY'}"
      ]
     },
     "execution_count": 5,
     "metadata": {},
     "output_type": "execute_result"
    }
   ],
   "source": [
    "study_fields = set(russian_df[\"study_field\"].tolist())\n",
    "study_fields"
   ]
  },
  {
   "cell_type": "code",
   "execution_count": 11,
   "metadata": {},
   "outputs": [
    {
     "data": {
      "text/html": [
       "<div>\n",
       "<style scoped>\n",
       "    .dataframe tbody tr th:only-of-type {\n",
       "        vertical-align: middle;\n",
       "    }\n",
       "\n",
       "    .dataframe tbody tr th {\n",
       "        vertical-align: top;\n",
       "    }\n",
       "\n",
       "    .dataframe thead th {\n",
       "        text-align: right;\n",
       "    }\n",
       "</style>\n",
       "<table border=\"1\" class=\"dataframe\">\n",
       "  <thead>\n",
       "    <tr style=\"text-align: right;\">\n",
       "      <th></th>\n",
       "      <th>id</th>\n",
       "      <th>year</th>\n",
       "      <th>diploma</th>\n",
       "      <th>abstract</th>\n",
       "      <th>study_field</th>\n",
       "      <th>degree</th>\n",
       "      <th>original_diploma_extension</th>\n",
       "    </tr>\n",
       "  </thead>\n",
       "  <tbody>\n",
       "    <tr>\n",
       "      <th>12</th>\n",
       "      <td>45042</td>\n",
       "      <td>2023</td>\n",
       "      <td>АЙВАЗЬЯН Аршак Владимирович\\nВыпускная квалифи...</td>\n",
       "      <td>В этой работе мы строим правую трансферную мод...</td>\n",
       "      <td>MATHEMATICS AND COMPUTER SCIENCE</td>\n",
       "      <td>BACHELOR STUDIES</td>\n",
       "      <td>.pdf</td>\n",
       "    </tr>\n",
       "    <tr>\n",
       "      <th>25</th>\n",
       "      <td>45043</td>\n",
       "      <td>2023</td>\n",
       "      <td>Санкт-Петербургский государственный университе...</td>\n",
       "      <td>Пусть 𝐾 выпуклое тело в ℝ^𝑛. Определим 𝑑𝑛,𝑛−1(...</td>\n",
       "      <td>MATHEMATICS AND COMPUTER SCIENCE</td>\n",
       "      <td>BACHELOR STUDIES</td>\n",
       "      <td>.pdf</td>\n",
       "    </tr>\n",
       "    <tr>\n",
       "      <th>37</th>\n",
       "      <td>45044</td>\n",
       "      <td>2023</td>\n",
       "      <td>Санкт-Петербургский государственный университе...</td>\n",
       "      <td>Работа посвящена повышению производительности ...</td>\n",
       "      <td>MATHEMATICS AND COMPUTER SCIENCE</td>\n",
       "      <td>BACHELOR STUDIES</td>\n",
       "      <td>.pdf</td>\n",
       "    </tr>\n",
       "    <tr>\n",
       "      <th>101</th>\n",
       "      <td>45046</td>\n",
       "      <td>2023</td>\n",
       "      <td>Санкт-Петербургский государственный университе...</td>\n",
       "      <td>В работе мы обобщаем результаты об энергии нат...</td>\n",
       "      <td>MATHEMATICS AND COMPUTER SCIENCE</td>\n",
       "      <td>BACHELOR STUDIES</td>\n",
       "      <td>.pdf</td>\n",
       "    </tr>\n",
       "    <tr>\n",
       "      <th>152</th>\n",
       "      <td>45047</td>\n",
       "      <td>2023</td>\n",
       "      <td>Санкт–Петербургский государственный университе...</td>\n",
       "      <td>В рамках данной работы рассматривается подход ...</td>\n",
       "      <td>MATHEMATICS AND COMPUTER SCIENCE</td>\n",
       "      <td>BACHELOR STUDIES</td>\n",
       "      <td>.pdf</td>\n",
       "    </tr>\n",
       "  </tbody>\n",
       "</table>\n",
       "</div>"
      ],
      "text/plain": [
       "        id  year                                            diploma  \\\n",
       "12   45042  2023  АЙВАЗЬЯН Аршак Владимирович\\nВыпускная квалифи...   \n",
       "25   45043  2023  Санкт-Петербургский государственный университе...   \n",
       "37   45044  2023  Санкт-Петербургский государственный университе...   \n",
       "101  45046  2023  Санкт-Петербургский государственный университе...   \n",
       "152  45047  2023  Санкт–Петербургский государственный университе...   \n",
       "\n",
       "                                              abstract  \\\n",
       "12   В этой работе мы строим правую трансферную мод...   \n",
       "25   Пусть 𝐾 выпуклое тело в ℝ^𝑛. Определим 𝑑𝑛,𝑛−1(...   \n",
       "37   Работа посвящена повышению производительности ...   \n",
       "101  В работе мы обобщаем результаты об энергии нат...   \n",
       "152  В рамках данной работы рассматривается подход ...   \n",
       "\n",
       "                          study_field            degree  \\\n",
       "12   MATHEMATICS AND COMPUTER SCIENCE  BACHELOR STUDIES   \n",
       "25   MATHEMATICS AND COMPUTER SCIENCE  BACHELOR STUDIES   \n",
       "37   MATHEMATICS AND COMPUTER SCIENCE  BACHELOR STUDIES   \n",
       "101  MATHEMATICS AND COMPUTER SCIENCE  BACHELOR STUDIES   \n",
       "152  MATHEMATICS AND COMPUTER SCIENCE  BACHELOR STUDIES   \n",
       "\n",
       "    original_diploma_extension  \n",
       "12                        .pdf  \n",
       "25                        .pdf  \n",
       "37                        .pdf  \n",
       "101                       .pdf  \n",
       "152                       .pdf  "
      ]
     },
     "execution_count": 11,
     "metadata": {},
     "output_type": "execute_result"
    }
   ],
   "source": [
    "math_and_computer_science_russian_df = russian_df[russian_df[\"study_field\"] == MCS]\n",
    "math_and_computer_science_russian_df.to_csv(DATASETS_DIR_PATH.joinpath(\"math_and_computer_science_russian_dataset.csv\"), index=False)\n",
    "math_and_computer_science_russian_df.head()"
   ]
  },
  {
   "cell_type": "code",
   "execution_count": 6,
   "metadata": {},
   "outputs": [
    {
     "data": {
      "text/plain": [
       "{'BACHELOR STUDIES',\n",
       " 'DOCTORAL STUDIES',\n",
       " 'MAIN FIELD OF STUDY',\n",
       " \"MASTER'S STUDIES\"}"
      ]
     },
     "execution_count": 6,
     "metadata": {},
     "output_type": "execute_result"
    }
   ],
   "source": [
    "degrees = set(russian_df[\"degree\"].tolist())\n",
    "degrees"
   ]
  },
  {
   "cell_type": "code",
   "execution_count": null,
   "metadata": {},
   "outputs": [],
   "source": []
  }
 ],
 "metadata": {
  "kernelspec": {
   "display_name": "Python 3",
   "language": "python",
   "name": "python3"
  },
  "language_info": {
   "codemirror_mode": {
    "name": "ipython",
    "version": 3
   },
   "file_extension": ".py",
   "mimetype": "text/x-python",
   "name": "python",
   "nbconvert_exporter": "python",
   "pygments_lexer": "ipython3",
   "version": "3.11.9"
  }
 },
 "nbformat": 4,
 "nbformat_minor": 2
}
