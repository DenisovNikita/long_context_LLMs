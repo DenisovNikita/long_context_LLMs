{
 "cells": [
  {
   "cell_type": "markdown",
   "metadata": {
    "jp-MarkdownHeadingCollapsed": true,
    "tags": []
   },
   "source": [
    "## Imports & Definitions"
   ]
  },
  {
   "cell_type": "code",
   "execution_count": 1,
   "metadata": {
    "execution": {
     "iopub.execute_input": "2024-05-08T19:20:03.617825Z",
     "iopub.status.busy": "2024-05-08T19:20:03.617320Z",
     "iopub.status.idle": "2024-05-08T19:20:03.633825Z",
     "shell.execute_reply": "2024-05-08T19:20:03.633144Z",
     "shell.execute_reply.started": "2024-05-08T19:20:03.617802Z"
    },
    "tags": []
   },
   "outputs": [],
   "source": [
    "import warnings\n",
    "\n",
    "warnings.filterwarnings(\n",
    "    \"ignore\",\n",
    "    message=\"torch.utils._pytree._register_pytree_node is deprecated. Please use torch.utils._pytree.register_pytree_node instead.\",\n",
    ")\n",
    "\n",
    "warnings.filterwarnings(\n",
    "    \"ignore\",\n",
    "    message=\"torch.utils.checkpoint: the use_reentrant parameter should be passed explicitly. In version 2.4 we will raise an exception if use_reentrant is not passed. use_reentrant=False is recommended, but if you need to preserve the current default behavior, you can pass use_reentrant=True. Refer to docs for more details on the differences between the two variants.\",\n",
    ")\n"
   ]
  },
  {
   "cell_type": "code",
   "execution_count": 2,
   "metadata": {
    "execution": {
     "iopub.execute_input": "2024-05-08T19:20:04.240710Z",
     "iopub.status.busy": "2024-05-08T19:20:04.240206Z",
     "iopub.status.idle": "2024-05-08T19:20:04.394822Z",
     "shell.execute_reply": "2024-05-08T19:20:04.394266Z",
     "shell.execute_reply.started": "2024-05-08T19:20:04.240692Z"
    },
    "tags": []
   },
   "outputs": [
    {
     "data": {
      "application/vnd.jupyter.widget-view+json": {
       "model_id": "57bd6a9bc5a24292ab9d3ab133f57c1e",
       "version_major": 2,
       "version_minor": 0
      },
      "text/plain": [
       "VBox(children=(HTML(value='<center> <img\\nsrc=https://huggingface.co/front/assets/huggingface_logo-noborder.sv…"
      ]
     },
     "metadata": {},
     "output_type": "display_data"
    }
   ],
   "source": [
    "from huggingface_hub import notebook_login\n",
    "notebook_login()"
   ]
  },
  {
   "cell_type": "code",
   "execution_count": 3,
   "metadata": {
    "execution": {
     "iopub.execute_input": "2024-05-08T19:20:12.043925Z",
     "iopub.status.busy": "2024-05-08T19:20:12.043384Z",
     "iopub.status.idle": "2024-05-08T19:23:29.775426Z",
     "shell.execute_reply": "2024-05-08T19:23:29.774637Z",
     "shell.execute_reply.started": "2024-05-08T19:20:12.043903Z"
    },
    "tags": []
   },
   "outputs": [],
   "source": [
    "import sys\n",
    "sys.path.append(\"../../utils\")\n",
    "from definitions import *"
   ]
  },
  {
   "cell_type": "code",
   "execution_count": 13,
   "metadata": {
    "execution": {
     "iopub.execute_input": "2024-05-08T17:30:52.085441Z",
     "iopub.status.busy": "2024-05-08T17:30:52.085160Z",
     "iopub.status.idle": "2024-05-08T17:30:52.099110Z",
     "shell.execute_reply": "2024-05-08T17:30:52.098625Z",
     "shell.execute_reply.started": "2024-05-08T17:30:52.085424Z"
    },
    "tags": []
   },
   "outputs": [
    {
     "name": "stdout",
     "output_type": "stream",
     "text": [
      "LongLoRA-diploma-research\n",
      "OpenBookQA\n",
      "YandexGPT-api-call_ru.ipynb\n",
      "cache\n",
      "dataflow_en.ipynb\n",
      "gpt-week\n",
      "long_context_LLMs\n",
      "modelcache\n",
      "nlp_course\n",
      "venv\n",
      "view_machine.ipynb\n",
      "wandb\n",
      "wandb_try.ipynb\n"
     ]
    }
   ],
   "source": [
    "! ls ../../../../"
   ]
  },
  {
   "cell_type": "code",
   "execution_count": 4,
   "metadata": {
    "execution": {
     "iopub.execute_input": "2024-05-08T19:23:29.777028Z",
     "iopub.status.busy": "2024-05-08T19:23:29.776487Z",
     "iopub.status.idle": "2024-05-08T19:23:29.785065Z",
     "shell.execute_reply": "2024-05-08T19:23:29.784396Z",
     "shell.execute_reply.started": "2024-05-08T19:23:29.777006Z"
    },
    "tags": []
   },
   "outputs": [],
   "source": [
    "CACHE_DIR = Path(\"../../../../cache/\")\n",
    "DATASET_DIR = Path(\"/home/jupyter/mnt/datasets/diplomas/russian_dataset/\")"
   ]
  },
  {
   "cell_type": "markdown",
   "metadata": {
    "tags": []
   },
   "source": [
    "## Example of Fine-Tuning"
   ]
  },
  {
   "cell_type": "markdown",
   "metadata": {
    "jp-MarkdownHeadingCollapsed": true,
    "tags": []
   },
   "source": [
    "### Helper imports & definitions"
   ]
  },
  {
   "cell_type": "code",
   "execution_count": 5,
   "metadata": {
    "execution": {
     "iopub.execute_input": "2024-05-08T19:23:29.786390Z",
     "iopub.status.busy": "2024-05-08T19:23:29.786125Z",
     "iopub.status.idle": "2024-05-08T19:23:31.842651Z",
     "shell.execute_reply": "2024-05-08T19:23:31.841880Z",
     "shell.execute_reply.started": "2024-05-08T19:23:29.786373Z"
    },
    "tags": []
   },
   "outputs": [
    {
     "name": "stderr",
     "output_type": "stream",
     "text": [
      "2024-05-08 19:23:30.816489: W tensorflow/compiler/tf2tensorrt/utils/py_utils.cc:38] TF-TRT Warning: Could not find TensorRT\n"
     ]
    }
   ],
   "source": [
    "from datasets import load_dataset, DatasetDict, Dataset\n",
    "\n",
    "from transformers import (\n",
    "    AutoTokenizer,\n",
    "    AutoConfig, \n",
    "    AutoModelForSequenceClassification,\n",
    "    DataCollatorWithPadding,\n",
    "    TrainingArguments,\n",
    "    Trainer)\n",
    "\n",
    "from peft import PeftModel, PeftConfig, get_peft_model, LoraConfig\n",
    "import evaluate\n",
    "import torch\n",
    "import numpy as np"
   ]
  },
  {
   "cell_type": "code",
   "execution_count": 6,
   "metadata": {
    "execution": {
     "iopub.execute_input": "2024-05-08T19:23:31.844447Z",
     "iopub.status.busy": "2024-05-08T19:23:31.843836Z",
     "iopub.status.idle": "2024-05-08T19:23:31.857600Z",
     "shell.execute_reply": "2024-05-08T19:23:31.856818Z",
     "shell.execute_reply.started": "2024-05-08T19:23:31.844425Z"
    },
    "tags": []
   },
   "outputs": [],
   "source": [
    "PROMPT_DICT = {\n",
    "    \"prompt_input\": (\n",
    "        \"Below is an instruction that describes a task, paired with an input that provides further context. \"\n",
    "        \"Write a response that appropriately completes the request.\\n\\n\"\n",
    "        \"### Instruction:\\n{instruction}\\n\\n### Input:\\n{input}\\n\\n### Response:\"\n",
    "    ),\n",
    "    \"prompt_no_input\": (\n",
    "        \"Below is an instruction that describes a task. \"\n",
    "        \"Write a response that appropriately completes the request.\\n\\n\"\n",
    "        \"### Instruction:\\n{instruction}\\n\\n### Response:\"\n",
    "    ),\n",
    "    \"prompt_no_input_llama2\":(\n",
    "        \"[INST] <<SYS>>\\n\"\n",
    "        \"You are a helpful, respectful and honest assistant. Always answer as helpfully as possible, while being safe.  Your answers should not include any harmful, unethical, racist, sexist, toxic, dangerous, or illegal content. Please ensure that your responses are socially unbiased and positive in nature.\\n\\n\"\n",
    "        \"If a question does not make any sense, or is not factually coherent, explain why instead of answering something not correct. If you don't know the answer to a question, please don't share false information.\\n\"\n",
    "        \"<</SYS>> \\n\\n {instruction} [/INST]\"\n",
    "    ),\n",
    "    \"prompt_input_llama2\": (\n",
    "        \"[INST] <<SYS>>\\n\"\n",
    "        \"You are a helpful, respectful and honest assistant. Always answer as helpfully as possible, while being safe.  Your answers should not include any harmful, unethical, racist, sexist, toxic, dangerous, or illegal content. Please ensure that your responses are socially unbiased and positive in nature.\\n\\n\"\n",
    "        \"If a question does not make any sense, or is not factually coherent, explain why instead of answering something not correct. If you don't know the answer to a question, please don't share false information.\\n\"\n",
    "        \"<</SYS>> \\n\\n {instruction} \\n{input} [/INST]\"\n",
    "    ),\n",
    "    \"prompt_llama2\": \"[INST]{instruction}[/INST]\",\n",
    "    \"prompt_input_diploma_special\":(\n",
    "        \"Below is an instruction that describes a task, paired with an input that provides further context. \"\n",
    "        \"Write a response that appropriately completes the request.\\n\\n\"\n",
    "        \"### Instruction:\\nBelow is a diploma text. Your task is to generate abstract of this diploma.\\n\\n### Input:\\n{input}\\n\\n### Response:\"\n",
    "    ),\n",
    "}"
   ]
  },
  {
   "cell_type": "code",
   "execution_count": 7,
   "metadata": {
    "execution": {
     "iopub.execute_input": "2024-05-08T19:23:31.858742Z",
     "iopub.status.busy": "2024-05-08T19:23:31.858378Z",
     "iopub.status.idle": "2024-05-08T19:23:31.868994Z",
     "shell.execute_reply": "2024-05-08T19:23:31.868342Z",
     "shell.execute_reply.started": "2024-05-08T19:23:31.858722Z"
    },
    "tags": []
   },
   "outputs": [],
   "source": [
    "from typing import Dict, Optional, Sequence\n",
    "\n",
    "def _tokenize_fn(strings: Sequence[str], tokenizer: transformers.PreTrainedTokenizer) -> Dict:\n",
    "    \"\"\"Tokenize a list of strings.\"\"\"\n",
    "    tokenized_list = [\n",
    "        tokenizer(\n",
    "            text,\n",
    "            return_tensors=\"pt\",\n",
    "            padding=\"longest\",\n",
    "            max_length=tokenizer.model_max_length,\n",
    "            truncation=True,\n",
    "        )\n",
    "        for text in strings\n",
    "    ]\n",
    "    input_ids = labels = [tokenized.input_ids[0] for tokenized in tokenized_list]\n",
    "    input_ids_lens = labels_lens = [\n",
    "        tokenized.input_ids.ne(tokenizer.pad_token_id).sum().item() for tokenized in tokenized_list\n",
    "    ]\n",
    "    return dict(\n",
    "        input_ids=input_ids,\n",
    "        labels=labels,\n",
    "        input_ids_lens=input_ids_lens,\n",
    "        labels_lens=labels_lens,\n",
    "    )\n",
    "\n",
    "\n",
    "def preprocess(\n",
    "    sources: Sequence[str],\n",
    "    targets: Sequence[str],\n",
    "    tokenizer: transformers.PreTrainedTokenizer,\n",
    ") -> Dict:\n",
    "    \"\"\"Preprocess the data by tokenizing.\"\"\"\n",
    "    examples = [s + t for s, t in zip(sources, targets)]\n",
    "    examples_tokenized, sources_tokenized = [_tokenize_fn(strings, tokenizer) for strings in (examples, sources)]\n",
    "    input_ids = examples_tokenized[\"input_ids\"]\n",
    "    labels = copy.deepcopy(input_ids)\n",
    "    for label, source_len in zip(labels, sources_tokenized[\"input_ids_lens\"]):\n",
    "        label[:source_len] = IGNORE_INDEX\n",
    "    return dict(input_ids=input_ids, labels=labels)"
   ]
  },
  {
   "cell_type": "code",
   "execution_count": 8,
   "metadata": {
    "execution": {
     "iopub.execute_input": "2024-05-08T19:23:31.869943Z",
     "iopub.status.busy": "2024-05-08T19:23:31.869629Z",
     "iopub.status.idle": "2024-05-08T19:23:31.879344Z",
     "shell.execute_reply": "2024-05-08T19:23:31.878729Z",
     "shell.execute_reply.started": "2024-05-08T19:23:31.869926Z"
    },
    "tags": []
   },
   "outputs": [],
   "source": [
    "from torch.utils.data import Dataset\n",
    "import logging\n",
    "\n",
    "class SupervisedDataset(Dataset):\n",
    "    \"\"\"Dataset for supervised fine-tuning.\"\"\"\n",
    "\n",
    "    def __init__(self, data_path: str, tokenizer: transformers.PreTrainedTokenizer, nrows: int, diploma_prefix_len: int):\n",
    "        super(SupervisedDataset, self).__init__()\n",
    "        logging.warning(\"Loading data...\")\n",
    "        data_table = pd.read_csv(data_path, nrows=nrows)\n",
    "\n",
    "        logging.warning(\"Formatting inputs...\")\n",
    "\n",
    "        prompt_input_diploma = PROMPT_DICT[\"prompt_input_diploma_special\"]\n",
    "        sources = [\n",
    "            prompt_input_diploma.format(input=diploma[:diploma_prefix_len])\n",
    "            for diploma in data_table[\"diploma\"]\n",
    "        ]\n",
    "\n",
    "        targets = [f\"{abstract}{tokenizer.eos_token}\" for abstract in data_table[\"abstract\"]]\n",
    "\n",
    "        logging.warning(\"Tokenizing inputs... This may take some time...\")\n",
    "        data_dict = preprocess(sources, targets, tokenizer)\n",
    "\n",
    "        self.input_ids = data_dict[\"input_ids\"]\n",
    "        self.labels = data_dict[\"labels\"]\n",
    "\n",
    "    def __len__(self):\n",
    "        return len(self.input_ids)\n",
    "\n",
    "    def __getitem__(self, i) -> Dict[str, torch.Tensor]:\n",
    "        return dict(input_ids=self.input_ids[i], labels=self.labels[i])"
   ]
  },
  {
   "cell_type": "markdown",
   "metadata": {
    "jp-MarkdownHeadingCollapsed": true,
    "tags": []
   },
   "source": [
    "### Downloading model & tokenizer"
   ]
  },
  {
   "cell_type": "code",
   "execution_count": 9,
   "metadata": {
    "execution": {
     "iopub.execute_input": "2024-05-08T19:23:31.880223Z",
     "iopub.status.busy": "2024-05-08T19:23:31.879980Z",
     "iopub.status.idle": "2024-05-08T19:23:31.892896Z",
     "shell.execute_reply": "2024-05-08T19:23:31.892310Z",
     "shell.execute_reply.started": "2024-05-08T19:23:31.880206Z"
    },
    "tags": []
   },
   "outputs": [],
   "source": [
    "model_name = LLAMA_2_7B"
   ]
  },
  {
   "cell_type": "code",
   "execution_count": 10,
   "metadata": {
    "execution": {
     "iopub.execute_input": "2024-05-08T19:23:31.894907Z",
     "iopub.status.busy": "2024-05-08T19:23:31.894648Z",
     "iopub.status.idle": "2024-05-08T19:23:38.279800Z",
     "shell.execute_reply": "2024-05-08T19:23:38.278976Z",
     "shell.execute_reply.started": "2024-05-08T19:23:31.894890Z"
    },
    "tags": []
   },
   "outputs": [
    {
     "name": "stderr",
     "output_type": "stream",
     "text": [
      "Loading checkpoint shards: 100%|██████████| 2/2 [00:05<00:00,  2.67s/it]\n"
     ]
    }
   ],
   "source": [
    "model = AutoModelForCausalLM.from_pretrained(HUGGINGFACE_MODEL_TO_REPO[model_name], cache_dir=CACHE_DIR, device_map='auto')"
   ]
  },
  {
   "cell_type": "code",
   "execution_count": 11,
   "metadata": {
    "execution": {
     "iopub.execute_input": "2024-05-08T19:23:38.281878Z",
     "iopub.status.busy": "2024-05-08T19:23:38.281486Z",
     "iopub.status.idle": "2024-05-08T19:23:38.290032Z",
     "shell.execute_reply": "2024-05-08T19:23:38.289296Z",
     "shell.execute_reply.started": "2024-05-08T19:23:38.281850Z"
    },
    "tags": []
   },
   "outputs": [],
   "source": [
    "device = 'cuda' if torch.cuda.is_available() else 'cpu'"
   ]
  },
  {
   "cell_type": "code",
   "execution_count": 12,
   "metadata": {
    "execution": {
     "iopub.execute_input": "2024-05-08T19:23:38.291005Z",
     "iopub.status.busy": "2024-05-08T19:23:38.290724Z",
     "iopub.status.idle": "2024-05-08T19:23:38.305520Z",
     "shell.execute_reply": "2024-05-08T19:23:38.304931Z",
     "shell.execute_reply.started": "2024-05-08T19:23:38.290987Z"
    },
    "tags": []
   },
   "outputs": [
    {
     "data": {
      "text/plain": [
       "LlamaForCausalLM(\n",
       "  (model): LlamaModel(\n",
       "    (embed_tokens): Embedding(32000, 4096)\n",
       "    (layers): ModuleList(\n",
       "      (0-31): 32 x LlamaDecoderLayer(\n",
       "        (self_attn): LlamaAttention(\n",
       "          (q_proj): Linear(in_features=4096, out_features=4096, bias=False)\n",
       "          (k_proj): Linear(in_features=4096, out_features=4096, bias=False)\n",
       "          (v_proj): Linear(in_features=4096, out_features=4096, bias=False)\n",
       "          (o_proj): Linear(in_features=4096, out_features=4096, bias=False)\n",
       "          (rotary_emb): LlamaRotaryEmbedding()\n",
       "        )\n",
       "        (mlp): LlamaMLP(\n",
       "          (gate_proj): Linear(in_features=4096, out_features=11008, bias=False)\n",
       "          (up_proj): Linear(in_features=4096, out_features=11008, bias=False)\n",
       "          (down_proj): Linear(in_features=11008, out_features=4096, bias=False)\n",
       "          (act_fn): SiLUActivation()\n",
       "        )\n",
       "        (input_layernorm): LlamaRMSNorm()\n",
       "        (post_attention_layernorm): LlamaRMSNorm()\n",
       "      )\n",
       "    )\n",
       "    (norm): LlamaRMSNorm()\n",
       "  )\n",
       "  (lm_head): Linear(in_features=4096, out_features=32000, bias=False)\n",
       ")"
      ]
     },
     "execution_count": 12,
     "metadata": {},
     "output_type": "execute_result"
    }
   ],
   "source": [
    "model.to(device)"
   ]
  },
  {
   "cell_type": "code",
   "execution_count": 13,
   "metadata": {
    "execution": {
     "iopub.execute_input": "2024-05-08T19:23:38.306530Z",
     "iopub.status.busy": "2024-05-08T19:23:38.306252Z",
     "iopub.status.idle": "2024-05-08T19:23:38.321466Z",
     "shell.execute_reply": "2024-05-08T19:23:38.320872Z",
     "shell.execute_reply.started": "2024-05-08T19:23:38.306511Z"
    },
    "tags": []
   },
   "outputs": [],
   "source": [
    "MODEL_MAX_LENGTH = 16384"
   ]
  },
  {
   "cell_type": "code",
   "execution_count": 14,
   "metadata": {
    "execution": {
     "iopub.execute_input": "2024-05-08T19:23:38.322368Z",
     "iopub.status.busy": "2024-05-08T19:23:38.322118Z",
     "iopub.status.idle": "2024-05-08T19:23:38.771875Z",
     "shell.execute_reply": "2024-05-08T19:23:38.771066Z",
     "shell.execute_reply.started": "2024-05-08T19:23:38.322350Z"
    },
    "tags": []
   },
   "outputs": [],
   "source": [
    "tokenizer = AutoTokenizer.from_pretrained(\n",
    "    HUGGINGFACE_MODEL_TO_REPO[model_name], \n",
    "    cache_dir=CACHE_DIR, \n",
    "    model_max_length=MODEL_MAX_LENGTH,\n",
    "    padding_side=\"right\",\n",
    "    use_fast=True)"
   ]
  },
  {
   "cell_type": "code",
   "execution_count": 15,
   "metadata": {
    "execution": {
     "iopub.execute_input": "2024-05-08T19:23:38.773037Z",
     "iopub.status.busy": "2024-05-08T19:23:38.772726Z",
     "iopub.status.idle": "2024-05-08T19:23:38.782220Z",
     "shell.execute_reply": "2024-05-08T19:23:38.781585Z",
     "shell.execute_reply.started": "2024-05-08T19:23:38.773010Z"
    },
    "tags": []
   },
   "outputs": [
    {
     "data": {
      "text/plain": [
       "16384"
      ]
     },
     "execution_count": 15,
     "metadata": {},
     "output_type": "execute_result"
    }
   ],
   "source": [
    "tokenizer.model_max_length"
   ]
  },
  {
   "cell_type": "markdown",
   "metadata": {
    "jp-MarkdownHeadingCollapsed": true,
    "tags": []
   },
   "source": [
    "### Add new tokens"
   ]
  },
  {
   "cell_type": "code",
   "execution_count": 16,
   "metadata": {
    "execution": {
     "iopub.execute_input": "2024-05-08T19:23:38.783224Z",
     "iopub.status.busy": "2024-05-08T19:23:38.782939Z",
     "iopub.status.idle": "2024-05-08T19:23:38.813951Z",
     "shell.execute_reply": "2024-05-08T19:23:38.813194Z",
     "shell.execute_reply.started": "2024-05-08T19:23:38.783207Z"
    },
    "tags": []
   },
   "outputs": [
    {
     "name": "stderr",
     "output_type": "stream",
     "text": [
      "Using pad_token, but it is not set yet.\n"
     ]
    }
   ],
   "source": [
    "IGNORE_INDEX = -100\n",
    "DEFAULT_PAD_TOKEN = \"[PAD]\"\n",
    "DEFAULT_EOS_TOKEN = \"</s>\"\n",
    "DEFAULT_BOS_TOKEN = \"<s>\"\n",
    "DEFAULT_UNK_TOKEN = \"<unk>\"\n",
    "\n",
    "def smart_tokenizer_and_embedding_resize(\n",
    "    special_tokens_dict: Dict,\n",
    "    tokenizer: transformers.PreTrainedTokenizer,\n",
    "    model: transformers.PreTrainedModel,\n",
    "):\n",
    "    \"\"\"Resize tokenizer and embedding.\n",
    "\n",
    "    Note: This is the unoptimized version that may make your embedding size not be divisible by 64.\n",
    "    \"\"\"\n",
    "    num_new_tokens = tokenizer.add_special_tokens(special_tokens_dict)\n",
    "    model.resize_token_embeddings(len(tokenizer))\n",
    "\n",
    "    if num_new_tokens > 0:\n",
    "        input_embeddings = model.get_input_embeddings().weight.data\n",
    "        output_embeddings = model.get_output_embeddings().weight.data\n",
    "\n",
    "        input_embeddings_avg = input_embeddings[:-num_new_tokens].mean(dim=0, keepdim=True)\n",
    "        output_embeddings_avg = output_embeddings[:-num_new_tokens].mean(dim=0, keepdim=True)\n",
    "\n",
    "        input_embeddings[-num_new_tokens:] = input_embeddings_avg\n",
    "        output_embeddings[-num_new_tokens:] = output_embeddings_avg\n",
    "\n",
    "special_tokens_dict = dict()\n",
    "if tokenizer.pad_token is None:\n",
    "    special_tokens_dict[\"pad_token\"] = DEFAULT_PAD_TOKEN\n",
    "if tokenizer.eos_token is None:\n",
    "    special_tokens_dict[\"eos_token\"] = DEFAULT_EOS_TOKEN\n",
    "if tokenizer.bos_token is None:\n",
    "    special_tokens_dict[\"bos_token\"] = DEFAULT_BOS_TOKEN\n",
    "if tokenizer.unk_token is None:\n",
    "    special_tokens_dict[\"unk_token\"] = DEFAULT_UNK_TOKEN\n",
    "\n",
    "smart_tokenizer_and_embedding_resize(\n",
    "    special_tokens_dict=special_tokens_dict,\n",
    "    tokenizer=tokenizer,\n",
    "    model=model,\n",
    ")"
   ]
  },
  {
   "cell_type": "markdown",
   "metadata": {
    "jp-MarkdownHeadingCollapsed": true,
    "tags": []
   },
   "source": [
    "### Load train/val/test datasets"
   ]
  },
  {
   "cell_type": "code",
   "execution_count": 17,
   "metadata": {
    "execution": {
     "iopub.execute_input": "2024-05-08T19:23:38.815054Z",
     "iopub.status.busy": "2024-05-08T19:23:38.814791Z",
     "iopub.status.idle": "2024-05-08T19:23:42.484565Z",
     "shell.execute_reply": "2024-05-08T19:23:42.483093Z",
     "shell.execute_reply.started": "2024-05-08T19:23:38.815035Z"
    },
    "tags": []
   },
   "outputs": [
    {
     "name": "stderr",
     "output_type": "stream",
     "text": [
      "WARNING:root:Loading data...\n",
      "WARNING:root:Formatting inputs...\n",
      "WARNING:root:Tokenizing inputs... This may take some time...\n"
     ]
    }
   ],
   "source": [
    "train_dataset = SupervisedDataset(DATASET_DIR.joinpath(\"russian_dataset_train.csv\"), tokenizer, nrows=720, diploma_prefix_len=1000)"
   ]
  },
  {
   "cell_type": "code",
   "execution_count": 18,
   "metadata": {
    "execution": {
     "iopub.execute_input": "2024-05-08T19:23:42.485636Z",
     "iopub.status.busy": "2024-05-08T19:23:42.485369Z",
     "iopub.status.idle": "2024-05-08T19:23:46.225614Z",
     "shell.execute_reply": "2024-05-08T19:23:46.224825Z",
     "shell.execute_reply.started": "2024-05-08T19:23:42.485617Z"
    },
    "tags": []
   },
   "outputs": [
    {
     "name": "stderr",
     "output_type": "stream",
     "text": [
      "WARNING:root:Loading data...\n",
      "WARNING:root:Formatting inputs...\n",
      "WARNING:root:Tokenizing inputs... This may take some time...\n"
     ]
    }
   ],
   "source": [
    "val_dataset = SupervisedDataset(DATASET_DIR.joinpath(\"russian_dataset_val.csv\"), tokenizer,  nrows=720, diploma_prefix_len=1000)"
   ]
  },
  {
   "cell_type": "code",
   "execution_count": 49,
   "metadata": {
    "execution": {
     "iopub.execute_input": "2024-05-08T20:14:47.375594Z",
     "iopub.status.busy": "2024-05-08T20:14:47.375200Z",
     "iopub.status.idle": "2024-05-08T20:14:47.454371Z",
     "shell.execute_reply": "2024-05-08T20:14:47.453746Z",
     "shell.execute_reply.started": "2024-05-08T20:14:47.375572Z"
    },
    "tags": []
   },
   "outputs": [
    {
     "name": "stderr",
     "output_type": "stream",
     "text": [
      "WARNING:root:Loading data...\n",
      "WARNING:root:Formatting inputs...\n",
      "WARNING:root:Tokenizing inputs... This may take some time...\n"
     ]
    }
   ],
   "source": [
    "test_dataset = SupervisedDataset(DATASET_DIR.joinpath(\"russian_dataset_test.csv\"), tokenizer,  nrows=10, diploma_prefix_len=1000)"
   ]
  },
  {
   "cell_type": "markdown",
   "metadata": {
    "jp-MarkdownHeadingCollapsed": true,
    "tags": []
   },
   "source": [
    "### Ensure that diploma_prefix_len is ok"
   ]
  },
  {
   "cell_type": "code",
   "execution_count": 20,
   "metadata": {
    "execution": {
     "iopub.execute_input": "2024-05-08T19:23:46.432682Z",
     "iopub.status.busy": "2024-05-08T19:23:46.432406Z",
     "iopub.status.idle": "2024-05-08T19:23:46.448123Z",
     "shell.execute_reply": "2024-05-08T19:23:46.447510Z",
     "shell.execute_reply.started": "2024-05-08T19:23:46.432662Z"
    },
    "tags": []
   },
   "outputs": [
    {
     "data": {
      "text/plain": [
       "[2,\n",
       " 517,\n",
       " 24072,\n",
       " 24585,\n",
       " 23567,\n",
       " 8211,\n",
       " 531,\n",
       " 26133,\n",
       " 1046,\n",
       " 2583,\n",
       " 1561,\n",
       " 24090,\n",
       " 6687,\n",
       " 14367,\n",
       " 10786,\n",
       " 2082,\n",
       " 551,\n",
       " 23082,\n",
       " 8747,\n",
       " 6188,\n",
       " 6193,\n",
       " 6195,\n",
       " 1587,\n",
       " 1086,\n",
       " 3648,\n",
       " 1604,\n",
       " 25671,\n",
       " 15432,\n",
       " 1097,\n",
       " 16970]"
      ]
     },
     "execution_count": 20,
     "metadata": {},
     "output_type": "execute_result"
    }
   ],
   "source": [
    "list(set(test_dataset[9][\"labels\"].tolist()))[:30]"
   ]
  },
  {
   "cell_type": "markdown",
   "metadata": {
    "jp-MarkdownHeadingCollapsed": true,
    "tags": []
   },
   "source": [
    "### View how dataset built"
   ]
  },
  {
   "cell_type": "code",
   "execution_count": 56,
   "metadata": {
    "execution": {
     "iopub.execute_input": "2024-05-08T20:25:58.394843Z",
     "iopub.status.busy": "2024-05-08T20:25:58.394446Z",
     "iopub.status.idle": "2024-05-08T20:25:58.407522Z",
     "shell.execute_reply": "2024-05-08T20:25:58.406358Z",
     "shell.execute_reply.started": "2024-05-08T20:25:58.394822Z"
    },
    "tags": []
   },
   "outputs": [
    {
     "name": "stdout",
     "output_type": "stream",
     "text": [
      "<s> Below is an instruction that describes a task, paired with an input that provides further context. Write a response that appropriately completes the request.\n",
      "\n",
      "### Instruction:\n",
      "Below is a diploma text. Your task is to generate abstract of this diploma.\n",
      "\n",
      "### Input:\n",
      "Санкт-Петербургский государственный университет\n",
      "\n",
      "\n",
      "АВРАМЕНКО Полина Андреевна\n",
      "Выпускная квалификационная работа\n",
      "Веб-туны как часть южнокорейской культуры в XXI веке (на примере романтических историй) \n",
      "Уровень образования: магистратура\n",
      "Направление 58.04.01 «Востоковедение и африканистика»\n",
      "Основная образовательная программа BM.5808 «Культура народов Азии и Африки (с изучением языков Азии и Африки)»\n",
      "\n",
      "\n",
      "Научный руководитель:\n",
      "доцент, Кафедра корееведения, Санкт-Петербургский государственный университет Гурьева Анастасия Александровна\n",
      "\n",
      "Рецензент:\n",
      "приглашенный преподаватель, Кафедра корееведения, Санкт-Петербургская школа социальных наук и востоковедения,\n",
      "доцент, Санкт-Петербургский филиал федерального государственного автономного образовательного учреждения высшего образования «Национальный исследовательский университет «Высшая школа экономики»\n",
      "Георгиева Рус Нели Петрова\n",
      "\n",
      "Санкт-Петербург\n",
      "2023\n",
      "СОДЕРЖАНИЕ\n",
      "Введение\t3\n",
      "Глава 1 Феномен веб-туна: история и характеристики\t10\n",
      "§ 1.1 Появление корейских \n",
      "\n",
      "### Response:Данная выпускная квалификационная работа посвящена одному из основных элементов, формирующих массовый культурный контент Республики Корея - веб-тунам (webtoon) – цифровым комиксам, появившимся в начале XXI века. Целью работы является выявление места веб-тунов в южнокорейской культуре, а также их культурной специфики. Актуальность исследования обусловлена тем, что в наши дни в Южной Корее к веб-тунам наблюдается повышенный интерес общества. В ходе исследования был собран, изучен и систематизирован материал об истории манхва как предшественника веб-тунов. Были рассмотрены этапы развития веб-тунов, причины популярности и основные характеристики. В качестве материала для исследования были выбраны и проанализированы три популярных южнокорейских веб-туна. Посредством анализа была выявлена специфика подачи материала и связь с культурой. Благодаря анализу удалось выявить взаимосвязь веб-тунов с традиционной литературой и ролью текста в корейской культуре и традиционным распределением ролей.</s>\n"
     ]
    }
   ],
   "source": [
    "text_labels = tokenizer.decode(test_dataset[9][\"input_ids\"])\n",
    "print(text_labels)"
   ]
  },
  {
   "cell_type": "code",
   "execution_count": 61,
   "metadata": {
    "execution": {
     "iopub.execute_input": "2024-05-08T20:30:10.488885Z",
     "iopub.status.busy": "2024-05-08T20:30:10.488486Z",
     "iopub.status.idle": "2024-05-08T20:30:10.508045Z",
     "shell.execute_reply": "2024-05-08T20:30:10.507466Z",
     "shell.execute_reply.started": "2024-05-08T20:30:10.488835Z"
    },
    "tags": []
   },
   "outputs": [
    {
     "name": "stdout",
     "output_type": "stream",
     "text": [
      "Данная выпускная квалификационная работа посвящена одному из основных элементов, формирующих массовый культурный контент Республики Корея - веб-тунам (webtoon) – цифровым комиксам, появившимся в начале XXI века. Целью работы является выявление места веб-тунов в южнокорейской культуре, а также их культурной специфики. Актуальность исследования обусловлена тем, что в наши дни в Южной Корее к веб-тунам наблюдается повышенный интерес общества. В ходе исследования был собран, изучен и систематизирован материал об истории манхва как предшественника веб-тунов. Были рассмотрены этапы развития веб-тунов, причины популярности и основные характеристики. В качестве материала для исследования были выбраны и проанализированы три популярных южнокорейских веб-туна. Посредством анализа была выявлена специфика подачи материала и связь с культурой. Благодаря анализу удалось выявить взаимосвязь веб-тунов с традиционной литературой и ролью текста в корейской культуре и традиционным распределением ролей.</s>\n"
     ]
    }
   ],
   "source": [
    "unignored_tokens = []\n",
    "for token in test_dataset[9][\"labels\"]:\n",
    "    if token != IGNORE_INDEX:\n",
    "        unignored_tokens.append(token)\n",
    "text_labels = tokenizer.decode(unignored_tokens)\n",
    "print(text_labels)"
   ]
  },
  {
   "cell_type": "markdown",
   "metadata": {
    "jp-MarkdownHeadingCollapsed": true,
    "tags": []
   },
   "source": [
    "### Generating with raw model before learning"
   ]
  },
  {
   "cell_type": "code",
   "execution_count": 72,
   "metadata": {
    "execution": {
     "iopub.execute_input": "2024-05-08T20:41:04.075286Z",
     "iopub.status.busy": "2024-05-08T20:41:04.074836Z",
     "iopub.status.idle": "2024-05-08T20:41:07.011966Z",
     "shell.execute_reply": "2024-05-08T20:41:07.010888Z",
     "shell.execute_reply.started": "2024-05-08T20:41:04.075257Z"
    }
   },
   "outputs": [
    {
     "name": "stdout",
     "output_type": "stream",
     "text": [
      "<s> Below is an instruction that describes a task, paired with an input that provides further context. Write a response that appropriately completes the request.\n",
      "\n",
      "### Instruction:\n",
      "Below is a diploma text. Your task is to generate abstract of this diploma.\n",
      "\n",
      "### Input:\n",
      "САНКТ-ПЕТЕРБУРГСКИЙ ГОСУДАРСТВЕННЫЙ\n",
      "УНИВЕРСИТЕТ\n",
      "\n",
      "Мануэль Антонио Агилар Ривера\n",
      "Выпускная квалификационная работа\n",
      "«Multiplication Operators in Cauchy-de Branges Spaces»\n",
      "Уровень образования: магистратура\n",
      "Направление 01.04.01 “Математика”\n",
      "Основная образовательная программа BM.5832.2019\n",
      "“Современная математика”\n",
      "Научный руководитель:\n",
      "Профессор, математико-механический факультет СПбГУ,\n",
      "доктор физ.-мат. наук, профессор РАН\n",
      "Баранов Антон Дмитриевич.\n",
      "Рецензент:\n",
      "Профессор, Факультет математики,\n",
      "Автономный университет Мадрида, кандидат физ.-мат. наук\n",
      "Якубович Дмитрий Владимирович\n",
      "Санкт-Петербург\n",
      "2021\n",
      "\n",
      "\f",
      "Contents\n",
      "Contents\n",
      "\n",
      "2\n",
      "\n",
      "Cauchy–de Branges spaces\n",
      "3\n",
      "Cauchy–de Branges spaces as Reproducing Kernel Hilbert spaces . 4\n",
      "The Division Property . . . . . . . . . . . . . . . . . . . . . . . . . 6\n",
      "Existing functions with a given zero. . . . . . . . . . . . . . . . . . 7\n",
      "Cauchy-de Branges spaces are division invariant. . . . . . . . . . . . 9\n",
      "Ds has the division property. . . . . . . . . . . . . . . . . . .\n",
      "\n",
      "### Response:В работе рассматривается теория функций с нулевой постоянной, выводящаяся из теории Cauchy-de Branges. В частности, введена и исследована теория функций с нулевой постоянной в Cauchy-de Branges пространства.</s>\n"
     ]
    }
   ],
   "source": [
    "# inference train sample\n",
    "model.eval()\n",
    "prefix_len = np.sum(np.array(train_dataset[9][\"labels\"]) == IGNORE_INDEX)\n",
    "prefix_tokens = train_dataset[9][\"input_ids\"][:prefix_len]\n",
    "generated = model.generate(prefix_tokens.reshape((1, -1)).to(device))\n",
    "generated_text = tokenizer.decode(generated.to('cpu').flatten())\n",
    "print(generated_text)"
   ]
  },
  {
   "cell_type": "code",
   "execution_count": 62,
   "metadata": {
    "execution": {
     "iopub.execute_input": "2024-05-08T20:33:01.001452Z",
     "iopub.status.busy": "2024-05-08T20:33:01.001061Z",
     "iopub.status.idle": "2024-05-08T20:33:01.050868Z",
     "shell.execute_reply": "2024-05-08T20:33:01.050167Z",
     "shell.execute_reply.started": "2024-05-08T20:33:01.001431Z"
    }
   },
   "outputs": [
    {
     "data": {
      "text/plain": [
       "443"
      ]
     },
     "execution_count": 62,
     "metadata": {},
     "output_type": "execute_result"
    }
   ],
   "source": [
    "prefix_len = np.sum(np.array(test_dataset[9][\"labels\"]) == IGNORE_INDEX)\n",
    "prefix_len"
   ]
  },
  {
   "cell_type": "code",
   "execution_count": 63,
   "metadata": {
    "execution": {
     "iopub.execute_input": "2024-05-08T20:33:56.907270Z",
     "iopub.status.busy": "2024-05-08T20:33:56.906823Z",
     "iopub.status.idle": "2024-05-08T20:34:01.339080Z",
     "shell.execute_reply": "2024-05-08T20:34:01.338418Z",
     "shell.execute_reply.started": "2024-05-08T20:33:56.907249Z"
    },
    "tags": []
   },
   "outputs": [
    {
     "name": "stdout",
     "output_type": "stream",
     "text": [
      "<s> Below is an instruction that describes a task, paired with an input that provides further context. Write a response that appropriately completes the request.\n",
      "\n",
      "### Instruction:\n",
      "Below is a diploma text. Your task is to generate abstract of this diploma.\n",
      "\n",
      "### Input:\n",
      "Санкт-Петербургский государственный университет\n",
      "\n",
      "\n",
      "АВРАМЕНКО Полина Андреевна\n",
      "Выпускная квалификационная работа\n",
      "Веб-туны как часть южнокорейской культуры в XXI веке (на примере романтических историй) \n",
      "Уровень образования: магистратура\n",
      "Направление 58.04.01 «Востоковедение и африканистика»\n",
      "Основная образовательная программа BM.5808 «Культура народов Азии и Африки (с изучением языков Азии и Африки)»\n",
      "\n",
      "\n",
      "Научный руководитель:\n",
      "доцент, Кафедра корееведения, Санкт-Петербургский государственный университет Гурьева Анастасия Александровна\n",
      "\n",
      "Рецензент:\n",
      "приглашенный преподаватель, Кафедра корееведения, Санкт-Петербургская школа социальных наук и востоковедения,\n",
      "доцент, Санкт-Петербургский филиал федерального государственного автономного образовательного учреждения высшего образования «Национальный исследовательский университет «Высшая школа экономики»\n",
      "Георгиева Рус Нели Петрова\n",
      "\n",
      "Санкт-Петербург\n",
      "2023\n",
      "СОДЕРЖАНИЕ\n",
      "Введение\t3\n",
      "Глава 1 Феномен веб-туна: история и характеристики\t10\n",
      "§ 1.1 Появление корейских \n",
      "\n",
      "### Response:\n",
      "\n",
      "<s> Below is an instruction that describes a task, paired with an input that provides further context. Write a response that appropriately completes the request.\n",
      "\n",
      "### Instruction:\n",
      "Below is a diploma text. Your task is to generate abstract of this diploma.\n",
      "\n",
      "### Input:\n",
      "Санкт-Петербургский государственный университет\n",
      "\n",
      "\n",
      "АВРАМЕНКО Полина Андреевна\n",
      "Выпускная квалификационная работа\n",
      "Веб-туны как часть южнокорейской культуры в XXI веке (на примере романтических историй) \n",
      "Уровень образования: магистратура\n",
      "Направление 58.04.01 «Востоковедение и африканистика»\n",
      "Основная образовательная программа BM.5808 «Культура народов Азии и Африки (с изучением языков Азии и Африки)»\n",
      "\n",
      "\n",
      "Научный руководитель:\n",
      "доцент, Кафедра корееведения, Санкт-Петербургский государственный университет Гурьева Анастасия Александровна\n",
      "\n",
      "Рецензент:\n",
      "приглашенный преподаватель, Кафедра корееведения, Санкт-Петербургская школа социальных наук и востоковедения,\n",
      "доцент, Санкт-Петербургский филиал федерального государственного автономного образовательного учреждения высшего образования «Национальный исследовательский университет «Высшая школа экономики»\n",
      "Георгиева Рус Нели Петрова\n",
      "\n",
      "Санкт-Петербург\n",
      "2023\n",
      "СОДЕРЖАНИЕ\n",
      "Введение\t3\n",
      "Глава 1 Феномен веб-туна: история и характеристики\t10\n",
      "§ 1.1 Появление корейских \n",
      "\n",
      "### Response:В работе рассмотрены феномен веб-туна и его место в культуре современной Южной Кореи. Описаны различные формы веб-тунов, их функции, характер и содержание. Анализируются особенности формирования и распространения веб-тунов. В работе также представлены результаты исследования, проведенного автором в рамках дипломной работы.</s>\n"
     ]
    }
   ],
   "source": [
    "model.eval()\n",
    "prefix_tokens = test_dataset[9][\"input_ids\"][:prefix_len]\n",
    "text = tokenizer.decode(prefix_tokens)\n",
    "print(text)\n",
    "print()\n",
    "generated = model.generate(prefix_tokens.reshape((1, -1)).to(device))\n",
    "generated_text = tokenizer.decode(generated.to('cpu').flatten())\n",
    "print(generated_text)"
   ]
  },
  {
   "cell_type": "markdown",
   "metadata": {
    "jp-MarkdownHeadingCollapsed": true,
    "tags": []
   },
   "source": [
    "### Train model"
   ]
  },
  {
   "cell_type": "code",
   "execution_count": 21,
   "metadata": {
    "execution": {
     "iopub.execute_input": "2024-05-08T19:23:46.449135Z",
     "iopub.status.busy": "2024-05-08T19:23:46.448831Z",
     "iopub.status.idle": "2024-05-08T19:23:46.459122Z",
     "shell.execute_reply": "2024-05-08T19:23:46.458539Z",
     "shell.execute_reply.started": "2024-05-08T19:23:46.449116Z"
    },
    "tags": []
   },
   "outputs": [],
   "source": [
    "model_type = \"llama\" # default\n",
    "if model_type == \"gpt-neox\":\n",
    "    # added `dense` to match with llama as the basic LoRA would only target 'query_key_value'\n",
    "    targets = [\"query_key_value\", \"dense\"]\n",
    "else:\n",
    "    targets=[\"q_proj\", \"k_proj\", \"v_proj\", \"o_proj\"]\n",
    "\n",
    "config = LoraConfig(\n",
    "    r=8,\n",
    "    lora_alpha=16,\n",
    "    target_modules=targets,\n",
    "    lora_dropout=0,\n",
    "    bias=\"none\",\n",
    "    task_type=\"CAUSAL_LM\",\n",
    ")"
   ]
  },
  {
   "cell_type": "code",
   "execution_count": 22,
   "metadata": {
    "execution": {
     "iopub.execute_input": "2024-05-08T19:23:46.460018Z",
     "iopub.status.busy": "2024-05-08T19:23:46.459753Z",
     "iopub.status.idle": "2024-05-08T19:23:46.678286Z",
     "shell.execute_reply": "2024-05-08T19:23:46.677599Z",
     "shell.execute_reply.started": "2024-05-08T19:23:46.460001Z"
    },
    "tags": []
   },
   "outputs": [],
   "source": [
    " peft_model = get_peft_model(model, config)"
   ]
  },
  {
   "cell_type": "code",
   "execution_count": 23,
   "metadata": {
    "execution": {
     "iopub.execute_input": "2024-05-08T19:23:46.679289Z",
     "iopub.status.busy": "2024-05-08T19:23:46.679031Z",
     "iopub.status.idle": "2024-05-08T19:23:46.686960Z",
     "shell.execute_reply": "2024-05-08T19:23:46.686406Z",
     "shell.execute_reply.started": "2024-05-08T19:23:46.679270Z"
    },
    "tags": []
   },
   "outputs": [],
   "source": [
    "trainable_params = \"embed,norm\""
   ]
  },
  {
   "cell_type": "code",
   "execution_count": 24,
   "metadata": {
    "execution": {
     "iopub.execute_input": "2024-05-08T19:23:46.687860Z",
     "iopub.status.busy": "2024-05-08T19:23:46.687558Z",
     "iopub.status.idle": "2024-05-08T19:23:46.701134Z",
     "shell.execute_reply": "2024-05-08T19:23:46.700601Z",
     "shell.execute_reply.started": "2024-05-08T19:23:46.687838Z"
    },
    "tags": []
   },
   "outputs": [],
   "source": [
    "[p.requires_grad_() for n, p in peft_model.named_parameters() if any([k in n for k in trainable_params.split(\",\")])]\n",
    "pass"
   ]
  },
  {
   "cell_type": "code",
   "execution_count": 25,
   "metadata": {
    "execution": {
     "iopub.execute_input": "2024-05-08T19:23:46.703548Z",
     "iopub.status.busy": "2024-05-08T19:23:46.703208Z",
     "iopub.status.idle": "2024-05-08T19:23:46.714456Z",
     "shell.execute_reply": "2024-05-08T19:23:46.713990Z",
     "shell.execute_reply.started": "2024-05-08T19:23:46.703530Z"
    },
    "tags": []
   },
   "outputs": [],
   "source": [
    "peft_model.config.use_cache = False         # required for gradient checkpointing\n",
    "peft_model.enable_input_require_grads()     # required for gradient checkpointing\n",
    "peft_model.gradient_checkpointing_enable()  # enable gradient checkpointing"
   ]
  },
  {
   "cell_type": "code",
   "execution_count": 26,
   "metadata": {
    "execution": {
     "iopub.execute_input": "2024-05-08T19:23:46.715551Z",
     "iopub.status.busy": "2024-05-08T19:23:46.715209Z",
     "iopub.status.idle": "2024-05-08T19:23:46.722656Z",
     "shell.execute_reply": "2024-05-08T19:23:46.722151Z",
     "shell.execute_reply.started": "2024-05-08T19:23:46.715531Z"
    },
    "tags": []
   },
   "outputs": [],
   "source": [
    "OUTPUT_DIR = \"output_dir\""
   ]
  },
  {
   "cell_type": "code",
   "execution_count": 27,
   "metadata": {
    "execution": {
     "iopub.execute_input": "2024-05-08T19:23:46.723607Z",
     "iopub.status.busy": "2024-05-08T19:23:46.723225Z",
     "iopub.status.idle": "2024-05-08T19:23:46.736028Z",
     "shell.execute_reply": "2024-05-08T19:23:46.735564Z",
     "shell.execute_reply.started": "2024-05-08T19:23:46.723588Z"
    },
    "tags": []
   },
   "outputs": [],
   "source": [
    "from dataclasses import dataclass, field\n",
    "\n",
    "@dataclass\n",
    "class DataCollatorForSupervisedDataset(object):\n",
    "    \"\"\"Collate examples for supervised fine-tuning.\"\"\"\n",
    "\n",
    "    tokenizer: transformers.PreTrainedTokenizer\n",
    "\n",
    "    def __call__(self, instances: Sequence[Dict]) -> Dict[str, torch.Tensor]:\n",
    "        input_ids, labels = tuple([instance[key] for instance in instances] for key in (\"input_ids\", \"labels\"))\n",
    "        input_ids = torch.nn.utils.rnn.pad_sequence(\n",
    "            input_ids, batch_first=True, padding_value=self.tokenizer.pad_token_id\n",
    "        )\n",
    "        labels = torch.nn.utils.rnn.pad_sequence(labels, batch_first=True, padding_value=IGNORE_INDEX)\n",
    "        return dict(\n",
    "            input_ids=input_ids,\n",
    "            labels=labels,\n",
    "            attention_mask=input_ids.ne(self.tokenizer.pad_token_id),\n",
    "        )\n",
    "\n",
    "data_collator = DataCollatorForSupervisedDataset(tokenizer=tokenizer)"
   ]
  },
  {
   "cell_type": "code",
   "execution_count": 46,
   "metadata": {
    "execution": {
     "iopub.execute_input": "2024-05-08T19:40:21.418625Z",
     "iopub.status.busy": "2024-05-08T19:40:21.418201Z",
     "iopub.status.idle": "2024-05-08T19:40:21.467718Z",
     "shell.execute_reply": "2024-05-08T19:40:21.467125Z",
     "shell.execute_reply.started": "2024-05-08T19:40:21.418605Z"
    },
    "tags": []
   },
   "outputs": [
    {
     "data": {
      "text/plain": [
       "TrainingArguments(output_dir='output_dir', overwrite_output_dir=False, do_train=False, do_eval=False, do_predict=False, evaluation_strategy=<IntervalStrategy.NO: 'no'>, prediction_loss_only=False, per_device_train_batch_size=1, per_device_eval_batch_size=2, per_gpu_train_batch_size=None, per_gpu_eval_batch_size=None, gradient_accumulation_steps=8, eval_accumulation_steps=None, eval_delay=0, learning_rate=2e-05, weight_decay=0.0, adam_beta1=0.9, adam_beta2=0.999, adam_epsilon=1e-08, max_grad_norm=1.0, num_train_epochs=5, max_steps=-1, lr_scheduler_type=<SchedulerType.CONSTANT_WITH_WARMUP: 'constant_with_warmup'>, warmup_ratio=0.0, warmup_steps=20, log_level='passive', log_level_replica='warning', log_on_each_node=True, logging_dir='output_dir/runs/May08_19-40-21_g21-52937519-d04a-4a55-bbfa-29fa42618993', logging_strategy=<IntervalStrategy.STEPS: 'steps'>, logging_first_step=False, logging_steps=1, logging_nan_inf_filter=True, save_strategy=<IntervalStrategy.STEPS: 'steps'>, save_steps=500, save_total_limit=2, save_safetensors=False, save_on_each_node=False, no_cuda=False, use_cpu=False, use_mps_device=False, seed=42, data_seed=None, jit_mode_eval=False, use_ipex=False, bf16=True, fp16=False, fp16_opt_level='O1', half_precision_backend='auto', bf16_full_eval=False, fp16_full_eval=False, tf32=True, local_rank=0, ddp_backend=None, tpu_num_cores=None, tpu_metrics_debug=False, debug=[], dataloader_drop_last=False, eval_steps=None, dataloader_num_workers=0, past_index=-1, run_name='output_dir', disable_tqdm=False, remove_unused_columns=True, label_names=None, load_best_model_at_end=False, metric_for_best_model=None, greater_is_better=None, ignore_data_skip=False, sharded_ddp=[], fsdp=[], fsdp_min_num_params=0, fsdp_config={'min_num_params': 0, 'xla': False, 'xla_fsdp_grad_ckpt': False}, fsdp_transformer_layer_cls_to_wrap=None, deepspeed='ds_configs/stage2.json', label_smoothing_factor=0.0, optim=<OptimizerNames.ADAMW_TORCH: 'adamw_torch'>, optim_args=None, adafactor=False, group_by_length=False, length_column_name='length', report_to=['tensorboard'], ddp_find_unused_parameters=None, ddp_bucket_cap_mb=None, ddp_broadcast_buffers=None, dataloader_pin_memory=True, skip_memory_metrics=True, use_legacy_prediction_loop=False, push_to_hub=False, resume_from_checkpoint=None, hub_model_id=None, hub_strategy=<HubStrategy.EVERY_SAVE: 'every_save'>, hub_token=None, hub_private_repo=False, hub_always_push=False, gradient_checkpointing=False, include_inputs_for_metrics=False, fp16_backend='auto', push_to_hub_model_id=None, push_to_hub_organization=None, push_to_hub_token=None, mp_parameters='', auto_find_batch_size=False, full_determinism=False, torchdynamo=None, ray_scope='last', ddp_timeout=1800, torch_compile=False, torch_compile_backend=None, torch_compile_mode=None, dispatch_batches=None, include_tokens_per_second=False, cache_dir=None, model_max_length=32768, use_flash_attn=True, use_full_attn=False, low_rank_training=True, trainable_params='embed,norm')"
      ]
     },
     "execution_count": 46,
     "metadata": {},
     "output_type": "execute_result"
    }
   ],
   "source": [
    "# from accelerate.utils import DistributedType\n",
    "\n",
    "@dataclass\n",
    "class TrainingArguments(transformers.TrainingArguments):\n",
    "    cache_dir: Optional[str] = field(default=None)\n",
    "    optim: str = field(default=\"adamw_torch\")\n",
    "    model_max_length: int = field(\n",
    "        default=8192 * 4,\n",
    "        metadata={\"help\": \"Maximum sequence length. Sequences will be right padded (and possibly truncated).\"},\n",
    "    )\n",
    "    use_flash_attn: bool = field(\n",
    "        default=True,\n",
    "        metadata={\"help\": \"Whether use flash attention for training.\"},\n",
    "    )\n",
    "    use_full_attn: bool = field(\n",
    "        default=False,\n",
    "        metadata={\"help\": \"Whether to use plain, full-attention for training.\"},\n",
    "    )\n",
    "    low_rank_training: bool = field(\n",
    "        default=True,\n",
    "        metadata={\"help\": \"Whether use low rank adaptation for training.\"},\n",
    "    )\n",
    "    trainable_params: str = field(\n",
    "        default=\"embed,norm\",\n",
    "        metadata={\"help\": \"Additional trainable parameters except LoRA weights, if low rank training.\"},\n",
    "    )\n",
    "    \n",
    "training_args = TrainingArguments(\n",
    "    output_dir=OUTPUT_DIR,\n",
    "    bf16=True,\n",
    "    use_flash_attn=True,\n",
    "    low_rank_training=True,\n",
    "    num_train_epochs=5,\n",
    "    per_device_train_batch_size=1,\n",
    "    per_device_eval_batch_size=2,\n",
    "    gradient_accumulation_steps=8,\n",
    "    evaluation_strategy=\"no\",\n",
    "    # save_strategy=\"steps\",\n",
    "    # save_steps=1,\n",
    "    save_total_limit=2,\n",
    "    learning_rate=2e-5,\n",
    "    weight_decay=0.0,\n",
    "    warmup_steps=20,\n",
    "    lr_scheduler_type=\"constant_with_warmup\",\n",
    "    logging_steps=1,\n",
    "    deepspeed=\"ds_configs/stage2.json\",\n",
    "    tf32=True,\n",
    "    report_to=['tensorboard'],\n",
    ")\n",
    "# training_args.distributed_state.distributed_type = DistributedType.DEEPSPEED\n",
    "training_args"
   ]
  },
  {
   "cell_type": "code",
   "execution_count": 47,
   "metadata": {
    "execution": {
     "iopub.execute_input": "2024-05-08T19:40:26.118410Z",
     "iopub.status.busy": "2024-05-08T19:40:26.117935Z",
     "iopub.status.idle": "2024-05-08T20:10:29.762059Z",
     "shell.execute_reply": "2024-05-08T20:10:29.761278Z",
     "shell.execute_reply.started": "2024-05-08T19:40:26.118390Z"
    },
    "tags": []
   },
   "outputs": [
    {
     "name": "stderr",
     "output_type": "stream",
     "text": [
      "/home/jupyter/.local/lib/python3.10/site-packages/accelerate/accelerator.py:436: FutureWarning: Passing the following arguments to `Accelerator` is deprecated and will be removed in version 1.0 of Accelerate: dict_keys(['dispatch_batches']). Please pass an `accelerate.DataLoaderConfiguration` instead: \n",
      "dataloader_config = DataLoaderConfiguration(dispatch_batches=None)\n",
      "  warnings.warn(\n",
      "\n",
      "  0%|          | 0/450 [00:00<?, ?it/s]\u001b[A\n",
      "                                               \u001b[A\n",
      "  0%|          | 1/450 [00:55<27:06,  3.62s/it]\n",
      "  0%|          | 1/450 [00:03<27:03,  3.62s/it]\u001b[A"
     ]
    },
    {
     "name": "stdout",
     "output_type": "stream",
     "text": [
      "{'loss': 1.3015, 'learning_rate': 1.0000000000000002e-06, 'epoch': 0.01}\n"
     ]
    },
    {
     "name": "stderr",
     "output_type": "stream",
     "text": [
      "\n",
      "                                               \u001b[A\n",
      "  0%|          | 1/450 [00:59<27:06,  3.62s/it]\n",
      "  0%|          | 2/450 [00:07<27:28,  3.68s/it]\u001b[A"
     ]
    },
    {
     "name": "stdout",
     "output_type": "stream",
     "text": [
      "{'loss': 1.4281, 'learning_rate': 2.0000000000000003e-06, 'epoch': 0.02}\n"
     ]
    },
    {
     "name": "stderr",
     "output_type": "stream",
     "text": [
      "\n",
      "                                               \u001b[A\n",
      "  0%|          | 1/450 [01:03<27:06,  3.62s/it]\n",
      "  1%|          | 3/450 [00:10<27:09,  3.65s/it]\u001b[A"
     ]
    },
    {
     "name": "stdout",
     "output_type": "stream",
     "text": [
      "{'loss': 1.4498, 'learning_rate': 3e-06, 'epoch': 0.03}\n"
     ]
    },
    {
     "name": "stderr",
     "output_type": "stream",
     "text": [
      "\n",
      "                                               \u001b[A\n",
      "  0%|          | 1/450 [01:06<27:06,  3.62s/it]\n",
      "  1%|          | 4/450 [00:14<27:43,  3.73s/it]\u001b[A"
     ]
    },
    {
     "name": "stdout",
     "output_type": "stream",
     "text": [
      "{'loss': 1.3943, 'learning_rate': 4.000000000000001e-06, 'epoch': 0.04}\n"
     ]
    },
    {
     "name": "stderr",
     "output_type": "stream",
     "text": [
      "\n",
      "                                               \u001b[A\n",
      "  0%|          | 1/450 [01:10<27:06,  3.62s/it]\n",
      "  1%|          | 5/450 [00:18<27:37,  3.72s/it]\u001b[A"
     ]
    },
    {
     "name": "stdout",
     "output_type": "stream",
     "text": [
      "{'loss': 1.455, 'learning_rate': 5e-06, 'epoch': 0.06}\n"
     ]
    },
    {
     "name": "stderr",
     "output_type": "stream",
     "text": [
      "\n",
      "                                               \u001b[A\n",
      "  0%|          | 1/450 [01:14<27:06,  3.62s/it]\n",
      "  1%|▏         | 6/450 [00:22<27:04,  3.66s/it]\u001b[A"
     ]
    },
    {
     "name": "stdout",
     "output_type": "stream",
     "text": [
      "{'loss': 1.4377, 'learning_rate': 6e-06, 'epoch': 0.07}\n"
     ]
    },
    {
     "name": "stderr",
     "output_type": "stream",
     "text": [
      "\n",
      "                                               \u001b[A\n",
      "  0%|          | 1/450 [01:17<27:06,  3.62s/it]\n",
      "  2%|▏         | 7/450 [00:25<26:22,  3.57s/it]\u001b[A"
     ]
    },
    {
     "name": "stdout",
     "output_type": "stream",
     "text": [
      "{'loss': 1.5221, 'learning_rate': 7e-06, 'epoch': 0.08}\n"
     ]
    },
    {
     "name": "stderr",
     "output_type": "stream",
     "text": [
      "\n",
      "                                               \u001b[A\n",
      "  0%|          | 1/450 [01:21<27:06,  3.62s/it]\n",
      "  2%|▏         | 8/450 [00:29<27:26,  3.72s/it]\u001b[A"
     ]
    },
    {
     "name": "stdout",
     "output_type": "stream",
     "text": [
      "{'loss': 1.4089, 'learning_rate': 8.000000000000001e-06, 'epoch': 0.09}\n"
     ]
    },
    {
     "name": "stderr",
     "output_type": "stream",
     "text": [
      "\n",
      "                                               \u001b[A\n",
      "  0%|          | 1/450 [01:25<27:06,  3.62s/it]\n",
      "  2%|▏         | 9/450 [00:33<27:57,  3.80s/it]\u001b[A"
     ]
    },
    {
     "name": "stdout",
     "output_type": "stream",
     "text": [
      "{'loss': 1.4574, 'learning_rate': 9e-06, 'epoch': 0.1}\n"
     ]
    },
    {
     "name": "stderr",
     "output_type": "stream",
     "text": [
      "\n",
      "                                               ]\u001b[A\n",
      "  0%|          | 1/450 [01:30<27:06,  3.62s/it] \n",
      "  2%|▏         | 10/450 [00:38<30:46,  4.20s/it]\u001b[A"
     ]
    },
    {
     "name": "stdout",
     "output_type": "stream",
     "text": [
      "{'loss': 1.3287, 'learning_rate': 1e-05, 'epoch': 0.11}\n"
     ]
    },
    {
     "name": "stderr",
     "output_type": "stream",
     "text": [
      "\n",
      "                                               ]\u001b[A\n",
      "  0%|          | 1/450 [01:34<27:06,  3.62s/it] \n",
      "  2%|▏         | 11/450 [00:41<28:57,  3.96s/it]\u001b[A"
     ]
    },
    {
     "name": "stdout",
     "output_type": "stream",
     "text": [
      "{'loss': 1.4322, 'learning_rate': 1.1000000000000001e-05, 'epoch': 0.12}\n"
     ]
    },
    {
     "name": "stderr",
     "output_type": "stream",
     "text": [
      "\n",
      "                                               ]\u001b[A\n",
      "  0%|          | 1/450 [01:37<27:06,  3.62s/it] \n",
      "  3%|▎         | 12/450 [00:45<28:33,  3.91s/it]\u001b[A"
     ]
    },
    {
     "name": "stdout",
     "output_type": "stream",
     "text": [
      "{'loss': 1.4901, 'learning_rate': 1.2e-05, 'epoch': 0.13}\n"
     ]
    },
    {
     "name": "stderr",
     "output_type": "stream",
     "text": [
      "\n",
      "                                               ]\u001b[A\n",
      "  0%|          | 1/450 [01:41<27:06,  3.62s/it] \n",
      "  3%|▎         | 13/450 [00:49<28:18,  3.89s/it]\u001b[A"
     ]
    },
    {
     "name": "stdout",
     "output_type": "stream",
     "text": [
      "{'loss': 1.3765, 'learning_rate': 1.3000000000000001e-05, 'epoch': 0.14}\n"
     ]
    },
    {
     "name": "stderr",
     "output_type": "stream",
     "text": [
      "\n",
      "                                               ]\u001b[A\n",
      "  0%|          | 1/450 [01:45<27:06,  3.62s/it] \n",
      "  3%|▎         | 14/450 [00:53<28:45,  3.96s/it]\u001b[A"
     ]
    },
    {
     "name": "stdout",
     "output_type": "stream",
     "text": [
      "{'loss': 1.4277, 'learning_rate': 1.4e-05, 'epoch': 0.16}\n"
     ]
    },
    {
     "name": "stderr",
     "output_type": "stream",
     "text": [
      "\n",
      "                                               ]\u001b[A\n",
      "  0%|          | 1/450 [01:49<27:06,  3.62s/it] \n",
      "  3%|▎         | 15/450 [00:57<28:51,  3.98s/it]\u001b[A"
     ]
    },
    {
     "name": "stdout",
     "output_type": "stream",
     "text": [
      "{'loss': 1.4893, 'learning_rate': 1.5000000000000002e-05, 'epoch': 0.17}\n"
     ]
    },
    {
     "name": "stderr",
     "output_type": "stream",
     "text": [
      "\n",
      "                                               ]\u001b[A\n",
      "  0%|          | 1/450 [01:54<27:06,  3.62s/it] \n",
      "  4%|▎         | 16/450 [01:02<29:28,  4.07s/it]\u001b[A"
     ]
    },
    {
     "name": "stdout",
     "output_type": "stream",
     "text": [
      "{'loss': 1.2648, 'learning_rate': 1.6000000000000003e-05, 'epoch': 0.18}\n"
     ]
    },
    {
     "name": "stderr",
     "output_type": "stream",
     "text": [
      "\n",
      "                                               ]\u001b[A\n",
      "  0%|          | 1/450 [01:58<27:06,  3.62s/it] \n",
      "  4%|▍         | 17/450 [01:06<30:37,  4.24s/it]\u001b[A"
     ]
    },
    {
     "name": "stdout",
     "output_type": "stream",
     "text": [
      "{'loss': 1.4851, 'learning_rate': 1.7e-05, 'epoch': 0.19}\n"
     ]
    },
    {
     "name": "stderr",
     "output_type": "stream",
     "text": [
      "\n",
      "                                               ]\u001b[A\n",
      "  0%|          | 1/450 [02:02<27:06,  3.62s/it] \n",
      "  4%|▍         | 18/450 [01:10<29:31,  4.10s/it]\u001b[A"
     ]
    },
    {
     "name": "stdout",
     "output_type": "stream",
     "text": [
      "{'loss': 1.3235, 'learning_rate': 1.8e-05, 'epoch': 0.2}\n"
     ]
    },
    {
     "name": "stderr",
     "output_type": "stream",
     "text": [
      "\n",
      "                                               ]\u001b[A\n",
      "  0%|          | 1/450 [02:06<27:06,  3.62s/it] \n",
      "  4%|▍         | 19/450 [01:14<29:21,  4.09s/it]\u001b[A"
     ]
    },
    {
     "name": "stdout",
     "output_type": "stream",
     "text": [
      "{'loss': 1.3674, 'learning_rate': 1.9e-05, 'epoch': 0.21}\n"
     ]
    },
    {
     "name": "stderr",
     "output_type": "stream",
     "text": [
      "\n",
      "                                               ]\u001b[A\n",
      "  0%|          | 1/450 [02:10<27:06,  3.62s/it] \n",
      "  4%|▍         | 20/450 [01:18<28:06,  3.92s/it]\u001b[A"
     ]
    },
    {
     "name": "stdout",
     "output_type": "stream",
     "text": [
      "{'loss': 1.3619, 'learning_rate': 2e-05, 'epoch': 0.22}\n"
     ]
    },
    {
     "name": "stderr",
     "output_type": "stream",
     "text": [
      "\n",
      "                                               ]\u001b[A\n",
      "  0%|          | 1/450 [02:13<27:06,  3.62s/it] \n",
      "  5%|▍         | 21/450 [01:21<26:25,  3.70s/it]\u001b[A"
     ]
    },
    {
     "name": "stdout",
     "output_type": "stream",
     "text": [
      "{'loss': 1.3814, 'learning_rate': 2e-05, 'epoch': 0.23}\n"
     ]
    },
    {
     "name": "stderr",
     "output_type": "stream",
     "text": [
      "\n",
      "                                               ]\u001b[A\n",
      "  0%|          | 1/450 [02:16<27:06,  3.62s/it] \n",
      "  5%|▍         | 22/450 [01:24<26:07,  3.66s/it]\u001b[A"
     ]
    },
    {
     "name": "stdout",
     "output_type": "stream",
     "text": [
      "{'loss': 1.3902, 'learning_rate': 2e-05, 'epoch': 0.24}\n"
     ]
    },
    {
     "name": "stderr",
     "output_type": "stream",
     "text": [
      "\n",
      "                                               ]\u001b[A\n",
      "  0%|          | 1/450 [02:20<27:06,  3.62s/it] \n",
      "  5%|▌         | 23/450 [01:28<25:37,  3.60s/it]\u001b[A"
     ]
    },
    {
     "name": "stdout",
     "output_type": "stream",
     "text": [
      "{'loss': 1.4724, 'learning_rate': 2e-05, 'epoch': 0.26}\n"
     ]
    },
    {
     "name": "stderr",
     "output_type": "stream",
     "text": [
      "\n",
      "                                               ]\u001b[A\n",
      "  0%|          | 1/450 [02:27<27:06,  3.62s/it] \n",
      "  5%|▌         | 24/450 [01:34<32:02,  4.51s/it]\u001b[A"
     ]
    },
    {
     "name": "stdout",
     "output_type": "stream",
     "text": [
      "{'loss': 1.4082, 'learning_rate': 2e-05, 'epoch': 0.27}\n"
     ]
    },
    {
     "name": "stderr",
     "output_type": "stream",
     "text": [
      "\n",
      "                                               ]\u001b[A\n",
      "  0%|          | 1/450 [02:30<27:06,  3.62s/it] \n",
      "  6%|▌         | 25/450 [01:38<30:03,  4.24s/it]\u001b[A"
     ]
    },
    {
     "name": "stdout",
     "output_type": "stream",
     "text": [
      "{'loss': 1.4753, 'learning_rate': 2e-05, 'epoch': 0.28}\n"
     ]
    },
    {
     "name": "stderr",
     "output_type": "stream",
     "text": [
      "\n",
      "                                               ]\u001b[A\n",
      "  0%|          | 1/450 [02:34<27:06,  3.62s/it] \n",
      "  6%|▌         | 26/450 [01:42<30:00,  4.25s/it]\u001b[A"
     ]
    },
    {
     "name": "stdout",
     "output_type": "stream",
     "text": [
      "{'loss': 1.3142, 'learning_rate': 2e-05, 'epoch': 0.29}\n"
     ]
    },
    {
     "name": "stderr",
     "output_type": "stream",
     "text": [
      "\n",
      "                                               ]\u001b[A\n",
      "  0%|          | 1/450 [02:39<27:06,  3.62s/it] \n",
      "  6%|▌         | 27/450 [01:47<30:35,  4.34s/it]\u001b[A"
     ]
    },
    {
     "name": "stdout",
     "output_type": "stream",
     "text": [
      "{'loss': 1.3124, 'learning_rate': 2e-05, 'epoch': 0.3}\n"
     ]
    },
    {
     "name": "stderr",
     "output_type": "stream",
     "text": [
      "\n",
      "                                               ]\u001b[A\n",
      "  0%|          | 1/450 [02:43<27:06,  3.62s/it] \n",
      "  6%|▌         | 28/450 [01:51<29:08,  4.14s/it]\u001b[A"
     ]
    },
    {
     "name": "stdout",
     "output_type": "stream",
     "text": [
      "{'loss': 1.3489, 'learning_rate': 2e-05, 'epoch': 0.31}\n"
     ]
    },
    {
     "name": "stderr",
     "output_type": "stream",
     "text": [
      "\n",
      "                                               ]\u001b[A\n",
      "  0%|          | 1/450 [02:47<27:06,  3.62s/it] \n",
      "  6%|▋         | 29/450 [01:55<30:05,  4.29s/it]\u001b[A"
     ]
    },
    {
     "name": "stdout",
     "output_type": "stream",
     "text": [
      "{'loss': 1.3424, 'learning_rate': 2e-05, 'epoch': 0.32}\n"
     ]
    },
    {
     "name": "stderr",
     "output_type": "stream",
     "text": [
      "\n",
      "                                               ]\u001b[A\n",
      "  0%|          | 1/450 [02:51<27:06,  3.62s/it] \n",
      "  7%|▋         | 30/450 [01:59<28:44,  4.11s/it]\u001b[A"
     ]
    },
    {
     "name": "stdout",
     "output_type": "stream",
     "text": [
      "{'loss': 1.4087, 'learning_rate': 2e-05, 'epoch': 0.33}\n"
     ]
    },
    {
     "name": "stderr",
     "output_type": "stream",
     "text": [
      "\n",
      "                                               ]\u001b[A\n",
      "  0%|          | 1/450 [02:55<27:06,  3.62s/it] \n",
      "  7%|▋         | 31/450 [02:03<28:23,  4.06s/it]\u001b[A"
     ]
    },
    {
     "name": "stdout",
     "output_type": "stream",
     "text": [
      "{'loss': 1.4061, 'learning_rate': 2e-05, 'epoch': 0.34}\n"
     ]
    },
    {
     "name": "stderr",
     "output_type": "stream",
     "text": [
      "\n",
      "                                               ]\u001b[A\n",
      "  0%|          | 1/450 [02:59<27:06,  3.62s/it] \n",
      "  7%|▋         | 32/450 [02:07<29:09,  4.19s/it]\u001b[A"
     ]
    },
    {
     "name": "stdout",
     "output_type": "stream",
     "text": [
      "{'loss': 1.4727, 'learning_rate': 2e-05, 'epoch': 0.36}\n"
     ]
    },
    {
     "name": "stderr",
     "output_type": "stream",
     "text": [
      "\n",
      "                                               ]\u001b[A\n",
      "  0%|          | 1/450 [03:03<27:06,  3.62s/it] \n",
      "  7%|▋         | 33/450 [02:11<27:08,  3.91s/it]\u001b[A"
     ]
    },
    {
     "name": "stdout",
     "output_type": "stream",
     "text": [
      "{'loss': 1.3032, 'learning_rate': 2e-05, 'epoch': 0.37}\n"
     ]
    },
    {
     "name": "stderr",
     "output_type": "stream",
     "text": [
      "\n",
      "                                               ]\u001b[A\n",
      "  0%|          | 1/450 [03:07<27:06,  3.62s/it] \n",
      "  8%|▊         | 34/450 [02:14<27:08,  3.91s/it]\u001b[A"
     ]
    },
    {
     "name": "stdout",
     "output_type": "stream",
     "text": [
      "{'loss': 1.3527, 'learning_rate': 2e-05, 'epoch': 0.38}\n"
     ]
    },
    {
     "name": "stderr",
     "output_type": "stream",
     "text": [
      "\n",
      "                                               ]\u001b[A\n",
      "  0%|          | 1/450 [03:11<27:06,  3.62s/it] \n",
      "  8%|▊         | 35/450 [02:19<28:20,  4.10s/it]\u001b[A"
     ]
    },
    {
     "name": "stdout",
     "output_type": "stream",
     "text": [
      "{'loss': 1.4014, 'learning_rate': 2e-05, 'epoch': 0.39}\n"
     ]
    },
    {
     "name": "stderr",
     "output_type": "stream",
     "text": [
      "\n",
      "                                               ]\u001b[A\n",
      "  0%|          | 1/450 [03:15<27:06,  3.62s/it] \n",
      "  8%|▊         | 36/450 [02:23<27:23,  3.97s/it]\u001b[A"
     ]
    },
    {
     "name": "stdout",
     "output_type": "stream",
     "text": [
      "{'loss': 1.3887, 'learning_rate': 2e-05, 'epoch': 0.4}\n"
     ]
    },
    {
     "name": "stderr",
     "output_type": "stream",
     "text": [
      "\n",
      "                                               ]\u001b[A\n",
      "  0%|          | 1/450 [03:18<27:06,  3.62s/it] \n",
      "  8%|▊         | 37/450 [02:26<25:50,  3.75s/it]\u001b[A"
     ]
    },
    {
     "name": "stdout",
     "output_type": "stream",
     "text": [
      "{'loss': 1.3897, 'learning_rate': 2e-05, 'epoch': 0.41}\n"
     ]
    },
    {
     "name": "stderr",
     "output_type": "stream",
     "text": [
      "\n",
      "                                               ]\u001b[A\n",
      "  0%|          | 1/450 [03:21<27:06,  3.62s/it] \n",
      "  8%|▊         | 38/450 [02:29<25:07,  3.66s/it]\u001b[A"
     ]
    },
    {
     "name": "stdout",
     "output_type": "stream",
     "text": [
      "{'loss': 1.3574, 'learning_rate': 2e-05, 'epoch': 0.42}\n"
     ]
    },
    {
     "name": "stderr",
     "output_type": "stream",
     "text": [
      "\n",
      "                                               ]\u001b[A\n",
      "  0%|          | 1/450 [03:25<27:06,  3.62s/it] \n",
      "  9%|▊         | 39/450 [02:33<24:50,  3.63s/it]\u001b[A"
     ]
    },
    {
     "name": "stdout",
     "output_type": "stream",
     "text": [
      "{'loss': 1.4434, 'learning_rate': 2e-05, 'epoch': 0.43}\n"
     ]
    },
    {
     "name": "stderr",
     "output_type": "stream",
     "text": [
      "\n",
      "                                               ]\u001b[A\n",
      "  0%|          | 1/450 [03:30<27:06,  3.62s/it] \n",
      "  9%|▉         | 40/450 [02:38<28:00,  4.10s/it]\u001b[A"
     ]
    },
    {
     "name": "stdout",
     "output_type": "stream",
     "text": [
      "{'loss': 1.2705, 'learning_rate': 2e-05, 'epoch': 0.44}\n"
     ]
    },
    {
     "name": "stderr",
     "output_type": "stream",
     "text": [
      "\n",
      "                                               ]\u001b[A\n",
      "  0%|          | 1/450 [03:34<27:06,  3.62s/it] \n",
      "  9%|▉         | 41/450 [02:42<27:06,  3.98s/it]\u001b[A"
     ]
    },
    {
     "name": "stdout",
     "output_type": "stream",
     "text": [
      "{'loss': 1.4504, 'learning_rate': 2e-05, 'epoch': 0.46}\n"
     ]
    },
    {
     "name": "stderr",
     "output_type": "stream",
     "text": [
      "\n",
      "                                               ]\u001b[A\n",
      "  0%|          | 1/450 [03:37<27:06,  3.62s/it] \n",
      "  9%|▉         | 42/450 [02:45<25:41,  3.78s/it]\u001b[A"
     ]
    },
    {
     "name": "stdout",
     "output_type": "stream",
     "text": [
      "{'loss': 1.5292, 'learning_rate': 2e-05, 'epoch': 0.47}\n"
     ]
    },
    {
     "name": "stderr",
     "output_type": "stream",
     "text": [
      "\n",
      "                                               ]\u001b[A\n",
      "  0%|          | 1/450 [03:42<27:06,  3.62s/it] \n",
      " 10%|▉         | 43/450 [02:50<27:05,  3.99s/it]\u001b[A"
     ]
    },
    {
     "name": "stdout",
     "output_type": "stream",
     "text": [
      "{'loss': 1.3911, 'learning_rate': 2e-05, 'epoch': 0.48}\n"
     ]
    },
    {
     "name": "stderr",
     "output_type": "stream",
     "text": [
      "\n",
      "                                               ]\u001b[A\n",
      "  0%|          | 1/450 [03:46<27:06,  3.62s/it] \n",
      " 10%|▉         | 44/450 [02:54<26:57,  3.98s/it]\u001b[A"
     ]
    },
    {
     "name": "stdout",
     "output_type": "stream",
     "text": [
      "{'loss': 1.2904, 'learning_rate': 2e-05, 'epoch': 0.49}\n"
     ]
    },
    {
     "name": "stderr",
     "output_type": "stream",
     "text": [
      "\n",
      "                                               ]\u001b[A\n",
      "  0%|          | 1/450 [03:49<27:06,  3.62s/it] \n",
      " 10%|█         | 45/450 [02:57<26:31,  3.93s/it]\u001b[A"
     ]
    },
    {
     "name": "stdout",
     "output_type": "stream",
     "text": [
      "{'loss': 1.3152, 'learning_rate': 2e-05, 'epoch': 0.5}\n"
     ]
    },
    {
     "name": "stderr",
     "output_type": "stream",
     "text": [
      "\n",
      "                                               ]\u001b[A\n",
      "  0%|          | 1/450 [03:53<27:06,  3.62s/it] \n",
      " 10%|█         | 46/450 [03:01<25:06,  3.73s/it]\u001b[A"
     ]
    },
    {
     "name": "stdout",
     "output_type": "stream",
     "text": [
      "{'loss': 1.2907, 'learning_rate': 2e-05, 'epoch': 0.51}\n"
     ]
    },
    {
     "name": "stderr",
     "output_type": "stream",
     "text": [
      "\n",
      "                                               ]\u001b[A\n",
      "  0%|          | 1/450 [03:57<27:06,  3.62s/it] \n",
      " 10%|█         | 47/450 [03:05<25:39,  3.82s/it]\u001b[A"
     ]
    },
    {
     "name": "stdout",
     "output_type": "stream",
     "text": [
      "{'loss': 1.3705, 'learning_rate': 2e-05, 'epoch': 0.52}\n"
     ]
    },
    {
     "name": "stderr",
     "output_type": "stream",
     "text": [
      "\n",
      "                                               ]\u001b[A\n",
      "  0%|          | 1/450 [04:01<27:06,  3.62s/it] \n",
      " 11%|█         | 48/450 [03:09<26:54,  4.02s/it]\u001b[A"
     ]
    },
    {
     "name": "stdout",
     "output_type": "stream",
     "text": [
      "{'loss': 1.3643, 'learning_rate': 2e-05, 'epoch': 0.53}\n"
     ]
    },
    {
     "name": "stderr",
     "output_type": "stream",
     "text": [
      "\n",
      "                                               ]\u001b[A\n",
      "  0%|          | 1/450 [04:05<27:06,  3.62s/it] \n",
      " 11%|█         | 49/450 [03:13<26:16,  3.93s/it]\u001b[A"
     ]
    },
    {
     "name": "stdout",
     "output_type": "stream",
     "text": [
      "{'loss': 1.4056, 'learning_rate': 2e-05, 'epoch': 0.54}\n"
     ]
    },
    {
     "name": "stderr",
     "output_type": "stream",
     "text": [
      "\n",
      "                                               ]\u001b[A\n",
      "  0%|          | 1/450 [04:08<27:06,  3.62s/it] \n",
      " 11%|█         | 50/450 [03:16<25:10,  3.78s/it]\u001b[A"
     ]
    },
    {
     "name": "stdout",
     "output_type": "stream",
     "text": [
      "{'loss': 1.502, 'learning_rate': 2e-05, 'epoch': 0.56}\n"
     ]
    },
    {
     "name": "stderr",
     "output_type": "stream",
     "text": [
      "\n",
      "                                               ]\u001b[A\n",
      "  0%|          | 1/450 [04:12<27:06,  3.62s/it] \n",
      " 11%|█▏        | 51/450 [03:20<24:33,  3.69s/it]\u001b[A"
     ]
    },
    {
     "name": "stdout",
     "output_type": "stream",
     "text": [
      "{'loss': 1.4266, 'learning_rate': 2e-05, 'epoch': 0.57}\n"
     ]
    },
    {
     "name": "stderr",
     "output_type": "stream",
     "text": [
      "\n",
      "                                               ]\u001b[A\n",
      "  0%|          | 1/450 [04:16<27:06,  3.62s/it] \n",
      " 12%|█▏        | 52/450 [03:23<24:34,  3.70s/it]\u001b[A"
     ]
    },
    {
     "name": "stdout",
     "output_type": "stream",
     "text": [
      "{'loss': 1.3296, 'learning_rate': 2e-05, 'epoch': 0.58}\n"
     ]
    },
    {
     "name": "stderr",
     "output_type": "stream",
     "text": [
      "\n",
      "                                               ]\u001b[A\n",
      "  0%|          | 1/450 [04:20<27:06,  3.62s/it] \n",
      " 12%|█▏        | 53/450 [03:27<25:00,  3.78s/it]\u001b[A"
     ]
    },
    {
     "name": "stdout",
     "output_type": "stream",
     "text": [
      "{'loss': 1.3355, 'learning_rate': 2e-05, 'epoch': 0.59}\n"
     ]
    },
    {
     "name": "stderr",
     "output_type": "stream",
     "text": [
      "\n",
      "                                               ]\u001b[A\n",
      "  0%|          | 1/450 [04:25<27:06,  3.62s/it] \n",
      " 12%|█▏        | 54/450 [03:33<28:02,  4.25s/it]\u001b[A"
     ]
    },
    {
     "name": "stdout",
     "output_type": "stream",
     "text": [
      "{'loss': 1.3942, 'learning_rate': 2e-05, 'epoch': 0.6}\n"
     ]
    },
    {
     "name": "stderr",
     "output_type": "stream",
     "text": [
      "\n",
      "                                               ]\u001b[A\n",
      "  0%|          | 1/450 [04:29<27:06,  3.62s/it] \n",
      " 12%|█▏        | 55/450 [03:36<26:51,  4.08s/it]\u001b[A"
     ]
    },
    {
     "name": "stdout",
     "output_type": "stream",
     "text": [
      "{'loss': 1.3474, 'learning_rate': 2e-05, 'epoch': 0.61}\n"
     ]
    },
    {
     "name": "stderr",
     "output_type": "stream",
     "text": [
      "\n",
      "                                               ]\u001b[A\n",
      "  0%|          | 1/450 [04:33<27:06,  3.62s/it] \n",
      " 12%|█▏        | 56/450 [03:41<27:26,  4.18s/it]\u001b[A"
     ]
    },
    {
     "name": "stdout",
     "output_type": "stream",
     "text": [
      "{'loss': 1.3985, 'learning_rate': 2e-05, 'epoch': 0.62}\n"
     ]
    },
    {
     "name": "stderr",
     "output_type": "stream",
     "text": [
      "\n",
      "                                               ]\u001b[A\n",
      "  0%|          | 1/450 [04:37<27:06,  3.62s/it] \n",
      " 13%|█▎        | 57/450 [03:45<26:40,  4.07s/it]\u001b[A"
     ]
    },
    {
     "name": "stdout",
     "output_type": "stream",
     "text": [
      "{'loss': 1.4883, 'learning_rate': 2e-05, 'epoch': 0.63}\n"
     ]
    },
    {
     "name": "stderr",
     "output_type": "stream",
     "text": [
      "\n",
      "                                               ]\u001b[A\n",
      "  0%|          | 1/450 [04:41<27:06,  3.62s/it] \n",
      " 13%|█▎        | 58/450 [03:49<26:20,  4.03s/it]\u001b[A"
     ]
    },
    {
     "name": "stdout",
     "output_type": "stream",
     "text": [
      "{'loss': 1.1958, 'learning_rate': 2e-05, 'epoch': 0.64}\n"
     ]
    },
    {
     "name": "stderr",
     "output_type": "stream",
     "text": [
      "\n",
      "                                               ]\u001b[A\n",
      "  0%|          | 1/450 [04:45<27:06,  3.62s/it] \n",
      " 13%|█▎        | 59/450 [03:53<26:49,  4.12s/it]\u001b[A"
     ]
    },
    {
     "name": "stdout",
     "output_type": "stream",
     "text": [
      "{'loss': 1.5296, 'learning_rate': 2e-05, 'epoch': 0.66}\n"
     ]
    },
    {
     "name": "stderr",
     "output_type": "stream",
     "text": [
      "\n",
      "                                               ]\u001b[A\n",
      "  0%|          | 1/450 [04:49<27:06,  3.62s/it] \n",
      " 13%|█▎        | 60/450 [03:57<25:46,  3.97s/it]\u001b[A"
     ]
    },
    {
     "name": "stdout",
     "output_type": "stream",
     "text": [
      "{'loss': 1.3338, 'learning_rate': 2e-05, 'epoch': 0.67}\n"
     ]
    },
    {
     "name": "stderr",
     "output_type": "stream",
     "text": [
      "\n",
      "                                               ]\u001b[A\n",
      "  0%|          | 1/450 [04:53<27:06,  3.62s/it] \n",
      " 14%|█▎        | 61/450 [04:01<25:45,  3.97s/it]\u001b[A"
     ]
    },
    {
     "name": "stdout",
     "output_type": "stream",
     "text": [
      "{'loss': 1.2165, 'learning_rate': 2e-05, 'epoch': 0.68}\n"
     ]
    },
    {
     "name": "stderr",
     "output_type": "stream",
     "text": [
      "\n",
      "                                               ]\u001b[A\n",
      "  0%|          | 1/450 [04:57<27:06,  3.62s/it] \n",
      " 14%|█▍        | 62/450 [04:05<26:02,  4.03s/it]\u001b[A"
     ]
    },
    {
     "name": "stdout",
     "output_type": "stream",
     "text": [
      "{'loss': 1.3481, 'learning_rate': 2e-05, 'epoch': 0.69}\n"
     ]
    },
    {
     "name": "stderr",
     "output_type": "stream",
     "text": [
      "\n",
      "                                               ]\u001b[A\n",
      "  0%|          | 1/450 [05:01<27:06,  3.62s/it] \n",
      " 14%|█▍        | 63/450 [04:09<26:27,  4.10s/it]\u001b[A"
     ]
    },
    {
     "name": "stdout",
     "output_type": "stream",
     "text": [
      "{'loss': 1.3667, 'learning_rate': 2e-05, 'epoch': 0.7}\n"
     ]
    },
    {
     "name": "stderr",
     "output_type": "stream",
     "text": [
      "\n",
      "                                               ]\u001b[A\n",
      "  0%|          | 1/450 [05:09<27:06,  3.62s/it] \n",
      " 14%|█▍        | 64/450 [04:17<33:21,  5.18s/it]\u001b[A"
     ]
    },
    {
     "name": "stdout",
     "output_type": "stream",
     "text": [
      "{'loss': 1.3844, 'learning_rate': 2e-05, 'epoch': 0.71}\n"
     ]
    },
    {
     "name": "stderr",
     "output_type": "stream",
     "text": [
      "\n",
      "                                               ]\u001b[A\n",
      "  0%|          | 1/450 [05:13<27:06,  3.62s/it] \n",
      " 14%|█▍        | 65/450 [04:21<31:58,  4.98s/it]\u001b[A"
     ]
    },
    {
     "name": "stdout",
     "output_type": "stream",
     "text": [
      "{'loss': 1.3475, 'learning_rate': 2e-05, 'epoch': 0.72}\n"
     ]
    },
    {
     "name": "stderr",
     "output_type": "stream",
     "text": [
      "\n",
      "                                               ]\u001b[A\n",
      "  0%|          | 1/450 [05:18<27:06,  3.62s/it] \n",
      " 15%|█▍        | 66/450 [04:26<31:15,  4.88s/it]\u001b[A"
     ]
    },
    {
     "name": "stdout",
     "output_type": "stream",
     "text": [
      "{'loss': 1.3695, 'learning_rate': 2e-05, 'epoch': 0.73}\n"
     ]
    },
    {
     "name": "stderr",
     "output_type": "stream",
     "text": [
      "\n",
      "                                               ]\u001b[A\n",
      "  0%|          | 1/450 [05:22<27:06,  3.62s/it] \n",
      " 15%|█▍        | 67/450 [04:30<30:18,  4.75s/it]\u001b[A"
     ]
    },
    {
     "name": "stdout",
     "output_type": "stream",
     "text": [
      "{'loss': 1.212, 'learning_rate': 2e-05, 'epoch': 0.74}\n"
     ]
    },
    {
     "name": "stderr",
     "output_type": "stream",
     "text": [
      "\n",
      "                                               ]\u001b[A\n",
      "  0%|          | 1/450 [05:26<27:06,  3.62s/it] \n",
      " 15%|█▌        | 68/450 [04:33<27:05,  4.26s/it]\u001b[A"
     ]
    },
    {
     "name": "stdout",
     "output_type": "stream",
     "text": [
      "{'loss': 1.2033, 'learning_rate': 2e-05, 'epoch': 0.76}\n"
     ]
    },
    {
     "name": "stderr",
     "output_type": "stream",
     "text": [
      "\n",
      "                                               ]\u001b[A\n",
      "  0%|          | 1/450 [05:29<27:06,  3.62s/it] \n",
      " 15%|█▌        | 69/450 [04:37<25:43,  4.05s/it]\u001b[A"
     ]
    },
    {
     "name": "stdout",
     "output_type": "stream",
     "text": [
      "{'loss': 1.3812, 'learning_rate': 2e-05, 'epoch': 0.77}\n"
     ]
    },
    {
     "name": "stderr",
     "output_type": "stream",
     "text": [
      "\n",
      "                                               ]\u001b[A\n",
      "  0%|          | 1/450 [05:32<27:06,  3.62s/it] \n",
      " 16%|█▌        | 70/450 [04:40<24:04,  3.80s/it]\u001b[A"
     ]
    },
    {
     "name": "stdout",
     "output_type": "stream",
     "text": [
      "{'loss': 1.5949, 'learning_rate': 2e-05, 'epoch': 0.78}\n"
     ]
    },
    {
     "name": "stderr",
     "output_type": "stream",
     "text": [
      "\n",
      "                                               ]\u001b[A\n",
      "  0%|          | 1/450 [05:37<27:06,  3.62s/it] \n",
      " 16%|█▌        | 71/450 [04:44<24:49,  3.93s/it]\u001b[A"
     ]
    },
    {
     "name": "stdout",
     "output_type": "stream",
     "text": [
      "{'loss': 1.3994, 'learning_rate': 2e-05, 'epoch': 0.79}\n"
     ]
    },
    {
     "name": "stderr",
     "output_type": "stream",
     "text": [
      "\n",
      "                                               ]\u001b[A\n",
      "  0%|          | 1/450 [05:41<27:06,  3.62s/it] \n",
      " 16%|█▌        | 72/450 [04:49<25:47,  4.09s/it]\u001b[A"
     ]
    },
    {
     "name": "stdout",
     "output_type": "stream",
     "text": [
      "{'loss': 1.3861, 'learning_rate': 2e-05, 'epoch': 0.8}\n"
     ]
    },
    {
     "name": "stderr",
     "output_type": "stream",
     "text": [
      "\n",
      "                                               ]\u001b[A\n",
      "  0%|          | 1/450 [05:46<27:06,  3.62s/it] \n",
      " 16%|█▌        | 73/450 [04:54<28:17,  4.50s/it]\u001b[A"
     ]
    },
    {
     "name": "stdout",
     "output_type": "stream",
     "text": [
      "{'loss': 1.2532, 'learning_rate': 2e-05, 'epoch': 0.81}\n"
     ]
    },
    {
     "name": "stderr",
     "output_type": "stream",
     "text": [
      "\n",
      "                                               ]\u001b[A\n",
      "  0%|          | 1/450 [05:51<27:06,  3.62s/it] \n",
      " 16%|█▋        | 74/450 [04:59<27:38,  4.41s/it]\u001b[A"
     ]
    },
    {
     "name": "stdout",
     "output_type": "stream",
     "text": [
      "{'loss': 1.3334, 'learning_rate': 2e-05, 'epoch': 0.82}\n"
     ]
    },
    {
     "name": "stderr",
     "output_type": "stream",
     "text": [
      "\n",
      "                                               ]\u001b[A\n",
      "  0%|          | 1/450 [05:55<27:06,  3.62s/it] \n",
      " 17%|█▋        | 75/450 [05:03<28:06,  4.50s/it]\u001b[A"
     ]
    },
    {
     "name": "stdout",
     "output_type": "stream",
     "text": [
      "{'loss': 1.3905, 'learning_rate': 2e-05, 'epoch': 0.83}\n"
     ]
    },
    {
     "name": "stderr",
     "output_type": "stream",
     "text": [
      "\n",
      "                                               ]\u001b[A\n",
      "  0%|          | 1/450 [05:59<27:06,  3.62s/it] \n",
      " 17%|█▋        | 76/450 [05:07<25:46,  4.14s/it]\u001b[A"
     ]
    },
    {
     "name": "stdout",
     "output_type": "stream",
     "text": [
      "{'loss': 1.2549, 'learning_rate': 2e-05, 'epoch': 0.84}\n"
     ]
    },
    {
     "name": "stderr",
     "output_type": "stream",
     "text": [
      "\n",
      "                                               ]\u001b[A\n",
      "  0%|          | 1/450 [06:02<27:06,  3.62s/it] \n",
      " 17%|█▋        | 77/450 [05:10<24:10,  3.89s/it]\u001b[A"
     ]
    },
    {
     "name": "stdout",
     "output_type": "stream",
     "text": [
      "{'loss': 1.3188, 'learning_rate': 2e-05, 'epoch': 0.86}\n"
     ]
    },
    {
     "name": "stderr",
     "output_type": "stream",
     "text": [
      "\n",
      "                                               ]\u001b[A\n",
      "  0%|          | 1/450 [06:06<27:06,  3.62s/it] \n",
      " 17%|█▋        | 78/450 [05:14<23:54,  3.86s/it]\u001b[A"
     ]
    },
    {
     "name": "stdout",
     "output_type": "stream",
     "text": [
      "{'loss': 1.2879, 'learning_rate': 2e-05, 'epoch': 0.87}\n"
     ]
    },
    {
     "name": "stderr",
     "output_type": "stream",
     "text": [
      "\n",
      "                                               ]\u001b[A\n",
      "  0%|          | 1/450 [06:11<27:06,  3.62s/it] \n",
      " 18%|█▊        | 79/450 [05:19<26:05,  4.22s/it]\u001b[A"
     ]
    },
    {
     "name": "stdout",
     "output_type": "stream",
     "text": [
      "{'loss': 1.3814, 'learning_rate': 2e-05, 'epoch': 0.88}\n"
     ]
    },
    {
     "name": "stderr",
     "output_type": "stream",
     "text": [
      "\n",
      "                                               ]\u001b[A\n",
      "  0%|          | 1/450 [06:14<27:06,  3.62s/it] \n",
      " 18%|█▊        | 80/450 [05:22<24:05,  3.91s/it]\u001b[A"
     ]
    },
    {
     "name": "stdout",
     "output_type": "stream",
     "text": [
      "{'loss': 1.4786, 'learning_rate': 2e-05, 'epoch': 0.89}\n"
     ]
    },
    {
     "name": "stderr",
     "output_type": "stream",
     "text": [
      "\n",
      "                                               ]\u001b[A\n",
      "  0%|          | 1/450 [06:18<27:06,  3.62s/it] \n",
      " 18%|█▊        | 81/450 [05:26<24:24,  3.97s/it]\u001b[A"
     ]
    },
    {
     "name": "stdout",
     "output_type": "stream",
     "text": [
      "{'loss': 1.2379, 'learning_rate': 2e-05, 'epoch': 0.9}\n"
     ]
    },
    {
     "name": "stderr",
     "output_type": "stream",
     "text": [
      "\n",
      "                                               ]\u001b[A\n",
      "  0%|          | 1/450 [06:22<27:06,  3.62s/it] \n",
      " 18%|█▊        | 82/450 [05:30<23:53,  3.89s/it]\u001b[A"
     ]
    },
    {
     "name": "stdout",
     "output_type": "stream",
     "text": [
      "{'loss': 1.2746, 'learning_rate': 2e-05, 'epoch': 0.91}\n"
     ]
    },
    {
     "name": "stderr",
     "output_type": "stream",
     "text": [
      "\n",
      "                                               ]\u001b[A\n",
      "  0%|          | 1/450 [06:25<27:06,  3.62s/it] \n",
      " 18%|█▊        | 83/450 [05:33<22:28,  3.67s/it]\u001b[A"
     ]
    },
    {
     "name": "stdout",
     "output_type": "stream",
     "text": [
      "{'loss': 1.341, 'learning_rate': 2e-05, 'epoch': 0.92}\n"
     ]
    },
    {
     "name": "stderr",
     "output_type": "stream",
     "text": [
      "\n",
      "                                               ]\u001b[A\n",
      "  0%|          | 1/450 [06:29<27:06,  3.62s/it] \n",
      " 19%|█▊        | 84/450 [05:37<23:02,  3.78s/it]\u001b[A"
     ]
    },
    {
     "name": "stdout",
     "output_type": "stream",
     "text": [
      "{'loss': 1.4664, 'learning_rate': 2e-05, 'epoch': 0.93}\n"
     ]
    },
    {
     "name": "stderr",
     "output_type": "stream",
     "text": [
      "\n",
      "                                               ]\u001b[A\n",
      "  0%|          | 1/450 [06:32<27:06,  3.62s/it] \n",
      " 19%|█▉        | 85/450 [05:40<22:12,  3.65s/it]\u001b[A"
     ]
    },
    {
     "name": "stdout",
     "output_type": "stream",
     "text": [
      "{'loss': 1.2359, 'learning_rate': 2e-05, 'epoch': 0.94}\n"
     ]
    },
    {
     "name": "stderr",
     "output_type": "stream",
     "text": [
      "\n",
      "                                               ]\u001b[A\n",
      "  0%|          | 1/450 [06:36<27:06,  3.62s/it] \n",
      " 19%|█▉        | 86/450 [05:44<22:15,  3.67s/it]\u001b[A"
     ]
    },
    {
     "name": "stdout",
     "output_type": "stream",
     "text": [
      "{'loss': 1.3863, 'learning_rate': 2e-05, 'epoch': 0.96}\n"
     ]
    },
    {
     "name": "stderr",
     "output_type": "stream",
     "text": [
      "\n",
      "                                               ]\u001b[A\n",
      "  0%|          | 1/450 [06:40<27:06,  3.62s/it] \n",
      " 19%|█▉        | 87/450 [05:48<23:30,  3.89s/it]\u001b[A"
     ]
    },
    {
     "name": "stdout",
     "output_type": "stream",
     "text": [
      "{'loss': 1.3409, 'learning_rate': 2e-05, 'epoch': 0.97}\n"
     ]
    },
    {
     "name": "stderr",
     "output_type": "stream",
     "text": [
      "\n",
      "                                               ]\u001b[A\n",
      "  0%|          | 1/450 [06:45<27:06,  3.62s/it] \n",
      " 20%|█▉        | 88/450 [05:53<23:57,  3.97s/it]\u001b[A"
     ]
    },
    {
     "name": "stdout",
     "output_type": "stream",
     "text": [
      "{'loss': 1.261, 'learning_rate': 2e-05, 'epoch': 0.98}\n"
     ]
    },
    {
     "name": "stderr",
     "output_type": "stream",
     "text": [
      "\n",
      "                                               ]\u001b[A\n",
      "  0%|          | 1/450 [06:49<27:06,  3.62s/it] \n",
      " 20%|█▉        | 89/450 [05:57<24:29,  4.07s/it]\u001b[A"
     ]
    },
    {
     "name": "stdout",
     "output_type": "stream",
     "text": [
      "{'loss': 1.4486, 'learning_rate': 2e-05, 'epoch': 0.99}\n"
     ]
    },
    {
     "name": "stderr",
     "output_type": "stream",
     "text": [
      "\n",
      "                                               ]\u001b[A\n",
      "  0%|          | 1/450 [06:52<27:06,  3.62s/it] \n",
      " 20%|██        | 90/450 [06:00<23:14,  3.87s/it]\u001b[A"
     ]
    },
    {
     "name": "stdout",
     "output_type": "stream",
     "text": [
      "{'loss': 1.3002, 'learning_rate': 2e-05, 'epoch': 1.0}\n"
     ]
    },
    {
     "name": "stderr",
     "output_type": "stream",
     "text": [
      "\n",
      "                                               ]\u001b[A\n",
      "  0%|          | 1/450 [06:56<27:06,  3.62s/it] \n",
      " 20%|██        | 91/450 [06:04<23:03,  3.85s/it]\u001b[A"
     ]
    },
    {
     "name": "stdout",
     "output_type": "stream",
     "text": [
      "{'loss': 1.3119, 'learning_rate': 2e-05, 'epoch': 1.01}\n"
     ]
    },
    {
     "name": "stderr",
     "output_type": "stream",
     "text": [
      "\n",
      "                                               ]\u001b[A\n",
      "  0%|          | 1/450 [07:00<27:06,  3.62s/it] \n",
      " 20%|██        | 92/450 [06:08<22:23,  3.75s/it]\u001b[A"
     ]
    },
    {
     "name": "stdout",
     "output_type": "stream",
     "text": [
      "{'loss': 1.3295, 'learning_rate': 2e-05, 'epoch': 1.02}\n"
     ]
    },
    {
     "name": "stderr",
     "output_type": "stream",
     "text": [
      "\n",
      "                                               ]\u001b[A\n",
      "  0%|          | 1/450 [07:03<27:06,  3.62s/it] \n",
      " 21%|██        | 93/450 [06:11<22:11,  3.73s/it]\u001b[A"
     ]
    },
    {
     "name": "stdout",
     "output_type": "stream",
     "text": [
      "{'loss': 1.3181, 'learning_rate': 2e-05, 'epoch': 1.03}\n"
     ]
    },
    {
     "name": "stderr",
     "output_type": "stream",
     "text": [
      "\n",
      "                                               ]\u001b[A\n",
      "  0%|          | 1/450 [07:07<27:06,  3.62s/it] \n",
      " 21%|██        | 94/450 [06:15<21:23,  3.61s/it]\u001b[A"
     ]
    },
    {
     "name": "stdout",
     "output_type": "stream",
     "text": [
      "{'loss': 1.2759, 'learning_rate': 2e-05, 'epoch': 1.04}\n"
     ]
    },
    {
     "name": "stderr",
     "output_type": "stream",
     "text": [
      "\n",
      "                                               ]\u001b[A\n",
      "  0%|          | 1/450 [07:11<27:06,  3.62s/it] \n",
      " 21%|██        | 95/450 [06:19<22:09,  3.74s/it]\u001b[A"
     ]
    },
    {
     "name": "stdout",
     "output_type": "stream",
     "text": [
      "{'loss': 1.309, 'learning_rate': 2e-05, 'epoch': 1.06}\n"
     ]
    },
    {
     "name": "stderr",
     "output_type": "stream",
     "text": [
      "\n",
      "                                               ]\u001b[A\n",
      "  0%|          | 1/450 [07:14<27:06,  3.62s/it] \n",
      " 21%|██▏       | 96/450 [06:22<21:24,  3.63s/it]\u001b[A"
     ]
    },
    {
     "name": "stdout",
     "output_type": "stream",
     "text": [
      "{'loss': 1.3587, 'learning_rate': 2e-05, 'epoch': 1.07}\n"
     ]
    },
    {
     "name": "stderr",
     "output_type": "stream",
     "text": [
      "\n",
      "                                               ]\u001b[A\n",
      "  0%|          | 1/450 [07:17<27:06,  3.62s/it] \n",
      " 22%|██▏       | 97/450 [06:25<20:41,  3.52s/it]\u001b[A"
     ]
    },
    {
     "name": "stdout",
     "output_type": "stream",
     "text": [
      "{'loss': 1.2882, 'learning_rate': 2e-05, 'epoch': 1.08}\n"
     ]
    },
    {
     "name": "stderr",
     "output_type": "stream",
     "text": [
      "\n",
      "                                               ]\u001b[A\n",
      "  0%|          | 1/450 [07:23<27:06,  3.62s/it] \n",
      " 22%|██▏       | 98/450 [06:31<24:52,  4.24s/it]\u001b[A"
     ]
    },
    {
     "name": "stdout",
     "output_type": "stream",
     "text": [
      "{'loss': 1.4208, 'learning_rate': 2e-05, 'epoch': 1.09}\n"
     ]
    },
    {
     "name": "stderr",
     "output_type": "stream",
     "text": [
      "\n",
      "                                               ]\u001b[A\n",
      "  0%|          | 1/450 [07:27<27:06,  3.62s/it] \n",
      " 22%|██▏       | 99/450 [06:35<23:23,  4.00s/it]\u001b[A"
     ]
    },
    {
     "name": "stdout",
     "output_type": "stream",
     "text": [
      "{'loss': 1.139, 'learning_rate': 2e-05, 'epoch': 1.1}\n"
     ]
    },
    {
     "name": "stderr",
     "output_type": "stream",
     "text": [
      "\n",
      "                                               t]\u001b[A\n",
      "  0%|          | 1/450 [07:30<27:06,  3.62s/it]  \n",
      " 22%|██▏       | 100/450 [06:38<22:00,  3.77s/it]\u001b[A"
     ]
    },
    {
     "name": "stdout",
     "output_type": "stream",
     "text": [
      "{'loss': 1.1894, 'learning_rate': 2e-05, 'epoch': 1.11}\n"
     ]
    },
    {
     "name": "stderr",
     "output_type": "stream",
     "text": [
      "\n",
      "                                               t]\u001b[A\n",
      "  0%|          | 1/450 [07:34<27:06,  3.62s/it]  \n",
      " 22%|██▏       | 101/450 [06:42<22:57,  3.95s/it]\u001b[A"
     ]
    },
    {
     "name": "stdout",
     "output_type": "stream",
     "text": [
      "{'loss': 1.3628, 'learning_rate': 2e-05, 'epoch': 1.12}\n"
     ]
    },
    {
     "name": "stderr",
     "output_type": "stream",
     "text": [
      "\n",
      "                                               t]\u001b[A\n",
      "  0%|          | 1/450 [07:39<27:06,  3.62s/it]  \n",
      " 23%|██▎       | 102/450 [06:47<24:40,  4.25s/it]\u001b[A"
     ]
    },
    {
     "name": "stdout",
     "output_type": "stream",
     "text": [
      "{'loss': 1.27, 'learning_rate': 2e-05, 'epoch': 1.13}\n"
     ]
    },
    {
     "name": "stderr",
     "output_type": "stream",
     "text": [
      "\n",
      "                                               t]\u001b[A\n",
      "  0%|          | 1/450 [07:43<27:06,  3.62s/it]  \n",
      " 23%|██▎       | 103/450 [06:51<23:25,  4.05s/it]\u001b[A"
     ]
    },
    {
     "name": "stdout",
     "output_type": "stream",
     "text": [
      "{'loss': 1.2595, 'learning_rate': 2e-05, 'epoch': 1.14}\n"
     ]
    },
    {
     "name": "stderr",
     "output_type": "stream",
     "text": [
      "\n",
      "                                               t]\u001b[A\n",
      "  0%|          | 1/450 [07:47<27:06,  3.62s/it]  \n",
      " 23%|██▎       | 104/450 [06:55<23:24,  4.06s/it]\u001b[A"
     ]
    },
    {
     "name": "stdout",
     "output_type": "stream",
     "text": [
      "{'loss': 1.33, 'learning_rate': 2e-05, 'epoch': 1.16}\n"
     ]
    },
    {
     "name": "stderr",
     "output_type": "stream",
     "text": [
      "\n",
      "                                               t]\u001b[A\n",
      "  0%|          | 1/450 [07:51<27:06,  3.62s/it]  \n",
      " 23%|██▎       | 105/450 [06:59<23:38,  4.11s/it]\u001b[A"
     ]
    },
    {
     "name": "stdout",
     "output_type": "stream",
     "text": [
      "{'loss': 1.4013, 'learning_rate': 2e-05, 'epoch': 1.17}\n"
     ]
    },
    {
     "name": "stderr",
     "output_type": "stream",
     "text": [
      "\n",
      "                                               t]\u001b[A\n",
      "  0%|          | 1/450 [07:55<27:06,  3.62s/it]  \n",
      " 24%|██▎       | 106/450 [07:02<22:22,  3.90s/it]\u001b[A"
     ]
    },
    {
     "name": "stdout",
     "output_type": "stream",
     "text": [
      "{'loss': 1.1994, 'learning_rate': 2e-05, 'epoch': 1.18}\n"
     ]
    },
    {
     "name": "stderr",
     "output_type": "stream",
     "text": [
      "\n",
      "                                               t]\u001b[A\n",
      "  0%|          | 1/450 [07:58<27:06,  3.62s/it]  \n",
      " 24%|██▍       | 107/450 [07:06<21:33,  3.77s/it]\u001b[A"
     ]
    },
    {
     "name": "stdout",
     "output_type": "stream",
     "text": [
      "{'loss': 1.3142, 'learning_rate': 2e-05, 'epoch': 1.19}\n"
     ]
    },
    {
     "name": "stderr",
     "output_type": "stream",
     "text": [
      "\n",
      "                                               t]\u001b[A\n",
      "  0%|          | 1/450 [08:02<27:06,  3.62s/it]  \n",
      " 24%|██▍       | 108/450 [07:10<21:40,  3.80s/it]\u001b[A"
     ]
    },
    {
     "name": "stdout",
     "output_type": "stream",
     "text": [
      "{'loss': 1.4185, 'learning_rate': 2e-05, 'epoch': 1.2}\n"
     ]
    },
    {
     "name": "stderr",
     "output_type": "stream",
     "text": [
      "\n",
      "                                               t]\u001b[A\n",
      "  0%|          | 1/450 [08:06<27:06,  3.62s/it]  \n",
      " 24%|██▍       | 109/450 [07:14<21:45,  3.83s/it]\u001b[A"
     ]
    },
    {
     "name": "stdout",
     "output_type": "stream",
     "text": [
      "{'loss': 1.2608, 'learning_rate': 2e-05, 'epoch': 1.21}\n"
     ]
    },
    {
     "name": "stderr",
     "output_type": "stream",
     "text": [
      "\n",
      "                                               t]\u001b[A\n",
      "  0%|          | 1/450 [08:10<27:06,  3.62s/it]  \n",
      " 24%|██▍       | 110/450 [07:17<21:37,  3.81s/it]\u001b[A"
     ]
    },
    {
     "name": "stdout",
     "output_type": "stream",
     "text": [
      "{'loss': 1.3811, 'learning_rate': 2e-05, 'epoch': 1.22}\n"
     ]
    },
    {
     "name": "stderr",
     "output_type": "stream",
     "text": [
      "\n",
      "                                               t]\u001b[A\n",
      "  0%|          | 1/450 [08:13<27:06,  3.62s/it]  \n",
      " 25%|██▍       | 111/450 [07:21<20:21,  3.60s/it]\u001b[A"
     ]
    },
    {
     "name": "stdout",
     "output_type": "stream",
     "text": [
      "{'loss': 1.3882, 'learning_rate': 2e-05, 'epoch': 1.23}\n"
     ]
    },
    {
     "name": "stderr",
     "output_type": "stream",
     "text": [
      "\n",
      "                                               t]\u001b[A\n",
      "  0%|          | 1/450 [08:16<27:06,  3.62s/it]  \n",
      " 25%|██▍       | 112/450 [07:24<20:18,  3.61s/it]\u001b[A"
     ]
    },
    {
     "name": "stdout",
     "output_type": "stream",
     "text": [
      "{'loss': 1.2802, 'learning_rate': 2e-05, 'epoch': 1.24}\n"
     ]
    },
    {
     "name": "stderr",
     "output_type": "stream",
     "text": [
      "\n",
      "                                               t]\u001b[A\n",
      "  0%|          | 1/450 [08:21<27:06,  3.62s/it]  \n",
      " 25%|██▌       | 113/450 [07:29<21:37,  3.85s/it]\u001b[A"
     ]
    },
    {
     "name": "stdout",
     "output_type": "stream",
     "text": [
      "{'loss': 1.1823, 'learning_rate': 2e-05, 'epoch': 1.26}\n"
     ]
    },
    {
     "name": "stderr",
     "output_type": "stream",
     "text": [
      "\n",
      "                                               t]\u001b[A\n",
      "  0%|          | 1/450 [08:24<27:06,  3.62s/it]  \n",
      " 25%|██▌       | 114/450 [07:32<20:38,  3.69s/it]\u001b[A"
     ]
    },
    {
     "name": "stdout",
     "output_type": "stream",
     "text": [
      "{'loss': 1.2833, 'learning_rate': 2e-05, 'epoch': 1.27}\n"
     ]
    },
    {
     "name": "stderr",
     "output_type": "stream",
     "text": [
      "\n",
      "                                               t]\u001b[A\n",
      "  0%|          | 1/450 [08:28<27:06,  3.62s/it]  \n",
      " 26%|██▌       | 115/450 [07:36<20:23,  3.65s/it]\u001b[A"
     ]
    },
    {
     "name": "stdout",
     "output_type": "stream",
     "text": [
      "{'loss': 1.4519, 'learning_rate': 2e-05, 'epoch': 1.28}\n"
     ]
    },
    {
     "name": "stderr",
     "output_type": "stream",
     "text": [
      "\n",
      "                                               t]\u001b[A\n",
      "  0%|          | 1/450 [08:33<27:06,  3.62s/it]  \n",
      " 26%|██▌       | 116/450 [07:40<22:23,  4.02s/it]\u001b[A"
     ]
    },
    {
     "name": "stdout",
     "output_type": "stream",
     "text": [
      "{'loss': 1.2855, 'learning_rate': 2e-05, 'epoch': 1.29}\n"
     ]
    },
    {
     "name": "stderr",
     "output_type": "stream",
     "text": [
      "\n",
      "                                               t]\u001b[A\n",
      "  0%|          | 1/450 [08:40<27:06,  3.62s/it]  \n",
      " 26%|██▌       | 117/450 [07:48<27:30,  4.96s/it]\u001b[A"
     ]
    },
    {
     "name": "stdout",
     "output_type": "stream",
     "text": [
      "{'loss': 1.2367, 'learning_rate': 2e-05, 'epoch': 1.3}\n"
     ]
    },
    {
     "name": "stderr",
     "output_type": "stream",
     "text": [
      "\n",
      "                                               t]\u001b[A\n",
      "  0%|          | 1/450 [08:43<27:06,  3.62s/it]  \n",
      " 26%|██▌       | 118/450 [07:51<25:09,  4.55s/it]\u001b[A"
     ]
    },
    {
     "name": "stdout",
     "output_type": "stream",
     "text": [
      "{'loss': 1.3691, 'learning_rate': 2e-05, 'epoch': 1.31}\n"
     ]
    },
    {
     "name": "stderr",
     "output_type": "stream",
     "text": [
      "\n",
      "                                               t]\u001b[A\n",
      "  0%|          | 1/450 [08:47<27:06,  3.62s/it]  \n",
      " 26%|██▋       | 119/450 [07:55<24:13,  4.39s/it]\u001b[A"
     ]
    },
    {
     "name": "stdout",
     "output_type": "stream",
     "text": [
      "{'loss': 1.2726, 'learning_rate': 2e-05, 'epoch': 1.32}\n"
     ]
    },
    {
     "name": "stderr",
     "output_type": "stream",
     "text": [
      "\n",
      "                                               t]\u001b[A\n",
      "  0%|          | 1/450 [08:52<27:06,  3.62s/it]  \n",
      " 27%|██▋       | 120/450 [08:00<24:08,  4.39s/it]\u001b[A"
     ]
    },
    {
     "name": "stdout",
     "output_type": "stream",
     "text": [
      "{'loss': 1.2895, 'learning_rate': 2e-05, 'epoch': 1.33}\n"
     ]
    },
    {
     "name": "stderr",
     "output_type": "stream",
     "text": [
      "\n",
      "                                               t]\u001b[A\n",
      "  0%|          | 1/450 [08:57<27:06,  3.62s/it]  \n",
      " 27%|██▋       | 121/450 [08:05<25:46,  4.70s/it]\u001b[A"
     ]
    },
    {
     "name": "stdout",
     "output_type": "stream",
     "text": [
      "{'loss': 1.3119, 'learning_rate': 2e-05, 'epoch': 1.34}\n"
     ]
    },
    {
     "name": "stderr",
     "output_type": "stream",
     "text": [
      "\n",
      "                                               t]\u001b[A\n",
      "  0%|          | 1/450 [09:00<27:06,  3.62s/it]  \n",
      " 27%|██▋       | 122/450 [08:08<23:31,  4.30s/it]\u001b[A"
     ]
    },
    {
     "name": "stdout",
     "output_type": "stream",
     "text": [
      "{'loss': 1.279, 'learning_rate': 2e-05, 'epoch': 1.36}\n"
     ]
    },
    {
     "name": "stderr",
     "output_type": "stream",
     "text": [
      "\n",
      "                                               t]\u001b[A\n",
      "  0%|          | 1/450 [09:05<27:06,  3.62s/it]  \n",
      " 27%|██▋       | 123/450 [08:13<24:19,  4.46s/it]\u001b[A"
     ]
    },
    {
     "name": "stdout",
     "output_type": "stream",
     "text": [
      "{'loss': 1.2333, 'learning_rate': 2e-05, 'epoch': 1.37}\n"
     ]
    },
    {
     "name": "stderr",
     "output_type": "stream",
     "text": [
      "\n",
      "                                               t]\u001b[A\n",
      "  0%|          | 1/450 [09:10<27:06,  3.62s/it]  \n",
      " 28%|██▊       | 124/450 [08:18<24:04,  4.43s/it]\u001b[A"
     ]
    },
    {
     "name": "stdout",
     "output_type": "stream",
     "text": [
      "{'loss': 1.2206, 'learning_rate': 2e-05, 'epoch': 1.38}\n"
     ]
    },
    {
     "name": "stderr",
     "output_type": "stream",
     "text": [
      "\n",
      "                                               t]\u001b[A\n",
      "  0%|          | 1/450 [09:13<27:06,  3.62s/it]  \n",
      " 28%|██▊       | 125/450 [08:21<22:33,  4.17s/it]\u001b[A"
     ]
    },
    {
     "name": "stdout",
     "output_type": "stream",
     "text": [
      "{'loss': 1.3423, 'learning_rate': 2e-05, 'epoch': 1.39}\n"
     ]
    },
    {
     "name": "stderr",
     "output_type": "stream",
     "text": [
      "\n",
      "                                               t]\u001b[A\n",
      "  0%|          | 1/450 [09:17<27:06,  3.62s/it]  \n",
      " 28%|██▊       | 126/450 [08:25<21:29,  3.98s/it]\u001b[A"
     ]
    },
    {
     "name": "stdout",
     "output_type": "stream",
     "text": [
      "{'loss': 1.2588, 'learning_rate': 2e-05, 'epoch': 1.4}\n"
     ]
    },
    {
     "name": "stderr",
     "output_type": "stream",
     "text": [
      "\n",
      "                                               t]\u001b[A\n",
      "  0%|          | 1/450 [09:20<27:06,  3.62s/it]  \n",
      " 28%|██▊       | 127/450 [08:28<20:14,  3.76s/it]\u001b[A"
     ]
    },
    {
     "name": "stdout",
     "output_type": "stream",
     "text": [
      "{'loss': 1.1811, 'learning_rate': 2e-05, 'epoch': 1.41}\n"
     ]
    },
    {
     "name": "stderr",
     "output_type": "stream",
     "text": [
      "\n",
      "                                               t]\u001b[A\n",
      "  0%|          | 1/450 [09:23<27:06,  3.62s/it]  \n",
      " 28%|██▊       | 128/450 [08:31<19:25,  3.62s/it]\u001b[A"
     ]
    },
    {
     "name": "stdout",
     "output_type": "stream",
     "text": [
      "{'loss': 1.3719, 'learning_rate': 2e-05, 'epoch': 1.42}\n"
     ]
    },
    {
     "name": "stderr",
     "output_type": "stream",
     "text": [
      "\n",
      "                                               t]\u001b[A\n",
      "  0%|          | 1/450 [09:26<27:06,  3.62s/it]  \n",
      " 29%|██▊       | 129/450 [08:34<18:33,  3.47s/it]\u001b[A"
     ]
    },
    {
     "name": "stdout",
     "output_type": "stream",
     "text": [
      "{'loss': 1.4495, 'learning_rate': 2e-05, 'epoch': 1.43}\n"
     ]
    },
    {
     "name": "stderr",
     "output_type": "stream",
     "text": [
      "\n",
      "                                               t]\u001b[A\n",
      "  0%|          | 1/450 [09:31<27:06,  3.62s/it]  "
     ]
    },
    {
     "name": "stdout",
     "output_type": "stream",
     "text": [
      "{'loss': 1.4182, 'learning_rate': 2e-05, 'epoch': 1.44}\n"
     ]
    },
    {
     "name": "stderr",
     "output_type": "stream",
     "text": [
      "\n",
      " 29%|██▉       | 130/450 [08:39<20:56,  3.93s/it]\u001b[A\n",
      "                                               t]\u001b[A\n",
      "  0%|          | 1/450 [09:35<27:06,  3.62s/it]  \n",
      " 29%|██▉       | 131/450 [08:43<20:07,  3.78s/it]\u001b[A"
     ]
    },
    {
     "name": "stdout",
     "output_type": "stream",
     "text": [
      "{'loss': 1.3553, 'learning_rate': 2e-05, 'epoch': 1.46}\n"
     ]
    },
    {
     "name": "stderr",
     "output_type": "stream",
     "text": [
      "\n",
      "                                               t]\u001b[A\n",
      "  0%|          | 1/450 [09:38<27:06,  3.62s/it]  \n",
      " 29%|██▉       | 132/450 [08:46<19:38,  3.71s/it]\u001b[A"
     ]
    },
    {
     "name": "stdout",
     "output_type": "stream",
     "text": [
      "{'loss': 1.3562, 'learning_rate': 2e-05, 'epoch': 1.47}\n"
     ]
    },
    {
     "name": "stderr",
     "output_type": "stream",
     "text": [
      "\n",
      "                                               t]\u001b[A\n",
      "  0%|          | 1/450 [09:42<27:06,  3.62s/it]  \n",
      " 30%|██▉       | 133/450 [08:50<19:40,  3.72s/it]\u001b[A"
     ]
    },
    {
     "name": "stdout",
     "output_type": "stream",
     "text": [
      "{'loss': 1.2997, 'learning_rate': 2e-05, 'epoch': 1.48}\n"
     ]
    },
    {
     "name": "stderr",
     "output_type": "stream",
     "text": [
      "\n",
      "                                               t]\u001b[A\n",
      "  0%|          | 1/450 [09:47<27:06,  3.62s/it]  \n",
      " 30%|██▉       | 134/450 [08:55<21:13,  4.03s/it]\u001b[A"
     ]
    },
    {
     "name": "stdout",
     "output_type": "stream",
     "text": [
      "{'loss': 1.2518, 'learning_rate': 2e-05, 'epoch': 1.49}\n"
     ]
    },
    {
     "name": "stderr",
     "output_type": "stream",
     "text": [
      "\n",
      "                                               t]\u001b[A\n",
      "  0%|          | 1/450 [09:51<27:06,  3.62s/it]  \n",
      " 30%|███       | 135/450 [08:59<20:56,  3.99s/it]\u001b[A"
     ]
    },
    {
     "name": "stdout",
     "output_type": "stream",
     "text": [
      "{'loss': 1.3145, 'learning_rate': 2e-05, 'epoch': 1.5}\n"
     ]
    },
    {
     "name": "stderr",
     "output_type": "stream",
     "text": [
      "\n",
      "                                               t]\u001b[A\n",
      "  0%|          | 1/450 [09:54<27:06,  3.62s/it]  \n",
      " 30%|███       | 136/450 [09:02<19:25,  3.71s/it]\u001b[A"
     ]
    },
    {
     "name": "stdout",
     "output_type": "stream",
     "text": [
      "{'loss': 1.3927, 'learning_rate': 2e-05, 'epoch': 1.51}\n"
     ]
    },
    {
     "name": "stderr",
     "output_type": "stream",
     "text": [
      "\n",
      "                                               t]\u001b[A\n",
      "  0%|          | 1/450 [09:57<27:06,  3.62s/it]  \n",
      " 30%|███       | 137/450 [09:05<18:59,  3.64s/it]\u001b[A"
     ]
    },
    {
     "name": "stdout",
     "output_type": "stream",
     "text": [
      "{'loss': 1.4503, 'learning_rate': 2e-05, 'epoch': 1.52}\n"
     ]
    },
    {
     "name": "stderr",
     "output_type": "stream",
     "text": [
      "\n",
      "                                               t]\u001b[A\n",
      "  0%|          | 1/450 [10:02<27:06,  3.62s/it]  \n",
      " 31%|███       | 138/450 [09:10<20:00,  3.85s/it]\u001b[A"
     ]
    },
    {
     "name": "stdout",
     "output_type": "stream",
     "text": [
      "{'loss': 1.4147, 'learning_rate': 2e-05, 'epoch': 1.53}\n"
     ]
    },
    {
     "name": "stderr",
     "output_type": "stream",
     "text": [
      "\n",
      "                                               t]\u001b[A\n",
      "  0%|          | 1/450 [10:06<27:06,  3.62s/it]  \n",
      " 31%|███       | 139/450 [09:14<20:40,  3.99s/it]\u001b[A"
     ]
    },
    {
     "name": "stdout",
     "output_type": "stream",
     "text": [
      "{'loss': 1.2696, 'learning_rate': 2e-05, 'epoch': 1.54}\n"
     ]
    },
    {
     "name": "stderr",
     "output_type": "stream",
     "text": [
      "\n",
      "                                               t]\u001b[A\n",
      "  0%|          | 1/450 [10:11<27:06,  3.62s/it]  \n",
      " 31%|███       | 140/450 [09:19<22:23,  4.34s/it]\u001b[A"
     ]
    },
    {
     "name": "stdout",
     "output_type": "stream",
     "text": [
      "{'loss': 1.2751, 'learning_rate': 2e-05, 'epoch': 1.56}\n"
     ]
    },
    {
     "name": "stderr",
     "output_type": "stream",
     "text": [
      "\n",
      "                                               t]\u001b[A\n",
      "  0%|          | 1/450 [10:15<27:06,  3.62s/it]  \n",
      " 31%|███▏      | 141/450 [09:22<20:53,  4.06s/it]\u001b[A"
     ]
    },
    {
     "name": "stdout",
     "output_type": "stream",
     "text": [
      "{'loss': 1.303, 'learning_rate': 2e-05, 'epoch': 1.57}\n"
     ]
    },
    {
     "name": "stderr",
     "output_type": "stream",
     "text": [
      "\n",
      "                                               t]\u001b[A\n",
      "  0%|          | 1/450 [10:18<27:06,  3.62s/it]  \n",
      " 32%|███▏      | 142/450 [09:26<19:54,  3.88s/it]\u001b[A"
     ]
    },
    {
     "name": "stdout",
     "output_type": "stream",
     "text": [
      "{'loss': 1.295, 'learning_rate': 2e-05, 'epoch': 1.58}\n"
     ]
    },
    {
     "name": "stderr",
     "output_type": "stream",
     "text": [
      "\n",
      "                                               t]\u001b[A\n",
      "  0%|          | 1/450 [10:22<27:06,  3.62s/it]  \n",
      " 32%|███▏      | 143/450 [09:30<20:46,  4.06s/it]\u001b[A"
     ]
    },
    {
     "name": "stdout",
     "output_type": "stream",
     "text": [
      "{'loss': 1.3347, 'learning_rate': 2e-05, 'epoch': 1.59}\n"
     ]
    },
    {
     "name": "stderr",
     "output_type": "stream",
     "text": [
      "\n",
      "                                               t]\u001b[A\n",
      "  0%|          | 1/450 [10:26<27:06,  3.62s/it]  \n",
      " 32%|███▏      | 144/450 [09:34<20:32,  4.03s/it]\u001b[A"
     ]
    },
    {
     "name": "stdout",
     "output_type": "stream",
     "text": [
      "{'loss': 1.3195, 'learning_rate': 2e-05, 'epoch': 1.6}\n"
     ]
    },
    {
     "name": "stderr",
     "output_type": "stream",
     "text": [
      "\n",
      "                                               t]\u001b[A\n",
      "  0%|          | 1/450 [10:31<27:06,  3.62s/it]  \n",
      " 32%|███▏      | 145/450 [09:39<20:52,  4.11s/it]\u001b[A"
     ]
    },
    {
     "name": "stdout",
     "output_type": "stream",
     "text": [
      "{'loss': 1.2815, 'learning_rate': 2e-05, 'epoch': 1.61}\n"
     ]
    },
    {
     "name": "stderr",
     "output_type": "stream",
     "text": [
      "\n",
      "                                               t]\u001b[A\n",
      "  0%|          | 1/450 [10:34<27:06,  3.62s/it]  \n",
      " 32%|███▏      | 146/450 [09:42<19:22,  3.82s/it]\u001b[A"
     ]
    },
    {
     "name": "stdout",
     "output_type": "stream",
     "text": [
      "{'loss': 1.3128, 'learning_rate': 2e-05, 'epoch': 1.62}\n"
     ]
    },
    {
     "name": "stderr",
     "output_type": "stream",
     "text": [
      "\n",
      "                                               t]\u001b[A\n",
      "  0%|          | 1/450 [10:37<27:06,  3.62s/it]  \n",
      " 33%|███▎      | 147/450 [09:45<18:28,  3.66s/it]\u001b[A"
     ]
    },
    {
     "name": "stdout",
     "output_type": "stream",
     "text": [
      "{'loss': 1.1768, 'learning_rate': 2e-05, 'epoch': 1.63}\n"
     ]
    },
    {
     "name": "stderr",
     "output_type": "stream",
     "text": [
      "\n",
      "                                               t]\u001b[A\n",
      "  0%|          | 1/450 [10:41<27:06,  3.62s/it]  \n",
      " 33%|███▎      | 148/450 [09:49<18:43,  3.72s/it]\u001b[A"
     ]
    },
    {
     "name": "stdout",
     "output_type": "stream",
     "text": [
      "{'loss': 1.3368, 'learning_rate': 2e-05, 'epoch': 1.64}\n"
     ]
    },
    {
     "name": "stderr",
     "output_type": "stream",
     "text": [
      "\n",
      "                                               t]\u001b[A\n",
      "  0%|          | 1/450 [10:45<27:06,  3.62s/it]  \n",
      " 33%|███▎      | 149/450 [09:53<18:58,  3.78s/it]\u001b[A"
     ]
    },
    {
     "name": "stdout",
     "output_type": "stream",
     "text": [
      "{'loss': 1.3746, 'learning_rate': 2e-05, 'epoch': 1.66}\n"
     ]
    },
    {
     "name": "stderr",
     "output_type": "stream",
     "text": [
      "\n",
      "                                               t]\u001b[A\n",
      "  0%|          | 1/450 [10:48<27:06,  3.62s/it]  \n",
      " 33%|███▎      | 150/450 [09:56<18:26,  3.69s/it]\u001b[A"
     ]
    },
    {
     "name": "stdout",
     "output_type": "stream",
     "text": [
      "{'loss': 1.3906, 'learning_rate': 2e-05, 'epoch': 1.67}\n"
     ]
    },
    {
     "name": "stderr",
     "output_type": "stream",
     "text": [
      "\n",
      "                                               t]\u001b[A\n",
      "  0%|          | 1/450 [10:53<27:06,  3.62s/it]  \n",
      " 34%|███▎      | 151/450 [10:01<19:11,  3.85s/it]\u001b[A"
     ]
    },
    {
     "name": "stdout",
     "output_type": "stream",
     "text": [
      "{'loss': 1.321, 'learning_rate': 2e-05, 'epoch': 1.68}\n"
     ]
    },
    {
     "name": "stderr",
     "output_type": "stream",
     "text": [
      "\n",
      "                                               t]\u001b[A\n",
      "  0%|          | 1/450 [10:58<27:06,  3.62s/it]  \n",
      " 34%|███▍      | 152/450 [10:06<21:57,  4.42s/it]\u001b[A"
     ]
    },
    {
     "name": "stdout",
     "output_type": "stream",
     "text": [
      "{'loss': 1.2435, 'learning_rate': 2e-05, 'epoch': 1.69}\n"
     ]
    },
    {
     "name": "stderr",
     "output_type": "stream",
     "text": [
      "\n",
      "                                               t]\u001b[A\n",
      "  0%|          | 1/450 [11:02<27:06,  3.62s/it]  \n",
      " 34%|███▍      | 153/450 [10:10<21:17,  4.30s/it]\u001b[A"
     ]
    },
    {
     "name": "stdout",
     "output_type": "stream",
     "text": [
      "{'loss': 1.3075, 'learning_rate': 2e-05, 'epoch': 1.7}\n"
     ]
    },
    {
     "name": "stderr",
     "output_type": "stream",
     "text": [
      "\n",
      "                                               t]\u001b[A\n",
      "  0%|          | 1/450 [11:06<27:06,  3.62s/it]  \n",
      " 34%|███▍      | 154/450 [10:14<20:32,  4.16s/it]\u001b[A"
     ]
    },
    {
     "name": "stdout",
     "output_type": "stream",
     "text": [
      "{'loss': 1.3707, 'learning_rate': 2e-05, 'epoch': 1.71}\n"
     ]
    },
    {
     "name": "stderr",
     "output_type": "stream",
     "text": [
      "\n",
      "                                               t]\u001b[A\n",
      "  0%|          | 1/450 [11:10<27:06,  3.62s/it]  \n",
      " 34%|███▍      | 155/450 [10:18<20:34,  4.18s/it]\u001b[A"
     ]
    },
    {
     "name": "stdout",
     "output_type": "stream",
     "text": [
      "{'loss': 1.3653, 'learning_rate': 2e-05, 'epoch': 1.72}\n"
     ]
    },
    {
     "name": "stderr",
     "output_type": "stream",
     "text": [
      "\n",
      "                                               t]\u001b[A\n",
      "  0%|          | 1/450 [11:14<27:06,  3.62s/it]  \n",
      " 35%|███▍      | 156/450 [10:22<19:24,  3.96s/it]\u001b[A"
     ]
    },
    {
     "name": "stdout",
     "output_type": "stream",
     "text": [
      "{'loss': 1.3269, 'learning_rate': 2e-05, 'epoch': 1.73}\n"
     ]
    },
    {
     "name": "stderr",
     "output_type": "stream",
     "text": [
      "\n",
      "                                               t]\u001b[A\n",
      "  0%|          | 1/450 [11:18<27:06,  3.62s/it]  \n",
      " 35%|███▍      | 157/450 [10:26<19:55,  4.08s/it]\u001b[A"
     ]
    },
    {
     "name": "stdout",
     "output_type": "stream",
     "text": [
      "{'loss': 1.2515, 'learning_rate': 2e-05, 'epoch': 1.74}\n"
     ]
    },
    {
     "name": "stderr",
     "output_type": "stream",
     "text": [
      "\n",
      "                                               t]\u001b[A\n",
      "  0%|          | 1/450 [11:22<27:06,  3.62s/it]  \n",
      " 35%|███▌      | 158/450 [10:30<19:23,  3.98s/it]\u001b[A"
     ]
    },
    {
     "name": "stdout",
     "output_type": "stream",
     "text": [
      "{'loss': 1.3876, 'learning_rate': 2e-05, 'epoch': 1.76}\n"
     ]
    },
    {
     "name": "stderr",
     "output_type": "stream",
     "text": [
      "\n",
      "                                               t]\u001b[A\n",
      "  0%|          | 1/450 [11:26<27:06,  3.62s/it]  \n",
      " 35%|███▌      | 159/450 [10:34<19:13,  3.96s/it]\u001b[A"
     ]
    },
    {
     "name": "stdout",
     "output_type": "stream",
     "text": [
      "{'loss': 1.1814, 'learning_rate': 2e-05, 'epoch': 1.77}\n"
     ]
    },
    {
     "name": "stderr",
     "output_type": "stream",
     "text": [
      "\n",
      "                                               t]\u001b[A\n",
      "  0%|          | 1/450 [11:30<27:06,  3.62s/it]  \n",
      " 36%|███▌      | 160/450 [10:38<18:46,  3.89s/it]\u001b[A"
     ]
    },
    {
     "name": "stdout",
     "output_type": "stream",
     "text": [
      "{'loss': 1.3542, 'learning_rate': 2e-05, 'epoch': 1.78}\n"
     ]
    },
    {
     "name": "stderr",
     "output_type": "stream",
     "text": [
      "\n",
      "                                               t]\u001b[A\n",
      "  0%|          | 1/450 [11:34<27:06,  3.62s/it]  \n",
      " 36%|███▌      | 161/450 [10:41<18:48,  3.90s/it]\u001b[A"
     ]
    },
    {
     "name": "stdout",
     "output_type": "stream",
     "text": [
      "{'loss': 1.2409, 'learning_rate': 2e-05, 'epoch': 1.79}\n"
     ]
    },
    {
     "name": "stderr",
     "output_type": "stream",
     "text": [
      "\n",
      "                                               t]\u001b[A\n",
      "  0%|          | 1/450 [11:37<27:06,  3.62s/it]  \n",
      " 36%|███▌      | 162/450 [10:45<18:35,  3.87s/it]\u001b[A"
     ]
    },
    {
     "name": "stdout",
     "output_type": "stream",
     "text": [
      "{'loss': 1.4083, 'learning_rate': 2e-05, 'epoch': 1.8}\n"
     ]
    },
    {
     "name": "stderr",
     "output_type": "stream",
     "text": [
      "\n",
      "                                               t]\u001b[A\n",
      "  0%|          | 1/450 [11:41<27:06,  3.62s/it]  \n",
      " 36%|███▌      | 163/450 [10:49<18:10,  3.80s/it]\u001b[A"
     ]
    },
    {
     "name": "stdout",
     "output_type": "stream",
     "text": [
      "{'loss': 1.3068, 'learning_rate': 2e-05, 'epoch': 1.81}\n"
     ]
    },
    {
     "name": "stderr",
     "output_type": "stream",
     "text": [
      "\n",
      "                                               t]\u001b[A\n",
      "  0%|          | 1/450 [11:46<27:06,  3.62s/it]  \n",
      " 36%|███▋      | 164/450 [10:53<19:06,  4.01s/it]\u001b[A"
     ]
    },
    {
     "name": "stdout",
     "output_type": "stream",
     "text": [
      "{'loss': 1.3397, 'learning_rate': 2e-05, 'epoch': 1.82}\n"
     ]
    },
    {
     "name": "stderr",
     "output_type": "stream",
     "text": [
      "\n",
      "                                               t]\u001b[A\n",
      "  0%|          | 1/450 [11:50<27:06,  3.62s/it]  \n",
      " 37%|███▋      | 165/450 [10:58<19:56,  4.20s/it]\u001b[A"
     ]
    },
    {
     "name": "stdout",
     "output_type": "stream",
     "text": [
      "{'loss': 1.3989, 'learning_rate': 2e-05, 'epoch': 1.83}\n"
     ]
    },
    {
     "name": "stderr",
     "output_type": "stream",
     "text": [
      "\n",
      "                                               t]\u001b[A\n",
      "  0%|          | 1/450 [11:54<27:06,  3.62s/it]  \n",
      " 37%|███▋      | 166/450 [11:01<18:45,  3.96s/it]\u001b[A"
     ]
    },
    {
     "name": "stdout",
     "output_type": "stream",
     "text": [
      "{'loss': 1.1801, 'learning_rate': 2e-05, 'epoch': 1.84}\n"
     ]
    },
    {
     "name": "stderr",
     "output_type": "stream",
     "text": [
      "\n",
      "                                               t]\u001b[A\n",
      "  0%|          | 1/450 [11:57<27:06,  3.62s/it]  \n",
      " 37%|███▋      | 167/450 [11:05<18:27,  3.91s/it]\u001b[A"
     ]
    },
    {
     "name": "stdout",
     "output_type": "stream",
     "text": [
      "{'loss': 1.231, 'learning_rate': 2e-05, 'epoch': 1.86}\n"
     ]
    },
    {
     "name": "stderr",
     "output_type": "stream",
     "text": [
      "\n",
      "                                               t]\u001b[A\n",
      "  0%|          | 1/450 [12:01<27:06,  3.62s/it]  \n",
      " 37%|███▋      | 168/450 [11:09<18:38,  3.97s/it]\u001b[A"
     ]
    },
    {
     "name": "stdout",
     "output_type": "stream",
     "text": [
      "{'loss': 1.2747, 'learning_rate': 2e-05, 'epoch': 1.87}\n"
     ]
    },
    {
     "name": "stderr",
     "output_type": "stream",
     "text": [
      "\n",
      "                                               t]\u001b[A\n",
      "  0%|          | 1/450 [12:05<27:06,  3.62s/it]  \n",
      " 38%|███▊      | 169/450 [11:13<18:07,  3.87s/it]\u001b[A"
     ]
    },
    {
     "name": "stdout",
     "output_type": "stream",
     "text": [
      "{'loss': 1.3697, 'learning_rate': 2e-05, 'epoch': 1.88}\n"
     ]
    },
    {
     "name": "stderr",
     "output_type": "stream",
     "text": [
      "\n",
      "                                               t]\u001b[A\n",
      "  0%|          | 1/450 [12:09<27:06,  3.62s/it]  \n",
      " 38%|███▊      | 170/450 [11:17<17:57,  3.85s/it]\u001b[A"
     ]
    },
    {
     "name": "stdout",
     "output_type": "stream",
     "text": [
      "{'loss': 1.1737, 'learning_rate': 2e-05, 'epoch': 1.89}\n"
     ]
    },
    {
     "name": "stderr",
     "output_type": "stream",
     "text": [
      "\n",
      "                                               t]\u001b[A\n",
      "  0%|          | 1/450 [12:13<27:06,  3.62s/it]  \n",
      " 38%|███▊      | 171/450 [11:21<18:12,  3.92s/it]\u001b[A"
     ]
    },
    {
     "name": "stdout",
     "output_type": "stream",
     "text": [
      "{'loss': 1.4005, 'learning_rate': 2e-05, 'epoch': 1.9}\n"
     ]
    },
    {
     "name": "stderr",
     "output_type": "stream",
     "text": [
      "\n",
      "                                               t]\u001b[A\n",
      "  0%|          | 1/450 [12:18<27:06,  3.62s/it]  \n",
      " 38%|███▊      | 172/450 [11:26<19:59,  4.31s/it]\u001b[A"
     ]
    },
    {
     "name": "stdout",
     "output_type": "stream",
     "text": [
      "{'loss': 1.3068, 'learning_rate': 2e-05, 'epoch': 1.91}\n"
     ]
    },
    {
     "name": "stderr",
     "output_type": "stream",
     "text": [
      "\n",
      "                                               t]\u001b[A\n",
      "  0%|          | 1/450 [12:22<27:06,  3.62s/it]  \n",
      " 38%|███▊      | 173/450 [11:30<19:37,  4.25s/it]\u001b[A"
     ]
    },
    {
     "name": "stdout",
     "output_type": "stream",
     "text": [
      "{'loss': 1.314, 'learning_rate': 2e-05, 'epoch': 1.92}\n"
     ]
    },
    {
     "name": "stderr",
     "output_type": "stream",
     "text": [
      "\n",
      "                                               t]\u001b[A\n",
      "  0%|          | 1/450 [12:29<27:06,  3.62s/it]  \n",
      " 39%|███▊      | 174/450 [11:37<23:11,  5.04s/it]\u001b[A"
     ]
    },
    {
     "name": "stdout",
     "output_type": "stream",
     "text": [
      "{'loss': 1.2888, 'learning_rate': 2e-05, 'epoch': 1.93}\n"
     ]
    },
    {
     "name": "stderr",
     "output_type": "stream",
     "text": [
      "\n",
      "                                               t]\u001b[A\n",
      "  0%|          | 1/450 [12:34<27:06,  3.62s/it]  \n",
      " 39%|███▉      | 175/450 [11:42<22:59,  5.02s/it]\u001b[A"
     ]
    },
    {
     "name": "stdout",
     "output_type": "stream",
     "text": [
      "{'loss': 1.4259, 'learning_rate': 2e-05, 'epoch': 1.94}\n"
     ]
    },
    {
     "name": "stderr",
     "output_type": "stream",
     "text": [
      "\n",
      "                                               t]\u001b[A\n",
      "  0%|          | 1/450 [12:38<27:06,  3.62s/it]  \n",
      " 39%|███▉      | 176/450 [11:46<21:07,  4.62s/it]\u001b[A"
     ]
    },
    {
     "name": "stdout",
     "output_type": "stream",
     "text": [
      "{'loss': 1.346, 'learning_rate': 2e-05, 'epoch': 1.96}\n"
     ]
    },
    {
     "name": "stderr",
     "output_type": "stream",
     "text": [
      "\n",
      "                                               t]\u001b[A\n",
      "  0%|          | 1/450 [12:41<27:06,  3.62s/it]  \n",
      " 39%|███▉      | 177/450 [11:49<19:04,  4.19s/it]\u001b[A"
     ]
    },
    {
     "name": "stdout",
     "output_type": "stream",
     "text": [
      "{'loss': 1.1118, 'learning_rate': 2e-05, 'epoch': 1.97}\n"
     ]
    },
    {
     "name": "stderr",
     "output_type": "stream",
     "text": [
      "\n",
      "                                               t]\u001b[A\n",
      "  0%|          | 1/450 [12:45<27:06,  3.62s/it]  \n",
      " 40%|███▉      | 178/450 [11:53<19:07,  4.22s/it]\u001b[A"
     ]
    },
    {
     "name": "stdout",
     "output_type": "stream",
     "text": [
      "{'loss': 1.3533, 'learning_rate': 2e-05, 'epoch': 1.98}\n"
     ]
    },
    {
     "name": "stderr",
     "output_type": "stream",
     "text": [
      "\n",
      "                                               t]\u001b[A\n",
      "  0%|          | 1/450 [12:49<27:06,  3.62s/it]  \n",
      " 40%|███▉      | 179/450 [11:57<18:20,  4.06s/it]\u001b[A"
     ]
    },
    {
     "name": "stdout",
     "output_type": "stream",
     "text": [
      "{'loss': 1.2803, 'learning_rate': 2e-05, 'epoch': 1.99}\n"
     ]
    },
    {
     "name": "stderr",
     "output_type": "stream",
     "text": [
      "\n",
      "                                               t]\u001b[A\n",
      "  0%|          | 1/450 [12:53<27:06,  3.62s/it]  \n",
      " 40%|████      | 180/450 [12:01<18:08,  4.03s/it]\u001b[A"
     ]
    },
    {
     "name": "stdout",
     "output_type": "stream",
     "text": [
      "{'loss': 1.2263, 'learning_rate': 2e-05, 'epoch': 2.0}\n"
     ]
    },
    {
     "name": "stderr",
     "output_type": "stream",
     "text": [
      "\n",
      "                                               t]\u001b[A\n",
      "  0%|          | 1/450 [12:57<27:06,  3.62s/it]  \n",
      " 40%|████      | 181/450 [12:05<17:45,  3.96s/it]\u001b[A"
     ]
    },
    {
     "name": "stdout",
     "output_type": "stream",
     "text": [
      "{'loss': 1.211, 'learning_rate': 2e-05, 'epoch': 2.01}\n"
     ]
    },
    {
     "name": "stderr",
     "output_type": "stream",
     "text": [
      "\n",
      "                                               t]\u001b[A\n",
      "  0%|          | 1/450 [13:02<27:06,  3.62s/it]  \n",
      " 40%|████      | 182/450 [12:09<18:45,  4.20s/it]\u001b[A"
     ]
    },
    {
     "name": "stdout",
     "output_type": "stream",
     "text": [
      "{'loss': 1.3963, 'learning_rate': 2e-05, 'epoch': 2.02}\n"
     ]
    },
    {
     "name": "stderr",
     "output_type": "stream",
     "text": [
      "\n",
      "                                               t]\u001b[A\n",
      "  0%|          | 1/450 [13:05<27:06,  3.62s/it]  \n",
      " 41%|████      | 183/450 [12:13<17:21,  3.90s/it]\u001b[A"
     ]
    },
    {
     "name": "stdout",
     "output_type": "stream",
     "text": [
      "{'loss': 1.3386, 'learning_rate': 2e-05, 'epoch': 2.03}\n"
     ]
    },
    {
     "name": "stderr",
     "output_type": "stream",
     "text": [
      "\n",
      "                                               t]\u001b[A\n",
      "  0%|          | 1/450 [13:09<27:06,  3.62s/it]  \n",
      " 41%|████      | 184/450 [12:17<17:58,  4.05s/it]\u001b[A"
     ]
    },
    {
     "name": "stdout",
     "output_type": "stream",
     "text": [
      "{'loss': 1.2399, 'learning_rate': 2e-05, 'epoch': 2.04}\n"
     ]
    },
    {
     "name": "stderr",
     "output_type": "stream",
     "text": [
      "\n",
      "                                               t]\u001b[A\n",
      "  0%|          | 1/450 [13:14<27:06,  3.62s/it]  \n",
      " 41%|████      | 185/450 [12:22<18:40,  4.23s/it]\u001b[A"
     ]
    },
    {
     "name": "stdout",
     "output_type": "stream",
     "text": [
      "{'loss': 1.2932, 'learning_rate': 2e-05, 'epoch': 2.06}\n"
     ]
    },
    {
     "name": "stderr",
     "output_type": "stream",
     "text": [
      "\n",
      "                                               t]\u001b[A\n",
      "  0%|          | 1/450 [13:18<27:06,  3.62s/it]  \n",
      " 41%|████▏     | 186/450 [12:26<18:06,  4.12s/it]\u001b[A"
     ]
    },
    {
     "name": "stdout",
     "output_type": "stream",
     "text": [
      "{'loss': 1.3952, 'learning_rate': 2e-05, 'epoch': 2.07}\n"
     ]
    },
    {
     "name": "stderr",
     "output_type": "stream",
     "text": [
      "\n",
      "                                               t]\u001b[A\n",
      "  0%|          | 1/450 [13:22<27:06,  3.62s/it]  \n",
      " 42%|████▏     | 187/450 [12:30<18:26,  4.21s/it]\u001b[A"
     ]
    },
    {
     "name": "stdout",
     "output_type": "stream",
     "text": [
      "{'loss': 1.3003, 'learning_rate': 2e-05, 'epoch': 2.08}\n"
     ]
    },
    {
     "name": "stderr",
     "output_type": "stream",
     "text": [
      "\n",
      "                                               t]\u001b[A\n",
      "  0%|          | 1/450 [13:30<27:06,  3.62s/it]  \n",
      " 42%|████▏     | 188/450 [12:38<23:04,  5.28s/it]\u001b[A"
     ]
    },
    {
     "name": "stdout",
     "output_type": "stream",
     "text": [
      "{'loss': 1.2899, 'learning_rate': 2e-05, 'epoch': 2.09}\n"
     ]
    },
    {
     "name": "stderr",
     "output_type": "stream",
     "text": [
      "\n",
      "                                               t]\u001b[A\n",
      "  0%|          | 1/450 [13:34<27:06,  3.62s/it]  \n",
      " 42%|████▏     | 189/450 [12:42<21:51,  5.03s/it]\u001b[A"
     ]
    },
    {
     "name": "stdout",
     "output_type": "stream",
     "text": [
      "{'loss': 1.363, 'learning_rate': 2e-05, 'epoch': 2.1}\n"
     ]
    },
    {
     "name": "stderr",
     "output_type": "stream",
     "text": [
      "\n",
      "                                               t]\u001b[A\n",
      "  0%|          | 1/450 [13:38<27:06,  3.62s/it]  \n",
      " 42%|████▏     | 190/450 [12:45<19:26,  4.49s/it]\u001b[A"
     ]
    },
    {
     "name": "stdout",
     "output_type": "stream",
     "text": [
      "{'loss': 1.2344, 'learning_rate': 2e-05, 'epoch': 2.11}\n"
     ]
    },
    {
     "name": "stderr",
     "output_type": "stream",
     "text": [
      "\n",
      "                                               t]\u001b[A\n",
      "  0%|          | 1/450 [13:41<27:06,  3.62s/it]  \n",
      " 42%|████▏     | 191/450 [12:49<17:42,  4.10s/it]\u001b[A"
     ]
    },
    {
     "name": "stdout",
     "output_type": "stream",
     "text": [
      "{'loss': 1.1305, 'learning_rate': 2e-05, 'epoch': 2.12}\n"
     ]
    },
    {
     "name": "stderr",
     "output_type": "stream",
     "text": [
      "\n",
      "                                               t]\u001b[A\n",
      "  0%|          | 1/450 [13:45<27:06,  3.62s/it]  \n",
      " 43%|████▎     | 192/450 [12:53<17:22,  4.04s/it]\u001b[A"
     ]
    },
    {
     "name": "stdout",
     "output_type": "stream",
     "text": [
      "{'loss': 1.186, 'learning_rate': 2e-05, 'epoch': 2.13}\n"
     ]
    },
    {
     "name": "stderr",
     "output_type": "stream",
     "text": [
      "\n",
      "                                               t]\u001b[A\n",
      "  0%|          | 1/450 [13:50<27:06,  3.62s/it]  \n",
      " 43%|████▎     | 193/450 [12:58<18:47,  4.39s/it]\u001b[A"
     ]
    },
    {
     "name": "stdout",
     "output_type": "stream",
     "text": [
      "{'loss': 1.2804, 'learning_rate': 2e-05, 'epoch': 2.14}\n"
     ]
    },
    {
     "name": "stderr",
     "output_type": "stream",
     "text": [
      "\n",
      "                                               t]\u001b[A\n",
      "  0%|          | 1/450 [13:54<27:06,  3.62s/it]  \n",
      " 43%|████▎     | 194/450 [13:01<17:48,  4.18s/it]\u001b[A"
     ]
    },
    {
     "name": "stdout",
     "output_type": "stream",
     "text": [
      "{'loss': 1.1893, 'learning_rate': 2e-05, 'epoch': 2.16}\n"
     ]
    },
    {
     "name": "stderr",
     "output_type": "stream",
     "text": [
      "\n",
      "                                               t]\u001b[A\n",
      "  0%|          | 1/450 [13:57<27:06,  3.62s/it]  \n",
      " 43%|████▎     | 195/450 [13:05<16:51,  3.97s/it]\u001b[A"
     ]
    },
    {
     "name": "stdout",
     "output_type": "stream",
     "text": [
      "{'loss': 1.2607, 'learning_rate': 2e-05, 'epoch': 2.17}\n"
     ]
    },
    {
     "name": "stderr",
     "output_type": "stream",
     "text": [
      "\n",
      "                                               t]\u001b[A\n",
      "  0%|          | 1/450 [14:01<27:06,  3.62s/it]  \n",
      " 44%|████▎     | 196/450 [13:09<16:32,  3.91s/it]\u001b[A"
     ]
    },
    {
     "name": "stdout",
     "output_type": "stream",
     "text": [
      "{'loss': 1.2015, 'learning_rate': 2e-05, 'epoch': 2.18}\n"
     ]
    },
    {
     "name": "stderr",
     "output_type": "stream",
     "text": [
      "\n",
      "                                               t]\u001b[A\n",
      "  0%|          | 1/450 [14:05<27:06,  3.62s/it]  \n",
      " 44%|████▍     | 197/450 [13:12<16:16,  3.86s/it]\u001b[A"
     ]
    },
    {
     "name": "stdout",
     "output_type": "stream",
     "text": [
      "{'loss': 1.3948, 'learning_rate': 2e-05, 'epoch': 2.19}\n"
     ]
    },
    {
     "name": "stderr",
     "output_type": "stream",
     "text": [
      "\n",
      "                                               t]\u001b[A\n",
      "  0%|          | 1/450 [14:10<27:06,  3.62s/it]  \n",
      " 44%|████▍     | 198/450 [13:18<18:47,  4.47s/it]\u001b[A"
     ]
    },
    {
     "name": "stdout",
     "output_type": "stream",
     "text": [
      "{'loss': 1.2904, 'learning_rate': 2e-05, 'epoch': 2.2}\n"
     ]
    },
    {
     "name": "stderr",
     "output_type": "stream",
     "text": [
      "\n",
      "                                               t]\u001b[A\n",
      "  0%|          | 1/450 [14:14<27:06,  3.62s/it]  \n",
      " 44%|████▍     | 199/450 [13:22<17:36,  4.21s/it]\u001b[A"
     ]
    },
    {
     "name": "stdout",
     "output_type": "stream",
     "text": [
      "{'loss': 1.4623, 'learning_rate': 2e-05, 'epoch': 2.21}\n"
     ]
    },
    {
     "name": "stderr",
     "output_type": "stream",
     "text": [
      "\n",
      "                                               t]\u001b[A\n",
      "  0%|          | 1/450 [14:18<27:06,  3.62s/it]  \n",
      " 44%|████▍     | 200/450 [13:26<16:53,  4.05s/it]\u001b[A"
     ]
    },
    {
     "name": "stdout",
     "output_type": "stream",
     "text": [
      "{'loss': 1.3776, 'learning_rate': 2e-05, 'epoch': 2.22}\n"
     ]
    },
    {
     "name": "stderr",
     "output_type": "stream",
     "text": [
      "\n",
      "                                               t]\u001b[A\n",
      "  0%|          | 1/450 [14:21<27:06,  3.62s/it]  \n",
      " 45%|████▍     | 201/450 [13:29<16:21,  3.94s/it]\u001b[A"
     ]
    },
    {
     "name": "stdout",
     "output_type": "stream",
     "text": [
      "{'loss': 1.2358, 'learning_rate': 2e-05, 'epoch': 2.23}\n"
     ]
    },
    {
     "name": "stderr",
     "output_type": "stream",
     "text": [
      "\n",
      "                                               t]\u001b[A\n",
      "  0%|          | 1/450 [14:25<27:06,  3.62s/it]  \n",
      " 45%|████▍     | 202/450 [13:33<15:42,  3.80s/it]\u001b[A"
     ]
    },
    {
     "name": "stdout",
     "output_type": "stream",
     "text": [
      "{'loss': 1.2964, 'learning_rate': 2e-05, 'epoch': 2.24}\n"
     ]
    },
    {
     "name": "stderr",
     "output_type": "stream",
     "text": [
      "\n",
      "                                               t]\u001b[A\n",
      "  0%|          | 1/450 [14:29<27:06,  3.62s/it]  \n",
      " 45%|████▌     | 203/450 [13:37<15:57,  3.88s/it]\u001b[A"
     ]
    },
    {
     "name": "stdout",
     "output_type": "stream",
     "text": [
      "{'loss': 1.095, 'learning_rate': 2e-05, 'epoch': 2.26}\n"
     ]
    },
    {
     "name": "stderr",
     "output_type": "stream",
     "text": [
      "\n",
      "                                               t]\u001b[A\n",
      "  0%|          | 1/450 [14:34<27:06,  3.62s/it]  \n",
      " 45%|████▌     | 204/450 [13:42<17:14,  4.20s/it]\u001b[A"
     ]
    },
    {
     "name": "stdout",
     "output_type": "stream",
     "text": [
      "{'loss': 1.3107, 'learning_rate': 2e-05, 'epoch': 2.27}\n"
     ]
    },
    {
     "name": "stderr",
     "output_type": "stream",
     "text": [
      "\n",
      "                                               t]\u001b[A\n",
      "  0%|          | 1/450 [14:38<27:06,  3.62s/it]  \n",
      " 46%|████▌     | 205/450 [13:46<16:36,  4.07s/it]\u001b[A"
     ]
    },
    {
     "name": "stdout",
     "output_type": "stream",
     "text": [
      "{'loss': 1.1573, 'learning_rate': 2e-05, 'epoch': 2.28}\n"
     ]
    },
    {
     "name": "stderr",
     "output_type": "stream",
     "text": [
      "\n",
      "                                               t]\u001b[A\n",
      "  0%|          | 1/450 [14:41<27:06,  3.62s/it]  \n",
      " 46%|████▌     | 206/450 [13:49<16:09,  3.97s/it]\u001b[A"
     ]
    },
    {
     "name": "stdout",
     "output_type": "stream",
     "text": [
      "{'loss': 1.2963, 'learning_rate': 2e-05, 'epoch': 2.29}\n"
     ]
    },
    {
     "name": "stderr",
     "output_type": "stream",
     "text": [
      "\n",
      "                                               t]\u001b[A\n",
      "  0%|          | 1/450 [14:45<27:06,  3.62s/it]  \n",
      " 46%|████▌     | 207/450 [13:53<15:33,  3.84s/it]\u001b[A"
     ]
    },
    {
     "name": "stdout",
     "output_type": "stream",
     "text": [
      "{'loss': 1.212, 'learning_rate': 2e-05, 'epoch': 2.3}\n"
     ]
    },
    {
     "name": "stderr",
     "output_type": "stream",
     "text": [
      "\n",
      "                                               t]\u001b[A\n",
      "  0%|          | 1/450 [14:50<27:06,  3.62s/it]  \n",
      " 46%|████▌     | 208/450 [13:58<16:54,  4.19s/it]\u001b[A"
     ]
    },
    {
     "name": "stdout",
     "output_type": "stream",
     "text": [
      "{'loss': 1.3345, 'learning_rate': 2e-05, 'epoch': 2.31}\n"
     ]
    },
    {
     "name": "stderr",
     "output_type": "stream",
     "text": [
      "\n",
      "                                               t]\u001b[A\n",
      "  0%|          | 1/450 [14:54<27:06,  3.62s/it]  \n",
      " 46%|████▋     | 209/450 [14:02<16:19,  4.06s/it]\u001b[A"
     ]
    },
    {
     "name": "stdout",
     "output_type": "stream",
     "text": [
      "{'loss': 1.5012, 'learning_rate': 2e-05, 'epoch': 2.32}\n"
     ]
    },
    {
     "name": "stderr",
     "output_type": "stream",
     "text": [
      "\n",
      "                                               t]\u001b[A\n",
      "  0%|          | 1/450 [14:58<27:06,  3.62s/it]  \n",
      " 47%|████▋     | 210/450 [14:06<16:54,  4.23s/it]\u001b[A"
     ]
    },
    {
     "name": "stdout",
     "output_type": "stream",
     "text": [
      "{'loss': 1.2649, 'learning_rate': 2e-05, 'epoch': 2.33}\n"
     ]
    },
    {
     "name": "stderr",
     "output_type": "stream",
     "text": [
      "\n",
      "                                               t]\u001b[A\n",
      "  0%|          | 1/450 [15:02<27:06,  3.62s/it]  \n",
      " 47%|████▋     | 211/450 [14:10<16:32,  4.15s/it]\u001b[A"
     ]
    },
    {
     "name": "stdout",
     "output_type": "stream",
     "text": [
      "{'loss': 1.1612, 'learning_rate': 2e-05, 'epoch': 2.34}\n"
     ]
    },
    {
     "name": "stderr",
     "output_type": "stream",
     "text": [
      "\n",
      "                                               t]\u001b[A\n",
      "  0%|          | 1/450 [15:07<27:06,  3.62s/it]  \n",
      " 47%|████▋     | 212/450 [14:15<16:48,  4.24s/it]\u001b[A"
     ]
    },
    {
     "name": "stdout",
     "output_type": "stream",
     "text": [
      "{'loss': 1.2271, 'learning_rate': 2e-05, 'epoch': 2.36}\n"
     ]
    },
    {
     "name": "stderr",
     "output_type": "stream",
     "text": [
      "\n",
      "                                               t]\u001b[A\n",
      "  0%|          | 1/450 [15:11<27:06,  3.62s/it]  \n",
      " 47%|████▋     | 213/450 [14:19<17:11,  4.35s/it]\u001b[A"
     ]
    },
    {
     "name": "stdout",
     "output_type": "stream",
     "text": [
      "{'loss': 1.3223, 'learning_rate': 2e-05, 'epoch': 2.37}\n"
     ]
    },
    {
     "name": "stderr",
     "output_type": "stream",
     "text": [
      "\n",
      "                                               t]\u001b[A\n",
      "  0%|          | 1/450 [15:15<27:06,  3.62s/it]  \n",
      " 48%|████▊     | 214/450 [14:23<16:12,  4.12s/it]\u001b[A"
     ]
    },
    {
     "name": "stdout",
     "output_type": "stream",
     "text": [
      "{'loss': 1.343, 'learning_rate': 2e-05, 'epoch': 2.38}\n"
     ]
    },
    {
     "name": "stderr",
     "output_type": "stream",
     "text": [
      "\n",
      "                                               t]\u001b[A\n",
      "  0%|          | 1/450 [15:18<27:06,  3.62s/it]  \n",
      " 48%|████▊     | 215/450 [14:26<15:18,  3.91s/it]\u001b[A"
     ]
    },
    {
     "name": "stdout",
     "output_type": "stream",
     "text": [
      "{'loss': 1.3141, 'learning_rate': 2e-05, 'epoch': 2.39}\n"
     ]
    },
    {
     "name": "stderr",
     "output_type": "stream",
     "text": [
      "\n",
      "                                               t]\u001b[A\n",
      "  0%|          | 1/450 [15:22<27:06,  3.62s/it]  \n",
      " 48%|████▊     | 216/450 [14:30<14:54,  3.82s/it]\u001b[A"
     ]
    },
    {
     "name": "stdout",
     "output_type": "stream",
     "text": [
      "{'loss': 1.3062, 'learning_rate': 2e-05, 'epoch': 2.4}\n"
     ]
    },
    {
     "name": "stderr",
     "output_type": "stream",
     "text": [
      "\n",
      "                                               t]\u001b[A\n",
      "  0%|          | 1/450 [15:26<27:06,  3.62s/it]  \n",
      " 48%|████▊     | 217/450 [14:34<15:06,  3.89s/it]\u001b[A"
     ]
    },
    {
     "name": "stdout",
     "output_type": "stream",
     "text": [
      "{'loss': 1.3975, 'learning_rate': 2e-05, 'epoch': 2.41}\n"
     ]
    },
    {
     "name": "stderr",
     "output_type": "stream",
     "text": [
      "\n",
      "                                               t]\u001b[A\n",
      "  0%|          | 1/450 [15:30<27:06,  3.62s/it]  \n",
      " 48%|████▊     | 218/450 [14:38<14:48,  3.83s/it]\u001b[A"
     ]
    },
    {
     "name": "stdout",
     "output_type": "stream",
     "text": [
      "{'loss': 1.1237, 'learning_rate': 2e-05, 'epoch': 2.42}\n"
     ]
    },
    {
     "name": "stderr",
     "output_type": "stream",
     "text": [
      "\n",
      "                                               t]\u001b[A\n",
      "  0%|          | 1/450 [15:34<27:06,  3.62s/it]  \n",
      " 49%|████▊     | 219/450 [14:42<15:23,  4.00s/it]\u001b[A"
     ]
    },
    {
     "name": "stdout",
     "output_type": "stream",
     "text": [
      "{'loss': 1.2495, 'learning_rate': 2e-05, 'epoch': 2.43}\n"
     ]
    },
    {
     "name": "stderr",
     "output_type": "stream",
     "text": [
      "\n",
      "                                               t]\u001b[A\n",
      "  0%|          | 1/450 [15:38<27:06,  3.62s/it]  \n",
      " 49%|████▉     | 220/450 [14:46<15:13,  3.97s/it]\u001b[A"
     ]
    },
    {
     "name": "stdout",
     "output_type": "stream",
     "text": [
      "{'loss': 1.419, 'learning_rate': 2e-05, 'epoch': 2.44}\n"
     ]
    },
    {
     "name": "stderr",
     "output_type": "stream",
     "text": [
      "\n",
      "                                               t]\u001b[A\n",
      "  0%|          | 1/450 [15:42<27:06,  3.62s/it]  \n",
      " 49%|████▉     | 221/450 [14:50<14:48,  3.88s/it]\u001b[A"
     ]
    },
    {
     "name": "stdout",
     "output_type": "stream",
     "text": [
      "{'loss': 1.2452, 'learning_rate': 2e-05, 'epoch': 2.46}\n"
     ]
    },
    {
     "name": "stderr",
     "output_type": "stream",
     "text": [
      "\n",
      "                                               t]\u001b[A\n",
      "  0%|          | 1/450 [15:45<27:06,  3.62s/it]  \n",
      " 49%|████▉     | 222/450 [14:53<14:22,  3.78s/it]\u001b[A"
     ]
    },
    {
     "name": "stdout",
     "output_type": "stream",
     "text": [
      "{'loss': 1.4173, 'learning_rate': 2e-05, 'epoch': 2.47}\n"
     ]
    },
    {
     "name": "stderr",
     "output_type": "stream",
     "text": [
      "\n",
      "                                               t]\u001b[A\n",
      "  0%|          | 1/450 [15:49<27:06,  3.62s/it]  \n",
      " 50%|████▉     | 223/450 [14:57<14:45,  3.90s/it]\u001b[A"
     ]
    },
    {
     "name": "stdout",
     "output_type": "stream",
     "text": [
      "{'loss': 1.4226, 'learning_rate': 2e-05, 'epoch': 2.48}\n"
     ]
    },
    {
     "name": "stderr",
     "output_type": "stream",
     "text": [
      "\n",
      "                                               t]\u001b[A\n",
      "  0%|          | 1/450 [15:53<27:06,  3.62s/it]  \n",
      " 50%|████▉     | 224/450 [15:01<14:22,  3.81s/it]\u001b[A"
     ]
    },
    {
     "name": "stdout",
     "output_type": "stream",
     "text": [
      "{'loss': 1.303, 'learning_rate': 2e-05, 'epoch': 2.49}\n"
     ]
    },
    {
     "name": "stderr",
     "output_type": "stream",
     "text": [
      "\n",
      "                                               t]\u001b[A\n",
      "  0%|          | 1/450 [15:57<27:06,  3.62s/it]  \n",
      " 50%|█████     | 225/450 [15:05<14:45,  3.93s/it]\u001b[A"
     ]
    },
    {
     "name": "stdout",
     "output_type": "stream",
     "text": [
      "{'loss': 1.3202, 'learning_rate': 2e-05, 'epoch': 2.5}\n"
     ]
    },
    {
     "name": "stderr",
     "output_type": "stream",
     "text": [
      "\n",
      "                                               t]\u001b[A\n",
      "  0%|          | 1/450 [16:04<27:06,  3.62s/it]  \n",
      " 50%|█████     | 226/450 [15:11<17:19,  4.64s/it]\u001b[A"
     ]
    },
    {
     "name": "stdout",
     "output_type": "stream",
     "text": [
      "{'loss': 1.3554, 'learning_rate': 2e-05, 'epoch': 2.51}\n"
     ]
    },
    {
     "name": "stderr",
     "output_type": "stream",
     "text": [
      "\n",
      "                                               t]\u001b[A\n",
      "  0%|          | 1/450 [16:07<27:06,  3.62s/it]  \n",
      " 50%|█████     | 227/450 [15:15<16:15,  4.37s/it]\u001b[A"
     ]
    },
    {
     "name": "stdout",
     "output_type": "stream",
     "text": [
      "{'loss': 1.1988, 'learning_rate': 2e-05, 'epoch': 2.52}\n"
     ]
    },
    {
     "name": "stderr",
     "output_type": "stream",
     "text": [
      "\n",
      "                                               t]\u001b[A\n",
      "  0%|          | 1/450 [16:11<27:06,  3.62s/it]  \n",
      " 51%|█████     | 228/450 [15:19<15:46,  4.26s/it]\u001b[A"
     ]
    },
    {
     "name": "stdout",
     "output_type": "stream",
     "text": [
      "{'loss': 1.2966, 'learning_rate': 2e-05, 'epoch': 2.53}\n"
     ]
    },
    {
     "name": "stderr",
     "output_type": "stream",
     "text": [
      "\n",
      "                                               t]\u001b[A\n",
      "  0%|          | 1/450 [16:15<27:06,  3.62s/it]  \n",
      " 51%|█████     | 229/450 [15:23<15:08,  4.11s/it]\u001b[A"
     ]
    },
    {
     "name": "stdout",
     "output_type": "stream",
     "text": [
      "{'loss': 1.1834, 'learning_rate': 2e-05, 'epoch': 2.54}\n"
     ]
    },
    {
     "name": "stderr",
     "output_type": "stream",
     "text": [
      "\n",
      "                                               t]\u001b[A\n",
      "  0%|          | 1/450 [16:19<27:06,  3.62s/it]  \n",
      " 51%|█████     | 230/450 [15:26<14:22,  3.92s/it]\u001b[A"
     ]
    },
    {
     "name": "stdout",
     "output_type": "stream",
     "text": [
      "{'loss': 1.204, 'learning_rate': 2e-05, 'epoch': 2.56}\n"
     ]
    },
    {
     "name": "stderr",
     "output_type": "stream",
     "text": [
      "\n",
      "                                               t]\u001b[A\n",
      "  0%|          | 1/450 [16:22<27:06,  3.62s/it]  \n",
      " 51%|█████▏    | 231/450 [15:30<13:50,  3.79s/it]\u001b[A"
     ]
    },
    {
     "name": "stdout",
     "output_type": "stream",
     "text": [
      "{'loss': 1.2432, 'learning_rate': 2e-05, 'epoch': 2.57}\n"
     ]
    },
    {
     "name": "stderr",
     "output_type": "stream",
     "text": [
      "\n",
      "                                               t]\u001b[A\n",
      "  0%|          | 1/450 [16:27<27:06,  3.62s/it]  \n",
      " 52%|█████▏    | 232/450 [15:35<14:51,  4.09s/it]\u001b[A"
     ]
    },
    {
     "name": "stdout",
     "output_type": "stream",
     "text": [
      "{'loss': 1.2509, 'learning_rate': 2e-05, 'epoch': 2.58}\n"
     ]
    },
    {
     "name": "stderr",
     "output_type": "stream",
     "text": [
      "\n",
      "                                               t]\u001b[A\n",
      "  0%|          | 1/450 [16:31<27:06,  3.62s/it]  \n",
      " 52%|█████▏    | 233/450 [15:38<14:29,  4.01s/it]\u001b[A"
     ]
    },
    {
     "name": "stdout",
     "output_type": "stream",
     "text": [
      "{'loss': 1.2474, 'learning_rate': 2e-05, 'epoch': 2.59}\n"
     ]
    },
    {
     "name": "stderr",
     "output_type": "stream",
     "text": [
      "\n",
      "                                               t]\u001b[A\n",
      "  0%|          | 1/450 [16:34<27:06,  3.62s/it]  \n",
      " 52%|█████▏    | 234/450 [15:42<14:03,  3.91s/it]\u001b[A"
     ]
    },
    {
     "name": "stdout",
     "output_type": "stream",
     "text": [
      "{'loss': 1.2901, 'learning_rate': 2e-05, 'epoch': 2.6}\n"
     ]
    },
    {
     "name": "stderr",
     "output_type": "stream",
     "text": [
      "\n",
      "                                               t]\u001b[A\n",
      "  0%|          | 1/450 [16:38<27:06,  3.62s/it]  \n",
      " 52%|█████▏    | 235/450 [15:46<14:00,  3.91s/it]\u001b[A"
     ]
    },
    {
     "name": "stdout",
     "output_type": "stream",
     "text": [
      "{'loss': 1.2185, 'learning_rate': 2e-05, 'epoch': 2.61}\n"
     ]
    },
    {
     "name": "stderr",
     "output_type": "stream",
     "text": [
      "\n",
      "                                               t]\u001b[A\n",
      "  0%|          | 1/450 [16:41<27:06,  3.62s/it]  \n",
      " 52%|█████▏    | 236/450 [15:49<13:14,  3.71s/it]\u001b[A"
     ]
    },
    {
     "name": "stdout",
     "output_type": "stream",
     "text": [
      "{'loss': 1.1084, 'learning_rate': 2e-05, 'epoch': 2.62}\n"
     ]
    },
    {
     "name": "stderr",
     "output_type": "stream",
     "text": [
      "\n",
      "                                               t]\u001b[A\n",
      "  0%|          | 1/450 [16:45<27:06,  3.62s/it]  \n",
      " 53%|█████▎    | 237/450 [15:53<12:58,  3.66s/it]\u001b[A"
     ]
    },
    {
     "name": "stdout",
     "output_type": "stream",
     "text": [
      "{'loss': 1.4245, 'learning_rate': 2e-05, 'epoch': 2.63}\n"
     ]
    },
    {
     "name": "stderr",
     "output_type": "stream",
     "text": [
      "\n",
      "                                               t]\u001b[A\n",
      "  0%|          | 1/450 [16:49<27:06,  3.62s/it]  \n",
      " 53%|█████▎    | 238/450 [15:57<13:25,  3.80s/it]\u001b[A"
     ]
    },
    {
     "name": "stdout",
     "output_type": "stream",
     "text": [
      "{'loss': 1.2993, 'learning_rate': 2e-05, 'epoch': 2.64}\n"
     ]
    },
    {
     "name": "stderr",
     "output_type": "stream",
     "text": [
      "\n",
      "                                               t]\u001b[A\n",
      "  0%|          | 1/450 [16:53<27:06,  3.62s/it]  \n",
      " 53%|█████▎    | 239/450 [16:01<13:39,  3.89s/it]\u001b[A"
     ]
    },
    {
     "name": "stdout",
     "output_type": "stream",
     "text": [
      "{'loss': 1.313, 'learning_rate': 2e-05, 'epoch': 2.66}\n"
     ]
    },
    {
     "name": "stderr",
     "output_type": "stream",
     "text": [
      "\n",
      "                                               t]\u001b[A\n",
      "  0%|          | 1/450 [16:56<27:06,  3.62s/it]  \n",
      " 53%|█████▎    | 240/450 [16:04<12:38,  3.61s/it]\u001b[A"
     ]
    },
    {
     "name": "stdout",
     "output_type": "stream",
     "text": [
      "{'loss': 1.3624, 'learning_rate': 2e-05, 'epoch': 2.67}\n"
     ]
    },
    {
     "name": "stderr",
     "output_type": "stream",
     "text": [
      "\n",
      "                                               t]\u001b[A\n",
      "  0%|          | 1/450 [17:01<27:06,  3.62s/it]  \n",
      " 54%|█████▎    | 241/450 [16:09<13:44,  3.94s/it]\u001b[A"
     ]
    },
    {
     "name": "stdout",
     "output_type": "stream",
     "text": [
      "{'loss': 1.1682, 'learning_rate': 2e-05, 'epoch': 2.68}\n"
     ]
    },
    {
     "name": "stderr",
     "output_type": "stream",
     "text": [
      "\n",
      "                                               t]\u001b[A\n",
      "  0%|          | 1/450 [17:05<27:06,  3.62s/it]  \n",
      " 54%|█████▍    | 242/450 [16:13<13:50,  3.99s/it]\u001b[A"
     ]
    },
    {
     "name": "stdout",
     "output_type": "stream",
     "text": [
      "{'loss': 1.2933, 'learning_rate': 2e-05, 'epoch': 2.69}\n"
     ]
    },
    {
     "name": "stderr",
     "output_type": "stream",
     "text": [
      "\n",
      "                                               t]\u001b[A\n",
      "  0%|          | 1/450 [17:09<27:06,  3.62s/it]  \n",
      " 54%|█████▍    | 243/450 [16:17<14:00,  4.06s/it]\u001b[A"
     ]
    },
    {
     "name": "stdout",
     "output_type": "stream",
     "text": [
      "{'loss': 1.243, 'learning_rate': 2e-05, 'epoch': 2.7}\n"
     ]
    },
    {
     "name": "stderr",
     "output_type": "stream",
     "text": [
      "\n",
      "                                               t]\u001b[A\n",
      "  0%|          | 1/450 [17:14<27:06,  3.62s/it]  \n",
      " 54%|█████▍    | 244/450 [16:22<14:20,  4.18s/it]\u001b[A"
     ]
    },
    {
     "name": "stdout",
     "output_type": "stream",
     "text": [
      "{'loss': 1.1929, 'learning_rate': 2e-05, 'epoch': 2.71}\n"
     ]
    },
    {
     "name": "stderr",
     "output_type": "stream",
     "text": [
      "\n",
      "                                               t]\u001b[A\n",
      "  0%|          | 1/450 [17:18<27:06,  3.62s/it]  \n",
      " 54%|█████▍    | 245/450 [16:26<14:28,  4.24s/it]\u001b[A"
     ]
    },
    {
     "name": "stdout",
     "output_type": "stream",
     "text": [
      "{'loss': 1.3383, 'learning_rate': 2e-05, 'epoch': 2.72}\n"
     ]
    },
    {
     "name": "stderr",
     "output_type": "stream",
     "text": [
      "\n",
      "                                               t]\u001b[A\n",
      "  0%|          | 1/450 [17:22<27:06,  3.62s/it]  \n",
      " 55%|█████▍    | 246/450 [16:30<13:52,  4.08s/it]\u001b[A"
     ]
    },
    {
     "name": "stdout",
     "output_type": "stream",
     "text": [
      "{'loss': 1.1987, 'learning_rate': 2e-05, 'epoch': 2.73}\n"
     ]
    },
    {
     "name": "stderr",
     "output_type": "stream",
     "text": [
      "\n",
      "                                               t]\u001b[A\n",
      "  0%|          | 1/450 [17:25<27:06,  3.62s/it]  \n",
      " 55%|█████▍    | 247/450 [16:33<13:07,  3.88s/it]\u001b[A"
     ]
    },
    {
     "name": "stdout",
     "output_type": "stream",
     "text": [
      "{'loss': 1.2616, 'learning_rate': 2e-05, 'epoch': 2.74}\n"
     ]
    },
    {
     "name": "stderr",
     "output_type": "stream",
     "text": [
      "\n",
      "                                               t]\u001b[A\n",
      "  0%|          | 1/450 [17:30<27:06,  3.62s/it]  \n",
      " 55%|█████▌    | 248/450 [16:38<14:04,  4.18s/it]\u001b[A"
     ]
    },
    {
     "name": "stdout",
     "output_type": "stream",
     "text": [
      "{'loss': 1.2453, 'learning_rate': 2e-05, 'epoch': 2.76}\n"
     ]
    },
    {
     "name": "stderr",
     "output_type": "stream",
     "text": [
      "\n",
      "                                               t]\u001b[A\n",
      "  0%|          | 1/450 [17:34<27:06,  3.62s/it]  \n",
      " 55%|█████▌    | 249/450 [16:42<13:45,  4.11s/it]\u001b[A"
     ]
    },
    {
     "name": "stdout",
     "output_type": "stream",
     "text": [
      "{'loss': 1.2939, 'learning_rate': 2e-05, 'epoch': 2.77}\n"
     ]
    },
    {
     "name": "stderr",
     "output_type": "stream",
     "text": [
      "\n",
      "                                               t]\u001b[A\n",
      "  0%|          | 1/450 [17:37<27:06,  3.62s/it]  \n",
      " 56%|█████▌    | 250/450 [16:45<12:48,  3.84s/it]\u001b[A"
     ]
    },
    {
     "name": "stdout",
     "output_type": "stream",
     "text": [
      "{'loss': 1.2291, 'learning_rate': 2e-05, 'epoch': 2.78}\n"
     ]
    },
    {
     "name": "stderr",
     "output_type": "stream",
     "text": [
      "\n",
      "                                               t]\u001b[A\n",
      "  0%|          | 1/450 [17:41<27:06,  3.62s/it]  \n",
      " 56%|█████▌    | 251/450 [16:49<12:27,  3.76s/it]\u001b[A"
     ]
    },
    {
     "name": "stdout",
     "output_type": "stream",
     "text": [
      "{'loss': 1.223, 'learning_rate': 2e-05, 'epoch': 2.79}\n"
     ]
    },
    {
     "name": "stderr",
     "output_type": "stream",
     "text": [
      "\n",
      "                                               t]\u001b[A\n",
      "  0%|          | 1/450 [17:44<27:06,  3.62s/it]  \n",
      " 56%|█████▌    | 252/450 [16:52<12:05,  3.66s/it]\u001b[A"
     ]
    },
    {
     "name": "stdout",
     "output_type": "stream",
     "text": [
      "{'loss': 1.2218, 'learning_rate': 2e-05, 'epoch': 2.8}\n"
     ]
    },
    {
     "name": "stderr",
     "output_type": "stream",
     "text": [
      "\n",
      "                                               t]\u001b[A\n",
      "  0%|          | 1/450 [17:49<27:06,  3.62s/it]  \n",
      " 56%|█████▌    | 253/450 [16:56<12:44,  3.88s/it]\u001b[A"
     ]
    },
    {
     "name": "stdout",
     "output_type": "stream",
     "text": [
      "{'loss': 1.325, 'learning_rate': 2e-05, 'epoch': 2.81}\n"
     ]
    },
    {
     "name": "stderr",
     "output_type": "stream",
     "text": [
      "\n",
      "                                               t]\u001b[A\n",
      "  0%|          | 1/450 [17:54<27:06,  3.62s/it]  \n",
      " 56%|█████▋    | 254/450 [17:02<14:10,  4.34s/it]\u001b[A"
     ]
    },
    {
     "name": "stdout",
     "output_type": "stream",
     "text": [
      "{'loss': 1.1948, 'learning_rate': 2e-05, 'epoch': 2.82}\n"
     ]
    },
    {
     "name": "stderr",
     "output_type": "stream",
     "text": [
      "\n",
      "                                               t]\u001b[A\n",
      "  0%|          | 1/450 [17:58<27:06,  3.62s/it]  \n",
      " 57%|█████▋    | 255/450 [17:06<14:05,  4.33s/it]\u001b[A"
     ]
    },
    {
     "name": "stdout",
     "output_type": "stream",
     "text": [
      "{'loss': 1.3043, 'learning_rate': 2e-05, 'epoch': 2.83}\n"
     ]
    },
    {
     "name": "stderr",
     "output_type": "stream",
     "text": [
      "\n",
      "                                               t]\u001b[A\n",
      "  0%|          | 1/450 [18:02<27:06,  3.62s/it]  \n",
      " 57%|█████▋    | 256/450 [17:10<13:40,  4.23s/it]\u001b[A"
     ]
    },
    {
     "name": "stdout",
     "output_type": "stream",
     "text": [
      "{'loss': 1.2954, 'learning_rate': 2e-05, 'epoch': 2.84}\n"
     ]
    },
    {
     "name": "stderr",
     "output_type": "stream",
     "text": [
      "\n",
      "                                               t]\u001b[A\n",
      "  0%|          | 1/450 [18:06<27:06,  3.62s/it]  \n",
      " 57%|█████▋    | 257/450 [17:13<12:42,  3.95s/it]\u001b[A"
     ]
    },
    {
     "name": "stdout",
     "output_type": "stream",
     "text": [
      "{'loss': 1.2569, 'learning_rate': 2e-05, 'epoch': 2.86}\n"
     ]
    },
    {
     "name": "stderr",
     "output_type": "stream",
     "text": [
      "\n",
      "                                               t]\u001b[A\n",
      "  0%|          | 1/450 [18:09<27:06,  3.62s/it]  \n",
      " 57%|█████▋    | 258/450 [17:17<12:02,  3.76s/it]\u001b[A"
     ]
    },
    {
     "name": "stdout",
     "output_type": "stream",
     "text": [
      "{'loss': 1.3089, 'learning_rate': 2e-05, 'epoch': 2.87}\n"
     ]
    },
    {
     "name": "stderr",
     "output_type": "stream",
     "text": [
      "\n",
      "                                               t]\u001b[A\n",
      "  0%|          | 1/450 [18:14<27:06,  3.62s/it]  \n",
      " 58%|█████▊    | 259/450 [17:22<13:06,  4.12s/it]\u001b[A"
     ]
    },
    {
     "name": "stdout",
     "output_type": "stream",
     "text": [
      "{'loss': 1.2996, 'learning_rate': 2e-05, 'epoch': 2.88}\n"
     ]
    },
    {
     "name": "stderr",
     "output_type": "stream",
     "text": [
      "\n",
      "                                               t]\u001b[A\n",
      "  0%|          | 1/450 [18:18<27:06,  3.62s/it]  \n",
      " 58%|█████▊    | 260/450 [17:26<12:49,  4.05s/it]\u001b[A"
     ]
    },
    {
     "name": "stdout",
     "output_type": "stream",
     "text": [
      "{'loss': 1.299, 'learning_rate': 2e-05, 'epoch': 2.89}\n"
     ]
    },
    {
     "name": "stderr",
     "output_type": "stream",
     "text": [
      "\n",
      "                                               t]\u001b[A\n",
      "  0%|          | 1/450 [18:21<27:06,  3.62s/it]  \n",
      " 58%|█████▊    | 261/450 [17:29<12:18,  3.91s/it]\u001b[A"
     ]
    },
    {
     "name": "stdout",
     "output_type": "stream",
     "text": [
      "{'loss': 1.2845, 'learning_rate': 2e-05, 'epoch': 2.9}\n"
     ]
    },
    {
     "name": "stderr",
     "output_type": "stream",
     "text": [
      "\n",
      "                                               t]\u001b[A\n",
      "  0%|          | 1/450 [18:24<27:06,  3.62s/it]  \n",
      " 58%|█████▊    | 262/450 [17:32<11:28,  3.66s/it]\u001b[A"
     ]
    },
    {
     "name": "stdout",
     "output_type": "stream",
     "text": [
      "{'loss': 1.1922, 'learning_rate': 2e-05, 'epoch': 2.91}\n"
     ]
    },
    {
     "name": "stderr",
     "output_type": "stream",
     "text": [
      "\n",
      "                                               t]\u001b[A\n",
      "  0%|          | 1/450 [18:28<27:06,  3.62s/it]  \n",
      " 58%|█████▊    | 263/450 [17:36<11:04,  3.55s/it]\u001b[A"
     ]
    },
    {
     "name": "stdout",
     "output_type": "stream",
     "text": [
      "{'loss': 1.1089, 'learning_rate': 2e-05, 'epoch': 2.92}\n"
     ]
    },
    {
     "name": "stderr",
     "output_type": "stream",
     "text": [
      "\n",
      "                                               t]\u001b[A\n",
      "  0%|          | 1/450 [18:32<27:06,  3.62s/it]  \n",
      " 59%|█████▊    | 264/450 [17:39<11:17,  3.64s/it]\u001b[A"
     ]
    },
    {
     "name": "stdout",
     "output_type": "stream",
     "text": [
      "{'loss': 1.2926, 'learning_rate': 2e-05, 'epoch': 2.93}\n"
     ]
    },
    {
     "name": "stderr",
     "output_type": "stream",
     "text": [
      "\n",
      "                                               t]\u001b[A\n",
      "  0%|          | 1/450 [18:36<27:06,  3.62s/it]  \n",
      " 59%|█████▉    | 265/450 [17:43<11:31,  3.74s/it]\u001b[A"
     ]
    },
    {
     "name": "stdout",
     "output_type": "stream",
     "text": [
      "{'loss': 1.2205, 'learning_rate': 2e-05, 'epoch': 2.94}\n"
     ]
    },
    {
     "name": "stderr",
     "output_type": "stream",
     "text": [
      "\n",
      "                                               t]\u001b[A\n",
      "  0%|          | 1/450 [18:39<27:06,  3.62s/it]  \n",
      " 59%|█████▉    | 266/450 [17:47<11:18,  3.69s/it]\u001b[A"
     ]
    },
    {
     "name": "stdout",
     "output_type": "stream",
     "text": [
      "{'loss': 1.2509, 'learning_rate': 2e-05, 'epoch': 2.96}\n"
     ]
    },
    {
     "name": "stderr",
     "output_type": "stream",
     "text": [
      "\n",
      "                                               t]\u001b[A\n",
      "  0%|          | 1/450 [18:43<27:06,  3.62s/it]  \n",
      " 59%|█████▉    | 267/450 [17:50<11:01,  3.61s/it]\u001b[A"
     ]
    },
    {
     "name": "stdout",
     "output_type": "stream",
     "text": [
      "{'loss': 1.3576, 'learning_rate': 2e-05, 'epoch': 2.97}\n"
     ]
    },
    {
     "name": "stderr",
     "output_type": "stream",
     "text": [
      "\n",
      "                                               t]\u001b[A\n",
      "  0%|          | 1/450 [18:46<27:06,  3.62s/it]  \n",
      " 60%|█████▉    | 268/450 [17:54<11:13,  3.70s/it]\u001b[A"
     ]
    },
    {
     "name": "stdout",
     "output_type": "stream",
     "text": [
      "{'loss': 1.3584, 'learning_rate': 2e-05, 'epoch': 2.98}\n"
     ]
    },
    {
     "name": "stderr",
     "output_type": "stream",
     "text": [
      "\n",
      "                                               t]\u001b[A\n",
      "  0%|          | 1/450 [18:50<27:06,  3.62s/it]  \n",
      " 60%|█████▉    | 269/450 [17:58<10:59,  3.64s/it]\u001b[A"
     ]
    },
    {
     "name": "stdout",
     "output_type": "stream",
     "text": [
      "{'loss': 1.2712, 'learning_rate': 2e-05, 'epoch': 2.99}\n"
     ]
    },
    {
     "name": "stderr",
     "output_type": "stream",
     "text": [
      "\n",
      "                                               t]\u001b[A\n",
      "  0%|          | 1/450 [18:54<27:06,  3.62s/it]  \n",
      " 60%|██████    | 270/450 [18:02<11:01,  3.68s/it]\u001b[A"
     ]
    },
    {
     "name": "stdout",
     "output_type": "stream",
     "text": [
      "{'loss': 1.3389, 'learning_rate': 2e-05, 'epoch': 3.0}\n"
     ]
    },
    {
     "name": "stderr",
     "output_type": "stream",
     "text": [
      "\n",
      "                                               t]\u001b[A\n",
      "  0%|          | 1/450 [18:58<27:06,  3.62s/it]  \n",
      " 60%|██████    | 271/450 [18:05<11:07,  3.73s/it]\u001b[A"
     ]
    },
    {
     "name": "stdout",
     "output_type": "stream",
     "text": [
      "{'loss': 1.217, 'learning_rate': 2e-05, 'epoch': 3.01}\n"
     ]
    },
    {
     "name": "stderr",
     "output_type": "stream",
     "text": [
      "\n",
      "                                               t]\u001b[A\n",
      "  0%|          | 1/450 [19:01<27:06,  3.62s/it]  \n",
      " 60%|██████    | 272/450 [18:09<10:29,  3.54s/it]\u001b[A"
     ]
    },
    {
     "name": "stdout",
     "output_type": "stream",
     "text": [
      "{'loss': 1.2596, 'learning_rate': 2e-05, 'epoch': 3.02}\n"
     ]
    },
    {
     "name": "stderr",
     "output_type": "stream",
     "text": [
      "\n",
      "                                               t]\u001b[A\n",
      "  0%|          | 1/450 [19:05<27:06,  3.62s/it]  \n",
      " 61%|██████    | 273/450 [18:13<10:55,  3.70s/it]\u001b[A"
     ]
    },
    {
     "name": "stdout",
     "output_type": "stream",
     "text": [
      "{'loss': 1.2238, 'learning_rate': 2e-05, 'epoch': 3.03}\n"
     ]
    },
    {
     "name": "stderr",
     "output_type": "stream",
     "text": [
      "\n",
      "                                               t]\u001b[A\n",
      "  0%|          | 1/450 [19:09<27:06,  3.62s/it]  \n",
      " 61%|██████    | 274/450 [18:17<11:08,  3.80s/it]\u001b[A"
     ]
    },
    {
     "name": "stdout",
     "output_type": "stream",
     "text": [
      "{'loss': 1.1841, 'learning_rate': 2e-05, 'epoch': 3.04}\n"
     ]
    },
    {
     "name": "stderr",
     "output_type": "stream",
     "text": [
      "\n",
      "                                               t]\u001b[A\n",
      "  0%|          | 1/450 [19:12<27:06,  3.62s/it]  \n",
      " 61%|██████    | 275/450 [18:20<10:54,  3.74s/it]\u001b[A"
     ]
    },
    {
     "name": "stdout",
     "output_type": "stream",
     "text": [
      "{'loss': 1.3192, 'learning_rate': 2e-05, 'epoch': 3.06}\n"
     ]
    },
    {
     "name": "stderr",
     "output_type": "stream",
     "text": [
      "\n",
      "                                               t]\u001b[A\n",
      "  0%|          | 1/450 [19:16<27:06,  3.62s/it]  \n",
      " 61%|██████▏   | 276/450 [18:24<10:51,  3.75s/it]\u001b[A"
     ]
    },
    {
     "name": "stdout",
     "output_type": "stream",
     "text": [
      "{'loss': 1.3277, 'learning_rate': 2e-05, 'epoch': 3.07}\n"
     ]
    },
    {
     "name": "stderr",
     "output_type": "stream",
     "text": [
      "\n",
      "                                               t]\u001b[A\n",
      "  0%|          | 1/450 [19:20<27:06,  3.62s/it]  \n",
      " 62%|██████▏   | 277/450 [18:28<11:03,  3.83s/it]\u001b[A"
     ]
    },
    {
     "name": "stdout",
     "output_type": "stream",
     "text": [
      "{'loss': 1.3483, 'learning_rate': 2e-05, 'epoch': 3.08}\n"
     ]
    },
    {
     "name": "stderr",
     "output_type": "stream",
     "text": [
      "\n",
      "                                               t]\u001b[A\n",
      "  0%|          | 1/450 [19:24<27:06,  3.62s/it]  \n",
      " 62%|██████▏   | 278/450 [18:32<10:51,  3.79s/it]\u001b[A"
     ]
    },
    {
     "name": "stdout",
     "output_type": "stream",
     "text": [
      "{'loss': 1.2256, 'learning_rate': 2e-05, 'epoch': 3.09}\n"
     ]
    },
    {
     "name": "stderr",
     "output_type": "stream",
     "text": [
      "\n",
      "                                               t]\u001b[A\n",
      "  0%|          | 1/450 [19:27<27:06,  3.62s/it]  \n",
      " 62%|██████▏   | 279/450 [18:35<10:39,  3.74s/it]\u001b[A"
     ]
    },
    {
     "name": "stdout",
     "output_type": "stream",
     "text": [
      "{'loss': 1.1878, 'learning_rate': 2e-05, 'epoch': 3.1}\n"
     ]
    },
    {
     "name": "stderr",
     "output_type": "stream",
     "text": [
      "\n",
      "                                               t]\u001b[A\n",
      "  0%|          | 1/450 [19:32<27:06,  3.62s/it]  \n",
      " 62%|██████▏   | 280/450 [18:40<11:02,  3.90s/it]\u001b[A"
     ]
    },
    {
     "name": "stdout",
     "output_type": "stream",
     "text": [
      "{'loss': 1.2736, 'learning_rate': 2e-05, 'epoch': 3.11}\n"
     ]
    },
    {
     "name": "stderr",
     "output_type": "stream",
     "text": [
      "\n",
      "                                               t]\u001b[A\n",
      "  0%|          | 1/450 [19:36<27:06,  3.62s/it]  \n",
      " 62%|██████▏   | 281/450 [18:44<11:08,  3.95s/it]\u001b[A"
     ]
    },
    {
     "name": "stdout",
     "output_type": "stream",
     "text": [
      "{'loss': 1.2108, 'learning_rate': 2e-05, 'epoch': 3.12}\n"
     ]
    },
    {
     "name": "stderr",
     "output_type": "stream",
     "text": [
      "\n",
      "                                               t]\u001b[A\n",
      "  0%|          | 1/450 [19:39<27:06,  3.62s/it]  \n",
      " 63%|██████▎   | 282/450 [18:47<10:48,  3.86s/it]\u001b[A"
     ]
    },
    {
     "name": "stdout",
     "output_type": "stream",
     "text": [
      "{'loss': 1.1168, 'learning_rate': 2e-05, 'epoch': 3.13}\n"
     ]
    },
    {
     "name": "stderr",
     "output_type": "stream",
     "text": [
      "\n",
      "                                               t]\u001b[A\n",
      "  0%|          | 1/450 [19:43<27:06,  3.62s/it]  \n",
      " 63%|██████▎   | 283/450 [18:51<10:20,  3.71s/it]\u001b[A"
     ]
    },
    {
     "name": "stdout",
     "output_type": "stream",
     "text": [
      "{'loss': 1.2841, 'learning_rate': 2e-05, 'epoch': 3.14}\n"
     ]
    },
    {
     "name": "stderr",
     "output_type": "stream",
     "text": [
      "\n",
      "                                               t]\u001b[A\n",
      "  0%|          | 1/450 [19:47<27:06,  3.62s/it]  \n",
      " 63%|██████▎   | 284/450 [18:55<10:24,  3.76s/it]\u001b[A"
     ]
    },
    {
     "name": "stdout",
     "output_type": "stream",
     "text": [
      "{'loss': 1.215, 'learning_rate': 2e-05, 'epoch': 3.16}\n"
     ]
    },
    {
     "name": "stderr",
     "output_type": "stream",
     "text": [
      "\n",
      "                                               t]\u001b[A\n",
      "  0%|          | 1/450 [19:51<27:06,  3.62s/it]  \n",
      " 63%|██████▎   | 285/450 [18:58<10:28,  3.81s/it]\u001b[A"
     ]
    },
    {
     "name": "stdout",
     "output_type": "stream",
     "text": [
      "{'loss': 1.1552, 'learning_rate': 2e-05, 'epoch': 3.17}\n"
     ]
    },
    {
     "name": "stderr",
     "output_type": "stream",
     "text": [
      "\n",
      "                                               t]\u001b[A\n",
      "  0%|          | 1/450 [19:55<27:06,  3.62s/it]  \n",
      " 64%|██████▎   | 286/450 [19:02<10:29,  3.84s/it]\u001b[A"
     ]
    },
    {
     "name": "stdout",
     "output_type": "stream",
     "text": [
      "{'loss': 1.2161, 'learning_rate': 2e-05, 'epoch': 3.18}\n"
     ]
    },
    {
     "name": "stderr",
     "output_type": "stream",
     "text": [
      "\n",
      "                                               t]\u001b[A\n",
      "  0%|          | 1/450 [19:58<27:06,  3.62s/it]  \n",
      " 64%|██████▍   | 287/450 [19:06<10:24,  3.83s/it]\u001b[A"
     ]
    },
    {
     "name": "stdout",
     "output_type": "stream",
     "text": [
      "{'loss': 1.3477, 'learning_rate': 2e-05, 'epoch': 3.19}\n"
     ]
    },
    {
     "name": "stderr",
     "output_type": "stream",
     "text": [
      "\n",
      "                                               t]\u001b[A\n",
      "  0%|          | 1/450 [20:03<27:06,  3.62s/it]  \n",
      " 64%|██████▍   | 288/450 [19:11<11:06,  4.11s/it]\u001b[A"
     ]
    },
    {
     "name": "stdout",
     "output_type": "stream",
     "text": [
      "{'loss': 1.2334, 'learning_rate': 2e-05, 'epoch': 3.2}\n"
     ]
    },
    {
     "name": "stderr",
     "output_type": "stream",
     "text": [
      "\n",
      "                                               t]\u001b[A\n",
      "  0%|          | 1/450 [20:06<27:06,  3.62s/it]  \n",
      " 64%|██████▍   | 289/450 [19:14<10:14,  3.82s/it]\u001b[A"
     ]
    },
    {
     "name": "stdout",
     "output_type": "stream",
     "text": [
      "{'loss': 1.3001, 'learning_rate': 2e-05, 'epoch': 3.21}\n"
     ]
    },
    {
     "name": "stderr",
     "output_type": "stream",
     "text": [
      "\n",
      "                                               t]\u001b[A\n",
      "  0%|          | 1/450 [20:09<27:06,  3.62s/it]  \n",
      " 64%|██████▍   | 290/450 [19:17<09:30,  3.56s/it]\u001b[A"
     ]
    },
    {
     "name": "stdout",
     "output_type": "stream",
     "text": [
      "{'loss': 1.0189, 'learning_rate': 2e-05, 'epoch': 3.22}\n"
     ]
    },
    {
     "name": "stderr",
     "output_type": "stream",
     "text": [
      "\n",
      "                                               t]\u001b[A\n",
      "  0%|          | 1/450 [20:13<27:06,  3.62s/it]  \n",
      " 65%|██████▍   | 291/450 [19:20<09:14,  3.49s/it]\u001b[A"
     ]
    },
    {
     "name": "stdout",
     "output_type": "stream",
     "text": [
      "{'loss': 1.254, 'learning_rate': 2e-05, 'epoch': 3.23}\n"
     ]
    },
    {
     "name": "stderr",
     "output_type": "stream",
     "text": [
      "\n",
      "                                               t]\u001b[A\n",
      "  0%|          | 1/450 [20:16<27:06,  3.62s/it]  \n",
      " 65%|██████▍   | 292/450 [19:24<09:28,  3.60s/it]\u001b[A"
     ]
    },
    {
     "name": "stdout",
     "output_type": "stream",
     "text": [
      "{'loss': 1.0806, 'learning_rate': 2e-05, 'epoch': 3.24}\n"
     ]
    },
    {
     "name": "stderr",
     "output_type": "stream",
     "text": [
      "\n",
      "                                               t]\u001b[A\n",
      "  0%|          | 1/450 [20:21<27:06,  3.62s/it]  \n",
      " 65%|██████▌   | 293/450 [19:29<10:25,  3.98s/it]\u001b[A"
     ]
    },
    {
     "name": "stdout",
     "output_type": "stream",
     "text": [
      "{'loss': 1.3138, 'learning_rate': 2e-05, 'epoch': 3.26}\n"
     ]
    },
    {
     "name": "stderr",
     "output_type": "stream",
     "text": [
      "\n",
      "                                               t]\u001b[A\n",
      "  0%|          | 1/450 [20:26<27:06,  3.62s/it]  \n",
      " 65%|██████▌   | 294/450 [19:34<10:43,  4.12s/it]\u001b[A"
     ]
    },
    {
     "name": "stdout",
     "output_type": "stream",
     "text": [
      "{'loss': 1.2069, 'learning_rate': 2e-05, 'epoch': 3.27}\n"
     ]
    },
    {
     "name": "stderr",
     "output_type": "stream",
     "text": [
      "\n",
      "                                               t]\u001b[A\n",
      "  0%|          | 1/450 [20:30<27:06,  3.62s/it]  \n",
      " 66%|██████▌   | 295/450 [19:38<10:31,  4.08s/it]\u001b[A"
     ]
    },
    {
     "name": "stdout",
     "output_type": "stream",
     "text": [
      "{'loss': 1.2564, 'learning_rate': 2e-05, 'epoch': 3.28}\n"
     ]
    },
    {
     "name": "stderr",
     "output_type": "stream",
     "text": [
      "\n",
      "                                               t]\u001b[A\n",
      "  0%|          | 1/450 [20:33<27:06,  3.62s/it]  \n",
      " 66%|██████▌   | 296/450 [19:41<10:01,  3.91s/it]\u001b[A"
     ]
    },
    {
     "name": "stdout",
     "output_type": "stream",
     "text": [
      "{'loss': 1.2159, 'learning_rate': 2e-05, 'epoch': 3.29}\n"
     ]
    },
    {
     "name": "stderr",
     "output_type": "stream",
     "text": [
      "\n",
      "                                               t]\u001b[A\n",
      "  0%|          | 1/450 [20:38<27:06,  3.62s/it]  \n",
      " 66%|██████▌   | 297/450 [19:46<10:36,  4.16s/it]\u001b[A"
     ]
    },
    {
     "name": "stdout",
     "output_type": "stream",
     "text": [
      "{'loss': 1.035, 'learning_rate': 2e-05, 'epoch': 3.3}\n"
     ]
    },
    {
     "name": "stderr",
     "output_type": "stream",
     "text": [
      "\n",
      "                                               t]\u001b[A\n",
      "  0%|          | 1/450 [20:41<27:06,  3.62s/it]  \n",
      " 66%|██████▌   | 298/450 [19:49<10:04,  3.98s/it]\u001b[A"
     ]
    },
    {
     "name": "stdout",
     "output_type": "stream",
     "text": [
      "{'loss': 1.3348, 'learning_rate': 2e-05, 'epoch': 3.31}\n"
     ]
    },
    {
     "name": "stderr",
     "output_type": "stream",
     "text": [
      "\n",
      "                                               t]\u001b[A\n",
      "  0%|          | 1/450 [20:45<27:06,  3.62s/it]  \n",
      " 66%|██████▋   | 299/450 [19:53<09:52,  3.92s/it]\u001b[A"
     ]
    },
    {
     "name": "stdout",
     "output_type": "stream",
     "text": [
      "{'loss': 1.1858, 'learning_rate': 2e-05, 'epoch': 3.32}\n"
     ]
    },
    {
     "name": "stderr",
     "output_type": "stream",
     "text": [
      "\n",
      "                                               t]\u001b[A\n",
      "  0%|          | 1/450 [20:49<27:06,  3.62s/it]  \n",
      " 67%|██████▋   | 300/450 [19:57<09:39,  3.86s/it]\u001b[A"
     ]
    },
    {
     "name": "stdout",
     "output_type": "stream",
     "text": [
      "{'loss': 1.2503, 'learning_rate': 2e-05, 'epoch': 3.33}\n"
     ]
    },
    {
     "name": "stderr",
     "output_type": "stream",
     "text": [
      "\n",
      "                                               t]\u001b[A\n",
      "  0%|          | 1/450 [20:54<27:06,  3.62s/it]  \n",
      " 67%|██████▋   | 301/450 [20:02<10:15,  4.13s/it]\u001b[A"
     ]
    },
    {
     "name": "stdout",
     "output_type": "stream",
     "text": [
      "{'loss': 1.2748, 'learning_rate': 2e-05, 'epoch': 3.34}\n"
     ]
    },
    {
     "name": "stderr",
     "output_type": "stream",
     "text": [
      "\n",
      "                                               t]\u001b[A\n",
      "  0%|          | 1/450 [20:58<27:06,  3.62s/it]  \n",
      " 67%|██████▋   | 302/450 [20:06<10:01,  4.07s/it]\u001b[A"
     ]
    },
    {
     "name": "stdout",
     "output_type": "stream",
     "text": [
      "{'loss': 1.2131, 'learning_rate': 2e-05, 'epoch': 3.36}\n"
     ]
    },
    {
     "name": "stderr",
     "output_type": "stream",
     "text": [
      "\n",
      "                                               t]\u001b[A\n",
      "  0%|          | 1/450 [21:01<27:06,  3.62s/it]  \n",
      " 67%|██████▋   | 303/450 [20:09<09:37,  3.93s/it]\u001b[A"
     ]
    },
    {
     "name": "stdout",
     "output_type": "stream",
     "text": [
      "{'loss': 1.2046, 'learning_rate': 2e-05, 'epoch': 3.37}\n"
     ]
    },
    {
     "name": "stderr",
     "output_type": "stream",
     "text": [
      "\n",
      "                                               t]\u001b[A\n",
      "  0%|          | 1/450 [21:06<27:06,  3.62s/it]  \n",
      " 68%|██████▊   | 304/450 [20:14<10:00,  4.12s/it]\u001b[A"
     ]
    },
    {
     "name": "stdout",
     "output_type": "stream",
     "text": [
      "{'loss': 1.2716, 'learning_rate': 2e-05, 'epoch': 3.38}\n"
     ]
    },
    {
     "name": "stderr",
     "output_type": "stream",
     "text": [
      "\n",
      "                                               t]\u001b[A\n",
      "  0%|          | 1/450 [21:10<27:06,  3.62s/it]  \n",
      " 68%|██████▊   | 305/450 [20:18<10:10,  4.21s/it]\u001b[A"
     ]
    },
    {
     "name": "stdout",
     "output_type": "stream",
     "text": [
      "{'loss': 1.3449, 'learning_rate': 2e-05, 'epoch': 3.39}\n"
     ]
    },
    {
     "name": "stderr",
     "output_type": "stream",
     "text": [
      "\n",
      "                                               t]\u001b[A\n",
      "  0%|          | 1/450 [21:14<27:06,  3.62s/it]  \n",
      " 68%|██████▊   | 306/450 [20:22<09:38,  4.02s/it]\u001b[A"
     ]
    },
    {
     "name": "stdout",
     "output_type": "stream",
     "text": [
      "{'loss': 1.1789, 'learning_rate': 2e-05, 'epoch': 3.4}\n"
     ]
    },
    {
     "name": "stderr",
     "output_type": "stream",
     "text": [
      "\n",
      "                                               t]\u001b[A\n",
      "  0%|          | 1/450 [21:18<27:06,  3.62s/it]  \n",
      " 68%|██████▊   | 307/450 [20:26<09:41,  4.07s/it]\u001b[A"
     ]
    },
    {
     "name": "stdout",
     "output_type": "stream",
     "text": [
      "{'loss': 1.2985, 'learning_rate': 2e-05, 'epoch': 3.41}\n"
     ]
    },
    {
     "name": "stderr",
     "output_type": "stream",
     "text": [
      "\n",
      "                                               t]\u001b[A\n",
      "  0%|          | 1/450 [21:22<27:06,  3.62s/it]  \n",
      " 68%|██████▊   | 308/450 [20:30<09:34,  4.05s/it]\u001b[A"
     ]
    },
    {
     "name": "stdout",
     "output_type": "stream",
     "text": [
      "{'loss': 1.2788, 'learning_rate': 2e-05, 'epoch': 3.42}\n"
     ]
    },
    {
     "name": "stderr",
     "output_type": "stream",
     "text": [
      "\n",
      "                                               t]\u001b[A\n",
      "  0%|          | 1/450 [21:26<27:06,  3.62s/it]  \n",
      " 69%|██████▊   | 309/450 [20:34<09:22,  3.99s/it]\u001b[A"
     ]
    },
    {
     "name": "stdout",
     "output_type": "stream",
     "text": [
      "{'loss': 1.2677, 'learning_rate': 2e-05, 'epoch': 3.43}\n"
     ]
    },
    {
     "name": "stderr",
     "output_type": "stream",
     "text": [
      "\n",
      "                                               t]\u001b[A\n",
      "  0%|          | 1/450 [21:30<27:06,  3.62s/it]  \n",
      " 69%|██████▉   | 310/450 [20:37<09:05,  3.90s/it]\u001b[A"
     ]
    },
    {
     "name": "stdout",
     "output_type": "stream",
     "text": [
      "{'loss': 1.2218, 'learning_rate': 2e-05, 'epoch': 3.44}\n"
     ]
    },
    {
     "name": "stderr",
     "output_type": "stream",
     "text": [
      "\n",
      "                                               t]\u001b[A\n",
      "  0%|          | 1/450 [21:35<27:06,  3.62s/it]  \n",
      " 69%|██████▉   | 311/450 [20:43<09:52,  4.26s/it]\u001b[A"
     ]
    },
    {
     "name": "stdout",
     "output_type": "stream",
     "text": [
      "{'loss': 1.271, 'learning_rate': 2e-05, 'epoch': 3.46}\n"
     ]
    },
    {
     "name": "stderr",
     "output_type": "stream",
     "text": [
      "\n",
      "                                               t]\u001b[A\n",
      "  0%|          | 1/450 [21:38<27:06,  3.62s/it]  \n",
      " 69%|██████▉   | 312/450 [20:46<09:23,  4.08s/it]\u001b[A"
     ]
    },
    {
     "name": "stdout",
     "output_type": "stream",
     "text": [
      "{'loss': 1.2715, 'learning_rate': 2e-05, 'epoch': 3.47}\n"
     ]
    },
    {
     "name": "stderr",
     "output_type": "stream",
     "text": [
      "\n",
      "                                               t]\u001b[A\n",
      "  0%|          | 1/450 [21:42<27:06,  3.62s/it]  \n",
      " 70%|██████▉   | 313/450 [20:50<08:48,  3.86s/it]\u001b[A"
     ]
    },
    {
     "name": "stdout",
     "output_type": "stream",
     "text": [
      "{'loss': 1.2005, 'learning_rate': 2e-05, 'epoch': 3.48}\n"
     ]
    },
    {
     "name": "stderr",
     "output_type": "stream",
     "text": [
      "\n",
      "                                               t]\u001b[A\n",
      "  0%|          | 1/450 [21:47<27:06,  3.62s/it]  \n",
      " 70%|██████▉   | 314/450 [20:54<09:25,  4.16s/it]\u001b[A"
     ]
    },
    {
     "name": "stdout",
     "output_type": "stream",
     "text": [
      "{'loss': 1.1717, 'learning_rate': 2e-05, 'epoch': 3.49}\n"
     ]
    },
    {
     "name": "stderr",
     "output_type": "stream",
     "text": [
      "\n",
      "                                               t]\u001b[A\n",
      "  0%|          | 1/450 [21:50<27:06,  3.62s/it]  \n",
      " 70%|███████   | 315/450 [20:58<08:44,  3.89s/it]\u001b[A"
     ]
    },
    {
     "name": "stdout",
     "output_type": "stream",
     "text": [
      "{'loss': 1.3096, 'learning_rate': 2e-05, 'epoch': 3.5}\n"
     ]
    },
    {
     "name": "stderr",
     "output_type": "stream",
     "text": [
      "\n",
      "                                               t]\u001b[A\n",
      "  0%|          | 1/450 [21:53<27:06,  3.62s/it]  \n",
      " 70%|███████   | 316/450 [21:01<08:18,  3.72s/it]\u001b[A"
     ]
    },
    {
     "name": "stdout",
     "output_type": "stream",
     "text": [
      "{'loss': 1.3051, 'learning_rate': 2e-05, 'epoch': 3.51}\n"
     ]
    },
    {
     "name": "stderr",
     "output_type": "stream",
     "text": [
      "\n",
      "                                               t]\u001b[A\n",
      "  0%|          | 1/450 [21:58<27:06,  3.62s/it]  \n",
      " 70%|███████   | 317/450 [21:05<08:45,  3.95s/it]\u001b[A"
     ]
    },
    {
     "name": "stdout",
     "output_type": "stream",
     "text": [
      "{'loss': 1.1878, 'learning_rate': 2e-05, 'epoch': 3.52}\n"
     ]
    },
    {
     "name": "stderr",
     "output_type": "stream",
     "text": [
      "\n",
      "                                               t]\u001b[A\n",
      "  0%|          | 1/450 [22:02<27:06,  3.62s/it]  \n",
      " 71%|███████   | 318/450 [21:09<08:40,  3.94s/it]\u001b[A"
     ]
    },
    {
     "name": "stdout",
     "output_type": "stream",
     "text": [
      "{'loss': 1.2418, 'learning_rate': 2e-05, 'epoch': 3.53}\n"
     ]
    },
    {
     "name": "stderr",
     "output_type": "stream",
     "text": [
      "\n",
      "                                               t]\u001b[A\n",
      "  0%|          | 1/450 [22:05<27:06,  3.62s/it]  \n",
      " 71%|███████   | 319/450 [21:13<08:26,  3.86s/it]\u001b[A"
     ]
    },
    {
     "name": "stdout",
     "output_type": "stream",
     "text": [
      "{'loss': 1.3962, 'learning_rate': 2e-05, 'epoch': 3.54}\n"
     ]
    },
    {
     "name": "stderr",
     "output_type": "stream",
     "text": [
      "\n",
      "                                               t]\u001b[A\n",
      "  0%|          | 1/450 [22:10<27:06,  3.62s/it]  \n",
      " 71%|███████   | 320/450 [21:17<08:40,  4.00s/it]\u001b[A"
     ]
    },
    {
     "name": "stdout",
     "output_type": "stream",
     "text": [
      "{'loss': 1.299, 'learning_rate': 2e-05, 'epoch': 3.56}\n"
     ]
    },
    {
     "name": "stderr",
     "output_type": "stream",
     "text": [
      "\n",
      "                                               t]\u001b[A\n",
      "  0%|          | 1/450 [22:14<27:06,  3.62s/it]  \n",
      " 71%|███████▏  | 321/450 [21:22<08:54,  4.14s/it]\u001b[A"
     ]
    },
    {
     "name": "stdout",
     "output_type": "stream",
     "text": [
      "{'loss': 1.3695, 'learning_rate': 2e-05, 'epoch': 3.57}\n"
     ]
    },
    {
     "name": "stderr",
     "output_type": "stream",
     "text": [
      "\n",
      "                                               t]\u001b[A\n",
      "  0%|          | 1/450 [22:18<27:06,  3.62s/it]  \n",
      " 72%|███████▏  | 322/450 [21:25<08:28,  3.97s/it]\u001b[A"
     ]
    },
    {
     "name": "stdout",
     "output_type": "stream",
     "text": [
      "{'loss': 1.1061, 'learning_rate': 2e-05, 'epoch': 3.58}\n"
     ]
    },
    {
     "name": "stderr",
     "output_type": "stream",
     "text": [
      "\n",
      "                                               t]\u001b[A\n",
      "  0%|          | 1/450 [22:21<27:06,  3.62s/it]  \n",
      " 72%|███████▏  | 323/450 [21:29<07:50,  3.71s/it]\u001b[A"
     ]
    },
    {
     "name": "stdout",
     "output_type": "stream",
     "text": [
      "{'loss': 1.2401, 'learning_rate': 2e-05, 'epoch': 3.59}\n"
     ]
    },
    {
     "name": "stderr",
     "output_type": "stream",
     "text": [
      "\n",
      "                                               t]\u001b[A\n",
      "  0%|          | 1/450 [22:25<27:06,  3.62s/it]  \n",
      " 72%|███████▏  | 324/450 [21:33<08:07,  3.87s/it]\u001b[A"
     ]
    },
    {
     "name": "stdout",
     "output_type": "stream",
     "text": [
      "{'loss': 1.3242, 'learning_rate': 2e-05, 'epoch': 3.6}\n"
     ]
    },
    {
     "name": "stderr",
     "output_type": "stream",
     "text": [
      "\n",
      "                                               t]\u001b[A\n",
      "  0%|          | 1/450 [22:29<27:06,  3.62s/it]  \n",
      " 72%|███████▏  | 325/450 [21:37<08:02,  3.86s/it]\u001b[A"
     ]
    },
    {
     "name": "stdout",
     "output_type": "stream",
     "text": [
      "{'loss': 1.2457, 'learning_rate': 2e-05, 'epoch': 3.61}\n"
     ]
    },
    {
     "name": "stderr",
     "output_type": "stream",
     "text": [
      "\n",
      "                                               t]\u001b[A\n",
      "  0%|          | 1/450 [22:32<27:06,  3.62s/it]  \n",
      " 72%|███████▏  | 326/450 [21:40<07:38,  3.70s/it]\u001b[A"
     ]
    },
    {
     "name": "stdout",
     "output_type": "stream",
     "text": [
      "{'loss': 1.2978, 'learning_rate': 2e-05, 'epoch': 3.62}\n"
     ]
    },
    {
     "name": "stderr",
     "output_type": "stream",
     "text": [
      "\n",
      "                                               t]\u001b[A\n",
      "  0%|          | 1/450 [22:41<27:06,  3.62s/it]  \n",
      " 73%|███████▎  | 327/450 [21:49<10:34,  5.16s/it]\u001b[A"
     ]
    },
    {
     "name": "stdout",
     "output_type": "stream",
     "text": [
      "{'loss': 1.3897, 'learning_rate': 2e-05, 'epoch': 3.63}\n"
     ]
    },
    {
     "name": "stderr",
     "output_type": "stream",
     "text": [
      "\n",
      "                                               t]\u001b[A\n",
      "  0%|          | 1/450 [22:45<27:06,  3.62s/it]  \n",
      " 73%|███████▎  | 328/450 [21:53<09:58,  4.91s/it]\u001b[A"
     ]
    },
    {
     "name": "stdout",
     "output_type": "stream",
     "text": [
      "{'loss': 1.2661, 'learning_rate': 2e-05, 'epoch': 3.64}\n"
     ]
    },
    {
     "name": "stderr",
     "output_type": "stream",
     "text": [
      "\n",
      "                                               t]\u001b[A\n",
      "  0%|          | 1/450 [22:48<27:06,  3.62s/it]  \n",
      " 73%|███████▎  | 329/450 [21:56<09:02,  4.48s/it]\u001b[A"
     ]
    },
    {
     "name": "stdout",
     "output_type": "stream",
     "text": [
      "{'loss': 1.2118, 'learning_rate': 2e-05, 'epoch': 3.66}\n"
     ]
    },
    {
     "name": "stderr",
     "output_type": "stream",
     "text": [
      "\n",
      "                                               t]\u001b[A\n",
      "  0%|          | 1/450 [22:51<27:06,  3.62s/it]  \n",
      " 73%|███████▎  | 330/450 [21:59<08:05,  4.04s/it]\u001b[A"
     ]
    },
    {
     "name": "stdout",
     "output_type": "stream",
     "text": [
      "{'loss': 1.1694, 'learning_rate': 2e-05, 'epoch': 3.67}\n"
     ]
    },
    {
     "name": "stderr",
     "output_type": "stream",
     "text": [
      "\n",
      "                                               t]\u001b[A\n",
      "  0%|          | 1/450 [22:56<27:06,  3.62s/it]  "
     ]
    },
    {
     "name": "stdout",
     "output_type": "stream",
     "text": [
      "{'loss': 1.3988, 'learning_rate': 2e-05, 'epoch': 3.68}\n"
     ]
    },
    {
     "name": "stderr",
     "output_type": "stream",
     "text": [
      "\n",
      " 74%|███████▎  | 331/450 [22:03<08:03,  4.06s/it]\u001b[A\n",
      "                                               t]\u001b[A\n",
      "  0%|          | 1/450 [22:59<27:06,  3.62s/it]  \n",
      " 74%|███████▍  | 332/450 [22:07<07:24,  3.77s/it]\u001b[A"
     ]
    },
    {
     "name": "stdout",
     "output_type": "stream",
     "text": [
      "{'loss': 1.2731, 'learning_rate': 2e-05, 'epoch': 3.69}\n"
     ]
    },
    {
     "name": "stderr",
     "output_type": "stream",
     "text": [
      "\n",
      "                                               t]\u001b[A\n",
      "  0%|          | 1/450 [23:02<27:06,  3.62s/it]  \n",
      " 74%|███████▍  | 333/450 [22:10<07:20,  3.77s/it]\u001b[A"
     ]
    },
    {
     "name": "stdout",
     "output_type": "stream",
     "text": [
      "{'loss': 1.2065, 'learning_rate': 2e-05, 'epoch': 3.7}\n"
     ]
    },
    {
     "name": "stderr",
     "output_type": "stream",
     "text": [
      "\n",
      "                                               t]\u001b[A\n",
      "  0%|          | 1/450 [23:07<27:06,  3.62s/it]  \n",
      " 74%|███████▍  | 334/450 [22:15<07:54,  4.09s/it]\u001b[A"
     ]
    },
    {
     "name": "stdout",
     "output_type": "stream",
     "text": [
      "{'loss': 1.2534, 'learning_rate': 2e-05, 'epoch': 3.71}\n"
     ]
    },
    {
     "name": "stderr",
     "output_type": "stream",
     "text": [
      "\n",
      "                                               t]\u001b[A\n",
      "  0%|          | 1/450 [23:12<27:06,  3.62s/it]  \n",
      " 74%|███████▍  | 335/450 [22:20<08:03,  4.21s/it]\u001b[A"
     ]
    },
    {
     "name": "stdout",
     "output_type": "stream",
     "text": [
      "{'loss': 1.27, 'learning_rate': 2e-05, 'epoch': 3.72}\n"
     ]
    },
    {
     "name": "stderr",
     "output_type": "stream",
     "text": [
      "\n",
      "                                               t]\u001b[A\n",
      "  0%|          | 1/450 [23:15<27:06,  3.62s/it]  \n",
      " 75%|███████▍  | 336/450 [22:23<07:30,  3.95s/it]\u001b[A"
     ]
    },
    {
     "name": "stdout",
     "output_type": "stream",
     "text": [
      "{'loss': 1.2694, 'learning_rate': 2e-05, 'epoch': 3.73}\n"
     ]
    },
    {
     "name": "stderr",
     "output_type": "stream",
     "text": [
      "\n",
      "                                               t]\u001b[A\n",
      "  0%|          | 1/450 [23:19<27:06,  3.62s/it]  \n",
      " 75%|███████▍  | 337/450 [22:27<07:26,  3.95s/it]\u001b[A"
     ]
    },
    {
     "name": "stdout",
     "output_type": "stream",
     "text": [
      "{'loss': 1.3454, 'learning_rate': 2e-05, 'epoch': 3.74}\n"
     ]
    },
    {
     "name": "stderr",
     "output_type": "stream",
     "text": [
      "\n",
      "                                               t]\u001b[A\n",
      "  0%|          | 1/450 [23:23<27:06,  3.62s/it]  \n",
      " 75%|███████▌  | 338/450 [22:31<07:10,  3.84s/it]\u001b[A"
     ]
    },
    {
     "name": "stdout",
     "output_type": "stream",
     "text": [
      "{'loss': 1.2267, 'learning_rate': 2e-05, 'epoch': 3.76}\n"
     ]
    },
    {
     "name": "stderr",
     "output_type": "stream",
     "text": [
      "\n",
      "                                               t]\u001b[A\n",
      "  0%|          | 1/450 [23:28<27:06,  3.62s/it]  \n",
      " 75%|███████▌  | 339/450 [22:36<07:52,  4.25s/it]\u001b[A"
     ]
    },
    {
     "name": "stdout",
     "output_type": "stream",
     "text": [
      "{'loss': 1.218, 'learning_rate': 2e-05, 'epoch': 3.77}\n"
     ]
    },
    {
     "name": "stderr",
     "output_type": "stream",
     "text": [
      "\n",
      "                                               t]\u001b[A\n",
      "  0%|          | 1/450 [23:31<27:06,  3.62s/it]  \n",
      " 76%|███████▌  | 340/450 [22:39<07:16,  3.97s/it]\u001b[A"
     ]
    },
    {
     "name": "stdout",
     "output_type": "stream",
     "text": [
      "{'loss': 1.2273, 'learning_rate': 2e-05, 'epoch': 3.78}\n"
     ]
    },
    {
     "name": "stderr",
     "output_type": "stream",
     "text": [
      "\n",
      "                                               t]\u001b[A\n",
      "  0%|          | 1/450 [23:35<27:06,  3.62s/it]  \n",
      " 76%|███████▌  | 341/450 [22:43<07:05,  3.90s/it]\u001b[A"
     ]
    },
    {
     "name": "stdout",
     "output_type": "stream",
     "text": [
      "{'loss': 1.2489, 'learning_rate': 2e-05, 'epoch': 3.79}\n"
     ]
    },
    {
     "name": "stderr",
     "output_type": "stream",
     "text": [
      "\n",
      "                                               t]\u001b[A\n",
      "  0%|          | 1/450 [23:40<27:06,  3.62s/it]  \n",
      " 76%|███████▌  | 342/450 [22:47<07:24,  4.11s/it]\u001b[A"
     ]
    },
    {
     "name": "stdout",
     "output_type": "stream",
     "text": [
      "{'loss': 1.2881, 'learning_rate': 2e-05, 'epoch': 3.8}\n"
     ]
    },
    {
     "name": "stderr",
     "output_type": "stream",
     "text": [
      "\n",
      "                                               t]\u001b[A\n",
      "  0%|          | 1/450 [23:43<27:06,  3.62s/it]  \n",
      " 76%|███████▌  | 343/450 [22:51<07:08,  4.01s/it]\u001b[A"
     ]
    },
    {
     "name": "stdout",
     "output_type": "stream",
     "text": [
      "{'loss': 1.2662, 'learning_rate': 2e-05, 'epoch': 3.81}\n"
     ]
    },
    {
     "name": "stderr",
     "output_type": "stream",
     "text": [
      "\n",
      "                                               t]\u001b[A\n",
      "  0%|          | 1/450 [23:48<27:06,  3.62s/it]  \n",
      " 76%|███████▋  | 344/450 [22:56<07:38,  4.33s/it]\u001b[A"
     ]
    },
    {
     "name": "stdout",
     "output_type": "stream",
     "text": [
      "{'loss': 1.2939, 'learning_rate': 2e-05, 'epoch': 3.82}\n"
     ]
    },
    {
     "name": "stderr",
     "output_type": "stream",
     "text": [
      "\n",
      "                                               t]\u001b[A\n",
      "  0%|          | 1/450 [23:52<27:06,  3.62s/it]  \n",
      " 77%|███████▋  | 345/450 [23:00<07:25,  4.25s/it]\u001b[A"
     ]
    },
    {
     "name": "stdout",
     "output_type": "stream",
     "text": [
      "{'loss': 1.2775, 'learning_rate': 2e-05, 'epoch': 3.83}\n"
     ]
    },
    {
     "name": "stderr",
     "output_type": "stream",
     "text": [
      "\n",
      "                                               t]\u001b[A\n",
      "  0%|          | 1/450 [23:58<27:06,  3.62s/it]  \n",
      " 77%|███████▋  | 346/450 [23:05<07:48,  4.51s/it]\u001b[A"
     ]
    },
    {
     "name": "stdout",
     "output_type": "stream",
     "text": [
      "{'loss': 1.2644, 'learning_rate': 2e-05, 'epoch': 3.84}\n"
     ]
    },
    {
     "name": "stderr",
     "output_type": "stream",
     "text": [
      "\n",
      "                                               t]\u001b[A\n",
      "  0%|          | 1/450 [24:01<27:06,  3.62s/it]  \n",
      " 77%|███████▋  | 347/450 [23:09<07:24,  4.31s/it]\u001b[A"
     ]
    },
    {
     "name": "stdout",
     "output_type": "stream",
     "text": [
      "{'loss': 1.2018, 'learning_rate': 2e-05, 'epoch': 3.86}\n"
     ]
    },
    {
     "name": "stderr",
     "output_type": "stream",
     "text": [
      "\n",
      "                                               t]\u001b[A\n",
      "  0%|          | 1/450 [24:05<27:06,  3.62s/it]  \n",
      " 77%|███████▋  | 348/450 [23:13<06:58,  4.11s/it]\u001b[A"
     ]
    },
    {
     "name": "stdout",
     "output_type": "stream",
     "text": [
      "{'loss': 1.2024, 'learning_rate': 2e-05, 'epoch': 3.87}\n"
     ]
    },
    {
     "name": "stderr",
     "output_type": "stream",
     "text": [
      "\n",
      "                                               t]\u001b[A\n",
      "  0%|          | 1/450 [24:09<27:06,  3.62s/it]  \n",
      " 78%|███████▊  | 349/450 [23:17<06:45,  4.02s/it]\u001b[A"
     ]
    },
    {
     "name": "stdout",
     "output_type": "stream",
     "text": [
      "{'loss': 1.1545, 'learning_rate': 2e-05, 'epoch': 3.88}\n"
     ]
    },
    {
     "name": "stderr",
     "output_type": "stream",
     "text": [
      "\n",
      "                                               t]\u001b[A\n",
      "  0%|          | 1/450 [24:13<27:06,  3.62s/it]  \n",
      " 78%|███████▊  | 350/450 [23:20<06:32,  3.93s/it]\u001b[A"
     ]
    },
    {
     "name": "stdout",
     "output_type": "stream",
     "text": [
      "{'loss': 1.2889, 'learning_rate': 2e-05, 'epoch': 3.89}\n"
     ]
    },
    {
     "name": "stderr",
     "output_type": "stream",
     "text": [
      "\n",
      "                                               t]\u001b[A\n",
      "  0%|          | 1/450 [24:16<27:06,  3.62s/it]  \n",
      " 78%|███████▊  | 351/450 [23:24<06:21,  3.86s/it]\u001b[A"
     ]
    },
    {
     "name": "stdout",
     "output_type": "stream",
     "text": [
      "{'loss': 1.325, 'learning_rate': 2e-05, 'epoch': 3.9}\n"
     ]
    },
    {
     "name": "stderr",
     "output_type": "stream",
     "text": [
      "\n",
      "                                               t]\u001b[A\n",
      "  0%|          | 1/450 [24:20<27:06,  3.62s/it]  \n",
      " 78%|███████▊  | 352/450 [23:28<06:09,  3.77s/it]\u001b[A"
     ]
    },
    {
     "name": "stdout",
     "output_type": "stream",
     "text": [
      "{'loss': 1.2361, 'learning_rate': 2e-05, 'epoch': 3.91}\n"
     ]
    },
    {
     "name": "stderr",
     "output_type": "stream",
     "text": [
      "\n",
      "                                               t]\u001b[A\n",
      "  0%|          | 1/450 [24:24<27:06,  3.62s/it]  \n",
      " 78%|███████▊  | 353/450 [23:32<06:27,  3.99s/it]\u001b[A"
     ]
    },
    {
     "name": "stdout",
     "output_type": "stream",
     "text": [
      "{'loss': 1.1623, 'learning_rate': 2e-05, 'epoch': 3.92}\n"
     ]
    },
    {
     "name": "stderr",
     "output_type": "stream",
     "text": [
      "\n",
      "                                               t]\u001b[A\n",
      "  0%|          | 1/450 [24:28<27:06,  3.62s/it]  \n",
      " 79%|███████▊  | 354/450 [23:36<06:28,  4.04s/it]\u001b[A"
     ]
    },
    {
     "name": "stdout",
     "output_type": "stream",
     "text": [
      "{'loss': 1.2293, 'learning_rate': 2e-05, 'epoch': 3.93}\n"
     ]
    },
    {
     "name": "stderr",
     "output_type": "stream",
     "text": [
      "\n",
      "                                               t]\u001b[A\n",
      "  0%|          | 1/450 [24:32<27:06,  3.62s/it]  \n",
      " 79%|███████▉  | 355/450 [23:40<06:17,  3.98s/it]\u001b[A"
     ]
    },
    {
     "name": "stdout",
     "output_type": "stream",
     "text": [
      "{'loss': 1.2276, 'learning_rate': 2e-05, 'epoch': 3.94}\n"
     ]
    },
    {
     "name": "stderr",
     "output_type": "stream",
     "text": [
      "\n",
      "                                               t]\u001b[A\n",
      "  0%|          | 1/450 [24:36<27:06,  3.62s/it]  \n",
      " 79%|███████▉  | 356/450 [23:44<06:02,  3.86s/it]\u001b[A"
     ]
    },
    {
     "name": "stdout",
     "output_type": "stream",
     "text": [
      "{'loss': 1.3927, 'learning_rate': 2e-05, 'epoch': 3.96}\n"
     ]
    },
    {
     "name": "stderr",
     "output_type": "stream",
     "text": [
      "\n",
      "                                               t]\u001b[A\n",
      "  0%|          | 1/450 [24:40<27:06,  3.62s/it]  \n",
      " 79%|███████▉  | 357/450 [23:48<06:12,  4.00s/it]\u001b[A"
     ]
    },
    {
     "name": "stdout",
     "output_type": "stream",
     "text": [
      "{'loss': 1.2086, 'learning_rate': 2e-05, 'epoch': 3.97}\n"
     ]
    },
    {
     "name": "stderr",
     "output_type": "stream",
     "text": [
      "\n",
      "                                               t]\u001b[A\n",
      "  0%|          | 1/450 [24:46<27:06,  3.62s/it]  \n",
      " 80%|███████▉  | 358/450 [23:54<06:48,  4.44s/it]\u001b[A"
     ]
    },
    {
     "name": "stdout",
     "output_type": "stream",
     "text": [
      "{'loss': 1.2342, 'learning_rate': 2e-05, 'epoch': 3.98}\n"
     ]
    },
    {
     "name": "stderr",
     "output_type": "stream",
     "text": [
      "\n",
      "                                               t]\u001b[A\n",
      "  0%|          | 1/450 [24:50<27:06,  3.62s/it]  \n",
      " 80%|███████▉  | 359/450 [23:58<06:49,  4.50s/it]\u001b[A"
     ]
    },
    {
     "name": "stdout",
     "output_type": "stream",
     "text": [
      "{'loss': 1.3277, 'learning_rate': 2e-05, 'epoch': 3.99}\n"
     ]
    },
    {
     "name": "stderr",
     "output_type": "stream",
     "text": [
      "\n",
      "                                               t]\u001b[A\n",
      "  0%|          | 1/450 [24:54<27:06,  3.62s/it]  \n",
      " 80%|████████  | 360/450 [24:02<06:24,  4.27s/it]\u001b[A"
     ]
    },
    {
     "name": "stdout",
     "output_type": "stream",
     "text": [
      "{'loss': 1.095, 'learning_rate': 2e-05, 'epoch': 4.0}\n"
     ]
    },
    {
     "name": "stderr",
     "output_type": "stream",
     "text": [
      "\n",
      "                                               t]\u001b[A\n",
      "  0%|          | 1/450 [24:58<27:06,  3.62s/it]  \n",
      " 80%|████████  | 361/450 [24:05<06:01,  4.06s/it]\u001b[A"
     ]
    },
    {
     "name": "stdout",
     "output_type": "stream",
     "text": [
      "{'loss': 1.2089, 'learning_rate': 2e-05, 'epoch': 4.01}\n"
     ]
    },
    {
     "name": "stderr",
     "output_type": "stream",
     "text": [
      "\n",
      "                                               t]\u001b[A\n",
      "  0%|          | 1/450 [25:01<27:06,  3.62s/it]  \n",
      " 80%|████████  | 362/450 [24:09<05:52,  4.00s/it]\u001b[A"
     ]
    },
    {
     "name": "stdout",
     "output_type": "stream",
     "text": [
      "{'loss': 1.1913, 'learning_rate': 2e-05, 'epoch': 4.02}\n"
     ]
    },
    {
     "name": "stderr",
     "output_type": "stream",
     "text": [
      "\n",
      "                                               t]\u001b[A\n",
      "  0%|          | 1/450 [25:05<27:06,  3.62s/it]  \n",
      " 81%|████████  | 363/450 [24:13<05:43,  3.95s/it]\u001b[A"
     ]
    },
    {
     "name": "stdout",
     "output_type": "stream",
     "text": [
      "{'loss': 1.2266, 'learning_rate': 2e-05, 'epoch': 4.03}\n"
     ]
    },
    {
     "name": "stderr",
     "output_type": "stream",
     "text": [
      "\n",
      "                                               t]\u001b[A\n",
      "  0%|          | 1/450 [25:10<27:06,  3.62s/it]  \n",
      " 81%|████████  | 364/450 [24:18<05:50,  4.07s/it]\u001b[A"
     ]
    },
    {
     "name": "stdout",
     "output_type": "stream",
     "text": [
      "{'loss': 1.2277, 'learning_rate': 2e-05, 'epoch': 4.04}\n"
     ]
    },
    {
     "name": "stderr",
     "output_type": "stream",
     "text": [
      "\n",
      "                                               t]\u001b[A\n",
      "  0%|          | 1/450 [25:14<27:06,  3.62s/it]  \n",
      " 81%|████████  | 365/450 [24:22<05:53,  4.16s/it]\u001b[A"
     ]
    },
    {
     "name": "stdout",
     "output_type": "stream",
     "text": [
      "{'loss': 1.1979, 'learning_rate': 2e-05, 'epoch': 4.06}\n"
     ]
    },
    {
     "name": "stderr",
     "output_type": "stream",
     "text": [
      "\n",
      "                                               t]\u001b[A\n",
      "  0%|          | 1/450 [25:18<27:06,  3.62s/it]  \n",
      " 81%|████████▏ | 366/450 [24:25<05:32,  3.96s/it]\u001b[A"
     ]
    },
    {
     "name": "stdout",
     "output_type": "stream",
     "text": [
      "{'loss': 1.0823, 'learning_rate': 2e-05, 'epoch': 4.07}\n"
     ]
    },
    {
     "name": "stderr",
     "output_type": "stream",
     "text": [
      "\n",
      "                                               t]\u001b[A\n",
      "  0%|          | 1/450 [25:21<27:06,  3.62s/it]  \n",
      " 82%|████████▏ | 367/450 [24:29<05:22,  3.89s/it]\u001b[A"
     ]
    },
    {
     "name": "stdout",
     "output_type": "stream",
     "text": [
      "{'loss': 1.154, 'learning_rate': 2e-05, 'epoch': 4.08}\n"
     ]
    },
    {
     "name": "stderr",
     "output_type": "stream",
     "text": [
      "\n",
      "                                               t]\u001b[A\n",
      "  0%|          | 1/450 [25:25<27:06,  3.62s/it]  \n",
      " 82%|████████▏ | 368/450 [24:33<05:08,  3.77s/it]\u001b[A"
     ]
    },
    {
     "name": "stdout",
     "output_type": "stream",
     "text": [
      "{'loss': 1.0512, 'learning_rate': 2e-05, 'epoch': 4.09}\n"
     ]
    },
    {
     "name": "stderr",
     "output_type": "stream",
     "text": [
      "\n",
      "                                               t]\u001b[A\n",
      "  0%|          | 1/450 [25:29<27:06,  3.62s/it]  \n",
      " 82%|████████▏ | 369/450 [24:37<05:19,  3.95s/it]\u001b[A"
     ]
    },
    {
     "name": "stdout",
     "output_type": "stream",
     "text": [
      "{'loss': 1.2045, 'learning_rate': 2e-05, 'epoch': 4.1}\n"
     ]
    },
    {
     "name": "stderr",
     "output_type": "stream",
     "text": [
      "\n",
      "                                               t]\u001b[A\n",
      "  0%|          | 1/450 [25:33<27:06,  3.62s/it]  \n",
      " 82%|████████▏ | 370/450 [24:40<05:04,  3.81s/it]\u001b[A"
     ]
    },
    {
     "name": "stdout",
     "output_type": "stream",
     "text": [
      "{'loss': 1.014, 'learning_rate': 2e-05, 'epoch': 4.11}\n"
     ]
    },
    {
     "name": "stderr",
     "output_type": "stream",
     "text": [
      "\n",
      "                                               t]\u001b[A\n",
      "  0%|          | 1/450 [25:37<27:06,  3.62s/it]  \n",
      " 82%|████████▏ | 371/450 [24:44<05:03,  3.84s/it]\u001b[A"
     ]
    },
    {
     "name": "stdout",
     "output_type": "stream",
     "text": [
      "{'loss': 1.3316, 'learning_rate': 2e-05, 'epoch': 4.12}\n"
     ]
    },
    {
     "name": "stderr",
     "output_type": "stream",
     "text": [
      "\n",
      "                                               t]\u001b[A\n",
      "  0%|          | 1/450 [25:42<27:06,  3.62s/it]  \n",
      " 83%|████████▎ | 372/450 [24:50<05:47,  4.45s/it]\u001b[A"
     ]
    },
    {
     "name": "stdout",
     "output_type": "stream",
     "text": [
      "{'loss': 1.203, 'learning_rate': 2e-05, 'epoch': 4.13}\n"
     ]
    },
    {
     "name": "stderr",
     "output_type": "stream",
     "text": [
      "\n",
      "                                               t]\u001b[A\n",
      "  0%|          | 1/450 [25:46<27:06,  3.62s/it]  \n",
      " 83%|████████▎ | 373/450 [24:54<05:29,  4.27s/it]\u001b[A"
     ]
    },
    {
     "name": "stdout",
     "output_type": "stream",
     "text": [
      "{'loss': 1.12, 'learning_rate': 2e-05, 'epoch': 4.14}\n"
     ]
    },
    {
     "name": "stderr",
     "output_type": "stream",
     "text": [
      "\n",
      "                                               t]\u001b[A\n",
      "  0%|          | 1/450 [25:50<27:06,  3.62s/it]  \n",
      " 83%|████████▎ | 374/450 [24:58<05:08,  4.06s/it]\u001b[A"
     ]
    },
    {
     "name": "stdout",
     "output_type": "stream",
     "text": [
      "{'loss': 1.1264, 'learning_rate': 2e-05, 'epoch': 4.16}\n"
     ]
    },
    {
     "name": "stderr",
     "output_type": "stream",
     "text": [
      "\n",
      "                                               t]\u001b[A\n",
      "  0%|          | 1/450 [25:54<27:06,  3.62s/it]  \n",
      " 83%|████████▎ | 375/450 [25:02<05:10,  4.14s/it]\u001b[A"
     ]
    },
    {
     "name": "stdout",
     "output_type": "stream",
     "text": [
      "{'loss': 1.1057, 'learning_rate': 2e-05, 'epoch': 4.17}\n"
     ]
    },
    {
     "name": "stderr",
     "output_type": "stream",
     "text": [
      "\n",
      "                                               t]\u001b[A\n",
      "  0%|          | 1/450 [25:58<27:06,  3.62s/it]  \n",
      " 84%|████████▎ | 376/450 [25:06<04:54,  3.98s/it]\u001b[A"
     ]
    },
    {
     "name": "stdout",
     "output_type": "stream",
     "text": [
      "{'loss': 1.2399, 'learning_rate': 2e-05, 'epoch': 4.18}\n"
     ]
    },
    {
     "name": "stderr",
     "output_type": "stream",
     "text": [
      "\n",
      "                                               t]\u001b[A\n",
      "  0%|          | 1/450 [26:01<27:06,  3.62s/it]  \n",
      " 84%|████████▍ | 377/450 [25:09<04:43,  3.88s/it]\u001b[A"
     ]
    },
    {
     "name": "stdout",
     "output_type": "stream",
     "text": [
      "{'loss': 1.1301, 'learning_rate': 2e-05, 'epoch': 4.19}\n"
     ]
    },
    {
     "name": "stderr",
     "output_type": "stream",
     "text": [
      "\n",
      "                                               t]\u001b[A\n",
      "  0%|          | 1/450 [26:05<27:06,  3.62s/it]  \n",
      " 84%|████████▍ | 378/450 [25:13<04:39,  3.88s/it]\u001b[A"
     ]
    },
    {
     "name": "stdout",
     "output_type": "stream",
     "text": [
      "{'loss': 1.3355, 'learning_rate': 2e-05, 'epoch': 4.2}\n"
     ]
    },
    {
     "name": "stderr",
     "output_type": "stream",
     "text": [
      "\n",
      "                                               t]\u001b[A\n",
      "  0%|          | 1/450 [26:09<27:06,  3.62s/it]  \n",
      " 84%|████████▍ | 379/450 [25:17<04:36,  3.90s/it]\u001b[A"
     ]
    },
    {
     "name": "stdout",
     "output_type": "stream",
     "text": [
      "{'loss': 1.1899, 'learning_rate': 2e-05, 'epoch': 4.21}\n"
     ]
    },
    {
     "name": "stderr",
     "output_type": "stream",
     "text": [
      "\n",
      "                                               t]\u001b[A\n",
      "  0%|          | 1/450 [26:14<27:06,  3.62s/it]  \n",
      " 84%|████████▍ | 380/450 [25:22<04:47,  4.10s/it]\u001b[A"
     ]
    },
    {
     "name": "stdout",
     "output_type": "stream",
     "text": [
      "{'loss': 1.2065, 'learning_rate': 2e-05, 'epoch': 4.22}\n"
     ]
    },
    {
     "name": "stderr",
     "output_type": "stream",
     "text": [
      "\n",
      "                                               t]\u001b[A\n",
      "  0%|          | 1/450 [26:17<27:06,  3.62s/it]  \n",
      " 85%|████████▍ | 381/450 [25:25<04:30,  3.92s/it]\u001b[A"
     ]
    },
    {
     "name": "stdout",
     "output_type": "stream",
     "text": [
      "{'loss': 1.136, 'learning_rate': 2e-05, 'epoch': 4.23}\n"
     ]
    },
    {
     "name": "stderr",
     "output_type": "stream",
     "text": [
      "\n",
      "                                               t]\u001b[A\n",
      "  0%|          | 1/450 [26:21<27:06,  3.62s/it]  \n",
      " 85%|████████▍ | 382/450 [25:29<04:21,  3.85s/it]\u001b[A"
     ]
    },
    {
     "name": "stdout",
     "output_type": "stream",
     "text": [
      "{'loss': 1.1253, 'learning_rate': 2e-05, 'epoch': 4.24}\n"
     ]
    },
    {
     "name": "stderr",
     "output_type": "stream",
     "text": [
      "\n",
      "                                               t]\u001b[A\n",
      "  0%|          | 1/450 [26:24<27:06,  3.62s/it]  \n",
      " 85%|████████▌ | 383/450 [25:32<04:07,  3.69s/it]\u001b[A"
     ]
    },
    {
     "name": "stdout",
     "output_type": "stream",
     "text": [
      "{'loss': 1.0939, 'learning_rate': 2e-05, 'epoch': 4.26}\n"
     ]
    },
    {
     "name": "stderr",
     "output_type": "stream",
     "text": [
      "\n",
      "                                               t]\u001b[A\n",
      "  0%|          | 1/450 [26:28<27:06,  3.62s/it]  \n",
      " 85%|████████▌ | 384/450 [25:36<03:57,  3.60s/it]\u001b[A"
     ]
    },
    {
     "name": "stdout",
     "output_type": "stream",
     "text": [
      "{'loss': 1.1914, 'learning_rate': 2e-05, 'epoch': 4.27}\n"
     ]
    },
    {
     "name": "stderr",
     "output_type": "stream",
     "text": [
      "\n",
      "                                               t]\u001b[A\n",
      "  0%|          | 1/450 [26:31<27:06,  3.62s/it]  \n",
      " 86%|████████▌ | 385/450 [25:39<03:44,  3.45s/it]"
     ]
    },
    {
     "name": "stdout",
     "output_type": "stream",
     "text": [
      "{'loss': 1.0254, 'learning_rate': 2e-05, 'epoch': 4.28}\n"
     ]
    },
    {
     "name": "stderr",
     "output_type": "stream",
     "text": [
      "\u001b[A\n",
      "                                               t]\u001b[A\n",
      "  0%|          | 1/450 [26:36<27:06,  3.62s/it]  \n",
      " 86%|████████▌ | 386/450 [25:44<04:11,  3.94s/it]\u001b[A"
     ]
    },
    {
     "name": "stdout",
     "output_type": "stream",
     "text": [
      "{'loss': 1.2813, 'learning_rate': 2e-05, 'epoch': 4.29}\n"
     ]
    },
    {
     "name": "stderr",
     "output_type": "stream",
     "text": [
      "\n",
      "                                               t]\u001b[A\n",
      "  0%|          | 1/450 [26:39<27:06,  3.62s/it]  \n",
      " 86%|████████▌ | 387/450 [25:47<03:52,  3.69s/it]\u001b[A"
     ]
    },
    {
     "name": "stdout",
     "output_type": "stream",
     "text": [
      "{'loss': 1.33, 'learning_rate': 2e-05, 'epoch': 4.3}\n"
     ]
    },
    {
     "name": "stderr",
     "output_type": "stream",
     "text": [
      "\n",
      "                                               t]\u001b[A\n",
      "  0%|          | 1/450 [26:43<27:06,  3.62s/it]  \n",
      " 86%|████████▌ | 388/450 [25:50<03:46,  3.66s/it]\u001b[A"
     ]
    },
    {
     "name": "stdout",
     "output_type": "stream",
     "text": [
      "{'loss': 1.2726, 'learning_rate': 2e-05, 'epoch': 4.31}\n"
     ]
    },
    {
     "name": "stderr",
     "output_type": "stream",
     "text": [
      "\n",
      "                                               t]\u001b[A\n",
      "  0%|          | 1/450 [26:46<27:06,  3.62s/it]  \n",
      " 86%|████████▋ | 389/450 [25:54<03:40,  3.62s/it]\u001b[A"
     ]
    },
    {
     "name": "stdout",
     "output_type": "stream",
     "text": [
      "{'loss': 1.285, 'learning_rate': 2e-05, 'epoch': 4.32}\n"
     ]
    },
    {
     "name": "stderr",
     "output_type": "stream",
     "text": [
      "\n",
      "                                               t]\u001b[A\n",
      "  0%|          | 1/450 [26:50<27:06,  3.62s/it]  \n",
      " 87%|████████▋ | 390/450 [25:58<03:42,  3.70s/it]\u001b[A"
     ]
    },
    {
     "name": "stdout",
     "output_type": "stream",
     "text": [
      "{'loss': 1.2668, 'learning_rate': 2e-05, 'epoch': 4.33}\n"
     ]
    },
    {
     "name": "stderr",
     "output_type": "stream",
     "text": [
      "\n",
      "                                               t]\u001b[A\n",
      "  0%|          | 1/450 [26:54<27:06,  3.62s/it]  \n",
      " 87%|████████▋ | 391/450 [26:02<03:43,  3.78s/it]\u001b[A"
     ]
    },
    {
     "name": "stdout",
     "output_type": "stream",
     "text": [
      "{'loss': 1.1492, 'learning_rate': 2e-05, 'epoch': 4.34}\n"
     ]
    },
    {
     "name": "stderr",
     "output_type": "stream",
     "text": [
      "\n",
      "                                               t]\u001b[A\n",
      "  0%|          | 1/450 [26:59<27:06,  3.62s/it]  \n",
      " 87%|████████▋ | 392/450 [26:07<03:56,  4.08s/it]\u001b[A"
     ]
    },
    {
     "name": "stdout",
     "output_type": "stream",
     "text": [
      "{'loss': 1.3813, 'learning_rate': 2e-05, 'epoch': 4.36}\n"
     ]
    },
    {
     "name": "stderr",
     "output_type": "stream",
     "text": [
      "\n",
      "                                               t]\u001b[A\n",
      "  0%|          | 1/450 [27:02<27:06,  3.62s/it]  \n",
      " 87%|████████▋ | 393/450 [26:10<03:46,  3.98s/it]\u001b[A"
     ]
    },
    {
     "name": "stdout",
     "output_type": "stream",
     "text": [
      "{'loss': 1.2568, 'learning_rate': 2e-05, 'epoch': 4.37}\n"
     ]
    },
    {
     "name": "stderr",
     "output_type": "stream",
     "text": [
      "\n",
      "                                               t]\u001b[A\n",
      "  0%|          | 1/450 [27:07<27:06,  3.62s/it]  \n",
      " 88%|████████▊ | 394/450 [26:15<03:54,  4.19s/it]\u001b[A"
     ]
    },
    {
     "name": "stdout",
     "output_type": "stream",
     "text": [
      "{'loss': 1.2187, 'learning_rate': 2e-05, 'epoch': 4.38}\n"
     ]
    },
    {
     "name": "stderr",
     "output_type": "stream",
     "text": [
      "\n",
      "                                               t]\u001b[A\n",
      "  0%|          | 1/450 [27:11<27:06,  3.62s/it]  \n",
      " 88%|████████▊ | 395/450 [26:19<03:43,  4.06s/it]\u001b[A"
     ]
    },
    {
     "name": "stdout",
     "output_type": "stream",
     "text": [
      "{'loss': 1.2138, 'learning_rate': 2e-05, 'epoch': 4.39}\n"
     ]
    },
    {
     "name": "stderr",
     "output_type": "stream",
     "text": [
      "\n",
      "                                               t]\u001b[A\n",
      "  0%|          | 1/450 [27:15<27:06,  3.62s/it]  \n",
      " 88%|████████▊ | 396/450 [26:22<03:32,  3.94s/it]\u001b[A"
     ]
    },
    {
     "name": "stdout",
     "output_type": "stream",
     "text": [
      "{'loss': 1.1566, 'learning_rate': 2e-05, 'epoch': 4.4}\n"
     ]
    },
    {
     "name": "stderr",
     "output_type": "stream",
     "text": [
      "\n",
      "                                               t]\u001b[A\n",
      "  0%|          | 1/450 [27:19<27:06,  3.62s/it]  \n",
      " 88%|████████▊ | 397/450 [26:26<03:29,  3.96s/it]\u001b[A"
     ]
    },
    {
     "name": "stdout",
     "output_type": "stream",
     "text": [
      "{'loss': 1.1737, 'learning_rate': 2e-05, 'epoch': 4.41}\n"
     ]
    },
    {
     "name": "stderr",
     "output_type": "stream",
     "text": [
      "\n",
      "                                               t]\u001b[A\n",
      "  0%|          | 1/450 [27:23<27:06,  3.62s/it]  \n",
      " 88%|████████▊ | 398/450 [26:31<03:33,  4.10s/it]\u001b[A"
     ]
    },
    {
     "name": "stdout",
     "output_type": "stream",
     "text": [
      "{'loss': 1.0587, 'learning_rate': 2e-05, 'epoch': 4.42}\n"
     ]
    },
    {
     "name": "stderr",
     "output_type": "stream",
     "text": [
      "\n",
      "                                               t]\u001b[A\n",
      "  0%|          | 1/450 [27:28<27:06,  3.62s/it]  \n",
      " 89%|████████▊ | 399/450 [26:36<03:48,  4.47s/it]\u001b[A"
     ]
    },
    {
     "name": "stdout",
     "output_type": "stream",
     "text": [
      "{'loss': 1.2795, 'learning_rate': 2e-05, 'epoch': 4.43}\n"
     ]
    },
    {
     "name": "stderr",
     "output_type": "stream",
     "text": [
      "\n",
      "                                               t]\u001b[A\n",
      "  0%|          | 1/450 [27:33<27:06,  3.62s/it]  \n",
      " 89%|████████▉ | 400/450 [26:41<03:43,  4.47s/it]\u001b[A"
     ]
    },
    {
     "name": "stdout",
     "output_type": "stream",
     "text": [
      "{'loss': 1.1618, 'learning_rate': 2e-05, 'epoch': 4.44}\n"
     ]
    },
    {
     "name": "stderr",
     "output_type": "stream",
     "text": [
      "\n",
      "                                               t]\u001b[A\n",
      "  0%|          | 1/450 [27:36<27:06,  3.62s/it]  \n",
      " 89%|████████▉ | 401/450 [26:44<03:23,  4.15s/it]\u001b[A"
     ]
    },
    {
     "name": "stdout",
     "output_type": "stream",
     "text": [
      "{'loss': 1.34, 'learning_rate': 2e-05, 'epoch': 4.46}\n"
     ]
    },
    {
     "name": "stderr",
     "output_type": "stream",
     "text": [
      "\n",
      "                                               t]\u001b[A\n",
      "  0%|          | 1/450 [27:41<27:06,  3.62s/it]  \n",
      " 89%|████████▉ | 402/450 [26:49<03:28,  4.35s/it]\u001b[A"
     ]
    },
    {
     "name": "stdout",
     "output_type": "stream",
     "text": [
      "{'loss': 1.209, 'learning_rate': 2e-05, 'epoch': 4.47}\n"
     ]
    },
    {
     "name": "stderr",
     "output_type": "stream",
     "text": [
      "\n",
      "                                               t]\u001b[A\n",
      "  0%|          | 1/450 [27:46<27:06,  3.62s/it]  \n",
      " 90%|████████▉ | 403/450 [26:54<03:30,  4.49s/it]\u001b[A"
     ]
    },
    {
     "name": "stdout",
     "output_type": "stream",
     "text": [
      "{'loss': 1.2528, 'learning_rate': 2e-05, 'epoch': 4.48}\n"
     ]
    },
    {
     "name": "stderr",
     "output_type": "stream",
     "text": [
      "\n",
      "                                               t]\u001b[A\n",
      "  0%|          | 1/450 [27:49<27:06,  3.62s/it]  \n",
      " 90%|████████▉ | 404/450 [26:57<03:14,  4.23s/it]\u001b[A"
     ]
    },
    {
     "name": "stdout",
     "output_type": "stream",
     "text": [
      "{'loss': 1.2385, 'learning_rate': 2e-05, 'epoch': 4.49}\n"
     ]
    },
    {
     "name": "stderr",
     "output_type": "stream",
     "text": [
      "\n",
      "                                               t]\u001b[A\n",
      "  0%|          | 1/450 [27:54<27:06,  3.62s/it]  \n",
      " 90%|█████████ | 405/450 [27:02<03:17,  4.40s/it]\u001b[A"
     ]
    },
    {
     "name": "stdout",
     "output_type": "stream",
     "text": [
      "{'loss': 1.1926, 'learning_rate': 2e-05, 'epoch': 4.5}\n"
     ]
    },
    {
     "name": "stderr",
     "output_type": "stream",
     "text": [
      "\n",
      "                                               t]\u001b[A\n",
      "  0%|          | 1/450 [27:57<27:06,  3.62s/it]  \n",
      " 90%|█████████ | 406/450 [27:05<02:55,  4.00s/it]\u001b[A"
     ]
    },
    {
     "name": "stdout",
     "output_type": "stream",
     "text": [
      "{'loss': 1.1949, 'learning_rate': 2e-05, 'epoch': 4.51}\n"
     ]
    },
    {
     "name": "stderr",
     "output_type": "stream",
     "text": [
      "\n",
      "                                               t]\u001b[A\n",
      "  0%|          | 1/450 [28:01<27:06,  3.62s/it]  \n",
      " 90%|█████████ | 407/450 [27:09<02:49,  3.94s/it]\u001b[A"
     ]
    },
    {
     "name": "stdout",
     "output_type": "stream",
     "text": [
      "{'loss': 1.2489, 'learning_rate': 2e-05, 'epoch': 4.52}\n"
     ]
    },
    {
     "name": "stderr",
     "output_type": "stream",
     "text": [
      "\n",
      "                                               t]\u001b[A\n",
      "  0%|          | 1/450 [28:05<27:06,  3.62s/it]  \n",
      " 91%|█████████ | 408/450 [27:13<02:44,  3.92s/it]\u001b[A"
     ]
    },
    {
     "name": "stdout",
     "output_type": "stream",
     "text": [
      "{'loss': 1.2361, 'learning_rate': 2e-05, 'epoch': 4.53}\n"
     ]
    },
    {
     "name": "stderr",
     "output_type": "stream",
     "text": [
      "\n",
      "                                               t]\u001b[A\n",
      "  0%|          | 1/450 [28:09<27:06,  3.62s/it]  \n",
      " 91%|█████████ | 409/450 [27:17<02:48,  4.10s/it]\u001b[A"
     ]
    },
    {
     "name": "stdout",
     "output_type": "stream",
     "text": [
      "{'loss': 1.186, 'learning_rate': 2e-05, 'epoch': 4.54}\n"
     ]
    },
    {
     "name": "stderr",
     "output_type": "stream",
     "text": [
      "\n",
      "                                               t]\u001b[A\n",
      "  0%|          | 1/450 [28:13<27:06,  3.62s/it]  \n",
      " 91%|█████████ | 410/450 [27:20<02:32,  3.81s/it]\u001b[A"
     ]
    },
    {
     "name": "stdout",
     "output_type": "stream",
     "text": [
      "{'loss': 1.2088, 'learning_rate': 2e-05, 'epoch': 4.56}\n"
     ]
    },
    {
     "name": "stderr",
     "output_type": "stream",
     "text": [
      "\n",
      "                                               t]\u001b[A\n",
      "  0%|          | 1/450 [28:16<27:06,  3.62s/it]  \n",
      " 91%|█████████▏| 411/450 [27:24<02:25,  3.74s/it]\u001b[A"
     ]
    },
    {
     "name": "stdout",
     "output_type": "stream",
     "text": [
      "{'loss': 1.2573, 'learning_rate': 2e-05, 'epoch': 4.57}\n"
     ]
    },
    {
     "name": "stderr",
     "output_type": "stream",
     "text": [
      "\n",
      "                                               t]\u001b[A\n",
      "  0%|          | 1/450 [28:20<27:06,  3.62s/it]  \n",
      " 92%|█████████▏| 412/450 [27:28<02:24,  3.79s/it]\u001b[A"
     ]
    },
    {
     "name": "stdout",
     "output_type": "stream",
     "text": [
      "{'loss': 1.3231, 'learning_rate': 2e-05, 'epoch': 4.58}\n"
     ]
    },
    {
     "name": "stderr",
     "output_type": "stream",
     "text": [
      "\n",
      "                                               t]\u001b[A\n",
      "  0%|          | 1/450 [28:24<27:06,  3.62s/it]  \n",
      " 92%|█████████▏| 413/450 [27:32<02:19,  3.77s/it]\u001b[A"
     ]
    },
    {
     "name": "stdout",
     "output_type": "stream",
     "text": [
      "{'loss': 1.1717, 'learning_rate': 2e-05, 'epoch': 4.59}\n"
     ]
    },
    {
     "name": "stderr",
     "output_type": "stream",
     "text": [
      "\n",
      "                                               t]\u001b[A\n",
      "  0%|          | 1/450 [28:31<27:06,  3.62s/it]  \n",
      " 92%|█████████▏| 414/450 [27:39<02:51,  4.77s/it]\u001b[A"
     ]
    },
    {
     "name": "stdout",
     "output_type": "stream",
     "text": [
      "{'loss': 1.2754, 'learning_rate': 2e-05, 'epoch': 4.6}\n"
     ]
    },
    {
     "name": "stderr",
     "output_type": "stream",
     "text": [
      "\n",
      "                                               t]\u001b[A\n",
      "  0%|          | 1/450 [28:34<27:06,  3.62s/it]  \n",
      " 92%|█████████▏| 415/450 [27:42<02:29,  4.29s/it]\u001b[A"
     ]
    },
    {
     "name": "stdout",
     "output_type": "stream",
     "text": [
      "{'loss': 1.1537, 'learning_rate': 2e-05, 'epoch': 4.61}\n"
     ]
    },
    {
     "name": "stderr",
     "output_type": "stream",
     "text": [
      "\n",
      "                                               t]\u001b[A\n",
      "  0%|          | 1/450 [28:39<27:06,  3.62s/it]  \n",
      " 92%|█████████▏| 416/450 [27:47<02:29,  4.40s/it]\u001b[A"
     ]
    },
    {
     "name": "stdout",
     "output_type": "stream",
     "text": [
      "{'loss': 1.3393, 'learning_rate': 2e-05, 'epoch': 4.62}\n"
     ]
    },
    {
     "name": "stderr",
     "output_type": "stream",
     "text": [
      "\n",
      "                                               t]\u001b[A\n",
      "  0%|          | 1/450 [28:42<27:06,  3.62s/it]  \n",
      " 93%|█████████▎| 417/450 [27:50<02:17,  4.16s/it]\u001b[A"
     ]
    },
    {
     "name": "stdout",
     "output_type": "stream",
     "text": [
      "{'loss': 1.3616, 'learning_rate': 2e-05, 'epoch': 4.63}\n"
     ]
    },
    {
     "name": "stderr",
     "output_type": "stream",
     "text": [
      "\n",
      "                                               t]\u001b[A\n",
      "  0%|          | 1/450 [28:46<27:06,  3.62s/it]  \n",
      " 93%|█████████▎| 418/450 [27:54<02:11,  4.11s/it]\u001b[A"
     ]
    },
    {
     "name": "stdout",
     "output_type": "stream",
     "text": [
      "{'loss': 1.2624, 'learning_rate': 2e-05, 'epoch': 4.64}\n"
     ]
    },
    {
     "name": "stderr",
     "output_type": "stream",
     "text": [
      "\n",
      "                                               t]\u001b[A\n",
      "  0%|          | 1/450 [28:51<27:06,  3.62s/it]  \n",
      " 93%|█████████▎| 419/450 [27:59<02:10,  4.21s/it]\u001b[A"
     ]
    },
    {
     "name": "stdout",
     "output_type": "stream",
     "text": [
      "{'loss': 1.3203, 'learning_rate': 2e-05, 'epoch': 4.66}\n"
     ]
    },
    {
     "name": "stderr",
     "output_type": "stream",
     "text": [
      "\n",
      "                                               t]\u001b[A\n",
      "  0%|          | 1/450 [28:54<27:06,  3.62s/it]  \n",
      " 93%|█████████▎| 420/450 [28:02<01:58,  3.94s/it]\u001b[A"
     ]
    },
    {
     "name": "stdout",
     "output_type": "stream",
     "text": [
      "{'loss': 1.1883, 'learning_rate': 2e-05, 'epoch': 4.67}\n"
     ]
    },
    {
     "name": "stderr",
     "output_type": "stream",
     "text": [
      "\n",
      "                                               t]\u001b[A\n",
      "  0%|          | 1/450 [28:58<27:06,  3.62s/it]  \n",
      " 94%|█████████▎| 421/450 [28:06<01:53,  3.93s/it]\u001b[A"
     ]
    },
    {
     "name": "stdout",
     "output_type": "stream",
     "text": [
      "{'loss': 1.1471, 'learning_rate': 2e-05, 'epoch': 4.68}\n"
     ]
    },
    {
     "name": "stderr",
     "output_type": "stream",
     "text": [
      "\n",
      "                                               t]\u001b[A\n",
      "  0%|          | 1/450 [29:02<27:06,  3.62s/it]  \n",
      " 94%|█████████▍| 422/450 [28:10<01:52,  4.01s/it]\u001b[A"
     ]
    },
    {
     "name": "stdout",
     "output_type": "stream",
     "text": [
      "{'loss': 1.2844, 'learning_rate': 2e-05, 'epoch': 4.69}\n"
     ]
    },
    {
     "name": "stderr",
     "output_type": "stream",
     "text": [
      "\n",
      "                                               t]\u001b[A\n",
      "  0%|          | 1/450 [29:06<27:06,  3.62s/it]  \n",
      " 94%|█████████▍| 423/450 [28:14<01:47,  3.98s/it]\u001b[A"
     ]
    },
    {
     "name": "stdout",
     "output_type": "stream",
     "text": [
      "{'loss': 1.1279, 'learning_rate': 2e-05, 'epoch': 4.7}\n"
     ]
    },
    {
     "name": "stderr",
     "output_type": "stream",
     "text": [
      "\n",
      "                                               t]\u001b[A\n",
      "  0%|          | 1/450 [29:10<27:06,  3.62s/it]  \n",
      " 94%|█████████▍| 424/450 [28:18<01:45,  4.07s/it]\u001b[A"
     ]
    },
    {
     "name": "stdout",
     "output_type": "stream",
     "text": [
      "{'loss': 1.1775, 'learning_rate': 2e-05, 'epoch': 4.71}\n"
     ]
    },
    {
     "name": "stderr",
     "output_type": "stream",
     "text": [
      "\n",
      "                                               t]\u001b[A\n",
      "  0%|          | 1/450 [29:14<27:06,  3.62s/it]  \n",
      " 94%|█████████▍| 425/450 [28:22<01:40,  4.02s/it]\u001b[A"
     ]
    },
    {
     "name": "stdout",
     "output_type": "stream",
     "text": [
      "{'loss': 1.172, 'learning_rate': 2e-05, 'epoch': 4.72}\n"
     ]
    },
    {
     "name": "stderr",
     "output_type": "stream",
     "text": [
      "\n",
      "                                               t]\u001b[A\n",
      "  0%|          | 1/450 [29:19<27:06,  3.62s/it]  \n",
      " 95%|█████████▍| 426/450 [28:27<01:41,  4.22s/it]\u001b[A"
     ]
    },
    {
     "name": "stdout",
     "output_type": "stream",
     "text": [
      "{'loss': 1.1898, 'learning_rate': 2e-05, 'epoch': 4.73}\n"
     ]
    },
    {
     "name": "stderr",
     "output_type": "stream",
     "text": [
      "\n",
      "                                               t]\u001b[A\n",
      "  0%|          | 1/450 [29:22<27:06,  3.62s/it]  \n",
      " 95%|█████████▍| 427/450 [28:30<01:30,  3.95s/it]\u001b[A"
     ]
    },
    {
     "name": "stdout",
     "output_type": "stream",
     "text": [
      "{'loss': 1.3115, 'learning_rate': 2e-05, 'epoch': 4.74}\n"
     ]
    },
    {
     "name": "stderr",
     "output_type": "stream",
     "text": [
      "\n",
      "                                               t]\u001b[A\n",
      "  0%|          | 1/450 [29:27<27:06,  3.62s/it]  \n",
      " 95%|█████████▌| 428/450 [28:35<01:31,  4.14s/it]\u001b[A"
     ]
    },
    {
     "name": "stdout",
     "output_type": "stream",
     "text": [
      "{'loss': 1.1819, 'learning_rate': 2e-05, 'epoch': 4.76}\n"
     ]
    },
    {
     "name": "stderr",
     "output_type": "stream",
     "text": [
      "\n",
      "                                               t]\u001b[A\n",
      "  0%|          | 1/450 [29:31<27:06,  3.62s/it]  \n",
      " 95%|█████████▌| 429/450 [28:39<01:25,  4.09s/it]\u001b[A"
     ]
    },
    {
     "name": "stdout",
     "output_type": "stream",
     "text": [
      "{'loss': 1.4133, 'learning_rate': 2e-05, 'epoch': 4.77}\n"
     ]
    },
    {
     "name": "stderr",
     "output_type": "stream",
     "text": [
      "\n",
      "                                               t]\u001b[A\n",
      "  0%|          | 1/450 [29:34<27:06,  3.62s/it]  \n",
      " 96%|█████████▌| 430/450 [28:42<01:14,  3.70s/it]\u001b[A"
     ]
    },
    {
     "name": "stdout",
     "output_type": "stream",
     "text": [
      "{'loss': 1.0906, 'learning_rate': 2e-05, 'epoch': 4.78}\n"
     ]
    },
    {
     "name": "stderr",
     "output_type": "stream",
     "text": [
      "\n",
      "                                               t]\u001b[A\n",
      "  0%|          | 1/450 [29:38<27:06,  3.62s/it]  \n",
      " 96%|█████████▌| 431/450 [28:46<01:12,  3.81s/it]\u001b[A"
     ]
    },
    {
     "name": "stdout",
     "output_type": "stream",
     "text": [
      "{'loss': 1.1073, 'learning_rate': 2e-05, 'epoch': 4.79}\n"
     ]
    },
    {
     "name": "stderr",
     "output_type": "stream",
     "text": [
      "\n",
      "                                               t]\u001b[A\n",
      "  0%|          | 1/450 [29:41<27:06,  3.62s/it]  \n",
      " 96%|█████████▌| 432/450 [28:49<01:06,  3.71s/it]\u001b[A"
     ]
    },
    {
     "name": "stdout",
     "output_type": "stream",
     "text": [
      "{'loss': 1.2781, 'learning_rate': 2e-05, 'epoch': 4.8}\n"
     ]
    },
    {
     "name": "stderr",
     "output_type": "stream",
     "text": [
      "\n",
      "                                               t]\u001b[A\n",
      "  0%|          | 1/450 [29:45<27:06,  3.62s/it]  \n",
      " 96%|█████████▌| 433/450 [28:53<01:05,  3.84s/it]\u001b[A"
     ]
    },
    {
     "name": "stdout",
     "output_type": "stream",
     "text": [
      "{'loss': 1.2681, 'learning_rate': 2e-05, 'epoch': 4.81}\n"
     ]
    },
    {
     "name": "stderr",
     "output_type": "stream",
     "text": [
      "\n",
      "                                               t]\u001b[A\n",
      "  0%|          | 1/450 [29:49<27:06,  3.62s/it]  \n",
      " 96%|█████████▋| 434/450 [28:57<01:00,  3.75s/it]\u001b[A"
     ]
    },
    {
     "name": "stdout",
     "output_type": "stream",
     "text": [
      "{'loss': 1.1153, 'learning_rate': 2e-05, 'epoch': 4.82}\n"
     ]
    },
    {
     "name": "stderr",
     "output_type": "stream",
     "text": [
      "\n",
      "                                               t]\u001b[A\n",
      "  0%|          | 1/450 [29:53<27:06,  3.62s/it]  \n",
      " 97%|█████████▋| 435/450 [29:01<00:56,  3.77s/it]\u001b[A"
     ]
    },
    {
     "name": "stdout",
     "output_type": "stream",
     "text": [
      "{'loss': 1.3497, 'learning_rate': 2e-05, 'epoch': 4.83}\n"
     ]
    },
    {
     "name": "stderr",
     "output_type": "stream",
     "text": [
      "\n",
      "                                               t]\u001b[A\n",
      "  0%|          | 1/450 [29:57<27:06,  3.62s/it]  \n",
      " 97%|█████████▋| 436/450 [29:05<00:53,  3.85s/it]\u001b[A"
     ]
    },
    {
     "name": "stdout",
     "output_type": "stream",
     "text": [
      "{'loss': 1.2134, 'learning_rate': 2e-05, 'epoch': 4.84}\n"
     ]
    },
    {
     "name": "stderr",
     "output_type": "stream",
     "text": [
      "\n",
      "                                               t]\u001b[A\n",
      "  0%|          | 1/450 [30:00<27:06,  3.62s/it]  \n",
      " 97%|█████████▋| 437/450 [29:08<00:49,  3.79s/it]\u001b[A"
     ]
    },
    {
     "name": "stdout",
     "output_type": "stream",
     "text": [
      "{'loss': 1.3535, 'learning_rate': 2e-05, 'epoch': 4.86}\n"
     ]
    },
    {
     "name": "stderr",
     "output_type": "stream",
     "text": [
      "\n",
      "                                               t]\u001b[A\n",
      "  0%|          | 1/450 [30:04<27:06,  3.62s/it]  \n",
      " 97%|█████████▋| 438/450 [29:12<00:45,  3.83s/it]\u001b[A"
     ]
    },
    {
     "name": "stdout",
     "output_type": "stream",
     "text": [
      "{'loss': 1.3021, 'learning_rate': 2e-05, 'epoch': 4.87}\n"
     ]
    },
    {
     "name": "stderr",
     "output_type": "stream",
     "text": [
      "\n",
      "                                               t]\u001b[A\n",
      "  0%|          | 1/450 [30:08<27:06,  3.62s/it]  \n",
      " 98%|█████████▊| 439/450 [29:16<00:41,  3.79s/it]\u001b[A"
     ]
    },
    {
     "name": "stdout",
     "output_type": "stream",
     "text": [
      "{'loss': 1.1148, 'learning_rate': 2e-05, 'epoch': 4.88}\n"
     ]
    },
    {
     "name": "stderr",
     "output_type": "stream",
     "text": [
      "\n",
      "                                               t]\u001b[A\n",
      "  0%|          | 1/450 [30:12<27:06,  3.62s/it]  \n",
      " 98%|█████████▊| 440/450 [29:20<00:37,  3.77s/it]\u001b[A"
     ]
    },
    {
     "name": "stdout",
     "output_type": "stream",
     "text": [
      "{'loss': 1.0422, 'learning_rate': 2e-05, 'epoch': 4.89}\n"
     ]
    },
    {
     "name": "stderr",
     "output_type": "stream",
     "text": [
      "\n",
      "                                               t]\u001b[A\n",
      "  0%|          | 1/450 [30:15<27:06,  3.62s/it]  \n",
      " 98%|█████████▊| 441/450 [29:23<00:32,  3.65s/it]\u001b[A"
     ]
    },
    {
     "name": "stdout",
     "output_type": "stream",
     "text": [
      "{'loss': 1.3359, 'learning_rate': 2e-05, 'epoch': 4.9}\n"
     ]
    },
    {
     "name": "stderr",
     "output_type": "stream",
     "text": [
      "\n",
      "                                               t]\u001b[A\n",
      "  0%|          | 1/450 [30:19<27:06,  3.62s/it]  \n",
      " 98%|█████████▊| 442/450 [29:27<00:30,  3.82s/it]\u001b[A"
     ]
    },
    {
     "name": "stdout",
     "output_type": "stream",
     "text": [
      "{'loss': 1.128, 'learning_rate': 2e-05, 'epoch': 4.91}\n"
     ]
    },
    {
     "name": "stderr",
     "output_type": "stream",
     "text": [
      "\n",
      "                                               t]\u001b[A\n",
      "  0%|          | 1/450 [30:24<27:06,  3.62s/it]  \n",
      " 98%|█████████▊| 443/450 [29:32<00:28,  4.07s/it]\u001b[A"
     ]
    },
    {
     "name": "stdout",
     "output_type": "stream",
     "text": [
      "{'loss': 1.2882, 'learning_rate': 2e-05, 'epoch': 4.92}\n"
     ]
    },
    {
     "name": "stderr",
     "output_type": "stream",
     "text": [
      "\n",
      "                                               t]\u001b[A\n",
      "  0%|          | 1/450 [30:29<27:06,  3.62s/it]  \n",
      " 99%|█████████▊| 444/450 [29:37<00:25,  4.26s/it]\u001b[A"
     ]
    },
    {
     "name": "stdout",
     "output_type": "stream",
     "text": [
      "{'loss': 1.2593, 'learning_rate': 2e-05, 'epoch': 4.93}\n"
     ]
    },
    {
     "name": "stderr",
     "output_type": "stream",
     "text": [
      "\n",
      "                                               t]\u001b[A\n",
      "  0%|          | 1/450 [30:34<27:06,  3.62s/it]  \n",
      " 99%|█████████▉| 445/450 [29:42<00:23,  4.62s/it]\u001b[A"
     ]
    },
    {
     "name": "stdout",
     "output_type": "stream",
     "text": [
      "{'loss': 1.2965, 'learning_rate': 2e-05, 'epoch': 4.94}\n"
     ]
    },
    {
     "name": "stderr",
     "output_type": "stream",
     "text": [
      "\n",
      "                                               t]\u001b[A\n",
      "  0%|          | 1/450 [30:38<27:06,  3.62s/it]  \n",
      " 99%|█████████▉| 446/450 [29:46<00:17,  4.43s/it]\u001b[A"
     ]
    },
    {
     "name": "stdout",
     "output_type": "stream",
     "text": [
      "{'loss': 1.2561, 'learning_rate': 2e-05, 'epoch': 4.96}\n"
     ]
    },
    {
     "name": "stderr",
     "output_type": "stream",
     "text": [
      "\n",
      "                                               t]\u001b[A\n",
      "  0%|          | 1/450 [30:44<27:06,  3.62s/it]  \n",
      " 99%|█████████▉| 447/450 [29:52<00:14,  4.83s/it]\u001b[A"
     ]
    },
    {
     "name": "stdout",
     "output_type": "stream",
     "text": [
      "{'loss': 1.195, 'learning_rate': 2e-05, 'epoch': 4.97}\n"
     ]
    },
    {
     "name": "stderr",
     "output_type": "stream",
     "text": [
      "\n",
      "                                               t]\u001b[A\n",
      "  0%|          | 1/450 [30:47<27:06,  3.62s/it]  \n",
      "100%|█████████▉| 448/450 [29:55<00:08,  4.36s/it]\u001b[A"
     ]
    },
    {
     "name": "stdout",
     "output_type": "stream",
     "text": [
      "{'loss': 1.1439, 'learning_rate': 2e-05, 'epoch': 4.98}\n"
     ]
    },
    {
     "name": "stderr",
     "output_type": "stream",
     "text": [
      "\n",
      "                                               t]\u001b[A\n",
      "  0%|          | 1/450 [30:51<27:06,  3.62s/it]  \n",
      "100%|█████████▉| 449/450 [29:59<00:04,  4.13s/it]\u001b[A"
     ]
    },
    {
     "name": "stdout",
     "output_type": "stream",
     "text": [
      "{'loss': 1.2452, 'learning_rate': 2e-05, 'epoch': 4.99}\n"
     ]
    },
    {
     "name": "stderr",
     "output_type": "stream",
     "text": [
      "\n",
      "                                               t]\u001b[A\n",
      "  0%|          | 1/450 [30:54<27:06,  3.62s/it]  \n",
      "                                               t]\u001b[A\n",
      "  0%|          | 1/450 [30:54<27:06,  3.62s/it]  \n",
      "100%|██████████| 450/450 [30:02<00:00,  4.01s/it]\u001b[A\n",
      "/home/jupyter/.local/lib/python3.10/site-packages/peft/utils/other.py:581: UserWarning: Unable to fetch remote file due to the following error (ProtocolError('Connection aborted.', RemoteDisconnected('Remote end closed connection without response')), '(Request ID: cd0e18bc-21d1-4bc6-b50e-eef032bb5220)') - silently ignoring the lookup for the file config.json in meta-llama/Llama-2-7b-hf.\n",
      "  warnings.warn(\n",
      "/home/jupyter/.local/lib/python3.10/site-packages/peft/utils/save_and_load.py:154: UserWarning: Could not find a config file in meta-llama/Llama-2-7b-hf - will assume that the vocabulary was not modified.\n",
      "  warnings.warn(\n"
     ]
    },
    {
     "name": "stdout",
     "output_type": "stream",
     "text": [
      "{'loss': 1.3703, 'learning_rate': 2e-05, 'epoch': 5.0}\n",
      "{'train_runtime': 1802.7215, 'train_samples_per_second': 1.997, 'train_steps_per_second': 0.25, 'train_loss': 1.2846886356671652, 'epoch': 5.0}\n"
     ]
    }
   ],
   "source": [
    "trainer = Trainer(\n",
    "    model=peft_model, \n",
    "    tokenizer=tokenizer, \n",
    "    args=training_args, \n",
    "    train_dataset=train_dataset, \n",
    "    eval_dataset=val_dataset, \n",
    "    data_collator=data_collator,\n",
    ")\n",
    "trainer.train()\n",
    "trainer.save_state()\n",
    "trainer.save_model(output_dir=training_args.output_dir)"
   ]
  },
  {
   "cell_type": "markdown",
   "metadata": {
    "jp-MarkdownHeadingCollapsed": true,
    "tags": []
   },
   "source": [
    "### Generating answer with tuned model"
   ]
  },
  {
   "cell_type": "code",
   "execution_count": 66,
   "metadata": {
    "execution": {
     "iopub.execute_input": "2024-05-08T20:36:13.865225Z",
     "iopub.status.busy": "2024-05-08T20:36:13.864495Z",
     "iopub.status.idle": "2024-05-08T20:36:18.130243Z",
     "shell.execute_reply": "2024-05-08T20:36:18.129275Z",
     "shell.execute_reply.started": "2024-05-08T20:36:13.865194Z"
    },
    "tags": []
   },
   "outputs": [
    {
     "name": "stdout",
     "output_type": "stream",
     "text": [
      "<s> Below is an instruction that describes a task, paired with an input that provides further context. Write a response that appropriately completes the request.\n",
      "\n",
      "### Instruction:\n",
      "Below is a diploma text. Your task is to generate abstract of this diploma.\n",
      "\n",
      "### Input:\n",
      "Санкт-Петербургский государственный университет\n",
      "\n",
      "\n",
      "АВРАМЕНКО Полина Андреевна\n",
      "Выпускная квалификационная работа\n",
      "Веб-туны как часть южнокорейской культуры в XXI веке (на примере романтических историй) \n",
      "Уровень образования: магистратура\n",
      "Направление 58.04.01 «Востоковедение и африканистика»\n",
      "Основная образовательная программа BM.5808 «Культура народов Азии и Африки (с изучением языков Азии и Африки)»\n",
      "\n",
      "\n",
      "Научный руководитель:\n",
      "доцент, Кафедра корееведения, Санкт-Петербургский государственный университет Гурьева Анастасия Александровна\n",
      "\n",
      "Рецензент:\n",
      "приглашенный преподаватель, Кафедра корееведения, Санкт-Петербургская школа социальных наук и востоковедения,\n",
      "доцент, Санкт-Петербургский филиал федерального государственного автономного образовательного учреждения высшего образования «Национальный исследовательский университет «Высшая школа экономики»\n",
      "Георгиева Рус Нели Петрова\n",
      "\n",
      "Санкт-Петербург\n",
      "2023\n",
      "СОДЕРЖАНИЕ\n",
      "Введение\t3\n",
      "Глава 1 Феномен веб-туна: история и характеристики\t10\n",
      "§ 1.1 Появление корейских \n",
      "\n",
      "### Response:Выпускная квалификационная работа посвящена феномену веб-туна как части корейской культуры в XXI веке. В работе рассмотрены история и характеристики веб-туна, а также его место в современной корейской культуре. В работе подробно рассматривается феномен веб-туна как части корейской культуры в XXI веке.</s>\n"
     ]
    }
   ],
   "source": [
    "# 720 train, 720 eval\n",
    "prefix_len = np.sum(np.array(test_dataset[9][\"labels\"]) == IGNORE_INDEX)\n",
    "prefix_tokens = test_dataset[9][\"input_ids\"][:prefix_len]\n",
    "peft_model.eval()\n",
    "generated = peft_model.generate(prefix_tokens.reshape((1, -1)).to(device))\n",
    "generated_text = tokenizer.decode(generated.to('cpu').flatten())\n",
    "print(generated_text)"
   ]
  },
  {
   "cell_type": "code",
   "execution_count": 71,
   "metadata": {
    "execution": {
     "iopub.execute_input": "2024-05-08T20:40:11.429623Z",
     "iopub.status.busy": "2024-05-08T20:40:11.429156Z",
     "iopub.status.idle": "2024-05-08T20:40:21.374152Z",
     "shell.execute_reply": "2024-05-08T20:40:21.373410Z",
     "shell.execute_reply.started": "2024-05-08T20:40:11.429592Z"
    },
    "tags": []
   },
   "outputs": [
    {
     "name": "stdout",
     "output_type": "stream",
     "text": [
      "<s> Below is an instruction that describes a task, paired with an input that provides further context. Write a response that appropriately completes the request.\n",
      "\n",
      "### Instruction:\n",
      "Below is a diploma text. Your task is to generate abstract of this diploma.\n",
      "\n",
      "### Input:\n",
      "САНКТ-ПЕТЕРБУРГСКИЙ ГОСУДАРСТВЕННЫЙ\n",
      "УНИВЕРСИТЕТ\n",
      "\n",
      "Мануэль Антонио Агилар Ривера\n",
      "Выпускная квалификационная работа\n",
      "«Multiplication Operators in Cauchy-de Branges Spaces»\n",
      "Уровень образования: магистратура\n",
      "Направление 01.04.01 “Математика”\n",
      "Основная образовательная программа BM.5832.2019\n",
      "“Современная математика”\n",
      "Научный руководитель:\n",
      "Профессор, математико-механический факультет СПбГУ,\n",
      "доктор физ.-мат. наук, профессор РАН\n",
      "Баранов Антон Дмитриевич.\n",
      "Рецензент:\n",
      "Профессор, Факультет математики,\n",
      "Автономный университет Мадрида, кандидат физ.-мат. наук\n",
      "Якубович Дмитрий Владимирович\n",
      "Санкт-Петербург\n",
      "2021\n",
      "\n",
      "\f",
      "Contents\n",
      "Contents\n",
      "\n",
      "2\n",
      "\n",
      "Cauchy–de Branges spaces\n",
      "3\n",
      "Cauchy–de Branges spaces as Reproducing Kernel Hilbert spaces . 4\n",
      "The Division Property . . . . . . . . . . . . . . . . . . . . . . . . . 6\n",
      "Existing functions with a given zero. . . . . . . . . . . . . . . . . . 7\n",
      "Cauchy-de Branges spaces are division invariant. . . . . . . . . . . . 9\n",
      "Ds has the division property. . . . . . . . . . . . . . . . . . .\n",
      "\n",
      "### Response:В данной работе рассматривается оператор умножения на функцию с нулевым значением в пространствах Cauchy-de Branges. Для этого рассматривается разложение функции в ряд Тейлора. В качестве примера функций с нулевым значением рассматривается функция, определяемая как\n",
      "\n",
      "$$\\frac{1}{z-1}$$\n",
      "\n",
      "Для этой функции приведено разложение в ряд Тейлора и рассматривается вопрос о существовании и единственности функции, получаемой при применении к ней оператора умножения на функцию с нулевыым значением. В качестве примера пространства Cauchy-de Branges рассматривается пространство функций, получаемых при применении к функции \n",
      "\n",
      "$$\\frac{1}{z-1}$$\n",
      "\n",
      "оператора умножения на функцию с нулевым значением.</s>\n"
     ]
    }
   ],
   "source": [
    "# 720 train, 720 eval\n",
    "# inference train sample\n",
    "peft_model.eval()\n",
    "prefix_len = np.sum(np.array(train_dataset[9][\"labels\"]) == IGNORE_INDEX)\n",
    "prefix_tokens = train_dataset[9][\"input_ids\"][:prefix_len]\n",
    "generated = peft_model.generate(prefix_tokens.reshape((1, -1)).to(device))\n",
    "generated_text = tokenizer.decode(generated.to('cpu').flatten())\n",
    "print(generated_text)"
   ]
  },
  {
   "cell_type": "markdown",
   "metadata": {
    "execution": {
     "iopub.execute_input": "2024-05-08T20:38:44.369230Z",
     "iopub.status.busy": "2024-05-08T20:38:44.368790Z",
     "iopub.status.idle": "2024-05-08T20:38:44.431005Z",
     "shell.execute_reply": "2024-05-08T20:38:44.430069Z",
     "shell.execute_reply.started": "2024-05-08T20:38:44.369206Z"
    },
    "jp-MarkdownHeadingCollapsed": true,
    "tags": []
   },
   "source": [
    "### View test vs train"
   ]
  },
  {
   "cell_type": "code",
   "execution_count": 69,
   "metadata": {
    "execution": {
     "iopub.execute_input": "2024-05-08T20:39:49.746521Z",
     "iopub.status.busy": "2024-05-08T20:39:49.746109Z",
     "iopub.status.idle": "2024-05-08T20:39:49.762494Z",
     "shell.execute_reply": "2024-05-08T20:39:49.761772Z",
     "shell.execute_reply.started": "2024-05-08T20:39:49.746496Z"
    }
   },
   "outputs": [
    {
     "name": "stdout",
     "output_type": "stream",
     "text": [
      "<s> Below is an instruction that describes a task, paired with an input that provides further context. Write a response that appropriately completes the request.\n",
      "\n",
      "### Instruction:\n",
      "Below is a diploma text. Your task is to generate abstract of this diploma.\n",
      "\n",
      "### Input:\n",
      "Санкт-Петербургский государственный университет\n",
      "\n",
      "\n",
      "АВРАМЕНКО Полина Андреевна\n",
      "Выпускная квалификационная работа\n",
      "Веб-туны как часть южнокорейской культуры в XXI веке (на примере романтических историй) \n",
      "Уровень образования: магистратура\n",
      "Направление 58.04.01 «Востоковедение и африканистика»\n",
      "Основная образовательная программа BM.5808 «Культура народов Азии и Африки (с изучением языков Азии и Африки)»\n",
      "\n",
      "\n",
      "Научный руководитель:\n",
      "доцент, Кафедра корееведения, Санкт-Петербургский государственный университет Гурьева Анастасия Александровна\n",
      "\n",
      "Рецензент:\n",
      "приглашенный преподаватель, Кафедра корееведения, Санкт-Петербургская школа социальных наук и востоковедения,\n",
      "доцент, Санкт-Петербургский филиал федерального государственного автономного образовательного учреждения высшего образования «Национальный исследовательский университет «Высшая школа экономики»\n",
      "Георгиева Рус Нели Петрова\n",
      "\n",
      "Санкт-Петербург\n",
      "2023\n",
      "СОДЕРЖАНИЕ\n",
      "Введение\t3\n",
      "Глава 1 Феномен веб-туна: история и характеристики\t10\n",
      "§ 1.1 Появление корейских \n",
      "\n",
      "### Response:Данная выпускная квалификационная работа посвящена одному из основных элементов, формирующих массовый культурный контент Республики Корея - веб-тунам (webtoon) – цифровым комиксам, появившимся в начале XXI века. Целью работы является выявление места веб-тунов в южнокорейской культуре, а также их культурной специфики. Актуальность исследования обусловлена тем, что в наши дни в Южной Корее к веб-тунам наблюдается повышенный интерес общества. В ходе исследования был собран, изучен и систематизирован материал об истории манхва как предшественника веб-тунов. Были рассмотрены этапы развития веб-тунов, причины популярности и основные характеристики. В качестве материала для исследования были выбраны и проанализированы три популярных южнокорейских веб-туна. Посредством анализа была выявлена специфика подачи материала и связь с культурой. Благодаря анализу удалось выявить взаимосвязь веб-тунов с традиционной литературой и ролью текста в корейской культуре и традиционным распределением ролей.</s>\n"
     ]
    }
   ],
   "source": [
    "# 720 train, 720 eval\n",
    "# prefix_len = np.sum(np.array(test_dataset[9][\"labels\"]) == IGNORE_INDEX)\n",
    "prefix_tokens = test_dataset[9][\"input_ids\"] #[:prefix_len]\n",
    "# peft_model.eval()\n",
    "# generated = peft_model.generate(prefix_tokens.reshape((1, -1)).to(device))\n",
    "generated_text = tokenizer.decode(prefix_tokens) # generated.to('cpu').flatten())\n",
    "print(generated_text)"
   ]
  },
  {
   "cell_type": "code",
   "execution_count": 70,
   "metadata": {
    "execution": {
     "iopub.execute_input": "2024-05-08T20:39:50.248117Z",
     "iopub.status.busy": "2024-05-08T20:39:50.247843Z",
     "iopub.status.idle": "2024-05-08T20:39:50.258362Z",
     "shell.execute_reply": "2024-05-08T20:39:50.257678Z",
     "shell.execute_reply.started": "2024-05-08T20:39:50.248096Z"
    }
   },
   "outputs": [
    {
     "name": "stdout",
     "output_type": "stream",
     "text": [
      "<s> Below is an instruction that describes a task, paired with an input that provides further context. Write a response that appropriately completes the request.\n",
      "\n",
      "### Instruction:\n",
      "Below is a diploma text. Your task is to generate abstract of this diploma.\n",
      "\n",
      "### Input:\n",
      "САНКТ-ПЕТЕРБУРГСКИЙ ГОСУДАРСТВЕННЫЙ\n",
      "УНИВЕРСИТЕТ\n",
      "\n",
      "Мануэль Антонио Агилар Ривера\n",
      "Выпускная квалификационная работа\n",
      "«Multiplication Operators in Cauchy-de Branges Spaces»\n",
      "Уровень образования: магистратура\n",
      "Направление 01.04.01 “Математика”\n",
      "Основная образовательная программа BM.5832.2019\n",
      "“Современная математика”\n",
      "Научный руководитель:\n",
      "Профессор, математико-механический факультет СПбГУ,\n",
      "доктор физ.-мат. наук, профессор РАН\n",
      "Баранов Антон Дмитриевич.\n",
      "Рецензент:\n",
      "Профессор, Факультет математики,\n",
      "Автономный университет Мадрида, кандидат физ.-мат. наук\n",
      "Якубович Дмитрий Владимирович\n",
      "Санкт-Петербург\n",
      "2021\n",
      "\n",
      "\f",
      "Contents\n",
      "Contents\n",
      "\n",
      "2\n",
      "\n",
      "Cauchy–de Branges spaces\n",
      "3\n",
      "Cauchy–de Branges spaces as Reproducing Kernel Hilbert spaces . 4\n",
      "The Division Property . . . . . . . . . . . . . . . . . . . . . . . . . 6\n",
      "Existing functions with a given zero. . . . . . . . . . . . . . . . . . 7\n",
      "Cauchy-de Branges spaces are division invariant. . . . . . . . . . . . 9\n",
      "Ds has the division property. . . . . . . . . . . . . . . . . . .\n",
      "\n",
      "### Response:В теории пространств де Бранжа особую роль играют подпространства де Бранжа конечной коразмерности. В частности, де Бранж показал, что если существует подпространство де Бранжа коразмерности 1, то оно совпадает с замыканием области определения оператора умножения на z в пространстве де Бранжа. Цель этого текста - распространить этот результат на общие пространства Коши – де Бранжа.</s>\n"
     ]
    }
   ],
   "source": [
    "# 720 train, 720 eval\n",
    "# prefix_len = np.sum(np.array(test_dataset[9][\"labels\"]) == IGNORE_INDEX)\n",
    "prefix_tokens = train_dataset[9][\"input_ids\"] #[:prefix_len]\n",
    "# peft_model.eval()\n",
    "# generated = peft_model.generate(prefix_tokens.reshape((1, -1)).to(device))\n",
    "generated_text = tokenizer.decode(prefix_tokens) # generated.to('cpu').flatten())\n",
    "print(generated_text)"
   ]
  },
  {
   "cell_type": "markdown",
   "metadata": {
    "jp-MarkdownHeadingCollapsed": true,
    "tags": []
   },
   "source": [
    "## Infer learnt model with raw & compare to the target\n",
    "- raw — model\n",
    "- learnt — peft_model\n",
    "- target — abstract"
   ]
  },
  {
   "cell_type": "code",
   "execution_count": 79,
   "metadata": {
    "execution": {
     "iopub.execute_input": "2024-05-08T20:54:18.610260Z",
     "iopub.status.busy": "2024-05-08T20:54:18.609876Z",
     "iopub.status.idle": "2024-05-08T20:54:37.503938Z",
     "shell.execute_reply": "2024-05-08T20:54:37.503340Z",
     "shell.execute_reply.started": "2024-05-08T20:54:18.610240Z"
    },
    "tags": []
   },
   "outputs": [
    {
     "data": {
      "text/html": [
       "<div>\n",
       "<style scoped>\n",
       "    .dataframe tbody tr th:only-of-type {\n",
       "        vertical-align: middle;\n",
       "    }\n",
       "\n",
       "    .dataframe tbody tr th {\n",
       "        vertical-align: top;\n",
       "    }\n",
       "\n",
       "    .dataframe thead th {\n",
       "        text-align: right;\n",
       "    }\n",
       "</style>\n",
       "<table border=\"1\" class=\"dataframe\">\n",
       "  <thead>\n",
       "    <tr style=\"text-align: right;\">\n",
       "      <th></th>\n",
       "      <th>id</th>\n",
       "      <th>year</th>\n",
       "      <th>diploma</th>\n",
       "      <th>abstract</th>\n",
       "      <th>study_field</th>\n",
       "      <th>degree</th>\n",
       "      <th>original_diploma_extension</th>\n",
       "    </tr>\n",
       "  </thead>\n",
       "  <tbody>\n",
       "    <tr>\n",
       "      <th>0</th>\n",
       "      <td>41453</td>\n",
       "      <td>2023</td>\n",
       "      <td>Санкт-Петербургский государственный университе...</td>\n",
       "      <td>Абдуллаев Ш.У. тема диссертации: «Роль политик...</td>\n",
       "      <td>INTERNATIONAL RELATIONS</td>\n",
       "      <td>MASTER'S STUDIES</td>\n",
       "      <td>.doc</td>\n",
       "    </tr>\n",
       "    <tr>\n",
       "      <th>1</th>\n",
       "      <td>43790</td>\n",
       "      <td>2023</td>\n",
       "      <td>Санкт-Петербургский государственный университе...</td>\n",
       "      <td>Выпускная квалификационная работа посвящена из...</td>\n",
       "      <td>POLITICAL SCIENCE</td>\n",
       "      <td>BACHELOR STUDIES</td>\n",
       "      <td>.docx</td>\n",
       "    </tr>\n",
       "    <tr>\n",
       "      <th>2</th>\n",
       "      <td>41165</td>\n",
       "      <td>2023</td>\n",
       "      <td>Санкт-Петербургский государственный университе...</td>\n",
       "      <td>В данной работе описывается реализация обобщен...</td>\n",
       "      <td>MATHEMATICS AND MECHANICS</td>\n",
       "      <td>BACHELOR STUDIES</td>\n",
       "      <td>.pdf</td>\n",
       "    </tr>\n",
       "    <tr>\n",
       "      <th>3</th>\n",
       "      <td>42349</td>\n",
       "      <td>2023</td>\n",
       "      <td>ПРАВИТЕЛЬСТВО РОССИЙСКОЙ ФЕДЕРАЦИИ \\nСАНКТ-ПЕТ...</td>\n",
       "      <td>В выпускной квалификационной работе раскрывает...</td>\n",
       "      <td>SOCIOLOGY</td>\n",
       "      <td>BACHELOR STUDIES</td>\n",
       "      <td>.docx</td>\n",
       "    </tr>\n",
       "    <tr>\n",
       "      <th>4</th>\n",
       "      <td>40166</td>\n",
       "      <td>2023</td>\n",
       "      <td>Федеральное государственное бюджетное образова...</td>\n",
       "      <td>На сегодняшний день наблюдается высокий спрос ...</td>\n",
       "      <td>MANAGEMENT</td>\n",
       "      <td>BACHELOR STUDIES</td>\n",
       "      <td>.docx</td>\n",
       "    </tr>\n",
       "  </tbody>\n",
       "</table>\n",
       "</div>"
      ],
      "text/plain": [
       "      id  year  ...            degree original_diploma_extension\n",
       "0  41453  2023  ...  MASTER'S STUDIES                       .doc\n",
       "1  43790  2023  ...  BACHELOR STUDIES                      .docx\n",
       "2  41165  2023  ...  BACHELOR STUDIES                       .pdf\n",
       "3  42349  2023  ...  BACHELOR STUDIES                      .docx\n",
       "4  40166  2023  ...  BACHELOR STUDIES                      .docx\n",
       "\n",
       "[5 rows x 7 columns]"
      ]
     },
     "execution_count": 79,
     "metadata": {},
     "output_type": "execute_result"
    }
   ],
   "source": [
    "test_df = pd.read_csv(\"/home/jupyter/mnt/datasets/diplomas/russian_dataset/russian_dataset_test.csv\")\n",
    "test_df.head()"
   ]
  },
  {
   "cell_type": "code",
   "execution_count": 82,
   "metadata": {
    "execution": {
     "iopub.execute_input": "2024-05-08T20:57:25.533949Z",
     "iopub.status.busy": "2024-05-08T20:57:25.533436Z",
     "iopub.status.idle": "2024-05-08T20:57:25.553314Z",
     "shell.execute_reply": "2024-05-08T20:57:25.552717Z",
     "shell.execute_reply.started": "2024-05-08T20:57:25.533923Z"
    },
    "tags": []
   },
   "outputs": [],
   "source": [
    "with open(REPOSITOTY_DIR_PATH.joinpath(\"src/notebooks/junk/mcs_df_human_filled_processed.json\"), \"r\") as f:\n",
    "    asessors_questions = json.load(f) "
   ]
  },
  {
   "cell_type": "code",
   "execution_count": 86,
   "metadata": {
    "execution": {
     "iopub.execute_input": "2024-05-08T20:58:19.657922Z",
     "iopub.status.busy": "2024-05-08T20:58:19.657515Z",
     "iopub.status.idle": "2024-05-08T20:58:19.668958Z",
     "shell.execute_reply": "2024-05-08T20:58:19.668385Z",
     "shell.execute_reply.started": "2024-05-08T20:58:19.657901Z"
    },
    "tags": []
   },
   "outputs": [],
   "source": [
    "ids = [int(x['meta']['id']) for x in asessors_questions]"
   ]
  },
  {
   "cell_type": "code",
   "execution_count": 91,
   "metadata": {
    "execution": {
     "iopub.execute_input": "2024-05-08T21:05:35.512446Z",
     "iopub.status.busy": "2024-05-08T21:05:35.512014Z",
     "iopub.status.idle": "2024-05-08T21:05:35.522695Z",
     "shell.execute_reply": "2024-05-08T21:05:35.522130Z",
     "shell.execute_reply.started": "2024-05-08T21:05:35.512424Z"
    }
   },
   "outputs": [],
   "source": [
    "diploma_prefix_len=1000"
   ]
  },
  {
   "cell_type": "code",
   "execution_count": 141,
   "metadata": {
    "execution": {
     "iopub.execute_input": "2024-05-08T21:23:58.887748Z",
     "iopub.status.busy": "2024-05-08T21:23:58.887327Z",
     "iopub.status.idle": "2024-05-08T21:23:58.901646Z",
     "shell.execute_reply": "2024-05-08T21:23:58.901079Z",
     "shell.execute_reply.started": "2024-05-08T21:23:58.887726Z"
    },
    "tags": []
   },
   "outputs": [],
   "source": [
    "def get_learnt_model_result(prefix_len, prefix_tokens):\n",
    "    peft_model.eval()\n",
    "    generated = peft_model.generate(prefix_tokens.reshape((1, -1)).to(device))\n",
    "    generated_continue = tokenizer.decode(generated.to('cpu').flatten()[prefix_len:])\n",
    "    return generated_continue\n",
    "    # generated_text_all = tokenizer.decode(generated.to('cpu').flatten())\n",
    "    # return generated_text_all, generated_coninue"
   ]
  },
  {
   "cell_type": "code",
   "execution_count": 142,
   "metadata": {
    "execution": {
     "iopub.execute_input": "2024-05-08T21:23:59.427983Z",
     "iopub.status.busy": "2024-05-08T21:23:59.427484Z",
     "iopub.status.idle": "2024-05-08T21:23:59.437486Z",
     "shell.execute_reply": "2024-05-08T21:23:59.437011Z",
     "shell.execute_reply.started": "2024-05-08T21:23:59.427963Z"
    },
    "tags": []
   },
   "outputs": [],
   "source": [
    "def get_prefix_len_and_tokens(row):\n",
    "    prompt_input_diploma = PROMPT_DICT[\"prompt_input_diploma_special\"]\n",
    "    source = prompt_input_diploma.format(input=row[\"diploma\"][:diploma_prefix_len])\n",
    "\n",
    "    target = f\"{row['abstract']}{tokenizer.eos_token}\"\n",
    "\n",
    "    data_dict = preprocess([source], [target], tokenizer)\n",
    "    \n",
    "    prefix_len = np.sum(np.array(data_dict[\"labels\"][0]) == IGNORE_INDEX)\n",
    "    # print(prefix_len)\n",
    "    prefix_tokens = data_dict[\"input_ids\"][0][:prefix_len]\n",
    "    # print(prefix_tokens)\n",
    "    return prefix_len, prefix_tokens"
   ]
  },
  {
   "cell_type": "code",
   "execution_count": 143,
   "metadata": {
    "execution": {
     "iopub.execute_input": "2024-05-08T21:23:59.822443Z",
     "iopub.status.busy": "2024-05-08T21:23:59.821945Z",
     "iopub.status.idle": "2024-05-08T21:23:59.832480Z",
     "shell.execute_reply": "2024-05-08T21:23:59.831889Z",
     "shell.execute_reply.started": "2024-05-08T21:23:59.822423Z"
    },
    "tags": []
   },
   "outputs": [],
   "source": [
    "def get_raw_model_result(prefix_len, prefix_tokens):\n",
    "    model.eval()\n",
    "    generated = model.generate(prefix_tokens.reshape((1, -1)).to(device))\n",
    "    generated_continue = tokenizer.decode(generated.to('cpu').flatten()[prefix_len:])\n",
    "    return generated_continue\n",
    "    # generated_text_all = tokenizer.decode(generated.to('cpu').flatten())\n",
    "    # return generated_text_all, generated_coninue"
   ]
  },
  {
   "cell_type": "code",
   "execution_count": 144,
   "metadata": {
    "execution": {
     "iopub.execute_input": "2024-05-08T21:24:00.217745Z",
     "iopub.status.busy": "2024-05-08T21:24:00.217160Z",
     "iopub.status.idle": "2024-05-08T21:43:00.637173Z",
     "shell.execute_reply": "2024-05-08T21:43:00.636502Z",
     "shell.execute_reply.started": "2024-05-08T21:24:00.217710Z"
    },
    "tags": []
   },
   "outputs": [
    {
     "data": {
      "application/vnd.jupyter.widget-view+json": {
       "model_id": "6e440fca499b4b138c33a3f17f2c84fd",
       "version_major": 2,
       "version_minor": 0
      },
      "text/plain": [
       "Rows...:   0%|          | 0/70 [00:00<?, ?it/s]"
      ]
     },
     "metadata": {},
     "output_type": "display_data"
    },
    {
     "data": {
      "text/html": [
       "<div>\n",
       "<style scoped>\n",
       "    .dataframe tbody tr th:only-of-type {\n",
       "        vertical-align: middle;\n",
       "    }\n",
       "\n",
       "    .dataframe tbody tr th {\n",
       "        vertical-align: top;\n",
       "    }\n",
       "\n",
       "    .dataframe thead th {\n",
       "        text-align: right;\n",
       "    }\n",
       "</style>\n",
       "<table border=\"1\" class=\"dataframe\">\n",
       "  <thead>\n",
       "    <tr style=\"text-align: right;\">\n",
       "      <th></th>\n",
       "      <th>id</th>\n",
       "      <th>year</th>\n",
       "      <th>diploma</th>\n",
       "      <th>abstract</th>\n",
       "      <th>study_field</th>\n",
       "      <th>degree</th>\n",
       "      <th>original_diploma_extension</th>\n",
       "      <th>raw_model</th>\n",
       "      <th>learnt</th>\n",
       "    </tr>\n",
       "  </thead>\n",
       "  <tbody>\n",
       "    <tr>\n",
       "      <th>12</th>\n",
       "      <td>45042</td>\n",
       "      <td>2023</td>\n",
       "      <td>АЙВАЗЬЯН Аршак Владимирович\\nВыпускная квалифи...</td>\n",
       "      <td>В этой работе мы строим правую трансферную мод...</td>\n",
       "      <td>MATHEMATICS AND COMPUTER SCIENCE</td>\n",
       "      <td>BACHELOR STUDIES</td>\n",
       "      <td>.pdf</td>\n",
       "      <td>В работе рассматривается модельная структура н...</td>\n",
       "      <td>В данной работе рассматривается модельная стру...</td>\n",
       "    </tr>\n",
       "    <tr>\n",
       "      <th>25</th>\n",
       "      <td>45043</td>\n",
       "      <td>2023</td>\n",
       "      <td>Санкт-Петербургский государственный университе...</td>\n",
       "      <td>Пусть 𝐾 выпуклое тело в ℝ^𝑛. Определим 𝑑𝑛,𝑛−1(...</td>\n",
       "      <td>MATHEMATICS AND COMPUTER SCIENCE</td>\n",
       "      <td>BACHELOR STUDIES</td>\n",
       "      <td>.pdf</td>\n",
       "      <td>Плотность решетки трансляций - это минимальная...</td>\n",
       "      <td>В работе рассматриваются плотности решеток тра...</td>\n",
       "    </tr>\n",
       "    <tr>\n",
       "      <th>37</th>\n",
       "      <td>45044</td>\n",
       "      <td>2023</td>\n",
       "      <td>Санкт-Петербургский государственный университе...</td>\n",
       "      <td>Работа посвящена повышению производительности ...</td>\n",
       "      <td>MATHEMATICS AND COMPUTER SCIENCE</td>\n",
       "      <td>BACHELOR STUDIES</td>\n",
       "      <td>.pdf</td>\n",
       "      <td>В данной работе представлены результаты исслед...</td>\n",
       "      <td>В работе рассматривается задача булевой выполн...</td>\n",
       "    </tr>\n",
       "    <tr>\n",
       "      <th>101</th>\n",
       "      <td>45046</td>\n",
       "      <td>2023</td>\n",
       "      <td>Санкт-Петербургский государственный университе...</td>\n",
       "      <td>В работе мы обобщаем результаты об энергии нат...</td>\n",
       "      <td>MATHEMATICS AND COMPUTER SCIENCE</td>\n",
       "      <td>BACHELOR STUDIES</td>\n",
       "      <td>.pdf</td>\n",
       "      <td>В работе рассматриваются классы случайных проц...</td>\n",
       "      <td>В данной работе рассматривается энергетически-...</td>\n",
       "    </tr>\n",
       "    <tr>\n",
       "      <th>152</th>\n",
       "      <td>45047</td>\n",
       "      <td>2023</td>\n",
       "      <td>Санкт–Петербургский государственный университе...</td>\n",
       "      <td>В рамках данной работы рассматривается подход ...</td>\n",
       "      <td>MATHEMATICS AND COMPUTER SCIENCE</td>\n",
       "      <td>BACHELOR STUDIES</td>\n",
       "      <td>.pdf</td>\n",
       "      <td>В данной работе рассматривается задача настраи...</td>\n",
       "      <td>В данной работе рассматривается задача добавле...</td>\n",
       "    </tr>\n",
       "  </tbody>\n",
       "</table>\n",
       "</div>"
      ],
      "text/plain": [
       "        id  ...                                             learnt\n",
       "12   45042  ...  В данной работе рассматривается модельная стру...\n",
       "25   45043  ...  В работе рассматриваются плотности решеток тра...\n",
       "37   45044  ...  В работе рассматривается задача булевой выполн...\n",
       "101  45046  ...  В данной работе рассматривается энергетически-...\n",
       "152  45047  ...  В данной работе рассматривается задача добавле...\n",
       "\n",
       "[5 rows x 9 columns]"
      ]
     },
     "execution_count": 144,
     "metadata": {},
     "output_type": "execute_result"
    }
   ],
   "source": [
    "new_rows = []\n",
    "for _, row in tqdm(test_df.iloc[ids].iterrows(), total=len(ids), desc=\"Rows...\"):\n",
    "    new_row = copy.deepcopy(row)\n",
    "    prefix_len, prefix_tokens = get_prefix_len_and_tokens(row)\n",
    "    new_row[\"raw_model\"] = get_raw_model_result(prefix_len, prefix_tokens)\n",
    "    new_row[\"learnt\"] = get_learnt_model_result(prefix_len, prefix_tokens)\n",
    "    new_rows.append(new_row)\n",
    "new_df = pd.DataFrame(new_rows)\n",
    "new_df.head()"
   ]
  },
  {
   "cell_type": "code",
   "execution_count": 145,
   "metadata": {
    "execution": {
     "iopub.execute_input": "2024-05-08T21:43:00.638209Z",
     "iopub.status.busy": "2024-05-08T21:43:00.637965Z",
     "iopub.status.idle": "2024-05-08T21:43:00.787225Z",
     "shell.execute_reply": "2024-05-08T21:43:00.786569Z",
     "shell.execute_reply.started": "2024-05-08T21:43:00.638190Z"
    }
   },
   "outputs": [],
   "source": [
    "new_df.to_csv(ARTIFACTS_DIR_PATH.joinpath(\"diplomas_abstracts/mcs_raw_learnt_abstract.csv\"))"
   ]
  },
  {
   "cell_type": "markdown",
   "metadata": {
    "jp-MarkdownHeadingCollapsed": true,
    "tags": []
   },
   "source": [
    "## Try to save & load learnt model"
   ]
  },
  {
   "cell_type": "code",
   "execution_count": 146,
   "metadata": {
    "execution": {
     "iopub.execute_input": "2024-05-08T21:57:03.815147Z",
     "iopub.status.busy": "2024-05-08T21:57:03.814750Z",
     "iopub.status.idle": "2024-05-08T21:57:03.837131Z",
     "shell.execute_reply": "2024-05-08T21:57:03.836537Z",
     "shell.execute_reply.started": "2024-05-08T21:57:03.815126Z"
    }
   },
   "outputs": [
    {
     "data": {
      "application/vnd.jupyter.widget-view+json": {
       "model_id": "1c0e6a007f184ae685d66e221dd8f70d",
       "version_major": 2,
       "version_minor": 0
      },
      "text/plain": [
       "VBox(children=(HTML(value='<center> <img\\nsrc=https://huggingface.co/front/assets/huggingface_logo-noborder.sv…"
      ]
     },
     "metadata": {},
     "output_type": "display_data"
    }
   ],
   "source": [
    "from huggingface_hub import notebook_login\n",
    "notebook_login()"
   ]
  },
  {
   "cell_type": "code",
   "execution_count": 147,
   "metadata": {
    "execution": {
     "iopub.execute_input": "2024-05-08T21:57:52.468510Z",
     "iopub.status.busy": "2024-05-08T21:57:52.468083Z",
     "iopub.status.idle": "2024-05-08T21:57:52.478580Z",
     "shell.execute_reply": "2024-05-08T21:57:52.477908Z",
     "shell.execute_reply.started": "2024-05-08T21:57:52.468489Z"
    }
   },
   "outputs": [],
   "source": [
    "model_id = \"nvdenisov2002/llama-longLoRA-v1\""
   ]
  },
  {
   "cell_type": "code",
   "execution_count": null,
   "metadata": {
    "tags": []
   },
   "outputs": [],
   "source": [
    "peft_model.push_to_hub(model_id)"
   ]
  },
  {
   "cell_type": "code",
   "execution_count": null,
   "metadata": {
    "tags": []
   },
   "outputs": [],
   "source": [
    "trainer.push_to_hub(model_id)"
   ]
  },
  {
   "cell_type": "code",
   "execution_count": 150,
   "metadata": {
    "execution": {
     "iopub.execute_input": "2024-05-08T22:03:54.659839Z",
     "iopub.status.busy": "2024-05-08T22:03:54.659437Z",
     "iopub.status.idle": "2024-05-08T22:04:35.068395Z",
     "shell.execute_reply": "2024-05-08T22:04:35.067012Z",
     "shell.execute_reply.started": "2024-05-08T22:03:54.659818Z"
    }
   },
   "outputs": [
    {
     "name": "stderr",
     "output_type": "stream",
     "text": [
      "\n",
      "Downloading adapter_config.json: 100%|██████████| 674/674 [00:00<00:00, 4.63MB/s]\n",
      "\n",
      "Downloading adapter_model.bin:   0%|          | 0.00/1.08G [00:00<?, ?B/s]\u001b[A\n",
      "Downloading adapter_model.bin:   1%|          | 10.5M/1.08G [00:00<00:45, 23.6MB/s]\u001b[A\n",
      "Downloading adapter_model.bin:   2%|▏         | 21.0M/1.08G [00:00<00:35, 29.6MB/s]\u001b[A\n",
      "Downloading adapter_model.bin:   3%|▎         | 31.5M/1.08G [00:00<00:28, 36.5MB/s]\u001b[A\n",
      "Downloading adapter_model.bin:   4%|▍         | 41.9M/1.08G [00:01<00:23, 43.8MB/s]\u001b[A\n",
      "Downloading adapter_model.bin:   5%|▍         | 52.4M/1.08G [00:01<00:20, 50.8MB/s]\u001b[A\n",
      "Downloading adapter_model.bin:   6%|▌         | 62.9M/1.08G [00:01<00:18, 56.5MB/s]\u001b[A\n",
      "Downloading adapter_model.bin:   7%|▋         | 73.4M/1.08G [00:01<00:17, 58.8MB/s]\u001b[A\n",
      "Downloading adapter_model.bin:   8%|▊         | 83.9M/1.08G [00:01<00:16, 61.2MB/s]\u001b[A\n",
      "Downloading adapter_model.bin:   9%|▊         | 94.4M/1.08G [00:01<00:15, 63.4MB/s]\u001b[A\n",
      "Downloading adapter_model.bin:  10%|▉         | 105M/1.08G [00:02<00:15, 64.8MB/s] \u001b[A\n",
      "Downloading adapter_model.bin:  11%|█         | 115M/1.08G [00:02<00:14, 65.9MB/s]\u001b[A\n",
      "Downloading adapter_model.bin:  12%|█▏        | 126M/1.08G [00:02<00:14, 66.7MB/s]\u001b[A\n",
      "Downloading adapter_model.bin:  13%|█▎        | 136M/1.08G [00:02<00:14, 67.2MB/s]\u001b[A\n",
      "Downloading adapter_model.bin:  14%|█▎        | 147M/1.08G [00:02<00:13, 67.7MB/s]\u001b[A\n",
      "Downloading adapter_model.bin:  15%|█▍        | 157M/1.08G [00:02<00:13, 67.8MB/s]\u001b[A\n",
      "Downloading adapter_model.bin:  16%|█▌        | 168M/1.08G [00:02<00:13, 67.9MB/s]\u001b[A\n",
      "Downloading adapter_model.bin:  16%|█▋        | 178M/1.08G [00:03<00:18, 47.8MB/s]\u001b[A\n",
      "Downloading adapter_model.bin:  17%|█▋        | 189M/1.08G [00:03<00:17, 52.5MB/s]\u001b[A\n",
      "Downloading adapter_model.bin:  18%|█▊        | 199M/1.08G [00:03<00:17, 51.9MB/s]\u001b[A\n",
      "Downloading adapter_model.bin:  19%|█▉        | 210M/1.08G [00:03<00:15, 56.0MB/s]\u001b[A\n",
      "Downloading adapter_model.bin:  20%|██        | 220M/1.08G [00:03<00:14, 59.1MB/s]\u001b[A\n",
      "Downloading adapter_model.bin:  21%|██▏       | 231M/1.08G [00:04<00:15, 55.0MB/s]\u001b[A\n",
      "Downloading adapter_model.bin:  22%|██▏       | 241M/1.08G [00:04<00:14, 58.5MB/s]\u001b[A\n",
      "Downloading adapter_model.bin:  23%|██▎       | 252M/1.08G [00:04<00:13, 61.3MB/s]\u001b[A\n",
      "Downloading adapter_model.bin:  24%|██▍       | 262M/1.08G [00:04<00:13, 62.9MB/s]\u001b[A\n",
      "Downloading adapter_model.bin:  25%|██▌       | 273M/1.08G [00:04<00:12, 64.5MB/s]\u001b[A\n",
      "Downloading adapter_model.bin:  26%|██▌       | 283M/1.08G [00:05<00:21, 36.8MB/s]\u001b[A\n",
      "Downloading adapter_model.bin:  27%|██▋       | 294M/1.08G [00:05<00:23, 33.4MB/s]\u001b[A\n",
      "Downloading adapter_model.bin:  28%|██▊       | 304M/1.08G [00:05<00:19, 39.5MB/s]\u001b[A\n",
      "Downloading adapter_model.bin:  29%|██▉       | 315M/1.08G [00:06<00:16, 45.2MB/s]\u001b[A\n",
      "Downloading adapter_model.bin:  30%|███       | 325M/1.08G [00:06<00:15, 50.3MB/s]\u001b[A\n",
      "Downloading adapter_model.bin:  31%|███       | 336M/1.08G [00:06<00:13, 54.6MB/s]\u001b[A\n",
      "Downloading adapter_model.bin:  32%|███▏      | 346M/1.08G [00:06<00:12, 58.1MB/s]\u001b[A\n",
      "Downloading adapter_model.bin:  33%|███▎      | 357M/1.08G [00:06<00:15, 48.1MB/s]\u001b[A\n",
      "Downloading adapter_model.bin:  34%|███▍      | 367M/1.08G [00:07<00:13, 52.8MB/s]\u001b[A\n",
      "Downloading adapter_model.bin:  35%|███▍      | 377M/1.08G [00:07<00:12, 56.6MB/s]\u001b[A\n",
      "Downloading adapter_model.bin:  36%|███▌      | 388M/1.08G [00:07<00:11, 59.6MB/s]\u001b[A\n",
      "Downloading adapter_model.bin:  37%|███▋      | 398M/1.08G [00:07<00:12, 55.2MB/s]\u001b[A\n",
      "Downloading adapter_model.bin:  38%|███▊      | 409M/1.08G [00:07<00:13, 51.5MB/s]\u001b[A\n",
      "Downloading adapter_model.bin:  39%|███▉      | 419M/1.08G [00:08<00:15, 43.0MB/s]\u001b[A\n",
      "Downloading adapter_model.bin:  40%|███▉      | 430M/1.08G [00:08<00:13, 48.3MB/s]\u001b[A\n",
      "Downloading adapter_model.bin:  41%|████      | 440M/1.08G [00:08<00:13, 46.2MB/s]\u001b[A\n",
      "Downloading adapter_model.bin:  42%|████▏     | 451M/1.08G [00:08<00:12, 51.2MB/s]\u001b[A\n",
      "Downloading adapter_model.bin:  43%|████▎     | 461M/1.08G [00:08<00:11, 54.7MB/s]\u001b[A\n",
      "Downloading adapter_model.bin:  44%|████▎     | 472M/1.08G [00:09<00:11, 54.1MB/s]\u001b[A\n",
      "Downloading adapter_model.bin:  45%|████▍     | 482M/1.08G [00:09<00:10, 57.7MB/s]\u001b[A\n",
      "Downloading adapter_model.bin:  46%|████▌     | 493M/1.08G [00:09<00:09, 60.5MB/s]\u001b[A\n",
      "Downloading adapter_model.bin:  47%|████▋     | 503M/1.08G [00:09<00:10, 54.2MB/s]\u001b[A\n",
      "Downloading adapter_model.bin:  47%|████▋     | 514M/1.08G [00:09<00:10, 55.5MB/s]\u001b[A\n",
      "Downloading adapter_model.bin:  48%|████▊     | 524M/1.08G [00:09<00:09, 58.7MB/s]\u001b[A\n",
      "Downloading adapter_model.bin:  49%|████▉     | 535M/1.08G [00:10<00:08, 61.2MB/s]\u001b[A\n",
      "Downloading adapter_model.bin:  50%|█████     | 545M/1.08G [00:10<00:08, 63.1MB/s]\u001b[A\n",
      "Downloading adapter_model.bin:  51%|█████▏    | 556M/1.08G [00:10<00:08, 64.6MB/s]\u001b[A\n",
      "Downloading adapter_model.bin:  52%|█████▏    | 566M/1.08G [00:10<00:10, 50.1MB/s]\u001b[A\n",
      "Downloading adapter_model.bin:  53%|█████▎    | 577M/1.08G [00:11<00:18, 27.5MB/s]\u001b[A\n",
      "Downloading adapter_model.bin:  54%|█████▍    | 587M/1.08G [00:11<00:14, 33.5MB/s]\u001b[A\n",
      "Downloading adapter_model.bin:  55%|█████▌    | 598M/1.08G [00:11<00:14, 33.1MB/s]\u001b[A\n",
      "Downloading adapter_model.bin:  56%|█████▌    | 608M/1.08G [00:12<00:12, 39.2MB/s]\u001b[A\n",
      "Downloading adapter_model.bin:  57%|█████▋    | 619M/1.08G [00:12<00:10, 44.9MB/s]\u001b[A\n",
      "Downloading adapter_model.bin:  58%|█████▊    | 629M/1.08G [00:12<00:09, 49.9MB/s]\u001b[A\n",
      "Downloading adapter_model.bin:  59%|█████▉    | 640M/1.08G [00:12<00:08, 54.3MB/s]\u001b[A\n",
      "Downloading adapter_model.bin:  60%|██████    | 650M/1.08G [00:12<00:07, 57.7MB/s]\u001b[A\n",
      "Downloading adapter_model.bin:  61%|██████    | 661M/1.08G [00:12<00:07, 59.7MB/s]\u001b[A\n",
      "Downloading adapter_model.bin:  62%|██████▏   | 671M/1.08G [00:13<00:06, 61.6MB/s]\u001b[A\n",
      "Downloading adapter_model.bin:  63%|██████▎   | 682M/1.08G [00:13<00:07, 51.5MB/s]\u001b[A\n",
      "Downloading adapter_model.bin:  64%|██████▍   | 692M/1.08G [00:13<00:07, 55.7MB/s]\u001b[A\n",
      "Downloading adapter_model.bin:  65%|██████▍   | 703M/1.08G [00:13<00:06, 59.1MB/s]\u001b[A\n",
      "Downloading adapter_model.bin:  66%|██████▌   | 713M/1.08G [00:13<00:05, 61.7MB/s]\u001b[A\n",
      "Downloading adapter_model.bin:  67%|██████▋   | 724M/1.08G [00:13<00:05, 63.6MB/s]\u001b[A\n",
      "Downloading adapter_model.bin:  68%|██████▊   | 734M/1.08G [00:14<00:05, 65.0MB/s]\u001b[A\n",
      "Downloading adapter_model.bin:  69%|██████▉   | 744M/1.08G [00:14<00:05, 66.0MB/s]\u001b[A\n",
      "Downloading adapter_model.bin:  70%|██████▉   | 755M/1.08G [00:14<00:04, 66.7MB/s]\u001b[A\n",
      "Downloading adapter_model.bin:  71%|███████   | 765M/1.08G [00:14<00:04, 67.3MB/s]\u001b[A\n",
      "Downloading adapter_model.bin:  72%|███████▏  | 776M/1.08G [00:14<00:04, 67.7MB/s]\u001b[A\n",
      "Downloading adapter_model.bin:  73%|███████▎  | 786M/1.08G [00:14<00:04, 67.9MB/s]\u001b[A\n",
      "Downloading adapter_model.bin:  74%|███████▎  | 797M/1.08G [00:14<00:04, 68.1MB/s]\u001b[A\n",
      "Downloading adapter_model.bin:  75%|███████▍  | 807M/1.08G [00:15<00:04, 68.3MB/s]\u001b[A\n",
      "Downloading adapter_model.bin:  76%|███████▌  | 818M/1.08G [00:15<00:05, 51.0MB/s]\u001b[A\n",
      "Downloading adapter_model.bin:  77%|███████▋  | 828M/1.08G [00:15<00:04, 55.3MB/s]\u001b[A\n",
      "Downloading adapter_model.bin:  78%|███████▊  | 839M/1.08G [00:15<00:04, 58.7MB/s]\u001b[A\n",
      "Downloading adapter_model.bin:  78%|███████▊  | 849M/1.08G [00:15<00:03, 61.4MB/s]\u001b[A\n",
      "Downloading adapter_model.bin:  79%|███████▉  | 860M/1.08G [00:16<00:03, 63.1MB/s]\u001b[A\n",
      "Downloading adapter_model.bin:  80%|████████  | 870M/1.08G [00:16<00:03, 61.3MB/s]\u001b[A\n",
      "Downloading adapter_model.bin:  81%|████████▏ | 881M/1.08G [00:16<00:03, 53.7MB/s]\u001b[A\n",
      "Downloading adapter_model.bin:  82%|████████▏ | 891M/1.08G [00:16<00:03, 53.1MB/s]\u001b[A\n",
      "Downloading adapter_model.bin:  83%|████████▎ | 902M/1.08G [00:17<00:03, 45.7MB/s]\u001b[A\n",
      "Downloading adapter_model.bin:  84%|████████▍ | 912M/1.08G [00:17<00:03, 44.2MB/s]\u001b[A\n",
      "Downloading adapter_model.bin:  85%|████████▌ | 923M/1.08G [00:17<00:03, 43.1MB/s]\u001b[A\n",
      "Downloading adapter_model.bin:  86%|████████▌ | 933M/1.08G [00:17<00:03, 44.3MB/s]\u001b[A\n",
      "Downloading adapter_model.bin:  87%|████████▋ | 944M/1.08G [00:18<00:03, 41.7MB/s]\u001b[A\n",
      "Downloading adapter_model.bin:  88%|████████▊ | 954M/1.08G [00:18<00:03, 40.1MB/s]\u001b[A\n",
      "Downloading adapter_model.bin:  89%|████████▉ | 965M/1.08G [00:18<00:02, 41.0MB/s]\u001b[A\n",
      "Downloading adapter_model.bin:  90%|█████████ | 975M/1.08G [00:18<00:02, 40.0MB/s]\u001b[A\n",
      "Downloading adapter_model.bin:  91%|█████████ | 986M/1.08G [00:19<00:02, 40.9MB/s]\u001b[A\n",
      "Downloading adapter_model.bin:  92%|█████████▏| 996M/1.08G [00:19<00:02, 41.8MB/s]\u001b[A\n",
      "Downloading adapter_model.bin:  93%|█████████▎| 1.01G/1.08G [00:19<00:01, 40.6MB/s]\u001b[A\n",
      "Downloading adapter_model.bin:  94%|█████████▍| 1.02G/1.08G [00:19<00:01, 41.5MB/s]\u001b[A\n",
      "Downloading adapter_model.bin:  95%|█████████▍| 1.03G/1.08G [00:20<00:01, 42.6MB/s]\u001b[A\n",
      "Downloading adapter_model.bin:  96%|█████████▌| 1.04G/1.08G [00:20<00:01, 41.2MB/s]\u001b[A\n",
      "Downloading adapter_model.bin:  97%|█████████▋| 1.05G/1.08G [00:20<00:00, 42.3MB/s]\u001b[A\n",
      "Downloading adapter_model.bin:  98%|█████████▊| 1.06G/1.08G [00:20<00:00, 43.1MB/s]\u001b[A\n",
      "Downloading adapter_model.bin:  99%|█████████▉| 1.07G/1.08G [00:21<00:00, 43.7MB/s]\u001b[A\n",
      "Downloading adapter_model.bin: 100%|██████████| 1.08G/1.08G [00:21<00:00, 50.7MB/s]\u001b[A\n"
     ]
    }
   ],
   "source": [
    "another_peft_config = PeftConfig.from_pretrained(model_id)\n",
    "another_peft_model = PeftModel.from_pretrained(model, model_id)"
   ]
  },
  {
   "cell_type": "code",
   "execution_count": 151,
   "metadata": {
    "execution": {
     "iopub.execute_input": "2024-05-08T22:04:48.122590Z",
     "iopub.status.busy": "2024-05-08T22:04:48.122186Z",
     "iopub.status.idle": "2024-05-08T22:04:48.136128Z",
     "shell.execute_reply": "2024-05-08T22:04:48.135454Z",
     "shell.execute_reply.started": "2024-05-08T22:04:48.122567Z"
    }
   },
   "outputs": [
    {
     "data": {
      "text/plain": [
       "id                                                                        45137\n",
       "year                                                                       2023\n",
       "diploma                       Санкт–Петербургский государственный университе...\n",
       "abstract                      В данной работе представлены реализация фронте...\n",
       "study_field                                    MATHEMATICS AND COMPUTER SCIENCE\n",
       "degree                                                         BACHELOR STUDIES\n",
       "original_diploma_extension                                                 .pdf\n",
       "Name: 1238, dtype: object"
      ]
     },
     "execution_count": 151,
     "metadata": {},
     "output_type": "execute_result"
    }
   ],
   "source": [
    "row"
   ]
  },
  {
   "cell_type": "code",
   "execution_count": 152,
   "metadata": {
    "execution": {
     "iopub.execute_input": "2024-05-08T22:05:01.659886Z",
     "iopub.status.busy": "2024-05-08T22:05:01.659472Z",
     "iopub.status.idle": "2024-05-08T22:05:10.132426Z",
     "shell.execute_reply": "2024-05-08T22:05:10.131616Z",
     "shell.execute_reply.started": "2024-05-08T22:05:01.659865Z"
    }
   },
   "outputs": [],
   "source": [
    "prefix_len, prefix_tokens = get_prefix_len_and_tokens(row)\n",
    "learnt_old = get_learnt_model_result(prefix_len, prefix_tokens)"
   ]
  },
  {
   "cell_type": "code",
   "execution_count": 153,
   "metadata": {
    "execution": {
     "iopub.execute_input": "2024-05-08T22:05:42.064661Z",
     "iopub.status.busy": "2024-05-08T22:05:42.064228Z",
     "iopub.status.idle": "2024-05-08T22:05:46.243189Z",
     "shell.execute_reply": "2024-05-08T22:05:46.242386Z",
     "shell.execute_reply.started": "2024-05-08T22:05:42.064640Z"
    }
   },
   "outputs": [],
   "source": [
    "another_peft_model.eval()\n",
    "generated = another_peft_model.generate(prefix_tokens.reshape((1, -1)).to(device))\n",
    "generated_continue = tokenizer.decode(generated.to('cpu').flatten()[prefix_len:])\n",
    "learnt_new = generated_continue"
   ]
  },
  {
   "cell_type": "code",
   "execution_count": 155,
   "metadata": {
    "execution": {
     "iopub.execute_input": "2024-05-08T22:05:55.416771Z",
     "iopub.status.busy": "2024-05-08T22:05:55.416328Z",
     "iopub.status.idle": "2024-05-08T22:05:55.428811Z",
     "shell.execute_reply": "2024-05-08T22:05:55.428254Z",
     "shell.execute_reply.started": "2024-05-08T22:05:55.416745Z"
    },
    "tags": []
   },
   "outputs": [
    {
     "data": {
      "text/plain": [
       "False"
      ]
     },
     "execution_count": 155,
     "metadata": {},
     "output_type": "execute_result"
    }
   ],
   "source": [
    "learnt_old == learnt_new"
   ]
  },
  {
   "cell_type": "code",
   "execution_count": 156,
   "metadata": {
    "execution": {
     "iopub.execute_input": "2024-05-08T22:05:59.898121Z",
     "iopub.status.busy": "2024-05-08T22:05:59.897755Z",
     "iopub.status.idle": "2024-05-08T22:05:59.910463Z",
     "shell.execute_reply": "2024-05-08T22:05:59.909902Z",
     "shell.execute_reply.started": "2024-05-08T22:05:59.898098Z"
    }
   },
   "outputs": [
    {
     "data": {
      "text/plain": [
       "'В работе рассмотрена задача создания персонажа для игры в жанре «космическая охота на разумных существ». Разработана архитектура мобильного приложения для создания персонажа, которая состоит из 3 модулей: Front-end, Back-end и сервис. В Front-end модуле представлены экраны, которые позволяют пользователю создавать персонажа. В Back-end модуле реализован сервис, который позволяет пользователю сохранить созданный персонаж на сервере и использовать его в игре. В Back-end модуле также реализован сервис, который позволяет пользователю изменить свой персонаж, а также сервис, который позволяет пользователю загрузить созданный им персонаж на сервер.</s>'"
      ]
     },
     "execution_count": 156,
     "metadata": {},
     "output_type": "execute_result"
    }
   ],
   "source": [
    "learnt_old"
   ]
  },
  {
   "cell_type": "code",
   "execution_count": 158,
   "metadata": {
    "execution": {
     "iopub.execute_input": "2024-05-08T22:06:35.179524Z",
     "iopub.status.busy": "2024-05-08T22:06:35.179109Z",
     "iopub.status.idle": "2024-05-08T22:06:38.157316Z",
     "shell.execute_reply": "2024-05-08T22:06:38.156709Z",
     "shell.execute_reply.started": "2024-05-08T22:06:35.179501Z"
    }
   },
   "outputs": [
    {
     "data": {
      "text/plain": [
       "'В работе рассмотрена задача создания персонажа для онлайн-игры в жанре массовой многопользовательской ролевой игры. Рассматривается архитектура приложения, применяемые технологии, а также реализованные экраны.</s>'"
      ]
     },
     "execution_count": 158,
     "metadata": {},
     "output_type": "execute_result"
    }
   ],
   "source": [
    "learnt_old_2 = get_learnt_model_result(prefix_len, prefix_tokens)\n",
    "learnt_old_2"
   ]
  },
  {
   "cell_type": "code",
   "execution_count": 157,
   "metadata": {
    "execution": {
     "iopub.execute_input": "2024-05-08T22:06:04.038081Z",
     "iopub.status.busy": "2024-05-08T22:06:04.037673Z",
     "iopub.status.idle": "2024-05-08T22:06:04.052001Z",
     "shell.execute_reply": "2024-05-08T22:06:04.051411Z",
     "shell.execute_reply.started": "2024-05-08T22:06:04.038057Z"
    }
   },
   "outputs": [
    {
     "data": {
      "text/plain": [
       "'В работе рассматривается проблема создания персонажа в онлайн-игре. На основе анализа существующих решений и анализа потребностей игроков была разработана архитектура мобильного приложения, реализованного на основе фреймворка Flutter. В результате было создано мобильное приложение для создания персонажа в онлайн-игре.</s>'"
      ]
     },
     "execution_count": 157,
     "metadata": {},
     "output_type": "execute_result"
    }
   ],
   "source": [
    "learnt_new"
   ]
  },
  {
   "cell_type": "code",
   "execution_count": null,
   "metadata": {},
   "outputs": [],
   "source": []
  }
 ],
 "metadata": {
  "kernelspec": {
   "display_name": "DataSphere Kernel",
   "language": "python",
   "name": "python3"
  },
  "language_info": {
   "codemirror_mode": {
    "name": "ipython",
    "version": 3
   },
   "file_extension": ".py",
   "mimetype": "text/x-python",
   "name": "python",
   "nbconvert_exporter": "python",
   "pygments_lexer": "ipython3",
   "version": "3.10.12"
  }
 },
 "nbformat": 4,
 "nbformat_minor": 4
}
