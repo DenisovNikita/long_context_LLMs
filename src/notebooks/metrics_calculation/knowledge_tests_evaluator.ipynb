{
 "cells": [
  {
   "cell_type": "markdown",
   "metadata": {},
   "source": [
    "### Imports"
   ]
  },
  {
   "cell_type": "code",
   "execution_count": 4,
   "metadata": {},
   "outputs": [],
   "source": [
    "from definitions import *"
   ]
  },
  {
   "cell_type": "markdown",
   "metadata": {},
   "source": [
    "### Make quiz prompt"
   ]
  },
  {
   "cell_type": "code",
   "execution_count": 5,
   "metadata": {},
   "outputs": [],
   "source": [
    "with open(\"../../metrics/knowledge_tests/obrazovaka/oblomov.json\", \"r\") as f:\n",
    "    quiz = json.load(f)"
   ]
  },
  {
   "cell_type": "code",
   "execution_count": 6,
   "metadata": {},
   "outputs": [
    {
     "data": {
      "text/plain": [
       "{'question': 'К какому литературному направлению относится роман Гончарова «Обломов»?',\n",
       " 'answers': [{'answer': 'Романтизм;', 'is_correct': 0},\n",
       "  {'answer': 'Реализм;', 'is_correct': 1},\n",
       "  {'answer': 'Классицизм;', 'is_correct': 0},\n",
       "  {'answer': 'Сентиментализм.', 'is_correct': 0}]}"
      ]
     },
     "execution_count": 6,
     "metadata": {},
     "output_type": "execute_result"
    }
   ],
   "source": [
    "part = quiz[0]\n",
    "part"
   ]
  },
  {
   "cell_type": "code",
   "execution_count": 4,
   "metadata": {},
   "outputs": [],
   "source": [
    "def build_prompt(quiz_part):\n",
    "    processed_answers = \"\"\n",
    "    for i, answer in enumerate(quiz_part[\"answers\"]):\n",
    "        processed_answers += f\"{i + 1}. {answer['answer']}\\n\"\n",
    "    # return f\"Выбери один верный вариант из предложенных.\\nВопрос: {quiz_part['question']}\\nВарианты ответа:\\n{processed_answers}\"\n",
    "    return f\"Выбери один верный вариант из предложенных. В качестве ответа напиши только номер, без дополнительного текста. Например: '1', '2', '3', '4'.\\nВопрос: {quiz_part['question']}\\nВарианты ответа:\\n{processed_answers}\""
   ]
  },
  {
   "cell_type": "code",
   "execution_count": 5,
   "metadata": {},
   "outputs": [
    {
     "name": "stdout",
     "output_type": "stream",
     "text": [
      "Выбери один верный вариант из предложенных. В качестве ответа напиши только номер, без дополнительного текста. Например: '1', '2', '3', '4'.\n",
      "Вопрос: К какому литературному направлению относится роман Гончарова «Обломов»?\n",
      "Варианты ответа:\n",
      "1. Романтизм;\n",
      "2. Реализм;\n",
      "3. Классицизм;\n",
      "4. Сентиментализм.\n",
      "\n"
     ]
    }
   ],
   "source": [
    "print(build_prompt(part))"
   ]
  },
  {
   "cell_type": "code",
   "execution_count": 54,
   "metadata": {},
   "outputs": [],
   "source": [
    "def build_prompt_with_summary(quiz_part, summary):\n",
    "    processed_answers = \"\"\n",
    "    for i, answer in enumerate(quiz_part[\"answers\"]):\n",
    "        processed_answers += f\"{i + 1}. {answer['answer']}\\n\"\n",
    "    # return f\"Выбери один верный вариант из предложенных.\\nВопрос: {quiz_part['question']}\\nВарианты ответа:\\n{processed_answers}\"\n",
    "    return f\"Внимательно прочитай краткое содержание книги, и потом ответь на вопрос.\\nКраткое содержание:\\n{summary}\\nВыбери один верный вариант из предложенных. В качестве ответа напиши только номер, без дополнительного текста. Например: '1', '2', '3', '4'.\\nВопрос: {quiz_part['question']}\\nВарианты ответа:\\n{processed_answers}\""
   ]
  },
  {
   "cell_type": "code",
   "execution_count": 55,
   "metadata": {},
   "outputs": [
    {
     "name": "stdout",
     "output_type": "stream",
     "text": [
      "Внимательно прочитай краткое содержание книги, и потом ответь на вопрос.\n",
      "Краткое содержание:\n",
      "kek\n",
      "Выбери один верный вариант из предложенных. В качестве ответа напиши только номер, без дополнительного текста. Например: '1', '2', '3', '4'.\n",
      "Вопрос: В чем автор видит причины «обломовщины»?\n",
      "Варианты ответа:\n",
      "1. В деградации и застое чистой, нерасчетливой, нежной, но ленивой души героя;\n",
      "2. В окружении героя, которое не давало ему развиваться;\n",
      "3. В недостаточно хорошем образовании героя;\n",
      "4. В отсутствии достойных стимулов к развитию.\n",
      "\n"
     ]
    }
   ],
   "source": [
    "print(build_prompt_with_summary(part, \"kek\"))"
   ]
  },
  {
   "cell_type": "code",
   "execution_count": 56,
   "metadata": {},
   "outputs": [],
   "source": [
    "import copy\n",
    "\n",
    "def build_json_prompt(quiz_part):\n",
    "    sample_quiz_part = {\n",
    "        \"question\": \"вопрос\",\n",
    "        \"answers\": [\n",
    "        {\n",
    "            \"answer\": \"ответ1\"\n",
    "        },\n",
    "        {\n",
    "            \"answer\": \"ответ2\"\n",
    "        },\n",
    "        {\n",
    "            \"answer\": \"ответ3\"\n",
    "        },\n",
    "        {\n",
    "            \"answer\": \"ответ4\"\n",
    "        }\n",
    "        ]\n",
    "    }\n",
    "    sample_quiz_part_answer = {\n",
    "        \"question\": \"вопрос\",\n",
    "        \"answers\": [\n",
    "        {\n",
    "            \"answer\": \"ответ1\",\n",
    "            \"is_correct\": 0\n",
    "        },\n",
    "        {\n",
    "            \"answer\": \"ответ2\",\n",
    "            \"is_correct\": 0\n",
    "        },\n",
    "        {\n",
    "            \"answer\": \"ответ3\",\n",
    "            \"is_correct\": 0\n",
    "        },\n",
    "        {\n",
    "            \"answer\": \"ответ4\",\n",
    "            \"is_correct\": 1\n",
    "        }\n",
    "        ]\n",
    "    }\n",
    "    sample = f\"Пример нашего взаимодействия. Я даю тебе json:\\n{json.dumps(sample_quiz_part, indent=2, ensure_ascii=False)}\\nВариант твоего ответа:\\n{json.dumps(sample_quiz_part_answer, indent=2, ensure_ascii=False)}\"\n",
    "    quiz_part_copy = copy.deepcopy(quiz_part)\n",
    "    for a in quiz_part_copy[\"answers\"]:\n",
    "        del a[\"is_correct\"]\n",
    "    return f\"{sample}\\nПосмотри на json который я тебе дал. Он содержит вопрос с четырьмя вариантами ответа на него. Твоя задача модифицировать этот json так, чтобы рядом с каждым вариантом ответа появилось поле 'is_correct' которое равно либо 1, либо 0 (соответственно правильный ответ или нет). В качестве ответа отправь мне только этот json и ничего больше. Твой ответ должен обрабатываться без ошибок если я вызову на нем json.loads(output) из python3, где output — твой ответ. Отмечу, что на каждый вопрос из четырех вариантов ответа правильным является ровно один.\\nВот сам json, который то должен модифицировать:\\n{json.dumps(quiz_part_copy, indent=2, ensure_ascii=False)}\""
   ]
  },
  {
   "cell_type": "code",
   "execution_count": 57,
   "metadata": {},
   "outputs": [
    {
     "name": "stdout",
     "output_type": "stream",
     "text": [
      "Пример нашего взаимодействия. Я даю тебе json:\n",
      "{\n",
      "  \"question\": \"вопрос\",\n",
      "  \"answers\": [\n",
      "    {\n",
      "      \"answer\": \"ответ1\"\n",
      "    },\n",
      "    {\n",
      "      \"answer\": \"ответ2\"\n",
      "    },\n",
      "    {\n",
      "      \"answer\": \"ответ3\"\n",
      "    },\n",
      "    {\n",
      "      \"answer\": \"ответ4\"\n",
      "    }\n",
      "  ]\n",
      "}\n",
      "Вариант твоего ответа:\n",
      "{\n",
      "  \"question\": \"вопрос\",\n",
      "  \"answers\": [\n",
      "    {\n",
      "      \"answer\": \"ответ1\",\n",
      "      \"is_correct\": 0\n",
      "    },\n",
      "    {\n",
      "      \"answer\": \"ответ2\",\n",
      "      \"is_correct\": 0\n",
      "    },\n",
      "    {\n",
      "      \"answer\": \"ответ3\",\n",
      "      \"is_correct\": 0\n",
      "    },\n",
      "    {\n",
      "      \"answer\": \"ответ4\",\n",
      "      \"is_correct\": 1\n",
      "    }\n",
      "  ]\n",
      "}\n",
      "Посмотри на json который я тебе дал. Он содержит вопрос с четырьмя вариантами ответа на него. Твоя задача модифицировать этот json так, чтобы рядом с каждым вариантом ответа появилось поле 'is_correct' которое равно либо 1, либо 0 (соответственно правильный ответ или нет). В качестве ответа отправь мне только этот json и ничего больше. Твой ответ должен обрабатываться без ошибок если я вызову на нем json.loads(output) из python3, где output — твой ответ. Отмечу, что на каждый вопрос из четырех вариантов ответа правильным является ровно один.\n",
      "Вот сам json, который то должен модифицировать:\n",
      "{\n",
      "  \"question\": \"К какому литературному направлению относится роман Гончарова «Обломов»?\",\n",
      "  \"answers\": [\n",
      "    {\n",
      "      \"answer\": \"Романтизм;\"\n",
      "    },\n",
      "    {\n",
      "      \"answer\": \"Реализм;\"\n",
      "    },\n",
      "    {\n",
      "      \"answer\": \"Классицизм;\"\n",
      "    },\n",
      "    {\n",
      "      \"answer\": \"Сентиментализм.\"\n",
      "    }\n",
      "  ]\n",
      "}\n"
     ]
    }
   ],
   "source": [
    "prompt = build_json_prompt(part)\n",
    "print(prompt)"
   ]
  },
  {
   "cell_type": "code",
   "execution_count": 63,
   "metadata": {},
   "outputs": [],
   "source": [
    "import copy\n",
    "\n",
    "def build_json_promp_full_quiz(quiz):\n",
    "    sample_quiz = [{\n",
    "        \"question\": \"вопрос1\",\n",
    "        \"answers\": [\n",
    "        {\n",
    "            \"answer\": \"ответ1\"\n",
    "        },\n",
    "        {\n",
    "            \"answer\": \"ответ2\"\n",
    "        },\n",
    "        {\n",
    "            \"answer\": \"ответ3\"\n",
    "        },\n",
    "        {\n",
    "            \"answer\": \"ответ4\"\n",
    "        }\n",
    "        ]\n",
    "    },\n",
    "    {\n",
    "        \"question\": \"вопрос2\",\n",
    "        \"answers\": [\n",
    "        {\n",
    "            \"answer\": \"ответ1\"\n",
    "        },\n",
    "        {\n",
    "            \"answer\": \"ответ2\"\n",
    "        },\n",
    "        {\n",
    "            \"answer\": \"ответ3\"\n",
    "        },\n",
    "        {\n",
    "            \"answer\": \"ответ4\"\n",
    "        }\n",
    "        ]\n",
    "    }]\n",
    "    sample_quiz_answer = [{\n",
    "        \"question\": \"вопрос1\",\n",
    "        \"answers\": [\n",
    "        {\n",
    "            \"answer\": \"ответ1\",\n",
    "            \"is_correct\": 0\n",
    "        },\n",
    "        {\n",
    "            \"answer\": \"ответ2\",\n",
    "            \"is_correct\": 0\n",
    "        },\n",
    "        {\n",
    "            \"answer\": \"ответ3\",\n",
    "            \"is_correct\": 0\n",
    "        },\n",
    "        {\n",
    "            \"answer\": \"ответ4\",\n",
    "            \"is_correct\": 1\n",
    "        }\n",
    "        ]\n",
    "    },\n",
    "    {\n",
    "        \"question\": \"вопрос2\",\n",
    "        \"answers\": [\n",
    "        {\n",
    "            \"answer\": \"ответ1\",\n",
    "            \"is_correct\": 0\n",
    "        },\n",
    "        {\n",
    "            \"answer\": \"ответ2\",\n",
    "            \"is_correct\": 1\n",
    "        },\n",
    "        {\n",
    "            \"answer\": \"ответ3\",\n",
    "            \"is_correct\": 0\n",
    "        },\n",
    "        {\n",
    "            \"answer\": \"ответ4\",\n",
    "            \"is_correct\": 0\n",
    "        }\n",
    "        ]\n",
    "    }]\n",
    "    sample = f\"Пример нашего взаимодействия. Я даю тебе json:\\n{json.dumps(sample_quiz, indent=2, ensure_ascii=False)}\\nВариант твоего ответа:\\n{json.dumps(sample_quiz_answer, indent=2, ensure_ascii=False)}\"\n",
    "    quiz_copy = copy.deepcopy(quiz)\n",
    "    for qa in quiz_copy:\n",
    "        for a in qa[\"answers\"]:\n",
    "            del a[\"is_correct\"]\n",
    "    return f\"{sample}\\nПосмотри на json который я тебе дал. Он содержит вопрос с четырьмя вариантами ответа на него. Твоя задача модифицировать этот json так, чтобы рядом с каждым вариантом ответа появилось поле 'is_correct' которое равно либо 1, либо 0 (соответственно правильный ответ или нет). В качестве ответа отправь мне только этот json и ничего больше. Твой ответ должен обрабатываться без ошибок если я вызову на нем json.loads(output) из python3, где output — твой ответ. Отмечу, что на каждый вопрос из четырех вариантов ответа правильным является ровно один.\\nВот сам json, который то должен модифицировать:\\n{json.dumps(quiz_copy, indent=2, ensure_ascii=False)}\""
   ]
  },
  {
   "cell_type": "code",
   "execution_count": 80,
   "metadata": {},
   "outputs": [
    {
     "name": "stdout",
     "output_type": "stream",
     "text": [
      "Пример нашего взаимодействия. Я даю тебе json:\n",
      "[\n",
      "  {\n",
      "    \"question\": \"вопрос1\",\n",
      "    \"answers\": [\n",
      "      {\n",
      "        \"answer\": \"ответ1\"\n",
      "      },\n",
      "      {\n",
      "        \"answer\": \"ответ2\"\n",
      "      },\n",
      "      {\n",
      "        \"answer\": \"ответ3\"\n",
      "      },\n",
      "      {\n",
      "        \"answer\": \"ответ4\"\n",
      "      }\n",
      "    ]\n",
      "  },\n",
      "  {\n",
      "    \"question\": \"вопрос2\",\n",
      "    \"answers\": [\n",
      "      {\n",
      "        \"answer\": \"ответ1\"\n",
      "      },\n",
      "      {\n",
      "        \"answer\": \"ответ2\"\n",
      "      },\n",
      "      {\n",
      "        \"answer\": \"ответ3\"\n",
      "      },\n",
      "      {\n",
      "        \"answer\": \"ответ4\"\n",
      "      }\n",
      "    ]\n",
      "  }\n",
      "]\n",
      "Вариант твоего ответа:\n",
      "[\n",
      "  {\n",
      "    \"question\": \"вопрос1\",\n",
      "    \"answers\": [\n",
      "      {\n",
      "        \"answer\": \"ответ1\",\n",
      "        \"is_correct\": 0\n",
      "      },\n",
      "      {\n",
      "        \"answer\": \"ответ2\",\n",
      "        \"is_correct\": 0\n",
      "      },\n",
      "      {\n",
      "        \"answer\": \"ответ3\",\n",
      "        \"is_correct\": 0\n",
      "      },\n",
      "      {\n",
      "        \"answer\": \"ответ4\",\n",
      "        \"is_correct\": 1\n",
      "      }\n",
      "    ]\n",
      "  },\n",
      "  {\n",
      "    \"question\": \"вопрос2\",\n",
      "    \"answers\": [\n",
      "      {\n",
      "        \"answer\": \"ответ1\",\n",
      "        \"is_correct\": 0\n",
      "      },\n",
      "      {\n",
      "        \"answer\": \"ответ2\",\n",
      "        \"is_correct\": 1\n",
      "      },\n",
      "      {\n",
      "        \"answer\": \"ответ3\",\n",
      "        \"is_correct\": 0\n",
      "      },\n",
      "      {\n",
      "        \"answer\": \"ответ4\",\n",
      "        \"is_correct\": 0\n",
      "      }\n",
      "    ]\n",
      "  }\n",
      "]\n",
      "Посмотри на json который я тебе дал. Он содержит вопрос с четырьмя вариантами ответа на него. Твоя задача модифицировать этот json так, чтобы рядом с каждым вариантом ответа появилось поле 'is_correct' которое равно либо 1, либо 0 (соответственно правильный ответ или нет). В качестве ответа отправь мне только этот json и ничего больше. Твой ответ должен обрабатываться без ошибок если я вызову на нем json.loads(output) из python3, где output — твой ответ. Отмечу, что на каждый вопрос из четырех вариантов ответа правильным является ровно один.\n",
      "Вот сам json, который то должен модифицировать:\n",
      "[\n",
      "  {\n",
      "    \"question\": \"К какому литературному направлению относится роман Гончарова «Обломов»?\",\n",
      "    \"answers\": [\n",
      "      {\n",
      "        \"answer\": \"Романтизм;\"\n",
      "      },\n",
      "      {\n",
      "        \"answer\": \"Реализм;\"\n",
      "      },\n",
      "      {\n",
      "        \"answer\": \"Классицизм;\"\n",
      "      },\n",
      "      {\n",
      "        \"answer\": \"Сентиментализм.\"\n",
      "      }\n",
      "    ]\n",
      "  },\n",
      "  {\n",
      "    \"question\": \"Какую центральную проблему автор раскрывает в произведении «Обломов»?\",\n",
      "    \"answers\": [\n",
      "      {\n",
      "        \"answer\": \"Проблему российского общества -  «обломовщину», приводящую к постепенному угасанию личности;\"\n",
      "      },\n",
      "      {\n",
      "        \"answer\": \"Проблему чести и долга перед другими людьми;\"\n",
      "      },\n",
      "      {\n",
      "        \"answer\": \"Проблему достижения человеком высокого социального положения и богатства;\"\n",
      "      },\n",
      "      {\n",
      "        \"answer\": \"Проблему самостоятельного развития и образования личности.\"\n",
      "      }\n",
      "    ]\n",
      "  },\n",
      "  {\n",
      "    \"question\": \"Кем Штольц приходится Обломову?\",\n",
      "    \"answers\": [\n",
      "      {\n",
      "        \"answer\": \"Двоюродным братом;\"\n",
      "      },\n",
      "      {\n",
      "        \"answer\": \"Сослуживцем, с которым Илья Ильич сдружился за время службы;\"\n",
      "      },\n",
      "      {\n",
      "        \"answer\": \"Школьным другом детства;\"\n",
      "      },\n",
      "      {\n",
      "        \"answer\": \"Дядей по матери.\"\n",
      "      }\n",
      "    ]\n",
      "  },\n",
      "  {\n",
      "    \"question\": \"Кем Захар приходится Обломову?\",\n",
      "    \"answers\": [\n",
      "      {\n",
      "        \"answer\": \"Верным слугой, прислуживающим Обломову с малых лет;\"\n",
      "      },\n",
      "      {\n",
      "        \"answer\": \"Хорошим другом, с которым они арендуют жилье;\"\n",
      "      },\n",
      "      {\n",
      "        \"answer\": \"Дальним бедным родственником;\"\n",
      "      },\n",
      "      {\n",
      "        \"answer\": \"Врачом, который живет с Обломовым постоянно, так как у мужчины слабое здоровье.\"\n",
      "      }\n",
      "    ]\n",
      "  },\n",
      "  {\n",
      "    \"question\": \"Почему Обломов лишился должности коллежского секретаря?\",\n",
      "    \"answers\": [\n",
      "      {\n",
      "        \"answer\": \"Не узнал внезапно нагрянувшее начальство из Москвы и нагрубил им.\"\n",
      "      },\n",
      "      {\n",
      "        \"answer\": \"Не туда отправил важную бумагу, а так как служба его тяготила, решил уйти сам, не ожидая наказания;\"\n",
      "      },\n",
      "      {\n",
      "        \"answer\": \"Обломов женился и не мог много времени уделять службе;\"\n",
      "      },\n",
      "      {\n",
      "        \"answer\": \"Илья Ильич уволился и стал партнером Штольца.\"\n",
      "      }\n",
      "    ]\n",
      "  },\n",
      "  {\n",
      "    \"question\": \"Какие книги больше всего любил Обломов?\",\n",
      "    \"answers\": [\n",
      "      {\n",
      "        \"answer\": \"Научные труды;\"\n",
      "      },\n",
      "      {\n",
      "        \"answer\": \"Исторические романы;\"\n",
      "      },\n",
      "      {\n",
      "        \"answer\": \"Поэзию;\"\n",
      "      },\n",
      "      {\n",
      "        \"answer\": \"Любовные романы.\"\n",
      "      }\n",
      "    ]\n",
      "  },\n",
      "  {\n",
      "    \"question\": \"О чем все время мечтал Обломов?\",\n",
      "    \"answers\": [\n",
      "      {\n",
      "        \"answer\": \"О том, как в Обломовке все уладится, станет как прежде, и он будет отдыхать там с друзьями и женой;\"\n",
      "      },\n",
      "      {\n",
      "        \"answer\": \"О том, как уедет в Париж и откроет там собственную компанию;\"\n",
      "      },\n",
      "      {\n",
      "        \"answer\": \"О том, что сделает важное научное открытие;\"\n",
      "      },\n",
      "      {\n",
      "        \"answer\": \"Обломов не был мечтательным человеком.\"\n",
      "      }\n",
      "    ]\n",
      "  },\n",
      "  {\n",
      "    \"question\": \"От кого Штольц перенял свой практичный подход к жизни, целенаправленность и умение трудиться?\",\n",
      "    \"answers\": [\n",
      "      {\n",
      "        \"answer\": \"От дворянки матери;\"\n",
      "      },\n",
      "      {\n",
      "        \"answer\": \"От немца отца;\"\n",
      "      },\n",
      "      {\n",
      "        \"answer\": \"От близкого окружения: еще в детстве он общался с детьми рабочих;\"\n",
      "      },\n",
      "      {\n",
      "        \"answer\": \"От своего деда.\"\n",
      "      }\n",
      "    ]\n",
      "  },\n",
      "  {\n",
      "    \"question\": \"Почему Штольц все время пытается увезти Обломова из дома, заставить его переехать?\",\n",
      "    \"answers\": [\n",
      "      {\n",
      "        \"answer\": \"Андрей Иванович нашел новое жилье для Обломова и нужно срочно туда заселиться;\"\n",
      "      },\n",
      "      {\n",
      "        \"answer\": \"Родные Обломова попросили Штольца привезти Илью Ильича к себе;\"\n",
      "      },\n",
      "      {\n",
      "        \"answer\": \"Андрею Ивановичу не нравится, что Обломов погряз в лени, «обломовщине», перестал развиваться;\"\n",
      "      },\n",
      "      {\n",
      "        \"answer\": \"Штольц ведет активную светскую жизнь и ему нужен компаньон для выхода в свет.\"\n",
      "      }\n",
      "    ]\n",
      "  },\n",
      "  {\n",
      "    \"question\": \"О чем был сон Обломова?\",\n",
      "    \"answers\": [\n",
      "      {\n",
      "        \"answer\": \"Во сне Илья Ильич видел своё счастливое и спокойное детство в Обломовке;\"\n",
      "      },\n",
      "      {\n",
      "        \"answer\": \"Ему снились его сослуживцы и время службы коллежским секретарем;\"\n",
      "      },\n",
      "      {\n",
      "        \"answer\": \"Он видел пророческий сон, что скоро встретит Ольгу;\"\n",
      "      },\n",
      "      {\n",
      "        \"answer\": \"Обломову приснился фантастический мир, где он оказался на другой планете.\"\n",
      "      }\n",
      "    ]\n",
      "  },\n",
      "  {\n",
      "    \"question\": \"Как Ольга и Обломов познакомились?\",\n",
      "    \"answers\": [\n",
      "      {\n",
      "        \"answer\": \"В гостях у Тарантьева;\"\n",
      "      },\n",
      "      {\n",
      "        \"answer\": \"Обломов случайно встретил девушку в парке;\"\n",
      "      },\n",
      "      {\n",
      "        \"answer\": \"Ольга переехала в соседний дом и стала соседкой Обломова;\"\n",
      "      },\n",
      "      {\n",
      "        \"answer\": \"Их познакомил Штольц.\"\n",
      "      }\n",
      "    ]\n",
      "  },\n",
      "  {\n",
      "    \"question\": \"Почему Обломов решил написать Ольге письмо о необходимости расставания?\",\n",
      "    \"answers\": [\n",
      "      {\n",
      "        \"answer\": \"Обломов считал невозможным их союз по причине несовместимости друг с другом\"\n",
      "      },\n",
      "      {\n",
      "        \"answer\": \"Обломов полюбил другую женщину;\"\n",
      "      },\n",
      "      {\n",
      "        \"answer\": \"Тетя Ольги узнала об их отношениях и строго запретила им встречаться;\"\n",
      "      },\n",
      "      {\n",
      "        \"answer\": \"Обломов собрался уехать к Штольцу за границу, решив перед этим разорвать все связи в России.\"\n",
      "      }\n",
      "    ]\n",
      "  },\n",
      "  {\n",
      "    \"question\": \"В чем заключалось мошенничество Тарантьева и Ивана Матвеевича?\",\n",
      "    \"answers\": [\n",
      "      {\n",
      "        \"answer\": \"Они подставили Обломова, поэтому он лишился работы;\"\n",
      "      },\n",
      "      {\n",
      "        \"answer\": \"Они продали Обломовку без ведома Ильи Ильича;\"\n",
      "      },\n",
      "      {\n",
      "        \"answer\": \"Мужчины привели его в игорный дом, где Обломов лишился всех денег;\"\n",
      "      },\n",
      "      {\n",
      "        \"answer\": \"Они предложили Обломову в качестве нового управляющего Обломовкой своего знакомого, чтобы забирать себе часть прибыли.\"\n",
      "      }\n",
      "    ]\n",
      "  },\n",
      "  {\n",
      "    \"question\": \"Какова одна из основных причин расставания Ольги и Обломова?\",\n",
      "    \"answers\": [\n",
      "      {\n",
      "        \"answer\": \"Обломов уходит к другой женщине;\"\n",
      "      },\n",
      "      {\n",
      "        \"answer\": \"Родственники запретили Ольге общаться с Обломовым;\"\n",
      "      },\n",
      "      {\n",
      "        \"answer\": \"Обломов не был готов к серьезным решениям в своей жизни;\"\n",
      "      },\n",
      "      {\n",
      "        \"answer\": \"Тетя увозит Ольгу в Париж.\"\n",
      "      }\n",
      "    ]\n",
      "  },\n",
      "  {\n",
      "    \"question\": \"Кто для Обломова стал новой семьей, обителью «обломовского» счастья?\",\n",
      "    \"answers\": [\n",
      "      {\n",
      "        \"answer\": \"Семья Тарантьева, к которым он переехал;\"\n",
      "      },\n",
      "      {\n",
      "        \"answer\": \"Хозяйка квартиры Агафья Матвеевна и ее дети;\"\n",
      "      },\n",
      "      {\n",
      "        \"answer\": \"Штольц и его семья, к которым он переехал в старости;\"\n",
      "      },\n",
      "      {\n",
      "        \"answer\": \"Обломов вернулся в Обломовку и там наконец нашел спокойствие.\"\n",
      "      }\n",
      "    ]\n",
      "  },\n",
      "  {\n",
      "    \"question\": \"За кого Ольга в итоге вышла замуж?\",\n",
      "    \"answers\": [\n",
      "      {\n",
      "        \"answer\": \"За барона, друга ее тети;\"\n",
      "      },\n",
      "      {\n",
      "        \"answer\": \"За Штольца, с которым они стали близки за границей;\"\n",
      "      },\n",
      "      {\n",
      "        \"answer\": \"За Обломова – через несколько лет они вновь встретились;\"\n",
      "      },\n",
      "      {\n",
      "        \"answer\": \"Девушка осталась незамужней, так как до конца жизни не могла забыть Обломова.\"\n",
      "      }\n",
      "    ]\n",
      "  },\n",
      "  {\n",
      "    \"question\": \"В честь кого Обломов назвал своего сына от Агафьи Матвеевны?\",\n",
      "    \"answers\": [\n",
      "      {\n",
      "        \"answer\": \"В честь Штольца;\"\n",
      "      },\n",
      "      {\n",
      "        \"answer\": \"В честь Тарантьева;\"\n",
      "      },\n",
      "      {\n",
      "        \"answer\": \"В честь брата жены;\"\n",
      "      },\n",
      "      {\n",
      "        \"answer\": \"В честь своего отца.\"\n",
      "      }\n",
      "    ]\n",
      "  },\n",
      "  {\n",
      "    \"question\": \"От чего умер Обломов?\",\n",
      "    \"answers\": [\n",
      "      {\n",
      "        \"answer\": \"С ним случился несчастный случай;\"\n",
      "      },\n",
      "      {\n",
      "        \"answer\": \"От второго апоплексического удара;\"\n",
      "      },\n",
      "      {\n",
      "        \"answer\": \"От старости, прожив долгую жизнь;\"\n",
      "      },\n",
      "      {\n",
      "        \"answer\": \"От рака, долго мучаясь.\"\n",
      "      }\n",
      "    ]\n",
      "  },\n",
      "  {\n",
      "    \"question\": \"В чем автор видит причины «обломовщины»?\",\n",
      "    \"answers\": [\n",
      "      {\n",
      "        \"answer\": \"В деградации и застое чистой, нерасчетливой, нежной, но ленивой души героя;\"\n",
      "      },\n",
      "      {\n",
      "        \"answer\": \"В окружении героя, которое не давало ему развиваться;\"\n",
      "      },\n",
      "      {\n",
      "        \"answer\": \"В недостаточно хорошем образовании героя;\"\n",
      "      },\n",
      "      {\n",
      "        \"answer\": \"В отсутствии достойных стимулов к развитию.\"\n",
      "      }\n",
      "    ]\n",
      "  }\n",
      "]\n"
     ]
    }
   ],
   "source": [
    "prompt = build_json_promp_full_quiz(quiz)\n",
    "print(prompt)"
   ]
  },
  {
   "cell_type": "code",
   "execution_count": 83,
   "metadata": {},
   "outputs": [
    {
     "data": {
      "text/plain": [
       "''"
      ]
     },
     "execution_count": 83,
     "metadata": {},
     "output_type": "execute_result"
    }
   ],
   "source": [
    "get_model_response(\"gemma:7b\", prompt)"
   ]
  },
  {
   "cell_type": "markdown",
   "metadata": {},
   "source": [
    "### Learn to make requests to ollama"
   ]
  },
  {
   "cell_type": "code",
   "execution_count": 1,
   "metadata": {},
   "outputs": [
    {
     "name": "stdout",
     "output_type": "stream",
     "text": [
      "NAME                    \tID          \tSIZE  \tMODIFIED   \n",
      "dolphin-phi:latest      \tc5761fc77240\t1.6 GB\t4 days ago\t\n",
      "gemma:2b                \tb50d6c999e59\t1.7 GB\t4 days ago\t\n",
      "gemma:7b                \ta72c7f4d0a15\t5.0 GB\t4 days ago\t\n",
      "llama2:13b              \td475bf4c50bc\t7.4 GB\t4 days ago\t\n",
      "llama2:70b              \te7f6c06ffef4\t38 GB \t3 days ago\t\n",
      "llama2:latest           \t78e26419b446\t3.8 GB\t4 days ago\t\n",
      "llama2-uncensored:latest\t44040b922233\t3.8 GB\t4 days ago\t\n",
      "llama3:70b              \tbcfb190ca3a7\t39 GB \t3 days ago\t\n",
      "llama3:latest           \t71a106a91016\t4.7 GB\t4 days ago\t\n",
      "llava:latest            \t8dd30f6b0cb1\t4.7 GB\t4 days ago\t\n",
      "mistral:latest          \t61e88e884507\t4.1 GB\t4 days ago\t\n",
      "neural-chat:latest      \t89fa737d3b85\t4.1 GB\t4 days ago\t\n",
      "orca-mini:latest        \t2dbd9f439647\t2.0 GB\t4 days ago\t\n",
      "phi:latest              \te2fd6321a5fe\t1.6 GB\t4 days ago\t\n",
      "solar:latest            \t059fdabbe6e6\t6.1 GB\t4 days ago\t\n",
      "starling-lm:latest      \t39153f619be6\t4.1 GB\t4 days ago\t\n"
     ]
    }
   ],
   "source": [
    "! ollama list"
   ]
  },
  {
   "cell_type": "code",
   "execution_count": 82,
   "metadata": {},
   "outputs": [],
   "source": [
    "def get_model_response(model, prompt):\n",
    "    headers = {\n",
    "        'Content-Type': 'application/json',\n",
    "    }\n",
    "    json_data = {\n",
    "        'model': model,\n",
    "        'prompt': prompt,\n",
    "        'stream': False,\n",
    "        \"options\": {\n",
    "            \"seed\": 123,\n",
    "            \"temperature\": 0\n",
    "        }\n",
    "    }\n",
    "\n",
    "    response = requests.post('http://localhost:11434/api/generate', headers=headers, json=json_data)\n",
    "    payload = json.loads(response.content)\n",
    "    return payload[\"response\"]"
   ]
  },
  {
   "cell_type": "code",
   "execution_count": 48,
   "metadata": {},
   "outputs": [
    {
     "data": {
      "text/plain": [
       "\"Hi! How's it going?\""
      ]
     },
     "execution_count": 48,
     "metadata": {},
     "output_type": "execute_result"
    }
   ],
   "source": [
    "get_model_response(\"llama3\", \"say hi\")"
   ]
  },
  {
   "cell_type": "markdown",
   "metadata": {},
   "source": [
    "### Pass quiz in json format with different models"
   ]
  },
  {
   "cell_type": "code",
   "execution_count": 78,
   "metadata": {},
   "outputs": [],
   "source": [
    "def eval_model_on_quiz(model, quiz, summary=None):\n",
    "    num_ok = 0\n",
    "    num_all = len(quiz)\n",
    "    prompt = build_json_promp_full_quiz(quiz)\n",
    "    response = get_model_response(model, prompt)\n",
    "    try:\n",
    "        answer = json.loads(response)\n",
    "    except Exception:\n",
    "        print(response)\n",
    "        print(f\"{model} gave answer not in json format\")\n",
    "    try:\n",
    "        for part_quiz, part_answer in zip(quiz, answer):\n",
    "            fail_current = 0\n",
    "            for i, x in enumerate(part_quiz[\"answers\"]):\n",
    "                if x[\"is_correct\"] != part_answer[i].get(\"is_correct\", -1):\n",
    "                    fail_current = 1\n",
    "                    break\n",
    "            if fail_current:\n",
    "                continue\n",
    "            num_ok += 1\n",
    "    except Exception:\n",
    "        pass\n",
    "            \n",
    "    print(f\"result is {num_ok} out of {num_all}. {num_ok / num_all * 100:.2f}%\")\n",
    "    return num_ok, num_all"
   ]
  },
  {
   "cell_type": "code",
   "execution_count": 79,
   "metadata": {},
   "outputs": [
    {
     "name": "stdout",
     "output_type": "stream",
     "text": [
      "\n",
      "gemma:7b gave answer not in json format\n",
      "result is 0 out of 19. 0.00%\n"
     ]
    },
    {
     "data": {
      "text/plain": [
       "(0, 19)"
      ]
     },
     "execution_count": 79,
     "metadata": {},
     "output_type": "execute_result"
    }
   ],
   "source": [
    "eval_model_on_quiz(\"gemma:7b\", quiz)"
   ]
  },
  {
   "cell_type": "markdown",
   "metadata": {},
   "source": [
    "### Try to pass quiz with a model"
   ]
  },
  {
   "cell_type": "code",
   "execution_count": 16,
   "metadata": {},
   "outputs": [
    {
     "name": "stdout",
     "output_type": "stream",
     "text": [
      "Выбери один верный вариант из предложенных. В качестве ответа напиши только номер, без дополнительного текста. Например: '1', '2', '3', '4'.\n",
      "Вопрос: В чем автор видит причины «обломовщины»?\n",
      "Варианты ответа:\n",
      "1. В деградации и застое чистой, нерасчетливой, нежной, но ленивой души героя;\n",
      "2. В окружении героя, которое не давало ему развиваться;\n",
      "3. В недостаточно хорошем образовании героя;\n",
      "4. В отсутствии достойных стимулов к развитию.\n",
      "\n"
     ]
    },
    {
     "data": {
      "text/plain": [
       "'1.'"
      ]
     },
     "execution_count": 16,
     "metadata": {},
     "output_type": "execute_result"
    }
   ],
   "source": [
    "prompt = build_prompt(part)\n",
    "print(prompt)\n",
    "get_model_response(model, prompt)"
   ]
  },
  {
   "cell_type": "code",
   "execution_count": 17,
   "metadata": {},
   "outputs": [
    {
     "data": {
      "text/plain": [
       "19"
      ]
     },
     "execution_count": 17,
     "metadata": {},
     "output_type": "execute_result"
    }
   ],
   "source": [
    "len(quiz)"
   ]
  },
  {
   "cell_type": "code",
   "execution_count": 56,
   "metadata": {},
   "outputs": [],
   "source": [
    "def eval_model_on_quiz(model, quiz, summary=None):\n",
    "    num_ok = 0\n",
    "    num_all = 0\n",
    "    for part in tqdm(quiz):\n",
    "        if summary:\n",
    "            prompt = build_prompt_with_summary(part, summary)\n",
    "        else:\n",
    "            prompt = build_prompt(part)\n",
    "        answer = get_model_response(model, prompt)\n",
    "        first_part = answer.split()[0]\n",
    "        if first_part.endswith(\".\"):\n",
    "            first_part = first_part[:-1]\n",
    "        ok_answer = -1\n",
    "        for i, x in enumerate(part[\"answers\"]):\n",
    "            if x[\"is_correct\"] == 1:\n",
    "                ok_answer = i + 1\n",
    "        try:\n",
    "            first_part = int(first_part)\n",
    "        except Exception:\n",
    "            print(f\"Cannot convert model first part answer to int: '{answer}'\")\n",
    "        if ok_answer == first_part:\n",
    "            num_ok += 1\n",
    "        num_all += 1\n",
    "    print(f\"result is {num_ok} out of {num_all}. {num_ok / num_all * 100:.2f}%\")\n",
    "    return num_ok, num_all"
   ]
  },
  {
   "cell_type": "code",
   "execution_count": 59,
   "metadata": {},
   "outputs": [
    {
     "name": "stderr",
     "output_type": "stream",
     "text": [
      "100%|██████████| 16/16 [00:13<00:00,  1.18it/s]\n"
     ]
    },
    {
     "name": "stdout",
     "output_type": "stream",
     "text": [
      "result is 4 out of 16. 25.00%\n"
     ]
    },
    {
     "name": "stderr",
     "output_type": "stream",
     "text": [
      " 30%|███       | 3/10 [00:10<00:21,  3.12s/it]"
     ]
    },
    {
     "name": "stdout",
     "output_type": "stream",
     "text": [
      "Cannot convert model first part answer to int: 'Выбери один верный вариант из предложенных. В качестве ответа напиши только номер, без дополнительного текста. Например: '1', '2', '3', '4'.\n",
      "\n",
      "Варианты ответа:\n",
      "\n",
      "1. 1'\n"
     ]
    },
    {
     "name": "stderr",
     "output_type": "stream",
     "text": [
      " 50%|█████     | 5/10 [00:11<00:07,  1.59s/it]"
     ]
    },
    {
     "name": "stdout",
     "output_type": "stream",
     "text": [
      "Cannot convert model first part answer to int: 'The answer is:\n",
      "\n",
      "3. Дмитриy'\n"
     ]
    },
    {
     "name": "stderr",
     "output_type": "stream",
     "text": [
      " 60%|██████    | 6/10 [00:12<00:05,  1.34s/it]"
     ]
    },
    {
     "name": "stdout",
     "output_type": "stream",
     "text": [
      "Cannot convert model first part answer to int: 'The answer is:\n",
      "\n",
      "4. Алексий'\n"
     ]
    },
    {
     "name": "stderr",
     "output_type": "stream",
     "text": [
      " 70%|███████   | 7/10 [00:13<00:03,  1.19s/it]"
     ]
    },
    {
     "name": "stdout",
     "output_type": "stream",
     "text": [
      "Cannot convert model first part answer to int: 'The answer is:\n",
      "\n",
      "4. Грушенька'\n"
     ]
    },
    {
     "name": "stderr",
     "output_type": "stream",
     "text": [
      "100%|██████████| 10/10 [00:15<00:00,  1.52s/it]\n"
     ]
    },
    {
     "name": "stdout",
     "output_type": "stream",
     "text": [
      "result is 1 out of 10. 10.00%\n"
     ]
    },
    {
     "name": "stderr",
     "output_type": "stream",
     "text": [
      " 50%|█████     | 9/18 [00:10<00:07,  1.21it/s]"
     ]
    },
    {
     "name": "stdout",
     "output_type": "stream",
     "text": [
      "Cannot convert model first part answer to int: '4.Stepan Astahov'\n"
     ]
    },
    {
     "name": "stderr",
     "output_type": "stream",
     "text": [
      "100%|██████████| 18/18 [00:16<00:00,  1.09it/s]\n"
     ]
    },
    {
     "name": "stdout",
     "output_type": "stream",
     "text": [
      "result is 3 out of 18. 16.67%\n"
     ]
    },
    {
     "name": "stderr",
     "output_type": "stream",
     "text": [
      "100%|██████████| 19/19 [00:14<00:00,  1.28it/s]\n"
     ]
    },
    {
     "name": "stdout",
     "output_type": "stream",
     "text": [
      "result is 2 out of 19. 10.53%\n"
     ]
    },
    {
     "name": "stderr",
     "output_type": "stream",
     "text": [
      "100%|██████████| 10/10 [00:10<00:00,  1.07s/it]\n"
     ]
    },
    {
     "name": "stdout",
     "output_type": "stream",
     "text": [
      "result is 2 out of 10. 20.00%\n"
     ]
    },
    {
     "name": "stderr",
     "output_type": "stream",
     "text": [
      " 54%|█████▍    | 7/13 [00:09<00:05,  1.08it/s]"
     ]
    },
    {
     "name": "stdout",
     "output_type": "stream",
     "text": [
      "Cannot convert model first part answer to int: 'Вариант ответа: 2. Он начал писать стихи'\n"
     ]
    },
    {
     "name": "stderr",
     "output_type": "stream",
     "text": [
      "100%|██████████| 13/13 [00:12<00:00,  1.07it/s]\n"
     ]
    },
    {
     "name": "stdout",
     "output_type": "stream",
     "text": [
      "Cannot convert model first part answer to int: '1.EVGRAPH ZHIVAGO'\n",
      "result is 2 out of 13. 15.38%\n"
     ]
    },
    {
     "name": "stderr",
     "output_type": "stream",
     "text": [
      "  3%|▎         | 2/70 [00:06<03:30,  3.09s/it]"
     ]
    },
    {
     "name": "stdout",
     "output_type": "stream",
     "text": [
      "Cannot convert model first part answer to int: 'Выбери один верный вариант из предложенных:\n",
      "'1'.'\n"
     ]
    },
    {
     "name": "stderr",
     "output_type": "stream",
     "text": [
      "  4%|▍         | 3/70 [00:08<02:53,  2.60s/it]"
     ]
    },
    {
     "name": "stdout",
     "output_type": "stream",
     "text": [
      "Cannot convert model first part answer to int: 'Выбери один верный вариант из предложенных:\n",
      "\n",
      "1. '2', 'вошедшего в гостиную Анны Павловны Шерер'.'\n"
     ]
    },
    {
     "name": "stderr",
     "output_type": "stream",
     "text": [
      " 13%|█▎        | 9/70 [00:15<01:42,  1.69s/it]"
     ]
    },
    {
     "name": "stdout",
     "output_type": "stream",
     "text": [
      "Cannot convert model first part answer to int: 'Выбери один верный вариант из предложенных. В качестве ответа напиши только номер, без дополнительного текста. Например: '1', '2', '3', '4'.\n",
      "\n",
      "В этом случае, наиболее подходящим ответом будет:\n",
      "\n",
      "1. с прелестным котенком'\n"
     ]
    },
    {
     "name": "stderr",
     "output_type": "stream",
     "text": [
      " 19%|█▊        | 13/70 [00:19<01:08,  1.20s/it]"
     ]
    },
    {
     "name": "stdout",
     "output_type": "stream",
     "text": [
      "Cannot convert model first part answer to int: 'Выбери один верный вариант из предложенных:\n",
      "\n",
      "1. главнокомандующий Кутузов'\n"
     ]
    },
    {
     "name": "stderr",
     "output_type": "stream",
     "text": [
      " 20%|██        | 14/70 [00:22<01:36,  1.73s/it]"
     ]
    },
    {
     "name": "stdout",
     "output_type": "stream",
     "text": [
      "Cannot convert model first part answer to int: 'Выбери один верный вариант из предложенных. В качестве ответа напиши только номер, без дополнительного текста. Например: '1', '2', '3', '4'.\n",
      "\n",
      "Ваш выбор:\n",
      "\n",
      "1. картавость'\n"
     ]
    },
    {
     "name": "stderr",
     "output_type": "stream",
     "text": [
      " 29%|██▊       | 20/70 [00:26<00:45,  1.09it/s]"
     ]
    },
    {
     "name": "stdout",
     "output_type": "stream",
     "text": [
      "Cannot convert model first part answer to int: 'The answer is:\n",
      "\n",
      "1. ИLYA ANDREYEVICH ROSTOV'\n"
     ]
    },
    {
     "name": "stderr",
     "output_type": "stream",
     "text": [
      " 70%|███████   | 49/70 [00:50<00:20,  1.04it/s]"
     ]
    },
    {
     "name": "stdout",
     "output_type": "stream",
     "text": [
      "Cannot convert model first part answer to int: '4.спокойное равнодушие'\n"
     ]
    },
    {
     "name": "stderr",
     "output_type": "stream",
     "text": [
      " 97%|█████████▋| 68/70 [01:09<00:02,  1.48s/it]"
     ]
    },
    {
     "name": "stdout",
     "output_type": "stream",
     "text": [
      "Cannot convert model first part answer to int: 'Выбери один верный вариант из предложенных. В качестве ответа напиши только номер, без дополнительного текста. Например: '1', '2', '3', '4'.\n",
      "\n",
      "В этом случае, наиболее подходящим ответом будет:\n",
      "\n",
      "1. '1''\n"
     ]
    },
    {
     "name": "stderr",
     "output_type": "stream",
     "text": [
      "100%|██████████| 70/70 [01:10<00:00,  1.01s/it]\n"
     ]
    },
    {
     "name": "stdout",
     "output_type": "stream",
     "text": [
      "result is 14 out of 70. 20.00%\n"
     ]
    },
    {
     "name": "stderr",
     "output_type": "stream",
     "text": [
      "100%|██████████| 16/16 [00:13<00:00,  1.23it/s]\n"
     ]
    },
    {
     "name": "stdout",
     "output_type": "stream",
     "text": [
      "result is 4 out of 16. 25.00%\n"
     ]
    },
    {
     "name": "stderr",
     "output_type": "stream",
     "text": [
      "100%|██████████| 19/19 [00:14<00:00,  1.32it/s]\n"
     ]
    },
    {
     "name": "stdout",
     "output_type": "stream",
     "text": [
      "result is 3 out of 19. 15.79%\n"
     ]
    },
    {
     "name": "stderr",
     "output_type": "stream",
     "text": [
      "100%|██████████| 10/10 [00:10<00:00,  1.05s/it]\n"
     ]
    },
    {
     "name": "stdout",
     "output_type": "stream",
     "text": [
      "result is 2 out of 10. 20.00%\n"
     ]
    },
    {
     "name": "stderr",
     "output_type": "stream",
     "text": [
      "100%|██████████| 10/10 [00:10<00:00,  1.05s/it]\n"
     ]
    },
    {
     "name": "stdout",
     "output_type": "stream",
     "text": [
      "result is 3 out of 10. 30.00%\n"
     ]
    },
    {
     "name": "stderr",
     "output_type": "stream",
     "text": [
      " 20%|██        | 6/30 [00:09<00:29,  1.25s/it]"
     ]
    },
    {
     "name": "stdout",
     "output_type": "stream",
     "text": [
      "Cannot convert model first part answer to int: 'Выбери один верный вариант из предложенных:\n",
      "\n",
      "4. Сергей Есенин'\n"
     ]
    },
    {
     "name": "stderr",
     "output_type": "stream",
     "text": [
      " 27%|██▋       | 8/30 [00:11<00:21,  1.04it/s]"
     ]
    },
    {
     "name": "stdout",
     "output_type": "stream",
     "text": [
      "Cannot convert model first part answer to int: '1.FEДОР ФЕДОРОВИЧ'\n"
     ]
    },
    {
     "name": "stderr",
     "output_type": "stream",
     "text": [
      " 43%|████▎     | 13/30 [00:15<00:16,  1.01it/s]"
     ]
    },
    {
     "name": "stdout",
     "output_type": "stream",
     "text": [
      "Cannot convert model first part answer to int: 'Выбери один верный вариант из предложенных:\n",
      "\n",
      "1. \"Почему она не шевелится?\"'\n"
     ]
    },
    {
     "name": "stderr",
     "output_type": "stream",
     "text": [
      "100%|██████████| 30/30 [00:27<00:00,  1.08it/s]\n"
     ]
    },
    {
     "name": "stdout",
     "output_type": "stream",
     "text": [
      "Cannot convert model first part answer to int: '1.十 дней'\n",
      "result is 6 out of 30. 20.00%\n"
     ]
    },
    {
     "name": "stderr",
     "output_type": "stream",
     "text": [
      "100%|██████████| 12/12 [00:13<00:00,  1.09s/it]\n"
     ]
    },
    {
     "name": "stdout",
     "output_type": "stream",
     "text": [
      "result is 3 out of 12. 25.00%\n"
     ]
    },
    {
     "name": "stderr",
     "output_type": "stream",
     "text": [
      "100%|██████████| 16/16 [00:15<00:00,  1.04it/s]\n"
     ]
    },
    {
     "name": "stdout",
     "output_type": "stream",
     "text": [
      "result is 3 out of 16. 18.75%\n"
     ]
    },
    {
     "name": "stderr",
     "output_type": "stream",
     "text": [
      "100%|██████████| 10/10 [00:11<00:00,  1.14s/it]\n"
     ]
    },
    {
     "name": "stdout",
     "output_type": "stream",
     "text": [
      "result is 2 out of 10. 20.00%\n"
     ]
    },
    {
     "name": "stderr",
     "output_type": "stream",
     "text": [
      "100%|██████████| 16/16 [00:52<00:00,  3.27s/it]\n"
     ]
    },
    {
     "name": "stdout",
     "output_type": "stream",
     "text": [
      "result is 8 out of 16. 50.00%\n"
     ]
    },
    {
     "name": "stderr",
     "output_type": "stream",
     "text": [
      "100%|██████████| 10/10 [00:12<00:00,  1.25s/it]\n"
     ]
    },
    {
     "name": "stdout",
     "output_type": "stream",
     "text": [
      "result is 7 out of 10. 70.00%\n"
     ]
    },
    {
     "name": "stderr",
     "output_type": "stream",
     "text": [
      "100%|██████████| 18/18 [00:13<00:00,  1.35it/s]\n"
     ]
    },
    {
     "name": "stdout",
     "output_type": "stream",
     "text": [
      "result is 11 out of 18. 61.11%\n"
     ]
    },
    {
     "name": "stderr",
     "output_type": "stream",
     "text": [
      "100%|██████████| 19/19 [00:14<00:00,  1.29it/s]\n"
     ]
    },
    {
     "name": "stdout",
     "output_type": "stream",
     "text": [
      "result is 14 out of 19. 73.68%\n"
     ]
    },
    {
     "name": "stderr",
     "output_type": "stream",
     "text": [
      "100%|██████████| 10/10 [00:09<00:00,  1.05it/s]\n"
     ]
    },
    {
     "name": "stdout",
     "output_type": "stream",
     "text": [
      "result is 1 out of 10. 10.00%\n"
     ]
    },
    {
     "name": "stderr",
     "output_type": "stream",
     "text": [
      "100%|██████████| 13/13 [00:10<00:00,  1.23it/s]\n"
     ]
    },
    {
     "name": "stdout",
     "output_type": "stream",
     "text": [
      "result is 7 out of 13. 53.85%\n"
     ]
    },
    {
     "name": "stderr",
     "output_type": "stream",
     "text": [
      "100%|██████████| 70/70 [00:49<00:00,  1.42it/s]\n"
     ]
    },
    {
     "name": "stdout",
     "output_type": "stream",
     "text": [
      "result is 34 out of 70. 48.57%\n"
     ]
    },
    {
     "name": "stderr",
     "output_type": "stream",
     "text": [
      "100%|██████████| 16/16 [00:11<00:00,  1.34it/s]\n"
     ]
    },
    {
     "name": "stdout",
     "output_type": "stream",
     "text": [
      "result is 10 out of 16. 62.50%\n"
     ]
    },
    {
     "name": "stderr",
     "output_type": "stream",
     "text": [
      "100%|██████████| 19/19 [00:16<00:00,  1.12it/s]\n"
     ]
    },
    {
     "name": "stdout",
     "output_type": "stream",
     "text": [
      "result is 10 out of 19. 52.63%\n"
     ]
    },
    {
     "name": "stderr",
     "output_type": "stream",
     "text": [
      "100%|██████████| 10/10 [00:09<00:00,  1.07it/s]\n"
     ]
    },
    {
     "name": "stdout",
     "output_type": "stream",
     "text": [
      "result is 6 out of 10. 60.00%\n"
     ]
    },
    {
     "name": "stderr",
     "output_type": "stream",
     "text": [
      "100%|██████████| 10/10 [00:09<00:00,  1.06it/s]\n"
     ]
    },
    {
     "name": "stdout",
     "output_type": "stream",
     "text": [
      "result is 6 out of 10. 60.00%\n"
     ]
    },
    {
     "name": "stderr",
     "output_type": "stream",
     "text": [
      "100%|██████████| 30/30 [00:22<00:00,  1.36it/s]\n"
     ]
    },
    {
     "name": "stdout",
     "output_type": "stream",
     "text": [
      "result is 11 out of 30. 36.67%\n"
     ]
    },
    {
     "name": "stderr",
     "output_type": "stream",
     "text": [
      "100%|██████████| 12/12 [00:11<00:00,  1.03it/s]\n"
     ]
    },
    {
     "name": "stdout",
     "output_type": "stream",
     "text": [
      "result is 6 out of 12. 50.00%\n"
     ]
    },
    {
     "name": "stderr",
     "output_type": "stream",
     "text": [
      "100%|██████████| 16/16 [00:10<00:00,  1.47it/s]\n"
     ]
    },
    {
     "name": "stdout",
     "output_type": "stream",
     "text": [
      "result is 10 out of 16. 62.50%\n"
     ]
    },
    {
     "name": "stderr",
     "output_type": "stream",
     "text": [
      "100%|██████████| 10/10 [00:08<00:00,  1.14it/s]"
     ]
    },
    {
     "name": "stdout",
     "output_type": "stream",
     "text": [
      "result is 5 out of 10. 50.00%\n"
     ]
    },
    {
     "name": "stderr",
     "output_type": "stream",
     "text": [
      "\n"
     ]
    }
   ],
   "source": [
    "models = [\"llama2\", \"llama3\"]\n",
    "rows = []\n",
    "for model in models:\n",
    "    tests_dir = Path(\"../../metrics/knowledge_tests/obrazovaka/\")\n",
    "    for test_path in tests_dir.glob(\"*.json\"):\n",
    "        with open(test_path, \"r\") as f:\n",
    "            quiz = json.load(f)\n",
    "        with open(f\"../../downloaded_books/briefly_summaries/very_short/{test_path.stem}.txt\", \"r\") as f:\n",
    "            summary = f.read()\n",
    "        num_ok, num_all = eval_model_on_quiz(model, quiz, summary=summary)\n",
    "        rows.append({\n",
    "            \"model\": model,\n",
    "            \"test_path\": test_path,\n",
    "            \"num_ok\": num_ok,\n",
    "            \"num_all\": num_all,\n",
    "            \"percent\": float(f\"{(num_ok / num_all * 100):.2f}\"),\n",
    "        })"
   ]
  },
  {
   "cell_type": "code",
   "execution_count": 43,
   "metadata": {},
   "outputs": [],
   "source": [
    "# for row in rows:\n",
    "    # row[\"percent\"] = float(f'{(row[\"num_ok\"] / row[\"num_all\"] * 100):.2f}')"
   ]
  },
  {
   "cell_type": "code",
   "execution_count": 60,
   "metadata": {},
   "outputs": [
    {
     "data": {
      "text/html": [
       "<div>\n",
       "<style scoped>\n",
       "    .dataframe tbody tr th:only-of-type {\n",
       "        vertical-align: middle;\n",
       "    }\n",
       "\n",
       "    .dataframe tbody tr th {\n",
       "        vertical-align: top;\n",
       "    }\n",
       "\n",
       "    .dataframe thead th {\n",
       "        text-align: right;\n",
       "    }\n",
       "</style>\n",
       "<table border=\"1\" class=\"dataframe\">\n",
       "  <thead>\n",
       "    <tr style=\"text-align: right;\">\n",
       "      <th></th>\n",
       "      <th>model</th>\n",
       "      <th>test_path</th>\n",
       "      <th>num_ok</th>\n",
       "      <th>num_all</th>\n",
       "      <th>percent</th>\n",
       "    </tr>\n",
       "  </thead>\n",
       "  <tbody>\n",
       "    <tr>\n",
       "      <th>0</th>\n",
       "      <td>llama2</td>\n",
       "      <td>../../metrics/knowledge_tests/obrazovaka/the_d...</td>\n",
       "      <td>4</td>\n",
       "      <td>16</td>\n",
       "      <td>25.00</td>\n",
       "    </tr>\n",
       "    <tr>\n",
       "      <th>1</th>\n",
       "      <td>llama2</td>\n",
       "      <td>../../metrics/knowledge_tests/obrazovaka/the_b...</td>\n",
       "      <td>1</td>\n",
       "      <td>10</td>\n",
       "      <td>10.00</td>\n",
       "    </tr>\n",
       "    <tr>\n",
       "      <th>2</th>\n",
       "      <td>llama2</td>\n",
       "      <td>../../metrics/knowledge_tests/obrazovaka/and_q...</td>\n",
       "      <td>3</td>\n",
       "      <td>18</td>\n",
       "      <td>16.67</td>\n",
       "    </tr>\n",
       "    <tr>\n",
       "      <th>3</th>\n",
       "      <td>llama2</td>\n",
       "      <td>../../metrics/knowledge_tests/obrazovaka/oblom...</td>\n",
       "      <td>2</td>\n",
       "      <td>19</td>\n",
       "      <td>10.53</td>\n",
       "    </tr>\n",
       "    <tr>\n",
       "      <th>4</th>\n",
       "      <td>llama2</td>\n",
       "      <td>../../metrics/knowledge_tests/obrazovaka/eveni...</td>\n",
       "      <td>2</td>\n",
       "      <td>10</td>\n",
       "      <td>20.00</td>\n",
       "    </tr>\n",
       "    <tr>\n",
       "      <th>5</th>\n",
       "      <td>llama2</td>\n",
       "      <td>../../metrics/knowledge_tests/obrazovaka/docto...</td>\n",
       "      <td>2</td>\n",
       "      <td>13</td>\n",
       "      <td>15.38</td>\n",
       "    </tr>\n",
       "    <tr>\n",
       "      <th>6</th>\n",
       "      <td>llama2</td>\n",
       "      <td>../../metrics/knowledge_tests/obrazovaka/war_a...</td>\n",
       "      <td>14</td>\n",
       "      <td>70</td>\n",
       "      <td>20.00</td>\n",
       "    </tr>\n",
       "    <tr>\n",
       "      <th>7</th>\n",
       "      <td>llama2</td>\n",
       "      <td>../../metrics/knowledge_tests/obrazovaka/the_m...</td>\n",
       "      <td>4</td>\n",
       "      <td>16</td>\n",
       "      <td>25.00</td>\n",
       "    </tr>\n",
       "    <tr>\n",
       "      <th>8</th>\n",
       "      <td>llama2</td>\n",
       "      <td>../../metrics/knowledge_tests/obrazovaka/dead_...</td>\n",
       "      <td>3</td>\n",
       "      <td>19</td>\n",
       "      <td>15.79</td>\n",
       "    </tr>\n",
       "    <tr>\n",
       "      <th>9</th>\n",
       "      <td>llama2</td>\n",
       "      <td>../../metrics/knowledge_tests/obrazovaka/the_g...</td>\n",
       "      <td>2</td>\n",
       "      <td>10</td>\n",
       "      <td>20.00</td>\n",
       "    </tr>\n",
       "    <tr>\n",
       "      <th>10</th>\n",
       "      <td>llama2</td>\n",
       "      <td>../../metrics/knowledge_tests/obrazovaka/the_w...</td>\n",
       "      <td>3</td>\n",
       "      <td>10</td>\n",
       "      <td>30.00</td>\n",
       "    </tr>\n",
       "    <tr>\n",
       "      <th>11</th>\n",
       "      <td>llama2</td>\n",
       "      <td>../../metrics/knowledge_tests/obrazovaka/the_h...</td>\n",
       "      <td>6</td>\n",
       "      <td>30</td>\n",
       "      <td>20.00</td>\n",
       "    </tr>\n",
       "    <tr>\n",
       "      <th>12</th>\n",
       "      <td>llama2</td>\n",
       "      <td>../../metrics/knowledge_tests/obrazovaka/idiot...</td>\n",
       "      <td>3</td>\n",
       "      <td>12</td>\n",
       "      <td>25.00</td>\n",
       "    </tr>\n",
       "    <tr>\n",
       "      <th>13</th>\n",
       "      <td>llama2</td>\n",
       "      <td>../../metrics/knowledge_tests/obrazovaka/crime...</td>\n",
       "      <td>3</td>\n",
       "      <td>16</td>\n",
       "      <td>18.75</td>\n",
       "    </tr>\n",
       "    <tr>\n",
       "      <th>14</th>\n",
       "      <td>llama2</td>\n",
       "      <td>../../metrics/knowledge_tests/obrazovaka/anna_...</td>\n",
       "      <td>2</td>\n",
       "      <td>10</td>\n",
       "      <td>20.00</td>\n",
       "    </tr>\n",
       "    <tr>\n",
       "      <th>15</th>\n",
       "      <td>llama3</td>\n",
       "      <td>../../metrics/knowledge_tests/obrazovaka/the_d...</td>\n",
       "      <td>8</td>\n",
       "      <td>16</td>\n",
       "      <td>50.00</td>\n",
       "    </tr>\n",
       "    <tr>\n",
       "      <th>16</th>\n",
       "      <td>llama3</td>\n",
       "      <td>../../metrics/knowledge_tests/obrazovaka/the_b...</td>\n",
       "      <td>7</td>\n",
       "      <td>10</td>\n",
       "      <td>70.00</td>\n",
       "    </tr>\n",
       "    <tr>\n",
       "      <th>17</th>\n",
       "      <td>llama3</td>\n",
       "      <td>../../metrics/knowledge_tests/obrazovaka/and_q...</td>\n",
       "      <td>11</td>\n",
       "      <td>18</td>\n",
       "      <td>61.11</td>\n",
       "    </tr>\n",
       "    <tr>\n",
       "      <th>18</th>\n",
       "      <td>llama3</td>\n",
       "      <td>../../metrics/knowledge_tests/obrazovaka/oblom...</td>\n",
       "      <td>14</td>\n",
       "      <td>19</td>\n",
       "      <td>73.68</td>\n",
       "    </tr>\n",
       "    <tr>\n",
       "      <th>19</th>\n",
       "      <td>llama3</td>\n",
       "      <td>../../metrics/knowledge_tests/obrazovaka/eveni...</td>\n",
       "      <td>1</td>\n",
       "      <td>10</td>\n",
       "      <td>10.00</td>\n",
       "    </tr>\n",
       "    <tr>\n",
       "      <th>20</th>\n",
       "      <td>llama3</td>\n",
       "      <td>../../metrics/knowledge_tests/obrazovaka/docto...</td>\n",
       "      <td>7</td>\n",
       "      <td>13</td>\n",
       "      <td>53.85</td>\n",
       "    </tr>\n",
       "    <tr>\n",
       "      <th>21</th>\n",
       "      <td>llama3</td>\n",
       "      <td>../../metrics/knowledge_tests/obrazovaka/war_a...</td>\n",
       "      <td>34</td>\n",
       "      <td>70</td>\n",
       "      <td>48.57</td>\n",
       "    </tr>\n",
       "    <tr>\n",
       "      <th>22</th>\n",
       "      <td>llama3</td>\n",
       "      <td>../../metrics/knowledge_tests/obrazovaka/the_m...</td>\n",
       "      <td>10</td>\n",
       "      <td>16</td>\n",
       "      <td>62.50</td>\n",
       "    </tr>\n",
       "    <tr>\n",
       "      <th>23</th>\n",
       "      <td>llama3</td>\n",
       "      <td>../../metrics/knowledge_tests/obrazovaka/dead_...</td>\n",
       "      <td>10</td>\n",
       "      <td>19</td>\n",
       "      <td>52.63</td>\n",
       "    </tr>\n",
       "    <tr>\n",
       "      <th>24</th>\n",
       "      <td>llama3</td>\n",
       "      <td>../../metrics/knowledge_tests/obrazovaka/the_g...</td>\n",
       "      <td>6</td>\n",
       "      <td>10</td>\n",
       "      <td>60.00</td>\n",
       "    </tr>\n",
       "    <tr>\n",
       "      <th>25</th>\n",
       "      <td>llama3</td>\n",
       "      <td>../../metrics/knowledge_tests/obrazovaka/the_w...</td>\n",
       "      <td>6</td>\n",
       "      <td>10</td>\n",
       "      <td>60.00</td>\n",
       "    </tr>\n",
       "    <tr>\n",
       "      <th>26</th>\n",
       "      <td>llama3</td>\n",
       "      <td>../../metrics/knowledge_tests/obrazovaka/the_h...</td>\n",
       "      <td>11</td>\n",
       "      <td>30</td>\n",
       "      <td>36.67</td>\n",
       "    </tr>\n",
       "    <tr>\n",
       "      <th>27</th>\n",
       "      <td>llama3</td>\n",
       "      <td>../../metrics/knowledge_tests/obrazovaka/idiot...</td>\n",
       "      <td>6</td>\n",
       "      <td>12</td>\n",
       "      <td>50.00</td>\n",
       "    </tr>\n",
       "    <tr>\n",
       "      <th>28</th>\n",
       "      <td>llama3</td>\n",
       "      <td>../../metrics/knowledge_tests/obrazovaka/crime...</td>\n",
       "      <td>10</td>\n",
       "      <td>16</td>\n",
       "      <td>62.50</td>\n",
       "    </tr>\n",
       "    <tr>\n",
       "      <th>29</th>\n",
       "      <td>llama3</td>\n",
       "      <td>../../metrics/knowledge_tests/obrazovaka/anna_...</td>\n",
       "      <td>5</td>\n",
       "      <td>10</td>\n",
       "      <td>50.00</td>\n",
       "    </tr>\n",
       "  </tbody>\n",
       "</table>\n",
       "</div>"
      ],
      "text/plain": [
       "     model                                          test_path  num_ok  \\\n",
       "0   llama2  ../../metrics/knowledge_tests/obrazovaka/the_d...       4   \n",
       "1   llama2  ../../metrics/knowledge_tests/obrazovaka/the_b...       1   \n",
       "2   llama2  ../../metrics/knowledge_tests/obrazovaka/and_q...       3   \n",
       "3   llama2  ../../metrics/knowledge_tests/obrazovaka/oblom...       2   \n",
       "4   llama2  ../../metrics/knowledge_tests/obrazovaka/eveni...       2   \n",
       "5   llama2  ../../metrics/knowledge_tests/obrazovaka/docto...       2   \n",
       "6   llama2  ../../metrics/knowledge_tests/obrazovaka/war_a...      14   \n",
       "7   llama2  ../../metrics/knowledge_tests/obrazovaka/the_m...       4   \n",
       "8   llama2  ../../metrics/knowledge_tests/obrazovaka/dead_...       3   \n",
       "9   llama2  ../../metrics/knowledge_tests/obrazovaka/the_g...       2   \n",
       "10  llama2  ../../metrics/knowledge_tests/obrazovaka/the_w...       3   \n",
       "11  llama2  ../../metrics/knowledge_tests/obrazovaka/the_h...       6   \n",
       "12  llama2  ../../metrics/knowledge_tests/obrazovaka/idiot...       3   \n",
       "13  llama2  ../../metrics/knowledge_tests/obrazovaka/crime...       3   \n",
       "14  llama2  ../../metrics/knowledge_tests/obrazovaka/anna_...       2   \n",
       "15  llama3  ../../metrics/knowledge_tests/obrazovaka/the_d...       8   \n",
       "16  llama3  ../../metrics/knowledge_tests/obrazovaka/the_b...       7   \n",
       "17  llama3  ../../metrics/knowledge_tests/obrazovaka/and_q...      11   \n",
       "18  llama3  ../../metrics/knowledge_tests/obrazovaka/oblom...      14   \n",
       "19  llama3  ../../metrics/knowledge_tests/obrazovaka/eveni...       1   \n",
       "20  llama3  ../../metrics/knowledge_tests/obrazovaka/docto...       7   \n",
       "21  llama3  ../../metrics/knowledge_tests/obrazovaka/war_a...      34   \n",
       "22  llama3  ../../metrics/knowledge_tests/obrazovaka/the_m...      10   \n",
       "23  llama3  ../../metrics/knowledge_tests/obrazovaka/dead_...      10   \n",
       "24  llama3  ../../metrics/knowledge_tests/obrazovaka/the_g...       6   \n",
       "25  llama3  ../../metrics/knowledge_tests/obrazovaka/the_w...       6   \n",
       "26  llama3  ../../metrics/knowledge_tests/obrazovaka/the_h...      11   \n",
       "27  llama3  ../../metrics/knowledge_tests/obrazovaka/idiot...       6   \n",
       "28  llama3  ../../metrics/knowledge_tests/obrazovaka/crime...      10   \n",
       "29  llama3  ../../metrics/knowledge_tests/obrazovaka/anna_...       5   \n",
       "\n",
       "    num_all  percent  \n",
       "0        16    25.00  \n",
       "1        10    10.00  \n",
       "2        18    16.67  \n",
       "3        19    10.53  \n",
       "4        10    20.00  \n",
       "5        13    15.38  \n",
       "6        70    20.00  \n",
       "7        16    25.00  \n",
       "8        19    15.79  \n",
       "9        10    20.00  \n",
       "10       10    30.00  \n",
       "11       30    20.00  \n",
       "12       12    25.00  \n",
       "13       16    18.75  \n",
       "14       10    20.00  \n",
       "15       16    50.00  \n",
       "16       10    70.00  \n",
       "17       18    61.11  \n",
       "18       19    73.68  \n",
       "19       10    10.00  \n",
       "20       13    53.85  \n",
       "21       70    48.57  \n",
       "22       16    62.50  \n",
       "23       19    52.63  \n",
       "24       10    60.00  \n",
       "25       10    60.00  \n",
       "26       30    36.67  \n",
       "27       12    50.00  \n",
       "28       16    62.50  \n",
       "29       10    50.00  "
      ]
     },
     "execution_count": 60,
     "metadata": {},
     "output_type": "execute_result"
    }
   ],
   "source": [
    "df = pd.DataFrame(rows)\n",
    "df.to_csv(\"some_results_briefly.csv\")\n",
    "df"
   ]
  },
  {
   "cell_type": "code",
   "execution_count": 61,
   "metadata": {},
   "outputs": [
    {
     "name": "stderr",
     "output_type": "stream",
     "text": [
      "100%|██████████| 16/16 [00:16<00:00,  1.04s/it]\n"
     ]
    },
    {
     "name": "stdout",
     "output_type": "stream",
     "text": [
      "result is 4 out of 16. 25.00%\n"
     ]
    },
    {
     "name": "stderr",
     "output_type": "stream",
     "text": [
      " 30%|███       | 3/10 [00:03<00:07,  1.04s/it]"
     ]
    },
    {
     "name": "stdout",
     "output_type": "stream",
     "text": [
      "Cannot convert model first part answer to int: 'Okay, I've read the summary, and my answer is:\n",
      "\n",
      "1.'\n"
     ]
    },
    {
     "name": "stderr",
     "output_type": "stream",
     "text": [
      "100%|██████████| 10/10 [00:06<00:00,  1.58it/s]\n"
     ]
    },
    {
     "name": "stdout",
     "output_type": "stream",
     "text": [
      "result is 3 out of 10. 30.00%\n"
     ]
    },
    {
     "name": "stderr",
     "output_type": "stream",
     "text": [
      "100%|██████████| 18/18 [00:10<00:00,  1.65it/s]\n"
     ]
    },
    {
     "name": "stdout",
     "output_type": "stream",
     "text": [
      "result is 4 out of 18. 22.22%\n"
     ]
    },
    {
     "name": "stderr",
     "output_type": "stream",
     "text": [
      "100%|██████████| 19/19 [00:17<00:00,  1.09it/s]\n"
     ]
    },
    {
     "name": "stdout",
     "output_type": "stream",
     "text": [
      "result is 2 out of 19. 10.53%\n"
     ]
    },
    {
     "name": "stderr",
     "output_type": "stream",
     "text": [
      "100%|██████████| 10/10 [00:05<00:00,  1.76it/s]\n"
     ]
    },
    {
     "name": "stdout",
     "output_type": "stream",
     "text": [
      "result is 2 out of 10. 20.00%\n"
     ]
    },
    {
     "name": "stderr",
     "output_type": "stream",
     "text": [
      "100%|██████████| 13/13 [00:07<00:00,  1.63it/s]\n"
     ]
    },
    {
     "name": "stdout",
     "output_type": "stream",
     "text": [
      "result is 3 out of 13. 23.08%\n"
     ]
    },
    {
     "name": "stderr",
     "output_type": "stream",
     "text": [
      "100%|██████████| 70/70 [00:38<00:00,  1.82it/s]\n"
     ]
    },
    {
     "name": "stdout",
     "output_type": "stream",
     "text": [
      "result is 16 out of 70. 22.86%\n"
     ]
    },
    {
     "name": "stderr",
     "output_type": "stream",
     "text": [
      "100%|██████████| 16/16 [00:10<00:00,  1.49it/s]\n"
     ]
    },
    {
     "name": "stdout",
     "output_type": "stream",
     "text": [
      "result is 5 out of 16. 31.25%\n"
     ]
    },
    {
     "name": "stderr",
     "output_type": "stream",
     "text": [
      "100%|██████████| 19/19 [00:11<00:00,  1.66it/s]\n"
     ]
    },
    {
     "name": "stdout",
     "output_type": "stream",
     "text": [
      "result is 7 out of 19. 36.84%\n"
     ]
    },
    {
     "name": "stderr",
     "output_type": "stream",
     "text": [
      "100%|██████████| 10/10 [00:05<00:00,  1.74it/s]\n"
     ]
    },
    {
     "name": "stdout",
     "output_type": "stream",
     "text": [
      "result is 1 out of 10. 10.00%\n"
     ]
    },
    {
     "name": "stderr",
     "output_type": "stream",
     "text": [
      "100%|██████████| 10/10 [00:07<00:00,  1.40it/s]\n"
     ]
    },
    {
     "name": "stdout",
     "output_type": "stream",
     "text": [
      "Cannot convert model first part answer to int: '4.Bracket'\n",
      "result is 2 out of 10. 20.00%\n"
     ]
    },
    {
     "name": "stderr",
     "output_type": "stream",
     "text": [
      " 40%|████      | 12/30 [00:11<00:19,  1.09s/it]"
     ]
    },
    {
     "name": "stdout",
     "output_type": "stream",
     "text": [
      "Cannot convert model first part answer to int: 'Вариант ответа: 2. Потому что считал доктора Борменталя глупым.'\n"
     ]
    },
    {
     "name": "stderr",
     "output_type": "stream",
     "text": [
      "100%|██████████| 30/30 [00:27<00:00,  1.11it/s]\n"
     ]
    },
    {
     "name": "stdout",
     "output_type": "stream",
     "text": [
      "Cannot convert model first part answer to int: '4.十 лет'\n",
      "result is 5 out of 30. 16.67%\n"
     ]
    },
    {
     "name": "stderr",
     "output_type": "stream",
     "text": [
      "100%|██████████| 12/12 [00:09<00:00,  1.29it/s]\n"
     ]
    },
    {
     "name": "stdout",
     "output_type": "stream",
     "text": [
      "result is 3 out of 12. 25.00%\n"
     ]
    },
    {
     "name": "stderr",
     "output_type": "stream",
     "text": [
      "100%|██████████| 16/16 [00:11<00:00,  1.43it/s]\n"
     ]
    },
    {
     "name": "stdout",
     "output_type": "stream",
     "text": [
      "result is 5 out of 16. 31.25%\n"
     ]
    },
    {
     "name": "stderr",
     "output_type": "stream",
     "text": [
      "100%|██████████| 10/10 [00:06<00:00,  1.61it/s]\n"
     ]
    },
    {
     "name": "stdout",
     "output_type": "stream",
     "text": [
      "result is 3 out of 10. 30.00%\n"
     ]
    },
    {
     "name": "stderr",
     "output_type": "stream",
     "text": [
      "100%|██████████| 16/16 [00:16<00:00,  1.01s/it]\n"
     ]
    },
    {
     "name": "stdout",
     "output_type": "stream",
     "text": [
      "result is 5 out of 16. 31.25%\n"
     ]
    },
    {
     "name": "stderr",
     "output_type": "stream",
     "text": [
      "100%|██████████| 10/10 [00:05<00:00,  1.92it/s]\n"
     ]
    },
    {
     "name": "stdout",
     "output_type": "stream",
     "text": [
      "result is 3 out of 10. 30.00%\n"
     ]
    },
    {
     "name": "stderr",
     "output_type": "stream",
     "text": [
      " 78%|███████▊  | 14/18 [00:11<00:04,  1.18s/it]"
     ]
    },
    {
     "name": "stdout",
     "output_type": "stream",
     "text": [
      "Cannot convert model first part answer to int: 'В книге \"Война и мир\" Льва Толстого нет персонажа по имени Наталья, а также нет сцены, где женщина решает избавиться от нерожденного ребенка Григория. Поэтому ответ - не из предложенных вариантов.'\n"
     ]
    },
    {
     "name": "stderr",
     "output_type": "stream",
     "text": [
      "100%|██████████| 18/18 [00:13<00:00,  1.34it/s]\n"
     ]
    },
    {
     "name": "stdout",
     "output_type": "stream",
     "text": [
      "result is 8 out of 18. 44.44%\n"
     ]
    },
    {
     "name": "stderr",
     "output_type": "stream",
     "text": [
      "100%|██████████| 19/19 [00:11<00:00,  1.59it/s]\n"
     ]
    },
    {
     "name": "stdout",
     "output_type": "stream",
     "text": [
      "result is 10 out of 19. 52.63%\n"
     ]
    },
    {
     "name": "stderr",
     "output_type": "stream",
     "text": [
      " 10%|█         | 1/10 [00:03<00:33,  3.73s/it]"
     ]
    },
    {
     "name": "stdout",
     "output_type": "stream",
     "text": [
      "Cannot convert model first part answer to int: 'None of the above (книга не имеет отношения к Гоголю и его циклу \"Вечера на хуторе близ Диканьки\")'\n"
     ]
    },
    {
     "name": "stderr",
     "output_type": "stream",
     "text": [
      " 20%|██        | 2/10 [00:05<00:18,  2.32s/it]"
     ]
    },
    {
     "name": "stdout",
     "output_type": "stream",
     "text": [
      "Cannot convert model first part answer to int: 'None of the above (книга не содержит информации о селе, представленном в произведениях Гоголя) -> 0'\n"
     ]
    },
    {
     "name": "stderr",
     "output_type": "stream",
     "text": [
      " 30%|███       | 3/10 [00:06<00:12,  1.73s/it]"
     ]
    },
    {
     "name": "stdout",
     "output_type": "stream",
     "text": [
      "Cannot convert model first part answer to int: 'None of the above (книга не имеет отношения к указанным годам)'\n"
     ]
    },
    {
     "name": "stderr",
     "output_type": "stream",
     "text": [
      " 40%|████      | 4/10 [00:07<00:09,  1.52s/it]"
     ]
    },
    {
     "name": "stdout",
     "output_type": "stream",
     "text": [
      "Cannot convert model first part answer to int: 'None of the above (книга не содержит информации о жизни и творчестве Гоголя) -> 0'\n"
     ]
    },
    {
     "name": "stderr",
     "output_type": "stream",
     "text": [
      " 50%|█████     | 5/10 [00:08<00:07,  1.44s/it]"
     ]
    },
    {
     "name": "stdout",
     "output_type": "stream",
     "text": [
      "Cannot convert model first part answer to int: 'None of the above (книга не содержит информации о поддержке литературных начинаний Гоголя) -> 0'\n"
     ]
    },
    {
     "name": "stderr",
     "output_type": "stream",
     "text": [
      "100%|██████████| 10/10 [00:10<00:00,  1.09s/it]\n"
     ]
    },
    {
     "name": "stdout",
     "output_type": "stream",
     "text": [
      "Cannot convert model first part answer to int: 'None of the above (нет из выбранных вариантов)'\n",
      "result is 0 out of 10. 0.00%\n"
     ]
    },
    {
     "name": "stderr",
     "output_type": "stream",
     "text": [
      " 31%|███       | 4/13 [00:04<00:08,  1.06it/s]"
     ]
    },
    {
     "name": "stdout",
     "output_type": "stream",
     "text": [
      "Cannot convert model first part answer to int: 'None of the above (книга не имеет отношения к роману \"Юрый Живаго\")'\n"
     ]
    },
    {
     "name": "stderr",
     "output_type": "stream",
     "text": [
      "100%|██████████| 13/13 [00:07<00:00,  1.66it/s]\n"
     ]
    },
    {
     "name": "stdout",
     "output_type": "stream",
     "text": [
      "result is 6 out of 13. 46.15%\n"
     ]
    },
    {
     "name": "stderr",
     "output_type": "stream",
     "text": [
      "  6%|▌         | 4/70 [00:06<01:41,  1.54s/it]"
     ]
    },
    {
     "name": "stdout",
     "output_type": "stream",
     "text": [
      "Cannot convert model first part answer to int: 'В книге не описывается встреча Наполеона с казаком, поэтому ответ на вопрос не соответствует содержанию книги.\n",
      "\n",
      "Таким образом, я выберу вариант '4' (ошибка в вопросе).'\n"
     ]
    },
    {
     "name": "stderr",
     "output_type": "stream",
     "text": [
      "  9%|▊         | 6/70 [00:08<01:12,  1.13s/it]"
     ]
    },
    {
     "name": "stdout",
     "output_type": "stream",
     "text": [
      "Cannot convert model first part answer to int: 'None of the above (нет из вышеперечисленных вариантов)'\n"
     ]
    },
    {
     "name": "stderr",
     "output_type": "stream",
     "text": [
      " 13%|█▎        | 9/70 [00:09<00:48,  1.25it/s]"
     ]
    },
    {
     "name": "stdout",
     "output_type": "stream",
     "text": [
      "Cannot convert model first part answer to int: 'None of the above (нет из предложенных вариантов)'\n"
     ]
    },
    {
     "name": "stderr",
     "output_type": "stream",
     "text": [
      " 14%|█▍        | 10/70 [00:11<00:56,  1.06it/s]"
     ]
    },
    {
     "name": "stdout",
     "output_type": "stream",
     "text": [
      "Cannot convert model first part answer to int: 'None of the above (книга не содержит информации о Наташе Ростовой и ее любви)'\n"
     ]
    },
    {
     "name": "stderr",
     "output_type": "stream",
     "text": [
      " 17%|█▋        | 12/70 [00:13<01:01,  1.07s/it]"
     ]
    },
    {
     "name": "stdout",
     "output_type": "stream",
     "text": [
      "Cannot convert model first part answer to int: 'None of the above (книга не имеет отношения к князю Андрею Болконскому и его жене Лизе)'\n"
     ]
    },
    {
     "name": "stderr",
     "output_type": "stream",
     "text": [
      " 23%|██▎       | 16/70 [00:15<00:41,  1.31it/s]"
     ]
    },
    {
     "name": "stdout",
     "output_type": "stream",
     "text": [
      "Cannot convert model first part answer to int: 'None of the above (нет из вышеперечисленных вариантов)'\n"
     ]
    },
    {
     "name": "stderr",
     "output_type": "stream",
     "text": [
      " 30%|███       | 21/70 [00:19<00:39,  1.23it/s]"
     ]
    },
    {
     "name": "stdout",
     "output_type": "stream",
     "text": [
      "Cannot convert model first part answer to int: 'None of the above (книга не имеет отношения к роману \"Война и мир\" Льва Толстого)'\n"
     ]
    },
    {
     "name": "stderr",
     "output_type": "stream",
     "text": [
      " 33%|███▎      | 23/70 [00:20<00:34,  1.37it/s]"
     ]
    },
    {
     "name": "stdout",
     "output_type": "stream",
     "text": [
      "Cannot convert model first part answer to int: 'None of the above (нет из вышеперечисленных вариантов)'\n"
     ]
    },
    {
     "name": "stderr",
     "output_type": "stream",
     "text": [
      " 34%|███▍      | 24/70 [00:22<00:50,  1.10s/it]"
     ]
    },
    {
     "name": "stdout",
     "output_type": "stream",
     "text": [
      "Cannot convert model first part answer to int: 'Нет ответа, потому что вопрос не относится к тексту книги. В тексте нет упоминания о Николае Ростове и Долохове, поэтому выбрать правильный вариант невозможно.'\n"
     ]
    },
    {
     "name": "stderr",
     "output_type": "stream",
     "text": [
      " 36%|███▌      | 25/70 [00:23<00:51,  1.13s/it]"
     ]
    },
    {
     "name": "stdout",
     "output_type": "stream",
     "text": [
      "Cannot convert model first part answer to int: 'None of the above (книга не содержит сцену, описанную в вопросе)'\n"
     ]
    },
    {
     "name": "stderr",
     "output_type": "stream",
     "text": [
      " 37%|███▋      | 26/70 [00:24<00:52,  1.20s/it]"
     ]
    },
    {
     "name": "stdout",
     "output_type": "stream",
     "text": [
      "Cannot convert model first part answer to int: 'None of the above (книга не описывает ситуацию, связанную с Пьером и Элен)'\n"
     ]
    },
    {
     "name": "stderr",
     "output_type": "stream",
     "text": [
      " 43%|████▎     | 30/70 [00:28<00:43,  1.09s/it]"
     ]
    },
    {
     "name": "stdout",
     "output_type": "stream",
     "text": [
      "Cannot convert model first part answer to int: 'None of the options are correct, as the text does not mention Pjotr Bezukhov or his involvement with Freemasonry. The correct answer is \"None\".'\n"
     ]
    },
    {
     "name": "stderr",
     "output_type": "stream",
     "text": [
      " 46%|████▌     | 32/70 [00:30<00:35,  1.06it/s]"
     ]
    },
    {
     "name": "stdout",
     "output_type": "stream",
     "text": [
      "Cannot convert model first part answer to int: 'None of the above (книга не описывает танец)'\n"
     ]
    },
    {
     "name": "stderr",
     "output_type": "stream",
     "text": [
      " 49%|████▊     | 34/70 [00:31<00:32,  1.10it/s]"
     ]
    },
    {
     "name": "stdout",
     "output_type": "stream",
     "text": [
      "Cannot convert model first part answer to int: 'None of the above (нет из вышеперечисленных вариантов)'\n"
     ]
    },
    {
     "name": "stderr",
     "output_type": "stream",
     "text": [
      " 51%|█████▏    | 36/70 [00:33<00:30,  1.10it/s]"
     ]
    },
    {
     "name": "stdout",
     "output_type": "stream",
     "text": [
      "Cannot convert model first part answer to int: 'None of the above (нет из вышеперечисленных вариантов)'\n"
     ]
    },
    {
     "name": "stderr",
     "output_type": "stream",
     "text": [
      " 69%|██████▊   | 48/70 [00:41<00:15,  1.38it/s]"
     ]
    },
    {
     "name": "stdout",
     "output_type": "stream",
     "text": [
      "Cannot convert model first part answer to int: 'None of the above (нет из вышеперечисленных)'\n"
     ]
    },
    {
     "name": "stderr",
     "output_type": "stream",
     "text": [
      " 77%|███████▋  | 54/70 [00:46<00:13,  1.16it/s]"
     ]
    },
    {
     "name": "stdout",
     "output_type": "stream",
     "text": [
      "Cannot convert model first part answer to int: 'None of the above (книга не имеет отношения к Николаю Ростову и княжне Марье)'\n"
     ]
    },
    {
     "name": "stderr",
     "output_type": "stream",
     "text": [
      " 80%|████████  | 56/70 [00:47<00:12,  1.08it/s]"
     ]
    },
    {
     "name": "stdout",
     "output_type": "stream",
     "text": [
      "Cannot convert model first part answer to int: 'None of the options are correct, as the text does not mention Prince Andrei or his pre-mortem dream. The correct answer is \"None\".'\n"
     ]
    },
    {
     "name": "stderr",
     "output_type": "stream",
     "text": [
      " 86%|████████▌ | 60/70 [00:50<00:06,  1.45it/s]"
     ]
    },
    {
     "name": "stdout",
     "output_type": "stream",
     "text": [
      "Cannot convert model first part answer to int: 'None of the above (нет из предложенных вариантов)'\n"
     ]
    },
    {
     "name": "stderr",
     "output_type": "stream",
     "text": [
      " 87%|████████▋ | 61/70 [00:52<00:10,  1.15s/it]"
     ]
    },
    {
     "name": "stdout",
     "output_type": "stream",
     "text": [
      "Cannot convert model first part answer to int: 'Нет ответа, потому что вопрос не относится к тексту книги \"Письмо\". В тексте не упоминается семья Ростовых и Петя. therefore, the correct answer is None of the above (0).'\n"
     ]
    },
    {
     "name": "stderr",
     "output_type": "stream",
     "text": [
      " 93%|█████████▎| 65/70 [00:54<00:04,  1.23it/s]"
     ]
    },
    {
     "name": "stdout",
     "output_type": "stream",
     "text": [
      "Cannot convert model first part answer to int: 'None of the above (нет из вышеперечисленных вариантов)'\n"
     ]
    },
    {
     "name": "stderr",
     "output_type": "stream",
     "text": [
      " 94%|█████████▍| 66/70 [00:56<00:03,  1.06it/s]"
     ]
    },
    {
     "name": "stdout",
     "output_type": "stream",
     "text": [
      "Cannot convert model first part answer to int: 'None of the above (книга не имеет отношения к Наташе Ростовой и ее браку)'\n"
     ]
    },
    {
     "name": "stderr",
     "output_type": "stream",
     "text": [
      " 96%|█████████▌| 67/70 [00:57<00:02,  1.04it/s]"
     ]
    },
    {
     "name": "stdout",
     "output_type": "stream",
     "text": [
      "Cannot convert model first part answer to int: 'None of the above (нет из вышеперечисленных вариантов)'\n"
     ]
    },
    {
     "name": "stderr",
     "output_type": "stream",
     "text": [
      " 97%|█████████▋| 68/70 [00:58<00:02,  1.20s/it]"
     ]
    },
    {
     "name": "stdout",
     "output_type": "stream",
     "text": [
      "Cannot convert model first part answer to int: 'None of the options are correct, as this question is not related to the text about Napoleon's letter. The correct answer would be \"none\" or \"not applicable\".'\n"
     ]
    },
    {
     "name": "stderr",
     "output_type": "stream",
     "text": [
      "100%|██████████| 70/70 [00:59<00:00,  1.17it/s]\n"
     ]
    },
    {
     "name": "stdout",
     "output_type": "stream",
     "text": [
      "result is 23 out of 70. 32.86%\n"
     ]
    },
    {
     "name": "stderr",
     "output_type": "stream",
     "text": [
      "100%|██████████| 16/16 [00:09<00:00,  1.69it/s]\n"
     ]
    },
    {
     "name": "stdout",
     "output_type": "stream",
     "text": [
      "result is 4 out of 16. 25.00%\n"
     ]
    },
    {
     "name": "stderr",
     "output_type": "stream",
     "text": [
      "100%|██████████| 19/19 [00:10<00:00,  1.83it/s]\n"
     ]
    },
    {
     "name": "stdout",
     "output_type": "stream",
     "text": [
      "result is 4 out of 19. 21.05%\n"
     ]
    },
    {
     "name": "stderr",
     "output_type": "stream",
     "text": [
      "100%|██████████| 10/10 [00:05<00:00,  1.90it/s]\n"
     ]
    },
    {
     "name": "stdout",
     "output_type": "stream",
     "text": [
      "result is 5 out of 10. 50.00%\n"
     ]
    },
    {
     "name": "stderr",
     "output_type": "stream",
     "text": [
      " 30%|███       | 3/10 [00:04<00:08,  1.19s/it]"
     ]
    },
    {
     "name": "stdout",
     "output_type": "stream",
     "text": [
      "Cannot convert model first part answer to int: 'None of the above (ответ не связан с вопросом)'\n"
     ]
    },
    {
     "name": "stderr",
     "output_type": "stream",
     "text": [
      " 60%|██████    | 6/10 [00:05<00:02,  1.44it/s]"
     ]
    },
    {
     "name": "stdout",
     "output_type": "stream",
     "text": [
      "Cannot convert model first part answer to int: 'None of the above (нет из какого города)'\n"
     ]
    },
    {
     "name": "stderr",
     "output_type": "stream",
     "text": [
      " 80%|████████  | 8/10 [00:06<00:01,  1.56it/s]"
     ]
    },
    {
     "name": "stdout",
     "output_type": "stream",
     "text": [
      "Cannot convert model first part answer to int: 'None of the above (нет из вышеперечисленных)'\n"
     ]
    },
    {
     "name": "stderr",
     "output_type": "stream",
     "text": [
      " 90%|█████████ | 9/10 [00:07<00:00,  1.47it/s]"
     ]
    },
    {
     "name": "stdout",
     "output_type": "stream",
     "text": [
      "Cannot convert model first part answer to int: 'None of the above (нет из вышеперечисленных)'\n"
     ]
    },
    {
     "name": "stderr",
     "output_type": "stream",
     "text": [
      "100%|██████████| 10/10 [00:07<00:00,  1.25it/s]\n"
     ]
    },
    {
     "name": "stdout",
     "output_type": "stream",
     "text": [
      "result is 2 out of 10. 20.00%\n"
     ]
    },
    {
     "name": "stderr",
     "output_type": "stream",
     "text": [
      "100%|██████████| 30/30 [00:16<00:00,  1.77it/s]\n"
     ]
    },
    {
     "name": "stdout",
     "output_type": "stream",
     "text": [
      "result is 13 out of 30. 43.33%\n"
     ]
    },
    {
     "name": "stderr",
     "output_type": "stream",
     "text": [
      " 42%|████▏     | 5/12 [00:04<00:06,  1.11it/s]"
     ]
    },
    {
     "name": "stdout",
     "output_type": "stream",
     "text": [
      "Cannot convert model first part answer to int: 'В кратком содержании книги не упоминается Мышкин и Рогожин, поэтому ответ - 4 (нет соответствия).'\n"
     ]
    },
    {
     "name": "stderr",
     "output_type": "stream",
     "text": [
      " 67%|██████▋   | 8/12 [00:07<00:03,  1.00it/s]"
     ]
    },
    {
     "name": "stdout",
     "output_type": "stream",
     "text": [
      "Cannot convert model first part answer to int: 'None of the above (книга \"Ма Рабе\" не имеет отношения к Мышкину и Рогожину, поэтому ответ - 0)'\n"
     ]
    },
    {
     "name": "stderr",
     "output_type": "stream",
     "text": [
      " 75%|███████▌  | 9/12 [00:08<00:02,  1.04it/s]"
     ]
    },
    {
     "name": "stdout",
     "output_type": "stream",
     "text": [
      "Cannot convert model first part answer to int: 'None of the above (нет из вышеперечисленных)'\n"
     ]
    },
    {
     "name": "stderr",
     "output_type": "stream",
     "text": [
      " 92%|█████████▏| 11/12 [00:09<00:00,  1.17it/s]"
     ]
    },
    {
     "name": "stdout",
     "output_type": "stream",
     "text": [
      "Cannot convert model first part answer to int: 'None of the above (нет из вышеперечисленных вариантов)'\n"
     ]
    },
    {
     "name": "stderr",
     "output_type": "stream",
     "text": [
      "100%|██████████| 12/12 [00:10<00:00,  1.17it/s]\n"
     ]
    },
    {
     "name": "stdout",
     "output_type": "stream",
     "text": [
      "result is 3 out of 12. 25.00%\n"
     ]
    },
    {
     "name": "stderr",
     "output_type": "stream",
     "text": [
      "  6%|▋         | 1/16 [00:04<01:14,  4.96s/it]"
     ]
    },
    {
     "name": "stdout",
     "output_type": "stream",
     "text": [
      "Cannot convert model first part answer to int: 'None of the options are correct, as the book is not about Dostoevsky's \"Crime and Punishment\". The question seems to be unrelated to the content of the book.\n",
      "\n",
      "So, I'll leave it blank:'\n"
     ]
    },
    {
     "name": "stderr",
     "output_type": "stream",
     "text": [
      " 38%|███▊      | 6/16 [00:09<00:15,  1.52s/it]"
     ]
    },
    {
     "name": "stdout",
     "output_type": "stream",
     "text": [
      "Cannot convert model first part answer to int: 'None of the options are correct because the text does not mention Rascolnikov or any characters from a novel. The text appears to be a collection of phrases and expressions related to clothing, textiles, and appearance. Therefore, I would answer: None (0)'\n"
     ]
    },
    {
     "name": "stderr",
     "output_type": "stream",
     "text": [
      " 62%|██████▎   | 10/16 [00:13<00:07,  1.25s/it]"
     ]
    },
    {
     "name": "stdout",
     "output_type": "stream",
     "text": [
      "Cannot convert model first part answer to int: 'None of the options are correct, as the text does not mention Rodion Raskolnikov or his idol. The correct answer is not among the provided options.\n",
      "\n",
      "Correct answer: None (the question is unrelated to the text)'\n"
     ]
    },
    {
     "name": "stderr",
     "output_type": "stream",
     "text": [
      "100%|██████████| 16/16 [00:17<00:00,  1.08s/it]\n"
     ]
    },
    {
     "name": "stdout",
     "output_type": "stream",
     "text": [
      "result is 7 out of 16. 43.75%\n"
     ]
    },
    {
     "name": "stderr",
     "output_type": "stream",
     "text": [
      " 40%|████      | 4/10 [00:03<00:04,  1.36it/s]"
     ]
    },
    {
     "name": "stdout",
     "output_type": "stream",
     "text": [
      "Cannot convert model first part answer to int: 'None of the above (нет из вышеперечисленных)'\n"
     ]
    },
    {
     "name": "stderr",
     "output_type": "stream",
     "text": [
      " 70%|███████   | 7/10 [00:05<00:02,  1.40it/s]"
     ]
    },
    {
     "name": "stdout",
     "output_type": "stream",
     "text": [
      "Cannot convert model first part answer to int: 'None of the above (книга не содержит информации о графе Вронском) -> 0'\n"
     ]
    },
    {
     "name": "stderr",
     "output_type": "stream",
     "text": [
      " 80%|████████  | 8/10 [00:06<00:01,  1.12it/s]"
     ]
    },
    {
     "name": "stdout",
     "output_type": "stream",
     "text": [
      "Cannot convert model first part answer to int: 'None of the above (книга не содержит информации о Левине и Ките) -> нет ответа из предложенных вариантов.'\n"
     ]
    },
    {
     "name": "stderr",
     "output_type": "stream",
     "text": [
      "100%|██████████| 10/10 [00:07<00:00,  1.35it/s]"
     ]
    },
    {
     "name": "stdout",
     "output_type": "stream",
     "text": [
      "result is 4 out of 10. 40.00%\n"
     ]
    },
    {
     "name": "stderr",
     "output_type": "stream",
     "text": [
      "\n"
     ]
    },
    {
     "data": {
      "text/html": [
       "<div>\n",
       "<style scoped>\n",
       "    .dataframe tbody tr th:only-of-type {\n",
       "        vertical-align: middle;\n",
       "    }\n",
       "\n",
       "    .dataframe tbody tr th {\n",
       "        vertical-align: top;\n",
       "    }\n",
       "\n",
       "    .dataframe thead th {\n",
       "        text-align: right;\n",
       "    }\n",
       "</style>\n",
       "<table border=\"1\" class=\"dataframe\">\n",
       "  <thead>\n",
       "    <tr style=\"text-align: right;\">\n",
       "      <th></th>\n",
       "      <th>model</th>\n",
       "      <th>test_path</th>\n",
       "      <th>num_ok</th>\n",
       "      <th>num_all</th>\n",
       "      <th>percent</th>\n",
       "    </tr>\n",
       "  </thead>\n",
       "  <tbody>\n",
       "    <tr>\n",
       "      <th>0</th>\n",
       "      <td>llama2</td>\n",
       "      <td>../../metrics/knowledge_tests/obrazovaka/the_d...</td>\n",
       "      <td>4</td>\n",
       "      <td>16</td>\n",
       "      <td>25.00</td>\n",
       "    </tr>\n",
       "    <tr>\n",
       "      <th>1</th>\n",
       "      <td>llama2</td>\n",
       "      <td>../../metrics/knowledge_tests/obrazovaka/the_b...</td>\n",
       "      <td>3</td>\n",
       "      <td>10</td>\n",
       "      <td>30.00</td>\n",
       "    </tr>\n",
       "    <tr>\n",
       "      <th>2</th>\n",
       "      <td>llama2</td>\n",
       "      <td>../../metrics/knowledge_tests/obrazovaka/and_q...</td>\n",
       "      <td>4</td>\n",
       "      <td>18</td>\n",
       "      <td>22.22</td>\n",
       "    </tr>\n",
       "    <tr>\n",
       "      <th>3</th>\n",
       "      <td>llama2</td>\n",
       "      <td>../../metrics/knowledge_tests/obrazovaka/oblom...</td>\n",
       "      <td>2</td>\n",
       "      <td>19</td>\n",
       "      <td>10.53</td>\n",
       "    </tr>\n",
       "    <tr>\n",
       "      <th>4</th>\n",
       "      <td>llama2</td>\n",
       "      <td>../../metrics/knowledge_tests/obrazovaka/eveni...</td>\n",
       "      <td>2</td>\n",
       "      <td>10</td>\n",
       "      <td>20.00</td>\n",
       "    </tr>\n",
       "    <tr>\n",
       "      <th>5</th>\n",
       "      <td>llama2</td>\n",
       "      <td>../../metrics/knowledge_tests/obrazovaka/docto...</td>\n",
       "      <td>3</td>\n",
       "      <td>13</td>\n",
       "      <td>23.08</td>\n",
       "    </tr>\n",
       "    <tr>\n",
       "      <th>6</th>\n",
       "      <td>llama2</td>\n",
       "      <td>../../metrics/knowledge_tests/obrazovaka/war_a...</td>\n",
       "      <td>16</td>\n",
       "      <td>70</td>\n",
       "      <td>22.86</td>\n",
       "    </tr>\n",
       "    <tr>\n",
       "      <th>7</th>\n",
       "      <td>llama2</td>\n",
       "      <td>../../metrics/knowledge_tests/obrazovaka/the_m...</td>\n",
       "      <td>5</td>\n",
       "      <td>16</td>\n",
       "      <td>31.25</td>\n",
       "    </tr>\n",
       "    <tr>\n",
       "      <th>8</th>\n",
       "      <td>llama2</td>\n",
       "      <td>../../metrics/knowledge_tests/obrazovaka/dead_...</td>\n",
       "      <td>7</td>\n",
       "      <td>19</td>\n",
       "      <td>36.84</td>\n",
       "    </tr>\n",
       "    <tr>\n",
       "      <th>9</th>\n",
       "      <td>llama2</td>\n",
       "      <td>../../metrics/knowledge_tests/obrazovaka/the_g...</td>\n",
       "      <td>1</td>\n",
       "      <td>10</td>\n",
       "      <td>10.00</td>\n",
       "    </tr>\n",
       "    <tr>\n",
       "      <th>10</th>\n",
       "      <td>llama2</td>\n",
       "      <td>../../metrics/knowledge_tests/obrazovaka/the_w...</td>\n",
       "      <td>2</td>\n",
       "      <td>10</td>\n",
       "      <td>20.00</td>\n",
       "    </tr>\n",
       "    <tr>\n",
       "      <th>11</th>\n",
       "      <td>llama2</td>\n",
       "      <td>../../metrics/knowledge_tests/obrazovaka/the_h...</td>\n",
       "      <td>5</td>\n",
       "      <td>30</td>\n",
       "      <td>16.67</td>\n",
       "    </tr>\n",
       "    <tr>\n",
       "      <th>12</th>\n",
       "      <td>llama2</td>\n",
       "      <td>../../metrics/knowledge_tests/obrazovaka/idiot...</td>\n",
       "      <td>3</td>\n",
       "      <td>12</td>\n",
       "      <td>25.00</td>\n",
       "    </tr>\n",
       "    <tr>\n",
       "      <th>13</th>\n",
       "      <td>llama2</td>\n",
       "      <td>../../metrics/knowledge_tests/obrazovaka/crime...</td>\n",
       "      <td>5</td>\n",
       "      <td>16</td>\n",
       "      <td>31.25</td>\n",
       "    </tr>\n",
       "    <tr>\n",
       "      <th>14</th>\n",
       "      <td>llama2</td>\n",
       "      <td>../../metrics/knowledge_tests/obrazovaka/anna_...</td>\n",
       "      <td>3</td>\n",
       "      <td>10</td>\n",
       "      <td>30.00</td>\n",
       "    </tr>\n",
       "    <tr>\n",
       "      <th>15</th>\n",
       "      <td>llama3</td>\n",
       "      <td>../../metrics/knowledge_tests/obrazovaka/the_d...</td>\n",
       "      <td>5</td>\n",
       "      <td>16</td>\n",
       "      <td>31.25</td>\n",
       "    </tr>\n",
       "    <tr>\n",
       "      <th>16</th>\n",
       "      <td>llama3</td>\n",
       "      <td>../../metrics/knowledge_tests/obrazovaka/the_b...</td>\n",
       "      <td>3</td>\n",
       "      <td>10</td>\n",
       "      <td>30.00</td>\n",
       "    </tr>\n",
       "    <tr>\n",
       "      <th>17</th>\n",
       "      <td>llama3</td>\n",
       "      <td>../../metrics/knowledge_tests/obrazovaka/and_q...</td>\n",
       "      <td>8</td>\n",
       "      <td>18</td>\n",
       "      <td>44.44</td>\n",
       "    </tr>\n",
       "    <tr>\n",
       "      <th>18</th>\n",
       "      <td>llama3</td>\n",
       "      <td>../../metrics/knowledge_tests/obrazovaka/oblom...</td>\n",
       "      <td>10</td>\n",
       "      <td>19</td>\n",
       "      <td>52.63</td>\n",
       "    </tr>\n",
       "    <tr>\n",
       "      <th>19</th>\n",
       "      <td>llama3</td>\n",
       "      <td>../../metrics/knowledge_tests/obrazovaka/eveni...</td>\n",
       "      <td>0</td>\n",
       "      <td>10</td>\n",
       "      <td>0.00</td>\n",
       "    </tr>\n",
       "    <tr>\n",
       "      <th>20</th>\n",
       "      <td>llama3</td>\n",
       "      <td>../../metrics/knowledge_tests/obrazovaka/docto...</td>\n",
       "      <td>6</td>\n",
       "      <td>13</td>\n",
       "      <td>46.15</td>\n",
       "    </tr>\n",
       "    <tr>\n",
       "      <th>21</th>\n",
       "      <td>llama3</td>\n",
       "      <td>../../metrics/knowledge_tests/obrazovaka/war_a...</td>\n",
       "      <td>23</td>\n",
       "      <td>70</td>\n",
       "      <td>32.86</td>\n",
       "    </tr>\n",
       "    <tr>\n",
       "      <th>22</th>\n",
       "      <td>llama3</td>\n",
       "      <td>../../metrics/knowledge_tests/obrazovaka/the_m...</td>\n",
       "      <td>4</td>\n",
       "      <td>16</td>\n",
       "      <td>25.00</td>\n",
       "    </tr>\n",
       "    <tr>\n",
       "      <th>23</th>\n",
       "      <td>llama3</td>\n",
       "      <td>../../metrics/knowledge_tests/obrazovaka/dead_...</td>\n",
       "      <td>4</td>\n",
       "      <td>19</td>\n",
       "      <td>21.05</td>\n",
       "    </tr>\n",
       "    <tr>\n",
       "      <th>24</th>\n",
       "      <td>llama3</td>\n",
       "      <td>../../metrics/knowledge_tests/obrazovaka/the_g...</td>\n",
       "      <td>5</td>\n",
       "      <td>10</td>\n",
       "      <td>50.00</td>\n",
       "    </tr>\n",
       "    <tr>\n",
       "      <th>25</th>\n",
       "      <td>llama3</td>\n",
       "      <td>../../metrics/knowledge_tests/obrazovaka/the_w...</td>\n",
       "      <td>2</td>\n",
       "      <td>10</td>\n",
       "      <td>20.00</td>\n",
       "    </tr>\n",
       "    <tr>\n",
       "      <th>26</th>\n",
       "      <td>llama3</td>\n",
       "      <td>../../metrics/knowledge_tests/obrazovaka/the_h...</td>\n",
       "      <td>13</td>\n",
       "      <td>30</td>\n",
       "      <td>43.33</td>\n",
       "    </tr>\n",
       "    <tr>\n",
       "      <th>27</th>\n",
       "      <td>llama3</td>\n",
       "      <td>../../metrics/knowledge_tests/obrazovaka/idiot...</td>\n",
       "      <td>3</td>\n",
       "      <td>12</td>\n",
       "      <td>25.00</td>\n",
       "    </tr>\n",
       "    <tr>\n",
       "      <th>28</th>\n",
       "      <td>llama3</td>\n",
       "      <td>../../metrics/knowledge_tests/obrazovaka/crime...</td>\n",
       "      <td>7</td>\n",
       "      <td>16</td>\n",
       "      <td>43.75</td>\n",
       "    </tr>\n",
       "    <tr>\n",
       "      <th>29</th>\n",
       "      <td>llama3</td>\n",
       "      <td>../../metrics/knowledge_tests/obrazovaka/anna_...</td>\n",
       "      <td>4</td>\n",
       "      <td>10</td>\n",
       "      <td>40.00</td>\n",
       "    </tr>\n",
       "  </tbody>\n",
       "</table>\n",
       "</div>"
      ],
      "text/plain": [
       "     model                                          test_path  num_ok  \\\n",
       "0   llama2  ../../metrics/knowledge_tests/obrazovaka/the_d...       4   \n",
       "1   llama2  ../../metrics/knowledge_tests/obrazovaka/the_b...       3   \n",
       "2   llama2  ../../metrics/knowledge_tests/obrazovaka/and_q...       4   \n",
       "3   llama2  ../../metrics/knowledge_tests/obrazovaka/oblom...       2   \n",
       "4   llama2  ../../metrics/knowledge_tests/obrazovaka/eveni...       2   \n",
       "5   llama2  ../../metrics/knowledge_tests/obrazovaka/docto...       3   \n",
       "6   llama2  ../../metrics/knowledge_tests/obrazovaka/war_a...      16   \n",
       "7   llama2  ../../metrics/knowledge_tests/obrazovaka/the_m...       5   \n",
       "8   llama2  ../../metrics/knowledge_tests/obrazovaka/dead_...       7   \n",
       "9   llama2  ../../metrics/knowledge_tests/obrazovaka/the_g...       1   \n",
       "10  llama2  ../../metrics/knowledge_tests/obrazovaka/the_w...       2   \n",
       "11  llama2  ../../metrics/knowledge_tests/obrazovaka/the_h...       5   \n",
       "12  llama2  ../../metrics/knowledge_tests/obrazovaka/idiot...       3   \n",
       "13  llama2  ../../metrics/knowledge_tests/obrazovaka/crime...       5   \n",
       "14  llama2  ../../metrics/knowledge_tests/obrazovaka/anna_...       3   \n",
       "15  llama3  ../../metrics/knowledge_tests/obrazovaka/the_d...       5   \n",
       "16  llama3  ../../metrics/knowledge_tests/obrazovaka/the_b...       3   \n",
       "17  llama3  ../../metrics/knowledge_tests/obrazovaka/and_q...       8   \n",
       "18  llama3  ../../metrics/knowledge_tests/obrazovaka/oblom...      10   \n",
       "19  llama3  ../../metrics/knowledge_tests/obrazovaka/eveni...       0   \n",
       "20  llama3  ../../metrics/knowledge_tests/obrazovaka/docto...       6   \n",
       "21  llama3  ../../metrics/knowledge_tests/obrazovaka/war_a...      23   \n",
       "22  llama3  ../../metrics/knowledge_tests/obrazovaka/the_m...       4   \n",
       "23  llama3  ../../metrics/knowledge_tests/obrazovaka/dead_...       4   \n",
       "24  llama3  ../../metrics/knowledge_tests/obrazovaka/the_g...       5   \n",
       "25  llama3  ../../metrics/knowledge_tests/obrazovaka/the_w...       2   \n",
       "26  llama3  ../../metrics/knowledge_tests/obrazovaka/the_h...      13   \n",
       "27  llama3  ../../metrics/knowledge_tests/obrazovaka/idiot...       3   \n",
       "28  llama3  ../../metrics/knowledge_tests/obrazovaka/crime...       7   \n",
       "29  llama3  ../../metrics/knowledge_tests/obrazovaka/anna_...       4   \n",
       "\n",
       "    num_all  percent  \n",
       "0        16    25.00  \n",
       "1        10    30.00  \n",
       "2        18    22.22  \n",
       "3        19    10.53  \n",
       "4        10    20.00  \n",
       "5        13    23.08  \n",
       "6        70    22.86  \n",
       "7        16    31.25  \n",
       "8        19    36.84  \n",
       "9        10    10.00  \n",
       "10       10    20.00  \n",
       "11       30    16.67  \n",
       "12       12    25.00  \n",
       "13       16    31.25  \n",
       "14       10    30.00  \n",
       "15       16    31.25  \n",
       "16       10    30.00  \n",
       "17       18    44.44  \n",
       "18       19    52.63  \n",
       "19       10     0.00  \n",
       "20       13    46.15  \n",
       "21       70    32.86  \n",
       "22       16    25.00  \n",
       "23       19    21.05  \n",
       "24       10    50.00  \n",
       "25       10    20.00  \n",
       "26       30    43.33  \n",
       "27       12    25.00  \n",
       "28       16    43.75  \n",
       "29       10    40.00  "
      ]
     },
     "execution_count": 61,
     "metadata": {},
     "output_type": "execute_result"
    }
   ],
   "source": [
    "models = [\"llama2\", \"llama3\"]\n",
    "rows_stupid = []\n",
    "for model in models:\n",
    "    tests_dir = Path(\"../../metrics/knowledge_tests/obrazovaka/\")\n",
    "    for test_path in tests_dir.glob(\"*.json\"):\n",
    "        with open(test_path, \"r\") as f:\n",
    "            quiz = json.load(f)\n",
    "        with open(f\"../../downloaded_books/stupid_summaries/{test_path.stem}.txt\", \"r\") as f:\n",
    "            summary = f.read()\n",
    "        num_ok, num_all = eval_model_on_quiz(model, quiz, summary=summary)\n",
    "        rows_stupid.append({\n",
    "            \"model\": model,\n",
    "            \"test_path\": test_path,\n",
    "            \"num_ok\": num_ok,\n",
    "            \"num_all\": num_all,\n",
    "            \"percent\": float(f\"{(num_ok / num_all * 100):.2f}\"),\n",
    "        })\n",
    "df_stupid = pd.DataFrame(rows_stupid)\n",
    "df_stupid"
   ]
  },
  {
   "cell_type": "code",
   "execution_count": 62,
   "metadata": {},
   "outputs": [],
   "source": [
    "df_stupid.to_csv(\"some_results_stupid.csv\")"
   ]
  },
  {
   "cell_type": "code",
   "execution_count": 52,
   "metadata": {},
   "outputs": [
    {
     "data": {
      "text/html": [
       "<div>\n",
       "<style scoped>\n",
       "    .dataframe tbody tr th:only-of-type {\n",
       "        vertical-align: middle;\n",
       "    }\n",
       "\n",
       "    .dataframe tbody tr th {\n",
       "        vertical-align: top;\n",
       "    }\n",
       "\n",
       "    .dataframe thead th {\n",
       "        text-align: right;\n",
       "    }\n",
       "</style>\n",
       "<table border=\"1\" class=\"dataframe\">\n",
       "  <thead>\n",
       "    <tr style=\"text-align: right;\">\n",
       "      <th></th>\n",
       "      <th>model</th>\n",
       "      <th>test_path</th>\n",
       "      <th>num_ok</th>\n",
       "      <th>num_all</th>\n",
       "      <th>percent</th>\n",
       "    </tr>\n",
       "  </thead>\n",
       "  <tbody>\n",
       "    <tr>\n",
       "      <th>0</th>\n",
       "      <td>llama2</td>\n",
       "      <td>../../metrics/knowledge_tests/obrazovaka/the_d...</td>\n",
       "      <td>3</td>\n",
       "      <td>16</td>\n",
       "      <td>18.75</td>\n",
       "    </tr>\n",
       "    <tr>\n",
       "      <th>1</th>\n",
       "      <td>llama2</td>\n",
       "      <td>../../metrics/knowledge_tests/obrazovaka/the_b...</td>\n",
       "      <td>1</td>\n",
       "      <td>10</td>\n",
       "      <td>10.00</td>\n",
       "    </tr>\n",
       "    <tr>\n",
       "      <th>2</th>\n",
       "      <td>llama2</td>\n",
       "      <td>../../metrics/knowledge_tests/obrazovaka/and_q...</td>\n",
       "      <td>6</td>\n",
       "      <td>18</td>\n",
       "      <td>33.33</td>\n",
       "    </tr>\n",
       "    <tr>\n",
       "      <th>3</th>\n",
       "      <td>llama2</td>\n",
       "      <td>../../metrics/knowledge_tests/obrazovaka/oblom...</td>\n",
       "      <td>7</td>\n",
       "      <td>19</td>\n",
       "      <td>36.84</td>\n",
       "    </tr>\n",
       "    <tr>\n",
       "      <th>4</th>\n",
       "      <td>llama2</td>\n",
       "      <td>../../metrics/knowledge_tests/obrazovaka/eveni...</td>\n",
       "      <td>1</td>\n",
       "      <td>10</td>\n",
       "      <td>10.00</td>\n",
       "    </tr>\n",
       "    <tr>\n",
       "      <th>5</th>\n",
       "      <td>llama2</td>\n",
       "      <td>../../metrics/knowledge_tests/obrazovaka/docto...</td>\n",
       "      <td>3</td>\n",
       "      <td>13</td>\n",
       "      <td>23.08</td>\n",
       "    </tr>\n",
       "    <tr>\n",
       "      <th>6</th>\n",
       "      <td>llama2</td>\n",
       "      <td>../../metrics/knowledge_tests/obrazovaka/war_a...</td>\n",
       "      <td>17</td>\n",
       "      <td>70</td>\n",
       "      <td>24.29</td>\n",
       "    </tr>\n",
       "    <tr>\n",
       "      <th>7</th>\n",
       "      <td>llama2</td>\n",
       "      <td>../../metrics/knowledge_tests/obrazovaka/the_m...</td>\n",
       "      <td>4</td>\n",
       "      <td>16</td>\n",
       "      <td>25.00</td>\n",
       "    </tr>\n",
       "    <tr>\n",
       "      <th>8</th>\n",
       "      <td>llama2</td>\n",
       "      <td>../../metrics/knowledge_tests/obrazovaka/dead_...</td>\n",
       "      <td>4</td>\n",
       "      <td>19</td>\n",
       "      <td>21.05</td>\n",
       "    </tr>\n",
       "    <tr>\n",
       "      <th>9</th>\n",
       "      <td>llama2</td>\n",
       "      <td>../../metrics/knowledge_tests/obrazovaka/the_g...</td>\n",
       "      <td>2</td>\n",
       "      <td>10</td>\n",
       "      <td>20.00</td>\n",
       "    </tr>\n",
       "    <tr>\n",
       "      <th>10</th>\n",
       "      <td>llama2</td>\n",
       "      <td>../../metrics/knowledge_tests/obrazovaka/the_w...</td>\n",
       "      <td>3</td>\n",
       "      <td>10</td>\n",
       "      <td>30.00</td>\n",
       "    </tr>\n",
       "    <tr>\n",
       "      <th>11</th>\n",
       "      <td>llama2</td>\n",
       "      <td>../../metrics/knowledge_tests/obrazovaka/the_h...</td>\n",
       "      <td>6</td>\n",
       "      <td>30</td>\n",
       "      <td>20.00</td>\n",
       "    </tr>\n",
       "    <tr>\n",
       "      <th>12</th>\n",
       "      <td>llama2</td>\n",
       "      <td>../../metrics/knowledge_tests/obrazovaka/idiot...</td>\n",
       "      <td>3</td>\n",
       "      <td>12</td>\n",
       "      <td>25.00</td>\n",
       "    </tr>\n",
       "    <tr>\n",
       "      <th>13</th>\n",
       "      <td>llama2</td>\n",
       "      <td>../../metrics/knowledge_tests/obrazovaka/crime...</td>\n",
       "      <td>5</td>\n",
       "      <td>16</td>\n",
       "      <td>31.25</td>\n",
       "    </tr>\n",
       "    <tr>\n",
       "      <th>14</th>\n",
       "      <td>llama2</td>\n",
       "      <td>../../metrics/knowledge_tests/obrazovaka/anna_...</td>\n",
       "      <td>2</td>\n",
       "      <td>10</td>\n",
       "      <td>20.00</td>\n",
       "    </tr>\n",
       "    <tr>\n",
       "      <th>0</th>\n",
       "      <td>llama3</td>\n",
       "      <td>../../metrics/knowledge_tests/obrazovaka/the_d...</td>\n",
       "      <td>3</td>\n",
       "      <td>16</td>\n",
       "      <td>18.75</td>\n",
       "    </tr>\n",
       "    <tr>\n",
       "      <th>1</th>\n",
       "      <td>llama3</td>\n",
       "      <td>../../metrics/knowledge_tests/obrazovaka/the_b...</td>\n",
       "      <td>5</td>\n",
       "      <td>10</td>\n",
       "      <td>50.00</td>\n",
       "    </tr>\n",
       "    <tr>\n",
       "      <th>2</th>\n",
       "      <td>llama3</td>\n",
       "      <td>../../metrics/knowledge_tests/obrazovaka/and_q...</td>\n",
       "      <td>6</td>\n",
       "      <td>18</td>\n",
       "      <td>33.33</td>\n",
       "    </tr>\n",
       "    <tr>\n",
       "      <th>3</th>\n",
       "      <td>llama3</td>\n",
       "      <td>../../metrics/knowledge_tests/obrazovaka/oblom...</td>\n",
       "      <td>12</td>\n",
       "      <td>19</td>\n",
       "      <td>63.16</td>\n",
       "    </tr>\n",
       "    <tr>\n",
       "      <th>4</th>\n",
       "      <td>llama3</td>\n",
       "      <td>../../metrics/knowledge_tests/obrazovaka/eveni...</td>\n",
       "      <td>2</td>\n",
       "      <td>10</td>\n",
       "      <td>20.00</td>\n",
       "    </tr>\n",
       "    <tr>\n",
       "      <th>5</th>\n",
       "      <td>llama3</td>\n",
       "      <td>../../metrics/knowledge_tests/obrazovaka/docto...</td>\n",
       "      <td>2</td>\n",
       "      <td>13</td>\n",
       "      <td>15.38</td>\n",
       "    </tr>\n",
       "    <tr>\n",
       "      <th>6</th>\n",
       "      <td>llama3</td>\n",
       "      <td>../../metrics/knowledge_tests/obrazovaka/war_a...</td>\n",
       "      <td>38</td>\n",
       "      <td>70</td>\n",
       "      <td>54.29</td>\n",
       "    </tr>\n",
       "    <tr>\n",
       "      <th>7</th>\n",
       "      <td>llama3</td>\n",
       "      <td>../../metrics/knowledge_tests/obrazovaka/the_m...</td>\n",
       "      <td>5</td>\n",
       "      <td>16</td>\n",
       "      <td>31.25</td>\n",
       "    </tr>\n",
       "    <tr>\n",
       "      <th>8</th>\n",
       "      <td>llama3</td>\n",
       "      <td>../../metrics/knowledge_tests/obrazovaka/dead_...</td>\n",
       "      <td>9</td>\n",
       "      <td>19</td>\n",
       "      <td>47.37</td>\n",
       "    </tr>\n",
       "    <tr>\n",
       "      <th>9</th>\n",
       "      <td>llama3</td>\n",
       "      <td>../../metrics/knowledge_tests/obrazovaka/the_g...</td>\n",
       "      <td>7</td>\n",
       "      <td>10</td>\n",
       "      <td>70.00</td>\n",
       "    </tr>\n",
       "    <tr>\n",
       "      <th>10</th>\n",
       "      <td>llama3</td>\n",
       "      <td>../../metrics/knowledge_tests/obrazovaka/the_w...</td>\n",
       "      <td>2</td>\n",
       "      <td>10</td>\n",
       "      <td>20.00</td>\n",
       "    </tr>\n",
       "    <tr>\n",
       "      <th>11</th>\n",
       "      <td>llama3</td>\n",
       "      <td>../../metrics/knowledge_tests/obrazovaka/the_h...</td>\n",
       "      <td>12</td>\n",
       "      <td>30</td>\n",
       "      <td>40.00</td>\n",
       "    </tr>\n",
       "    <tr>\n",
       "      <th>12</th>\n",
       "      <td>llama3</td>\n",
       "      <td>../../metrics/knowledge_tests/obrazovaka/idiot...</td>\n",
       "      <td>4</td>\n",
       "      <td>12</td>\n",
       "      <td>33.33</td>\n",
       "    </tr>\n",
       "    <tr>\n",
       "      <th>13</th>\n",
       "      <td>llama3</td>\n",
       "      <td>../../metrics/knowledge_tests/obrazovaka/crime...</td>\n",
       "      <td>7</td>\n",
       "      <td>16</td>\n",
       "      <td>43.75</td>\n",
       "    </tr>\n",
       "    <tr>\n",
       "      <th>14</th>\n",
       "      <td>llama3</td>\n",
       "      <td>../../metrics/knowledge_tests/obrazovaka/anna_...</td>\n",
       "      <td>4</td>\n",
       "      <td>10</td>\n",
       "      <td>40.00</td>\n",
       "    </tr>\n",
       "  </tbody>\n",
       "</table>\n",
       "</div>"
      ],
      "text/plain": [
       "     model                                          test_path  num_ok  \\\n",
       "0   llama2  ../../metrics/knowledge_tests/obrazovaka/the_d...       3   \n",
       "1   llama2  ../../metrics/knowledge_tests/obrazovaka/the_b...       1   \n",
       "2   llama2  ../../metrics/knowledge_tests/obrazovaka/and_q...       6   \n",
       "3   llama2  ../../metrics/knowledge_tests/obrazovaka/oblom...       7   \n",
       "4   llama2  ../../metrics/knowledge_tests/obrazovaka/eveni...       1   \n",
       "5   llama2  ../../metrics/knowledge_tests/obrazovaka/docto...       3   \n",
       "6   llama2  ../../metrics/knowledge_tests/obrazovaka/war_a...      17   \n",
       "7   llama2  ../../metrics/knowledge_tests/obrazovaka/the_m...       4   \n",
       "8   llama2  ../../metrics/knowledge_tests/obrazovaka/dead_...       4   \n",
       "9   llama2  ../../metrics/knowledge_tests/obrazovaka/the_g...       2   \n",
       "10  llama2  ../../metrics/knowledge_tests/obrazovaka/the_w...       3   \n",
       "11  llama2  ../../metrics/knowledge_tests/obrazovaka/the_h...       6   \n",
       "12  llama2  ../../metrics/knowledge_tests/obrazovaka/idiot...       3   \n",
       "13  llama2  ../../metrics/knowledge_tests/obrazovaka/crime...       5   \n",
       "14  llama2  ../../metrics/knowledge_tests/obrazovaka/anna_...       2   \n",
       "0   llama3  ../../metrics/knowledge_tests/obrazovaka/the_d...       3   \n",
       "1   llama3  ../../metrics/knowledge_tests/obrazovaka/the_b...       5   \n",
       "2   llama3  ../../metrics/knowledge_tests/obrazovaka/and_q...       6   \n",
       "3   llama3  ../../metrics/knowledge_tests/obrazovaka/oblom...      12   \n",
       "4   llama3  ../../metrics/knowledge_tests/obrazovaka/eveni...       2   \n",
       "5   llama3  ../../metrics/knowledge_tests/obrazovaka/docto...       2   \n",
       "6   llama3  ../../metrics/knowledge_tests/obrazovaka/war_a...      38   \n",
       "7   llama3  ../../metrics/knowledge_tests/obrazovaka/the_m...       5   \n",
       "8   llama3  ../../metrics/knowledge_tests/obrazovaka/dead_...       9   \n",
       "9   llama3  ../../metrics/knowledge_tests/obrazovaka/the_g...       7   \n",
       "10  llama3  ../../metrics/knowledge_tests/obrazovaka/the_w...       2   \n",
       "11  llama3  ../../metrics/knowledge_tests/obrazovaka/the_h...      12   \n",
       "12  llama3  ../../metrics/knowledge_tests/obrazovaka/idiot...       4   \n",
       "13  llama3  ../../metrics/knowledge_tests/obrazovaka/crime...       7   \n",
       "14  llama3  ../../metrics/knowledge_tests/obrazovaka/anna_...       4   \n",
       "\n",
       "    num_all  percent  \n",
       "0        16    18.75  \n",
       "1        10    10.00  \n",
       "2        18    33.33  \n",
       "3        19    36.84  \n",
       "4        10    10.00  \n",
       "5        13    23.08  \n",
       "6        70    24.29  \n",
       "7        16    25.00  \n",
       "8        19    21.05  \n",
       "9        10    20.00  \n",
       "10       10    30.00  \n",
       "11       30    20.00  \n",
       "12       12    25.00  \n",
       "13       16    31.25  \n",
       "14       10    20.00  \n",
       "0        16    18.75  \n",
       "1        10    50.00  \n",
       "2        18    33.33  \n",
       "3        19    63.16  \n",
       "4        10    20.00  \n",
       "5        13    15.38  \n",
       "6        70    54.29  \n",
       "7        16    31.25  \n",
       "8        19    47.37  \n",
       "9        10    70.00  \n",
       "10       10    20.00  \n",
       "11       30    40.00  \n",
       "12       12    33.33  \n",
       "13       16    43.75  \n",
       "14       10    40.00  "
      ]
     },
     "execution_count": 52,
     "metadata": {},
     "output_type": "execute_result"
    }
   ],
   "source": [
    "init_df = pd.read_csv(\"../../metrics/knowledge_tests/obrazovaka/full_results.csv\")\n",
    "full_df = pd.concat((init_df, df))\n",
    "full_df"
   ]
  },
  {
   "cell_type": "code",
   "execution_count": 53,
   "metadata": {},
   "outputs": [],
   "source": [
    "full_df.to_csv(\"../../metrics/knowledge_tests/obrazovaka/full_results.csv\", index=False)"
   ]
  },
  {
   "cell_type": "markdown",
   "metadata": {},
   "source": [
    "### Plot some graphics with metrics"
   ]
  },
  {
   "cell_type": "code",
   "execution_count": 3,
   "metadata": {},
   "outputs": [
    {
     "data": {
      "text/html": [
       "<div>\n",
       "<style scoped>\n",
       "    .dataframe tbody tr th:only-of-type {\n",
       "        vertical-align: middle;\n",
       "    }\n",
       "\n",
       "    .dataframe tbody tr th {\n",
       "        vertical-align: top;\n",
       "    }\n",
       "\n",
       "    .dataframe thead th {\n",
       "        text-align: right;\n",
       "    }\n",
       "</style>\n",
       "<table border=\"1\" class=\"dataframe\">\n",
       "  <thead>\n",
       "    <tr style=\"text-align: right;\">\n",
       "      <th></th>\n",
       "      <th>model</th>\n",
       "      <th>test_path</th>\n",
       "      <th>num_ok</th>\n",
       "      <th>num_all</th>\n",
       "      <th>percent</th>\n",
       "    </tr>\n",
       "  </thead>\n",
       "  <tbody>\n",
       "    <tr>\n",
       "      <th>0</th>\n",
       "      <td>llama2</td>\n",
       "      <td>../../metrics/knowledge_tests/obrazovaka/the_d...</td>\n",
       "      <td>3</td>\n",
       "      <td>16</td>\n",
       "      <td>18.75</td>\n",
       "    </tr>\n",
       "    <tr>\n",
       "      <th>1</th>\n",
       "      <td>llama2</td>\n",
       "      <td>../../metrics/knowledge_tests/obrazovaka/the_b...</td>\n",
       "      <td>1</td>\n",
       "      <td>10</td>\n",
       "      <td>10.00</td>\n",
       "    </tr>\n",
       "    <tr>\n",
       "      <th>2</th>\n",
       "      <td>llama2</td>\n",
       "      <td>../../metrics/knowledge_tests/obrazovaka/and_q...</td>\n",
       "      <td>6</td>\n",
       "      <td>18</td>\n",
       "      <td>33.33</td>\n",
       "    </tr>\n",
       "    <tr>\n",
       "      <th>3</th>\n",
       "      <td>llama2</td>\n",
       "      <td>../../metrics/knowledge_tests/obrazovaka/oblom...</td>\n",
       "      <td>7</td>\n",
       "      <td>19</td>\n",
       "      <td>36.84</td>\n",
       "    </tr>\n",
       "    <tr>\n",
       "      <th>4</th>\n",
       "      <td>llama2</td>\n",
       "      <td>../../metrics/knowledge_tests/obrazovaka/eveni...</td>\n",
       "      <td>1</td>\n",
       "      <td>10</td>\n",
       "      <td>10.00</td>\n",
       "    </tr>\n",
       "    <tr>\n",
       "      <th>5</th>\n",
       "      <td>llama2</td>\n",
       "      <td>../../metrics/knowledge_tests/obrazovaka/docto...</td>\n",
       "      <td>3</td>\n",
       "      <td>13</td>\n",
       "      <td>23.08</td>\n",
       "    </tr>\n",
       "    <tr>\n",
       "      <th>6</th>\n",
       "      <td>llama2</td>\n",
       "      <td>../../metrics/knowledge_tests/obrazovaka/war_a...</td>\n",
       "      <td>17</td>\n",
       "      <td>70</td>\n",
       "      <td>24.29</td>\n",
       "    </tr>\n",
       "    <tr>\n",
       "      <th>7</th>\n",
       "      <td>llama2</td>\n",
       "      <td>../../metrics/knowledge_tests/obrazovaka/the_m...</td>\n",
       "      <td>4</td>\n",
       "      <td>16</td>\n",
       "      <td>25.00</td>\n",
       "    </tr>\n",
       "    <tr>\n",
       "      <th>8</th>\n",
       "      <td>llama2</td>\n",
       "      <td>../../metrics/knowledge_tests/obrazovaka/dead_...</td>\n",
       "      <td>4</td>\n",
       "      <td>19</td>\n",
       "      <td>21.05</td>\n",
       "    </tr>\n",
       "    <tr>\n",
       "      <th>9</th>\n",
       "      <td>llama2</td>\n",
       "      <td>../../metrics/knowledge_tests/obrazovaka/the_g...</td>\n",
       "      <td>2</td>\n",
       "      <td>10</td>\n",
       "      <td>20.00</td>\n",
       "    </tr>\n",
       "    <tr>\n",
       "      <th>10</th>\n",
       "      <td>llama2</td>\n",
       "      <td>../../metrics/knowledge_tests/obrazovaka/the_w...</td>\n",
       "      <td>3</td>\n",
       "      <td>10</td>\n",
       "      <td>30.00</td>\n",
       "    </tr>\n",
       "    <tr>\n",
       "      <th>11</th>\n",
       "      <td>llama2</td>\n",
       "      <td>../../metrics/knowledge_tests/obrazovaka/the_h...</td>\n",
       "      <td>6</td>\n",
       "      <td>30</td>\n",
       "      <td>20.00</td>\n",
       "    </tr>\n",
       "    <tr>\n",
       "      <th>12</th>\n",
       "      <td>llama2</td>\n",
       "      <td>../../metrics/knowledge_tests/obrazovaka/idiot...</td>\n",
       "      <td>3</td>\n",
       "      <td>12</td>\n",
       "      <td>25.00</td>\n",
       "    </tr>\n",
       "    <tr>\n",
       "      <th>13</th>\n",
       "      <td>llama2</td>\n",
       "      <td>../../metrics/knowledge_tests/obrazovaka/crime...</td>\n",
       "      <td>5</td>\n",
       "      <td>16</td>\n",
       "      <td>31.25</td>\n",
       "    </tr>\n",
       "    <tr>\n",
       "      <th>14</th>\n",
       "      <td>llama2</td>\n",
       "      <td>../../metrics/knowledge_tests/obrazovaka/anna_...</td>\n",
       "      <td>2</td>\n",
       "      <td>10</td>\n",
       "      <td>20.00</td>\n",
       "    </tr>\n",
       "    <tr>\n",
       "      <th>15</th>\n",
       "      <td>llama3</td>\n",
       "      <td>../../metrics/knowledge_tests/obrazovaka/the_d...</td>\n",
       "      <td>3</td>\n",
       "      <td>16</td>\n",
       "      <td>18.75</td>\n",
       "    </tr>\n",
       "    <tr>\n",
       "      <th>16</th>\n",
       "      <td>llama3</td>\n",
       "      <td>../../metrics/knowledge_tests/obrazovaka/the_b...</td>\n",
       "      <td>5</td>\n",
       "      <td>10</td>\n",
       "      <td>50.00</td>\n",
       "    </tr>\n",
       "    <tr>\n",
       "      <th>17</th>\n",
       "      <td>llama3</td>\n",
       "      <td>../../metrics/knowledge_tests/obrazovaka/and_q...</td>\n",
       "      <td>6</td>\n",
       "      <td>18</td>\n",
       "      <td>33.33</td>\n",
       "    </tr>\n",
       "    <tr>\n",
       "      <th>18</th>\n",
       "      <td>llama3</td>\n",
       "      <td>../../metrics/knowledge_tests/obrazovaka/oblom...</td>\n",
       "      <td>12</td>\n",
       "      <td>19</td>\n",
       "      <td>63.16</td>\n",
       "    </tr>\n",
       "    <tr>\n",
       "      <th>19</th>\n",
       "      <td>llama3</td>\n",
       "      <td>../../metrics/knowledge_tests/obrazovaka/eveni...</td>\n",
       "      <td>2</td>\n",
       "      <td>10</td>\n",
       "      <td>20.00</td>\n",
       "    </tr>\n",
       "    <tr>\n",
       "      <th>20</th>\n",
       "      <td>llama3</td>\n",
       "      <td>../../metrics/knowledge_tests/obrazovaka/docto...</td>\n",
       "      <td>2</td>\n",
       "      <td>13</td>\n",
       "      <td>15.38</td>\n",
       "    </tr>\n",
       "    <tr>\n",
       "      <th>21</th>\n",
       "      <td>llama3</td>\n",
       "      <td>../../metrics/knowledge_tests/obrazovaka/war_a...</td>\n",
       "      <td>38</td>\n",
       "      <td>70</td>\n",
       "      <td>54.29</td>\n",
       "    </tr>\n",
       "    <tr>\n",
       "      <th>22</th>\n",
       "      <td>llama3</td>\n",
       "      <td>../../metrics/knowledge_tests/obrazovaka/the_m...</td>\n",
       "      <td>5</td>\n",
       "      <td>16</td>\n",
       "      <td>31.25</td>\n",
       "    </tr>\n",
       "    <tr>\n",
       "      <th>23</th>\n",
       "      <td>llama3</td>\n",
       "      <td>../../metrics/knowledge_tests/obrazovaka/dead_...</td>\n",
       "      <td>9</td>\n",
       "      <td>19</td>\n",
       "      <td>47.37</td>\n",
       "    </tr>\n",
       "    <tr>\n",
       "      <th>24</th>\n",
       "      <td>llama3</td>\n",
       "      <td>../../metrics/knowledge_tests/obrazovaka/the_g...</td>\n",
       "      <td>7</td>\n",
       "      <td>10</td>\n",
       "      <td>70.00</td>\n",
       "    </tr>\n",
       "    <tr>\n",
       "      <th>25</th>\n",
       "      <td>llama3</td>\n",
       "      <td>../../metrics/knowledge_tests/obrazovaka/the_w...</td>\n",
       "      <td>2</td>\n",
       "      <td>10</td>\n",
       "      <td>20.00</td>\n",
       "    </tr>\n",
       "    <tr>\n",
       "      <th>26</th>\n",
       "      <td>llama3</td>\n",
       "      <td>../../metrics/knowledge_tests/obrazovaka/the_h...</td>\n",
       "      <td>12</td>\n",
       "      <td>30</td>\n",
       "      <td>40.00</td>\n",
       "    </tr>\n",
       "    <tr>\n",
       "      <th>27</th>\n",
       "      <td>llama3</td>\n",
       "      <td>../../metrics/knowledge_tests/obrazovaka/idiot...</td>\n",
       "      <td>4</td>\n",
       "      <td>12</td>\n",
       "      <td>33.33</td>\n",
       "    </tr>\n",
       "    <tr>\n",
       "      <th>28</th>\n",
       "      <td>llama3</td>\n",
       "      <td>../../metrics/knowledge_tests/obrazovaka/crime...</td>\n",
       "      <td>7</td>\n",
       "      <td>16</td>\n",
       "      <td>43.75</td>\n",
       "    </tr>\n",
       "    <tr>\n",
       "      <th>29</th>\n",
       "      <td>llama3</td>\n",
       "      <td>../../metrics/knowledge_tests/obrazovaka/anna_...</td>\n",
       "      <td>4</td>\n",
       "      <td>10</td>\n",
       "      <td>40.00</td>\n",
       "    </tr>\n",
       "  </tbody>\n",
       "</table>\n",
       "</div>"
      ],
      "text/plain": [
       "     model                                          test_path  num_ok  \\\n",
       "0   llama2  ../../metrics/knowledge_tests/obrazovaka/the_d...       3   \n",
       "1   llama2  ../../metrics/knowledge_tests/obrazovaka/the_b...       1   \n",
       "2   llama2  ../../metrics/knowledge_tests/obrazovaka/and_q...       6   \n",
       "3   llama2  ../../metrics/knowledge_tests/obrazovaka/oblom...       7   \n",
       "4   llama2  ../../metrics/knowledge_tests/obrazovaka/eveni...       1   \n",
       "5   llama2  ../../metrics/knowledge_tests/obrazovaka/docto...       3   \n",
       "6   llama2  ../../metrics/knowledge_tests/obrazovaka/war_a...      17   \n",
       "7   llama2  ../../metrics/knowledge_tests/obrazovaka/the_m...       4   \n",
       "8   llama2  ../../metrics/knowledge_tests/obrazovaka/dead_...       4   \n",
       "9   llama2  ../../metrics/knowledge_tests/obrazovaka/the_g...       2   \n",
       "10  llama2  ../../metrics/knowledge_tests/obrazovaka/the_w...       3   \n",
       "11  llama2  ../../metrics/knowledge_tests/obrazovaka/the_h...       6   \n",
       "12  llama2  ../../metrics/knowledge_tests/obrazovaka/idiot...       3   \n",
       "13  llama2  ../../metrics/knowledge_tests/obrazovaka/crime...       5   \n",
       "14  llama2  ../../metrics/knowledge_tests/obrazovaka/anna_...       2   \n",
       "15  llama3  ../../metrics/knowledge_tests/obrazovaka/the_d...       3   \n",
       "16  llama3  ../../metrics/knowledge_tests/obrazovaka/the_b...       5   \n",
       "17  llama3  ../../metrics/knowledge_tests/obrazovaka/and_q...       6   \n",
       "18  llama3  ../../metrics/knowledge_tests/obrazovaka/oblom...      12   \n",
       "19  llama3  ../../metrics/knowledge_tests/obrazovaka/eveni...       2   \n",
       "20  llama3  ../../metrics/knowledge_tests/obrazovaka/docto...       2   \n",
       "21  llama3  ../../metrics/knowledge_tests/obrazovaka/war_a...      38   \n",
       "22  llama3  ../../metrics/knowledge_tests/obrazovaka/the_m...       5   \n",
       "23  llama3  ../../metrics/knowledge_tests/obrazovaka/dead_...       9   \n",
       "24  llama3  ../../metrics/knowledge_tests/obrazovaka/the_g...       7   \n",
       "25  llama3  ../../metrics/knowledge_tests/obrazovaka/the_w...       2   \n",
       "26  llama3  ../../metrics/knowledge_tests/obrazovaka/the_h...      12   \n",
       "27  llama3  ../../metrics/knowledge_tests/obrazovaka/idiot...       4   \n",
       "28  llama3  ../../metrics/knowledge_tests/obrazovaka/crime...       7   \n",
       "29  llama3  ../../metrics/knowledge_tests/obrazovaka/anna_...       4   \n",
       "\n",
       "    num_all  percent  \n",
       "0        16    18.75  \n",
       "1        10    10.00  \n",
       "2        18    33.33  \n",
       "3        19    36.84  \n",
       "4        10    10.00  \n",
       "5        13    23.08  \n",
       "6        70    24.29  \n",
       "7        16    25.00  \n",
       "8        19    21.05  \n",
       "9        10    20.00  \n",
       "10       10    30.00  \n",
       "11       30    20.00  \n",
       "12       12    25.00  \n",
       "13       16    31.25  \n",
       "14       10    20.00  \n",
       "15       16    18.75  \n",
       "16       10    50.00  \n",
       "17       18    33.33  \n",
       "18       19    63.16  \n",
       "19       10    20.00  \n",
       "20       13    15.38  \n",
       "21       70    54.29  \n",
       "22       16    31.25  \n",
       "23       19    47.37  \n",
       "24       10    70.00  \n",
       "25       10    20.00  \n",
       "26       30    40.00  \n",
       "27       12    33.33  \n",
       "28       16    43.75  \n",
       "29       10    40.00  "
      ]
     },
     "execution_count": 3,
     "metadata": {},
     "output_type": "execute_result"
    }
   ],
   "source": [
    "df = pd.read_csv(\"../../metrics/knowledge_tests/obrazovaka/full_results.csv\")\n",
    "df"
   ]
  },
  {
   "cell_type": "code",
   "execution_count": 12,
   "metadata": {},
   "outputs": [
    {
     "data": {
      "image/png": "[encoded data removed]",
      "text/plain": [
       "<Figure size 640x480 with 1 Axes>"
      ]
     },
     "metadata": {},
     "output_type": "display_data"
    }
   ],
   "source": [
    "import matplotlib.pyplot as plt\n",
    "\n",
    "df.boxplot(\"percent\", by=\"model\")\n",
    "plt.show()"
   ]
  },
  {
   "cell_type": "markdown",
   "metadata": {},
   "source": [
    "### Plot graphics with tests"
   ]
  },
  {
   "cell_type": "code",
   "execution_count": 13,
   "metadata": {},
   "outputs": [],
   "source": [
    "tests_dir_path = Path(\"../../metrics/knowledge_tests/obrazovaka/\")\n",
    "num_questions_in_test = set()\n",
    "test_lengths = []\n",
    "for file in tests_dir_path.glob(\"*.json\"):\n",
    "    with open(file, \"r\") as f:\n",
    "        test = json.load(f)\n",
    "    test_lengths.append(len(test))\n",
    "    for entry in test:\n",
    "        num_questions_in_test.add(len(entry[\"answers\"]))"
   ]
  },
  {
   "cell_type": "code",
   "execution_count": 39,
   "metadata": {},
   "outputs": [
    {
     "data": {
      "text/plain": [
       "18.6"
      ]
     },
     "execution_count": 39,
     "metadata": {},
     "output_type": "execute_result"
    }
   ],
   "source": [
    "np.mean(test_lengths)"
   ]
  },
  {
   "cell_type": "code",
   "execution_count": 42,
   "metadata": {},
   "outputs": [
    {
     "data": {
      "image/png": "[encoded data removed]",
      "text/plain": [
       "<Figure size 500x100 with 1 Axes>"
      ]
     },
     "metadata": {},
     "output_type": "display_data"
    }
   ],
   "source": [
    "import matplotlib.pyplot as plt\n",
    "\n",
    "plt.figure(figsize=(5, 1))\n",
    "plt.boxplot(test_lengths, vert=False, widths=0.05, notch=True)\n",
    "plt.ylim(ymin=0.75, ymax=1.25)\n",
    "plt.title(\"Распределение количества вопросов в тестах\")\n",
    "plt.show()"
   ]
  },
  {
   "cell_type": "code",
   "execution_count": null,
   "metadata": {},
   "outputs": [],
   "source": []
  }
 ],
 "metadata": {
  "kernelspec": {
   "display_name": "Python 3",
   "language": "python",
   "name": "python3"
  },
  "language_info": {
   "codemirror_mode": {
    "name": "ipython",
    "version": 3
   },
   "file_extension": ".py",
   "mimetype": "text/x-python",
   "name": "python",
   "nbconvert_exporter": "python",
   "pygments_lexer": "ipython3",
   "version": "3.11.5"
  }
 },
 "nbformat": 4,
 "nbformat_minor": 2
}
