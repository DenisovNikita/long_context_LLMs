{
 "cells": [
  {
   "cell_type": "markdown",
   "metadata": {},
   "source": [
    "### Imports & Definitions"
   ]
  },
  {
   "cell_type": "code",
   "execution_count": 29,
   "metadata": {},
   "outputs": [],
   "source": [
    "import sys\n",
    "sys.path.append(\"../../utils\")\n",
    "from definitions import *"
   ]
  },
  {
   "cell_type": "markdown",
   "metadata": {},
   "source": [
    "### Try to calculate confidence intervals"
   ]
  },
  {
   "cell_type": "code",
   "execution_count": 20,
   "metadata": {},
   "outputs": [],
   "source": [
    "import scipy.stats as st\n",
    "import numpy as np\n",
    "\n",
    "\n",
    "fb_data = [10, 11, 10, 14, 16, 24, 10, 6, 8, 10, 11, 27, 28, 21, 13, 10, 6, 7, 8, 10]\n",
    "l, r = st.t.interval(\n",
    "    0.95, len(fb_data) - 1, loc=np.mean(fb_data), scale=st.sem(fb_data)\n",
    ")"
   ]
  },
  {
   "cell_type": "code",
   "execution_count": 25,
   "metadata": {},
   "outputs": [],
   "source": [
    "def get_confidence_interval(samples, alpha):\n",
    "    return st.t.interval(\n",
    "        alpha, len(samples) - 1, loc=np.mean(samples), scale=st.sem(samples)\n",
    "    )"
   ]
  },
  {
   "cell_type": "code",
   "execution_count": 21,
   "metadata": {},
   "outputs": [
    {
     "data": {
      "image/png": "[encoded data removed]",
      "text/plain": [
       "<Figure size 640x480 with 1 Axes>"
      ]
     },
     "metadata": {},
     "output_type": "display_data"
    }
   ],
   "source": [
    "from matplotlib import pyplot as plt\n",
    "\n",
    "\n",
    "plt.plot(np.arange(len(fb_data)), fb_data)\n",
    "plt.hlines([l, r], xmin=0, xmax=30)\n",
    "plt.show()"
   ]
  },
  {
   "cell_type": "markdown",
   "metadata": {},
   "source": [
    "### View rummlu metric"
   ]
  },
  {
   "cell_type": "code",
   "execution_count": 33,
   "metadata": {},
   "outputs": [],
   "source": [
    "rummlu = load_from_disk(DATASETS_DIR_PATH.joinpath(\"rummlu/mera/public_test\").as_posix())"
   ]
  },
  {
   "cell_type": "code",
   "execution_count": 38,
   "metadata": {},
   "outputs": [],
   "source": [
    "rummlu_answers = [x[\"outputs\"] for x in rummlu]"
   ]
  },
  {
   "cell_type": "code",
   "execution_count": 58,
   "metadata": {},
   "outputs": [],
   "source": [
    "with open(METRICS_DIR_PATH.joinpath(\"rummlu/mera/public_test/learnt/answers.jsonl\"), \"r\") as f:\n",
    "    rummlu_lora_1 = json.load(f)"
   ]
  },
  {
   "cell_type": "code",
   "execution_count": 59,
   "metadata": {},
   "outputs": [],
   "source": [
    "rummlu_lora_1_answers = [x[\"answer\"] for x in rummlu_lora_1]"
   ]
  },
  {
   "cell_type": "code",
   "execution_count": 60,
   "metadata": {},
   "outputs": [],
   "source": [
    "def print_mean_and_interval(n, k):\n",
    "    z = 1.96\n",
    "    p = k / n\n",
    "    return p, z * np.sqrt(p * (1 - p) / n)"
   ]
  },
  {
   "cell_type": "code",
   "execution_count": 61,
   "metadata": {},
   "outputs": [
    {
     "data": {
      "text/plain": [
       "(0.29672082128974386, 0.008938786334366317)"
      ]
     },
     "execution_count": 61,
     "metadata": {},
     "output_type": "execute_result"
    }
   ],
   "source": [
    "n = len(rummlu_answers)\n",
    "k = sum(np.array(rummlu_answers) == np.array(rummlu_lora_1_answers))\n",
    "z = 1.96\n",
    "p = k / n\n",
    "p, z * np.sqrt(p * (1 - p) / n)"
   ]
  },
  {
   "cell_type": "code",
   "execution_count": 42,
   "metadata": {},
   "outputs": [
    {
     "data": {
      "text/plain": [
       "(10033, 2985)"
      ]
     },
     "execution_count": 42,
     "metadata": {},
     "output_type": "execute_result"
    }
   ],
   "source": [
    "len(rummlu_answers), sum(np.array(rummlu_answers) == np.array(rummlu_lora_1_answers))"
   ]
  },
  {
   "cell_type": "code",
   "execution_count": 43,
   "metadata": {},
   "outputs": [
    {
     "data": {
      "text/plain": [
       "(10033, 3021)"
      ]
     },
     "execution_count": 43,
     "metadata": {},
     "output_type": "execute_result"
    }
   ],
   "source": [
    "with open(METRICS_DIR_PATH.joinpath(\"rummlu/mera/public_test/llama-2-7b/answers.jsonl\"), \"r\") as f:\n",
    "    rummlu_llama = json.load(f)\n",
    "rummlu_llama_answers = [x[\"answer\"] for x in rummlu_llama]\n",
    "len(rummlu_answers), sum(np.array(rummlu_answers) == np.array(rummlu_llama_answers))"
   ]
  },
  {
   "cell_type": "code",
   "execution_count": 46,
   "metadata": {},
   "outputs": [
    {
     "data": {
      "text/plain": [
       "(0.30110634904814115, 0.008976482102863302)"
      ]
     },
     "execution_count": 46,
     "metadata": {},
     "output_type": "execute_result"
    }
   ],
   "source": [
    "print_mean_and_interval(len(rummlu_answers), sum(np.array(rummlu_answers) == np.array(rummlu_llama_answers)))"
   ]
  },
  {
   "cell_type": "markdown",
   "metadata": {},
   "source": [
    "### View ruopenbookqa metric"
   ]
  },
  {
   "cell_type": "code",
   "execution_count": 48,
   "metadata": {},
   "outputs": [],
   "source": [
    "ruopenbookqa = load_from_disk(DATASETS_DIR_PATH.joinpath(\"ruopenbookqa/mera/train\").as_posix())\n",
    "ruopenbookqa_answers = [x[\"outputs\"] for x in ruopenbookqa]"
   ]
  },
  {
   "cell_type": "code",
   "execution_count": 54,
   "metadata": {},
   "outputs": [
    {
     "data": {
      "text/plain": [
       "(0.262617621899059, 0.017837834385961218)"
      ]
     },
     "execution_count": 54,
     "metadata": {},
     "output_type": "execute_result"
    }
   ],
   "source": [
    "with open(METRICS_DIR_PATH.joinpath(\"ruopenbookqa/mera/train/llama-2-7b/answers.jsonl\"), \"r\") as f:\n",
    "    ruopenbookqa_llama = json.load(f)\n",
    "ruopenbookqa_llama_answers = [x[\"answer\"] for x in ruopenbookqa_llama]\n",
    "print_mean_and_interval(len(ruopenbookqa_answers), sum(np.array(ruopenbookqa_answers) == np.array(ruopenbookqa_llama_answers)))"
   ]
  },
  {
   "cell_type": "code",
   "execution_count": 57,
   "metadata": {},
   "outputs": [
    {
     "data": {
      "text/plain": [
       "(0.2831479897348161, 0.018262293280431018)"
      ]
     },
     "execution_count": 57,
     "metadata": {},
     "output_type": "execute_result"
    }
   ],
   "source": [
    "with open(METRICS_DIR_PATH.joinpath(\"ruopenbookqa/mera/train/learnt/answers.jsonl\"), \"r\") as f:\n",
    "    ruopenbookqa_lora_1 = json.load(f)\n",
    "ruopenbookqa_lora_1_answers = [x[\"answer\"] for x in ruopenbookqa_lora_1]\n",
    "print_mean_and_interval(len(ruopenbookqa_answers), sum(np.array(ruopenbookqa_answers) == np.array(ruopenbookqa_lora_1_answers)))"
   ]
  },
  {
   "cell_type": "markdown",
   "metadata": {},
   "source": [
    "### View assessors metric"
   ]
  },
  {
   "cell_type": "code",
   "execution_count": 71,
   "metadata": {},
   "outputs": [],
   "source": [
    "with open(DATASETS_DIR_PATH.joinpath(\"diplomas_asessors_questions/mcs_df_human_filled_processed.json\"), \"r\") as f:\n",
    "    assessors = json.load(f)\n",
    "assessors_answers = [x[\"outputs\"] for x in assessors]"
   ]
  },
  {
   "cell_type": "code",
   "execution_count": 87,
   "metadata": {},
   "outputs": [],
   "source": [
    "with open(METRICS_DIR_PATH.joinpath(\"diplomas_asessors_questions/lora_v1_correct_run_abstract_appended/llama-2-7b/answers_appended.jsons\"), \"r\") as f:\n",
    "    assessors_lora_v1_abstract = [json.loads(x) for x in f.readlines()]\n",
    "assessors_lora_v1_abstract_answers = [x[\"answer\"] for x in assessors_lora_v1_abstract]"
   ]
  },
  {
   "cell_type": "code",
   "execution_count": 88,
   "metadata": {},
   "outputs": [
    {
     "data": {
      "text/plain": [
       "(0.3142857142857143, 0.10875293099498513)"
      ]
     },
     "execution_count": 88,
     "metadata": {},
     "output_type": "execute_result"
    }
   ],
   "source": [
    "print_mean_and_interval(len(assessors_answers), sum(np.array(assessors_answers) == np.array(assessors_lora_v1_abstract_answers)))"
   ]
  },
  {
   "cell_type": "code",
   "execution_count": 89,
   "metadata": {},
   "outputs": [
    {
     "data": {
      "text/plain": [
       "22"
      ]
     },
     "execution_count": 89,
     "metadata": {},
     "output_type": "execute_result"
    }
   ],
   "source": [
    "sum(np.array(assessors_answers) == np.array(assessors_lora_v1_abstract_answers))"
   ]
  },
  {
   "cell_type": "code",
   "execution_count": 83,
   "metadata": {},
   "outputs": [
    {
     "data": {
      "text/plain": [
       "(0.3142857142857143, 0.10875293099498513)"
      ]
     },
     "execution_count": 83,
     "metadata": {},
     "output_type": "execute_result"
    }
   ],
   "source": [
    "with open(METRICS_DIR_PATH.joinpath(\"diplomas_asessors_questions/lora_v1_correct_run_diploma_appended/llama-2-7b/answers_appended.jsons\"), \"r\") as f:\n",
    "    assessors_lora_v1_diploma = [json.loads(x) for x in f.readlines()]\n",
    "assessors_lora_v1_diploma_answers = [x[\"answer\"] for x in assessors_lora_v1_diploma]\n",
    "print_mean_and_interval(len(assessors_answers), sum(np.array(assessors_answers) == np.array(assessors_lora_v1_diploma_answers)))"
   ]
  },
  {
   "cell_type": "code",
   "execution_count": 85,
   "metadata": {},
   "outputs": [
    {
     "data": {
      "text/plain": [
       "22"
      ]
     },
     "execution_count": 85,
     "metadata": {},
     "output_type": "execute_result"
    }
   ],
   "source": [
    "sum(np.array(assessors_answers) == np.array(assessors_lora_v1_diploma_answers))"
   ]
  },
  {
   "cell_type": "code",
   "execution_count": 91,
   "metadata": {},
   "outputs": [
    {
     "data": {
      "text/plain": [
       "(0.24285714285714285, 0.10045496503408878)"
      ]
     },
     "execution_count": 91,
     "metadata": {},
     "output_type": "execute_result"
    }
   ],
   "source": [
    "with open(METRICS_DIR_PATH.joinpath(\"diplomas_asessors_questions/lora_v1_correct_run_raw_model_v2_appended/llama-2-7b/answers_appended.jsons\"), \"r\") as f:\n",
    "    assessors_lora_v1_begin = [json.loads(x) for x in f.readlines()]\n",
    "assessors_lora_v1_begin_answers = [x[\"answer\"] for x in assessors_lora_v1_begin]\n",
    "print_mean_and_interval(len(assessors_answers), sum(np.array(assessors_answers) == np.array(assessors_lora_v1_begin_answers)))"
   ]
  },
  {
   "cell_type": "code",
   "execution_count": 92,
   "metadata": {},
   "outputs": [
    {
     "data": {
      "text/plain": [
       "(0.35714285714285715, 0.11224972160321824)"
      ]
     },
     "execution_count": 92,
     "metadata": {},
     "output_type": "execute_result"
    }
   ],
   "source": [
    "with open(METRICS_DIR_PATH.joinpath(\"diplomas_asessors_questions/lora_v1_correct_run_learnt_appended/llama-2-7b/answers_appended.jsons\"), \"r\") as f:\n",
    "    assessors_lora_v1_begin = [json.loads(x) for x in f.readlines()]\n",
    "assessors_lora_v1_begin_answers = [x[\"answer\"] for x in assessors_lora_v1_begin]\n",
    "print_mean_and_interval(len(assessors_answers), sum(np.array(assessors_answers) == np.array(assessors_lora_v1_begin_answers)))"
   ]
  },
  {
   "cell_type": "code",
   "execution_count": 95,
   "metadata": {},
   "outputs": [
    {
     "data": {
      "text/plain": [
       "(0.6142857142857143, 0.11403157457476415)"
      ]
     },
     "execution_count": 95,
     "metadata": {},
     "output_type": "execute_result"
    }
   ],
   "source": [
    "with open(METRICS_DIR_PATH.joinpath(\"diplomas_asessors_questions/abstract/llama-2-7b/answers.jsonl\"), \"r\") as f:\n",
    "    assessors_lora_v1_begin = json.load(f) # [json.loads(x) for x in f.readlines()]\n",
    "assessors_lora_v1_begin_answers = [x[\"answer\"] for x in assessors_lora_v1_begin]\n",
    "print_mean_and_interval(len(assessors_answers), sum(np.array(assessors_answers) == np.array(assessors_lora_v1_begin_answers)))"
   ]
  },
  {
   "cell_type": "code",
   "execution_count": 102,
   "metadata": {},
   "outputs": [
    {
     "data": {
      "text/plain": [
       "(0.17142857142857143, 0.08829042983245693)"
      ]
     },
     "execution_count": 102,
     "metadata": {},
     "output_type": "execute_result"
    }
   ],
   "source": [
    "with open(METRICS_DIR_PATH.joinpath(\"diplomas_asessors_questions/diploma_appended/llama-2-7b/answers_appended.jsons\"), \"r\") as f:\n",
    "    assessors_lora_v1_begin = [json.loads(x) for x in f.readlines()]\n",
    "with open(METRICS_DIR_PATH.joinpath(\"diplomas_asessors_questions/raw_diploma_appended/llama-2-7b/answers_appended.jsons\"), \"r\") as f:\n",
    "    assessors_lora_v1_begin_2 = [json.loads(x) for x in f.readlines()]\n",
    "assessors_lora_v1_begin_2 = assessors_lora_v1_begin + assessors_lora_v1_begin_2[22:]\n",
    "assessors_lora_v1_begin_answers = [x[\"answer\"] for x in assessors_lora_v1_begin_2]\n",
    "print_mean_and_interval(len(assessors_answers), sum(np.array(assessors_answers) == np.array(assessors_lora_v1_begin_answers)))"
   ]
  },
  {
   "cell_type": "code",
   "execution_count": 106,
   "metadata": {},
   "outputs": [
    {
     "data": {
      "text/plain": [
       "(0.35714285714285715, 0.11224972160321824)"
      ]
     },
     "execution_count": 106,
     "metadata": {},
     "output_type": "execute_result"
    }
   ],
   "source": [
    "with open(METRICS_DIR_PATH.joinpath(\"diplomas_asessors_questions/raw_model_v2_appended/llama-2-7b/answers_appended.jsons\"), \"r\") as f:\n",
    "    assessors_lora_v1_begin = [json.loads(x) for x in f.readlines()]\n",
    "assessors_lora_v1_begin_answers = [x[\"answer\"] for x in assessors_lora_v1_begin]\n",
    "print_mean_and_interval(len(assessors_answers), sum(np.array(assessors_answers) == np.array(assessors_lora_v1_begin_answers)))"
   ]
  },
  {
   "cell_type": "code",
   "execution_count": 108,
   "metadata": {},
   "outputs": [
    {
     "data": {
      "text/plain": [
       "(0.38571428571428573, 0.37142857142857144, 0.4)"
      ]
     },
     "execution_count": 108,
     "metadata": {},
     "output_type": "execute_result"
    }
   ],
   "source": [
    "27 / 70, 26 / 70, 28 / 70"
   ]
  },
  {
   "cell_type": "code",
   "execution_count": 111,
   "metadata": {},
   "outputs": [
    {
     "data": {
      "text/plain": [
       "(0.35714285714285715, 0.37142857142857144, 0.34285714285714286)"
      ]
     },
     "execution_count": 111,
     "metadata": {},
     "output_type": "execute_result"
    }
   ],
   "source": [
    "25 / 70, 26 / 70, 24 / 70"
   ]
  },
  {
   "cell_type": "code",
   "execution_count": 107,
   "metadata": {},
   "outputs": [
    {
     "data": {
      "text/plain": [
       "27.3"
      ]
     },
     "execution_count": 107,
     "metadata": {},
     "output_type": "execute_result"
    }
   ],
   "source": [
    "70 * 0.39"
   ]
  },
  {
   "cell_type": "code",
   "execution_count": 109,
   "metadata": {},
   "outputs": [
    {
     "data": {
      "text/plain": [
       "(0.38571428571428573, 0.11403157457476416)"
      ]
     },
     "execution_count": 109,
     "metadata": {},
     "output_type": "execute_result"
    }
   ],
   "source": [
    "print_mean_and_interval(70, 27)"
   ]
  },
  {
   "cell_type": "code",
   "execution_count": 112,
   "metadata": {},
   "outputs": [
    {
     "data": {
      "text/plain": [
       "(0.35714285714285715, 0.11224972160321824)"
      ]
     },
     "execution_count": 112,
     "metadata": {},
     "output_type": "execute_result"
    }
   ],
   "source": [
    "print_mean_and_interval(70, 25)"
   ]
  },
  {
   "cell_type": "code",
   "execution_count": null,
   "metadata": {},
   "outputs": [],
   "source": []
  }
 ],
 "metadata": {
  "kernelspec": {
   "display_name": "Python 3",
   "language": "python",
   "name": "python3"
  },
  "language_info": {
   "codemirror_mode": {
    "name": "ipython",
    "version": 3
   },
   "file_extension": ".py",
   "mimetype": "text/x-python",
   "name": "python",
   "nbconvert_exporter": "python",
   "pygments_lexer": "ipython3",
   "version": "3.11.9"
  }
 },
 "nbformat": 4,
 "nbformat_minor": 2
}
