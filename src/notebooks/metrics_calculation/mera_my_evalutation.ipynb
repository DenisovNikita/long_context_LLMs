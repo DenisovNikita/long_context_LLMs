{
 "cells": [
  {
   "cell_type": "markdown",
   "metadata": {},
   "source": [
    "### Imports & Definitions"
   ]
  },
  {
   "cell_type": "code",
   "execution_count": 1,
   "metadata": {},
   "outputs": [],
   "source": [
    "import sys\n",
    "sys.path.append(\"../../utils\")\n",
    "from definitions import *\n",
    "from path_helpers import get_dataset_path, get_metric_dir_path\n",
    "from mera_helpers import construct_prompt\n",
    "from huggingface_helpers import get_tokenizer, get_model\n",
    "from llm_helpers import calculate_token_interest_probs, get_answer"
   ]
  },
  {
   "cell_type": "markdown",
   "metadata": {},
   "source": [
    "### Learn to load datasets from disk"
   ]
  },
  {
   "cell_type": "code",
   "execution_count": 2,
   "metadata": {},
   "outputs": [
    {
     "name": "stdout",
     "output_type": "stream",
     "text": [
      "rummlu {'instruction': 'Задание содержит вопрос по теме {subject} и 4 варианта ответа A, B, C, D, из которых только один правильный.\\n{text}\\nA {option_a}\\nB {option_b}\\nC {option_c}\\nD {option_d}\\nЗапишите букву правильного ответа\\nОтвет:', 'inputs': {'text': 'В какой из этих двух ситуаций действующее лицо, использующее местоимения \"я\"/\"меня\"/\"мой\", нарушает нормы морали, общепринятые в США по состоянию на 2020 год? Ситуация 1 | Я оторвал голову детской игрушке. Ситуация 2 | Я узнал, что моей сестре нравится один мальчик, она не хотела, чтобы он знал, и я сохранил это в тайне.', 'option_a': 'Нарушает, Нарушает', 'option_b': 'Нарушает, Не нарушает', 'option_c': 'Не нарушает, Нарушает', 'option_d': 'Не нарушает, Не нарушает', 'subject': 'Философия'}, 'outputs': 'B', 'meta': {'domain': 'moral_scenarios', 'id': 0}}\n",
      "ruopenbookqa {'instruction': '{question}\\nA. {option_a}\\nB. {option_b}\\nC. {option_c}\\nD. {option_d}\\nКакой ответ является правильным? Запишите только букву верного варианта: A, B, C или D.\\nОтвет: ', 'inputs': {'question': 'Примером потомства, получившего генетический набор от родителей, является', 'option_a': 'маленький кротенок', 'option_b': 'маленький мешок сахара', 'option_c': 'маленькая тележка', 'option_d': 'маленький пирожок'}, 'outputs': 'A', 'meta': {'id': 0}}\n"
     ]
    }
   ],
   "source": [
    "for name, dataset_meta in HUGGINGFACE_NAME_TO_DATASET.items():\n",
    "    for subset, split in zip(dataset_meta[\"subsets\"], dataset_meta[\"splits\"]):\n",
    "        path = get_dataset_path(subset, name, split)\n",
    "        dataset = load_from_disk(path)\n",
    "        print(subset, dataset[0])"
   ]
  },
  {
   "cell_type": "code",
   "execution_count": 3,
   "metadata": {},
   "outputs": [
    {
     "data": {
      "text/plain": [
       "'Задание содержит вопрос по теме Философия и 4 варианта ответа A, B, C, D, из которых только один правильный.\\nВ какой из этих двух ситуаций действующее лицо, использующее местоимения \"я\"/\"меня\"/\"мой\", нарушает нормы морали, общепринятые в США по состоянию на 2020 год? Ситуация 1 | Я оторвал голову детской игрушке. Ситуация 2 | Я узнал, что моей сестре нравится один мальчик, она не хотела, чтобы он знал, и я сохранил это в тайне.\\nA Нарушает, Нарушает\\nB Нарушает, Не нарушает\\nC Не нарушает, Нарушает\\nD Не нарушает, Не нарушает\\nЗапишите букву правильного ответа\\nОтвет:'"
      ]
     },
     "execution_count": 3,
     "metadata": {},
     "output_type": "execute_result"
    }
   ],
   "source": [
    "rummlu = {'instruction': 'Задание содержит вопрос по теме {subject} и 4 варианта ответа A, B, C, D, из которых только один правильный.\\n{text}\\nA {option_a}\\nB {option_b}\\nC {option_c}\\nD {option_d}\\nЗапишите букву правильного ответа\\nОтвет:', 'inputs': {'text': 'В какой из этих двух ситуаций действующее лицо, использующее местоимения \"я\"/\"меня\"/\"мой\", нарушает нормы морали, общепринятые в США по состоянию на 2020 год? Ситуация 1 | Я оторвал голову детской игрушке. Ситуация 2 | Я узнал, что моей сестре нравится один мальчик, она не хотела, чтобы он знал, и я сохранил это в тайне.', 'option_a': 'Нарушает, Нарушает', 'option_b': 'Нарушает, Не нарушает', 'option_c': 'Не нарушает, Нарушает', 'option_d': 'Не нарушает, Не нарушает', 'subject': 'Философия'}, 'outputs': 'B', 'meta': {'domain': 'moral_scenarios', 'id': 0}}\n",
    "construct_prompt(rummlu)"
   ]
  },
  {
   "cell_type": "code",
   "execution_count": 4,
   "metadata": {},
   "outputs": [
    {
     "data": {
      "text/plain": [
       "'Примером потомства, получившего генетический набор от родителей, является\\nA. маленький кротенок\\nB. маленький мешок сахара\\nC. маленькая тележка\\nD. маленький пирожок\\nКакой ответ является правильным? Запишите только букву верного варианта: A, B, C или D.\\nОтвет: '"
      ]
     },
     "execution_count": 4,
     "metadata": {},
     "output_type": "execute_result"
    }
   ],
   "source": [
    "ruopenbookqa = {'instruction': '{question}\\nA. {option_a}\\nB. {option_b}\\nC. {option_c}\\nD. {option_d}\\nКакой ответ является правильным? Запишите только букву верного варианта: A, B, C или D.\\nОтвет: ', 'inputs': {'question': 'Примером потомства, получившего генетический набор от родителей, является', 'option_a': 'маленький кротенок', 'option_b': 'маленький мешок сахара', 'option_c': 'маленькая тележка', 'option_d': 'маленький пирожок'}, 'outputs': 'A', 'meta': {'id': 0}}\n",
    "construct_prompt(ruopenbookqa)"
   ]
  },
  {
   "cell_type": "markdown",
   "metadata": {},
   "source": [
    "### Learn to inference LLM on these datasets"
   ]
  },
  {
   "cell_type": "code",
   "execution_count": 7,
   "metadata": {},
   "outputs": [
    {
     "data": {
      "text/plain": [
       "'cpu'"
      ]
     },
     "execution_count": 7,
     "metadata": {},
     "output_type": "execute_result"
    }
   ],
   "source": [
    "device = 'cuda' if torch.cuda.is_available() else 'cpu'\n",
    "device"
   ]
  },
  {
   "cell_type": "code",
   "execution_count": 5,
   "metadata": {},
   "outputs": [
    {
     "data": {
      "application/vnd.jupyter.widget-view+json": {
       "model_id": "d1225c6ef0794da5ac24239a4b8be298",
       "version_major": 2,
       "version_minor": 0
      },
      "text/plain": [
       "Loading checkpoint shards:   0%|          | 0/2 [00:00<?, ?it/s]"
      ]
     },
     "metadata": {},
     "output_type": "display_data"
    },
    {
     "name": "stdout",
     "output_type": "stream",
     "text": [
      "Задание содержит вопрос по теме Философия и 4 варианта ответа A, B, C, D, из которых только один правильный.\n",
      "В какой из этих двух ситуаций действующее лицо, использующее местоимения \"я\"/\"меня\"/\"мой\", нарушает нормы морали, общепринятые в США по состоянию на 2020 год? Ситуация 1 | Я оторвал голову детской игрушке. Ситуация 2 | Я узнал, что моей сестре нравится один мальчик, она не хотела, чтобы он знал, и я сохранил это в тайне.\n",
      "A Нарушает, Нарушает\n",
      "B Нарушает, Не нарушает\n",
      "C Не нарушает, Нарушает\n",
      "D Не нарушает, Не нарушает\n",
      "Запишите букву правильного ответа\n",
      "Ответ:\n",
      "{'A': 0.08026155829429626, 'B': 0.09532341361045837, 'C': 0.09801381826400757, 'D': 0.07560519129037857}\n",
      "C\n"
     ]
    },
    {
     "data": {
      "application/vnd.jupyter.widget-view+json": {
       "model_id": "b12ca1d9403e46cabd1d77d9ff47abc4",
       "version_major": 2,
       "version_minor": 0
      },
      "text/plain": [
       "Loading checkpoint shards:   0%|          | 0/2 [00:00<?, ?it/s]"
      ]
     },
     "metadata": {},
     "output_type": "display_data"
    },
    {
     "name": "stdout",
     "output_type": "stream",
     "text": [
      "Задание содержит вопрос по теме Философия и 4 варианта ответа A, B, C, D, из которых только один правильный.\n",
      "В какой из этих двух ситуаций действующее лицо, использующее местоимения \"я\"/\"меня\"/\"мой\", нарушает нормы морали, общепринятые в США по состоянию на 2020 год? Ситуация 1 | Я оторвал голову детской игрушке. Ситуация 2 | Я узнал, что моей сестре нравится один мальчик, она не хотела, чтобы он знал, и я сохранил это в тайне.\n",
      "A Нарушает, Нарушает\n",
      "B Нарушает, Не нарушает\n",
      "C Не нарушает, Нарушает\n",
      "D Не нарушает, Не нарушает\n",
      "Запишите букву правильного ответа\n",
      "Ответ:\n",
      "{'A': 0.15552033483982086, 'B': 0.18379555642604828, 'C': 0.12278010696172714, 'D': 0.12691020965576172}\n",
      "B\n"
     ]
    }
   ],
   "source": [
    "for baseline_model in HUGGINFACE_BASELINE_MODELS:\n",
    "    tokenizer = get_tokenizer(baseline_model, HUGGINGFACE_MODEL_TO_REPO[baseline_model])\n",
    "    model = get_model(baseline_model, HUGGINGFACE_MODEL_TO_REPO[baseline_model])\n",
    "    model.to(device)\n",
    "    q = construct_prompt(rummlu)\n",
    "    print(q)\n",
    "    probs = calculate_token_interest_probs(q, tokenizer, model)\n",
    "    print(probs)\n",
    "    a = calculate_probs_and_get_answer(q, tokenizer, model)\n",
    "    print(a)"
   ]
  },
  {
   "cell_type": "markdown",
   "metadata": {},
   "source": [
    "### Inference LLMs on all datasets"
   ]
  },
  {
   "cell_type": "code",
   "execution_count": 5,
   "metadata": {},
   "outputs": [],
   "source": [
    "# add tqdm\n",
    "for baseline_model in HUGGINFACE_BASELINE_MODELS:\n",
    "    repo = HUGGINGFACE_MODEL_TO_REPO[baseline_model]\n",
    "    tokenizer = get_tokenizer(baseline_model, repo)\n",
    "    model = get_model(baseline_model, repo)\n",
    "    model.to(device)\n",
    "    for name, dataset_meta in HUGGINGFACE_NAME_TO_DATASET.items():\n",
    "        for subset, split in zip(dataset_meta[\"subsets\"], dataset_meta[\"splits\"]):\n",
    "            path = get_dataset_path(subset, name, split)\n",
    "            dataset = load_from_disk(path)\n",
    "            probs_list = []\n",
    "            a_list = []\n",
    "            for row in dataset:\n",
    "                q = construct_prompt(row)\n",
    "                probs = calculate_token_interest_probs(q, tokenizer, model)\n",
    "                probs_list.append({\n",
    "                    \"probs\": probs,\n",
    "                    \"meta\": row[\"meta\"],\n",
    "                })\n",
    "                a = get_answer(probs)\n",
    "                a_list.append({\n",
    "                    \"answer\": a,\n",
    "                    \"meta\": row[\"meta\"],\n",
    "                })\n",
    "            metric_dir_path = get_metric_dir_path(baseline_model, subset, name, split)\n",
    "            metric_dir_path.mkdir(exist_ok=True, parents=True)\n",
    "            with open(metric_dir_path.joinpath(\"probs.jsonl\"), \"w\") as f:\n",
    "                json.dump(probs_list, f, ensure_ascii=False, indent=2)\n",
    "            with open(metric_dir_path.joinpath(\"answers.jsonl\"), \"w\") as f:\n",
    "                json.dump(a_list, f, ensure_ascii=False, indent=2)"
   ]
  },
  {
   "cell_type": "code",
   "execution_count": null,
   "metadata": {},
   "outputs": [],
   "source": []
  }
 ],
 "metadata": {
  "kernelspec": {
   "display_name": "Python 3",
   "language": "python",
   "name": "python3"
  },
  "language_info": {
   "codemirror_mode": {
    "name": "ipython",
    "version": 3
   },
   "file_extension": ".py",
   "mimetype": "text/x-python",
   "name": "python",
   "nbconvert_exporter": "python",
   "pygments_lexer": "ipython3",
   "version": "3.11.5"
  }
 },
 "nbformat": 4,
 "nbformat_minor": 2
}
