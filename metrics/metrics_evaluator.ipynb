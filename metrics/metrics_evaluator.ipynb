{
 "cells": [
  {
   "cell_type": "markdown",
   "metadata": {},
   "source": [
    "### Imports"
   ]
  },
  {
   "cell_type": "code",
   "execution_count": 1,
   "metadata": {},
   "outputs": [],
   "source": [
    "from definitions import *"
   ]
  },
  {
   "cell_type": "markdown",
   "metadata": {},
   "source": [
    "### Make quiz prompt"
   ]
  },
  {
   "cell_type": "code",
   "execution_count": 2,
   "metadata": {},
   "outputs": [],
   "source": [
    "with open(\"../../metrics/knowledge_tests/obrazovaka/oblomov.json\", \"r\") as f:\n",
    "    quiz = json.load(f)"
   ]
  },
  {
   "cell_type": "code",
   "execution_count": 3,
   "metadata": {},
   "outputs": [
    {
     "data": {
      "text/plain": [
       "{'question': 'К какому литературному направлению относится роман Гончарова «Обломов»?',\n",
       " 'answers': [{'answer': 'Романтизм;', 'is_correct': 0},\n",
       "  {'answer': 'Реализм;', 'is_correct': 1},\n",
       "  {'answer': 'Классицизм;', 'is_correct': 0},\n",
       "  {'answer': 'Сентиментализм.', 'is_correct': 0}]}"
      ]
     },
     "execution_count": 3,
     "metadata": {},
     "output_type": "execute_result"
    }
   ],
   "source": [
    "part = quiz[0]\n",
    "part"
   ]
  },
  {
   "cell_type": "code",
   "execution_count": 4,
   "metadata": {},
   "outputs": [],
   "source": [
    "def build_prompt(quiz_part):\n",
    "    processed_answers = \"\"\n",
    "    for i, answer in enumerate(quiz_part[\"answers\"]):\n",
    "        processed_answers += f\"{i + 1}. {answer['answer']}\\n\"\n",
    "    # return f\"Выбери один верный вариант из предложенных.\\nВопрос: {quiz_part['question']}\\nВарианты ответа:\\n{processed_answers}\"\n",
    "    return f\"Выбери один верный вариант из предложенных. В качестве ответа напиши только номер, без дополнительного текста. Например: '1', '2', '3', '4'.\\nВопрос: {quiz_part['question']}\\nВарианты ответа:\\n{processed_answers}\""
   ]
  },
  {
   "cell_type": "code",
   "execution_count": 5,
   "metadata": {},
   "outputs": [
    {
     "name": "stdout",
     "output_type": "stream",
     "text": [
      "Выбери один верный вариант из предложенных. В качестве ответа напиши только номер, без дополнительного текста. Например: '1', '2', '3', '4'.\n",
      "Вопрос: К какому литературному направлению относится роман Гончарова «Обломов»?\n",
      "Варианты ответа:\n",
      "1. Романтизм;\n",
      "2. Реализм;\n",
      "3. Классицизм;\n",
      "4. Сентиментализм.\n",
      "\n"
     ]
    }
   ],
   "source": [
    "print(build_prompt(part))"
   ]
  },
  {
   "cell_type": "markdown",
   "metadata": {},
   "source": [
    "### Learn to make requests to ollama"
   ]
  },
  {
   "cell_type": "code",
   "execution_count": 6,
   "metadata": {},
   "outputs": [
    {
     "name": "stdout",
     "output_type": "stream",
     "text": [
      "NAME         \tID          \tSIZE  \tMODIFIED    \n",
      "llama2:latest\t78e26419b446\t3.8 GB\t12 days ago\t\n"
     ]
    }
   ],
   "source": [
    "! ollama list"
   ]
  },
  {
   "cell_type": "code",
   "execution_count": 13,
   "metadata": {},
   "outputs": [],
   "source": [
    "def get_model_response(model, prompt):\n",
    "    headers = {\n",
    "        'Content-Type': 'application/json',\n",
    "    }\n",
    "    json_data = {\n",
    "        'model': model,\n",
    "        'prompt': prompt,\n",
    "        'stream': False,\n",
    "        \"options\": {\n",
    "            \"seed\": 123,\n",
    "            \"temperature\": 0\n",
    "        }\n",
    "    }\n",
    "\n",
    "    response = requests.post('http://localhost:11434/api/generate', headers=headers, json=json_data)\n",
    "    payload = json.loads(response.content)\n",
    "    return payload[\"response\"]"
   ]
  },
  {
   "cell_type": "code",
   "execution_count": 15,
   "metadata": {},
   "outputs": [
    {
     "data": {
      "text/plain": [
       "' Unterscheidung between \"hi\" and \"hello\"\\n\\n\"Hi\" is a casual greeting that is often used in informal settings, such as with friends or in casual conversations. It is a more abbreviated version of the traditional greeting \"hello.\"\\n\\nOn the other hand, \"hello\" is a more formal and polite greeting that is commonly used in professional or formal settings. It is also used to greet someone you don\\'t know well or as a way of acknowledging someone\\'s presence.\\n\\nIn general, \"hi\" is a more casual and informal greeting, while \"hello\" is more formal and polite. However, both greetings are widely accepted and can be used in different contexts depending on the situation and the relationship between the people involved.'"
      ]
     },
     "execution_count": 15,
     "metadata": {},
     "output_type": "execute_result"
    }
   ],
   "source": [
    "get_model_response(\"llama2\", \"say hi\")"
   ]
  },
  {
   "cell_type": "markdown",
   "metadata": {},
   "source": [
    "### Try to pass quiz with a model"
   ]
  },
  {
   "cell_type": "code",
   "execution_count": 16,
   "metadata": {},
   "outputs": [
    {
     "name": "stdout",
     "output_type": "stream",
     "text": [
      "Выбери один верный вариант из предложенных. В качестве ответа напиши только номер, без дополнительного текста. Например: '1', '2', '3', '4'.\n",
      "Вопрос: В чем автор видит причины «обломовщины»?\n",
      "Варианты ответа:\n",
      "1. В деградации и застое чистой, нерасчетливой, нежной, но ленивой души героя;\n",
      "2. В окружении героя, которое не давало ему развиваться;\n",
      "3. В недостаточно хорошем образовании героя;\n",
      "4. В отсутствии достойных стимулов к развитию.\n",
      "\n"
     ]
    },
    {
     "data": {
      "text/plain": [
       "'1.'"
      ]
     },
     "execution_count": 16,
     "metadata": {},
     "output_type": "execute_result"
    }
   ],
   "source": [
    "prompt = build_prompt(part)\n",
    "print(prompt)\n",
    "get_model_response(model, prompt)"
   ]
  },
  {
   "cell_type": "code",
   "execution_count": 17,
   "metadata": {},
   "outputs": [
    {
     "data": {
      "text/plain": [
       "19"
      ]
     },
     "execution_count": 17,
     "metadata": {},
     "output_type": "execute_result"
    }
   ],
   "source": [
    "len(quiz)"
   ]
  },
  {
   "cell_type": "code",
   "execution_count": 29,
   "metadata": {},
   "outputs": [],
   "source": [
    "def eval_model_on_quiz(model, quiz):\n",
    "    num_ok = 0\n",
    "    num_all = 0\n",
    "    for part in tqdm(quiz):\n",
    "        prompt = build_prompt(part)\n",
    "        answer = get_model_response(model, prompt)\n",
    "        first_part = answer.split()[0]\n",
    "        if first_part.endswith(\".\"):\n",
    "            first_part = first_part[:-1]\n",
    "        ok_answer = -1\n",
    "        for i, x in enumerate(part[\"answers\"]):\n",
    "            if x[\"is_correct\"] == 1:\n",
    "                ok_answer = i + 1\n",
    "        try:\n",
    "            first_part = int(first_part)\n",
    "        except Exception:\n",
    "            print(f\"Cannot convert model first part answer to int: '{answer}'\")\n",
    "        if ok_answer == first_part:\n",
    "            num_ok += 1\n",
    "        num_all += 1\n",
    "    print(f\"result is {num_ok} out of {num_all}. {num_ok / num_all * 100:.2f}%\")\n",
    "    return num_ok, num_all"
   ]
  },
  {
   "cell_type": "code",
   "execution_count": 36,
   "metadata": {},
   "outputs": [
    {
     "ename": "SyntaxError",
     "evalue": "invalid decimal literal (1891919668.py, line 13)",
     "output_type": "error",
     "traceback": [
      "\u001b[0;36m  Cell \u001b[0;32mIn[36], line 13\u001b[0;36m\u001b[0m\n\u001b[0;31m    \"percent\": (num_ok / num_all):2.f,\u001b[0m\n\u001b[0m                                   ^\u001b[0m\n\u001b[0;31mSyntaxError\u001b[0m\u001b[0;31m:\u001b[0m invalid decimal literal\n"
     ]
    }
   ],
   "source": [
    "model = \"llama2\"\n",
    "tests_dir = Path(\"../../metrics/knowledge_tests/obrazovaka/\")\n",
    "rows = []\n",
    "for test_path in tests_dir.glob(\"*\"):\n",
    "    with open(test_path, \"r\") as f:\n",
    "        quiz = json.load(f)\n",
    "    num_ok, num_all = eval_model_on_quiz(model, quiz)\n",
    "    rows.append({\n",
    "        \"model\": model,\n",
    "        \"test_path\": test_path,\n",
    "        \"num_ok\": num_ok,\n",
    "        \"num_all\": num_all,\n",
    "        \"percent\": float(f\"{(num_ok / num_all * 100):.2f}\"),\n",
    "    })"
   ]
  },
  {
   "cell_type": "code",
   "execution_count": 43,
   "metadata": {},
   "outputs": [],
   "source": [
    "for row in rows:\n",
    "    row[\"percent\"] = float(f'{(row[\"num_ok\"] / row[\"num_all\"] * 100):.2f}')"
   ]
  },
  {
   "cell_type": "code",
   "execution_count": 44,
   "metadata": {},
   "outputs": [],
   "source": [
    "df = pd.DataFrame(rows)"
   ]
  },
  {
   "cell_type": "code",
   "execution_count": 45,
   "metadata": {},
   "outputs": [
    {
     "data": {
      "text/html": [
       "<div>\n",
       "<style scoped>\n",
       "    .dataframe tbody tr th:only-of-type {\n",
       "        vertical-align: middle;\n",
       "    }\n",
       "\n",
       "    .dataframe tbody tr th {\n",
       "        vertical-align: top;\n",
       "    }\n",
       "\n",
       "    .dataframe thead th {\n",
       "        text-align: right;\n",
       "    }\n",
       "</style>\n",
       "<table border=\"1\" class=\"dataframe\">\n",
       "  <thead>\n",
       "    <tr style=\"text-align: right;\">\n",
       "      <th></th>\n",
       "      <th>model</th>\n",
       "      <th>test_path</th>\n",
       "      <th>num_ok</th>\n",
       "      <th>num_all</th>\n",
       "      <th>percent</th>\n",
       "    </tr>\n",
       "  </thead>\n",
       "  <tbody>\n",
       "    <tr>\n",
       "      <th>0</th>\n",
       "      <td>llama2</td>\n",
       "      <td>../../metrics/knowledge_tests/obrazovaka/the_d...</td>\n",
       "      <td>3</td>\n",
       "      <td>16</td>\n",
       "      <td>18.75</td>\n",
       "    </tr>\n",
       "    <tr>\n",
       "      <th>1</th>\n",
       "      <td>llama2</td>\n",
       "      <td>../../metrics/knowledge_tests/obrazovaka/the_b...</td>\n",
       "      <td>1</td>\n",
       "      <td>10</td>\n",
       "      <td>10.00</td>\n",
       "    </tr>\n",
       "    <tr>\n",
       "      <th>2</th>\n",
       "      <td>llama2</td>\n",
       "      <td>../../metrics/knowledge_tests/obrazovaka/and_q...</td>\n",
       "      <td>6</td>\n",
       "      <td>18</td>\n",
       "      <td>33.33</td>\n",
       "    </tr>\n",
       "    <tr>\n",
       "      <th>3</th>\n",
       "      <td>llama2</td>\n",
       "      <td>../../metrics/knowledge_tests/obrazovaka/oblom...</td>\n",
       "      <td>7</td>\n",
       "      <td>19</td>\n",
       "      <td>36.84</td>\n",
       "    </tr>\n",
       "    <tr>\n",
       "      <th>4</th>\n",
       "      <td>llama2</td>\n",
       "      <td>../../metrics/knowledge_tests/obrazovaka/eveni...</td>\n",
       "      <td>1</td>\n",
       "      <td>10</td>\n",
       "      <td>10.00</td>\n",
       "    </tr>\n",
       "    <tr>\n",
       "      <th>5</th>\n",
       "      <td>llama2</td>\n",
       "      <td>../../metrics/knowledge_tests/obrazovaka/docto...</td>\n",
       "      <td>3</td>\n",
       "      <td>13</td>\n",
       "      <td>23.08</td>\n",
       "    </tr>\n",
       "    <tr>\n",
       "      <th>6</th>\n",
       "      <td>llama2</td>\n",
       "      <td>../../metrics/knowledge_tests/obrazovaka/war_a...</td>\n",
       "      <td>17</td>\n",
       "      <td>70</td>\n",
       "      <td>24.29</td>\n",
       "    </tr>\n",
       "    <tr>\n",
       "      <th>7</th>\n",
       "      <td>llama2</td>\n",
       "      <td>../../metrics/knowledge_tests/obrazovaka/the_m...</td>\n",
       "      <td>4</td>\n",
       "      <td>16</td>\n",
       "      <td>25.00</td>\n",
       "    </tr>\n",
       "    <tr>\n",
       "      <th>8</th>\n",
       "      <td>llama2</td>\n",
       "      <td>../../metrics/knowledge_tests/obrazovaka/dead_...</td>\n",
       "      <td>4</td>\n",
       "      <td>19</td>\n",
       "      <td>21.05</td>\n",
       "    </tr>\n",
       "    <tr>\n",
       "      <th>9</th>\n",
       "      <td>llama2</td>\n",
       "      <td>../../metrics/knowledge_tests/obrazovaka/the_g...</td>\n",
       "      <td>2</td>\n",
       "      <td>10</td>\n",
       "      <td>20.00</td>\n",
       "    </tr>\n",
       "    <tr>\n",
       "      <th>10</th>\n",
       "      <td>llama2</td>\n",
       "      <td>../../metrics/knowledge_tests/obrazovaka/the_w...</td>\n",
       "      <td>3</td>\n",
       "      <td>10</td>\n",
       "      <td>30.00</td>\n",
       "    </tr>\n",
       "    <tr>\n",
       "      <th>11</th>\n",
       "      <td>llama2</td>\n",
       "      <td>../../metrics/knowledge_tests/obrazovaka/the_h...</td>\n",
       "      <td>6</td>\n",
       "      <td>30</td>\n",
       "      <td>20.00</td>\n",
       "    </tr>\n",
       "    <tr>\n",
       "      <th>12</th>\n",
       "      <td>llama2</td>\n",
       "      <td>../../metrics/knowledge_tests/obrazovaka/idiot...</td>\n",
       "      <td>3</td>\n",
       "      <td>12</td>\n",
       "      <td>25.00</td>\n",
       "    </tr>\n",
       "    <tr>\n",
       "      <th>13</th>\n",
       "      <td>llama2</td>\n",
       "      <td>../../metrics/knowledge_tests/obrazovaka/crime...</td>\n",
       "      <td>5</td>\n",
       "      <td>16</td>\n",
       "      <td>31.25</td>\n",
       "    </tr>\n",
       "    <tr>\n",
       "      <th>14</th>\n",
       "      <td>llama2</td>\n",
       "      <td>../../metrics/knowledge_tests/obrazovaka/anna_...</td>\n",
       "      <td>2</td>\n",
       "      <td>10</td>\n",
       "      <td>20.00</td>\n",
       "    </tr>\n",
       "  </tbody>\n",
       "</table>\n",
       "</div>"
      ],
      "text/plain": [
       "     model                                          test_path  num_ok  \\\n",
       "0   llama2  ../../metrics/knowledge_tests/obrazovaka/the_d...       3   \n",
       "1   llama2  ../../metrics/knowledge_tests/obrazovaka/the_b...       1   \n",
       "2   llama2  ../../metrics/knowledge_tests/obrazovaka/and_q...       6   \n",
       "3   llama2  ../../metrics/knowledge_tests/obrazovaka/oblom...       7   \n",
       "4   llama2  ../../metrics/knowledge_tests/obrazovaka/eveni...       1   \n",
       "5   llama2  ../../metrics/knowledge_tests/obrazovaka/docto...       3   \n",
       "6   llama2  ../../metrics/knowledge_tests/obrazovaka/war_a...      17   \n",
       "7   llama2  ../../metrics/knowledge_tests/obrazovaka/the_m...       4   \n",
       "8   llama2  ../../metrics/knowledge_tests/obrazovaka/dead_...       4   \n",
       "9   llama2  ../../metrics/knowledge_tests/obrazovaka/the_g...       2   \n",
       "10  llama2  ../../metrics/knowledge_tests/obrazovaka/the_w...       3   \n",
       "11  llama2  ../../metrics/knowledge_tests/obrazovaka/the_h...       6   \n",
       "12  llama2  ../../metrics/knowledge_tests/obrazovaka/idiot...       3   \n",
       "13  llama2  ../../metrics/knowledge_tests/obrazovaka/crime...       5   \n",
       "14  llama2  ../../metrics/knowledge_tests/obrazovaka/anna_...       2   \n",
       "\n",
       "    num_all  percent  \n",
       "0        16    18.75  \n",
       "1        10    10.00  \n",
       "2        18    33.33  \n",
       "3        19    36.84  \n",
       "4        10    10.00  \n",
       "5        13    23.08  \n",
       "6        70    24.29  \n",
       "7        16    25.00  \n",
       "8        19    21.05  \n",
       "9        10    20.00  \n",
       "10       10    30.00  \n",
       "11       30    20.00  \n",
       "12       12    25.00  \n",
       "13       16    31.25  \n",
       "14       10    20.00  "
      ]
     },
     "execution_count": 45,
     "metadata": {},
     "output_type": "execute_result"
    }
   ],
   "source": [
    "df"
   ]
  },
  {
   "cell_type": "code",
   "execution_count": 46,
   "metadata": {},
   "outputs": [],
   "source": [
    "df.to_csv(\"../../metrics/knowledge_tests/obrazovaka/full_results.csv\", index=False)"
   ]
  },
  {
   "cell_type": "code",
   "execution_count": null,
   "metadata": {},
   "outputs": [],
   "source": []
  }
 ],
 "metadata": {
  "kernelspec": {
   "display_name": "Python 3",
   "language": "python",
   "name": "python3"
  },
  "language_info": {
   "codemirror_mode": {
    "name": "ipython",
    "version": 3
   },
   "file_extension": ".py",
   "mimetype": "text/x-python",
   "name": "python",
   "nbconvert_exporter": "python",
   "pygments_lexer": "ipython3",
   "version": "3.11.5"
  }
 },
 "nbformat": 4,
 "nbformat_minor": 2
}
