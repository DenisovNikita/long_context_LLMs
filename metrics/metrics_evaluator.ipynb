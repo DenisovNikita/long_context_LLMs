{
 "cells": [
  {
   "cell_type": "markdown",
   "metadata": {},
   "source": [
    "### Imports"
   ]
  },
  {
   "cell_type": "code",
   "execution_count": 2,
   "metadata": {},
   "outputs": [],
   "source": [
    "from definitions import *"
   ]
  },
  {
   "cell_type": "markdown",
   "metadata": {},
   "source": [
    "### View knwoledge test html"
   ]
  },
  {
   "cell_type": "code",
   "execution_count": 3,
   "metadata": {},
   "outputs": [],
   "source": [
    "url = \"https://obrazovaka.ru/test/doktor-zhivago-s-otvetami-online.html\"\n",
    "r = requests.get(url)\n",
    "soup = BeautifulSoup(r.content, \"html.parser\")\n",
    "dict_soup = convert(soup)"
   ]
  },
  {
   "cell_type": "code",
   "execution_count": 4,
   "metadata": {},
   "outputs": [],
   "source": [
    "with open(\"dict_soup_obrazovaka.json\", \"w\") as f:\n",
    "    json.dump(dict_soup, f, indent=2, ensure_ascii=False)"
   ]
  },
  {
   "cell_type": "code",
   "execution_count": 15,
   "metadata": {},
   "outputs": [],
   "source": [
    "test = []\n",
    "for quiz_part in dict_soup[\"html\"][0][\"body\"][0][\"div\"][0][\"div\"][0][\"div\"][0][\"div\"][0][\"article\"][0][\"div\"][5][\"div\"][1][\"ol\"][0][\"li\"]:\n",
    "    question = quiz_part[\"h3\"][0][\"#text\"]\n",
    "    answers_html = quiz_part[\"ul\"][0][\"li\"]\n",
    "    answers = []\n",
    "    for answer_html in answers_html:\n",
    "        answers.append({\n",
    "            \"answer\": answer_html[\"div\"][0][\"#text\"],\n",
    "            \"is_correct\": answer_html[\"div\"][0][\"input\"][0].get(\"@data-correct\", 0),\n",
    "        })\n",
    "    test.append({\n",
    "        \"question\": question,\n",
    "        \"answers\": answers,\n",
    "    })"
   ]
  },
  {
   "cell_type": "code",
   "execution_count": 17,
   "metadata": {},
   "outputs": [],
   "source": [
    "with open(\"some_test.json\", \"w\") as f:\n",
    "    json.dump(test, f, indent=2, ensure_ascii=False)"
   ]
  },
  {
   "cell_type": "code",
   "execution_count": 12,
   "metadata": {},
   "outputs": [
    {
     "data": {
      "text/plain": [
       "'В каких годах был написан роман «Доктор Живаго»?'"
      ]
     },
     "execution_count": 12,
     "metadata": {},
     "output_type": "execute_result"
    }
   ],
   "source": [
    "q = [0][\"h3\"][0][\"#text\"]\n",
    "q"
   ]
  },
  {
   "cell_type": "code",
   "execution_count": 8,
   "metadata": {},
   "outputs": [
    {
     "data": {
      "text/plain": [
       "['1945–1955 гг.', '1946–1956 гг.', '1940–1955 гг.', '1949–1955 гг.']"
      ]
     },
     "execution_count": 8,
     "metadata": {},
     "output_type": "execute_result"
    }
   ],
   "source": [
    "answers_html = dict_soup[\"html\"][0][\"body\"][0][\"div\"][0][\"div\"][0][\"div\"][0][\"div\"][0][\"article\"][0][\"div\"][5][\"div\"][1][\"ol\"][0][\"li\"][0][\"ul\"][0][\"li\"]\n",
    "answers = []\n",
    "for answer_html in answers_html:\n",
    "    answers.append(answer_html[\"div\"][0][\"#text\"])\n",
    "answers"
   ]
  },
  {
   "cell_type": "markdown",
   "metadata": {},
   "source": [
    "### Create knowledge tests"
   ]
  },
  {
   "cell_type": "code",
   "execution_count": 36,
   "metadata": {},
   "outputs": [],
   "source": [
    "def get_knowledge_test(url):\n",
    "    print(\"Sleeping before performing request...\", end=\"\")\n",
    "    time.sleep(1)\n",
    "    clear_output()\n",
    "    r = requests.get(url)\n",
    "    soup = BeautifulSoup(r.content, \"html.parser\")\n",
    "    dict_soup = convert(soup)\n",
    "    test = []\n",
    "    try:\n",
    "        quiz = dict_soup[\"html\"][0][\"body\"][0][\"div\"][0][\"div\"][0][\"div\"][0][\"div\"][0][\"article\"][0][\"div\"][5][\"div\"][1][\"ol\"][0][\"li\"]\n",
    "    except Exception:\n",
    "        quiz = dict_soup[\"html\"][0][\"body\"][0][\"div\"][0][\"div\"][0][\"div\"][0][\"div\"][0][\"article\"][0][\"div\"][6][\"div\"][1][\"ol\"][0][\"li\"]\n",
    "    for quiz_part in quiz:\n",
    "        question = quiz_part[\"h3\"][0][\"#text\"]\n",
    "        answers_html = quiz_part[\"ul\"][0][\"li\"]\n",
    "        answers = []\n",
    "        for answer_html in answers_html:\n",
    "            answers.append({\n",
    "                \"answer\": answer_html[\"div\"][0][\"#text\"],\n",
    "                \"is_correct\": int(answer_html[\"div\"][0][\"input\"][0].get(\"@data-correct\", 0)),\n",
    "            })\n",
    "        test.append({\n",
    "            \"question\": question,\n",
    "            \"answers\": answers,\n",
    "        })\n",
    "    return test"
   ]
  },
  {
   "cell_type": "code",
   "execution_count": 37,
   "metadata": {},
   "outputs": [],
   "source": [
    "with open(\"obrazovaka_quiz_urls.txt\", \"r\") as f:\n",
    "    obrazovaka_quiz_urls = f.readlines()"
   ]
  },
  {
   "cell_type": "code",
   "execution_count": 38,
   "metadata": {},
   "outputs": [],
   "source": [
    "obrazovaka_parsed_quizes = []\n",
    "for url in obrazovaka_quiz_urls:\n",
    "    obrazovaka_parsed_quizes.append(get_knowledge_test(url))"
   ]
  },
  {
   "cell_type": "code",
   "execution_count": 39,
   "metadata": {},
   "outputs": [],
   "source": [
    "for i, key in enumerate(BOOKS):\n",
    "    dir_path = Path(\"../../metrics/knowledge_tests/\")\n",
    "    dir_path.mkdir(exist_ok=True, parents=True)\n",
    "    with open(f\"{dir_path}/{key}.json\", \"w\") as f:\n",
    "        json.dump(obrazovaka_parsed_quizes[i], f, indent=2, ensure_ascii=False)"
   ]
  },
  {
   "cell_type": "code",
   "execution_count": null,
   "metadata": {},
   "outputs": [],
   "source": []
  }
 ],
 "metadata": {
  "kernelspec": {
   "display_name": "Python 3",
   "language": "python",
   "name": "python3"
  },
  "language_info": {
   "codemirror_mode": {
    "name": "ipython",
    "version": 3
   },
   "file_extension": ".py",
   "mimetype": "text/x-python",
   "name": "python",
   "nbconvert_exporter": "python",
   "pygments_lexer": "ipython3",
   "version": "3.11.5"
  }
 },
 "nbformat": 4,
 "nbformat_minor": 2
}
