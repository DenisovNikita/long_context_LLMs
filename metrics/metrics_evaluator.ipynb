{
 "cells": [
  {
   "cell_type": "markdown",
   "metadata": {},
   "source": [
    "### Imports"
   ]
  },
  {
   "cell_type": "code",
   "execution_count": 1,
   "metadata": {},
   "outputs": [],
   "source": [
    "from definitions import *"
   ]
  },
  {
   "cell_type": "markdown",
   "metadata": {},
   "source": [
    "### Make quiz prompt"
   ]
  },
  {
   "cell_type": "code",
   "execution_count": 2,
   "metadata": {},
   "outputs": [],
   "source": [
    "with open(\"../../metrics/knowledge_tests/obrazovaka/oblomov.json\", \"r\") as f:\n",
    "    quiz = json.load(f)"
   ]
  },
  {
   "cell_type": "code",
   "execution_count": 3,
   "metadata": {},
   "outputs": [
    {
     "data": {
      "text/plain": [
       "{'question': 'К какому литературному направлению относится роман Гончарова «Обломов»?',\n",
       " 'answers': [{'answer': 'Романтизм;', 'is_correct': 0},\n",
       "  {'answer': 'Реализм;', 'is_correct': 1},\n",
       "  {'answer': 'Классицизм;', 'is_correct': 0},\n",
       "  {'answer': 'Сентиментализм.', 'is_correct': 0}]}"
      ]
     },
     "execution_count": 3,
     "metadata": {},
     "output_type": "execute_result"
    }
   ],
   "source": [
    "part = quiz[0]\n",
    "part"
   ]
  },
  {
   "cell_type": "code",
   "execution_count": 4,
   "metadata": {},
   "outputs": [],
   "source": [
    "def build_prompt(quiz_part):\n",
    "    processed_answers = \"\"\n",
    "    for i, answer in enumerate(quiz_part[\"answers\"]):\n",
    "        processed_answers += f\"{i + 1}. {answer['answer']}\\n\"\n",
    "    # return f\"Выбери один верный вариант из предложенных.\\nВопрос: {quiz_part['question']}\\nВарианты ответа:\\n{processed_answers}\"\n",
    "    return f\"Выбери один верный вариант из предложенных. В качестве ответа напиши только номер, без дополнительного текста. Например: '1', '2', '3', '4'.\\nВопрос: {quiz_part['question']}\\nВарианты ответа:\\n{processed_answers}\""
   ]
  },
  {
   "cell_type": "code",
   "execution_count": 5,
   "metadata": {},
   "outputs": [
    {
     "name": "stdout",
     "output_type": "stream",
     "text": [
      "Выбери один верный вариант из предложенных. В качестве ответа напиши только номер, без дополнительного текста. Например: '1', '2', '3', '4'.\n",
      "Вопрос: К какому литературному направлению относится роман Гончарова «Обломов»?\n",
      "Варианты ответа:\n",
      "1. Романтизм;\n",
      "2. Реализм;\n",
      "3. Классицизм;\n",
      "4. Сентиментализм.\n",
      "\n"
     ]
    }
   ],
   "source": [
    "print(build_prompt(part))"
   ]
  },
  {
   "cell_type": "markdown",
   "metadata": {},
   "source": [
    "### Learn to make requests to ollama"
   ]
  },
  {
   "cell_type": "code",
   "execution_count": 47,
   "metadata": {},
   "outputs": [
    {
     "name": "stdout",
     "output_type": "stream",
     "text": [
      "NAME                    \tID          \tSIZE  \tMODIFIED     \n",
      "dolphin-phi:latest      \tc5761fc77240\t1.6 GB\t14 hours ago\t\n",
      "gemma:2b                \tb50d6c999e59\t1.7 GB\t7 hours ago \t\n",
      "gemma:7b                \ta72c7f4d0a15\t5.0 GB\t7 hours ago \t\n",
      "llama2:13b              \td475bf4c50bc\t7.4 GB\t7 hours ago \t\n",
      "llama2:70b              \te7f6c06ffef4\t38 GB \t5 hours ago \t\n",
      "llama2:latest           \t78e26419b446\t3.8 GB\t14 hours ago\t\n",
      "llama2-uncensored:latest\t44040b922233\t3.8 GB\t13 hours ago\t\n",
      "llama3:70b              \tbcfb190ca3a7\t39 GB \t6 hours ago \t\n",
      "llama3:latest           \t71a106a91016\t4.7 GB\t16 hours ago\t\n",
      "llava:latest            \t8dd30f6b0cb1\t4.7 GB\t7 hours ago \t\n",
      "mistral:latest          \t61e88e884507\t4.1 GB\t14 hours ago\t\n",
      "neural-chat:latest      \t89fa737d3b85\t4.1 GB\t14 hours ago\t\n",
      "orca-mini:latest        \t2dbd9f439647\t2.0 GB\t7 hours ago \t\n",
      "phi:latest              \te2fd6321a5fe\t1.6 GB\t14 hours ago\t\n",
      "solar:latest            \t059fdabbe6e6\t6.1 GB\t7 hours ago \t\n",
      "starling-lm:latest      \t39153f619be6\t4.1 GB\t14 hours ago\t\n"
     ]
    }
   ],
   "source": [
    "! ollama list"
   ]
  },
  {
   "cell_type": "code",
   "execution_count": 13,
   "metadata": {},
   "outputs": [],
   "source": [
    "def get_model_response(model, prompt):\n",
    "    headers = {\n",
    "        'Content-Type': 'application/json',\n",
    "    }\n",
    "    json_data = {\n",
    "        'model': model,\n",
    "        'prompt': prompt,\n",
    "        'stream': False,\n",
    "        \"options\": {\n",
    "            \"seed\": 123,\n",
    "            \"temperature\": 0\n",
    "        }\n",
    "    }\n",
    "\n",
    "    response = requests.post('http://localhost:11434/api/generate', headers=headers, json=json_data)\n",
    "    payload = json.loads(response.content)\n",
    "    return payload[\"response\"]"
   ]
  },
  {
   "cell_type": "code",
   "execution_count": 48,
   "metadata": {},
   "outputs": [
    {
     "data": {
      "text/plain": [
       "\"Hi! How's it going?\""
      ]
     },
     "execution_count": 48,
     "metadata": {},
     "output_type": "execute_result"
    }
   ],
   "source": [
    "get_model_response(\"llama3\", \"say hi\")"
   ]
  },
  {
   "cell_type": "markdown",
   "metadata": {},
   "source": [
    "### Try to pass quiz with a model"
   ]
  },
  {
   "cell_type": "code",
   "execution_count": 16,
   "metadata": {},
   "outputs": [
    {
     "name": "stdout",
     "output_type": "stream",
     "text": [
      "Выбери один верный вариант из предложенных. В качестве ответа напиши только номер, без дополнительного текста. Например: '1', '2', '3', '4'.\n",
      "Вопрос: В чем автор видит причины «обломовщины»?\n",
      "Варианты ответа:\n",
      "1. В деградации и застое чистой, нерасчетливой, нежной, но ленивой души героя;\n",
      "2. В окружении героя, которое не давало ему развиваться;\n",
      "3. В недостаточно хорошем образовании героя;\n",
      "4. В отсутствии достойных стимулов к развитию.\n",
      "\n"
     ]
    },
    {
     "data": {
      "text/plain": [
       "'1.'"
      ]
     },
     "execution_count": 16,
     "metadata": {},
     "output_type": "execute_result"
    }
   ],
   "source": [
    "prompt = build_prompt(part)\n",
    "print(prompt)\n",
    "get_model_response(model, prompt)"
   ]
  },
  {
   "cell_type": "code",
   "execution_count": 17,
   "metadata": {},
   "outputs": [
    {
     "data": {
      "text/plain": [
       "19"
      ]
     },
     "execution_count": 17,
     "metadata": {},
     "output_type": "execute_result"
    }
   ],
   "source": [
    "len(quiz)"
   ]
  },
  {
   "cell_type": "code",
   "execution_count": 49,
   "metadata": {},
   "outputs": [],
   "source": [
    "def eval_model_on_quiz(model, quiz):\n",
    "    num_ok = 0\n",
    "    num_all = 0\n",
    "    for part in tqdm(quiz):\n",
    "        prompt = build_prompt(part)\n",
    "        answer = get_model_response(model, prompt)\n",
    "        first_part = answer.split()[0]\n",
    "        if first_part.endswith(\".\"):\n",
    "            first_part = first_part[:-1]\n",
    "        ok_answer = -1\n",
    "        for i, x in enumerate(part[\"answers\"]):\n",
    "            if x[\"is_correct\"] == 1:\n",
    "                ok_answer = i + 1\n",
    "        try:\n",
    "            first_part = int(first_part)\n",
    "        except Exception:\n",
    "            print(f\"Cannot convert model first part answer to int: '{answer}'\")\n",
    "        if ok_answer == first_part:\n",
    "            num_ok += 1\n",
    "        num_all += 1\n",
    "    print(f\"result is {num_ok} out of {num_all}. {num_ok / num_all * 100:.2f}%\")\n",
    "    return num_ok, num_all"
   ]
  },
  {
   "cell_type": "code",
   "execution_count": 50,
   "metadata": {},
   "outputs": [
    {
     "name": "stderr",
     "output_type": "stream",
     "text": [
      "100%|██████████| 16/16 [00:08<00:00,  1.82it/s]\n"
     ]
    },
    {
     "name": "stdout",
     "output_type": "stream",
     "text": [
      "result is 3 out of 16. 18.75%\n"
     ]
    },
    {
     "name": "stderr",
     "output_type": "stream",
     "text": [
      "100%|██████████| 10/10 [00:03<00:00,  2.71it/s]\n"
     ]
    },
    {
     "name": "stdout",
     "output_type": "stream",
     "text": [
      "result is 5 out of 10. 50.00%\n"
     ]
    },
    {
     "name": "stderr",
     "output_type": "stream",
     "text": [
      "100%|██████████| 18/18 [00:08<00:00,  2.02it/s]\n"
     ]
    },
    {
     "name": "stdout",
     "output_type": "stream",
     "text": [
      "result is 6 out of 18. 33.33%\n"
     ]
    },
    {
     "name": "stderr",
     "output_type": "stream",
     "text": [
      "100%|██████████| 19/19 [00:10<00:00,  1.80it/s]\n"
     ]
    },
    {
     "name": "stdout",
     "output_type": "stream",
     "text": [
      "result is 12 out of 19. 63.16%\n"
     ]
    },
    {
     "name": "stderr",
     "output_type": "stream",
     "text": [
      "100%|██████████| 10/10 [00:03<00:00,  2.72it/s]\n"
     ]
    },
    {
     "name": "stdout",
     "output_type": "stream",
     "text": [
      "result is 2 out of 10. 20.00%\n"
     ]
    },
    {
     "name": "stderr",
     "output_type": "stream",
     "text": [
      "100%|██████████| 13/13 [00:05<00:00,  2.39it/s]\n"
     ]
    },
    {
     "name": "stdout",
     "output_type": "stream",
     "text": [
      "result is 2 out of 13. 15.38%\n"
     ]
    },
    {
     "name": "stderr",
     "output_type": "stream",
     "text": [
      "100%|██████████| 70/70 [00:35<00:00,  1.96it/s]\n"
     ]
    },
    {
     "name": "stdout",
     "output_type": "stream",
     "text": [
      "result is 38 out of 70. 54.29%\n"
     ]
    },
    {
     "name": "stderr",
     "output_type": "stream",
     "text": [
      "100%|██████████| 16/16 [00:07<00:00,  2.09it/s]\n"
     ]
    },
    {
     "name": "stdout",
     "output_type": "stream",
     "text": [
      "result is 5 out of 16. 31.25%\n"
     ]
    },
    {
     "name": "stderr",
     "output_type": "stream",
     "text": [
      "100%|██████████| 19/19 [00:08<00:00,  2.24it/s]\n"
     ]
    },
    {
     "name": "stdout",
     "output_type": "stream",
     "text": [
      "result is 9 out of 19. 47.37%\n"
     ]
    },
    {
     "name": "stderr",
     "output_type": "stream",
     "text": [
      "100%|██████████| 10/10 [00:03<00:00,  2.71it/s]\n"
     ]
    },
    {
     "name": "stdout",
     "output_type": "stream",
     "text": [
      "result is 7 out of 10. 70.00%\n"
     ]
    },
    {
     "name": "stderr",
     "output_type": "stream",
     "text": [
      "100%|██████████| 10/10 [00:03<00:00,  2.82it/s]\n"
     ]
    },
    {
     "name": "stdout",
     "output_type": "stream",
     "text": [
      "result is 2 out of 10. 20.00%\n"
     ]
    },
    {
     "name": "stderr",
     "output_type": "stream",
     "text": [
      "100%|██████████| 30/30 [00:15<00:00,  1.89it/s]\n"
     ]
    },
    {
     "name": "stdout",
     "output_type": "stream",
     "text": [
      "result is 12 out of 30. 40.00%\n"
     ]
    },
    {
     "name": "stderr",
     "output_type": "stream",
     "text": [
      "100%|██████████| 12/12 [00:05<00:00,  2.16it/s]\n"
     ]
    },
    {
     "name": "stdout",
     "output_type": "stream",
     "text": [
      "result is 4 out of 12. 33.33%\n"
     ]
    },
    {
     "name": "stderr",
     "output_type": "stream",
     "text": [
      "100%|██████████| 16/16 [00:08<00:00,  1.91it/s]\n"
     ]
    },
    {
     "name": "stdout",
     "output_type": "stream",
     "text": [
      "result is 7 out of 16. 43.75%\n"
     ]
    },
    {
     "name": "stderr",
     "output_type": "stream",
     "text": [
      "100%|██████████| 10/10 [00:04<00:00,  2.47it/s]"
     ]
    },
    {
     "name": "stdout",
     "output_type": "stream",
     "text": [
      "result is 4 out of 10. 40.00%\n"
     ]
    },
    {
     "name": "stderr",
     "output_type": "stream",
     "text": [
      "\n"
     ]
    }
   ],
   "source": [
    "model = \"llama3\"\n",
    "tests_dir = Path(\"../../metrics/knowledge_tests/obrazovaka/\")\n",
    "rows = []\n",
    "for test_path in tests_dir.glob(\"*.json\"):\n",
    "    with open(test_path, \"r\") as f:\n",
    "        quiz = json.load(f)\n",
    "    num_ok, num_all = eval_model_on_quiz(model, quiz)\n",
    "    rows.append({\n",
    "        \"model\": model,\n",
    "        \"test_path\": test_path,\n",
    "        \"num_ok\": num_ok,\n",
    "        \"num_all\": num_all,\n",
    "        \"percent\": float(f\"{(num_ok / num_all * 100):.2f}\"),\n",
    "    })"
   ]
  },
  {
   "cell_type": "code",
   "execution_count": 43,
   "metadata": {},
   "outputs": [],
   "source": [
    "# for row in rows:\n",
    "    # row[\"percent\"] = float(f'{(row[\"num_ok\"] / row[\"num_all\"] * 100):.2f}')"
   ]
  },
  {
   "cell_type": "code",
   "execution_count": 51,
   "metadata": {},
   "outputs": [
    {
     "data": {
      "text/html": [
       "<div>\n",
       "<style scoped>\n",
       "    .dataframe tbody tr th:only-of-type {\n",
       "        vertical-align: middle;\n",
       "    }\n",
       "\n",
       "    .dataframe tbody tr th {\n",
       "        vertical-align: top;\n",
       "    }\n",
       "\n",
       "    .dataframe thead th {\n",
       "        text-align: right;\n",
       "    }\n",
       "</style>\n",
       "<table border=\"1\" class=\"dataframe\">\n",
       "  <thead>\n",
       "    <tr style=\"text-align: right;\">\n",
       "      <th></th>\n",
       "      <th>model</th>\n",
       "      <th>test_path</th>\n",
       "      <th>num_ok</th>\n",
       "      <th>num_all</th>\n",
       "      <th>percent</th>\n",
       "    </tr>\n",
       "  </thead>\n",
       "  <tbody>\n",
       "    <tr>\n",
       "      <th>0</th>\n",
       "      <td>llama3</td>\n",
       "      <td>../../metrics/knowledge_tests/obrazovaka/the_d...</td>\n",
       "      <td>3</td>\n",
       "      <td>16</td>\n",
       "      <td>18.75</td>\n",
       "    </tr>\n",
       "    <tr>\n",
       "      <th>1</th>\n",
       "      <td>llama3</td>\n",
       "      <td>../../metrics/knowledge_tests/obrazovaka/the_b...</td>\n",
       "      <td>5</td>\n",
       "      <td>10</td>\n",
       "      <td>50.00</td>\n",
       "    </tr>\n",
       "    <tr>\n",
       "      <th>2</th>\n",
       "      <td>llama3</td>\n",
       "      <td>../../metrics/knowledge_tests/obrazovaka/and_q...</td>\n",
       "      <td>6</td>\n",
       "      <td>18</td>\n",
       "      <td>33.33</td>\n",
       "    </tr>\n",
       "    <tr>\n",
       "      <th>3</th>\n",
       "      <td>llama3</td>\n",
       "      <td>../../metrics/knowledge_tests/obrazovaka/oblom...</td>\n",
       "      <td>12</td>\n",
       "      <td>19</td>\n",
       "      <td>63.16</td>\n",
       "    </tr>\n",
       "    <tr>\n",
       "      <th>4</th>\n",
       "      <td>llama3</td>\n",
       "      <td>../../metrics/knowledge_tests/obrazovaka/eveni...</td>\n",
       "      <td>2</td>\n",
       "      <td>10</td>\n",
       "      <td>20.00</td>\n",
       "    </tr>\n",
       "    <tr>\n",
       "      <th>5</th>\n",
       "      <td>llama3</td>\n",
       "      <td>../../metrics/knowledge_tests/obrazovaka/docto...</td>\n",
       "      <td>2</td>\n",
       "      <td>13</td>\n",
       "      <td>15.38</td>\n",
       "    </tr>\n",
       "    <tr>\n",
       "      <th>6</th>\n",
       "      <td>llama3</td>\n",
       "      <td>../../metrics/knowledge_tests/obrazovaka/war_a...</td>\n",
       "      <td>38</td>\n",
       "      <td>70</td>\n",
       "      <td>54.29</td>\n",
       "    </tr>\n",
       "    <tr>\n",
       "      <th>7</th>\n",
       "      <td>llama3</td>\n",
       "      <td>../../metrics/knowledge_tests/obrazovaka/the_m...</td>\n",
       "      <td>5</td>\n",
       "      <td>16</td>\n",
       "      <td>31.25</td>\n",
       "    </tr>\n",
       "    <tr>\n",
       "      <th>8</th>\n",
       "      <td>llama3</td>\n",
       "      <td>../../metrics/knowledge_tests/obrazovaka/dead_...</td>\n",
       "      <td>9</td>\n",
       "      <td>19</td>\n",
       "      <td>47.37</td>\n",
       "    </tr>\n",
       "    <tr>\n",
       "      <th>9</th>\n",
       "      <td>llama3</td>\n",
       "      <td>../../metrics/knowledge_tests/obrazovaka/the_g...</td>\n",
       "      <td>7</td>\n",
       "      <td>10</td>\n",
       "      <td>70.00</td>\n",
       "    </tr>\n",
       "    <tr>\n",
       "      <th>10</th>\n",
       "      <td>llama3</td>\n",
       "      <td>../../metrics/knowledge_tests/obrazovaka/the_w...</td>\n",
       "      <td>2</td>\n",
       "      <td>10</td>\n",
       "      <td>20.00</td>\n",
       "    </tr>\n",
       "    <tr>\n",
       "      <th>11</th>\n",
       "      <td>llama3</td>\n",
       "      <td>../../metrics/knowledge_tests/obrazovaka/the_h...</td>\n",
       "      <td>12</td>\n",
       "      <td>30</td>\n",
       "      <td>40.00</td>\n",
       "    </tr>\n",
       "    <tr>\n",
       "      <th>12</th>\n",
       "      <td>llama3</td>\n",
       "      <td>../../metrics/knowledge_tests/obrazovaka/idiot...</td>\n",
       "      <td>4</td>\n",
       "      <td>12</td>\n",
       "      <td>33.33</td>\n",
       "    </tr>\n",
       "    <tr>\n",
       "      <th>13</th>\n",
       "      <td>llama3</td>\n",
       "      <td>../../metrics/knowledge_tests/obrazovaka/crime...</td>\n",
       "      <td>7</td>\n",
       "      <td>16</td>\n",
       "      <td>43.75</td>\n",
       "    </tr>\n",
       "    <tr>\n",
       "      <th>14</th>\n",
       "      <td>llama3</td>\n",
       "      <td>../../metrics/knowledge_tests/obrazovaka/anna_...</td>\n",
       "      <td>4</td>\n",
       "      <td>10</td>\n",
       "      <td>40.00</td>\n",
       "    </tr>\n",
       "  </tbody>\n",
       "</table>\n",
       "</div>"
      ],
      "text/plain": [
       "     model                                          test_path  num_ok  \\\n",
       "0   llama3  ../../metrics/knowledge_tests/obrazovaka/the_d...       3   \n",
       "1   llama3  ../../metrics/knowledge_tests/obrazovaka/the_b...       5   \n",
       "2   llama3  ../../metrics/knowledge_tests/obrazovaka/and_q...       6   \n",
       "3   llama3  ../../metrics/knowledge_tests/obrazovaka/oblom...      12   \n",
       "4   llama3  ../../metrics/knowledge_tests/obrazovaka/eveni...       2   \n",
       "5   llama3  ../../metrics/knowledge_tests/obrazovaka/docto...       2   \n",
       "6   llama3  ../../metrics/knowledge_tests/obrazovaka/war_a...      38   \n",
       "7   llama3  ../../metrics/knowledge_tests/obrazovaka/the_m...       5   \n",
       "8   llama3  ../../metrics/knowledge_tests/obrazovaka/dead_...       9   \n",
       "9   llama3  ../../metrics/knowledge_tests/obrazovaka/the_g...       7   \n",
       "10  llama3  ../../metrics/knowledge_tests/obrazovaka/the_w...       2   \n",
       "11  llama3  ../../metrics/knowledge_tests/obrazovaka/the_h...      12   \n",
       "12  llama3  ../../metrics/knowledge_tests/obrazovaka/idiot...       4   \n",
       "13  llama3  ../../metrics/knowledge_tests/obrazovaka/crime...       7   \n",
       "14  llama3  ../../metrics/knowledge_tests/obrazovaka/anna_...       4   \n",
       "\n",
       "    num_all  percent  \n",
       "0        16    18.75  \n",
       "1        10    50.00  \n",
       "2        18    33.33  \n",
       "3        19    63.16  \n",
       "4        10    20.00  \n",
       "5        13    15.38  \n",
       "6        70    54.29  \n",
       "7        16    31.25  \n",
       "8        19    47.37  \n",
       "9        10    70.00  \n",
       "10       10    20.00  \n",
       "11       30    40.00  \n",
       "12       12    33.33  \n",
       "13       16    43.75  \n",
       "14       10    40.00  "
      ]
     },
     "execution_count": 51,
     "metadata": {},
     "output_type": "execute_result"
    }
   ],
   "source": [
    "df = pd.DataFrame(rows)\n",
    "df"
   ]
  },
  {
   "cell_type": "code",
   "execution_count": 52,
   "metadata": {},
   "outputs": [
    {
     "data": {
      "text/html": [
       "<div>\n",
       "<style scoped>\n",
       "    .dataframe tbody tr th:only-of-type {\n",
       "        vertical-align: middle;\n",
       "    }\n",
       "\n",
       "    .dataframe tbody tr th {\n",
       "        vertical-align: top;\n",
       "    }\n",
       "\n",
       "    .dataframe thead th {\n",
       "        text-align: right;\n",
       "    }\n",
       "</style>\n",
       "<table border=\"1\" class=\"dataframe\">\n",
       "  <thead>\n",
       "    <tr style=\"text-align: right;\">\n",
       "      <th></th>\n",
       "      <th>model</th>\n",
       "      <th>test_path</th>\n",
       "      <th>num_ok</th>\n",
       "      <th>num_all</th>\n",
       "      <th>percent</th>\n",
       "    </tr>\n",
       "  </thead>\n",
       "  <tbody>\n",
       "    <tr>\n",
       "      <th>0</th>\n",
       "      <td>llama2</td>\n",
       "      <td>../../metrics/knowledge_tests/obrazovaka/the_d...</td>\n",
       "      <td>3</td>\n",
       "      <td>16</td>\n",
       "      <td>18.75</td>\n",
       "    </tr>\n",
       "    <tr>\n",
       "      <th>1</th>\n",
       "      <td>llama2</td>\n",
       "      <td>../../metrics/knowledge_tests/obrazovaka/the_b...</td>\n",
       "      <td>1</td>\n",
       "      <td>10</td>\n",
       "      <td>10.00</td>\n",
       "    </tr>\n",
       "    <tr>\n",
       "      <th>2</th>\n",
       "      <td>llama2</td>\n",
       "      <td>../../metrics/knowledge_tests/obrazovaka/and_q...</td>\n",
       "      <td>6</td>\n",
       "      <td>18</td>\n",
       "      <td>33.33</td>\n",
       "    </tr>\n",
       "    <tr>\n",
       "      <th>3</th>\n",
       "      <td>llama2</td>\n",
       "      <td>../../metrics/knowledge_tests/obrazovaka/oblom...</td>\n",
       "      <td>7</td>\n",
       "      <td>19</td>\n",
       "      <td>36.84</td>\n",
       "    </tr>\n",
       "    <tr>\n",
       "      <th>4</th>\n",
       "      <td>llama2</td>\n",
       "      <td>../../metrics/knowledge_tests/obrazovaka/eveni...</td>\n",
       "      <td>1</td>\n",
       "      <td>10</td>\n",
       "      <td>10.00</td>\n",
       "    </tr>\n",
       "    <tr>\n",
       "      <th>5</th>\n",
       "      <td>llama2</td>\n",
       "      <td>../../metrics/knowledge_tests/obrazovaka/docto...</td>\n",
       "      <td>3</td>\n",
       "      <td>13</td>\n",
       "      <td>23.08</td>\n",
       "    </tr>\n",
       "    <tr>\n",
       "      <th>6</th>\n",
       "      <td>llama2</td>\n",
       "      <td>../../metrics/knowledge_tests/obrazovaka/war_a...</td>\n",
       "      <td>17</td>\n",
       "      <td>70</td>\n",
       "      <td>24.29</td>\n",
       "    </tr>\n",
       "    <tr>\n",
       "      <th>7</th>\n",
       "      <td>llama2</td>\n",
       "      <td>../../metrics/knowledge_tests/obrazovaka/the_m...</td>\n",
       "      <td>4</td>\n",
       "      <td>16</td>\n",
       "      <td>25.00</td>\n",
       "    </tr>\n",
       "    <tr>\n",
       "      <th>8</th>\n",
       "      <td>llama2</td>\n",
       "      <td>../../metrics/knowledge_tests/obrazovaka/dead_...</td>\n",
       "      <td>4</td>\n",
       "      <td>19</td>\n",
       "      <td>21.05</td>\n",
       "    </tr>\n",
       "    <tr>\n",
       "      <th>9</th>\n",
       "      <td>llama2</td>\n",
       "      <td>../../metrics/knowledge_tests/obrazovaka/the_g...</td>\n",
       "      <td>2</td>\n",
       "      <td>10</td>\n",
       "      <td>20.00</td>\n",
       "    </tr>\n",
       "    <tr>\n",
       "      <th>10</th>\n",
       "      <td>llama2</td>\n",
       "      <td>../../metrics/knowledge_tests/obrazovaka/the_w...</td>\n",
       "      <td>3</td>\n",
       "      <td>10</td>\n",
       "      <td>30.00</td>\n",
       "    </tr>\n",
       "    <tr>\n",
       "      <th>11</th>\n",
       "      <td>llama2</td>\n",
       "      <td>../../metrics/knowledge_tests/obrazovaka/the_h...</td>\n",
       "      <td>6</td>\n",
       "      <td>30</td>\n",
       "      <td>20.00</td>\n",
       "    </tr>\n",
       "    <tr>\n",
       "      <th>12</th>\n",
       "      <td>llama2</td>\n",
       "      <td>../../metrics/knowledge_tests/obrazovaka/idiot...</td>\n",
       "      <td>3</td>\n",
       "      <td>12</td>\n",
       "      <td>25.00</td>\n",
       "    </tr>\n",
       "    <tr>\n",
       "      <th>13</th>\n",
       "      <td>llama2</td>\n",
       "      <td>../../metrics/knowledge_tests/obrazovaka/crime...</td>\n",
       "      <td>5</td>\n",
       "      <td>16</td>\n",
       "      <td>31.25</td>\n",
       "    </tr>\n",
       "    <tr>\n",
       "      <th>14</th>\n",
       "      <td>llama2</td>\n",
       "      <td>../../metrics/knowledge_tests/obrazovaka/anna_...</td>\n",
       "      <td>2</td>\n",
       "      <td>10</td>\n",
       "      <td>20.00</td>\n",
       "    </tr>\n",
       "    <tr>\n",
       "      <th>0</th>\n",
       "      <td>llama3</td>\n",
       "      <td>../../metrics/knowledge_tests/obrazovaka/the_d...</td>\n",
       "      <td>3</td>\n",
       "      <td>16</td>\n",
       "      <td>18.75</td>\n",
       "    </tr>\n",
       "    <tr>\n",
       "      <th>1</th>\n",
       "      <td>llama3</td>\n",
       "      <td>../../metrics/knowledge_tests/obrazovaka/the_b...</td>\n",
       "      <td>5</td>\n",
       "      <td>10</td>\n",
       "      <td>50.00</td>\n",
       "    </tr>\n",
       "    <tr>\n",
       "      <th>2</th>\n",
       "      <td>llama3</td>\n",
       "      <td>../../metrics/knowledge_tests/obrazovaka/and_q...</td>\n",
       "      <td>6</td>\n",
       "      <td>18</td>\n",
       "      <td>33.33</td>\n",
       "    </tr>\n",
       "    <tr>\n",
       "      <th>3</th>\n",
       "      <td>llama3</td>\n",
       "      <td>../../metrics/knowledge_tests/obrazovaka/oblom...</td>\n",
       "      <td>12</td>\n",
       "      <td>19</td>\n",
       "      <td>63.16</td>\n",
       "    </tr>\n",
       "    <tr>\n",
       "      <th>4</th>\n",
       "      <td>llama3</td>\n",
       "      <td>../../metrics/knowledge_tests/obrazovaka/eveni...</td>\n",
       "      <td>2</td>\n",
       "      <td>10</td>\n",
       "      <td>20.00</td>\n",
       "    </tr>\n",
       "    <tr>\n",
       "      <th>5</th>\n",
       "      <td>llama3</td>\n",
       "      <td>../../metrics/knowledge_tests/obrazovaka/docto...</td>\n",
       "      <td>2</td>\n",
       "      <td>13</td>\n",
       "      <td>15.38</td>\n",
       "    </tr>\n",
       "    <tr>\n",
       "      <th>6</th>\n",
       "      <td>llama3</td>\n",
       "      <td>../../metrics/knowledge_tests/obrazovaka/war_a...</td>\n",
       "      <td>38</td>\n",
       "      <td>70</td>\n",
       "      <td>54.29</td>\n",
       "    </tr>\n",
       "    <tr>\n",
       "      <th>7</th>\n",
       "      <td>llama3</td>\n",
       "      <td>../../metrics/knowledge_tests/obrazovaka/the_m...</td>\n",
       "      <td>5</td>\n",
       "      <td>16</td>\n",
       "      <td>31.25</td>\n",
       "    </tr>\n",
       "    <tr>\n",
       "      <th>8</th>\n",
       "      <td>llama3</td>\n",
       "      <td>../../metrics/knowledge_tests/obrazovaka/dead_...</td>\n",
       "      <td>9</td>\n",
       "      <td>19</td>\n",
       "      <td>47.37</td>\n",
       "    </tr>\n",
       "    <tr>\n",
       "      <th>9</th>\n",
       "      <td>llama3</td>\n",
       "      <td>../../metrics/knowledge_tests/obrazovaka/the_g...</td>\n",
       "      <td>7</td>\n",
       "      <td>10</td>\n",
       "      <td>70.00</td>\n",
       "    </tr>\n",
       "    <tr>\n",
       "      <th>10</th>\n",
       "      <td>llama3</td>\n",
       "      <td>../../metrics/knowledge_tests/obrazovaka/the_w...</td>\n",
       "      <td>2</td>\n",
       "      <td>10</td>\n",
       "      <td>20.00</td>\n",
       "    </tr>\n",
       "    <tr>\n",
       "      <th>11</th>\n",
       "      <td>llama3</td>\n",
       "      <td>../../metrics/knowledge_tests/obrazovaka/the_h...</td>\n",
       "      <td>12</td>\n",
       "      <td>30</td>\n",
       "      <td>40.00</td>\n",
       "    </tr>\n",
       "    <tr>\n",
       "      <th>12</th>\n",
       "      <td>llama3</td>\n",
       "      <td>../../metrics/knowledge_tests/obrazovaka/idiot...</td>\n",
       "      <td>4</td>\n",
       "      <td>12</td>\n",
       "      <td>33.33</td>\n",
       "    </tr>\n",
       "    <tr>\n",
       "      <th>13</th>\n",
       "      <td>llama3</td>\n",
       "      <td>../../metrics/knowledge_tests/obrazovaka/crime...</td>\n",
       "      <td>7</td>\n",
       "      <td>16</td>\n",
       "      <td>43.75</td>\n",
       "    </tr>\n",
       "    <tr>\n",
       "      <th>14</th>\n",
       "      <td>llama3</td>\n",
       "      <td>../../metrics/knowledge_tests/obrazovaka/anna_...</td>\n",
       "      <td>4</td>\n",
       "      <td>10</td>\n",
       "      <td>40.00</td>\n",
       "    </tr>\n",
       "  </tbody>\n",
       "</table>\n",
       "</div>"
      ],
      "text/plain": [
       "     model                                          test_path  num_ok  \\\n",
       "0   llama2  ../../metrics/knowledge_tests/obrazovaka/the_d...       3   \n",
       "1   llama2  ../../metrics/knowledge_tests/obrazovaka/the_b...       1   \n",
       "2   llama2  ../../metrics/knowledge_tests/obrazovaka/and_q...       6   \n",
       "3   llama2  ../../metrics/knowledge_tests/obrazovaka/oblom...       7   \n",
       "4   llama2  ../../metrics/knowledge_tests/obrazovaka/eveni...       1   \n",
       "5   llama2  ../../metrics/knowledge_tests/obrazovaka/docto...       3   \n",
       "6   llama2  ../../metrics/knowledge_tests/obrazovaka/war_a...      17   \n",
       "7   llama2  ../../metrics/knowledge_tests/obrazovaka/the_m...       4   \n",
       "8   llama2  ../../metrics/knowledge_tests/obrazovaka/dead_...       4   \n",
       "9   llama2  ../../metrics/knowledge_tests/obrazovaka/the_g...       2   \n",
       "10  llama2  ../../metrics/knowledge_tests/obrazovaka/the_w...       3   \n",
       "11  llama2  ../../metrics/knowledge_tests/obrazovaka/the_h...       6   \n",
       "12  llama2  ../../metrics/knowledge_tests/obrazovaka/idiot...       3   \n",
       "13  llama2  ../../metrics/knowledge_tests/obrazovaka/crime...       5   \n",
       "14  llama2  ../../metrics/knowledge_tests/obrazovaka/anna_...       2   \n",
       "0   llama3  ../../metrics/knowledge_tests/obrazovaka/the_d...       3   \n",
       "1   llama3  ../../metrics/knowledge_tests/obrazovaka/the_b...       5   \n",
       "2   llama3  ../../metrics/knowledge_tests/obrazovaka/and_q...       6   \n",
       "3   llama3  ../../metrics/knowledge_tests/obrazovaka/oblom...      12   \n",
       "4   llama3  ../../metrics/knowledge_tests/obrazovaka/eveni...       2   \n",
       "5   llama3  ../../metrics/knowledge_tests/obrazovaka/docto...       2   \n",
       "6   llama3  ../../metrics/knowledge_tests/obrazovaka/war_a...      38   \n",
       "7   llama3  ../../metrics/knowledge_tests/obrazovaka/the_m...       5   \n",
       "8   llama3  ../../metrics/knowledge_tests/obrazovaka/dead_...       9   \n",
       "9   llama3  ../../metrics/knowledge_tests/obrazovaka/the_g...       7   \n",
       "10  llama3  ../../metrics/knowledge_tests/obrazovaka/the_w...       2   \n",
       "11  llama3  ../../metrics/knowledge_tests/obrazovaka/the_h...      12   \n",
       "12  llama3  ../../metrics/knowledge_tests/obrazovaka/idiot...       4   \n",
       "13  llama3  ../../metrics/knowledge_tests/obrazovaka/crime...       7   \n",
       "14  llama3  ../../metrics/knowledge_tests/obrazovaka/anna_...       4   \n",
       "\n",
       "    num_all  percent  \n",
       "0        16    18.75  \n",
       "1        10    10.00  \n",
       "2        18    33.33  \n",
       "3        19    36.84  \n",
       "4        10    10.00  \n",
       "5        13    23.08  \n",
       "6        70    24.29  \n",
       "7        16    25.00  \n",
       "8        19    21.05  \n",
       "9        10    20.00  \n",
       "10       10    30.00  \n",
       "11       30    20.00  \n",
       "12       12    25.00  \n",
       "13       16    31.25  \n",
       "14       10    20.00  \n",
       "0        16    18.75  \n",
       "1        10    50.00  \n",
       "2        18    33.33  \n",
       "3        19    63.16  \n",
       "4        10    20.00  \n",
       "5        13    15.38  \n",
       "6        70    54.29  \n",
       "7        16    31.25  \n",
       "8        19    47.37  \n",
       "9        10    70.00  \n",
       "10       10    20.00  \n",
       "11       30    40.00  \n",
       "12       12    33.33  \n",
       "13       16    43.75  \n",
       "14       10    40.00  "
      ]
     },
     "execution_count": 52,
     "metadata": {},
     "output_type": "execute_result"
    }
   ],
   "source": [
    "init_df = pd.read_csv(\"../../metrics/knowledge_tests/obrazovaka/full_results.csv\")\n",
    "full_df = pd.concat((init_df, df))\n",
    "full_df"
   ]
  },
  {
   "cell_type": "code",
   "execution_count": 53,
   "metadata": {},
   "outputs": [],
   "source": [
    "full_df.to_csv(\"../../metrics/knowledge_tests/obrazovaka/full_results.csv\", index=False)"
   ]
  },
  {
   "cell_type": "code",
   "execution_count": null,
   "metadata": {},
   "outputs": [],
   "source": []
  }
 ],
 "metadata": {
  "kernelspec": {
   "display_name": "Python 3",
   "language": "python",
   "name": "python3"
  },
  "language_info": {
   "codemirror_mode": {
    "name": "ipython",
    "version": 3
   },
   "file_extension": ".py",
   "mimetype": "text/x-python",
   "name": "python",
   "nbconvert_exporter": "python",
   "pygments_lexer": "ipython3",
   "version": "3.11.5"
  }
 },
 "nbformat": 4,
 "nbformat_minor": 2
}
