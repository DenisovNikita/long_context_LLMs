{
 "cells": [
  {
   "cell_type": "markdown",
   "metadata": {},
   "source": [
    "### Imports"
   ]
  },
  {
   "cell_type": "code",
   "execution_count": 2,
   "metadata": {},
   "outputs": [],
   "source": [
    "from definitions import *"
   ]
  },
  {
   "cell_type": "markdown",
   "metadata": {},
   "source": [
    "### Process diplomas"
   ]
  },
  {
   "cell_type": "code",
   "execution_count": 14,
   "metadata": {},
   "outputs": [],
   "source": [
    "dir_path_input = Path(\"../artifacts/parsing/spbu/processed_ext_doc/\")\n",
    "dir_path_output = Path(\"../artifacts/parsing/spbu/processed_ext_doc_only_russian_diplomas_stupid_filter/\")\n",
    "dir_path_output.mkdir(exist_ok=True, parents=True)"
   ]
  },
  {
   "cell_type": "code",
   "execution_count": 16,
   "metadata": {},
   "outputs": [
    {
     "name": "stdout",
     "output_type": "stream",
     "text": [
      "Санкт-Петербургский государственный университет\n",
      "\n",
      "\n",
      "\n",
      "ЧЖАН Яо\n",
      "\n",
      "Выпускная квалификационная работа\n",
      "\n",
      "Интер\n",
      "                 САНКТ-ПЕТЕРБУРГСКИЙ ГОСУДАРСТВЕННЫЙ УНИВЕРСИТЕТ\n",
      "\n",
      "\n",
      "Кафедра культурной антропологии и\n",
      "Санкт-Петербургский государственный университет\n",
      "\n",
      "\n",
      "КОРНЮШЕНКО Ляйсан Ильдаровна\n",
      "\n",
      "Выпускная квалификац\n",
      "Санкт-Петербургский государственный университет\n",
      "\n",
      "\n",
      "ХРОБОСТОВА Анастасия Александровна\n",
      "\n",
      "Выпускная квал\n",
      "Санкт-Петербургский государственный университет\n",
      "\n",
      "\n",
      "\n",
      "\n",
      "\n",
      "\n",
      "\n",
      "\n",
      "АБДУЛЛАЕВ Шохжахон Улугбек угли\n",
      "\n",
      "Выпускная к\n",
      "Санкт-Петербургский государственный университет\n",
      "\n",
      "\n",
      "\n",
      "КУДРИНА Александра Вячеславовна\n",
      "\n",
      "Выпускная квалиф\n",
      "Санкт-Петербургский государственный университет\n",
      "\n",
      "\n",
      "\n",
      "Гуань Ай\n",
      "\n",
      "Выпускная квалификационная работа\n",
      "\n",
      "Язык\n",
      "Санкт-Петербургский государственный университет\n",
      "\n",
      "\n",
      "\n",
      "Жэнь Дунли\n",
      "\n",
      "Выпускная квалификационная работа\n",
      "\n",
      "Ср\n",
      "ФГОУ ВО «Санкт-Петербургский государственный университет» \n",
      "\n",
      "\n",
      "Ольденборгер Полина Дмитриевна\n",
      "ВЫПУСК\n",
      "Санкт-Петербургский государственный университет\n",
      "\n",
      "\n",
      "\n",
      "\n",
      "Лейкина Екатерина Алексеевна\n",
      "\n",
      "Выпускная квалифик\n",
      "Санкт-Петербургский государственный университет\n",
      "\n",
      "\n",
      "САФИНА Анна Сергеевна\n",
      "\n",
      "Выпускная квалификационная \n",
      "Санкт-Петербургский государственный университет\n",
      "\n",
      "\n",
      "\n",
      "СВЯТОХА Александра Павловна\n",
      "\n",
      "Выпускная квалификац\n",
      "САНКТ-ПЕТЕРБУРГСКИЙ ГОСУДАРСТВЕННЫЙ УНИВЕРСИТЕТ\n",
      "\n",
      "Михальский Михаил Геннадьевич\n",
      "\n",
      "ВЫПУСКНАЯ КВАЛИФИКАЦ\n",
      "Санкт-Петербургский государственный университет\n",
      "\n",
      "\n",
      "\n",
      "\n",
      "\n",
      "\n",
      "Чжан Хаожань\n",
      "\n",
      "Выпускная квалификационная работ\n",
      "Санкт-Петербургский государственный университет\n",
      "\n",
      "Дуань Сужуй\n",
      "\n",
      "Выпускная квалификационная работа\n",
      "\n",
      "Спр\n",
      "Санкт-Петербургский государственный университет\n",
      "\n",
      "\n",
      "\n",
      "СЕМЕНЕЦ Марина Олеговна\n",
      "\n",
      "Выпускная квалификационн\n",
      "Санкт-Петербургский государственный университет\n",
      "\n",
      "\n",
      "\n",
      "ПУГАЧЕНКОВА Юлия Александровна\n",
      "\n",
      "Выпускная квалифи\n",
      "Санкт-Петербургский государственный университет\n",
      "\n",
      "\n",
      "\n",
      " ЕРЁМИНА Надежда Юрьевна\n",
      "\n",
      "Выпускная квалификацион\n",
      "Санкт-Петербургский государственный университет\n",
      "\n",
      "\n",
      "\n",
      "ВАН Сюефэн\n",
      "\n",
      "Выпускная квалификационная работа\n",
      "\n",
      "Ос\n",
      "Санкт-Петербургский государственный университет   \n",
      "\n",
      "ВОЛКОВА Алина Анатольевна\n",
      "\n",
      "Выпускная квалификаци\n",
      "\n",
      "САНКТ-ПЕТЕРБУРГСКИЙ ГОСУДАРСТВЕННЫЙ УНИВЕРСИТЕТ\n",
      "\n",
      "Лю Цзясюй\n",
      "\n",
      "Выпускная квалификационная работа\n",
      "\n",
      "Цифр\n",
      "Санкт-Петербургский государственный университет\n",
      "\n",
      "\n",
      "СЕРОВА Дарья Ильинична\n",
      "\n",
      "Выпускная квалификационная\n",
      "Санкт-Петербургский государственный университет\n",
      "Чжан Шужун\n",
      "Выпускная квалификационная работа\n",
      "Фактор \n",
      "23 143\n"
     ]
    }
   ],
   "source": [
    "num_ok, num_all = 0, 0\n",
    "for file in dir_path_input.glob(\"*.txt\"):\n",
    "    with open(file, \"r\") as f:\n",
    "        text = f.read()\n",
    "    if \"выпускная квалификационная работа\" in text.lower() and \"отзыв\" not in text.lower():\n",
    "        with open(f\"{dir_path_output}/{file.stem}.txt\", \"w\") as f:\n",
    "            f.write(text)\n",
    "        print(text[:100])\n",
    "        num_ok += 1\n",
    "    num_all += 1\n",
    "print(num_ok, num_all)"
   ]
  },
  {
   "cell_type": "markdown",
   "metadata": {},
   "source": [
    "### Make tokenizer work"
   ]
  },
  {
   "cell_type": "code",
   "execution_count": 3,
   "metadata": {},
   "outputs": [
    {
     "name": "stderr",
     "output_type": "stream",
     "text": [
      "Iterating through models:   0%|          | 0/16 [00:00<?, ?it/s]"
     ]
    },
    {
     "name": "stderr",
     "output_type": "stream",
     "text": [
      "Iterating through models:  12%|█▎        | 2/16 [00:00<00:06,  2.15it/s]Token indices sequence length is longer than the specified maximum sequence length for this model (118000 > 2048). Running this sequence through the model will result in indexing errors\n",
      "Iterating through directory: 23it [00:05,  4.10it/s]\n",
      "Iterating through directory: 23it [00:02, 10.11it/s]06<00:38,  2.94s/it]\n",
      "Iterating through models:  25%|██▌       | 4/16 [00:09<00:35,  2.94s/it]Token indices sequence length is longer than the specified maximum sequence length for this model (86841 > 512). Running this sequence through the model will result in indexing errors\n",
      "Iterating through directory: 23it [00:02,  8.91it/s]\n",
      "Iterating through models:  31%|███▏      | 5/16 [00:12<00:31,  2.89s/it]Special tokens have been added in the vocabulary, make sure the associated word embeddings are fine-tuned or trained.\n",
      "Special tokens have been added in the vocabulary, make sure the associated word embeddings are fine-tuned or trained.\n",
      "Iterating through directory: 23it [00:02,  9.90it/s]\n",
      "Iterating through models:  38%|███▊      | 6/16 [00:15<00:28,  2.80s/it]Special tokens have been added in the vocabulary, make sure the associated word embeddings are fine-tuned or trained.\n",
      "Token indices sequence length is longer than the specified maximum sequence length for this model (129212 > 2048). Running this sequence through the model will result in indexing errors\n",
      "Iterating through directory: 23it [00:03,  7.41it/s]\n",
      "Iterating through models:  44%|████▍     | 7/16 [00:18<00:26,  2.97s/it]Special tokens have been added in the vocabulary, make sure the associated word embeddings are fine-tuned or trained.\n",
      "Iterating through directory: 23it [00:02,  8.67it/s]\n",
      "Iterating through directory: 23it [00:01, 13.96it/s]21<00:23,  2.96s/it]\n",
      "Iterating through models:  56%|█████▋    | 9/16 [00:23<00:18,  2.61s/it]Special tokens have been added in the vocabulary, make sure the associated word embeddings are fine-tuned or trained.\n",
      "Special tokens have been added in the vocabulary, make sure the associated word embeddings are fine-tuned or trained.\n",
      "Token indices sequence length is longer than the specified maximum sequence length for this model (50880 > 32768). Running this sequence through the model will result in indexing errors\n",
      "Iterating through directory: 23it [00:01, 14.37it/s]\n",
      "Iterating through models:  62%|██████▎   | 10/16 [00:25<00:14,  2.41s/it]Token indices sequence length is longer than the specified maximum sequence length for this model (46354 > 4096). Running this sequence through the model will result in indexing errors\n",
      "Iterating through directory: 23it [00:01, 14.13it/s]\n",
      "Iterating through directory: 23it [00:01, 12.27it/s]:27<00:11,  2.29s/it]\n",
      "Iterating through models:  75%|███████▌  | 12/16 [00:29<00:08,  2.23s/it]Token indices sequence length is longer than the specified maximum sequence length for this model (30894 > 4096). Running this sequence through the model will result in indexing errors\n",
      "Iterating through directory: 23it [00:02,  8.90it/s]\n",
      "Iterating through directory: 23it [00:01, 14.60it/s]:32<00:07,  2.42s/it]\n",
      "Iterating through directory: 23it [00:01, 13.56it/s]:34<00:04,  2.23s/it]\n",
      "Iterating through directory: 23it [00:01, 14.90it/s]:35<00:02,  2.13s/it]\n",
      "Iterating through models: 100%|██████████| 16/16 [00:38<00:00,  2.38s/it]"
     ]
    },
    {
     "name": "stdout",
     "output_type": "stream",
     "text": [
      "failed: ['llama-2-7b', 'llama-3-8b']\n"
     ]
    },
    {
     "name": "stderr",
     "output_type": "stream",
     "text": [
      "\n"
     ]
    }
   ],
   "source": [
    "from transformers import AutoTokenizer\n",
    "\n",
    "model_to_repo = {\n",
    "    \"llama-2-7b\": \"meta-llama/Llama-2-7b\",\n",
    "    \"llama-3-8b\": \"meta-llama/Meta-Llama-3-8B\",\n",
    "    \"falcon\": \"tiiuae/falcon-7b\",\n",
    "    \"bloom\": \"bigscience/bloom\",\n",
    "    \"flan-t5-xxl\": \"google/flan-t5-xxl\",\n",
    "    \"fred-t5-1.7b\": \"ai-forever/FRED-T5-1.7B\",\n",
    "    \"phi\": \"microsoft/phi-2\",\n",
    "    \"dolly-v2-7b\": \"databricks/dolly-v2-7b\",\n",
    "    \"DeciLM-7b\": \"Deci/DeciLM-7B\",\n",
    "    \"saiga_mistral_7b_lora\": \"IlyaGusev/saiga_mistral_7b_lora\",\n",
    "    \"vicuna-7b\": \"lmsys/vicuna-7b-v1.5\",\n",
    "    \"vikhr-7b\": \"Vikhrmodels/Vikhr-7b-0.1\",\n",
    "    \"ru-longformer-large-4096\": \"kazzand/ru-longformer-large-4096\",\n",
    "    # with auth\n",
    "    \"mistral-7b\": \"mistralai/Mistral-7B-v0.1\",\n",
    "    \"mixtral-8x7b\": \"mistralai/Mixtral-8x7B-v0.1\",\n",
    "    \"gemma-7b\": \"google/gemma-7b\",\n",
    "}\n",
    "dir_path_input = Path(\"../artifacts/parsing/spbu/processed_ext_doc_only_russian_diplomas_stupid_filter/\")\n",
    "dir_path_output = Path(\"../artifacts/tokens/diplomas_stupid_filter\")\n",
    "dir_path_output.mkdir(exist_ok=True, parents=True)\n",
    "\n",
    "failed = []\n",
    "for model, repo in tqdm(model_to_repo.items(), desc=\"Iterating through models\"):\n",
    "    try:\n",
    "        tokenizer = AutoTokenizer.from_pretrained(repo)\n",
    "        book_to_tokens = dict()\n",
    "        for file in tqdm(dir_path_input.glob(\"*.txt\"), desc=\"Iterating through directory\"):\n",
    "            with open(file, \"r\") as f:\n",
    "                num_tokens = len(tokenizer(f.read())[\"input_ids\"])\n",
    "            book_to_tokens[file.stem] = num_tokens\n",
    "        with open(f\"{dir_path_output}/{model}.json\", \"w\") as f:\n",
    "            json.dump(book_to_tokens, f, indent=2, ensure_ascii=False)\n",
    "    except Exception:\n",
    "        failed.append(model)\n",
    "print(f\"failed: {failed}\")"
   ]
  },
  {
   "cell_type": "markdown",
   "metadata": {},
   "source": [
    "### Plot graphics"
   ]
  },
  {
   "cell_type": "code",
   "execution_count": 5,
   "metadata": {},
   "outputs": [
    {
     "data": {
      "text/plain": [
       "PosixPath('../artifacts/tokens/diplomas_stupid_filter')"
      ]
     },
     "execution_count": 5,
     "metadata": {},
     "output_type": "execute_result"
    }
   ],
   "source": [
    "dir_path_output"
   ]
  },
  {
   "cell_type": "code",
   "execution_count": 7,
   "metadata": {},
   "outputs": [
    {
     "data": {
      "text/plain": [
       "14"
      ]
     },
     "execution_count": 7,
     "metadata": {},
     "output_type": "execute_result"
    }
   ],
   "source": [
    "len(list(dir_path_output.glob(\"*\")))"
   ]
  },
  {
   "cell_type": "code",
   "execution_count": 9,
   "metadata": {},
   "outputs": [
    {
     "name": "stdout",
     "output_type": "stream",
     "text": [
      "[ 8  7  4  1 10  6 11 12  9 13  2  0  3  5]\n",
      "140708.30434782608 phi\n",
      "129205.95652173914 falcon\n",
      "96496.30434782608 flan-t5-xxl\n",
      "70378.95652173914 dolly-v2-7b\n",
      "64770.608695652176 bloom\n",
      "57746.82608695652 DeciLM-7b\n",
      "57746.82608695652 mixtral-8x7b\n",
      "57746.82608695652 mistral-7b\n",
      "57745.82608695652 saiga_mistral_7b_lora\n",
      "53389.65217391304 vicuna-7b\n",
      "43315.34782608696 vikhr-7b\n",
      "40703.30434782609 gemma-7b\n",
      "37008.608695652176 ru-longformer-large-4096\n",
      "36097.86956521739 fred-t5-1.7b\n"
     ]
    },
    {
     "data": {
      "image/png": "[encoded data removed]",
      "text/plain": [
       "<Figure size 640x480 with 1 Axes>"
      ]
     },
     "metadata": {},
     "output_type": "display_data"
    }
   ],
   "source": [
    "import matplotlib.pyplot as plt\n",
    "\n",
    "values = []\n",
    "labels = []\n",
    "for file in Path(dir_path_output).glob(\"*\"):\n",
    "    labels.append(file.stem)\n",
    "    with open(file, \"r\") as f:\n",
    "        values.append(list(json.load(f).values()))\n",
    "values = np.array(values)\n",
    "labels = np.array(labels)\n",
    "perm = range(len(values))\n",
    "perm = sorted(perm, key=lambda i: -np.mean(values[i]))\n",
    "perm = np.array(perm)\n",
    "print(perm)\n",
    "for p in perm:\n",
    "    print(np.mean(values[p]), labels[p])\n",
    "fig, ax = plt.subplots()\n",
    "for position, column in enumerate(perm):\n",
    "    ax.boxplot(values[column], positions=[position], vert=False, widths=0.5)\n",
    "ax.set_yticks(range(position+1))\n",
    "ax.set_yticklabels(labels[perm])\n",
    "ax.vlines(np.array([0, 0.5, 1]) * 1e6, ymin=-1, ymax=len(labels), alpha=0.2, color='blue')\n",
    "ax.vlines([128000], ymin=-1, ymax=len(labels), alpha=0.8, color='red')\n",
    "plt.title(\"Распределение токенов в 14 дипломах СПБГУ на русском языке 2023 года для разных моделей\")\n",
    "\n",
    "plt.show()"
   ]
  },
  {
   "cell_type": "code",
   "execution_count": null,
   "metadata": {},
   "outputs": [],
   "source": []
  }
 ],
 "metadata": {
  "kernelspec": {
   "display_name": "Python 3",
   "language": "python",
   "name": "python3"
  },
  "language_info": {
   "codemirror_mode": {
    "name": "ipython",
    "version": 3
   },
   "file_extension": ".py",
   "mimetype": "text/x-python",
   "name": "python",
   "nbconvert_exporter": "python",
   "pygments_lexer": "ipython3",
   "version": "3.11.5"
  }
 },
 "nbformat": 4,
 "nbformat_minor": 2
}
