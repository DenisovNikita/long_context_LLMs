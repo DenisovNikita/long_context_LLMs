{
 "cells": [
  {
   "cell_type": "markdown",
   "metadata": {},
   "source": [
    "### Imports & Definitions"
   ]
  },
  {
   "cell_type": "code",
   "execution_count": 1,
   "metadata": {},
   "outputs": [],
   "source": [
    "import sys\n",
    "sys.path.append(\"..\")\n",
    "from definitions import *"
   ]
  },
  {
   "cell_type": "markdown",
   "metadata": {},
   "source": [
    "### Try GigaChat API"
   ]
  },
  {
   "cell_type": "code",
   "execution_count": null,
   "metadata": {},
   "outputs": [],
   "source": [
    "CLIENT_SECRET = \"<client-secret>\""
   ]
  },
  {
   "cell_type": "code",
   "execution_count": 21,
   "metadata": {},
   "outputs": [
    {
     "name": "stdout",
     "output_type": "stream",
     "text": [
      "{\"access_token\":\"eyJjdHkiOiJqd3QiLCJlbmMiOiJBMjU2Q0JDLUhTNTEyIiwiYWxnIjoiUlNBLU9BRVAtMjU2In0.htrKiHy7ccIcbw8av8kyqa9Y6wwtzGdXihkwKI_bD4NLMQ4mukAOCnCWkRLKfJynfnX-fInk5v0tsXr8h3HJ8tw_GUyYOXHFgGjBnamwgkgTVH2BJoXNyeOb57BFN5tj_1014zbtZ1LYmDrk6tYLjZwHvRMZxjsQRQkjma-qGqWMxuIj4fOLZtH-bauUG8b1NxrkY2PCH5ROhE3Zvd6_A2bJWWFTaLuQXjaC2xyP4_2Z-0B5eqDqaIZ3SEHMHxltZAhYr2fidIIafuwPATV8LNBJzEnDAi-JnhM7l13SoVwn-Fx0NCwy52y4SMYIeM_37XD4L5LuZl11bEKYPEeJgQ.DshwjtDAC0ZM0YO3-_fuqQ.vZlLIMwvCd7mUHQOQqG7dLB6L2M_dfgbiLEojdtrdEAzP2zvUR8-68tSDjfA-wMuzDCKfBTOI5oigy4zn0XqOEAa-79N-4YxNOvsZ_Eq2uQiCuGCjBQ1qaz0TPDl5nCz0pBs1bEZgthq1maQdd5B0QVm9uecChb8z8VIkculOLgjqNcHX2Ga2y2xM2ad-UorG6n6obXVONuG5QS-FxK03KEWFJ-pIowWGT6ftz5DTSxyvhe8iUqKMfSczTUXoSwYWK4TqjKPKEYG5SgqeOZqjKso11-slIXm6f6xg8KEj_FedvNrl8SZ_CrKkrqvZ76x0ylkk0VTK-Sl8lsE-s29AZeyfc7x0CNdPy8-vb8_IlVsq9QPTk12EuoPUokU3FsAWpjbSLkvKT6TMeqnOE7fmoMdZIe3Qq5EPHcyBx3SzCnfQHpEyFWhk8bRmDbvadR8PUtQNx3ZmF6R6-rluLxtduaP6x8uztxXhbMRpUBZggXiFIrgjdXbr5Day4UMCTmzmjqqAsdGR6SQs0ZDf_hOr3iFnus7tzYW9xa8TlRlJSwK9VIYm3KYMrYLZSwDaiMykbeMhlJEr84xhMIre7K_aWXu6ikn1UHenUpWoMqqCdmWIK_hEZa2m6hvz3jKBEQk4skMibC9LYbSS-GJ3l3Z-qjJir4hI3BOgAYpINOlSsXdlsRzl13ZbwuSZdW1QPV9uWjzzROIPY-kgH_MY0bX59ZNaPvlbrjPm3YGO9863sA.eqJH3wVpxvdodwXP4ms-kpGRJe6v5sTvMkT5fcgMxXE\",\"expires_at\":1714177979101}\n"
     ]
    },
    {
     "name": "stderr",
     "output_type": "stream",
     "text": [
      "/opt/homebrew/lib/python3.11/site-packages/urllib3/connectionpool.py:1056: InsecureRequestWarning: Unverified HTTPS request is being made to host 'ngw.devices.sberbank.ru'. Adding certificate verification is strongly advised. See: https://urllib3.readthedocs.io/en/1.26.x/advanced-usage.html#ssl-warnings\n",
      "  warnings.warn(\n"
     ]
    },
    {
     "data": {
      "text/plain": [
       "'eyJjdHkiOiJqd3QiLCJlbmMiOiJBMjU2Q0JDLUhTNTEyIiwiYWxnIjoiUlNBLU9BRVAtMjU2In0.htrKiHy7ccIcbw8av8kyqa9Y6wwtzGdXihkwKI_bD4NLMQ4mukAOCnCWkRLKfJynfnX-fInk5v0tsXr8h3HJ8tw_GUyYOXHFgGjBnamwgkgTVH2BJoXNyeOb57BFN5tj_1014zbtZ1LYmDrk6tYLjZwHvRMZxjsQRQkjma-qGqWMxuIj4fOLZtH-bauUG8b1NxrkY2PCH5ROhE3Zvd6_A2bJWWFTaLuQXjaC2xyP4_2Z-0B5eqDqaIZ3SEHMHxltZAhYr2fidIIafuwPATV8LNBJzEnDAi-JnhM7l13SoVwn-Fx0NCwy52y4SMYIeM_37XD4L5LuZl11bEKYPEeJgQ.DshwjtDAC0ZM0YO3-_fuqQ.vZlLIMwvCd7mUHQOQqG7dLB6L2M_dfgbiLEojdtrdEAzP2zvUR8-68tSDjfA-wMuzDCKfBTOI5oigy4zn0XqOEAa-79N-4YxNOvsZ_Eq2uQiCuGCjBQ1qaz0TPDl5nCz0pBs1bEZgthq1maQdd5B0QVm9uecChb8z8VIkculOLgjqNcHX2Ga2y2xM2ad-UorG6n6obXVONuG5QS-FxK03KEWFJ-pIowWGT6ftz5DTSxyvhe8iUqKMfSczTUXoSwYWK4TqjKPKEYG5SgqeOZqjKso11-slIXm6f6xg8KEj_FedvNrl8SZ_CrKkrqvZ76x0ylkk0VTK-Sl8lsE-s29AZeyfc7x0CNdPy8-vb8_IlVsq9QPTk12EuoPUokU3FsAWpjbSLkvKT6TMeqnOE7fmoMdZIe3Qq5EPHcyBx3SzCnfQHpEyFWhk8bRmDbvadR8PUtQNx3ZmF6R6-rluLxtduaP6x8uztxXhbMRpUBZggXiFIrgjdXbr5Day4UMCTmzmjqqAsdGR6SQs0ZDf_hOr3iFnus7tzYW9xa8TlRlJSwK9VIYm3KYMrYLZSwDaiMykbeMhlJEr84xhMIre7K_aWXu6ikn1UHenUpWoMqqCdmWIK_hEZa2m6hvz3jKBEQk4skMibC9LYbSS-GJ3l3Z-qjJir4hI3BOgAYpINOlSsXdlsRzl13ZbwuSZdW1QPV9uWjzzROIPY-kgH_MY0bX59ZNaPvlbrjPm3YGO9863sA.eqJH3wVpxvdodwXP4ms-kpGRJe6v5sTvMkT5fcgMxXE'"
      ]
     },
     "execution_count": 21,
     "metadata": {},
     "output_type": "execute_result"
    }
   ],
   "source": [
    "import requests\n",
    "\n",
    "url = \"https://ngw.devices.sberbank.ru:9443/api/v2/oauth\"\n",
    "\n",
    "payload='scope=GIGACHAT_API_PERS'\n",
    "headers = {\n",
    "  'Content-Type': 'application/x-www-form-urlencoded',\n",
    "  'Accept': 'application/json',\n",
    "  'RqUID': '5c9038e4-be02-47f7-a695-52d8828117b2',\n",
    "  'Authorization': f'Basic {CLIENT_SECRET}'\n",
    "}\n",
    "\n",
    "response = requests.request(\"POST\", url, headers=headers, data=payload, verify=False)\n",
    "\n",
    "print(response.text)\n",
    "ACCESS_TOKEN = json.loads(response.text)[\"access_token\"]\n",
    "ACCESS_TOKEN"
   ]
  },
  {
   "cell_type": "code",
   "execution_count": 22,
   "metadata": {},
   "outputs": [
    {
     "name": "stdout",
     "output_type": "stream",
     "text": [
      "{\"object\":\"list\",\"data\":[{\"id\":\"GigaChat\",\"object\":\"model\",\"owned_by\":\"salutedevices\"},{\"id\":\"GigaChat-Plus\",\"object\":\"model\",\"owned_by\":\"salutedevices\"},{\"id\":\"GigaChat-Plus-preview\",\"object\":\"model\",\"owned_by\":\"salutedevices\"},{\"id\":\"GigaChat-Pro\",\"object\":\"model\",\"owned_by\":\"salutedevices\"},{\"id\":\"GigaChat-Pro-preview\",\"object\":\"model\",\"owned_by\":\"salutedevices\"},{\"id\":\"GigaChat-preview\",\"object\":\"model\",\"owned_by\":\"salutedevices\"}]}\n"
     ]
    },
    {
     "name": "stderr",
     "output_type": "stream",
     "text": [
      "/opt/homebrew/lib/python3.11/site-packages/urllib3/connectionpool.py:1056: InsecureRequestWarning: Unverified HTTPS request is being made to host 'gigachat.devices.sberbank.ru'. Adding certificate verification is strongly advised. See: https://urllib3.readthedocs.io/en/1.26.x/advanced-usage.html#ssl-warnings\n",
      "  warnings.warn(\n"
     ]
    }
   ],
   "source": [
    "import requests\n",
    "\n",
    "url = \"https://gigachat.devices.sberbank.ru/api/v1/models\"\n",
    "\n",
    "payload={}\n",
    "headers = {\n",
    "  'Accept': 'application/json',\n",
    "  'Authorization': f'Bearer {ACCESS_TOKEN}'\n",
    "}\n",
    "\n",
    "response = requests.request(\"GET\", url, headers=headers, data=payload, verify=False)\n",
    "\n",
    "print(response.text)"
   ]
  },
  {
   "cell_type": "code",
   "execution_count": 23,
   "metadata": {},
   "outputs": [
    {
     "name": "stderr",
     "output_type": "stream",
     "text": [
      "/opt/homebrew/lib/python3.11/site-packages/urllib3/connectionpool.py:1056: InsecureRequestWarning: Unverified HTTPS request is being made to host 'gigachat.devices.sberbank.ru'. Adding certificate verification is strongly advised. See: https://urllib3.readthedocs.io/en/1.26.x/advanced-usage.html#ssl-warnings\n",
      "  warnings.warn(\n"
     ]
    },
    {
     "name": "stdout",
     "output_type": "stream",
     "text": [
      "{\"choices\":[{\"message\":{\"content\":\"Привет! Всё хорошо, спасибо за интерес. Чем я могу вам помочь?\",\"role\":\"assistant\"},\"index\":0,\"finish_reason\":\"stop\"}],\"created\":1714176184,\"model\":\"GigaChat:3.1.24.3\",\"object\":\"chat.completion\",\"usage\":{\"prompt_tokens\":16,\"completion_tokens\":18,\"total_tokens\":34,\"system_tokens\":204}}\n"
     ]
    }
   ],
   "source": [
    "import requests\n",
    "import json\n",
    "\n",
    "url = \"https://gigachat.devices.sberbank.ru/api/v1/chat/completions\"\n",
    "\n",
    "payload = json.dumps({\n",
    "  \"model\": \"GigaChat\",\n",
    "  \"messages\": [\n",
    "    {\n",
    "      \"role\": \"user\",\n",
    "      \"content\": \"Привет! Как дела?\"\n",
    "    }\n",
    "  ],\n",
    "  \"temperature\": 1,\n",
    "  \"top_p\": 0.1,\n",
    "  \"n\": 1,\n",
    "  \"stream\": False,\n",
    "  \"max_tokens\": 512,\n",
    "  \"repetition_penalty\": 1\n",
    "})\n",
    "headers = {\n",
    "  'Content-Type': 'application/json',\n",
    "  'Accept': 'application/json',\n",
    "  'Authorization': f'Bearer {ACCESS_TOKEN}'\n",
    "}\n",
    "\n",
    "response = requests.request(\"POST\", url, headers=headers, data=payload, verify=False)\n",
    "\n",
    "print(response.text)"
   ]
  },
  {
   "cell_type": "code",
   "execution_count": 24,
   "metadata": {},
   "outputs": [
    {
     "name": "stdout",
     "output_type": "stream",
     "text": [
      "{\"status\":402,\"message\":\"Payment Required\"}\n",
      "\n"
     ]
    },
    {
     "name": "stderr",
     "output_type": "stream",
     "text": [
      "/opt/homebrew/lib/python3.11/site-packages/urllib3/connectionpool.py:1056: InsecureRequestWarning: Unverified HTTPS request is being made to host 'gigachat.devices.sberbank.ru'. Adding certificate verification is strongly advised. See: https://urllib3.readthedocs.io/en/1.26.x/advanced-usage.html#ssl-warnings\n",
      "  warnings.warn(\n"
     ]
    }
   ],
   "source": [
    "import requests\n",
    "import json\n",
    "\n",
    "url = \"https://gigachat.devices.sberbank.ru/api/v1/embeddings\"\n",
    "\n",
    "payload = json.dumps({\n",
    "  \"model\": \"Embeddings\",\n",
    "  \"input\": [\n",
    "    \"Расскажи о современных технологиях\"\n",
    "  ]\n",
    "})\n",
    "headers = {\n",
    "  'Content-Type': 'application/json',\n",
    "  'Accept': 'application/json',\n",
    "  'Authorization': f'Bearer {ACCESS_TOKEN}'\n",
    "}\n",
    "\n",
    "response = requests.request(\"POST\", url, headers=headers, data=payload, verify=False)\n",
    "\n",
    "print(response.text)"
   ]
  },
  {
   "cell_type": "code",
   "execution_count": 25,
   "metadata": {},
   "outputs": [
    {
     "name": "stdout",
     "output_type": "stream",
     "text": [
      "Стоимость страховки на дом зависит от нескольких факторов:\n",
      "\n",
      "1. Тип и размер дома: Чем больше площадь дома и его стоимость, тем выше будет стоимость страховки.\n",
      "\n",
      "2. Местоположение: Если дом находится в районе с высоким уровнем преступности или стихийных бедствий (например, землетрясения), то это может повлиять на стоимость страховки.\n",
      "\n",
      "3. Возраст дома: Новые дома обычно имеют более низкий риск возникновения проблем, поэтому они могут быть застрахованы по более низкой цене.\n",
      "\n",
      "4. Состояние дома: Если дом находится в хорошем состоянии и регулярно обслуживается, то это может снизить риск возникновения проблем и, следовательно, уменьшить стоимость страховки.\n",
      "\n",
      "5. Тип страховки: Различные типы страхования могут иметь разные условия и цены. Например, страхование от пожара может быть дешевле, чем комплексное страхование от всех возможных рисков.\n",
      "\n",
      "6. История страхования: Если у вас уже были проблемы со страховкой (например, вы не выплатили страховые взносы), то это может повлиять на стоимость новой страховки.\n",
      "\n",
      "7. Дополнительные услуги: Некоторые страховые компании предлагают дополнительные услуги, такие как консультации по безопасности или помощь при ремонте, которые могут увеличить стоимость страховки.\n"
     ]
    }
   ],
   "source": [
    "from gigachat import GigaChat\n",
    "\n",
    "# Используйте токен, полученный в личном кабинете из поля Авторизационные данные\n",
    "with GigaChat(credentials=CLIENT_SECRET, verify_ssl_certs=False, scope=\"GIGACHAT_API_PERS\") as giga:\n",
    "    response = giga.chat(\"Какие факторы влияют на стоимость страховки на дом?\")\n",
    "    print(response.choices[0].message.content)"
   ]
  },
  {
   "cell_type": "code",
   "execution_count": null,
   "metadata": {},
   "outputs": [],
   "source": []
  }
 ],
 "metadata": {
  "kernelspec": {
   "display_name": "Python 3",
   "language": "python",
   "name": "python3"
  },
  "language_info": {
   "codemirror_mode": {
    "name": "ipython",
    "version": 3
   },
   "file_extension": ".py",
   "mimetype": "text/x-python",
   "name": "python",
   "nbconvert_exporter": "python",
   "pygments_lexer": "ipython3",
   "version": "3.11.5"
  }
 },
 "nbformat": 4,
 "nbformat_minor": 2
}
