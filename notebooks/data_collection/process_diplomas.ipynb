{
 "cells": [
  {
   "cell_type": "markdown",
   "metadata": {},
   "source": [
    "### Imports"
   ]
  },
  {
   "cell_type": "code",
   "execution_count": 1,
   "metadata": {},
   "outputs": [
    {
     "name": "stderr",
     "output_type": "stream",
     "text": [
      "None of PyTorch, TensorFlow >= 2.0, or Flax have been found. Models won't be available and only tokenizers, configuration and file/data utilities can be used.\n"
     ]
    }
   ],
   "source": [
    "import sys\n",
    "sys.path.append(\"..\")\n",
    "from definitions import *"
   ]
  },
  {
   "cell_type": "markdown",
   "metadata": {},
   "source": [
    "### Process diplomas"
   ]
  },
  {
   "cell_type": "code",
   "execution_count": 2,
   "metadata": {},
   "outputs": [],
   "source": [
    "RAW_DIPLOMAS_DIR_PATH = ARTIFACTS_DIR_PATH.joinpath(\"parsing/diplomas/spbu/processed_ext_doc/\")\n",
    "PROCESSED_DIPLOMAS_DIR_PATH = ARTIFACTS_DIR_PATH.joinpath(\"parsing/diplomas/spbu/processed_ext_doc_only_russian_diplomas_stupid_filter/\")\n",
    "PROCESSED_DIPLOMAS_DIR_PATH.mkdir(exist_ok=True, parents=True)"
   ]
  },
  {
   "cell_type": "code",
   "execution_count": 3,
   "metadata": {},
   "outputs": [
    {
     "name": "stdout",
     "output_type": "stream",
     "text": [
      "Санкт-Пете\n",
      "          \n",
      "Санкт-Пете\n",
      "Санкт-Пете\n",
      "Санкт-Пете\n",
      "Санкт-Пете\n",
      "Санкт-Пете\n",
      "Санкт-Пете\n",
      "ФГОУ ВО «С\n",
      "Санкт-Пете\n",
      "Санкт-Пете\n",
      "Санкт-Пете\n",
      "САНКТ-ПЕТЕ\n",
      "Санкт-Пете\n",
      "Санкт-Пете\n",
      "Санкт-Пете\n",
      "Санкт-Пете\n",
      "Санкт-Пете\n",
      "Санкт-Пете\n",
      "Санкт-Пете\n",
      "\n",
      "САНКТ-ПЕТ\n",
      "Санкт-Пете\n",
      "Санкт-Пете\n",
      "23 143\n"
     ]
    }
   ],
   "source": [
    "num_ok, num_all = 0, 0\n",
    "for file in RAW_DIPLOMAS_DIR_PATH.glob(\"*.txt\"):\n",
    "    with open(file, \"r\") as f:\n",
    "        text = f.read()\n",
    "    if \"выпускная квалификационная работа\" in text.lower() and \"отзыв\" not in text.lower():\n",
    "        with open(PROCESSED_DIPLOMAS_DIR_PATH.joinpath(f\"{file.stem}.txt\"), \"w\") as f:\n",
    "            f.write(text)\n",
    "        print(text[:10])\n",
    "        num_ok += 1\n",
    "    num_all += 1\n",
    "print(num_ok, num_all)"
   ]
  }
 ],
 "metadata": {
  "kernelspec": {
   "display_name": "Python 3",
   "language": "python",
   "name": "python3"
  },
  "language_info": {
   "codemirror_mode": {
    "name": "ipython",
    "version": 3
   },
   "file_extension": ".py",
   "mimetype": "text/x-python",
   "name": "python",
   "nbconvert_exporter": "python",
   "pygments_lexer": "ipython3",
   "version": "3.11.5"
  }
 },
 "nbformat": 4,
 "nbformat_minor": 2
}
